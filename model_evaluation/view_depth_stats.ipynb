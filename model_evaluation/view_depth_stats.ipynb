{
 "cells": [
  {
   "cell_type": "code",
   "execution_count": null,
   "metadata": {},
   "outputs": [],
   "source": [
    "import pandas as pd\n",
    "import matplotlib.pyplot as plt\n",
    "import numpy as np"
   ]
  },
  {
   "cell_type": "code",
   "execution_count": null,
   "metadata": {},
   "outputs": [],
   "source": [
    "csv_path = '/mnt/sandbox1/alex.li/depth_stats/depth_stats.csv'\n",
    "df = pd.read_csv(csv_path)"
   ]
  },
  {
   "cell_type": "code",
   "execution_count": null,
   "metadata": {},
   "outputs": [],
   "source": [
    "camera = df['camera']\n",
    "isfront = df['camera'].isin(['T01','T02', 'T03'])\n"
   ]
  },
  {
   "cell_type": "code",
   "execution_count": null,
   "metadata": {},
   "outputs": [],
   "source": [
    "def plot(instance_pixels, instance_depth):\n",
    "    fig, ax = plt.subplots()\n",
    "    pixel_bins = [32,64,128,256,512,1024,2048]\n",
    "    # pixel_bins = list(range(0, 150, 30))\n",
    "    hist, xbins, ybins, im  = plt.hist2d(instance_pixels, instance_depth * 100, bins=[pixel_bins,[0,8,16,24,32,40]])\n",
    "    plt.xlabel('n_pixels_per_instance')\n",
    "    plt.ylabel('average depth of instance')\n",
    "    plt.colorbar()\n",
    "    plt.show()\n",
    "plot(df['total'], df['depth'])"
   ]
  },
  {
   "cell_type": "code",
   "execution_count": null,
   "metadata": {},
   "outputs": [],
   "source": [
    "isrear = df['camera'].isin(['T09','T10', 'T11'])\n",
    "plot(df[isrear]['total'], df[isrear]['depth'])"
   ]
  },
  {
   "cell_type": "code",
   "execution_count": null,
   "metadata": {},
   "outputs": [],
   "source": [
    "isfront = df['camera'].isin(['T01','T02', 'T03'])\n",
    "plot(df[isfront]['total'], df[isfront]['depth'])"
   ]
  },
  {
   "cell_type": "code",
   "execution_count": null,
   "metadata": {},
   "outputs": [],
   "source": []
  }
 ],
 "metadata": {
  "kernelspec": {
   "display_name": "cvml",
   "language": "python",
   "name": "python3"
  },
  "language_info": {
   "codemirror_mode": {
    "name": "ipython",
    "version": 3
   },
   "file_extension": ".py",
   "mimetype": "text/x-python",
   "name": "python",
   "nbconvert_exporter": "python",
   "pygments_lexer": "ipython3",
   "version": "3.8.0"
  }
 },
 "nbformat": 4,
 "nbformat_minor": 2
}
