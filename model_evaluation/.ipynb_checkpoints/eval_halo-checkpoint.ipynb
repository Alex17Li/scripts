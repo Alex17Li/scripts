{
 "cells": [
  {
   "cell_type": "code",
   "execution_count": 297,
   "metadata": {},
   "outputs": [],
   "source": [
    "%matplotlib inline\n",
    "\n",
    "import matplotlib\n",
    "import numpy as np\n",
    "import matplotlib.pyplot as plt\n",
    "from dl.dataset.datamodes.npz import rectifiedrgb, debayeredrgb\n",
    "from dl.config.label_map_helper import LabelMapHelper, LabelConversion\n",
    "from collections import defaultdict\n",
    "import pandas as pd\n",
    "import os\n",
    "from pathlib import Path\n",
    "import json\n",
    "from tqdm import tqdm\n",
    "import seaborn"
   ]
  },
  {
   "cell_type": "code",
   "execution_count": 298,
   "metadata": {},
   "outputs": [],
   "source": [
    "model_output_dirs = [\n",
    "    Path('/mnt/sandbox1/alex.li/introspection/25079_alleyson'),\n",
    "    Path('/mnt/sandbox1/alex.li/introspection/25080_alleyson'),\n",
    "]"
   ]
  },
  {
   "cell_type": "code",
   "execution_count": 299,
   "metadata": {},
   "outputs": [
    {
     "name": "stdout",
     "output_type": "stream",
     "text": [
      "/mnt/sandbox1/alex.li/introspection/25079_alleyson/halo_rgb_stereo_test_v6_2_alleysson/results.txt\n",
      "\n",
      "General metrics. Note TPs and FNs are based on gt_classes ['Non-driveable', 'Trees_Weeds', 'Humans', 'Vehicles']                 and pred_classes ['Non-driveable', 'Trees_Weeds', 'Humans', 'Vehicles']:\n",
      "true_positive: 0\n",
      "true_negative: 42258\n",
      "false_positive: 17987\n",
      "false_negative: 0\n",
      "precision_image: 0.0\n",
      "recall_image: nan\n",
      "f1_image: 0.0\n",
      "productivity_image: 0.7014358038011453\n",
      "\n",
      "Strict metrics on humans:\n",
      "human_true_positive: 0\n",
      "human_true_negative: 49062\n",
      "human_false_positive: 11183\n",
      "human_false_negative: 0\n",
      "human_precision_image: 0.0\n",
      "human_recall_image: nan\n",
      "human_f1_image: 0.0\n",
      "human_productivity_image: 0.8143746368993278\n",
      "\n",
      "Strict metrics on vehicles:\n",
      "vehicle_true_positive: 0\n",
      "vehicle_true_negative: 56579\n",
      "vehicle_false_positive: 3666\n",
      "vehicle_false_negative: 0\n",
      "vehicle_precision_image: 0.0\n",
      "vehicle_recall_image: nan\n",
      "vehicle_f1_image: 0.0\n",
      "vehicle_productivity_image: 0.9391484770520375\n",
      "\n",
      "General metrics per operation time and camera pod:\n",
      "Some nan or bad values found in operation_time or camera_location columns. Below results are not accurate.\n",
      "day_fp: 13460\n",
      "night_fp: 4527\n",
      "front_fp: 0\n",
      "rear_fp: 17987\n",
      "day_front_fp: 0\n",
      "day_rear_fp: 13460\n",
      "night_front_fp: 0\n",
      "night_rear_fp: 4527\n",
      "\n",
      "/mnt/sandbox1/alex.li/introspection/25079_alleyson/halo_humans_on_path_test_v6_2_8_mainline_alleysson/results.txt\n",
      "\n",
      "General metrics. Note TPs and FNs are based on gt_classes ['Humans']                 and pred_classes ['Non-driveable', 'Trees_Weeds', 'Humans', 'Vehicles']:\n",
      "true_positive: 7709\n",
      "true_negative: 3457\n",
      "false_positive: 290\n",
      "false_negative: 87\n",
      "precision_image: 0.9637454681835229\n",
      "recall_image: 0.9888404309902514\n",
      "f1_image: 0.9761316872427983\n",
      "productivity_image: 0.9226047504670403\n",
      "\n",
      "Strict metrics on humans:\n",
      "human_true_positive: 7539\n",
      "human_true_negative: 3694\n",
      "human_false_positive: 53\n",
      "human_false_negative: 257\n",
      "human_precision_image: 0.9930189673340358\n",
      "human_recall_image: 0.9670343766033863\n",
      "human_f1_image: 0.9798544320249545\n",
      "human_productivity_image: 0.9858553509474246\n",
      "\n",
      "General metrics per operation time and camera pod:\n",
      "Some nan or bad values found in operation_time or camera_location columns. Below results are not accurate.\n",
      "day_safety: 0.9879941434846267\n",
      "night_safety: 0.994824016563147\n",
      "front_safety: nan\n",
      "rear_safety: 0.9888404309902514\n",
      "day_front_safety: nan\n",
      "day_rear_safety: 0.9879941434846267\n",
      "night_front_safety: nan\n",
      "night_rear_safety: 0.994824016563147\n",
      "\n",
      "/mnt/sandbox1/alex.li/introspection/25080_alleyson/halo_humans_on_path_test_v6_2_8_mainline/results.txt\n",
      "\n",
      "General metrics. Note TPs and FNs are based on gt_classes ['Humans']                 and pred_classes ['Non-driveable', 'Trees_Weeds', 'Humans', 'Vehicles']:\n",
      "true_positive: 7946\n",
      "true_negative: 3605\n",
      "false_positive: 244\n",
      "false_negative: 89\n",
      "precision_image: 0.9702075702075702\n",
      "recall_image: 0.9889234598630989\n",
      "f1_image: 0.9794761171032358\n",
      "productivity_image: 0.9366069108859444\n",
      "\n",
      "Strict metrics on humans:\n",
      "human_true_positive: 7773\n",
      "human_true_negative: 3795\n",
      "human_false_positive: 54\n",
      "human_false_negative: 262\n",
      "human_precision_image: 0.9931008049060943\n",
      "human_recall_image: 0.9673926571250778\n",
      "human_f1_image: 0.9800781742529315\n",
      "human_productivity_image: 0.9859703819173812\n",
      "\n",
      "General metrics per operation time and camera pod:\n",
      "Some nan or bad values found in operation_time or camera_location columns. Below results are not accurate.\n",
      "day_safety: 0.987993857322351\n",
      "night_safety: 0.9965596330275229\n",
      "front_safety: nan\n",
      "rear_safety: 0.9889234598630989\n",
      "day_front_safety: nan\n",
      "day_rear_safety: 0.987993857322351\n",
      "night_front_safety: nan\n",
      "night_rear_safety: 0.9965596330275229\n",
      "\n",
      "/mnt/sandbox1/alex.li/introspection/25080_alleyson/halo_rgb_stereo_test_v6_2/results.txt\n",
      "\n",
      "General metrics. Note TPs and FNs are based on gt_classes ['Non-driveable', 'Trees_Weeds', 'Humans', 'Vehicles']                 and pred_classes ['Non-driveable', 'Trees_Weeds', 'Humans', 'Vehicles']:\n",
      "true_positive: 0\n",
      "true_negative: 46324\n",
      "false_positive: 18728\n",
      "false_negative: 0\n",
      "precision_image: 0.0\n",
      "recall_image: nan\n",
      "f1_image: 0.0\n",
      "productivity_image: 0.7121072372870934\n",
      "\n",
      "Strict metrics on humans:\n",
      "human_true_positive: 0\n",
      "human_true_negative: 52998\n",
      "human_false_positive: 12054\n",
      "human_false_negative: 0\n",
      "human_precision_image: 0.0\n",
      "human_recall_image: nan\n",
      "human_f1_image: 0.0\n",
      "human_productivity_image: 0.8147020844862571\n",
      "\n",
      "Strict metrics on vehicles:\n",
      "vehicle_true_positive: 0\n",
      "vehicle_true_negative: 61163\n",
      "vehicle_false_positive: 3889\n",
      "vehicle_false_negative: 0\n",
      "vehicle_precision_image: 0.0\n",
      "vehicle_recall_image: nan\n",
      "vehicle_f1_image: 0.0\n",
      "vehicle_productivity_image: 0.940217057123532\n",
      "\n",
      "General metrics per operation time and camera pod:\n",
      "Some nan or bad values found in operation_time or camera_location columns. Below results are not accurate.\n",
      "day_fp: 13863\n",
      "night_fp: 4865\n",
      "front_fp: 0\n",
      "rear_fp: 18728\n",
      "day_front_fp: 0\n",
      "day_rear_fp: 13863\n",
      "night_front_fp: 0\n",
      "night_rear_fp: 4865\n",
      "\n"
     ]
    }
   ],
   "source": [
    "out_csvs = defaultdict(lambda:{})\n",
    "for model_dir in model_output_dirs:\n",
    "    dsets = os.listdir(model_dir)\n",
    "    for dset in dsets:\n",
    "        path = model_dir / dset / 'results.txt'\n",
    "        if os.path.exists(path):\n",
    "            print(path)\n",
    "            with open(path, 'r') as f:\n",
    "                print(''.join(f.readlines()))\n",
    "        if os.path.exists(model_dir / dset / 'output.csv'):\n",
    "            out_csvs[model_dir.name][dset] = pd.read_csv(model_dir / dset / 'output.csv')"
   ]
  },
  {
   "cell_type": "code",
   "execution_count": 300,
   "metadata": {},
   "outputs": [
    {
     "name": "stdout",
     "output_type": "stream",
     "text": [
      "{'25079_alleyson': ['halo_rgb_stereo_test_v6_2_alleysson', 'halo_humans_on_path_test_v6_2_8_mainline_alleysson'], '25080_alleyson': ['halo_humans_on_path_test_v6_2_8_mainline', 'halo_rgb_stereo_test_v6_2']}\n"
     ]
    }
   ],
   "source": [
    "print({k: list(v.keys()) for (k, v) in out_csvs.items()})"
   ]
  },
  {
   "cell_type": "code",
   "execution_count": 262,
   "metadata": {},
   "outputs": [],
   "source": [
    "def get_metrics(df):\n",
    "    tp = sum(df['tp'])\n",
    "    fp = sum(df['human_state'] == 'false_positive')\n",
    "\n",
    "    fn = sum(df['fn'])\n",
    "    tn = sum(df['human_state'] == 'true_negative')\n",
    "    tp_thresh = sum(df['human_state'] == 'true_positive')\n",
    "    fn_thresh = sum(df['human_state'] == 'false_negative')\n",
    "\n",
    "    if tp + fn < 20:\n",
    "        # not enough data to give a meaningful number\n",
    "        recall = float('nan')\n",
    "    else:\n",
    "        recall = tp / (tp + fn)\n",
    "    if tp_thresh + fn_thresh < 20:\n",
    "        recall_thresh = float('nan')\n",
    "    else:\n",
    "        recall_thresh = tp_thresh / (tp_thresh + fn_thresh)\n",
    "    if fp + tn < 20:\n",
    "        prod = float('nan')\n",
    "    else:\n",
    "        prod = tn / (fp + tn)\n",
    "    return {'recall': recall, 'recall_thresh': recall_thresh, 'n': len(df), 'productivity': prod}\n"
   ]
  },
  {
   "cell_type": "code",
   "execution_count": 263,
   "metadata": {},
   "outputs": [],
   "source": [
    "def pairwise(a):\n",
    "    it = iter(a)\n",
    "    last = next(it)\n",
    "    for cur in it:\n",
    "        yield (last, cur)\n",
    "        last = cur"
   ]
  },
  {
   "cell_type": "code",
   "execution_count": 264,
   "metadata": {},
   "outputs": [],
   "source": [
    "def get_metrics_plot(df):\n",
    "    df['tp'] = (df['n_pred_human_pixels'] >= df['min_pixels_threshold'])\n",
    "    df['fn'] = ((df['n_gt_human_pixels'] >= df['min_pixels_threshold']) & \n",
    "                  (df['n_pred_human_pixels'] < df['min_pixels_threshold']))\n",
    "    depth_barriers = [0, .2, .4, 1.01]\n",
    "    size_barriers = [72, 200, 400, 99999]\n",
    "    recall = [[0 for _ in range(len(size_barriers) - 1)] for _ in range(len(depth_barriers) - 1)]\n",
    "    all_metrics = []\n",
    "    for depth_ind, (depth_lo, depth_hi) in enumerate(pairwise(depth_barriers)):\n",
    "        for size_ind, (size_lo, size_hi) in enumerate(pairwise(size_barriers)):\n",
    "            sub_df = df[\n",
    "                (df['gt_human_depth'] >= depth_lo) & \n",
    "                (df['gt_human_depth'] < depth_hi) &         \n",
    "                (df['n_gt_human_pixels'] >= size_lo) &\n",
    "                (df['n_gt_human_pixels'] < size_hi)]\n",
    "            all_metrics.append({**get_metrics(sub_df), \n",
    "                                'gt_human_depth': f\"{depth_ind}_{int(100*depth_lo)}-{int(100*depth_hi)}\",\n",
    "                                'n_gt_human_pixels': f\"{size_ind}_{size_lo}-{size_hi}\"\n",
    "                               })\n",
    "    all_metrics = pd.DataFrame(all_metrics)\n",
    "    return all_metrics\n"
   ]
  },
  {
   "cell_type": "code",
   "execution_count": 265,
   "metadata": {},
   "outputs": [],
   "source": [
    "df_1 = out_csvs['25079_alleyson']['halo_humans_on_path_test_v6_2_8_mainline_alleysson']\n",
    "df_2 = out_csvs['25080_alleyson']['halo_humans_on_path_test_v6_2_8_mainline']\n",
    "df_1 = df_1[df_1['unique_id'].isin(df_2['unique_id'])].copy()\n",
    "df_2 = df_2[df_2['unique_id'].isin(df_1['unique_id'])].copy()"
   ]
  },
  {
   "cell_type": "code",
   "execution_count": 266,
   "metadata": {},
   "outputs": [],
   "source": [
    "def get_heatmap_ax(df):\n",
    "    metrics = get_metrics_plot(df)\n",
    "    metrics = metrics.pivot(index='gt_human_depth', columns='n_gt_human_pixels', values='recall')\n",
    "    return seaborn.heatmap(metrics, annot=True, fmt=\".3f\")"
   ]
  },
  {
   "cell_type": "code",
   "execution_count": 267,
   "metadata": {},
   "outputs": [
    {
     "name": "stdout",
     "output_type": "stream",
     "text": [
      "ALLEYSON\n"
     ]
    },
    {
     "data": {
      "text/plain": [
       "{'recall': 0.8669235594587329, 'recall_thresh': 0.9671379942393297, 'n': 11334}"
      ]
     },
     "execution_count": 267,
     "metadata": {},
     "output_type": "execute_result"
    },
    {
     "data": {
      "image/png": "[encoded data removed]",
      "text/plain": [
       "<Figure size 640x480 with 2 Axes>"
      ]
     },
     "metadata": {},
     "output_type": "display_data"
    }
   ],
   "source": [
    "print(\"ALLEYSON RECALL METRICS\")\n",
    "get_heatmap_ax(df_1)\n",
    "get_metrics(df_1)"
   ]
  },
  {
   "cell_type": "code",
   "execution_count": 269,
   "metadata": {},
   "outputs": [
    {
     "name": "stdout",
     "output_type": "stream",
     "text": [
      "NO ALLEYSON RECALL METRICS\n"
     ]
    },
    {
     "data": {
      "text/plain": [
       "{'recall': 0.8646832153418765, 'recall_thresh': 0.9672970843183609, 'n': 11334}"
      ]
     },
     "execution_count": 269,
     "metadata": {},
     "output_type": "execute_result"
    },
    {
     "data": {
      "image/png": "[encoded data removed]",
      "text/plain": [
       "<Figure size 640x480 with 2 Axes>"
      ]
     },
     "metadata": {},
     "output_type": "display_data"
    }
   ],
   "source": [
    "print(\"NO ALLEYSON RECALL METRICS\")\n",
    "get_heatmap_ax(df_2)\n",
    "get_metrics(df_2)"
   ]
  },
  {
   "cell_type": "code",
   "execution_count": 296,
   "metadata": {},
   "outputs": [
    {
     "name": "stdout",
     "output_type": "stream",
     "text": [
      "60245\n",
      "59170\n"
     ]
    }
   ],
   "source": [
    "df_1 = out_csvs['25079_alleyson']['halo_rgb_stereo_test_v6_2_alleysson']\n",
    "df_2 = out_csvs['25080_alleyson']['halo_rgb_stereo_test_v6_2']\n",
    "df_1 = df_1[df_1['unique_id'].isin(df_2['unique_id'])].copy()\n",
    "df_2 = df_2[df_2['unique_id'].isin(df_1['unique_id'])].copy()"
   ]
  },
  {
   "cell_type": "code",
   "execution_count": 273,
   "metadata": {},
   "outputs": [
    {
     "ename": "KeyError",
     "evalue": "'halo_rgb_stereo_test_v6_2_alleysson'",
     "output_type": "error",
     "traceback": [
      "\u001b[0;31m---------------------------------------------------------------------------\u001b[0m",
      "\u001b[0;31mKeyError\u001b[0m                                  Traceback (most recent call last)",
      "Cell \u001b[0;32mIn[273], line 1\u001b[0m\n\u001b[0;32m----> 1\u001b[0m df_1 \u001b[38;5;241m=\u001b[39m \u001b[43mout_csvs\u001b[49m\u001b[43m[\u001b[49m\u001b[38;5;124;43m'\u001b[39;49m\u001b[38;5;124;43m25079_alleyson\u001b[39;49m\u001b[38;5;124;43m'\u001b[39;49m\u001b[43m]\u001b[49m\u001b[43m[\u001b[49m\u001b[38;5;124;43m'\u001b[39;49m\u001b[38;5;124;43mhalo_rgb_stereo_test_v6_2_alleysson\u001b[39;49m\u001b[38;5;124;43m'\u001b[39;49m\u001b[43m]\u001b[49m\n",
      "\u001b[0;31mKeyError\u001b[0m: 'halo_rgb_stereo_test_v6_2_alleysson'"
     ]
    }
   ],
   "source": [
    "df_1 = out_csvs['25079_alleyson']['halo_rgb_stereo_test_v6_2_alleysson']"
   ]
  },
  {
   "cell_type": "code",
   "execution_count": null,
   "metadata": {},
   "outputs": [],
   "source": [
    "# MAINLINE RECALL 0.9889234598630989\n",
    "# MAINLINE ALLEYSON RECALL 0.9888404309902514\n",
    "\n",
    "# STEREO TEST PRODUCITIVITY 0.7121072372870934\n",
    "# STEREO TEST ALLEYSON PRODUCTIVITY 0.7014358038011453"
   ]
  },
  {
   "cell_type": "code",
   "execution_count": null,
   "metadata": {},
   "outputs": [],
   "source": []
  },
  {
   "cell_type": "code",
   "execution_count": null,
   "metadata": {},
   "outputs": [],
   "source": [
    "out_df = pd.read_csv(output_dir_prod + \"/output.csv\")"
   ]
  },
  {
   "cell_type": "code",
   "execution_count": null,
   "metadata": {},
   "outputs": [],
   "source": [
    "prod_dset = '/data2/jupiter/datasets/halo_rgb_stereo_test_v6_0/'\n",
    "master_df = pd.read_csv(prod_dset + \"master_annotations.csv\")"
   ]
  },
  {
   "cell_type": "code",
   "execution_count": null,
   "metadata": {},
   "outputs": [],
   "source": [
    "fp_df = out_df[out_df['state'] == 'false_positive']\n",
    "row = master_df[master_df['id'] == '64dea8faae8b0f37b46e05f7'].iloc[0]\n",
    "# /mnt/sandbox1/alex.li/results/pmehta_2023_val_bestmodel/halo_rgb_stereo_test_v6_0/human_false_positive/64de93970bf522829d4cd6d8_T13_T15.png"
   ]
  },
  {
   "cell_type": "code",
   "execution_count": null,
   "metadata": {},
   "outputs": [],
   "source": [
    "rec_artifacts = rec.get_artifacts(row)\n",
    "label_converter = LabelConversion(label_map_helper)\n",
    "rec_label = label_converter.convert_label_for_driveable_terrain(rec_artifacts['label'], json.loads(row['label_map']))\n"
   ]
  },
  {
   "cell_type": "code",
   "execution_count": null,
   "metadata": {},
   "outputs": [],
   "source": [
    "import os\n",
    "import random\n",
    "dataset_path = '/mnt/sandbox1/alex.li/introspection/pmehta_2023_val_bestmodel/halo_rgb_stereo_test_v6_0/'\n",
    "files = os.listdir(dataset_path + 'false_positive/')\n",
    "os.mkdir(dataset_path + 'fp_subset_2/')\n",
    "random.shuffle(files)\n",
    "for f in files[:50]:\n",
    "    os.symlink(dataset_path + 'false_positive/' + f, dataset_path + 'fp_subset_2/' + f)"
   ]
  },
  {
   "cell_type": "code",
   "execution_count": null,
   "metadata": {},
   "outputs": [],
   "source": [
    "import os\n",
    "import random\n",
    "dataset_path = '/mnt/sandbox1/alex.li/introspection/pmehta_2023_val_bestmodel/halo_humans_on_path_v3/'\n",
    "files = os.listdir(dataset_path + 'human_false_negative/')\n",
    "os.mkdir(dataset_path + 'fn_subset/')\n",
    "random.shuffle(files)\n",
    "for f in files[:50]:\n",
    "    os.symlink(dataset_path + 'human_false_negative/' + f, dataset_path + 'fn_subset/' + f)"
   ]
  },
  {
   "cell_type": "code",
   "execution_count": null,
   "metadata": {},
   "outputs": [],
   "source": [
    "label_is_cutoff = []\n",
    "label_is_humanonly = []\n",
    "label_file = \"/home/alex.li/git/JupiterCVML/europa/base/src/europa/dl/config/label_maps/eight_class_train_dust_light_as_sky_birds_as_driveable.csv\"\n",
    "label_map_helper = LabelMapHelper(label_file)\n",
    "rec = rectifiedrgb.RectifiedRGBNPZ(prod_dset)\n",
    "deb = debayeredrgb.DebayeredRGBNPZ(prod_dset)\n",
    "label_converter = LabelConversion(label_map_helper)\n",
    "\n",
    "for _, row in tqdm(master_df.iterrows(), total=len(master_df)):\n",
    "    rec_artifacts = rec.get_artifacts(row)\n",
    "    rec_label = label_converter.convert_label_for_driveable_terrain(rec_artifacts['label'], json.loads(row['label_map']))\n",
    "\n",
    "    # for id in tqdm(master_df['id']):\n",
    "    #     row = master_df[master_df['id'] == id].iloc[0]\n",
    "    # deb_artifacts = deb.get_artifacts(row)\n",
    "    # deb_label = label_converter.convert_label_for_driveable_terrain(deb_artifacts['label'], json.loads(row['label_map']))\n",
    "    # rec_human = np.sum(rec_label == 5)\n",
    "    # center_human = np.sum(rec_label[15:-15,15:-15] == 5)\n",
    "    # edge_human = rec_human - center_human\n",
    "    # deb_human = np.sum(deb_label == 5)\n",
    "    # # Human is on edge only and more present in the debayered image\n",
    "    # if edge_human > center_human and deb_human > rec_human * 8:\n",
    "    #     #occluded human\n",
    "    #     label_is_cutoff.append(True)\n",
    "    # else:\n",
    "    #     label_is_cutoff.append(False)\n",
    "    label_is_humanonly.append(set(np.unique(rec_label)) <= set({5, 255}))"
   ]
  },
  {
   "cell_type": "code",
   "execution_count": null,
   "metadata": {},
   "outputs": [],
   "source": [
    "sum(label_is_humanonly)"
   ]
  },
  {
   "cell_type": "code",
   "execution_count": null,
   "metadata": {},
   "outputs": [],
   "source": [
    "master_df_full_label = master_df[~np.array(label_is_humanonly)]\n",
    "master_df_full_label.to_csv(prod_dset + \"master_annotations_full_label.csv\")"
   ]
  },
  {
   "cell_type": "code",
   "execution_count": null,
   "metadata": {},
   "outputs": [],
   "source": [
    "master_df_full_label = pd.read_csv(prod_dset + \"master_annotations_full_label.csv\")"
   ]
  },
  {
   "cell_type": "code",
   "execution_count": null,
   "metadata": {},
   "outputs": [],
   "source": [
    "all_uid = master_df['unique_id']\n",
    "other_uid = master_df_full_label['unique_id']\n",
    "diff_id = set(all_uid) - set(other_uid)"
   ]
  },
  {
   "cell_type": "code",
   "execution_count": null,
   "metadata": {},
   "outputs": [],
   "source": [
    "humanonly_df = master_df[master_df['unique_id'].isin(diff_id)]"
   ]
  },
  {
   "cell_type": "code",
   "execution_count": null,
   "metadata": {},
   "outputs": [],
   "source": [
    "len(humanonly_df)"
   ]
  },
  {
   "cell_type": "code",
   "execution_count": null,
   "metadata": {},
   "outputs": [],
   "source": [
    "me = pd.read_csv(prod_dset + \"master_annotations_human_label.csv\")\n",
    "pawan = pd.read_csv(\"/home/alex.li/logs/only_humans_labeled_v2.csv\")"
   ]
  },
  {
   "cell_type": "code",
   "execution_count": null,
   "metadata": {},
   "outputs": [],
   "source": [
    "me['annotation_pixelwise_0_labeled_objects']"
   ]
  },
  {
   "cell_type": "code",
   "execution_count": null,
   "metadata": {},
   "outputs": [],
   "source": [
    "pawan['id']"
   ]
  },
  {
   "cell_type": "code",
   "execution_count": null,
   "metadata": {},
   "outputs": [],
   "source": [
    "pawan_uid = pawan['id']\n",
    "me_uid = me['id']\n",
    "in_pawan_only = list(set(pawan_uid) - set(me_uid))\n",
    "in_me_only = list(set(me_uid) - set(pawan_uid))\n",
    "\n",
    "print(in_pawan_only[:4])\n",
    "print(in_me_only[:4])"
   ]
  },
  {
   "cell_type": "code",
   "execution_count": null,
   "metadata": {},
   "outputs": [],
   "source": [
    "print(len(in_me_only))\n",
    "print(len(in_pawan_only))"
   ]
  }
 ],
 "metadata": {
  "kernelspec": {
   "display_name": "Python 3 (ipykernel)",
   "language": "python",
   "name": "python3"
  },
  "language_info": {
   "codemirror_mode": {
    "name": "ipython",
    "version": 3
   },
   "file_extension": ".py",
   "mimetype": "text/x-python",
   "name": "python",
   "nbconvert_exporter": "python",
   "pygments_lexer": "ipython3",
   "version": "3.8.0"
  }
 },
 "nbformat": 4,
 "nbformat_minor": 2
}
