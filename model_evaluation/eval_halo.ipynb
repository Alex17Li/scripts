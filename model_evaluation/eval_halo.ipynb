{
 "cells": [
  {
   "cell_type": "code",
   "execution_count": null,
   "metadata": {},
   "outputs": [],
   "source": [
    "%matplotlib inline\n",
    "\n",
    "import matplotlib\n",
    "import numpy as np\n",
    "import matplotlib.pyplot as plt\n",
    "from dl.dataset.datamodes.npz import rectifiedrgb, debayeredrgb\n",
    "from dl.config.label_map_helper import LabelMapHelper, LabelConversion\n",
    "\n",
    "import pandas as pd\n",
    "import os\n",
    "from pathlib import Path\n",
    "import json\n",
    "from tqdm import tqdm"
   ]
  },
  {
   "cell_type": "code",
   "execution_count": null,
   "metadata": {},
   "outputs": [],
   "source": [
    "output_dir_prod = '/mnt/sandbox1/alex.li/introspection/pmehta_2023_val_bestmodel/halo_rgb_stereo_test_v6_0'\n",
    "output_dir_safety = '/mnt/sandbox1/alex.li/introspection/pmehta_2023_val_bestmodel/halo_humans_on_path_v3'\n",
    "# output_dir_prod = '/mnt/sandbox1/alex.li/results/17902/halo_rgb_stereo_test_v6_0'\n",
    "# output_dir_safety = '/mnt/sandbox1/alex.li/results/17902/halo_humans_on_path_v3'"
   ]
  },
  {
   "cell_type": "code",
   "execution_count": null,
   "metadata": {},
   "outputs": [],
   "source": [
    "with open(output_dir_prod + \"/results.txt\", 'r') as f:\n",
    "    print(''.join(f.readlines()))"
   ]
  },
  {
   "cell_type": "code",
   "execution_count": null,
   "metadata": {},
   "outputs": [],
   "source": [
    "with open(output_dir_safety + \"/results.txt\", 'r') as f:\n",
    "    print(''.join(f.readlines()))"
   ]
  },
  {
   "cell_type": "code",
   "execution_count": null,
   "metadata": {},
   "outputs": [],
   "source": [
    "out_df = pd.read_csv(output_dir_prod + \"/output.csv\")"
   ]
  },
  {
   "cell_type": "code",
   "execution_count": null,
   "metadata": {},
   "outputs": [],
   "source": [
    "prod_dset = '/data2/jupiter/datasets/halo_rgb_stereo_test_v6_0/'\n",
    "master_df = pd.read_csv(prod_dset + \"master_annotations.csv\")"
   ]
  },
  {
   "cell_type": "code",
   "execution_count": null,
   "metadata": {},
   "outputs": [],
   "source": [
    "fp_df = out_df[out_df['state'] == 'false_positive']\n",
    "row = master_df[master_df['id'] == '64dea8faae8b0f37b46e05f7'].iloc[0]\n",
    "# /mnt/sandbox1/alex.li/results/pmehta_2023_val_bestmodel/halo_rgb_stereo_test_v6_0/human_false_positive/64de93970bf522829d4cd6d8_T13_T15.png"
   ]
  },
  {
   "cell_type": "code",
   "execution_count": null,
   "metadata": {},
   "outputs": [],
   "source": [
    "rec_artifacts = rec.get_artifacts(row)\n",
    "label_converter = LabelConversion(label_map_helper)\n",
    "rec_label = label_converter.convert_label_for_driveable_terrain(rec_artifacts['label'], json.loads(row['label_map']))\n"
   ]
  },
  {
   "cell_type": "code",
   "execution_count": null,
   "metadata": {},
   "outputs": [],
   "source": [
    "import os\n",
    "import random\n",
    "dataset_path = '/mnt/sandbox1/alex.li/introspection/pmehta_2023_val_bestmodel/halo_rgb_stereo_test_v6_0/'\n",
    "files = os.listdir(dataset_path + 'false_positive/')\n",
    "os.mkdir(dataset_path + 'fp_subset_2/')\n",
    "random.shuffle(files)\n",
    "for f in files[:50]:\n",
    "    os.symlink(dataset_path + 'false_positive/' + f, dataset_path + 'fp_subset_2/' + f)"
   ]
  },
  {
   "cell_type": "code",
   "execution_count": null,
   "metadata": {},
   "outputs": [],
   "source": [
    "import os\n",
    "import random\n",
    "dataset_path = '/mnt/sandbox1/alex.li/introspection/pmehta_2023_val_bestmodel/halo_humans_on_path_v3/'\n",
    "files = os.listdir(dataset_path + 'human_false_negative/')\n",
    "os.mkdir(dataset_path + 'fn_subset/')\n",
    "random.shuffle(files)\n",
    "for f in files[:50]:\n",
    "    os.symlink(dataset_path + 'human_false_negative/' + f, dataset_path + 'fn_subset/' + f)"
   ]
  },
  {
   "cell_type": "code",
   "execution_count": null,
   "metadata": {},
   "outputs": [],
   "source": [
    "label_is_cutoff = []\n",
    "label_is_humanonly = []\n",
    "label_file = \"/home/alex.li/git/JupiterCVML/europa/base/src/europa/dl/config/label_maps/eight_class_train_dust_light_as_sky_birds_as_driveable.csv\"\n",
    "label_map_helper = LabelMapHelper(label_file)\n",
    "rec = rectifiedrgb.RectifiedRGBNPZ(prod_dset)\n",
    "deb = debayeredrgb.DebayeredRGBNPZ(prod_dset)\n",
    "label_converter = LabelConversion(label_map_helper)\n",
    "\n",
    "for _, row in tqdm(master_df.iterrows(), total=len(master_df)):\n",
    "    rec_artifacts = rec.get_artifacts(row)\n",
    "    rec_label = label_converter.convert_label_for_driveable_terrain(rec_artifacts['label'], json.loads(row['label_map']))\n",
    "\n",
    "    # for id in tqdm(master_df['id']):\n",
    "    #     row = master_df[master_df['id'] == id].iloc[0]\n",
    "    # deb_artifacts = deb.get_artifacts(row)\n",
    "    # deb_label = label_converter.convert_label_for_driveable_terrain(deb_artifacts['label'], json.loads(row['label_map']))\n",
    "    # rec_human = np.sum(rec_label == 5)\n",
    "    # center_human = np.sum(rec_label[15:-15,15:-15] == 5)\n",
    "    # edge_human = rec_human - center_human\n",
    "    # deb_human = np.sum(deb_label == 5)\n",
    "    # # Human is on edge only and more present in the debayered image\n",
    "    # if edge_human > center_human and deb_human > rec_human * 8:\n",
    "    #     #occluded human\n",
    "    #     label_is_cutoff.append(True)\n",
    "    # else:\n",
    "    #     label_is_cutoff.append(False)\n",
    "    label_is_humanonly.append(set(np.unique(rec_label)) <= set({5, 255}))"
   ]
  },
  {
   "cell_type": "code",
   "execution_count": null,
   "metadata": {},
   "outputs": [],
   "source": [
    "sum(label_is_humanonly)"
   ]
  },
  {
   "cell_type": "code",
   "execution_count": null,
   "metadata": {},
   "outputs": [],
   "source": [
    "master_df_full_label = master_df[~np.array(label_is_humanonly)]\n",
    "master_df_full_label.to_csv(prod_dset + \"master_annotations_full_label.csv\")"
   ]
  },
  {
   "cell_type": "code",
   "execution_count": null,
   "metadata": {},
   "outputs": [],
   "source": [
    "master_df_full_label = pd.read_csv(prod_dset + \"master_annotations_full_label.csv\")"
   ]
  },
  {
   "cell_type": "code",
   "execution_count": null,
   "metadata": {},
   "outputs": [],
   "source": [
    "all_uid = master_df['unique_id']\n",
    "other_uid = master_df_full_label['unique_id']\n",
    "diff_id = set(all_uid) - set(other_uid)"
   ]
  },
  {
   "cell_type": "code",
   "execution_count": null,
   "metadata": {},
   "outputs": [],
   "source": [
    "humanonly_df = master_df[master_df['unique_id'].isin(diff_id)]"
   ]
  },
  {
   "cell_type": "code",
   "execution_count": null,
   "metadata": {},
   "outputs": [],
   "source": [
    "len(humanonly_df)"
   ]
  },
  {
   "cell_type": "code",
   "execution_count": null,
   "metadata": {},
   "outputs": [],
   "source": [
    "me = pd.read_csv(prod_dset + \"master_annotations_human_label.csv\")\n",
    "pawan = pd.read_csv(\"/home/alex.li/logs/only_humans_labeled_v2.csv\")"
   ]
  },
  {
   "cell_type": "code",
   "execution_count": null,
   "metadata": {},
   "outputs": [],
   "source": [
    "me['annotation_pixelwise_0_labeled_objects']"
   ]
  },
  {
   "cell_type": "code",
   "execution_count": null,
   "metadata": {},
   "outputs": [],
   "source": [
    "pawan['id']"
   ]
  },
  {
   "cell_type": "code",
   "execution_count": null,
   "metadata": {},
   "outputs": [],
   "source": [
    "pawan_uid = pawan['id']\n",
    "me_uid = me['id']\n",
    "in_pawan_only = list(set(pawan_uid) - set(me_uid))\n",
    "in_me_only = list(set(me_uid) - set(pawan_uid))\n",
    "\n",
    "print(in_pawan_only[:4])\n",
    "print(in_me_only[:4])"
   ]
  },
  {
   "cell_type": "code",
   "execution_count": null,
   "metadata": {},
   "outputs": [],
   "source": [
    "print(len(in_me_only))\n",
    "print(len(in_pawan_only))"
   ]
  }
 ],
 "metadata": {
  "kernelspec": {
   "display_name": "cvml",
   "language": "python",
   "name": "python3"
  },
  "language_info": {
   "codemirror_mode": {
    "name": "ipython",
    "version": 3
   },
   "file_extension": ".py",
   "mimetype": "text/x-python",
   "name": "python",
   "nbconvert_exporter": "python",
   "pygments_lexer": "ipython3",
   "version": "3.8.0"
  }
 },
 "nbformat": 4,
 "nbformat_minor": 2
}
