{
 "cells": [
  {
   "cell_type": "code",
   "execution_count": 1,
   "metadata": {},
   "outputs": [],
   "source": [
    "%matplotlib inline\n",
    "\n",
    "import matplotlib\n",
    "import numpy as np\n",
    "import matplotlib.pyplot as plt\n",
    "from dl.dataset.datamodes.npz import rectifiedrgb, debayeredrgb\n",
    "from dl.config.label_map_helper import LabelMapHelper, LabelConversion\n",
    "\n",
    "import pandas as pd\n",
    "import os\n",
    "from pathlib import Path\n",
    "import json\n",
    "from tqdm import tqdm"
   ]
  },
  {
   "cell_type": "code",
   "execution_count": 2,
   "metadata": {},
   "outputs": [],
   "source": [
    "output_dir_prod = '/mnt/sandbox1/alex.li/introspection/pmehta_2023_val_bestmodel/halo_rgb_stereo_test_v6_0'\n",
    "output_dir_safety = '/mnt/sandbox1/alex.li/introspection/pmehta_2023_val_bestmodel/halo_humans_on_path_v3'\n",
    "# output_dir_prod = '/mnt/sandbox1/alex.li/results/17902/halo_rgb_stereo_test_v6_0'\n",
    "# output_dir_safety = '/mnt/sandbox1/alex.li/results/17902/halo_humans_on_path_v3'"
   ]
  },
  {
   "cell_type": "code",
   "execution_count": 3,
   "metadata": {},
   "outputs": [
    {
     "name": "stdout",
     "output_type": "stream",
     "text": [
      "\n",
      "General metrics. Note TPs and FNs are based on ['Non-driveable', 'Trees_Weeds', 'Humans', 'Vehicles']:\n",
      "true_positive: 10881\n",
      "true_negative: 31499\n",
      "false_positive: 855\n",
      "false_negative: 961\n",
      "precision_image: 0.9271472392638037\n",
      "recall_image: 0.918848167539267\n",
      "f1_image: 0.9229790482653321\n",
      "productivity_image: 0.9735735921369846\n",
      "\n",
      "General metrics on large objects:\n",
      "large_object_true_positive: 0\n",
      "large_object_false_negative: 0\n",
      "\n",
      "Strict metrics on humans:\n",
      "human_true_positive: 5454\n",
      "human_true_negative: 37694\n",
      "human_false_positive: 523\n",
      "human_false_negative: 525\n",
      "human_precision_image: 0.9124979086498243\n",
      "human_recall_image: 0.9121926743602609\n",
      "human_f1_image: 0.9123452659752426\n",
      "human_productivity_image: 0.9863149907109402\n",
      "\n",
      "Strict metrics on vehicles:\n",
      "vehicle_true_positive: 1612\n",
      "vehicle_true_negative: 41442\n",
      "vehicle_false_positive: 1033\n",
      "vehicle_false_negative: 109\n",
      "vehicle_precision_image: 0.6094517958412098\n",
      "vehicle_recall_image: 0.936664729808251\n",
      "vehicle_f1_image: 0.7384333486028402\n",
      "vehicle_productivity_image: 0.975679811653914\n",
      "\n",
      "General metrics per operation time and camera pod:\n",
      "day_safety: 0.9290527531767424\n",
      "night_safety: 0.8459422283356258\n",
      "front_safety: nan\n",
      "rear_safety: 0.918848167539267\n",
      "day_front_safety: nan\n",
      "day_rear_safety: 0.9290527531767424\n",
      "night_front_safety: nan\n",
      "night_rear_safety: 0.8459422283356258\n",
      "\n"
     ]
    }
   ],
   "source": [
    "with open(output_dir_prod + \"/results.txt\", 'r') as f:\n",
    "    print(''.join(f.readlines()))"
   ]
  },
  {
   "cell_type": "code",
   "execution_count": 4,
   "metadata": {},
   "outputs": [
    {
     "name": "stdout",
     "output_type": "stream",
     "text": [
      "\n",
      "General metrics. Note TPs and FNs are based on ['Humans']:\n",
      "true_positive: 5685\n",
      "true_negative: 4799\n",
      "false_positive: 555\n",
      "false_negative: 290\n",
      "precision_image: 0.9110576923076923\n",
      "recall_image: 0.9514644351464435\n",
      "f1_image: 0.9308227589029882\n",
      "productivity_image: 0.8963391856555846\n",
      "\n",
      "General metrics on large objects:\n",
      "large_object_true_positive: 166\n",
      "large_object_false_negative: 30\n",
      "\n",
      "Strict metrics on humans:\n",
      "human_true_positive: 5459\n",
      "human_true_negative: 5413\n",
      "human_false_positive: 137\n",
      "human_false_negative: 516\n",
      "human_precision_image: 0.975518227305218\n",
      "human_recall_image: 0.9136401673640168\n",
      "human_f1_image: 0.9435658110794227\n",
      "human_productivity_image: 0.9753153153153153\n",
      "\n",
      "General metrics per operation time and camera pod:\n",
      "day_safety: 0.9523724580806279\n",
      "night_safety: 0.9376693766937669\n",
      "front_safety: nan\n",
      "rear_safety: 0.9514644351464435\n",
      "day_front_safety: nan\n",
      "day_rear_safety: 0.9523724580806279\n",
      "night_front_safety: nan\n",
      "night_rear_safety: 0.9376693766937669\n",
      "\n"
     ]
    }
   ],
   "source": [
    "with open(output_dir_safety + \"/results.txt\", 'r') as f:\n",
    "    print(''.join(f.readlines()))"
   ]
  },
  {
   "cell_type": "code",
   "execution_count": 5,
   "metadata": {},
   "outputs": [],
   "source": [
    "out_df = pd.read_csv(output_dir_prod + \"/output.csv\")"
   ]
  },
  {
   "cell_type": "code",
   "execution_count": 6,
   "metadata": {},
   "outputs": [
    {
     "name": "stderr",
     "output_type": "stream",
     "text": [
      "/home/alex.li/miniconda3/envs/cvml/lib/python3.8/site-packages/IPython/core/interactiveshell.py:3508: DtypeWarning: Columns (0,1,22,79,90,91,92,93,94,96,97,99,100,101,102,103,104,105,106,107,117,150,154,155,160,171,174,196,197,199,200,201,202,227,228,235,236,250,253,254,255,256,257,258,259,260,261,262,263,264,265,266,267,268,269,271,275,276,277,280,284) have mixed types.Specify dtype option on import or set low_memory=False.\n",
      "  exec(code_obj, self.user_global_ns, self.user_ns)\n"
     ]
    }
   ],
   "source": [
    "prod_dset = '/data2/jupiter/datasets/halo_rgb_stereo_test_v6_0/'\n",
    "master_df = pd.read_csv(prod_dset + \"master_annotations.csv\")"
   ]
  },
  {
   "cell_type": "code",
   "execution_count": 7,
   "metadata": {},
   "outputs": [],
   "source": [
    "fp_df = out_df[out_df['state'] == 'false_positive']\n",
    "row = master_df[master_df['id'] == '64dea8faae8b0f37b46e05f7'].iloc[0]\n",
    "# /mnt/sandbox1/alex.li/results/pmehta_2023_val_bestmodel/halo_rgb_stereo_test_v6_0/human_false_positive/64de93970bf522829d4cd6d8_T13_T15.png"
   ]
  },
  {
   "cell_type": "code",
   "execution_count": 8,
   "metadata": {},
   "outputs": [
    {
     "ename": "NameError",
     "evalue": "name 'rec' is not defined",
     "output_type": "error",
     "traceback": [
      "\u001b[0;31m---------------------------------------------------------------------------\u001b[0m",
      "\u001b[0;31mNameError\u001b[0m                                 Traceback (most recent call last)",
      "Cell \u001b[0;32mIn[8], line 1\u001b[0m\n\u001b[0;32m----> 1\u001b[0m rec_artifacts \u001b[38;5;241m=\u001b[39m \u001b[43mrec\u001b[49m\u001b[38;5;241m.\u001b[39mget_artifacts(row)\n\u001b[1;32m      2\u001b[0m label_converter \u001b[38;5;241m=\u001b[39m LabelConversion(label_map_helper)\n\u001b[1;32m      3\u001b[0m rec_label \u001b[38;5;241m=\u001b[39m label_converter\u001b[38;5;241m.\u001b[39mconvert_label_for_driveable_terrain(rec_artifacts[\u001b[38;5;124m'\u001b[39m\u001b[38;5;124mlabel\u001b[39m\u001b[38;5;124m'\u001b[39m], json\u001b[38;5;241m.\u001b[39mloads(row[\u001b[38;5;124m'\u001b[39m\u001b[38;5;124mlabel_map\u001b[39m\u001b[38;5;124m'\u001b[39m]))\n",
      "\u001b[0;31mNameError\u001b[0m: name 'rec' is not defined"
     ]
    }
   ],
   "source": [
    "rec_artifacts = rec.get_artifacts(row)\n",
    "label_converter = LabelConversion(label_map_helper)\n",
    "rec_label = label_converter.convert_label_for_driveable_terrain(rec_artifacts['label'], json.loads(row['label_map']))\n"
   ]
  },
  {
   "cell_type": "code",
   "execution_count": null,
   "metadata": {},
   "outputs": [],
   "source": [
    "import os\n",
    "import random\n",
    "dataset_path = '/mnt/sandbox1/alex.li/introspection/pmehta_2023_val_bestmodel/halo_rgb_stereo_test_v6_0/'\n",
    "files = os.listdir(dataset_path + 'false_positive/')\n",
    "os.mkdir(dataset_path + 'fp_subset_2/')\n",
    "random.shuffle(files)\n",
    "for f in files[:50]:\n",
    "    os.symlink(dataset_path + 'false_positive/' + f, dataset_path + 'fp_subset_2/' + f)"
   ]
  },
  {
   "cell_type": "code",
   "execution_count": null,
   "metadata": {},
   "outputs": [],
   "source": [
    "import os\n",
    "import random\n",
    "dataset_path = '/mnt/sandbox1/alex.li/introspection/pmehta_2023_val_bestmodel/halo_humans_on_path_v3/'\n",
    "files = os.listdir(dataset_path + 'human_false_negative/')\n",
    "os.mkdir(dataset_path + 'fn_subset/')\n",
    "random.shuffle(files)\n",
    "for f in files[:50]:\n",
    "    os.symlink(dataset_path + 'human_false_negative/' + f, dataset_path + 'fn_subset/' + f)"
   ]
  },
  {
   "cell_type": "code",
   "execution_count": 17,
   "metadata": {},
   "outputs": [
    {
     "name": "stderr",
     "output_type": "stream",
     "text": [
      "  0%|          | 0/44196 [00:00<?, ?it/s]"
     ]
    },
    {
     "name": "stderr",
     "output_type": "stream",
     "text": [
      "100%|██████████| 44196/44196 [30:59<00:00, 23.77it/s]\n"
     ]
    }
   ],
   "source": [
    "label_is_cutoff = []\n",
    "label_is_humanonly = []\n",
    "label_file = \"/home/alex.li/git/JupiterCVML/europa/base/src/europa/dl/config/label_maps/eight_class_train_dust_light_as_sky_birds_as_driveable.csv\"\n",
    "label_map_helper = LabelMapHelper(label_file)\n",
    "rec = rectifiedrgb.RectifiedRGBNPZ(prod_dset)\n",
    "deb = debayeredrgb.DebayeredRGBNPZ(prod_dset)\n",
    "label_converter = LabelConversion(label_map_helper)\n",
    "\n",
    "for _, row in tqdm(master_df.iterrows(), total=len(master_df)):\n",
    "    rec_artifacts = rec.get_artifacts(row)\n",
    "    rec_label = label_converter.convert_label_for_driveable_terrain(rec_artifacts['label'], json.loads(row['label_map']))\n",
    "\n",
    "    # for id in tqdm(master_df['id']):\n",
    "    #     row = master_df[master_df['id'] == id].iloc[0]\n",
    "    # deb_artifacts = deb.get_artifacts(row)\n",
    "    # deb_label = label_converter.convert_label_for_driveable_terrain(deb_artifacts['label'], json.loads(row['label_map']))\n",
    "    # rec_human = np.sum(rec_label == 5)\n",
    "    # center_human = np.sum(rec_label[15:-15,15:-15] == 5)\n",
    "    # edge_human = rec_human - center_human\n",
    "    # deb_human = np.sum(deb_label == 5)\n",
    "    # # Human is on edge only and more present in the debayered image\n",
    "    # if edge_human > center_human and deb_human > rec_human * 8:\n",
    "    #     #occluded human\n",
    "    #     label_is_cutoff.append(True)\n",
    "    # else:\n",
    "    #     label_is_cutoff.append(False)\n",
    "    label_is_humanonly.append(set(np.unique(rec_label)) <= set({5, 255}))"
   ]
  },
  {
   "cell_type": "code",
   "execution_count": null,
   "metadata": {},
   "outputs": [
    {
     "data": {
      "text/plain": [
       "3544"
      ]
     },
     "execution_count": 87,
     "metadata": {},
     "output_type": "execute_result"
    }
   ],
   "source": [
    "sum(label_is_humanonly)"
   ]
  },
  {
   "cell_type": "code",
   "execution_count": 86,
   "metadata": {},
   "outputs": [],
   "source": [
    "master_df_full_label = master_df[~np.array(label_is_humanonly)]\n",
    "master_df_full_label.to_csv(prod_dset + \"master_annotations_full_label.csv\")"
   ]
  },
  {
   "cell_type": "code",
   "execution_count": 7,
   "metadata": {},
   "outputs": [
    {
     "name": "stderr",
     "output_type": "stream",
     "text": [
      "/home/alex.li/miniconda3/envs/cvml/lib/python3.8/site-packages/IPython/core/interactiveshell.py:3508: DtypeWarning: Columns (1,2,91,92,93,94,95,97,98,100,101,102,103,104,105,106,107,108,151,155,156,161,172,175,197,198,200,201,202,203,228,229,236,237,251,254,255,256,257,258,259,260,261,262,263,264,265,266,267,268,269,270,272,276,277,278,281,285) have mixed types.Specify dtype option on import or set low_memory=False.\n",
      "  exec(code_obj, self.user_global_ns, self.user_ns)\n"
     ]
    }
   ],
   "source": [
    "master_df_full_label = pd.read_csv(prod_dset + \"master_annotations_full_label.csv\")"
   ]
  },
  {
   "cell_type": "code",
   "execution_count": 10,
   "metadata": {},
   "outputs": [],
   "source": [
    "all_uid = master_df['unique_id']\n",
    "other_uid = master_df_full_label['unique_id']\n",
    "diff_id = set(all_uid) - set(other_uid)"
   ]
  },
  {
   "cell_type": "code",
   "execution_count": 12,
   "metadata": {},
   "outputs": [],
   "source": [
    "humanonly_df = master_df[master_df['unique_id'].isin(diff_id)]"
   ]
  },
  {
   "cell_type": "code",
   "execution_count": 13,
   "metadata": {},
   "outputs": [
    {
     "data": {
      "text/plain": [
       "3544"
      ]
     },
     "execution_count": 13,
     "metadata": {},
     "output_type": "execute_result"
    }
   ],
   "source": [
    "len(humanonly_df)"
   ]
  },
  {
   "cell_type": "code",
   "execution_count": 27,
   "metadata": {},
   "outputs": [
    {
     "name": "stderr",
     "output_type": "stream",
     "text": [
      "/home/alex.li/miniconda3/envs/cvml/lib/python3.8/site-packages/IPython/core/interactiveshell.py:3508: DtypeWarning: Columns (23,80,118,200,201,202,203) have mixed types.Specify dtype option on import or set low_memory=False.\n",
      "  exec(code_obj, self.user_global_ns, self.user_ns)\n",
      "/home/alex.li/miniconda3/envs/cvml/lib/python3.8/site-packages/IPython/core/interactiveshell.py:3508: DtypeWarning: Columns (22,24,36,37,38,39,40,41,42,43,44,45,46,47,48,49,50,51,52,55,56,57,58,59,60,61,63,64,65,66,67,68,87,88,89,91,93,94,96,97,98,99,100,102,103,123,124,125,127,129,130,132,133,134,135,136,149,152,161) have mixed types.Specify dtype option on import or set low_memory=False.\n",
      "  exec(code_obj, self.user_global_ns, self.user_ns)\n"
     ]
    }
   ],
   "source": [
    "me = pd.read_csv(prod_dset + \"master_annotations_human_label.csv\")\n",
    "pawan = pd.read_csv(\"/home/alex.li/logs/only_humans_labeled_v2.csv\")"
   ]
  },
  {
   "cell_type": "code",
   "execution_count": 28,
   "metadata": {},
   "outputs": [
    {
     "data": {
      "text/plain": [
       "0       [{'data_class': 11, 'vendor_instance_id': 'clo...\n",
       "1       [{'data_class': 11, 'vendor_instance_id': 'clo...\n",
       "2       [{'data_class': 11, 'vendor_instance_id': 'clo...\n",
       "3       [{'data_class': 11, 'vendor_instance_id': 'clo...\n",
       "4       [{'data_class': 11, 'vendor_instance_id': 'clo...\n",
       "                              ...                        \n",
       "3539    [{'data_class': 11, 'vendor_instance_id': 'clo...\n",
       "3540    [{'data_class': 11, 'vendor_instance_id': 'clo...\n",
       "3541    [{'data_class': 11, 'vendor_instance_id': 'clo...\n",
       "3542    [{'data_class': 11, 'vendor_instance_id': 'clo...\n",
       "3543    [{'data_class': 11, 'vendor_instance_id': 'clo...\n",
       "Name: annotation_pixelwise_0_labeled_objects, Length: 3544, dtype: object"
      ]
     },
     "execution_count": 28,
     "metadata": {},
     "output_type": "execute_result"
    }
   ],
   "source": [
    "me['annotation_pixelwise_0_labeled_objects']"
   ]
  },
  {
   "cell_type": "code",
   "execution_count": 31,
   "metadata": {},
   "outputs": [
    {
     "data": {
      "text/plain": [
       "0       6533341ce5657b05fa40bfc3\n",
       "1       653334189c273539da7f7d04\n",
       "2       653334222138efc004d916c7\n",
       "3       6533342affd3ef8699ae1e6f\n",
       "4       65333426eae7767de89823c6\n",
       "                  ...           \n",
       "6234    653369cabe3a178a8a6f20f9\n",
       "6235    653369c8ee836695864544f5\n",
       "6236    653348e05a561cdcdbb84854\n",
       "6237    653348e5633f2c5685347e6f\n",
       "6238    653348ea585e441d76d5b3e8\n",
       "Name: id, Length: 6239, dtype: object"
      ]
     },
     "execution_count": 31,
     "metadata": {},
     "output_type": "execute_result"
    }
   ],
   "source": [
    "pawan['id']"
   ]
  },
  {
   "cell_type": "code",
   "execution_count": 39,
   "metadata": {},
   "outputs": [
    {
     "name": "stdout",
     "output_type": "stream",
     "text": [
      "['6533462f7ab15d7ef40013d4', '65334852cc6844cd821bd23e', '653343c15d7de481a25c0bb6', '653346b0ae75c2fba1f524db']\n",
      "['6533461471334bab28170562', '653376f45d7de481a25c853c', '653356e6bc85c9064f558f76', '653345fe3ea3dbdc70304d42']\n"
     ]
    }
   ],
   "source": [
    "pawan_uid = pawan['id']\n",
    "me_uid = me['id']\n",
    "in_pawan_only = list(set(pawan_uid) - set(me_uid))\n",
    "in_me_only = list(set(me_uid) - set(pawan_uid))\n",
    "\n",
    "print(in_pawan_only[:4])\n",
    "print(in_me_only[:4])"
   ]
  },
  {
   "cell_type": "code",
   "execution_count": 43,
   "metadata": {},
   "outputs": [
    {
     "name": "stdout",
     "output_type": "stream",
     "text": [
      "30\n",
      "3599\n"
     ]
    }
   ],
   "source": [
    "print(len(in_me_only))\n",
    "print(len(in_pawan_only))"
   ]
  }
 ],
 "metadata": {
  "kernelspec": {
   "display_name": "cvml",
   "language": "python",
   "name": "python3"
  },
  "language_info": {
   "codemirror_mode": {
    "name": "ipython",
    "version": 3
   },
   "file_extension": ".py",
   "mimetype": "text/x-python",
   "name": "python",
   "nbconvert_exporter": "python",
   "pygments_lexer": "ipython3",
   "version": "3.8.0"
  }
 },
 "nbformat": 4,
 "nbformat_minor": 2
}
