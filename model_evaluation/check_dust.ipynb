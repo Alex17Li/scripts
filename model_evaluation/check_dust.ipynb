{
 "cells": [
  {
   "cell_type": "code",
   "execution_count": null,
   "metadata": {},
   "outputs": [],
   "source": [
    "import pandas as pd"
   ]
  },
  {
   "cell_type": "code",
   "execution_count": null,
   "metadata": {},
   "outputs": [],
   "source": [
    "df_labeled = pd.read_csv('/mnt/sandbox1/alex.li/dust/13881_hs15e-1/dust_test_2022_v4_anno_HEAVY_DUST_labeled/output.csv')\n",
    "df_skipped = pd.read_csv('/mnt/sandbox1/alex.li/dust/13881_hs15e-1/dust_test_2022_v4_anno_HEAVY_DUST_skipped/output.csv')"
   ]
  },
  {
   "cell_type": "code",
   "execution_count": null,
   "metadata": {},
   "outputs": [],
   "source": [
    "print(df_labeled.columns)\n",
    "print(df_skipped.columns)"
   ]
  },
  {
   "cell_type": "code",
   "execution_count": null,
   "metadata": {},
   "outputs": [],
   "source": [
    "import json\n",
    "with open('/mnt/sandbox1/alex.li/dust/13881_hs15e-1/dust_test_2022_v4_anno_HEAVY_DUST_skipped/dust_test_2022_v4_anno_HEAVY_DUST_skipped.json') as f:\n",
    "    skipped_json = json.load(f)\n",
    "print(skipped_json)"
   ]
  },
  {
   "cell_type": "code",
   "execution_count": null,
   "metadata": {},
   "outputs": [],
   "source": [
    "df_labeled = pd.read_csv('/mnt/sandbox1/alex.li/dust/13881_hs15e-1/dust_test_2022_v4_anno_HEAVY_DUST_labeled/results_summary.csv')\n",
    "df_labeled"
   ]
  }
 ],
 "metadata": {
  "kernelspec": {
   "display_name": "cvml",
   "language": "python",
   "name": "python3"
  },
  "language_info": {
   "codemirror_mode": {
    "name": "ipython",
    "version": 3
   },
   "file_extension": ".py",
   "mimetype": "text/x-python",
   "name": "python",
   "nbconvert_exporter": "python",
   "pygments_lexer": "ipython3",
   "version": "3.8.0"
  }
 },
 "nbformat": 4,
 "nbformat_minor": 2
}
