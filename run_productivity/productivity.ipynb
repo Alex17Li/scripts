{
 "cells": [
  {
   "cell_type": "code",
   "execution_count": 42,
   "metadata": {},
   "outputs": [],
   "source": [
    "import ast\n",
    "import json\n",
    "import os\n",
    "import sys\n",
    "import timeit\n",
    "import json\n",
    "from collections import Counter\n",
    "\n",
    "\n",
    "import matplotlib.pyplot as plt\n",
    "import numpy as np\n",
    "import pandas as pd\n",
    "from sklearn.cluster import DBSCAN\n",
    "from pathlib import Path\n",
    "from brtdevkit.core.db.athena import AthenaClient\n",
    "from brtdevkit.data import Dataset\n",
    "import yaml"
   ]
  },
  {
   "cell_type": "code",
   "execution_count": 43,
   "metadata": {},
   "outputs": [],
   "source": [
    "basepath = Path('/data/jupiter/datasets/')"
   ]
  },
  {
   "cell_type": "code",
   "execution_count": 44,
   "metadata": {},
   "outputs": [],
   "source": [
    "dsetnames = [\n",
    "    \"Jupiter_20231019_HHH6_1615_1700\",\n",
    "    \"Jupiter_20231121_HHH2_1800_1830\",\n",
    "    \"Jupiter_20231026_HHH8_1515_1545\",\n",
    "    \"Jupiter_20231007_HHH1_2350_0020\",\n",
    "    \"Jupiter_20230926_HHH1_1815_1845\",\n",
    "    \"Jupiter_20230927_HHH1_0100_0130\",\n",
    "    \"Jupiter_20230814_HHH1_1415_1445\",\n",
    "    \"Jupiter_20230825_HHH1_1730_1800\",\n",
    "    \"Jupiter_20230803_HHH2_2030_2100\",\n",
    "    \"Jupiter_20230803_HHH2_1400_1430\",\n",
    "    \"Jupiter_20230803_HHH3_2115_2145\",\n",
    "    \"Jupiter_20230720_HHH3_1805_1835\",\n",
    "    \"Jupiter_20230823_HHH3_1815_1845\",\n",
    "]"
   ]
  },
  {
   "cell_type": "code",
   "execution_count": 45,
   "metadata": {},
   "outputs": [
    {
     "data": {
      "text/plain": [
       "['online_calibration_data',\n",
       " 'processed',\n",
       " 'images',\n",
       " 'annotations.csv',\n",
       " 'master_annotations.csv',\n",
       " 'partitions',\n",
       " 'clean_ids.json']"
      ]
     },
     "execution_count": 45,
     "metadata": {},
     "output_type": "execute_result"
    }
   ],
   "source": [
    "os.listdir(basepath / dsetnames[0])"
   ]
  },
  {
   "cell_type": "code",
   "execution_count": 46,
   "metadata": {},
   "outputs": [
    {
     "name": "stdout",
     "output_type": "stream",
     "text": [
      "Jupiter_20231019_HHH6_1615_1700\n",
      "Jupiter_20231121_HHH2_1800_1830\n",
      "Jupiter_20231026_HHH8_1515_1545\n",
      "Jupiter_20231007_HHH1_2350_0020\n",
      "Jupiter_20230926_HHH1_1815_1845\n",
      "Jupiter_20230927_HHH1_0100_0130\n",
      "Jupiter_20230814_HHH1_1415_1445\n",
      "Jupiter_20230825_HHH1_1730_1800\n",
      "Jupiter_20230803_HHH2_2030_2100\n",
      "Jupiter_20230803_HHH2_1400_1430\n",
      "Jupiter_20230803_HHH3_2115_2145\n",
      "Jupiter_20230720_HHH3_1805_1835\n",
      "Jupiter_20230823_HHH3_1815_1845\n"
     ]
    }
   ],
   "source": [
    "for dsetname in dsetnames:\n",
    "    print(dsetname)\n",
    "    df = pd.read_csv(basepath / dsetname / 'master_annotations.csv')\n",
    "    with open(basepath / dsetname / 'clean_ids.json', 'r') as f:\n",
    "        uid = json.load(f)\n",
    "    df[df['unique_id'].isin(uid)].drop_duplicates().to_csv(basepath / dsetname / 'master_annotations_clean.csv')"
   ]
  },
  {
   "cell_type": "code",
   "execution_count": 40,
   "metadata": {},
   "outputs": [],
   "source": []
  },
  {
   "cell_type": "code",
   "execution_count": null,
   "metadata": {},
   "outputs": [],
   "source": [
    "dsets = {}\n",
    "for dsetname in dsetnames:\n",
    "    print(dsetname)\n",
    "    path = basepath / dsetname\n",
    "    if not os.path.exists(path / 'annotations.csv'):\n",
    "        print(f\"Downloading to {path}\")\n",
    "        dset: Dataset = Dataset.retrieve(name=dsetname)\n",
    "        df = dset.to_dataframe()\n",
    "        dset.download(path)\n",
    "        df.to_csv(path / 'annotations.csv')\n",
    "    else:\n",
    "        df = pd.read_csv(path / 'annotations.csv')\n",
    "    dsets[dsetname] = {\n",
    "        'df': df,\n",
    "        'dpath': path,\n",
    "    }\n"
   ]
  },
  {
   "cell_type": "code",
   "execution_count": null,
   "metadata": {},
   "outputs": [],
   "source": [
    "from dl.dataset.pack_perception.download_ocal_data import download_ocal_data\n",
    "download_ocal_data(str(path), df)"
   ]
  },
  {
   "cell_type": "code",
   "execution_count": null,
   "metadata": {},
   "outputs": [],
   "source": [
    "from dl.dataset.pack_perception.ml_pack_perception import MLPackPerception\n",
    "from dl.dataset.pack_perception.pack_perception_parameters import (\n",
    "    PackPerceptionParameters,\n",
    ")\n",
    "dataset_path = basepath / dsetnames[0]\n",
    "params = PackPerceptionParameters()\n",
    "args = params.parser.parse_args(args=[\n",
    "    '--csv-path', str(dataset_path / 'annotations.csv'),\n",
    "    '--data-dir', str(dataset_path),\n",
    "    '--cam-calibration-path', str(dataset_path / 'online_calibration_data'),\n",
    "    '--batch-size', '4',\n",
    "    '--multiprocess-workers', '32',\n",
    "    '--pandarallel-workers', '32',\n",
    "    '--gpu', '0',\n",
    "    '--models', '512,768=ml_512x768_v3_full_rgb_halo_depth_10062023.ckpt', '512,640=ml_512x640_v3_full_rgb_halo_depth_10062023.ckpt'\n",
    "    '--model-type' 'full' '--max-disp' '384' \\\n",
    "    '--run-oc''--image-only'\n",
    "])\n",
    "\n",
    "# MLPackPerception(vars(args))"
   ]
  },
  {
   "cell_type": "code",
   "execution_count": null,
   "metadata": {},
   "outputs": [],
   "source": [
    "MLPackPerception(**vars(args))"
   ]
  },
  {
   "cell_type": "code",
   "execution_count": null,
   "metadata": {},
   "outputs": [],
   "source": [
    "# Done already by stewart: \n",
    "# - Headlands removed\n",
    "# - \n",
    "\n",
    "# Remove images with FPs\n",
    "\n",
    "# Trim overlong sequences\n",
    "\n",
    "# Choose sequences to meet criteria?"
   ]
  }
 ],
 "metadata": {
  "kernelspec": {
   "display_name": "Python 3 (ipykernel)",
   "language": "python",
   "name": "python3"
  },
  "language_info": {
   "codemirror_mode": {
    "name": "ipython",
    "version": 3
   },
   "file_extension": ".py",
   "mimetype": "text/x-python",
   "name": "python",
   "nbconvert_exporter": "python",
   "pygments_lexer": "ipython3",
   "version": "3.8.0"
  }
 },
 "nbformat": 4,
 "nbformat_minor": 2
}
