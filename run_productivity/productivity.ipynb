{
 "cells": [
  {
   "cell_type": "code",
   "execution_count": null,
   "metadata": {},
   "outputs": [],
   "source": [
    "import ast\n",
    "import json\n",
    "import os\n",
    "import sys\n",
    "import timeit\n",
    "\n",
    "from collections import Counter\n",
    "\n",
    "\n",
    "import matplotlib.pyplot as plt\n",
    "import numpy as np\n",
    "import pandas as pd\n",
    "from sklearn.cluster import DBSCAN\n",
    "from pathlib import Path\n",
    "from brtdevkit.core.db.athena import AthenaClient\n",
    "from brtdevkit.data import Dataset\n",
    "import yaml"
   ]
  },
  {
   "cell_type": "code",
   "execution_count": null,
   "metadata": {},
   "outputs": [],
   "source": [
    "basepath = Path('/mnt/alex.li/productivity_dsets/')"
   ]
  },
  {
   "cell_type": "code",
   "execution_count": null,
   "metadata": {},
   "outputs": [],
   "source": [
    "dsetnames = [\n",
    "    'Jupiter_20231121_HHH2_1800_1830'\n",
    "]"
   ]
  },
  {
   "cell_type": "code",
   "execution_count": null,
   "metadata": {},
   "outputs": [],
   "source": [
    "memuse = df.memory_usage(deep=True) / 1e9; total = sum(memuse); total"
   ]
  },
  {
   "cell_type": "code",
   "execution_count": null,
   "metadata": {},
   "outputs": [],
   "source": [
    "memuse['weather_summary']"
   ]
  },
  {
   "cell_type": "code",
   "execution_count": null,
   "metadata": {},
   "outputs": [],
   "source": [
    "'\\n'.join(list(sorted(list(memuse.items()), key=lambda x:-x[1])))"
   ]
  },
  {
   "cell_type": "code",
   "execution_count": null,
   "metadata": {},
   "outputs": [],
   "source": [
    "df['annotation_pixelwise_0_labeled_objects']"
   ]
  },
  {
   "cell_type": "code",
   "execution_count": null,
   "metadata": {},
   "outputs": [],
   "source": [
    "df[['annotation_pixelwise_0_labeled_objects','annotation_pixelwise_0_labeled_objects_right']].memory_usage()"
   ]
  },
  {
   "cell_type": "code",
   "execution_count": null,
   "metadata": {},
   "outputs": [],
   "source": [
    "dsets = {}\n",
    "for dsetname in dsetnames:\n",
    "    print(dsetname)\n",
    "    path = basepath / dsetname\n",
    "    if not os.path.exists(path / 'annotations.csv'):\n",
    "        print(f\"Downloading to {path}\")\n",
    "        dset: Dataset = Dataset.retrieve(name=dsetname)\n",
    "        df = dset.to_dataframe()\n",
    "        dset.download(path)\n",
    "        df.to_csv(path / 'annotations.csv')\n",
    "    else:\n",
    "        df = pd.read_csv(path / 'annotations.csv')\n",
    "    dsets[dsetname] = {\n",
    "        'df': df,\n",
    "        'dpath': path,\n",
    "    }\n"
   ]
  },
  {
   "cell_type": "code",
   "execution_count": null,
   "metadata": {},
   "outputs": [],
   "source": [
    "from dl.dataset.pack_perception.download_ocal_data import download_ocal_data\n",
    "download_ocal_data(str(path), df)"
   ]
  },
  {
   "cell_type": "code",
   "execution_count": null,
   "metadata": {},
   "outputs": [],
   "source": [
    "from dl.dataset.pack_perception.ml_pack_perception import MLPackPerception\n",
    "from dl.dataset.pack_perception.pack_perception_parameters import (\n",
    "    PackPerceptionParameters,\n",
    ")\n",
    "dataset_path = basepath / dsetnames[0]\n",
    "params = PackPerceptionParameters()\n",
    "args = params.parser.parse_args(args=[\n",
    "    '--csv-path', str(dataset_path / 'annotations.csv'),\n",
    "    '--data-dir', str(dataset_path),\n",
    "    '--cam-calibration-path', str(dataset_path / 'online_calibration_data'),\n",
    "    '--batch-size', '4',\n",
    "    '--multiprocess-workers', '32',\n",
    "    '--pandarallel-workers', '32',\n",
    "    '--gpu', '0',\n",
    "    '--models', '512,768=ml_512x768_v3_full_rgb_halo_depth_10062023.ckpt', '512,640=ml_512x640_v3_full_rgb_halo_depth_10062023.ckpt'\n",
    "    '--model-type' 'full' '--max-disp' '384' \\\n",
    "    '--run-oc''--image-only'\n",
    "])\n",
    "\n",
    "# MLPackPerception(vars(args))"
   ]
  },
  {
   "cell_type": "code",
   "execution_count": null,
   "metadata": {},
   "outputs": [],
   "source": [
    "MLPackPerception(**vars(args))"
   ]
  },
  {
   "cell_type": "code",
   "execution_count": null,
   "metadata": {},
   "outputs": [],
   "source": [
    "# Done already by stewart: \n",
    "# - Headlands removed\n",
    "# - \n",
    "\n",
    "# Remove images with FPs\n",
    "\n",
    "# Trim overlong sequences\n",
    "\n",
    "# Choose sequences to meet criteria?"
   ]
  }
 ],
 "metadata": {
  "kernelspec": {
   "display_name": "cvml",
   "language": "python",
   "name": "python3"
  },
  "language_info": {
   "codemirror_mode": {
    "name": "ipython",
    "version": 3
   },
   "file_extension": ".py",
   "mimetype": "text/x-python",
   "name": "python",
   "nbconvert_exporter": "python",
   "pygments_lexer": "ipython3",
   "version": "3.10.0"
  }
 },
 "nbformat": 4,
 "nbformat_minor": 2
}
