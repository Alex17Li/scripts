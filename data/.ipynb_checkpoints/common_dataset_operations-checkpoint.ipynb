{
 "cells": [
  {
   "cell_type": "markdown",
   "metadata": {},
   "source": [
    "# Imports and helper functions"
   ]
  },
  {
   "cell_type": "code",
   "execution_count": 1,
   "metadata": {},
   "outputs": [],
   "source": [
    "import pandas as pd\n",
    "from brtdevkit.data import Dataset\n",
    "import os\n",
    "import sys\n",
    "def get_uid(row):\n",
    "    return row['id'] + '_' + row['camera_location'] + '_' + row['camera_location_right']"
   ]
  },
  {
   "cell_type": "markdown",
   "metadata": {},
   "source": [
    "# Get a random subset of a dataset"
   ]
  },
  {
   "cell_type": "code",
   "execution_count": null,
   "metadata": {},
   "outputs": [],
   "source": [
    "dset_path = None\n",
    "df = pd.read_csv(dset_path)\n",
    "subset_size = 144\n",
    "df_subset = df.sample(subset_size, replace=False)"
   ]
  },
  {
   "cell_type": "markdown",
   "metadata": {},
   "source": [
    "# Get a subset of a dataset ids that are in another dataset"
   ]
  },
  {
   "cell_type": "code",
   "execution_count": 2,
   "metadata": {},
   "outputs": [
    {
     "name": "stderr",
     "output_type": "stream",
     "text": [
      "/home/alex.li/miniconda3/envs/cvml/lib/python3.8/site-packages/IPython/core/interactiveshell.py:3508: DtypeWarning: Columns (26,95,96,97,98,99,101,102,104,105,106,107,108,109,110,111,112,236,243) have mixed types.Specify dtype option on import or set low_memory=False.\n",
      "  exec(code_obj, self.user_global_ns, self.user_ns)\n"
     ]
    }
   ],
   "source": [
    "train_dset_path = '/data2/jupiter/datasets/halo_rgb_stereo_train_v6_2_alleysson/master_annotations.csv'\n",
    "train_dset_2_path = ''\n",
    "test_dset_path = \"/data2/jupiter/datasets/halo_rgb_stereo_train_v6_2/halo_rgb_stereo_train_v6_2_val_by_geohash_6_for_50k_subset_okaudit.csv\"\n",
    "\n",
    "df_train = pd.read_csv(filepath_or_buffer=train_dset_path)\n",
    "df_train_2 = pd.read_csv(train_dset_2_path)\n",
    "df_test = pd.read_csv(train_dset_2_path)\n",
    "\n",
    "if 'label_save_path' not in df_train.columns:\n",
    "    print([c for c in df_train.columns if 'save' in c])\n",
    "if 'label_save_path' not in df_train_2.columns:\n",
    "    print([c for c in df_train_2.columns if 'save' in c])\n"
   ]
  },
  {
   "cell_type": "code",
   "execution_count": 6,
   "metadata": {},
   "outputs": [],
   "source": [
    "# Get UID for the datasets\n",
    "df_train['unique_id'] = df_train.apply(get_uid, axis=1)\n",
    "df_train_2['unique_id'] = df_train_2.apply(get_uid, axis=1)"
   ]
  },
  {
   "cell_type": "code",
   "execution_count": 7,
   "metadata": {},
   "outputs": [],
   "source": [
    "# Create dataset with the correct IDs for each\n",
    "df_train_in_union = df_train[df_train['unique_id'].isin(df_train_2['unique_id'])]\n",
    "df_train_2_in_union = df_train_2[df_train_2['unique_id'].isin(df_train['unique_id'])]\n",
    "print(len(train_alleyson))\n",
    "print(len(train_orig))"
   ]
  },
  {
   "cell_type": "code",
   "execution_count": 10,
   "metadata": {},
   "outputs": [],
   "source": [
    "# Save DFs\n",
    "train_alleyson.to_csv('/data2/jupiter/datasets/halo_rgb_stereo_train_v6_2_alleysson/master_anno_alley_comparison_subset_45k.csv')\n",
    "train_orig.to_csv('/data2/jupiter/datasets/halo_rgb_stereo_train_v6_2/master_anno_alley_comparison_subset_45k.csv')"
   ]
  },
  {
   "cell_type": "markdown",
   "metadata": {},
   "source": [
    "\n",
    "# Remove data from the audit DF"
   ]
  },
  {
   "cell_type": "code",
   "execution_count": null,
   "metadata": {},
   "outputs": [],
   "source": [
    "# Get the path to your audit CSV\n",
    "audit_csv_paths = [p for p in os.listdir() if p.endswith('.csv')]\n",
    "print(audit_csv_paths)\n",
    "audit_df = pd.read_csv(audit_csv_paths[0])"
   ]
  },
  {
   "cell_type": "code",
   "execution_count": null,
   "metadata": {},
   "outputs": [],
   "source": [
    "bad_ids = audit_df[(audit_df['Audit status'] != 'ok')]['image_id']\n",
    "print(f\"Number of image IDs to drop: {len(bad_ids)}\")\n",
    "dfs_to_apply_audit_to = [\n",
    "    'halo_rgb_stereo_train_v6_2/master_annotations_dedup_clean_20240206',\n",
    "    'halo_rgb_stereo_train_v6_2/master_annotations_dedup_clean_ocal_20240208_50k_intersection',\n",
    "    'halo_rgb_stereo_train_v6_2/halo_rgb_stereo_train_v6_2_val_by_geohash_6_for_50k_subset',\n",
    "    'halo_rgb_stereo_train_v6_2_768/master_annotations_dedup_clean_ocal_20240208_50k_intersection',\n",
    "    'halo_rgb_stereo_train_v6_2_full_res/master_annotations_dedup_clean_ocal_20240208_50k_intersection']"
   ]
  },
  {
   "cell_type": "code",
   "execution_count": 30,
   "metadata": {},
   "outputs": [
    {
     "name": "stderr",
     "output_type": "stream",
     "text": [
      "/home/alex.li/miniconda3/envs/cvml/lib/python3.8/site-packages/IPython/core/interactiveshell.py:3508: DtypeWarning: Columns (2,3,24,82,93,94,95,96,97,99,100,102,103,104,105,106,107,108,109,110,120,151,153,157,158,161,163,164,172,175,176,178,181,182,184,188,190,200,201,203,204,205,206,211,212,228,233,234,235,236,238,240,241,242,253,254,256,259,260,261,262,263,264,265,266,267,268,269,270,271,272,273,274,275,277,282,283,284,287,288,289,291) have mixed types.Specify dtype option on import or set low_memory=False.\n",
      "  exec(code_obj, self.user_global_ns, self.user_ns)\n"
     ]
    },
    {
     "name": "stdout",
     "output_type": "stream",
     "text": [
      "279410 -> 278693 (99.74%). For master_annotations_dedup_clean_20240206_okaudit.csv.\n"
     ]
    },
    {
     "name": "stderr",
     "output_type": "stream",
     "text": [
      "/home/alex.li/miniconda3/envs/cvml/lib/python3.8/site-packages/IPython/core/interactiveshell.py:3508: DtypeWarning: Columns (25,94,95,96,97,98,100,101,103,104,105,106,107,108,109,110,111,235,242) have mixed types.Specify dtype option on import or set low_memory=False.\n",
      "  exec(code_obj, self.user_global_ns, self.user_ns)\n"
     ]
    },
    {
     "name": "stdout",
     "output_type": "stream",
     "text": [
      "49942 -> 49821 (99.76%). For master_annotations_dedup_clean_ocal_20240208_50k_intersection_okaudit.csv.\n",
      "12672 -> 12613 (99.53%). For halo_rgb_stereo_train_v6_2_val_by_geohash_6_for_50k_subset_okaudit.csv.\n",
      "49901 -> 49780 (99.76%). For master_annotations_dedup_clean_ocal_20240208_50k_intersection_okaudit.csv.\n",
      "49942 -> 49821 (99.76%). For master_annotations_dedup_clean_ocal_20240208_50k_intersection_okaudit.csv.\n"
     ]
    }
   ],
   "source": [
    "for dsetname in dfs_to_apply_audit_to:\n",
    "    orig_data_df = pd.read_csv(f'/data2/jupiter/datasets/{dsetname}.csv')\n",
    "    out_data_df = orig_data_df[~orig_data_df['id'].isin(bad_ids)]\n",
    "    out_path = f'/data2/jupiter/datasets/{dsetname}_okaudit.csv'\n",
    "    print(f\"{len(orig_data_df)} -> {len(out_data_df)} ({100*len(out_data_df)/len(orig_data_df):.2f}%). For {out_path.split('/')[-1]}.\")\n",
    "    out_data_df.to_csv(out_path)\n"
   ]
  },
  {
   "cell_type": "markdown",
   "metadata": {},
   "source": [
    "# Save image ids to a stereo dataset in alethia"
   ]
  },
  {
   "cell_type": "code",
   "execution_count": 4,
   "metadata": {},
   "outputs": [
    {
     "name": "stderr",
     "output_type": "stream",
     "text": [
      "/tmp/ipykernel_28298/3733794063.py:1: DtypeWarning: Columns (11,22,23,24,25,26,28,29,31,32,33,34,35,36,37,38,39,49,61,84,85,86,91,93,107,123,128,129,130,132,144,145,149,155,156,175,188,190,194,195,196,197,198,199,200,201,202,203,204,205,206,207,208,209,210,211,212,213,214,215,216,217,218,219,220,221,222,223,224,225,226,227,228,229,230,231,232,233,234) have mixed types. Specify dtype option on import or set low_memory=False.\n",
      "  df = pd.read_csv('/data/jupiter/datasets/halo_productivity_combined/master_annotations_v1.csv')\n"
     ]
    }
   ],
   "source": [
    "df = pd.read_csv('/data/jupiter/datasets/halo_productivity_combined/master_annotations_v1.csv')"
   ]
  },
  {
   "cell_type": "code",
   "execution_count": 13,
   "metadata": {},
   "outputs": [
    {
     "data": {
      "text/plain": [
       "242694"
      ]
     },
     "execution_count": 13,
     "metadata": {},
     "output_type": "execute_result"
    }
   ],
   "source": [
    "ids = df['id']\n",
    "len(ids)"
   ]
  },
  {
   "cell_type": "code",
   "execution_count": 14,
   "metadata": {},
   "outputs": [
    {
     "data": {
      "text/plain": [
       "typing.Literal['image', 'annotation']"
      ]
     },
     "execution_count": 14,
     "metadata": {},
     "output_type": "execute_result"
    }
   ],
   "source": [
    "dataset_config.DATASET_TYPE"
   ]
  },
  {
   "cell_type": "code",
   "execution_count": 10,
   "metadata": {},
   "outputs": [],
   "source": [
    "from jupiterdata.config import dataset_config\n",
    "from jupiterdata.utils.dataset import imageids_to_dataset"
   ]
  },
  {
   "cell_type": "code",
   "execution_count": null,
   "metadata": {},
   "outputs": [],
   "source": [
    "imageids_to_dataset(\n",
    "    ids,\n",
    "    dataset_name='halo_productivity_combined_no_mislocalization',\n",
    "    dataset_description='halo productivity dataset with no mislocalization,\n",
    "    dataset_kind = \"image\",\n",
    "    mode: dataset_config.CAMERA_TYPE = \"stereo\",\n",
    "    annotation_state = dataset_config.VALID_ANNOTATION_STATES,\n",
    "    camera_location = dataset_config.LEFT_CAMERAS,\n",
    "    production_dataset: bool = False,\n",
    "    camera_pairs_list: List[Dict[str, str]] = dataset_config.ALL_CAMERA_PAIRS_LIST,"
   ]
  }
 ],
 "metadata": {
  "kernelspec": {
   "display_name": "Python 3 (ipykernel)",
   "language": "python",
   "name": "python3"
  },
  "language_info": {
   "codemirror_mode": {
    "name": "ipython",
    "version": 3
   },
   "file_extension": ".py",
   "mimetype": "text/x-python",
   "name": "python",
   "nbconvert_exporter": "python",
   "pygments_lexer": "ipython3",
   "version": "3.9.18"
  }
 },
 "nbformat": 4,
 "nbformat_minor": 4
}
