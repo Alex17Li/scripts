{
 "cells": [
  {
   "cell_type": "code",
   "execution_count": 1,
   "metadata": {},
   "outputs": [],
   "source": [
    "import pandas as pd\n",
    "from brtdevkit.data import Dataset\n",
    "from aletheia_dataset_creator.dataset_tools.aletheia_dataset_helpers import imageids_to_dataset\n",
    "dset_path = '/data2/jupiter/datasets/halo_rgb_stereo_train_v6_1/'\n",
    "orig_anno_path = 'master_annotations_sample_1000.csv'\n",
    "df = pd.read_csv(filepath_or_buffer=dset_path + orig_anno_path)"
   ]
  },
  {
   "cell_type": "code",
   "execution_count": 2,
   "metadata": {},
   "outputs": [],
   "source": [
    "subset_size = 144\n",
    "df_subset = df.sample(subset_size, replace=False)\n",
    "df_subset_ids = list(df_subset['id'])"
   ]
  },
  {
   "cell_type": "code",
   "execution_count": null,
   "metadata": {},
   "outputs": [],
   "source": []
  },
  {
   "cell_type": "code",
   "execution_count": 3,
   "metadata": {},
   "outputs": [
    {
     "name": "stdout",
     "output_type": "stream",
     "text": [
      "['Jupiter audit feb24 - 1fva87lsxku6u3-labelbox_links_65d4e389106a49fae37510b3.csv']\n"
     ]
    }
   ],
   "source": [
    "import os\n",
    "audit_csv_paths = [p for p in os.listdir() if p.endswith('.csv')]\n",
    "print(audit_csv_paths)"
   ]
  },
  {
   "cell_type": "code",
   "execution_count": 8,
   "metadata": {},
   "outputs": [
    {
     "name": "stdout",
     "output_type": "stream",
     "text": [
      "477 64d2d15ca0bae7220cd6bf93\n"
     ]
    }
   ],
   "source": [
    "audit_df = pd.read_csv(audit_csv_paths[0])\n",
    "# notes_lower = audit_df['Notes'].str.lower\n",
    "bad_ids = audit_df[(audit_df['Audit status'] != 'ok')]['id']\n",
    "print(len(bad_ids), bad_ids[0])"
   ]
  },
  {
   "cell_type": "code",
   "execution_count": null,
   "metadata": {},
   "outputs": [
    {
     "name": "stdout",
     "output_type": "stream",
     "text": [
      "279410 -> 279410 (100.00%). For master_annotations_dedup_clean_20240206_okaudit.csv.\n"
     ]
    }
   ],
   "source": [
    "for dsetname in [\n",
    "    'halo_rgb_stereo_train_v6_2/master_annotations_dedup_clean_20240206',\n",
    "    'halo_rgb_stereo_train_v6_2/master_annotations_dedup_clean_ocal_20240208_50k_intersection',\n",
    "    'halo_rgb_stereo_train_v6_2/halo_rgb_stereo_train_v6_2_val_by_geohash_6_for_50k_subset',\n",
    "    'halo_rgb_stereo_train_v6_2_768/master_annotations_dedup_clean_ocal_20240208_50k_intersection',\n",
    "    'halo_rgb_stereo_train_v6_2_full_res/master_annotations_dedup_clean_ocal_20240208_50k_intersection']:\n",
    "    orig_data_df = pd.read_csv(f'/data2/jupiter/datasets/{dsetname}.csv')\n",
    "    out_data_df = orig_data_df[~orig_data_df['id'].isin(bad_ids)]\n",
    "    out_path = f'/data2/jupiter/datasets/{dsetname}_okaudit.csv'\n",
    "    print(f\"{len(orig_data_df)} -> {len(out_data_df)} ({100*len(out_data_df)/len(orig_data_df):.2f}%). For {out_path.split('/')[-1]}.\")\n",
    "    out_data_df.to_csv(out_path)\n"
   ]
  },
  {
   "cell_type": "code",
   "execution_count": null,
   "metadata": {},
   "outputs": [],
   "source": []
  }
 ],
 "metadata": {
  "kernelspec": {
   "display_name": "Python 3 (ipykernel)",
   "language": "python",
   "name": "python3"
  },
  "language_info": {
   "codemirror_mode": {
    "name": "ipython",
    "version": 3
   },
   "file_extension": ".py",
   "mimetype": "text/x-python",
   "name": "python",
   "nbconvert_exporter": "python",
   "pygments_lexer": "ipython3",
   "version": "3.8.0"
  }
 },
 "nbformat": 4,
 "nbformat_minor": 2
}
