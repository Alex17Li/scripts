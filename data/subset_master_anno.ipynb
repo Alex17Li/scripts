{
 "cells": [
  {
   "cell_type": "code",
   "execution_count": null,
   "metadata": {},
   "outputs": [],
   "source": [
    "import pandas as pd\n",
    "import os\n",
    "dset_path = '/mnt/datasets/halo_rgb_stereo_train_v6_1//'\n",
    "orig_anno_path = 'master_annotations.csv'\n",
    "df = pd.read_csv(filepath_or_buffer=dset_path + orig_anno_path)\n",
    "dirnames = os.listdir(dset_path + 'processed/images')\n",
    "set(df['id']) - set(dirnames) # Images that are not saved"
   ]
  },
  {
   "cell_type": "code",
   "execution_count": null,
   "metadata": {},
   "outputs": [],
   "source": [
    "subset_size = 50000\n",
    "out_path = f\"{dset_path}{orig_anno_path.replace('.csv','')}_{subset_size//1000}k.csv\"\n",
    "print(out_path)\n",
    "df_subset = df.sample(subset_size, replace=False)\n",
    "print(len(df_subset))\n",
    "df_subset.to_csv(out_path)"
   ]
  }
 ],
 "metadata": {
  "kernelspec": {
   "display_name": "cvml",
   "language": "python",
   "name": "python3"
  },
  "language_info": {
   "codemirror_mode": {
    "name": "ipython",
    "version": 3
   },
   "file_extension": ".py",
   "mimetype": "text/x-python",
   "name": "python",
   "nbconvert_exporter": "python",
   "pygments_lexer": "ipython3",
   "version": "3.10.0"
  }
 },
 "nbformat": 4,
 "nbformat_minor": 2
}
