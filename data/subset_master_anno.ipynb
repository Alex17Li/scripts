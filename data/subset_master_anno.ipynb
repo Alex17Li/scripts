{
 "cells": [
  {
   "cell_type": "code",
   "execution_count": 36,
   "metadata": {},
   "outputs": [
    {
     "name": "stderr",
     "output_type": "stream",
     "text": [
      "/home/alex.li/miniconda3/envs/cvml/lib/python3.8/site-packages/IPython/core/interactiveshell.py:3508: DtypeWarning: Columns (23,81,92,93,94,95,96,98,99,101,102,103,104,105,106,107,108,109,119,150,172,185,200,201,211,233,234,243,244) have mixed types.Specify dtype option on import or set low_memory=False.\n",
      "  exec(code_obj, self.user_global_ns, self.user_ns)\n"
     ]
    }
   ],
   "source": [
    "import pandas as pd\n",
    "from brtdevkit.data import Dataset\n",
    "from aletheia_dataset_creator.dataset_tools.aletheia_dataset_helpers import imageids_to_dataset\n",
    "dset_path = '/data2/jupiter/datasets/halo_rgb_stereo_train_v6_2_alleysson/'\n",
    "orig_anno_path = 'master_annotations.csv'\n",
    "df = pd.read_csv(filepath_or_buffer=dset_path + orig_anno_path)\n",
    "# subset_size = 144\n",
    "# df_subset = df.sample(subset_size, replace=False)"
   ]
  },
  {
   "cell_type": "code",
   "execution_count": 70,
   "metadata": {},
   "outputs": [],
   "source": [
    "df_train_orig = pd.read_csv('/data2/jupiter/datasets/halo_rgb_stereo_train_v6_2/master_annotations_dedup_clean_ocal_20240208_50k_intersection_okaudit.csv')\n",
    "df_test = pd.read_csv(\"/data2/jupiter/datasets/halo_rgb_stereo_train_v6_2/halo_rgb_stereo_train_v6_2_val_by_geohash_6_for_50k_subset_okaudit.csv\")"
   ]
  },
  {
   "cell_type": "code",
   "execution_count": 78,
   "metadata": {},
   "outputs": [
    {
     "name": "stderr",
     "output_type": "stream",
     "text": [
      "/home/alex.li/miniconda3/envs/cvml/lib/python3.8/site-packages/IPython/core/interactiveshell.py:3508: DtypeWarning: Columns (23,81,92,93,94,95,96,98,99,101,102,103,104,105,106,107,108,109,119,150,172,185,200,201,211,233,234,243,244) have mixed types.Specify dtype option on import or set low_memory=False.\n",
      "  exec(code_obj, self.user_global_ns, self.user_ns)\n"
     ]
    },
    {
     "data": {
      "text/plain": [
       "['annotation_pixelwise_0_save_path',\n",
       " 'annotation_pixelwise_1_save_path',\n",
       " 'artifact_debayeredrgb_0_save_path',\n",
       " 'artifact_debayeredrgb_1_save_path',\n",
       " 'artifact_raw_0_save_path',\n",
       " 'artifact_raw_1_save_path',\n",
       " 'rectified_lidar_save_path',\n",
       " 'stereo_pipeline_npz_save_path']"
      ]
     },
     "execution_count": 78,
     "metadata": {},
     "output_type": "execute_result"
    }
   ],
   "source": [
    "dset_path = '/data2/jupiter/datasets/halo_rgb_stereo_train_v6_2_alleysson/'\n",
    "orig_anno_path = 'master_annotations.csv'\n",
    "df = pd.read_csv(filepath_or_buffer=dset_path + orig_anno_path)\n",
    "[c for c in df.columns if 'save' in c]"
   ]
  },
  {
   "cell_type": "code",
   "execution_count": 72,
   "metadata": {},
   "outputs": [],
   "source": [
    "def get_uid(row):\n",
    "    return row['id'] + '_' + row['camera_location'] + '_' + row['camera_location_right']\n",
    "df_train_orig['unique_id'] = df_train.apply(get_uid, axis=1)"
   ]
  },
  {
   "cell_type": "code",
   "execution_count": 73,
   "metadata": {},
   "outputs": [],
   "source": [
    "train_alleyson = df[df['unique_id'].isin(df_train_orig['unique_id'])]"
   ]
  },
  {
   "cell_type": "code",
   "execution_count": 74,
   "metadata": {},
   "outputs": [
    {
     "name": "stdout",
     "output_type": "stream",
     "text": [
      "45278\n",
      "45278\n"
     ]
    }
   ],
   "source": [
    "train_orig = df_train_orig[df_train_orig['unique_id'].isin(train_alleyson['unique_id'])]\n",
    "print(len(train_alleyson))\n",
    "print(len(train_orig))"
   ]
  },
  {
   "cell_type": "code",
   "execution_count": 75,
   "metadata": {},
   "outputs": [
    {
     "data": {
      "text/plain": [
       "Unnamed: 0               1\n",
       "Unnamed: 0.1         55573\n",
       "Unnamed: 0.1.1       57341\n",
       "Unnamed: 0.1.1.1     19378\n",
       "actor_clothing         NaN\n",
       "                     ...  \n",
       "has_road             False\n",
       "has_implement         True\n",
       "has_dust             False\n",
       "geohash_6           dp0duc\n",
       "geohash_5            dp0du\n",
       "Name: 1, Length: 354, dtype: object"
      ]
     },
     "execution_count": 75,
     "metadata": {},
     "output_type": "execute_result"
    }
   ],
   "source": [
    "train_orig.iloc[0]"
   ]
  },
  {
   "cell_type": "code",
   "execution_count": 77,
   "metadata": {},
   "outputs": [
    {
     "data": {
      "text/plain": [
       "['annotation_pixelwise_0_save_path',\n",
       " 'annotation_pixelwise_1_save_path',\n",
       " 'artifact_debayeredrgb_0_save_path',\n",
       " 'artifact_debayeredrgb_1_save_path',\n",
       " 'artifact_raw_0_save_path',\n",
       " 'artifact_raw_1_save_path',\n",
       " 'rectified_lidar_save_path',\n",
       " 'stereo_pipeline_npz_save_path']"
      ]
     },
     "execution_count": 77,
     "metadata": {},
     "output_type": "execute_result"
    }
   ],
   "source": [
    "df = pd.read_csv(dset_path  + 'master_anno_alley_comparison_subset_45k.csv')\n"
   ]
  },
  {
   "cell_type": "code",
   "execution_count": 64,
   "metadata": {},
   "outputs": [],
   "source": [
    "train_alleyson.to_csv(dset_path + 'master_anno_alley_comparison_subset_45k.csv')\n",
    "train_orig.to_csv('/data2/jupiter/datasets/halo_rgb_stereo_train_v6_2/master_anno_alley_comparison_subset_45k.csv')"
   ]
  },
  {
   "cell_type": "code",
   "execution_count": 3,
   "metadata": {},
   "outputs": [
    {
     "name": "stdout",
     "output_type": "stream",
     "text": [
      "['Jupiter audit feb24 - 1fva87lsxku6u3-labelbox_links_65d4e389106a49fae37510b3.csv']\n"
     ]
    }
   ],
   "source": [
    "import os\n",
    "audit_csv_paths = [p for p in os.listdir() if p.endswith('.csv')]\n",
    "print(audit_csv_paths)"
   ]
  },
  {
   "cell_type": "code",
   "execution_count": 27,
   "metadata": {},
   "outputs": [
    {
     "name": "stdout",
     "output_type": "stream",
     "text": [
      "477 64d297ed576d72071860af72\n"
     ]
    }
   ],
   "source": [
    "audit_df = pd.read_csv(audit_csv_paths[0])\n",
    "# notes_lower = audit_df['Notes'].str.lower\n",
    "bad_ids = audit_df[(audit_df['Audit status'] != 'ok')]['image_id']\n",
    "print(len(bad_ids), bad_ids[0])"
   ]
  },
  {
   "cell_type": "code",
   "execution_count": 30,
   "metadata": {},
   "outputs": [
    {
     "name": "stderr",
     "output_type": "stream",
     "text": [
      "/home/alex.li/miniconda3/envs/cvml/lib/python3.8/site-packages/IPython/core/interactiveshell.py:3508: DtypeWarning: Columns (2,3,24,82,93,94,95,96,97,99,100,102,103,104,105,106,107,108,109,110,120,151,153,157,158,161,163,164,172,175,176,178,181,182,184,188,190,200,201,203,204,205,206,211,212,228,233,234,235,236,238,240,241,242,253,254,256,259,260,261,262,263,264,265,266,267,268,269,270,271,272,273,274,275,277,282,283,284,287,288,289,291) have mixed types.Specify dtype option on import or set low_memory=False.\n",
      "  exec(code_obj, self.user_global_ns, self.user_ns)\n"
     ]
    },
    {
     "name": "stdout",
     "output_type": "stream",
     "text": [
      "279410 -> 278693 (99.74%). For master_annotations_dedup_clean_20240206_okaudit.csv.\n"
     ]
    },
    {
     "name": "stderr",
     "output_type": "stream",
     "text": [
      "/home/alex.li/miniconda3/envs/cvml/lib/python3.8/site-packages/IPython/core/interactiveshell.py:3508: DtypeWarning: Columns (25,94,95,96,97,98,100,101,103,104,105,106,107,108,109,110,111,235,242) have mixed types.Specify dtype option on import or set low_memory=False.\n",
      "  exec(code_obj, self.user_global_ns, self.user_ns)\n"
     ]
    },
    {
     "name": "stdout",
     "output_type": "stream",
     "text": [
      "49942 -> 49821 (99.76%). For master_annotations_dedup_clean_ocal_20240208_50k_intersection_okaudit.csv.\n",
      "12672 -> 12613 (99.53%). For halo_rgb_stereo_train_v6_2_val_by_geohash_6_for_50k_subset_okaudit.csv.\n",
      "49901 -> 49780 (99.76%). For master_annotations_dedup_clean_ocal_20240208_50k_intersection_okaudit.csv.\n",
      "49942 -> 49821 (99.76%). For master_annotations_dedup_clean_ocal_20240208_50k_intersection_okaudit.csv.\n"
     ]
    }
   ],
   "source": [
    "for dsetname in [\n",
    "    'halo_rgb_stereo_train_v6_2/master_annotations_dedup_clean_20240206',\n",
    "    'halo_rgb_stereo_train_v6_2/master_annotations_dedup_clean_ocal_20240208_50k_intersection',\n",
    "    'halo_rgb_stereo_train_v6_2/halo_rgb_stereo_train_v6_2_val_by_geohash_6_for_50k_subset',\n",
    "    'halo_rgb_stereo_train_v6_2_768/master_annotations_dedup_clean_ocal_20240208_50k_intersection',\n",
    "    'halo_rgb_stereo_train_v6_2_full_res/master_annotations_dedup_clean_ocal_20240208_50k_intersection']:\n",
    "    orig_data_df = pd.read_csv(f'/data2/jupiter/datasets/{dsetname}.csv')\n",
    "    out_data_df = orig_data_df[~orig_data_df['id'].isin(bad_ids)]\n",
    "    out_path = f'/data2/jupiter/datasets/{dsetname}_okaudit.csv'\n",
    "    print(f\"{len(orig_data_df)} -> {len(out_data_df)} ({100*len(out_data_df)/len(orig_data_df):.2f}%). For {out_path.split('/')[-1]}.\")\n",
    "    out_data_df.to_csv(out_path)\n"
   ]
  }
 ],
 "metadata": {
  "kernelspec": {
   "display_name": "Python 3 (ipykernel)",
   "language": "python",
   "name": "python3"
  },
  "language_info": {
   "codemirror_mode": {
    "name": "ipython",
    "version": 3
   },
   "file_extension": ".py",
   "mimetype": "text/x-python",
   "name": "python",
   "nbconvert_exporter": "python",
   "pygments_lexer": "ipython3",
   "version": "3.8.0"
  }
 },
 "nbformat": 4,
 "nbformat_minor": 2
}
