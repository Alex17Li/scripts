{
 "cells": [
  {
   "cell_type": "code",
   "execution_count": 5,
   "metadata": {},
   "outputs": [
    {
     "name": "stdout",
     "output_type": "stream",
     "text": [
      "3190 2730\n"
     ]
    }
   ],
   "source": [
    "from brtdevkit.data import Dataset\n",
    "prod_dataset = Dataset.retrieve(name='mannequin_in_dust_v2')\n",
    "new_dataset = Dataset.retrieve(id='62913b27f284f6f9783716a2')\n",
    "prod_df = prod_dataset.to_dataframe()\n",
    "new_df = new_dataset.to_dataframe()\n",
    "id1 = list(prod_df['id'])\n",
    "id2 = list(new_df['id'])\n",
    "print(len(id1), len(id2))\n",
    "all_ids = id1 + id2"
   ]
  },
  {
   "cell_type": "code",
   "execution_count": 7,
   "metadata": {},
   "outputs": [
    {
     "name": "stdout",
     "output_type": "stream",
     "text": [
      "A mannequin with dust billowing around. All images contain a mannequin. (1595 images)\n"
     ]
    }
   ],
   "source": [
    "print(prod_dataset.description)"
   ]
  },
  {
   "cell_type": "code",
   "execution_count": 12,
   "metadata": {},
   "outputs": [
    {
     "data": {
      "text/plain": [
       "0"
      ]
     },
     "execution_count": 12,
     "metadata": {},
     "output_type": "execute_result"
    }
   ],
   "source": [
    "sum(new_df['operation_time'] == 'unknown')"
   ]
  },
  {
   "cell_type": "code",
   "execution_count": 10,
   "metadata": {},
   "outputs": [
    {
     "name": "stdout",
     "output_type": "stream",
     "text": [
      "INFO: Pandarallel will run on 16 workers.\n",
      "INFO: Pandarallel will use Memory file system to transfer data between the main process and workers.\n",
      "Warning 2960 images do not have a corresponding annotation.\n",
      "Preparing stereo dataframe...\n",
      "Size of left dataframe: 2960\n",
      "INFO: Pandarallel will run on 16 workers.\n",
      "INFO: Pandarallel will use Memory file system to transfer data between the main process and workers.\n",
      "INFO: Pandarallel will run on 16 workers.\n",
      "INFO: Pandarallel will use Memory file system to transfer data between the main process and workers.\n",
      "Size of stereo dataframe: 2960\n",
      "Sending 2960 annotated_ids for creating dataset\n",
      "Time taken to prepare data for dataset creation job: 4.61 mins\n"
     ]
    }
   ],
   "source": [
    "from aletheia_dataset_creator.dataset_tools.aletheia_dataset_helpers import imageids_to_dataset\n",
    "imageids_to_dataset(all_ids, 'mannequin_in_dust_v2_plus', dataset_description=\"A mannequin in several positions with dust billowing around. ~5k images\", dataset_kind=Dataset.KIND_ANNOTATION, production_dataset=False)"
   ]
  },
  {
   "cell_type": "markdown",
   "metadata": {},
   "source": [
    "# Get 5th vehicle sequece"
   ]
  },
  {
   "cell_type": "code",
   "execution_count": 1,
   "metadata": {},
   "outputs": [
    {
     "name": "stderr",
     "output_type": "stream",
     "text": [
      "/home/alexli/miniconda3/envs/cvml/lib/python3.10/site-packages/tqdm/auto.py:21: TqdmWarning: IProgress not found. Please update jupyter and ipywidgets. See https://ipywidgets.readthedocs.io/en/stable/user_install.html\n",
      "  from .autonotebook import tqdm as notebook_tqdm\n"
     ]
    }
   ],
   "source": [
    "from brtdevkit.data import Dataset\n",
    "ds_aletheia = Dataset.retrieve(name='vehicles_driving_through_dust_1_2_5_hard')\n",
    "df = ds_aletheia.to_dataframe()"
   ]
  },
  {
   "cell_type": "code",
   "execution_count": 4,
   "metadata": {},
   "outputs": [
    {
     "name": "stdout",
     "output_type": "stream",
     "text": [
      "5722\n"
     ]
    }
   ],
   "source": []
  },
  {
   "cell_type": "code",
   "execution_count": 15,
   "metadata": {},
   "outputs": [
    {
     "name": "stderr",
     "output_type": "stream",
     "text": [
      "/tmp/ipykernel_134395/3802016479.py:2: UserWarning: Pandas doesn't allow columns to be created via a new attribute name - see https://pandas.pydata.org/pandas-docs/stable/indexing.html#attribute-access\n",
      "  df.collected_on_dt = pd.to_datetime(df.collected_on)\n"
     ]
    }
   ],
   "source": [
    "import pandas as pd\n",
    "df.collected_on_dt = pd.to_datetime(df.collected_on)"
   ]
  },
  {
   "cell_type": "code",
   "execution_count": 6,
   "metadata": {},
   "outputs": [],
   "source": [
    "import matplotlib.pyplot as plt\n",
    "import pandas as pd\n",
    "import datetime\n",
    "dt = datetime.datetime(2023,5,1)\n",
    "df['collected_on_dt'] = pd.to_datetime(df.collected_on)\n",
    "df_5 = df[df.collected_on_dt > dt]"
   ]
  },
  {
   "cell_type": "code",
   "execution_count": 35,
   "metadata": {},
   "outputs": [
    {
     "name": "stderr",
     "output_type": "stream",
     "text": [
      "/home/alexli/miniconda3/envs/cvml/lib/python3.10/site-packages/pandas/core/indexing.py:1817: SettingWithCopyWarning: \n",
      "A value is trying to be set on a copy of a slice from a DataFrame.\n",
      "Try using .loc[row_indexer,col_indexer] = value instead\n",
      "\n",
      "See the caveats in the documentation: https://pandas.pydata.org/pandas-docs/stable/user_guide/indexing.html#returning-a-view-versus-a-copy\n",
      "  self._setitem_single_column(loc, value, pi)\n",
      "/tmp/ipykernel_135799/1541581771.py:39: SettingWithCopyWarning: \n",
      "A value is trying to be set on a copy of a slice from a DataFrame.\n",
      "Try using .loc[row_indexer,col_indexer] = value instead\n",
      "\n",
      "See the caveats in the documentation: https://pandas.pydata.org/pandas-docs/stable/user_guide/indexing.html#returning-a-view-versus-a-copy\n",
      "  df['operation_time'] = df.apply(guess_missing_operation_time_from_special_notes, axis=1)\n"
     ]
    }
   ],
   "source": [
    "import re\n",
    "import numpy as np\n",
    "from pathlib import Path\n",
    "def guess_missing_operation_time_from_special_notes(row: pd.Series) -> str:\n",
    "    \"\"\"Some data (suv_driving_through_rear_dust_anno) didn't have operation time\n",
    "    in the rows (or latitude/longitude), so you can't easily infer the\n",
    "    time of day. However, it can be guessed from the special notes\n",
    "    for these particular bags, so its ok.\n",
    "\n",
    "    Args:\n",
    "        row: should have 'special_notes' and 'operation_time' columns\n",
    "\n",
    "    Returns:\n",
    "        str: the operation time\n",
    "    \"\"\"\n",
    "    notes = str(row['special_notes']).lower()\n",
    "    notes = row['special_notes'].lower() if isinstance(row['special_notes'], str) else \"unknown\"\n",
    "    if re.search(r'dust_pos\\d(-atmp-2)?', notes):\n",
    "        return 'dawn_dusk'\n",
    "    elif re.search(r'dust-dusk-pos[1-5]', notes):\n",
    "        return 'dawn_dusk'\n",
    "    elif re.search(r'\\bnight\\b', notes):\n",
    "        return 'nightime' # that's how it's spelled in the database\n",
    "    elif re.search(r'\\bdusk\\b', notes):\n",
    "        return 'dawn_dusk'\n",
    "    elif re.search(r'\\bday\\b', notes):\n",
    "        return 'daytime'\n",
    "    else:\n",
    "        return row['operation_time']\n",
    "\n",
    "def fill_missing_operation_time(df: pd.DataFrame) -> pd.Series:\n",
    "    \"\"\"Some data  didn't have operation time in the rows (or latitude/longitude),\n",
    "    so you can't read the time of day. It is recorded in another file that we must read from.\"\"\"\n",
    "    fpath =  \"/home/alexli/git/JupiterScripts/apps/embedded_metrics/data/operation_time_for_sequence_data.npz\"\n",
    "    sequences = np.load(fpath, allow_pickle=True)\n",
    "    for operation_time, sequence in sequences.items():\n",
    "        seq_ids = np.concatenate(sequence)\n",
    "        df.loc[df.id.isin(list(seq_ids)), 'operation_time'] = operation_time\n",
    "    df['operation_time'] = df.apply(guess_missing_operation_time_from_special_notes, axis=1)\n",
    "    return df['operation_time']\n",
    "op_time_computed = fill_missing_operation_time(df_5)"
   ]
  },
  {
   "cell_type": "code",
   "execution_count": 33,
   "metadata": {},
   "outputs": [
    {
     "name": "stdout",
     "output_type": "stream",
     "text": [
      "INFO: Pandarallel will run on 16 workers.\n",
      "INFO: Pandarallel will use Memory file system to transfer data between the main process and workers.\n",
      "Warning 1137 images do not have a corresponding annotation.\n",
      "Preparing stereo dataframe...\n",
      "Size of left dataframe: 1137\n",
      "INFO: Pandarallel will run on 16 workers.\n",
      "INFO: Pandarallel will use Memory file system to transfer data between the main process and workers.\n",
      "INFO: Pandarallel will run on 16 workers.\n",
      "INFO: Pandarallel will use Memory file system to transfer data between the main process and workers.\n",
      "Size of stereo dataframe: 1137\n",
      "Sending 1137 annotated_ids for creating dataset\n",
      "Time taken to prepare data for dataset creation job: 4.21 mins\n"
     ]
    }
   ],
   "source": [
    "from aletheia_dataset_creator.dataset_tools.aletheia_dataset_helpers import imageids_to_dataset\n",
    "imageids_to_dataset(image_ids=list(df_5['id']), 'vehicles_driving_through_dust_5', dataset_description=\"Vehicles driving in dust, 2274 images\", dataset_kind=Dataset.KIND_ANNOTATION, production_dataset=False)"
   ]
  }
 ],
 "metadata": {
  "kernelspec": {
   "display_name": "cvml",
   "language": "python",
   "name": "python3"
  },
  "language_info": {
   "codemirror_mode": {
    "name": "ipython",
    "version": 3
   },
   "file_extension": ".py",
   "mimetype": "text/x-python",
   "name": "python",
   "nbconvert_exporter": "python",
   "pygments_lexer": "ipython3",
   "version": "3.10.0"
  },
  "orig_nbformat": 4
 },
 "nbformat": 4,
 "nbformat_minor": 2
}
