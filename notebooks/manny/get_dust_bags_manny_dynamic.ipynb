{
 "cells": [
  {
   "cell_type": "code",
   "execution_count": 1,
   "metadata": {},
   "outputs": [
    {
     "name": "stderr",
     "output_type": "stream",
     "text": [
      "/home/alex.li/miniconda3/envs/cvml/lib/python3.8/site-packages/tqdm/auto.py:21: TqdmWarning: IProgress not found. Please update jupyter and ipywidgets. See https://ipywidgets.readthedocs.io/en/stable/user_install.html\n",
      "  from .autonotebook import tqdm as notebook_tqdm\n"
     ]
    }
   ],
   "source": [
    "import time\n",
    "import json\n",
    "import ast\n",
    "import os\n",
    "import datetime\n",
    "import io\n",
    "from collections import defaultdict\n",
    "from tqdm import tqdm\n",
    "\n",
    "import imageio\n",
    "import boto3\n",
    "import pandas as pd\n",
    "import numpy as np\n",
    "import imageio\n",
    "import matplotlib.pyplot as plt\n",
    "from pathlib import Path\n",
    "\n",
    "from brtdevkit.core.db.athena import AthenaClient\n",
    "from brtdevkit.data import Dataset\n",
    "from timezonefinder import TimezoneFinderL\n",
    "import pytz\n",
    "import cv2\n",
    "from brtdevkit.util.aws.s3 import S3\n",
    "client = S3()\n",
    "\n",
    "from aletheia_dataset_creator.dataset_tools.aletheia_dataset_helpers import imageids_to_dataset\n",
    "from aletheia_dataset_creator.config.dataset_config import LEFT_CAMERAS, ALL_CAMERA_PAIRS_LIST\n",
    "%matplotlib inline"
   ]
  },
  {
   "cell_type": "code",
   "execution_count": 2,
   "metadata": {},
   "outputs": [],
   "source": [
    "pd.set_option('display.max_rows', 500)\n",
    "athena = AthenaClient()\n",
    "s3 = boto3.resource('s3')\n",
    "tf = TimezoneFinderL()\n",
    "home = Path(os.path.expanduser('~'))\n",
    "data_path = Path(os.environ['OUTPUT_PATH']) / \"manny_2\""
   ]
  },
  {
   "cell_type": "code",
   "execution_count": 3,
   "metadata": {},
   "outputs": [],
   "source": [
    "import os\n",
    "from aletheia_dataset_creator.dataset_tools.aletheia_dataset_helpers import imageids_to_dataset\n",
    "import random\n",
    "from sklearn.cluster import KMeans\n",
    "from brtdevkit.data import Dataset\n",
    "from email.mime import image\n",
    "import itertools\n",
    "from pathlib import Path\n",
    "import torch\n",
    "import clip\n",
    "from PIL import Image\n",
    "from torch.utils.data import Dataset as torchDataset, DataLoader\n",
    "import torchvision.transforms as T\n",
    "import torch.nn as nn\n",
    "from skimage.metrics import structural_similarity as ssim\n",
    "from tqdm import tqdm\n",
    "from matplotlib import pyplot as plt\n",
    "\n",
    "import pandas as pd\n",
    "import numpy as np\n",
    "import yaml\n",
    "from pathlib import Path \n",
    "from sklearn.decomposition import PCA\n",
    "torch.cuda.empty_cache()\n",
    "\n",
    "import imageio\n",
    "\n",
    "class Datasetpreparer(torchDataset):    \n",
    "        def __init__(self, data, preprocess=None, transform=None, device=\"cuda\"):\n",
    "            self.data = data\n",
    "            self.transform =  transform \n",
    "            self.preprocess = preprocess\n",
    "            self.device = device \n",
    "        def __len__(self):\n",
    "            return len(self.data)\n",
    "\n",
    "        def __getitem__(self, idx):\n",
    "            img_path = self.data.loc[idx, 'image_path']\n",
    "            try:\n",
    "                img_pil = self.transform(Image.fromarray(imageio.imread(img_path)))\n",
    "                # Download and open the image        \n",
    "                img_pil = self.preprocess(img_pil).to(self.device)\n",
    "            except Exception as e:\n",
    "                print(e)\n",
    "                img_path = self.data.loc[0, 'image_path']\n",
    "                img_pil = self.transform(Image.fromarray(imageio.imread(img_path)))\n",
    "                img_pil = self.preprocess(img_pil).to(self.device)\n",
    "                return img_pil, img_path\n",
    "            return img_pil, img_path\n",
    "\n",
    "class ImageSimilarity: \n",
    "    def __init__(self, images_full_path, data_base_path, dataset_name='image_list', overwrite=False):\n",
    "        self.data_base_path = data_base_path\n",
    "        os.makedirs(self.data_base_path, exist_ok=True)\n",
    "        self.images_base_path = data_base_path + \"/images\"\n",
    "        self.images_full_path = images_full_path\n",
    "        \n",
    "        self.image_path_df = None \n",
    "        self.transform = T.Compose([\n",
    "            T.Resize((224,224))])\n",
    "        \n",
    "        self.inference_set = None \n",
    "        self.embeddings_np = None\n",
    "        self.image_paths = None \n",
    "        self.image_paths_df = None\n",
    "        self.embeddings_save_name = f\"{dataset_name}_embeddings.npz\"\n",
    "        self.embeddings_image_paths = Path(self.data_base_path) / f\"{dataset_name}_embeddings_image_paths.csv\"\n",
    "        self.embeddings_save_loc = Path(self.data_base_path) / self.embeddings_save_name\n",
    "        self.overwrite = overwrite \n",
    "        self.model = None \n",
    "        self.preprocessor = None \n",
    "        self.sorted_scores = None \n",
    "        self.sorted_scores_save_loc = data_base_path \n",
    "        self.device = \"cuda\" if torch.cuda.is_available() else \"cpu\"\n",
    "        self.load_model()\n",
    "        \n",
    "    def prepare_images_path_df(self): \n",
    "        self.image_path_df = pd.DataFrame(data=self.images_full_path, columns=['image_path'])\n",
    "        return self.image_path_df\n",
    "    \n",
    "    def prepare_dataloader(self): \n",
    "        self.inference_set = Datasetpreparer(data=self.image_path_df, preprocess=self.preprocessor, transform=self.transform, device=self.device)\n",
    "        inference_loader = DataLoader(self.inference_set, batch_size=64, shuffle=False, num_workers=0, drop_last=True)\n",
    "        self.total = len(self.image_path_df) / 64\n",
    "        return inference_loader\n",
    " \n",
    "    def load_model(self): \n",
    "        self.model, self.preprocessor = clip.load(\"ViT-B/32\", device=self.device)\n",
    "        return self.model, self.preprocessor\n",
    "\n",
    "    def build_embeddings(self): \n",
    "        outputs = []\n",
    "        image_paths = []\n",
    "        if (os.path.isfile(self.embeddings_save_loc)==True) and (self.overwrite==False): \n",
    "            self.embeddings_np, self.image_paths = self.load_embeddings()\n",
    "            return self.embeddings_np, self.image_paths \n",
    "        else:\n",
    "            inference_loader = self.prepare_dataloader()\n",
    "            for idx, batch in tqdm(enumerate(inference_loader), total=self.total): \n",
    "                batch, paths = batch[0], batch[1]\n",
    "                with torch.no_grad():\n",
    "                        batch = batch.to(self.device)\n",
    "                        image_features = self.model.encode_image(batch)\n",
    "                        outputs.append(image_features)  \n",
    "                        image_paths.extend(paths)\n",
    "            outputs = torch.cat(outputs, dim=0)\n",
    "            self.image_paths = image_paths \n",
    "            self.embeddings_np = outputs.detach().cpu().numpy()\n",
    "            return self.embeddings_np, self.image_paths\n",
    "            \n",
    "    def save_embeddings(self): \n",
    "            np.savez(self.embeddings_save_loc, self.embeddings_np) \n",
    "            image_paths_df = pd.DataFrame(data=self.image_paths, columns=['image_path'])\n",
    "            image_paths_df.to_csv(self.embeddings_image_paths, index=False)\n",
    "            return None \n",
    "        \n",
    "    def load_embeddings(self): \n",
    "        embeddings_save_loc = str(self.embeddings_save_loc)\n",
    "        embeddings = np.load(embeddings_save_loc)\n",
    "        self.embeddings_np = embeddings[embeddings.files[0]]       \n",
    "        self.image_paths_df= pd.read_csv(self.embeddings_image_paths )\n",
    "        return self.embeddings_np, self.image_paths_df \n",
    "\n",
    "    def get_image_embedding(self, image_path): \n",
    "        transformed_image = self.transform(Image.open(image_path))\n",
    "        img = self.preprocessor(transformed_image).unsqueeze(0).to(self.device)\n",
    "        embedding = self.model.encode_image(img)\n",
    "        embeddings_np = embedding.detach().cpu().numpy()\n",
    "        return embeddings_np\n",
    "    \n",
    "    def get_similar_images(self, image_path, calcuate_embeddings=False, images_base_path=None): \n",
    "        if images_base_path==None:\n",
    "            images_base_path = self.images_base_path\n",
    "        full_image_path = os.path.join(images_base_path, image_path)\n",
    "        embeddings_np, image_paths_df = self.load_embeddings()\n",
    "        image_paths = image_paths_df['image_path'].tolist()\n",
    "        if calcuate_embeddings==True:\n",
    "            reference_embedding = self.get_image_embedding(full_image_path)\n",
    "        else :\n",
    "            embedding_index = image_paths_df[image_paths_df['image_path'] == full_image_path].index[0]\n",
    "            reference_embedding = embeddings_np[embedding_index, :]\n",
    "        \n",
    "        similarity_score = np.dot(reference_embedding, embeddings_np.T)/(np.linalg.norm(reference_embedding)*np.linalg.norm( embeddings_np, axis=1))\n",
    "        score_df = pd.DataFrame(data=list(similarity_score.T), columns=['similarity_score'])\n",
    "        score_df['image_path'] = image_paths \n",
    "        self.sorted_scores = score_df.sort_values(by='similarity_score', ascending=False)\n",
    "        image_name = image_path.split(\"/\")[-1].replace(\".png\",\"\")\n",
    "        save_loc_sorted_scores = Path(self.sorted_scores_save_loc) / f\"{image_name}.csv\"\n",
    "        self.sorted_scores.to_csv(save_loc_sorted_scores, index=False)\n",
    "        return self.sorted_scores\n",
    "    \n",
    "    def similar_images_with_text(self, text_prompt):\n",
    "        \n",
    "        embeddings_np, image_paths_df = self.load_embeddings()\n",
    "        image_paths = image_paths_df['image_path'].tolist()\n",
    "        text = clip.tokenize(text_prompt).to(self.device)\n",
    "        text_features = self.model.encode_text(text)\n",
    "        text_features /= text_features.norm(dim=-1, keepdim=True)\n",
    "        text_features = text_features.detach().cpu().numpy()\n",
    "        reference_embedding = text_features\n",
    "            \n",
    "        similarity_score = np.dot(reference_embedding, embeddings_np.T)/(np.linalg.norm(reference_embedding)*np.linalg.norm( embeddings_np, axis=1))\n",
    "        score_df = pd.DataFrame(data=list(similarity_score.T), columns=['similarity_score'])\n",
    "        score_df['image_path'] = image_paths \n",
    "        self.sorted_scores = score_df.sort_values(by='similarity_score', ascending=False)\n",
    "        image_name = text_prompt.replace(\" \",\"_\")\n",
    "        save_loc_sorted_scores = Path(self.sorted_scores_save_loc) / f\"{image_name}.csv\"\n",
    "        self.sorted_scores.to_csv(save_loc_sorted_scores, index=False)\n",
    "        return self.sorted_scores\n",
    "        \n",
    "        \n",
    "    def plot_image_grid(self, image_paths_df, tail=0  ,nrows=5, ncols=2):\n",
    "        \n",
    "        # Assume image_paths is your list of image file paths\n",
    "        if tail > 0:\n",
    "            image_paths_df = image_paths_df.tail(tail)\n",
    "        image_paths = image_paths_df['image_path'].tolist()\n",
    "        n_rows = min(nrows, int(image_paths_df.shape[0] // 2 ))\n",
    "        fig, axes = plt.subplots(n_rows, ncols, figsize=(10, nrows*5))\n",
    "        for i, ax in enumerate(axes.flatten()):\n",
    "            if i < len(image_paths)-1:\n",
    "                image_path = image_paths[i]\n",
    "                title = image_path.split(\"/\")[-1]\n",
    "                img = Image.open(image_path)\n",
    "                ax.imshow(img)\n",
    "                ax.set_title(f'{title}  indx: {i}', fontsize=6)\n",
    "            ax.axis('off')\n",
    "\n",
    "        plt.tight_layout()\n",
    "        plt.show()\n",
    "\n",
    "\n",
    "    def extract_embeddings(self): \n",
    "        self.prepare_images_path_df()\n",
    "        self.prepare_dataloader()\n",
    "        self.build_embeddings()\n",
    "        self.save_embeddings()\n",
    "        return None\n",
    "    \n",
    "def get_images(save_dir, df):\n",
    "    save_dir = Path(save_dir)\n",
    "    dirs = [save_dir / d for d in df.id]\n",
    "    image_paths = []\n",
    "    for i, dir in tqdm(enumerate(dirs), total=len(dirs)):\n",
    "        if i % 1500 == 0:\n",
    "            print(100 * i / len(dirs))\n",
    "        for fname in os.listdir(dir):\n",
    "            if 'debayeredrgb' in fname and fname.endswith('.png'):\n",
    "                image_paths.append(str(object=dir / fname))\n",
    "    return image_paths"
   ]
  },
  {
   "cell_type": "code",
   "execution_count": 5,
   "metadata": {},
   "outputs": [],
   "source": [
    "dsetname = \"dynamic_manny_in_dust_raw\"\n",
    "aletheia_ds = Dataset.retrieve(name=dsetname)\n",
    "aletheia_df = aletheia_ds.to_dataframe()\n",
    "n_images_final = 12000\n",
    "kind = Dataset.KIND_IMAGE\n",
    "label_data = Dataset.retrieve(name=\"dynamic_manny_in_dust_raw_diverse_4000\").to_dataframe()\n",
    "label_data_had_human = Dataset.retrieve(name=\"mannequin_in_dust_v1\").to_dataframe()\n",
    "label_data_no_human = list(set(label_data['id']) - set(label_data_had_human['id']))\n",
    "dataset_save_dir = os.environ['DATASET_PATH'] + \"/\" + dsetname\n",
    "save_file = Path(dataset_save_dir) / \"image_ids.npy\"\n",
    "image_paths = np.load(save_file).tolist()"
   ]
  },
  {
   "cell_type": "code",
   "execution_count": 6,
   "metadata": {},
   "outputs": [
    {
     "data": {
      "text/html": [
       "<div>\n",
       "<style scoped>\n",
       "    .dataframe tbody tr th:only-of-type {\n",
       "        vertical-align: middle;\n",
       "    }\n",
       "\n",
       "    .dataframe tbody tr th {\n",
       "        vertical-align: top;\n",
       "    }\n",
       "\n",
       "    .dataframe thead th {\n",
       "        text-align: right;\n",
       "    }\n",
       "</style>\n",
       "<table border=\"1\" class=\"dataframe\">\n",
       "  <thead>\n",
       "    <tr style=\"text-align: right;\">\n",
       "      <th></th>\n",
       "      <th>artifact_debayeredrgb_0__id</th>\n",
       "      <th>artifact_debayeredrgb_0_content_hash</th>\n",
       "      <th>artifact_debayeredrgb_0_created_at</th>\n",
       "      <th>artifact_debayeredrgb_0_data_category</th>\n",
       "      <th>artifact_debayeredrgb_0_id</th>\n",
       "      <th>artifact_debayeredrgb_0_image</th>\n",
       "      <th>artifact_debayeredrgb_0_kind</th>\n",
       "      <th>artifact_debayeredrgb_0_project_name</th>\n",
       "      <th>artifact_debayeredrgb_0_s3_bucket</th>\n",
       "      <th>artifact_debayeredrgb_0_s3_key</th>\n",
       "      <th>...</th>\n",
       "      <th>teleop_response</th>\n",
       "      <th>terrain_type</th>\n",
       "      <th>updated_at</th>\n",
       "      <th>vadc_estimated_curvature</th>\n",
       "      <th>vehicle_bearing</th>\n",
       "      <th>vpu_position</th>\n",
       "      <th>was_compressed</th>\n",
       "      <th>water_management</th>\n",
       "      <th>weather</th>\n",
       "      <th>weather_summary</th>\n",
       "    </tr>\n",
       "  </thead>\n",
       "  <tbody>\n",
       "    <tr>\n",
       "      <th>0</th>\n",
       "      <td>64ee42a42e655e79fbf5d0b8</td>\n",
       "      <td>353bf77d01bd75641976a1e34c3faa76</td>\n",
       "      <td>2023-08-29T19:10:28.343000</td>\n",
       "      <td>eng</td>\n",
       "      <td>64ee42a42e655e79fbf5d0b8</td>\n",
       "      <td>64ee42a42e655e79fbf5d0b7</td>\n",
       "      <td>debayeredrgb</td>\n",
       "      <td>jupiter</td>\n",
       "      <td>brt-mesa-jupiter-images-eng</td>\n",
       "      <td>2023/08/29/e118a5b5c1cc42d5852f26fedaee6a73-da...</td>\n",
       "      <td>...</td>\n",
       "      <td>NaN</td>\n",
       "      <td>openfield</td>\n",
       "      <td>2023-08-29T19:10:29.036000</td>\n",
       "      <td>NaN</td>\n",
       "      <td>NaN</td>\n",
       "      <td>1</td>\n",
       "      <td>False</td>\n",
       "      <td>none</td>\n",
       "      <td>sunny</td>\n",
       "      <td>{'datetime': '21:00:00', 'datetimeEpoch': 1693...</td>\n",
       "    </tr>\n",
       "    <tr>\n",
       "      <th>1</th>\n",
       "      <td>64ee42a956cb49f3dcc2f1a9</td>\n",
       "      <td>1c95feb853be38ed833ad64c89ad7de6</td>\n",
       "      <td>2023-08-29T19:10:33.277000</td>\n",
       "      <td>eng</td>\n",
       "      <td>64ee42a956cb49f3dcc2f1a9</td>\n",
       "      <td>64ee42a856cb49f3dcc2f1a7</td>\n",
       "      <td>debayeredrgb</td>\n",
       "      <td>jupiter</td>\n",
       "      <td>brt-mesa-jupiter-images-eng</td>\n",
       "      <td>2023/08/29/9274de7c81d74fa68d750b8bdedf6da2-da...</td>\n",
       "      <td>...</td>\n",
       "      <td>NaN</td>\n",
       "      <td>openfield</td>\n",
       "      <td>2023-08-29T19:10:33.604000</td>\n",
       "      <td>NaN</td>\n",
       "      <td>NaN</td>\n",
       "      <td>1</td>\n",
       "      <td>False</td>\n",
       "      <td>none</td>\n",
       "      <td>sunny</td>\n",
       "      <td>{'datetime': '21:00:00', 'datetimeEpoch': 1693...</td>\n",
       "    </tr>\n",
       "    <tr>\n",
       "      <th>2</th>\n",
       "      <td>64ee42af2fea9c788d7152e1</td>\n",
       "      <td>087846d7872b4cb4d3e5e0f0c5ff59e7</td>\n",
       "      <td>2023-08-29T19:10:39.361000</td>\n",
       "      <td>eng</td>\n",
       "      <td>64ee42af2fea9c788d7152e1</td>\n",
       "      <td>64ee42af2fea9c788d7152e0</td>\n",
       "      <td>debayeredrgb</td>\n",
       "      <td>jupiter</td>\n",
       "      <td>brt-mesa-jupiter-images-eng</td>\n",
       "      <td>2023/08/29/d7b0cca48dbf46c2b11aad22bf625ee9-da...</td>\n",
       "      <td>...</td>\n",
       "      <td>NaN</td>\n",
       "      <td>openfield</td>\n",
       "      <td>2023-08-29T19:10:40.042000</td>\n",
       "      <td>NaN</td>\n",
       "      <td>NaN</td>\n",
       "      <td>1</td>\n",
       "      <td>False</td>\n",
       "      <td>none</td>\n",
       "      <td>sunny</td>\n",
       "      <td>{'datetime': '21:00:00', 'datetimeEpoch': 1693...</td>\n",
       "    </tr>\n",
       "    <tr>\n",
       "      <th>3</th>\n",
       "      <td>64ee42b0e2b5d7468e2750b5</td>\n",
       "      <td>84ff622a07182cc4fc6330c55cc95856</td>\n",
       "      <td>2023-08-29T19:10:40.930000</td>\n",
       "      <td>eng</td>\n",
       "      <td>64ee42b0e2b5d7468e2750b5</td>\n",
       "      <td>64ee42b0e2b5d7468e2750b4</td>\n",
       "      <td>debayeredrgb</td>\n",
       "      <td>jupiter</td>\n",
       "      <td>brt-mesa-jupiter-images-eng</td>\n",
       "      <td>2023/08/29/4baaa95715e446368ed5fc90b8711127-da...</td>\n",
       "      <td>...</td>\n",
       "      <td>NaN</td>\n",
       "      <td>openfield</td>\n",
       "      <td>2023-08-29T19:10:41.778000</td>\n",
       "      <td>NaN</td>\n",
       "      <td>NaN</td>\n",
       "      <td>1</td>\n",
       "      <td>False</td>\n",
       "      <td>none</td>\n",
       "      <td>sunny</td>\n",
       "      <td>{'datetime': '21:00:00', 'datetimeEpoch': 1693...</td>\n",
       "    </tr>\n",
       "    <tr>\n",
       "      <th>4</th>\n",
       "      <td>64ee42d4f7f4625589492dbe</td>\n",
       "      <td>7789b942e6e2bf29c2c350eff359d95f</td>\n",
       "      <td>2023-08-29T19:11:16.708000</td>\n",
       "      <td>eng</td>\n",
       "      <td>64ee42d4f7f4625589492dbe</td>\n",
       "      <td>64ee42d4f7f4625589492dbd</td>\n",
       "      <td>debayeredrgb</td>\n",
       "      <td>jupiter</td>\n",
       "      <td>brt-mesa-jupiter-images-eng</td>\n",
       "      <td>2023/08/29/7818d7faee014ce189102471c107bf96-da...</td>\n",
       "      <td>...</td>\n",
       "      <td>NaN</td>\n",
       "      <td>openfield</td>\n",
       "      <td>2023-08-29T19:11:17.567000</td>\n",
       "      <td>NaN</td>\n",
       "      <td>NaN</td>\n",
       "      <td>1</td>\n",
       "      <td>False</td>\n",
       "      <td>none</td>\n",
       "      <td>sunny</td>\n",
       "      <td>{'datetime': '21:00:00', 'datetimeEpoch': 1693...</td>\n",
       "    </tr>\n",
       "    <tr>\n",
       "      <th>...</th>\n",
       "      <td>...</td>\n",
       "      <td>...</td>\n",
       "      <td>...</td>\n",
       "      <td>...</td>\n",
       "      <td>...</td>\n",
       "      <td>...</td>\n",
       "      <td>...</td>\n",
       "      <td>...</td>\n",
       "      <td>...</td>\n",
       "      <td>...</td>\n",
       "      <td>...</td>\n",
       "      <td>...</td>\n",
       "      <td>...</td>\n",
       "      <td>...</td>\n",
       "      <td>...</td>\n",
       "      <td>...</td>\n",
       "      <td>...</td>\n",
       "      <td>...</td>\n",
       "      <td>...</td>\n",
       "      <td>...</td>\n",
       "      <td>...</td>\n",
       "    </tr>\n",
       "    <tr>\n",
       "      <th>6423</th>\n",
       "      <td>64f8ba9dd07ef104045d93a9</td>\n",
       "      <td>87c97498b5742869b50c38f1f787ca8a</td>\n",
       "      <td>2023-09-06T17:45:01.098000</td>\n",
       "      <td>eng</td>\n",
       "      <td>64f8ba9dd07ef104045d93a9</td>\n",
       "      <td>64f8ba9dd07ef104045d93a8</td>\n",
       "      <td>debayeredrgb</td>\n",
       "      <td>jupiter</td>\n",
       "      <td>brt-mesa-jupiter-images-eng</td>\n",
       "      <td>2023/09/06/257e14e05111454ca5e2196498bc55ae-da...</td>\n",
       "      <td>...</td>\n",
       "      <td>NaN</td>\n",
       "      <td>openfield</td>\n",
       "      <td>2023-09-06T17:45:01.933000</td>\n",
       "      <td>{'bag_name': 'JUPD-001_2023-8-31__08_31_2023-0...</td>\n",
       "      <td>112.820312</td>\n",
       "      <td>0</td>\n",
       "      <td>False</td>\n",
       "      <td>none</td>\n",
       "      <td>sunny</td>\n",
       "      <td>{'datetime': '04:00:00', 'datetimeEpoch': 1693...</td>\n",
       "    </tr>\n",
       "    <tr>\n",
       "      <th>6424</th>\n",
       "      <td>64f8bac3db61ee654227d22f</td>\n",
       "      <td>adbe88d2c9ab623b86f6004f4efed019</td>\n",
       "      <td>2023-09-06T17:45:39.990000</td>\n",
       "      <td>eng</td>\n",
       "      <td>64f8bac3db61ee654227d22f</td>\n",
       "      <td>64f8bac3db61ee654227d22e</td>\n",
       "      <td>debayeredrgb</td>\n",
       "      <td>jupiter</td>\n",
       "      <td>brt-mesa-jupiter-images-eng</td>\n",
       "      <td>2023/09/06/6065f06334b0442d862e14279907ddf4-da...</td>\n",
       "      <td>...</td>\n",
       "      <td>NaN</td>\n",
       "      <td>openfield</td>\n",
       "      <td>2023-09-06T17:45:40.953000</td>\n",
       "      <td>{'bag_name': 'JUPD-001_2023-8-31__08_31_2023-0...</td>\n",
       "      <td>111.804688</td>\n",
       "      <td>0</td>\n",
       "      <td>False</td>\n",
       "      <td>none</td>\n",
       "      <td>sunny</td>\n",
       "      <td>{'datetime': '04:00:00', 'datetimeEpoch': 1693...</td>\n",
       "    </tr>\n",
       "    <tr>\n",
       "      <th>6425</th>\n",
       "      <td>64f8bb06e13fe93adb6e738c</td>\n",
       "      <td>1e8fc7a855cf59b0245b1d1fb55c6ddf</td>\n",
       "      <td>2023-09-06T17:46:46.352000</td>\n",
       "      <td>eng</td>\n",
       "      <td>64f8bb06e13fe93adb6e738c</td>\n",
       "      <td>64f8bb06e13fe93adb6e738b</td>\n",
       "      <td>debayeredrgb</td>\n",
       "      <td>jupiter</td>\n",
       "      <td>brt-mesa-jupiter-images-eng</td>\n",
       "      <td>2023/09/06/8c11cadfeeaa40dba5b79412ef8b9383-da...</td>\n",
       "      <td>...</td>\n",
       "      <td>NaN</td>\n",
       "      <td>openfield</td>\n",
       "      <td>2023-09-06T17:46:47.204000</td>\n",
       "      <td>{'bag_name': 'JUPD-001_2023-8-31__08_31_2023-0...</td>\n",
       "      <td>121.960938</td>\n",
       "      <td>0</td>\n",
       "      <td>False</td>\n",
       "      <td>none</td>\n",
       "      <td>sunny</td>\n",
       "      <td>{'datetime': '04:00:00', 'datetimeEpoch': 1693...</td>\n",
       "    </tr>\n",
       "    <tr>\n",
       "      <th>6426</th>\n",
       "      <td>64f8c07738f9481299e68808</td>\n",
       "      <td>08c595a6009ae9ce6dc703ddca3f7d83</td>\n",
       "      <td>2023-09-06T18:09:59.544000</td>\n",
       "      <td>eng</td>\n",
       "      <td>64f8c07738f9481299e68808</td>\n",
       "      <td>64f8c07738f9481299e68807</td>\n",
       "      <td>debayeredrgb</td>\n",
       "      <td>jupiter</td>\n",
       "      <td>brt-mesa-jupiter-images-eng</td>\n",
       "      <td>2023/09/06/349a4164f4874f68818c892a64e05db6-da...</td>\n",
       "      <td>...</td>\n",
       "      <td>NaN</td>\n",
       "      <td>openfield</td>\n",
       "      <td>2023-09-06T18:10:00.119000</td>\n",
       "      <td>{'bag_name': 'JUPD-001_2023-8-31__08_31_2023-0...</td>\n",
       "      <td>136.218750</td>\n",
       "      <td>0</td>\n",
       "      <td>False</td>\n",
       "      <td>none</td>\n",
       "      <td>sunny</td>\n",
       "      <td>{'datetime': '04:00:00', 'datetimeEpoch': 1693...</td>\n",
       "    </tr>\n",
       "    <tr>\n",
       "      <th>6427</th>\n",
       "      <td>64f8c3c3654a5b1a49472d81</td>\n",
       "      <td>d954f71c6430a8f0e5512ab6e55e21d3</td>\n",
       "      <td>2023-09-06T18:24:03.039000</td>\n",
       "      <td>eng</td>\n",
       "      <td>64f8c3c3654a5b1a49472d81</td>\n",
       "      <td>64f8c3c2654a5b1a49472d7f</td>\n",
       "      <td>debayeredrgb</td>\n",
       "      <td>jupiter</td>\n",
       "      <td>brt-mesa-jupiter-images-eng</td>\n",
       "      <td>2023/09/06/8d05f12f27f5455f856206082db51fc5-da...</td>\n",
       "      <td>...</td>\n",
       "      <td>NaN</td>\n",
       "      <td>openfield</td>\n",
       "      <td>2023-09-06T18:24:03.380000</td>\n",
       "      <td>{'bag_name': 'JUPD-001_2023-8-31__08_31_2023-0...</td>\n",
       "      <td>122.406250</td>\n",
       "      <td>0</td>\n",
       "      <td>False</td>\n",
       "      <td>none</td>\n",
       "      <td>sunny</td>\n",
       "      <td>{'datetime': '04:00:00', 'datetimeEpoch': 1693...</td>\n",
       "    </tr>\n",
       "  </tbody>\n",
       "</table>\n",
       "<p>6428 rows × 111 columns</p>\n",
       "</div>"
      ],
      "text/plain": [
       "     artifact_debayeredrgb_0__id artifact_debayeredrgb_0_content_hash  \\\n",
       "0       64ee42a42e655e79fbf5d0b8     353bf77d01bd75641976a1e34c3faa76   \n",
       "1       64ee42a956cb49f3dcc2f1a9     1c95feb853be38ed833ad64c89ad7de6   \n",
       "2       64ee42af2fea9c788d7152e1     087846d7872b4cb4d3e5e0f0c5ff59e7   \n",
       "3       64ee42b0e2b5d7468e2750b5     84ff622a07182cc4fc6330c55cc95856   \n",
       "4       64ee42d4f7f4625589492dbe     7789b942e6e2bf29c2c350eff359d95f   \n",
       "...                          ...                                  ...   \n",
       "6423    64f8ba9dd07ef104045d93a9     87c97498b5742869b50c38f1f787ca8a   \n",
       "6424    64f8bac3db61ee654227d22f     adbe88d2c9ab623b86f6004f4efed019   \n",
       "6425    64f8bb06e13fe93adb6e738c     1e8fc7a855cf59b0245b1d1fb55c6ddf   \n",
       "6426    64f8c07738f9481299e68808     08c595a6009ae9ce6dc703ddca3f7d83   \n",
       "6427    64f8c3c3654a5b1a49472d81     d954f71c6430a8f0e5512ab6e55e21d3   \n",
       "\n",
       "     artifact_debayeredrgb_0_created_at artifact_debayeredrgb_0_data_category  \\\n",
       "0            2023-08-29T19:10:28.343000                                   eng   \n",
       "1            2023-08-29T19:10:33.277000                                   eng   \n",
       "2            2023-08-29T19:10:39.361000                                   eng   \n",
       "3            2023-08-29T19:10:40.930000                                   eng   \n",
       "4            2023-08-29T19:11:16.708000                                   eng   \n",
       "...                                 ...                                   ...   \n",
       "6423         2023-09-06T17:45:01.098000                                   eng   \n",
       "6424         2023-09-06T17:45:39.990000                                   eng   \n",
       "6425         2023-09-06T17:46:46.352000                                   eng   \n",
       "6426         2023-09-06T18:09:59.544000                                   eng   \n",
       "6427         2023-09-06T18:24:03.039000                                   eng   \n",
       "\n",
       "     artifact_debayeredrgb_0_id artifact_debayeredrgb_0_image  \\\n",
       "0      64ee42a42e655e79fbf5d0b8      64ee42a42e655e79fbf5d0b7   \n",
       "1      64ee42a956cb49f3dcc2f1a9      64ee42a856cb49f3dcc2f1a7   \n",
       "2      64ee42af2fea9c788d7152e1      64ee42af2fea9c788d7152e0   \n",
       "3      64ee42b0e2b5d7468e2750b5      64ee42b0e2b5d7468e2750b4   \n",
       "4      64ee42d4f7f4625589492dbe      64ee42d4f7f4625589492dbd   \n",
       "...                         ...                           ...   \n",
       "6423   64f8ba9dd07ef104045d93a9      64f8ba9dd07ef104045d93a8   \n",
       "6424   64f8bac3db61ee654227d22f      64f8bac3db61ee654227d22e   \n",
       "6425   64f8bb06e13fe93adb6e738c      64f8bb06e13fe93adb6e738b   \n",
       "6426   64f8c07738f9481299e68808      64f8c07738f9481299e68807   \n",
       "6427   64f8c3c3654a5b1a49472d81      64f8c3c2654a5b1a49472d7f   \n",
       "\n",
       "     artifact_debayeredrgb_0_kind artifact_debayeredrgb_0_project_name  \\\n",
       "0                    debayeredrgb                              jupiter   \n",
       "1                    debayeredrgb                              jupiter   \n",
       "2                    debayeredrgb                              jupiter   \n",
       "3                    debayeredrgb                              jupiter   \n",
       "4                    debayeredrgb                              jupiter   \n",
       "...                           ...                                  ...   \n",
       "6423                 debayeredrgb                              jupiter   \n",
       "6424                 debayeredrgb                              jupiter   \n",
       "6425                 debayeredrgb                              jupiter   \n",
       "6426                 debayeredrgb                              jupiter   \n",
       "6427                 debayeredrgb                              jupiter   \n",
       "\n",
       "     artifact_debayeredrgb_0_s3_bucket  \\\n",
       "0          brt-mesa-jupiter-images-eng   \n",
       "1          brt-mesa-jupiter-images-eng   \n",
       "2          brt-mesa-jupiter-images-eng   \n",
       "3          brt-mesa-jupiter-images-eng   \n",
       "4          brt-mesa-jupiter-images-eng   \n",
       "...                                ...   \n",
       "6423       brt-mesa-jupiter-images-eng   \n",
       "6424       brt-mesa-jupiter-images-eng   \n",
       "6425       brt-mesa-jupiter-images-eng   \n",
       "6426       brt-mesa-jupiter-images-eng   \n",
       "6427       brt-mesa-jupiter-images-eng   \n",
       "\n",
       "                         artifact_debayeredrgb_0_s3_key  ... teleop_response  \\\n",
       "0     2023/08/29/e118a5b5c1cc42d5852f26fedaee6a73-da...  ...             NaN   \n",
       "1     2023/08/29/9274de7c81d74fa68d750b8bdedf6da2-da...  ...             NaN   \n",
       "2     2023/08/29/d7b0cca48dbf46c2b11aad22bf625ee9-da...  ...             NaN   \n",
       "3     2023/08/29/4baaa95715e446368ed5fc90b8711127-da...  ...             NaN   \n",
       "4     2023/08/29/7818d7faee014ce189102471c107bf96-da...  ...             NaN   \n",
       "...                                                 ...  ...             ...   \n",
       "6423  2023/09/06/257e14e05111454ca5e2196498bc55ae-da...  ...             NaN   \n",
       "6424  2023/09/06/6065f06334b0442d862e14279907ddf4-da...  ...             NaN   \n",
       "6425  2023/09/06/8c11cadfeeaa40dba5b79412ef8b9383-da...  ...             NaN   \n",
       "6426  2023/09/06/349a4164f4874f68818c892a64e05db6-da...  ...             NaN   \n",
       "6427  2023/09/06/8d05f12f27f5455f856206082db51fc5-da...  ...             NaN   \n",
       "\n",
       "     terrain_type                  updated_at  \\\n",
       "0       openfield  2023-08-29T19:10:29.036000   \n",
       "1       openfield  2023-08-29T19:10:33.604000   \n",
       "2       openfield  2023-08-29T19:10:40.042000   \n",
       "3       openfield  2023-08-29T19:10:41.778000   \n",
       "4       openfield  2023-08-29T19:11:17.567000   \n",
       "...           ...                         ...   \n",
       "6423    openfield  2023-09-06T17:45:01.933000   \n",
       "6424    openfield  2023-09-06T17:45:40.953000   \n",
       "6425    openfield  2023-09-06T17:46:47.204000   \n",
       "6426    openfield  2023-09-06T18:10:00.119000   \n",
       "6427    openfield  2023-09-06T18:24:03.380000   \n",
       "\n",
       "                               vadc_estimated_curvature vehicle_bearing  \\\n",
       "0                                                   NaN             NaN   \n",
       "1                                                   NaN             NaN   \n",
       "2                                                   NaN             NaN   \n",
       "3                                                   NaN             NaN   \n",
       "4                                                   NaN             NaN   \n",
       "...                                                 ...             ...   \n",
       "6423  {'bag_name': 'JUPD-001_2023-8-31__08_31_2023-0...      112.820312   \n",
       "6424  {'bag_name': 'JUPD-001_2023-8-31__08_31_2023-0...      111.804688   \n",
       "6425  {'bag_name': 'JUPD-001_2023-8-31__08_31_2023-0...      121.960938   \n",
       "6426  {'bag_name': 'JUPD-001_2023-8-31__08_31_2023-0...      136.218750   \n",
       "6427  {'bag_name': 'JUPD-001_2023-8-31__08_31_2023-0...      122.406250   \n",
       "\n",
       "     vpu_position was_compressed water_management weather  \\\n",
       "0               1          False             none   sunny   \n",
       "1               1          False             none   sunny   \n",
       "2               1          False             none   sunny   \n",
       "3               1          False             none   sunny   \n",
       "4               1          False             none   sunny   \n",
       "...           ...            ...              ...     ...   \n",
       "6423            0          False             none   sunny   \n",
       "6424            0          False             none   sunny   \n",
       "6425            0          False             none   sunny   \n",
       "6426            0          False             none   sunny   \n",
       "6427            0          False             none   sunny   \n",
       "\n",
       "                                        weather_summary  \n",
       "0     {'datetime': '21:00:00', 'datetimeEpoch': 1693...  \n",
       "1     {'datetime': '21:00:00', 'datetimeEpoch': 1693...  \n",
       "2     {'datetime': '21:00:00', 'datetimeEpoch': 1693...  \n",
       "3     {'datetime': '21:00:00', 'datetimeEpoch': 1693...  \n",
       "4     {'datetime': '21:00:00', 'datetimeEpoch': 1693...  \n",
       "...                                                 ...  \n",
       "6423  {'datetime': '04:00:00', 'datetimeEpoch': 1693...  \n",
       "6424  {'datetime': '04:00:00', 'datetimeEpoch': 1693...  \n",
       "6425  {'datetime': '04:00:00', 'datetimeEpoch': 1693...  \n",
       "6426  {'datetime': '04:00:00', 'datetimeEpoch': 1693...  \n",
       "6427  {'datetime': '04:00:00', 'datetimeEpoch': 1693...  \n",
       "\n",
       "[6428 rows x 111 columns]"
      ]
     },
     "execution_count": 6,
     "metadata": {},
     "output_type": "execute_result"
    }
   ],
   "source": [
    "label_data"
   ]
  },
  {
   "cell_type": "code",
   "execution_count": 17,
   "metadata": {},
   "outputs": [
    {
     "name": "stderr",
     "output_type": "stream",
     "text": [
      "  0%|          | 76/75706 [00:00<01:40, 752.09it/s]"
     ]
    },
    {
     "name": "stdout",
     "output_type": "stream",
     "text": [
      "0.0\n"
     ]
    },
    {
     "name": "stderr",
     "output_type": "stream",
     "text": [
      "  2%|▏         | 1658/75706 [00:01<01:22, 902.79it/s]"
     ]
    },
    {
     "name": "stdout",
     "output_type": "stream",
     "text": [
      "1.9813489023327082\n"
     ]
    },
    {
     "name": "stderr",
     "output_type": "stream",
     "text": [
      "  4%|▍         | 3105/75706 [00:03<01:20, 904.06it/s]"
     ]
    },
    {
     "name": "stdout",
     "output_type": "stream",
     "text": [
      "3.9626978046654164\n"
     ]
    },
    {
     "name": "stderr",
     "output_type": "stream",
     "text": [
      "  6%|▌         | 4529/75706 [00:04<01:08, 1045.82it/s]"
     ]
    },
    {
     "name": "stdout",
     "output_type": "stream",
     "text": [
      "5.944046706998124\n"
     ]
    },
    {
     "name": "stderr",
     "output_type": "stream",
     "text": [
      "  8%|▊         | 6142/75706 [00:06<01:34, 737.81it/s] "
     ]
    },
    {
     "name": "stdout",
     "output_type": "stream",
     "text": [
      "7.925395609330833\n"
     ]
    },
    {
     "name": "stderr",
     "output_type": "stream",
     "text": [
      " 10%|█         | 7609/75706 [00:08<01:08, 991.25it/s]"
     ]
    },
    {
     "name": "stdout",
     "output_type": "stream",
     "text": [
      "9.90674451166354\n"
     ]
    },
    {
     "name": "stderr",
     "output_type": "stream",
     "text": [
      " 12%|█▏        | 9123/75706 [00:10<01:06, 1004.00it/s]"
     ]
    },
    {
     "name": "stdout",
     "output_type": "stream",
     "text": [
      "11.888093413996248\n"
     ]
    },
    {
     "name": "stderr",
     "output_type": "stream",
     "text": [
      " 14%|█▍        | 10598/75706 [00:11<01:08, 954.13it/s]"
     ]
    },
    {
     "name": "stdout",
     "output_type": "stream",
     "text": [
      "13.869442316328957\n"
     ]
    },
    {
     "name": "stderr",
     "output_type": "stream",
     "text": [
      " 16%|█▌        | 12178/75706 [00:14<01:06, 951.54it/s]"
     ]
    },
    {
     "name": "stdout",
     "output_type": "stream",
     "text": [
      "15.850791218661666\n"
     ]
    },
    {
     "name": "stderr",
     "output_type": "stream",
     "text": [
      " 18%|█▊        | 13616/75706 [00:15<01:07, 913.34it/s]"
     ]
    },
    {
     "name": "stdout",
     "output_type": "stream",
     "text": [
      "17.832140120994374\n"
     ]
    },
    {
     "name": "stderr",
     "output_type": "stream",
     "text": [
      " 20%|█▉        | 15124/75706 [00:17<01:12, 832.66it/s]"
     ]
    },
    {
     "name": "stdout",
     "output_type": "stream",
     "text": [
      "19.81348902332708\n"
     ]
    },
    {
     "name": "stderr",
     "output_type": "stream",
     "text": [
      " 22%|██▏       | 16652/75706 [00:19<01:04, 912.65it/s]"
     ]
    },
    {
     "name": "stdout",
     "output_type": "stream",
     "text": [
      "21.794837925659788\n"
     ]
    },
    {
     "name": "stderr",
     "output_type": "stream",
     "text": [
      " 24%|██▍       | 18107/75706 [00:21<01:18, 738.38it/s]"
     ]
    },
    {
     "name": "stdout",
     "output_type": "stream",
     "text": [
      "23.776186827992497\n"
     ]
    },
    {
     "name": "stderr",
     "output_type": "stream",
     "text": [
      " 26%|██▌       | 19609/75706 [00:22<01:06, 839.06it/s]"
     ]
    },
    {
     "name": "stdout",
     "output_type": "stream",
     "text": [
      "25.757535730325205\n"
     ]
    },
    {
     "name": "stderr",
     "output_type": "stream",
     "text": [
      " 28%|██▊       | 21151/75706 [00:24<01:03, 857.58it/s]"
     ]
    },
    {
     "name": "stdout",
     "output_type": "stream",
     "text": [
      "27.738884632657914\n"
     ]
    },
    {
     "name": "stderr",
     "output_type": "stream",
     "text": [
      " 30%|██▉       | 22639/75706 [00:26<01:00, 876.50it/s]"
     ]
    },
    {
     "name": "stdout",
     "output_type": "stream",
     "text": [
      "29.720233534990623\n"
     ]
    },
    {
     "name": "stderr",
     "output_type": "stream",
     "text": [
      " 32%|███▏      | 24180/75706 [00:28<00:51, 1006.69it/s]"
     ]
    },
    {
     "name": "stdout",
     "output_type": "stream",
     "text": [
      "31.70158243732333\n"
     ]
    },
    {
     "name": "stderr",
     "output_type": "stream",
     "text": [
      " 34%|███▍      | 25654/75706 [00:30<00:58, 849.10it/s] "
     ]
    },
    {
     "name": "stdout",
     "output_type": "stream",
     "text": [
      "33.68293133965604\n"
     ]
    },
    {
     "name": "stderr",
     "output_type": "stream",
     "text": [
      " 36%|███▌      | 27169/75706 [00:32<00:52, 926.09it/s]"
     ]
    },
    {
     "name": "stdout",
     "output_type": "stream",
     "text": [
      "35.66428024198875\n"
     ]
    },
    {
     "name": "stderr",
     "output_type": "stream",
     "text": [
      " 38%|███▊      | 28682/75706 [00:33<00:50, 934.76it/s]"
     ]
    },
    {
     "name": "stdout",
     "output_type": "stream",
     "text": [
      "37.645629144321454\n"
     ]
    },
    {
     "name": "stderr",
     "output_type": "stream",
     "text": [
      " 40%|███▉      | 30131/75706 [00:35<00:51, 891.43it/s] "
     ]
    },
    {
     "name": "stdout",
     "output_type": "stream",
     "text": [
      "39.62697804665416\n"
     ]
    },
    {
     "name": "stderr",
     "output_type": "stream",
     "text": [
      " 42%|████▏     | 31566/75706 [00:37<00:51, 862.32it/s]"
     ]
    },
    {
     "name": "stdout",
     "output_type": "stream",
     "text": [
      "41.60832694898687\n"
     ]
    },
    {
     "name": "stderr",
     "output_type": "stream",
     "text": [
      " 44%|████▍     | 33125/75706 [00:39<00:44, 960.86it/s]"
     ]
    },
    {
     "name": "stdout",
     "output_type": "stream",
     "text": [
      "43.589675851319576\n"
     ]
    },
    {
     "name": "stderr",
     "output_type": "stream",
     "text": [
      " 46%|████▌     | 34511/75706 [00:40<01:04, 640.34it/s] "
     ]
    },
    {
     "name": "stdout",
     "output_type": "stream",
     "text": [
      "45.57102475365229\n"
     ]
    },
    {
     "name": "stderr",
     "output_type": "stream",
     "text": [
      " 48%|████▊     | 36137/75706 [00:43<00:45, 865.26it/s]"
     ]
    },
    {
     "name": "stdout",
     "output_type": "stream",
     "text": [
      "47.552373655984994\n"
     ]
    },
    {
     "name": "stderr",
     "output_type": "stream",
     "text": [
      " 50%|████▉     | 37632/75706 [00:44<00:44, 862.53it/s]"
     ]
    },
    {
     "name": "stdout",
     "output_type": "stream",
     "text": [
      "49.533722558317706\n"
     ]
    },
    {
     "name": "stderr",
     "output_type": "stream",
     "text": [
      " 52%|█████▏    | 39194/75706 [00:46<00:42, 863.38it/s]"
     ]
    },
    {
     "name": "stdout",
     "output_type": "stream",
     "text": [
      "51.51507146065041\n"
     ]
    },
    {
     "name": "stderr",
     "output_type": "stream",
     "text": [
      " 54%|█████▎    | 40657/75706 [00:48<00:48, 715.91it/s]"
     ]
    },
    {
     "name": "stdout",
     "output_type": "stream",
     "text": [
      "53.496420362983116\n"
     ]
    },
    {
     "name": "stderr",
     "output_type": "stream",
     "text": [
      " 56%|█████▌    | 42110/75706 [00:50<00:38, 876.67it/s]"
     ]
    },
    {
     "name": "stdout",
     "output_type": "stream",
     "text": [
      "55.47776926531583\n"
     ]
    },
    {
     "name": "stderr",
     "output_type": "stream",
     "text": [
      " 58%|█████▊    | 43625/75706 [00:52<00:33, 968.76it/s]"
     ]
    },
    {
     "name": "stdout",
     "output_type": "stream",
     "text": [
      "57.45911816764853\n"
     ]
    },
    {
     "name": "stderr",
     "output_type": "stream",
     "text": [
      " 60%|█████▉    | 45113/75706 [00:54<00:42, 724.76it/s] "
     ]
    },
    {
     "name": "stdout",
     "output_type": "stream",
     "text": [
      "59.440467069981246\n"
     ]
    },
    {
     "name": "stderr",
     "output_type": "stream",
     "text": [
      " 62%|██████▏   | 46661/75706 [00:56<00:35, 811.93it/s]"
     ]
    },
    {
     "name": "stdout",
     "output_type": "stream",
     "text": [
      "61.42181597231395\n"
     ]
    },
    {
     "name": "stderr",
     "output_type": "stream",
     "text": [
      " 64%|██████▎   | 48136/75706 [00:58<00:29, 944.15it/s]"
     ]
    },
    {
     "name": "stdout",
     "output_type": "stream",
     "text": [
      "63.40316487464666\n"
     ]
    },
    {
     "name": "stderr",
     "output_type": "stream",
     "text": [
      " 66%|██████▌   | 49621/75706 [00:59<00:28, 923.70it/s] "
     ]
    },
    {
     "name": "stdout",
     "output_type": "stream",
     "text": [
      "65.38451377697936\n"
     ]
    },
    {
     "name": "stderr",
     "output_type": "stream",
     "text": [
      " 68%|██████▊   | 51201/75706 [01:01<00:25, 980.02it/s]"
     ]
    },
    {
     "name": "stdout",
     "output_type": "stream",
     "text": [
      "67.36586267931207\n"
     ]
    },
    {
     "name": "stderr",
     "output_type": "stream",
     "text": [
      " 69%|██████▉   | 52610/75706 [01:03<00:23, 992.66it/s] "
     ]
    },
    {
     "name": "stdout",
     "output_type": "stream",
     "text": [
      "69.34721158164479\n"
     ]
    },
    {
     "name": "stderr",
     "output_type": "stream",
     "text": [
      " 72%|███████▏  | 54135/75706 [01:04<00:25, 840.70it/s] "
     ]
    },
    {
     "name": "stdout",
     "output_type": "stream",
     "text": [
      "71.3285604839775\n"
     ]
    },
    {
     "name": "stderr",
     "output_type": "stream",
     "text": [
      " 74%|███████▎  | 55654/75706 [01:07<00:24, 828.50it/s]"
     ]
    },
    {
     "name": "stdout",
     "output_type": "stream",
     "text": [
      "73.3099093863102\n"
     ]
    },
    {
     "name": "stderr",
     "output_type": "stream",
     "text": [
      " 76%|███████▌  | 57169/75706 [01:08<00:19, 952.94it/s]"
     ]
    },
    {
     "name": "stdout",
     "output_type": "stream",
     "text": [
      "75.29125828864291\n"
     ]
    },
    {
     "name": "stderr",
     "output_type": "stream",
     "text": [
      " 77%|███████▋  | 58655/75706 [01:10<00:18, 938.50it/s]"
     ]
    },
    {
     "name": "stdout",
     "output_type": "stream",
     "text": [
      "77.27260719097562\n"
     ]
    },
    {
     "name": "stderr",
     "output_type": "stream",
     "text": [
      " 79%|███████▉  | 60010/75706 [01:12<00:25, 625.51it/s]"
     ]
    },
    {
     "name": "stdout",
     "output_type": "stream",
     "text": [
      "79.25395609330832\n"
     ]
    },
    {
     "name": "stderr",
     "output_type": "stream",
     "text": [
      " 81%|████████▏ | 61627/75706 [01:14<00:15, 924.32it/s]"
     ]
    },
    {
     "name": "stdout",
     "output_type": "stream",
     "text": [
      "81.23530499564103\n"
     ]
    },
    {
     "name": "stderr",
     "output_type": "stream",
     "text": [
      " 83%|████████▎ | 63173/75706 [01:15<00:13, 959.51it/s]"
     ]
    },
    {
     "name": "stdout",
     "output_type": "stream",
     "text": [
      "83.21665389797374\n"
     ]
    },
    {
     "name": "stderr",
     "output_type": "stream",
     "text": [
      " 85%|████████▌ | 64632/75706 [01:17<00:12, 876.11it/s]"
     ]
    },
    {
     "name": "stdout",
     "output_type": "stream",
     "text": [
      "85.19800280030645\n"
     ]
    },
    {
     "name": "stderr",
     "output_type": "stream",
     "text": [
      " 87%|████████▋ | 66119/75706 [01:19<00:10, 884.44it/s]"
     ]
    },
    {
     "name": "stdout",
     "output_type": "stream",
     "text": [
      "87.17935170263915\n"
     ]
    },
    {
     "name": "stderr",
     "output_type": "stream",
     "text": [
      " 89%|████████▉ | 67611/75706 [01:21<00:09, 841.33it/s]"
     ]
    },
    {
     "name": "stdout",
     "output_type": "stream",
     "text": [
      "89.16070060497186\n"
     ]
    },
    {
     "name": "stderr",
     "output_type": "stream",
     "text": [
      " 91%|█████████▏| 69099/75706 [01:23<00:08, 817.05it/s] "
     ]
    },
    {
     "name": "stdout",
     "output_type": "stream",
     "text": [
      "91.14204950730458\n"
     ]
    },
    {
     "name": "stderr",
     "output_type": "stream",
     "text": [
      " 93%|█████████▎| 70499/75706 [01:25<00:09, 560.87it/s]"
     ]
    },
    {
     "name": "stdout",
     "output_type": "stream",
     "text": [
      "93.12339840963728\n"
     ]
    },
    {
     "name": "stderr",
     "output_type": "stream",
     "text": [
      " 95%|█████████▌| 72117/75706 [01:27<00:04, 848.56it/s]"
     ]
    },
    {
     "name": "stdout",
     "output_type": "stream",
     "text": [
      "95.10474731196999\n"
     ]
    },
    {
     "name": "stderr",
     "output_type": "stream",
     "text": [
      " 97%|█████████▋| 73689/75706 [01:29<00:02, 985.15it/s]"
     ]
    },
    {
     "name": "stdout",
     "output_type": "stream",
     "text": [
      "97.0860962143027\n"
     ]
    },
    {
     "name": "stderr",
     "output_type": "stream",
     "text": [
      " 99%|█████████▉| 75137/75706 [01:30<00:00, 909.40it/s]"
     ]
    },
    {
     "name": "stdout",
     "output_type": "stream",
     "text": [
      "99.06744511663541\n"
     ]
    },
    {
     "name": "stderr",
     "output_type": "stream",
     "text": [
      "100%|██████████| 75706/75706 [01:31<00:00, 824.78it/s]\n"
     ]
    }
   ],
   "source": [
    "# aletheia_df = aletheia_df[aletheia_df['camera_location'].str.endswith('left')]\n",
    "# image_paths = list(get_images(save_dir=dataset_save_dir + '/images', df=aletheia_df))\n",
    "# image_paths = np.load(save_file).tolist()\n",
    "# image_paths = [p for p in image_paths if p.endswith('.png')]\n",
    "# np.save(save_file, image_paths)"
   ]
  },
  {
   "cell_type": "code",
   "execution_count": 20,
   "metadata": {},
   "outputs": [
    {
     "name": "stderr",
     "output_type": "stream",
     "text": [
      "  0%|          | 0/2365.671875 [00:00<?, ?it/s]/tmp/ipykernel_236282/16443307.py:40: DeprecationWarning: Starting with ImageIO v3 the behavior of this function will switch to that of iio.v3.imread. To keep the current behavior (and make this warning disappear) use `import imageio.v2 as imageio` or call `imageio.v2.imread` directly.\n",
      "  img_pil = self.transform(Image.fromarray(imageio.imread(img_path)))\n",
      "  0%|          | 5/2365.671875 [00:20<2:39:02,  4.04s/it]\n"
     ]
    },
    {
     "ename": "KeyboardInterrupt",
     "evalue": "",
     "output_type": "error",
     "traceback": [
      "\u001b[0;31m---------------------------------------------------------------------------\u001b[0m",
      "\u001b[0;31mKeyboardInterrupt\u001b[0m                         Traceback (most recent call last)",
      "Cell \u001b[0;32mIn[20], line 2\u001b[0m\n\u001b[1;32m      1\u001b[0m sim \u001b[39m=\u001b[39m ImageSimilarity(images_full_path\u001b[39m=\u001b[39mimage_paths, data_base_path\u001b[39m=\u001b[39mdataset_save_dir, dataset_name\u001b[39m=\u001b[39mdsetname, overwrite\u001b[39m=\u001b[39m\u001b[39mTrue\u001b[39;00m)\n\u001b[0;32m----> 2\u001b[0m sim\u001b[39m.\u001b[39;49mextract_embeddings()\n\u001b[1;32m      3\u001b[0m embeddings_np, paths_df \u001b[39m=\u001b[39m sim\u001b[39m.\u001b[39mload_embeddings()\n",
      "Cell \u001b[0;32mIn[3], line 196\u001b[0m, in \u001b[0;36mImageSimilarity.extract_embeddings\u001b[0;34m(self)\u001b[0m\n\u001b[1;32m    194\u001b[0m \u001b[39mself\u001b[39m\u001b[39m.\u001b[39mprepare_images_path_df()\n\u001b[1;32m    195\u001b[0m \u001b[39mself\u001b[39m\u001b[39m.\u001b[39mprepare_dataloader()\n\u001b[0;32m--> 196\u001b[0m \u001b[39mself\u001b[39;49m\u001b[39m.\u001b[39;49mbuild_embeddings()\n\u001b[1;32m    197\u001b[0m \u001b[39mself\u001b[39m\u001b[39m.\u001b[39msave_embeddings()\n\u001b[1;32m    198\u001b[0m \u001b[39mreturn\u001b[39;00m \u001b[39mNone\u001b[39;00m\n",
      "Cell \u001b[0;32mIn[3], line 103\u001b[0m, in \u001b[0;36mImageSimilarity.build_embeddings\u001b[0;34m(self)\u001b[0m\n\u001b[1;32m    101\u001b[0m \u001b[39mwith\u001b[39;00m torch\u001b[39m.\u001b[39mno_grad():\n\u001b[1;32m    102\u001b[0m         batch \u001b[39m=\u001b[39m batch\u001b[39m.\u001b[39mto(\u001b[39mself\u001b[39m\u001b[39m.\u001b[39mdevice)\n\u001b[0;32m--> 103\u001b[0m         image_features \u001b[39m=\u001b[39m \u001b[39mself\u001b[39;49m\u001b[39m.\u001b[39;49mmodel\u001b[39m.\u001b[39;49mencode_image(batch)\n\u001b[1;32m    104\u001b[0m         outputs\u001b[39m.\u001b[39mappend(image_features)  \n\u001b[1;32m    105\u001b[0m         image_paths\u001b[39m.\u001b[39mextend(paths)\n",
      "File \u001b[0;32m~/miniconda3/envs/cvml/lib/python3.8/site-packages/clip/model.py:341\u001b[0m, in \u001b[0;36mCLIP.encode_image\u001b[0;34m(self, image)\u001b[0m\n\u001b[1;32m    340\u001b[0m \u001b[39mdef\u001b[39;00m \u001b[39mencode_image\u001b[39m(\u001b[39mself\u001b[39m, image):\n\u001b[0;32m--> 341\u001b[0m     \u001b[39mreturn\u001b[39;00m \u001b[39mself\u001b[39;49m\u001b[39m.\u001b[39;49mvisual(image\u001b[39m.\u001b[39;49mtype(\u001b[39mself\u001b[39;49m\u001b[39m.\u001b[39;49mdtype))\n",
      "File \u001b[0;32m~/miniconda3/envs/cvml/lib/python3.8/site-packages/torch/nn/modules/module.py:1110\u001b[0m, in \u001b[0;36mModule._call_impl\u001b[0;34m(self, *input, **kwargs)\u001b[0m\n\u001b[1;32m   1106\u001b[0m \u001b[39m# If we don't have any hooks, we want to skip the rest of the logic in\u001b[39;00m\n\u001b[1;32m   1107\u001b[0m \u001b[39m# this function, and just call forward.\u001b[39;00m\n\u001b[1;32m   1108\u001b[0m \u001b[39mif\u001b[39;00m \u001b[39mnot\u001b[39;00m (\u001b[39mself\u001b[39m\u001b[39m.\u001b[39m_backward_hooks \u001b[39mor\u001b[39;00m \u001b[39mself\u001b[39m\u001b[39m.\u001b[39m_forward_hooks \u001b[39mor\u001b[39;00m \u001b[39mself\u001b[39m\u001b[39m.\u001b[39m_forward_pre_hooks \u001b[39mor\u001b[39;00m _global_backward_hooks\n\u001b[1;32m   1109\u001b[0m         \u001b[39mor\u001b[39;00m _global_forward_hooks \u001b[39mor\u001b[39;00m _global_forward_pre_hooks):\n\u001b[0;32m-> 1110\u001b[0m     \u001b[39mreturn\u001b[39;00m forward_call(\u001b[39m*\u001b[39;49m\u001b[39minput\u001b[39;49m, \u001b[39m*\u001b[39;49m\u001b[39m*\u001b[39;49mkwargs)\n\u001b[1;32m   1111\u001b[0m \u001b[39m# Do not call functions when jit is used\u001b[39;00m\n\u001b[1;32m   1112\u001b[0m full_backward_hooks, non_full_backward_hooks \u001b[39m=\u001b[39m [], []\n",
      "File \u001b[0;32m~/miniconda3/envs/cvml/lib/python3.8/site-packages/clip/model.py:232\u001b[0m, in \u001b[0;36mVisionTransformer.forward\u001b[0;34m(self, x)\u001b[0m\n\u001b[1;32m    229\u001b[0m x \u001b[39m=\u001b[39m \u001b[39mself\u001b[39m\u001b[39m.\u001b[39mln_pre(x)\n\u001b[1;32m    231\u001b[0m x \u001b[39m=\u001b[39m x\u001b[39m.\u001b[39mpermute(\u001b[39m1\u001b[39m, \u001b[39m0\u001b[39m, \u001b[39m2\u001b[39m)  \u001b[39m# NLD -> LND\u001b[39;00m\n\u001b[0;32m--> 232\u001b[0m x \u001b[39m=\u001b[39m \u001b[39mself\u001b[39;49m\u001b[39m.\u001b[39;49mtransformer(x)\n\u001b[1;32m    233\u001b[0m x \u001b[39m=\u001b[39m x\u001b[39m.\u001b[39mpermute(\u001b[39m1\u001b[39m, \u001b[39m0\u001b[39m, \u001b[39m2\u001b[39m)  \u001b[39m# LND -> NLD\u001b[39;00m\n\u001b[1;32m    235\u001b[0m x \u001b[39m=\u001b[39m \u001b[39mself\u001b[39m\u001b[39m.\u001b[39mln_post(x[:, \u001b[39m0\u001b[39m, :])\n",
      "File \u001b[0;32m~/miniconda3/envs/cvml/lib/python3.8/site-packages/torch/nn/modules/module.py:1110\u001b[0m, in \u001b[0;36mModule._call_impl\u001b[0;34m(self, *input, **kwargs)\u001b[0m\n\u001b[1;32m   1106\u001b[0m \u001b[39m# If we don't have any hooks, we want to skip the rest of the logic in\u001b[39;00m\n\u001b[1;32m   1107\u001b[0m \u001b[39m# this function, and just call forward.\u001b[39;00m\n\u001b[1;32m   1108\u001b[0m \u001b[39mif\u001b[39;00m \u001b[39mnot\u001b[39;00m (\u001b[39mself\u001b[39m\u001b[39m.\u001b[39m_backward_hooks \u001b[39mor\u001b[39;00m \u001b[39mself\u001b[39m\u001b[39m.\u001b[39m_forward_hooks \u001b[39mor\u001b[39;00m \u001b[39mself\u001b[39m\u001b[39m.\u001b[39m_forward_pre_hooks \u001b[39mor\u001b[39;00m _global_backward_hooks\n\u001b[1;32m   1109\u001b[0m         \u001b[39mor\u001b[39;00m _global_forward_hooks \u001b[39mor\u001b[39;00m _global_forward_pre_hooks):\n\u001b[0;32m-> 1110\u001b[0m     \u001b[39mreturn\u001b[39;00m forward_call(\u001b[39m*\u001b[39;49m\u001b[39minput\u001b[39;49m, \u001b[39m*\u001b[39;49m\u001b[39m*\u001b[39;49mkwargs)\n\u001b[1;32m   1111\u001b[0m \u001b[39m# Do not call functions when jit is used\u001b[39;00m\n\u001b[1;32m   1112\u001b[0m full_backward_hooks, non_full_backward_hooks \u001b[39m=\u001b[39m [], []\n",
      "File \u001b[0;32m~/miniconda3/envs/cvml/lib/python3.8/site-packages/clip/model.py:203\u001b[0m, in \u001b[0;36mTransformer.forward\u001b[0;34m(self, x)\u001b[0m\n\u001b[1;32m    202\u001b[0m \u001b[39mdef\u001b[39;00m \u001b[39mforward\u001b[39m(\u001b[39mself\u001b[39m, x: torch\u001b[39m.\u001b[39mTensor):\n\u001b[0;32m--> 203\u001b[0m     \u001b[39mreturn\u001b[39;00m \u001b[39mself\u001b[39;49m\u001b[39m.\u001b[39;49mresblocks(x)\n",
      "File \u001b[0;32m~/miniconda3/envs/cvml/lib/python3.8/site-packages/torch/nn/modules/module.py:1110\u001b[0m, in \u001b[0;36mModule._call_impl\u001b[0;34m(self, *input, **kwargs)\u001b[0m\n\u001b[1;32m   1106\u001b[0m \u001b[39m# If we don't have any hooks, we want to skip the rest of the logic in\u001b[39;00m\n\u001b[1;32m   1107\u001b[0m \u001b[39m# this function, and just call forward.\u001b[39;00m\n\u001b[1;32m   1108\u001b[0m \u001b[39mif\u001b[39;00m \u001b[39mnot\u001b[39;00m (\u001b[39mself\u001b[39m\u001b[39m.\u001b[39m_backward_hooks \u001b[39mor\u001b[39;00m \u001b[39mself\u001b[39m\u001b[39m.\u001b[39m_forward_hooks \u001b[39mor\u001b[39;00m \u001b[39mself\u001b[39m\u001b[39m.\u001b[39m_forward_pre_hooks \u001b[39mor\u001b[39;00m _global_backward_hooks\n\u001b[1;32m   1109\u001b[0m         \u001b[39mor\u001b[39;00m _global_forward_hooks \u001b[39mor\u001b[39;00m _global_forward_pre_hooks):\n\u001b[0;32m-> 1110\u001b[0m     \u001b[39mreturn\u001b[39;00m forward_call(\u001b[39m*\u001b[39;49m\u001b[39minput\u001b[39;49m, \u001b[39m*\u001b[39;49m\u001b[39m*\u001b[39;49mkwargs)\n\u001b[1;32m   1111\u001b[0m \u001b[39m# Do not call functions when jit is used\u001b[39;00m\n\u001b[1;32m   1112\u001b[0m full_backward_hooks, non_full_backward_hooks \u001b[39m=\u001b[39m [], []\n",
      "File \u001b[0;32m~/miniconda3/envs/cvml/lib/python3.8/site-packages/torch/nn/modules/container.py:141\u001b[0m, in \u001b[0;36mSequential.forward\u001b[0;34m(self, input)\u001b[0m\n\u001b[1;32m    139\u001b[0m \u001b[39mdef\u001b[39;00m \u001b[39mforward\u001b[39m(\u001b[39mself\u001b[39m, \u001b[39minput\u001b[39m):\n\u001b[1;32m    140\u001b[0m     \u001b[39mfor\u001b[39;00m module \u001b[39min\u001b[39;00m \u001b[39mself\u001b[39m:\n\u001b[0;32m--> 141\u001b[0m         \u001b[39minput\u001b[39m \u001b[39m=\u001b[39m module(\u001b[39minput\u001b[39;49m)\n\u001b[1;32m    142\u001b[0m     \u001b[39mreturn\u001b[39;00m \u001b[39minput\u001b[39m\n",
      "File \u001b[0;32m~/miniconda3/envs/cvml/lib/python3.8/site-packages/torch/nn/modules/module.py:1110\u001b[0m, in \u001b[0;36mModule._call_impl\u001b[0;34m(self, *input, **kwargs)\u001b[0m\n\u001b[1;32m   1106\u001b[0m \u001b[39m# If we don't have any hooks, we want to skip the rest of the logic in\u001b[39;00m\n\u001b[1;32m   1107\u001b[0m \u001b[39m# this function, and just call forward.\u001b[39;00m\n\u001b[1;32m   1108\u001b[0m \u001b[39mif\u001b[39;00m \u001b[39mnot\u001b[39;00m (\u001b[39mself\u001b[39m\u001b[39m.\u001b[39m_backward_hooks \u001b[39mor\u001b[39;00m \u001b[39mself\u001b[39m\u001b[39m.\u001b[39m_forward_hooks \u001b[39mor\u001b[39;00m \u001b[39mself\u001b[39m\u001b[39m.\u001b[39m_forward_pre_hooks \u001b[39mor\u001b[39;00m _global_backward_hooks\n\u001b[1;32m   1109\u001b[0m         \u001b[39mor\u001b[39;00m _global_forward_hooks \u001b[39mor\u001b[39;00m _global_forward_pre_hooks):\n\u001b[0;32m-> 1110\u001b[0m     \u001b[39mreturn\u001b[39;00m forward_call(\u001b[39m*\u001b[39;49m\u001b[39minput\u001b[39;49m, \u001b[39m*\u001b[39;49m\u001b[39m*\u001b[39;49mkwargs)\n\u001b[1;32m   1111\u001b[0m \u001b[39m# Do not call functions when jit is used\u001b[39;00m\n\u001b[1;32m   1112\u001b[0m full_backward_hooks, non_full_backward_hooks \u001b[39m=\u001b[39m [], []\n",
      "File \u001b[0;32m~/miniconda3/envs/cvml/lib/python3.8/site-packages/clip/model.py:191\u001b[0m, in \u001b[0;36mResidualAttentionBlock.forward\u001b[0;34m(self, x)\u001b[0m\n\u001b[1;32m    189\u001b[0m \u001b[39mdef\u001b[39;00m \u001b[39mforward\u001b[39m(\u001b[39mself\u001b[39m, x: torch\u001b[39m.\u001b[39mTensor):\n\u001b[1;32m    190\u001b[0m     x \u001b[39m=\u001b[39m x \u001b[39m+\u001b[39m \u001b[39mself\u001b[39m\u001b[39m.\u001b[39mattention(\u001b[39mself\u001b[39m\u001b[39m.\u001b[39mln_1(x))\n\u001b[0;32m--> 191\u001b[0m     x \u001b[39m=\u001b[39m x \u001b[39m+\u001b[39m \u001b[39mself\u001b[39;49m\u001b[39m.\u001b[39;49mmlp(\u001b[39mself\u001b[39;49m\u001b[39m.\u001b[39;49mln_2(x))\n\u001b[1;32m    192\u001b[0m     \u001b[39mreturn\u001b[39;00m x\n",
      "File \u001b[0;32m~/miniconda3/envs/cvml/lib/python3.8/site-packages/torch/nn/modules/module.py:1110\u001b[0m, in \u001b[0;36mModule._call_impl\u001b[0;34m(self, *input, **kwargs)\u001b[0m\n\u001b[1;32m   1106\u001b[0m \u001b[39m# If we don't have any hooks, we want to skip the rest of the logic in\u001b[39;00m\n\u001b[1;32m   1107\u001b[0m \u001b[39m# this function, and just call forward.\u001b[39;00m\n\u001b[1;32m   1108\u001b[0m \u001b[39mif\u001b[39;00m \u001b[39mnot\u001b[39;00m (\u001b[39mself\u001b[39m\u001b[39m.\u001b[39m_backward_hooks \u001b[39mor\u001b[39;00m \u001b[39mself\u001b[39m\u001b[39m.\u001b[39m_forward_hooks \u001b[39mor\u001b[39;00m \u001b[39mself\u001b[39m\u001b[39m.\u001b[39m_forward_pre_hooks \u001b[39mor\u001b[39;00m _global_backward_hooks\n\u001b[1;32m   1109\u001b[0m         \u001b[39mor\u001b[39;00m _global_forward_hooks \u001b[39mor\u001b[39;00m _global_forward_pre_hooks):\n\u001b[0;32m-> 1110\u001b[0m     \u001b[39mreturn\u001b[39;00m forward_call(\u001b[39m*\u001b[39;49m\u001b[39minput\u001b[39;49m, \u001b[39m*\u001b[39;49m\u001b[39m*\u001b[39;49mkwargs)\n\u001b[1;32m   1111\u001b[0m \u001b[39m# Do not call functions when jit is used\u001b[39;00m\n\u001b[1;32m   1112\u001b[0m full_backward_hooks, non_full_backward_hooks \u001b[39m=\u001b[39m [], []\n",
      "File \u001b[0;32m~/miniconda3/envs/cvml/lib/python3.8/site-packages/torch/nn/modules/container.py:141\u001b[0m, in \u001b[0;36mSequential.forward\u001b[0;34m(self, input)\u001b[0m\n\u001b[1;32m    139\u001b[0m \u001b[39mdef\u001b[39;00m \u001b[39mforward\u001b[39m(\u001b[39mself\u001b[39m, \u001b[39minput\u001b[39m):\n\u001b[1;32m    140\u001b[0m     \u001b[39mfor\u001b[39;00m module \u001b[39min\u001b[39;00m \u001b[39mself\u001b[39m:\n\u001b[0;32m--> 141\u001b[0m         \u001b[39minput\u001b[39m \u001b[39m=\u001b[39m module(\u001b[39minput\u001b[39;49m)\n\u001b[1;32m    142\u001b[0m     \u001b[39mreturn\u001b[39;00m \u001b[39minput\u001b[39m\n",
      "File \u001b[0;32m~/miniconda3/envs/cvml/lib/python3.8/site-packages/torch/nn/modules/module.py:1110\u001b[0m, in \u001b[0;36mModule._call_impl\u001b[0;34m(self, *input, **kwargs)\u001b[0m\n\u001b[1;32m   1106\u001b[0m \u001b[39m# If we don't have any hooks, we want to skip the rest of the logic in\u001b[39;00m\n\u001b[1;32m   1107\u001b[0m \u001b[39m# this function, and just call forward.\u001b[39;00m\n\u001b[1;32m   1108\u001b[0m \u001b[39mif\u001b[39;00m \u001b[39mnot\u001b[39;00m (\u001b[39mself\u001b[39m\u001b[39m.\u001b[39m_backward_hooks \u001b[39mor\u001b[39;00m \u001b[39mself\u001b[39m\u001b[39m.\u001b[39m_forward_hooks \u001b[39mor\u001b[39;00m \u001b[39mself\u001b[39m\u001b[39m.\u001b[39m_forward_pre_hooks \u001b[39mor\u001b[39;00m _global_backward_hooks\n\u001b[1;32m   1109\u001b[0m         \u001b[39mor\u001b[39;00m _global_forward_hooks \u001b[39mor\u001b[39;00m _global_forward_pre_hooks):\n\u001b[0;32m-> 1110\u001b[0m     \u001b[39mreturn\u001b[39;00m forward_call(\u001b[39m*\u001b[39;49m\u001b[39minput\u001b[39;49m, \u001b[39m*\u001b[39;49m\u001b[39m*\u001b[39;49mkwargs)\n\u001b[1;32m   1111\u001b[0m \u001b[39m# Do not call functions when jit is used\u001b[39;00m\n\u001b[1;32m   1112\u001b[0m full_backward_hooks, non_full_backward_hooks \u001b[39m=\u001b[39m [], []\n",
      "File \u001b[0;32m~/miniconda3/envs/cvml/lib/python3.8/site-packages/clip/model.py:168\u001b[0m, in \u001b[0;36mQuickGELU.forward\u001b[0;34m(self, x)\u001b[0m\n\u001b[1;32m    167\u001b[0m \u001b[39mdef\u001b[39;00m \u001b[39mforward\u001b[39m(\u001b[39mself\u001b[39m, x: torch\u001b[39m.\u001b[39mTensor):\n\u001b[0;32m--> 168\u001b[0m     \u001b[39mreturn\u001b[39;00m x \u001b[39m*\u001b[39m torch\u001b[39m.\u001b[39;49msigmoid(\u001b[39m1.702\u001b[39;49m \u001b[39m*\u001b[39;49m x)\n",
      "\u001b[0;31mKeyboardInterrupt\u001b[0m: "
     ]
    }
   ],
   "source": [
    "sim = ImageSimilarity(images_full_path=image_paths, data_base_path=dataset_save_dir, dataset_name=dsetname, overwrite=True)\n",
    "sim.extract_embeddings()\n",
    "embeddings_np, paths_df = sim.load_embeddings()\n"
   ]
  },
  {
   "cell_type": "code",
   "execution_count": 10,
   "metadata": {},
   "outputs": [],
   "source": [
    "def get_id(p):\n",
    "    return p.split('/')[-2]\n",
    "paths_df['id'] = paths_df['image_path'].apply(get_id)\n",
    "paths_df['known_no_human'] = paths_df['id'].isin(label_data_no_human)\n",
    "invalid_distances = []\n",
    "for i in range(len(paths_df)):\n",
    "    if paths_df['known_no_human'].iloc[i]:\n",
    "        invalid_distances.append(embeddings_np[i])\n",
    "invalid_distances_np = np.stack(arrays=invalid_distances,axis=0)"
   ]
  },
  {
   "cell_type": "code",
   "execution_count": null,
   "metadata": {},
   "outputs": [],
   "source": [
    "kmeans = KMeans(n_clusters=n_images_final, random_state=0, n_init=\"auto\", max_iter=200)\n",
    "kmeans.fit(embeddings_np)\n",
    "final_paths = [None for _ in range(n_images_final)]"
   ]
  },
  {
   "cell_type": "code",
   "execution_count": 13,
   "metadata": {},
   "outputs": [
    {
     "name": "stdout",
     "output_type": "stream",
     "text": [
      "Choosing one random image from each cluster\n"
     ]
    },
    {
     "ename": "AttributeError",
     "evalue": "'KMeans' object has no attribute 'labels_'",
     "output_type": "error",
     "traceback": [
      "\u001b[0;31m---------------------------------------------------------------------------\u001b[0m",
      "\u001b[0;31mAttributeError\u001b[0m                            Traceback (most recent call last)",
      "Cell \u001b[0;32mIn[13], line 2\u001b[0m\n\u001b[1;32m      1\u001b[0m \u001b[39mprint\u001b[39m(\u001b[39m\"\u001b[39m\u001b[39mChoosing one random image from each cluster\u001b[39m\u001b[39m\"\u001b[39m)\n\u001b[0;32m----> 2\u001b[0m order \u001b[39m=\u001b[39m \u001b[39mlist\u001b[39m(\u001b[39menumerate\u001b[39m(kmeans\u001b[39m.\u001b[39;49mlabels_))\n\u001b[1;32m      3\u001b[0m random\u001b[39m.\u001b[39mshuffle(order)\n\u001b[1;32m      4\u001b[0m \u001b[39mfor\u001b[39;00m i, l \u001b[39min\u001b[39;00m order:\n",
      "\u001b[0;31mAttributeError\u001b[0m: 'KMeans' object has no attribute 'labels_'"
     ]
    }
   ],
   "source": [
    "print(\"Choosing one random image from each cluster\")\n",
    "order = list(enumerate(kmeans.labels_))\n",
    "random.shuffle(order)\n",
    "for i, l in order:\n",
    "    if final_paths[l] == None:\n",
    "        if np.min(np.linalg.norm(embeddings_np[i] - invalid_distances_np, axis=1)) > 1.25:\n",
    "            final_paths[l] = paths_df.image_path.iloc[i]\n",
    "imids = [p.split('_')[-1][:-4] for p in final_paths if p is not None]\n",
    "print(len(imids))\n",
    "# Average distance from each mean, if this value is higher, than the images probably quite different than each other\n",
    "# Hard to interpret without context, I selected 4k groups from 150k images collected in one bag and got about 1.6\n",
    "score = kmeans.inertia_ / len(embeddings_np)\n",
    "print(f\"KMEANS SCORE: {score}\")"
   ]
  },
  {
   "cell_type": "code",
   "execution_count": null,
   "metadata": {},
   "outputs": [],
   "source": [
    "from aletheia_dataset_creator.dataset_tools.aletheia_dataset_helpers import imageids_to_dataset\n",
    "imageids_to_dataset(image_ids=imids, dataset_name=f\"{dsetname}_diverse_{n_images_final}_2\", dataset_description=desc, dataset_kind=kind, production_dataset=False)"
   ]
  },
  {
   "cell_type": "code",
   "execution_count": 7,
   "metadata": {},
   "outputs": [
    {
     "name": "stdout",
     "output_type": "stream",
     "text": [
      "\n",
      "    SELECT\n",
      "        image_jupiter.id AS id, image_jupiter.camera_location AS camera_location, image_jupiter.group_id AS group_id, annotation_jupiter.id AS annotation_id, annotation_jupiter.updated_at AS annotation_updated_at, annotation_jupiter.label_map__json AS annotation_label_map__json, annotation_jupiter.vendor_metadata__json AS annotation_vendor_metadata__json\n",
      "    FROM image_jupiter\n",
      "    JOIN annotation_jupiter\n",
      "        ON image_jupiter.id =\n",
      "            annotation_jupiter.image\n",
      "    WHERE\n",
      "        image_jupiter.camera_location IN ('front-center-left', 'front-left-left', 'front-right-left', 'side-left-left', 'side-right-left', 'rear-left', 'T01', 'T02', 'T05', 'T06', 'T09', 'T10', 'T13', 'T14', 'I01', 'I03', 'I05', 'I07')\n",
      "        AND annotation_jupiter.s3_key IS NOT NULL\n",
      "        AND annotation_jupiter.state IN ('ok', 'review')\n",
      "        AND\n",
      "     image_jupiter.id IN ('64ee42a42e655e79fbf5d0b7', '64ee42b0e2b5d7468e2750b4', '64ee42dd8db25bf27d074f47', '64ee42f72e655e79fbf5d1b6', '64ee4343325fbc2bb41d2c9e', '64ee437b2e655e79fbf5d332', '64ee43a28db25bf27d075150', '64ee43ae8db25bf27d07516b', '64ee43ea325fbc2bb41d2dcd', '64ee43f1325fbc2bb41d2ded', '64ee43f722fae285992a1941', '64ee43fd93e52f9952d7af78', '64ee4406325fbc2bb41d2e29', '64ee440d42ae03be5d144e3c', '64ee44101886b7c243cf6a00', '64ee44118db25bf27d0751e0', '64ee441b56cb49f3dcc2f49c', '64ee44251886b7c243cf6a3f', '64ee442d2fea9c788d715660', '64ee442ef7f46255894930fd', '64ee44328db25bf27d075213', '64ee4437be0f8750a63cbdbc', '64ee444222fae285992a19fe', '64ee4449be0f8750a63cbdc8', '64ee4449f7f4625589493153', '64ee445422fae285992a1a37', '64ee44581886b7c243cf6abd', '64ee44591886b7c243cf6ac2', '64ee445a2e655e79fbf5d509', '64ee445c45f3f18521407d41', '64ee445d42ae03be5d144ecf', '64ee4462f24655a2eddb5082', '64ee44642e655e79fbf5d536', '64ee44672fea9c788d7156fd', '64ee4472e2b5d7468e2755ac', '64ee4477325fbc2bb41d2ee9', '64ee447b325fbc2bb41d2ef0', '64ee447c880764ea65c2e69a', '64ee447d56cb49f3dcc2f541', '64ee448042ae03be5d144f33', '64ee448193e52f9952d7b059', '64ee4481e2b5d7468e2755d8', '64ee44822fea9c788d71574c', '64ee448598e72a07d6d8eb78', '64ee448a1886b7c243cf6b55', '64ee448b56cb49f3dcc2f55e', '64ee448c880764ea65c2e6e2', '64ee449593e52f9952d7b07b', '64ee4495e2b5d7468e275601', '64ee449693e52f9952d7b07e', '64ee44a1f36876c0c50e38c4', '64ee44a456cb49f3dcc2f5a6', '64ee44a4f36876c0c50e38d0', '64ee44a8b5783f9f881e6b8f', '64ee44a9880764ea65c2e746', '64ee44a9f7f46255894931eb', '64ee44abbe0f8750a63cbe5d', '64ee44b0e2b5d7468e27564f', '64ee44b293e52f9952d7b0c3', '64ee44b6880764ea65c2e770', '64ee44bdf24655a2eddb512c', '64ee44bef36876c0c50e3909', '64ee44c0b5783f9f881e6be3', '64ee44c71886b7c243cf6bfa', '64ee44c9f8de386be8033c23', '64ee44ca8db25bf27d0752c6', '64ee44cae2b5d7468e2756cc', '64ee44caf36876c0c50e390c', '64ee44d1f24655a2eddb5141', '64ee44d9f36876c0c50e3912', '64ee44da880764ea65c2e7b2', '64ee44e08db25bf27d07530f', '64ee44e422fae285992a1bbe', '64ee44e4be0f8750a63cbede', '64ee44e61886b7c243cf6c6b', '64ee44e8f7f4625589493249', '64ee44ea45f3f18521407e14', '64ee44ebe2b5d7468e275710', '64ee44f35e01413330f14bdc', '64ee44f3b5783f9f881e6c87', '64ee44f756cb49f3dcc2f600', '64ee44f81886b7c243cf6cb7', '64ee44fc2e655e79fbf5d696', '64ee44fc56cb49f3dcc2f614', '64ee44fcf24655a2eddb5190', '64ee44fef8de386be8033c63', '64ee44ff8db25bf27d075358', '64ee450156cb49f3dcc2f628', '64ee4501880764ea65c2e80d', '64ee45022e655e79fbf5d69c', '64ee45061886b7c243cf6ce8', '64ee45062e655e79fbf5d6a5', '64ee4508880764ea65c2e81d', '64ee450a22fae285992a1bf4', '64ee450ff8de386be8033c84', '64ee4510880764ea65c2e82c', '64ee45112fea9c788d715897', '64ee451322fae285992a1c1b', '64ee4518f7f46255894932ae', '64ee45192fea9c788d7158ac', '64ee451ab5783f9f881e6d0c', '64ee451d22fae285992a1c37', '64ee451d5e01413330f14c57', '64ee451ff7f46255894932bf', '64ee4522325fbc2bb41d30c4', '64ee4523f24655a2eddb5217', '64ee4524325fbc2bb41d30d4', '64ee4529e2b5d7468e2757ae', '64ee452a2e655e79fbf5d6dd', '64ee452b880764ea65c2e84a', '64ee4535325fbc2bb41d3127', '64ee453c1886b7c243cf6d6b', '64ee453c98e72a07d6d8ecae', '64ee453e8db25bf27d0753c9', '64ee453f98e72a07d6d8ecb4', '64ee4540f24655a2eddb5285', '64ee4541b5783f9f881e6dbf', '64ee4545e2b5d7468e2757f1', '64ee454a1886b7c243cf6d8c', '64ee454c45f3f18521407ec9', '64ee454d22fae285992a1c83', '64ee454ff8de386be8033ce8', '64ee4550b5783f9f881e6dd4', '64ee4550e2b5d7468e27581d', '64ee455156cb49f3dcc2f6ea', '64ee45525e01413330f14cef', '64ee4552f24655a2eddb52be', '64ee45548db25bf27d0753ff', '64ee4556b5783f9f881e6de6', '64ee45572fea9c788d715932', '64ee45575e01413330f14cfb', '64ee4557880764ea65c2e907', '64ee455af36876c0c50e39c2', '64ee455e2fea9c788d71594a', '64ee455ebe0f8750a63cbfce', '64ee4565f8de386be8033d32', '64ee4568f24655a2eddb5306', '64ee45691886b7c243cf6dc8', '64ee4569f36876c0c50e39e6', '64ee456df8de386be8033d5b', '64ee4571f36876c0c50e39f7', '64ee4573f8de386be8033d80', '64ee4575f24655a2eddb5335', '64ee457e22fae285992a1d27', '64ee45818db25bf27d07545c', '64ee45862e655e79fbf5d7c3', '64ee4592325fbc2bb41d32cb', '64ee459256cb49f3dcc2f763', '64ee4592be0f8750a63cc073', '64ee4594f7f462558949339f', '64ee4596325fbc2bb41d32dc', '64ee4596880764ea65c2e9c7', '64ee4598b5783f9f881e6edb', '64ee459d325fbc2bb41d32f2', '64ee459d325fbc2bb41d32f4', '64ee45a08db25bf27d0754a4', '64ee45a28db25bf27d0754ab', '64ee45a5325fbc2bb41d3320', '64ee45a8e2b5d7468e275962', '64ee45a8f36876c0c50e3a95', '64ee45ab22fae285992a1dc5', '64ee45aeb5783f9f881e6f15', '64ee45b0880764ea65c2ea0c', '64ee45b22e655e79fbf5d83e', '64ee45b573dfe601872793b9', '64ee45b7f8de386be8033e39', '64ee45b92e655e79fbf5d85a', '64ee45bc56cb49f3dcc2f7e0', '64ee45bd52a185b518f228cc', '64ee45bd98e72a07d6d8ee3e', '64ee45be1886b7c243cf6edd', '64ee45be2e655e79fbf5d87e', '64ee45c32fea9c788d715a5d', '64ee45c352a185b518f228e2', '64ee45c456cb49f3dcc2f801', '64ee45c698e72a07d6d8ee59', '64ee45c75e01413330f14e66', '64ee45c85e01413330f14e6a', '64ee45ca4a2b052be4158d9c', '64ee45cb2e655e79fbf5d8b1', '64ee45cc880764ea65c2ea66', '64ee45cd325fbc2bb41d33c5', '64ee45ce8db25bf27d075557', '64ee45cf325fbc2bb41d33cb', '64ee45d21886b7c243cf6f1f', '64ee45d3325fbc2bb41d33d9', '64ee45d38db25bf27d075579', '64ee45d6f7f46255894934a9', '64ee45d95e01413330f14eb2', '64ee45de2e655e79fbf5d8fe', '64ee45de98e72a07d6d8eec7', '64ee45def7f46255894934d9', '64ee45e02e655e79fbf5d906', '64ee45e0b5783f9f881e7005', '64ee45e4b5783f9f881e7017', '64ee45e4be0f8750a63cc18b', '64ee45e85e01413330f14f00', '64ee45e85e01413330f14f02', '64ee45e8880764ea65c2eaa8', '64ee45ea4a2b052be4158dfd', '64ee45eb5e01413330f14f1b', '64ee45f5325fbc2bb41d3448', '64ee45f71886b7c243cf6fa1', '64ee45f71886b7c243cf6fa3', '64ee45f7f36876c0c50e3b63', '64ee45fb45f3f18521408075', '64ee45fbf8de386be8033f57', '64ee45fc2fea9c788d715ae8', '64ee45fd22fae285992a1ef9', '64ee45fd325fbc2bb41d3458', '64ee460056cb49f3dcc2f8cc', '64ee46008db25bf27d075648', '64ee46054a2b052be4158e63', '64ee4605f7f4625589493551', '64ee4605f8de386be8033f8f', '64ee46088db25bf27d075662', '64ee46095e01413330f14fbb', '64ee460ae2b5d7468e275ae9', '64ee460be2b5d7468e275aec', '64ee4610325fbc2bb41d3491', '64ee461473dfe60187279555', '64ee4617be0f8750a63cc23c', '64ee461a73dfe60187279564', '64ee461cf8de386be8033ff7', '64ee461e73dfe60187279572', '64ee461ef24655a2eddb55c7', '64ee461fe2b5d7468e275b28', '64ee4620b5783f9f881e70c9', '64ee46218db25bf27d0756ac', '64ee4621f7f46255894935e9', '64ee46221886b7c243cf7037', '64ee4624f36876c0c50e3c39', '64ee46284a2b052be4158ef8', '64ee462a2e655e79fbf5da10', '64ee462a73dfe601872795b1', '64ee462abe0f8750a63cc27b', '64ee462b8db25bf27d0756c9', '64ee462f880764ea65c2eb52', '64ee463598e72a07d6d8ef85', '64ee463852a185b518f22a68', '64ee4640e2b5d7468e275b68', '64ee464152a185b518f22a92', '64ee4641f24655a2eddb5654', '64ee4642be0f8750a63cc313', '64ee4643f7f46255894936bc', '64ee46445e01413330f1507e', '64ee464a98e72a07d6d8efe6', '64ee464ab5783f9f881e71a4', '64ee464b4a2b052be4158f64', '64ee4652f8de386be80340df', '64ee4655325fbc2bb41d3588', '64ee4657880764ea65c2ebf3', '64ee465845f3f185214081ae', '64ee46588db25bf27d075765', '64ee465a1886b7c243cf7142', '64ee465a52a185b518f22b04', '64ee465d325fbc2bb41d35ab', '64ee465e5e01413330f150f0', '64ee465ee2b5d7468e275bb9', '64ee4661be0f8750a63cc3c5', '64ee466652a185b518f22b19', '64ee46698db25bf27d075780', '64ee4669f7f462558949373a', '64ee466b56cb49f3dcc2fa60', '64ee466c22fae285992a20c4', '64ee46728d6500125b7c9047', '64ee467756cb49f3dcc2fa83', '64ee467a03a0abd7ac3bab46', '64ee467be2b5d7468e275c2d', '64ee467c1d67cec5ab34cc32', '64ee467d880764ea65c2ec85', '64ee467d8d6500125b7c907e', '64ee467d8db25bf27d0757c7', '64ee467ef36876c0c50e3d7f', '64ee467f03a0abd7ac3bab50', '64ee4680cd6d8bf4b217ce16', '64ee468245f3f18521408262', '64ee46844a2b052be415902a', '64ee4684be0f8750a63cc43d', '64ee46854a2b052be4159030', '64ee4686325fbc2bb41d365e', '64ee4686e2b5d7468e275c53', '64ee468756cb49f3dcc2fab2', '64ee468a45f3f18521408292', '64ee468b880764ea65c2eccd', '64ee468c56cb49f3dcc2facd', '64ee468c8db25bf27d0757f1', '64ee468d22fae285992a2112', '64ee468d73dfe60187279726', '64ee468dbe0f8750a63cc452', '64ee468ee2b5d7468e275c60', '64ee4690cd6d8bf4b217ce4f', '64ee469145f3f185214082bf', '64ee4693325fbc2bb41d3697', '64ee46958db25bf27d075815', '64ee469f4a2b052be41590a1', '64ee469fbe0f8750a63cc4b8', '64ee46a28d6500125b7c9120', '64ee46a3325fbc2bb41d36eb', '64ee46a3e2b5d7468e275c87', '64ee46a403a0abd7ac3bac19', '64ee46a5f24655a2eddb57a9', '64ee46a7f7f46255894937ea', '64ee46a8571dc0b89a0241db', '64ee46a956cb49f3dcc2fb0d', '64ee46ab1d67cec5ab34cc7e', '64ee46acb5783f9f881e72c3', '64ee46ad56cb49f3dcc2fb19', '64ee46ade2b5d7468e275cbf', '64ee46b0f7f4625589493802', '64ee46b152a185b518f22be3', '64ee46b71886b7c243cf72cf', '64ee46b7cd6d8bf4b217cf05', '64ee46bbe2b5d7468e275d03', '64ee46bc52a185b518f22c0d', '64ee46c0f8de386be803421c', '64ee46c2880764ea65c2edaa', '64ee46c42fea9c788d715d71', '64ee46c4f7f4625589493840', '64ee46c503a0abd7ac3bac7e', '64ee46c61886b7c243cf7305', '64ee46c8325fbc2bb41d37da', '64ee46ca1886b7c243cf7312', '64ee46ca4a2b052be4159114', '64ee46cdbe0f8750a63cc54a', '64ee46ce2e0f075949bd27a5', '64ee46ce2e0f075949bd27a9', '64ee46cee2b5d7468e275d88', '64ee46d02e0f075949bd27b0', '64ee46d0325fbc2bb41d37ff', '64ee46d2880764ea65c2ede9', '64ee46d2a7f46460e3297720', '64ee46d2cd6d8bf4b217cf70', '64ee46d32e0f075949bd27c5', '64ee46d6237ddf5519661e70', '64ee46d6880764ea65c2edf8', '64ee46d822fae285992a21f8', '64ee46dd325fbc2bb41d3834', '64ee46e103a0abd7ac3bacd6', '64ee46e120bf28427f886f54', '64ee46e2e2b5d7468e275e01', '64ee46e3cd6d8bf4b217cfb3', '64ee46e503a0abd7ac3bacea', '64ee46e722fae285992a221f', '64ee46ed4d1100e76e963997', '64ee46ee56cb49f3dcc2fb5b', '64ee46f55e01413330f152a4', '64ee46f61886b7c243cf737c', '64ee46f622fae285992a2243', '64ee46f6f7f46255894938be', '64ee46f7f36876c0c50e3e46', '64ee46f95e01413330f152b1', '64ee46fd571dc0b89a0242f9', '64ee46fd8d6500125b7c9239', '64ee46fdf24655a2eddb5899', '64ee46fe02aefce453bab742', '64ee46fe73dfe6018727988d', '64ee46ff1d67cec5ab34cd4f', '64ee46ff8db25bf27d0758fe', '64ee4700237ddf5519661ed9', '64ee47008db25bf27d075901', '64ee470103a0abd7ac3bad3b', '64ee47014d1100e76e9639e8', '64ee4703e2b5d7468e275ecd', '64ee470956cb49f3dcc2fb82', '64ee470c20bf28427f887026', '64ee470e2fea9c788d715e10', '64ee470f56cb49f3dcc2fb94', '64ee470fa7f46460e32977c2', '64ee4710f8de386be803429a', '64ee47122e0f075949bd2846', '64ee4712da61da95cd8d6ab2', '64ee47134a2b052be41591d2', '64ee47181886b7c243cf73e8', '64ee4719be0f8750a63cc5a2', '64ee471a2e655e79fbf5dd92', '64ee471b325fbc2bb41d3947', '64ee471c03a0abd7ac3bad8b', '64ee47211886b7c243cf740e', '64ee47231d67cec5ab34cdc0', '64ee472b03a0abd7ac3badc8', '64ee472d52a185b518f22d3c', '64ee472f02aefce453bab7e8', '64ee472f5e01413330f15338', '64ee47328d6500125b7c92d2', '64ee47331886b7c243cf7439', '64ee4735e2b5d7468e275f73', '64ee4738a7f46460e3297844', '64ee473903a0abd7ac3badfe', '64ee473cda61da95cd8d6b09', '64ee473da7f46460e3297854', '64ee47402fea9c788d715e88', '64ee47411886b7c243cf7469', '64ee4741880764ea65c2ef42', '64ee47418db25bf27d0759ad', '64ee474403a0abd7ac3bae30', '64ee47451886b7c243cf747a', '64ee474520bf28427f8870a7', '64ee47452e655e79fbf5de40', '64ee474752a185b518f22db9', '64ee474802aefce453bab82c', '64ee4748f24655a2eddb5953', '64ee47491d67cec5ab34ce3e', '64ee474a45f3f185214084be', '64ee474bcd6d8bf4b217d0b1', '64ee474c2e655e79fbf5de66', '64ee474e2e655e79fbf5de6d', '64ee474e8357616d5c7116be', '64ee47505e01413330f1538f', '64ee47514a2b052be4159268', '64ee475302aefce453bab867', '64ee47534d1100e76e963b1b', '64ee4756f24655a2eddb598f', '64ee475802aefce453bab882', '64ee475d2e655e79fbf5dea0', '64ee475e325fbc2bb41d3a33', '64ee475f293701f39b391bef', '64ee4760b5783f9f881e756f', '64ee476545f3f185214084e3', '64ee47654d1100e76e963b79', '64ee47658d6500125b7c9322', '64ee47662e655e79fbf5decc', '64ee47688db25bf27d075a01', '64ee476b20bf28427f887107', '64ee476e2fea9c788d715ef7', '64ee477045f3f1852140850a', '64ee4773880764ea65c2efde', '64ee4773e2b5d7468e27608b', '64ee4773f36876c0c50e3fc2', '64ee477473dfe601872799e0', '64ee4774f24655a2eddb59dc', '64ee4775f8de386be8034357', '64ee4776237ddf5519662087', '64ee477a1886b7c243cf753a', '64ee477cf7f46255894939f3', '64ee477ea7f46460e3297922', '64ee477f02aefce453bab919', '64ee478103a0abd7ac3baebd', '64ee4781cd6d8bf4b217d1bb', '64ee4784cd6d8bf4b217d1c1', '64ee478722fae285992a23df', '64ee478c237ddf55196620f3', '64ee478df7f4625589493a2e', '64ee47984d1100e76e963c67', '64ee47994d1100e76e963c6a', '64ee4799880764ea65c2f08e', '64ee479a22fae285992a2415', '64ee479b22fae285992a241b', '64ee479e8357616d5c711800', '64ee479f1886b7c243cf75e5', '64ee479fbe0f8750a63cc742', '64ee47a220bf28427f887179', '64ee47a3f36876c0c50e3ff5', '64ee47a5be0f8750a63cc757', '64ee47a7da61da95cd8d6bae', '64ee47a945f3f185214085d7', '64ee47ac2e0f075949bd2a56', '64ee47aef7f4625589493a8d', '64ee47b0f7f4625589493a9b', '64ee47b302aefce453baba29', '64ee47b622fae285992a2463', '64ee47b6325fbc2bb41d3b8f', '64ee47b72fea9c788d715fc8', '64ee47b773dfe60187279aea', '64ee47b7b5783f9f881e7692', '64ee47b802aefce453baba38', '64ee47b8237ddf5519662199', '64ee47be1d67cec5ab34cfc7', '64ee47be98e72a07d6d8f4da', '64ee47c48357616d5c71186d', '64ee47c55e01413330f154ed', '64ee47cb8d6500125b7c9436', '64ee47cbb5783f9f881e76fd', '64ee47cd237ddf55196621ff', '64ee47ce8d6500125b7c944c', '64ee47cff8de386be8034410', '64ee47d05e01413330f1550e', '64ee47d32e0f075949bd2aec', '64ee47d72e0f075949bd2b01', '64ee47d8f24655a2eddb5b1e', '64ee47d9b57139606692a058', '64ee47da2fea9c788d715ff2', '64ee47dc02aefce453babadb', '64ee47dcbe0f8750a63cc812', '64ee47e1880764ea65c2f1b6', '64ee47e3b5783f9f881e7796', '64ee47e456cb49f3dcc2fdbd', '64ee47e5880764ea65c2f1d2', '64ee47e652a185b518f22f4d', '64ee47eb2e655e79fbf5e0d9', '64ee47eeb5783f9f881e77cb', '64ee47ef2fea9c788d71600d', '64ee47f08357616d5c71190c', '64ee47f0880764ea65c2f216', '64ee47f173dfe60187279bdb', '64ee47f4880764ea65c2f231', '64ee47f64d1100e76e963d5f', '64ee47f652a185b518f22f77', '64ee47f6f8de386be803447a', '64ee47f91886b7c243cf7750', '64ee47facd6d8bf4b217d2fb', '64ee47fba7f46460e3297b1f', '64ee47ffb5783f9f881e7807', '64ee48011d67cec5ab34d0ab', '64ee48014d1100e76e963d98', '64ee4801f7f4625589493b6f', '64ee4807cd6d8bf4b217d329', '64ee480a8db25bf27d075bd5', '64ee480ab57139606692a0dc', '64ee480c02aefce453babbc3', '64ee480c73dfe60187279c85', '64ee48112e655e79fbf5e154', '64ee481202aefce453babbe6', '64ee4816b5783f9f881e7850', '64ee4817cd6d8bf4b217d361', '64ee481879f37b4e387db6c6', '64ee4819a7f46460e3297b3a', '64ee481c3cb203905f829e2b', '64ee481f5e01413330f1562e', '64ee4820571dc0b89a0245bb', '64ee48238d6500125b7c957a', '64ee482620bf28427f887297', '64ee4828571dc0b89a0245cc', '64ee482c237ddf55196623a7', '64ee4832be0f8750a63cc8df', '64ee48332fea9c788d7160cf', '64ee48333cb203905f829e66', '64ee483720bf28427f8872db', '64ee48372e655e79fbf5e1d7', '64ee483b02aefce453babcd2', '64ee483ba66d6200afec4e6d', '64ee483c325fbc2bb41d3e5f', '64ee483c4a2b052be415954e', '64ee483d1886b7c243cf785f', '64ee483d98e72a07d6d8f627', '64ee483d98e72a07d6d8f629', '64ee483dda4d23f627f976ec', '64ee483e1d67cec5ab34d168', '64ee483e4a2b052be4159557', '64ee4840b5783f9f881e78f6', '64ee4840f24655a2eddb5ccc', '64ee4840f7f4625589493bfe', '64ee48422e655e79fbf5e1f2', '64ee4845237ddf55196623ef', '64ee48455e01413330f156c4', '64ee48462e655e79fbf5e206', '64ee4848237ddf55196623fe', '64ee4848da4d23f627f97713', '64ee484de2b5d7468e27632d', '64ee484df36876c0c50e418c', '64ee484e20bf28427f887335', '64ee484ff36876c0c50e418f', '64ee4850237ddf5519662419', '64ee485498e72a07d6d8f65e', '64ee485a13b56e336e6c0950', '64ee485a8d6500125b7c9643', '64ee485df8de386be803454c', '64ee485e8d6500125b7c9650', '64ee4864a7f46460e3297ba9', '64ee4864da61da95cd8d6d64', '64ee48683cb203905f829efd', '64ee486baafc73dba52930e5', '64ee486d79f37b4e387db7a8', '64ee4873aafc73dba52930fa', '64ee4875cd6d8bf4b217d486', '64ee48763cb203905f829f10', '64ee487656cb49f3dcc2ff53', '64ee4876f8de386be80345a0', '64ee4879aafc73dba529310c', '64ee4879e6193d9528b53122', '64ee487c8357616d5c711aaa', '64ee48818d6500125b7c96cb', '64ee4882f8de386be80345c7', '64ee48831d67cec5ab34d1de', '64ee4883b57139606692a1b6', '64ee4883da4d23f627f97826', '64ee4884571dc0b89a0246c7', '64ee4885aafc73dba5293133', '64ee4887aafc73dba5293139', '64ee48880934c7b980b9effd', '64ee4889e6193d9528b53134', '64ee488a880764ea65c2f440', '64ee48924d1100e76e963fe8', '64ee48928357616d5c711ae2', '64ee489356cb49f3dcc2ff8e', '64ee48941d67cec5ab34d21b', '64ee489503a0abd7ac3bb2b4', '64ee4896e2b5d7468e27640c', '64ee4896f24655a2eddb5e07', '64ee4898782d38b13a34950c', '64ee4899a66d6200afec4f6a', '64ee489ada4d23f627f97884', '64ee489d880764ea65c2f485', '64ee48a2293701f39b391f1e', '64ee48a48db25bf27d075d3c', '64ee48a68357616d5c711b0e', '64ee48a82fea9c788d7161c7', '64ee48aa4a2b052be415961d', '64ee48ab79f37b4e387db83b', '64ee48ac20bf28427f88744d', '64ee48af0934c7b980b9f098', '64ee48b04a2b052be4159637', '64ee48b0cd6d8bf4b217d513', '64ee48b52e655e79fbf5e337', '64ee48b5b57139606692a233', '64ee48b62e655e79fbf5e33a', '64ee48b87674ea2dd5bfeda6', '64ee48bc73dfe60187279f07', '64ee48bd237ddf5519662578', '64ee48c04a2b052be4159665', '64ee48c3325fbc2bb41d4027', '64ee48cbf7f4625589493cde', '64ee48d013b56e336e6c0ab3', '64ee48d0da61da95cd8d6e6c', '64ee48d503a0abd7ac3bb35f', '64ee48d552a185b518f23175', '64ee48d5b57139606692a271', '64ee48d6880764ea65c2f569', '64ee48d78d6500125b7c978d', '64ee48da22fae285992a2802', '64ee48da325fbc2bb41d405b', '64ee48dc03a0abd7ac3bb38f', '64ee48dc4d1100e76e9640d9', '64ee48ddf8de386be803470b', '64ee48e173dfe60187279f9a', '64ee48e4e2b5d7468e2764e8', '64ee48e5a7f46460e3297ca0', '64ee48e6782d38b13a3495a9', '64ee48e75e01413330f15886', '64ee48ece2b5d7468e27650c', '64ee48f04d1100e76e964120', '64ee48f1a66d6200afec5051', '64ee48f27674ea2dd5bfee38', '64ee48f4a66d6200afec5058', '64ee48f522fae285992a2851', '64ee48f52fea9c788d716256', '64ee48fa2fea9c788d716265', '64ee48fc3cb203905f82a020', '64ee48fc45f3f18521408953', '64ee48feaafc73dba529321f', '64ee48ff79f37b4e387db937', '64ee48fff36876c0c50e437e', '64ee4902b57139606692a2dd', '64ee4904293701f39b39204d', '64ee490513b56e336e6c0b96', '64ee4906b5783f9f881e7b16', '64ee490703a0abd7ac3bb41d', '64ee4908571dc0b89a0247e7', '64ee4909b5783f9f881e7b27', '64ee490a2e0f075949bd2e8a', '64ee490b880764ea65c2f5d7', '64ee490c2e0f075949bd2e93', '64ee490d20bf28427f88751b', '64ee490da7f46460e3297cc4', '64ee49110934c7b980b9f1e4', '64ee49164a2b052be415975d', '64ee4917880764ea65c2f602', '64ee49185e01413330f1592a', '64ee49190934c7b980b9f201', '64ee491a0934c7b980b9f205', '64ee491ada4d23f627f97a91', '64ee491b782d38b13a34960f', '64ee491ca66d6200afec5087', '64ee491e45f3f18521408974', '64ee491f02aefce453bac06e', '64ee491f293701f39b392080', '64ee4920782d38b13a349627', '64ee4920be0f8750a63ccb09', '64ee4921f8de386be80347a3', '64ee49244cf61897dd3f1e1f', '64ee4927da4d23f627f97ad2', '64ee49283cb203905f82a077', '64ee4929880764ea65c2f648', '64ee492d237ddf55196626d7', '64ee492f03a0abd7ac3bb491', '64ee492fb57139606692a351', '64ee493eb5783f9f881e7bab', '64ee493ef7f4625589493dcd', '64ee494303a0abd7ac3bb4c8', '64ee4945b57139606692a3a2', '64ee4950da61da95cd8d6f10', '64ee4951b57139606692a3bd', '64ee495313b56e336e6c0c43', '64ee495513b56e336e6c0c4d', '64ee4955cd6d8bf4b217d787', '64ee495752a185b518f2326f', '64ee49580934c7b980b9f27c', '64ee4958a7f46460e3297d84', '64ee495ba7f46460e3297d91', '64ee495ca7f46460e3297d9a', '64ee495e782d38b13a3496c6', '64ee495f02aefce453bac145', '64ee496313b56e336e6c0c73', '64ee496c1d67cec5ab34d3bf', '64ee496eaafc73dba5293362', '64ee498203a0abd7ac3bb56e', '64ee498213b56e336e6c0cc9', '64ee498a2fea9c788d71639f', '64ee498c0934c7b980b9f2e8', '64ee498caafc73dba52933cd', '64ee498f2fea9c788d7163b5', '64ee498f45f3f18521408a5e', '64ee499152a185b518f232ee', '64ee4996aafc73dba52933ea', '64ee499722fae285992a29ce', '64ee4999237ddf5519662812', '64ee499cda61da95cd8d6f94', '64ee49a00934c7b980b9f32d', '64ee49a5880764ea65c2f7e3', '64ee49ac0934c7b980b9f35c', '64ee49b4da4d23f627f97bb8', '64ee49b673dfe6018727a286', '64ee49b6f24655a2eddb60bc', '64ee49b81886b7c243cf7bee', '64ee49b8da4d23f627f97bc4', '64ee49bd0934c7b980b9f3ad', '64ee49bd4d1100e76e964356', '64ee49bf2fea9c788d716435', '64ee49c41d67cec5ab34d462', '64ee49c62e0f075949bd3041', '64ee49c9aafc73dba5293441', '64ee49ca237ddf55196628c3', '64ee49da1886b7c243cf7c55', '64ee49da2e0f075949bd3078', '64ee49da5e01413330f15a91', '64ee49dc571dc0b89a0249c8', '64ee49dde2b5d7468e27684b', '64ee49ddf7f4625589493f3a', '64ee49df0934c7b980b9f40d', '64ee49e02e655e79fbf5e67d', '64ee49e1f8de386be8034981', '64ee49e2aafc73dba5293499', '64ee49e3a7f46460e3297eb0', '64ee49e6237ddf551966291f', '64ee49e71d67cec5ab34d4d9', '64ee49e7a66d6200afec5211', '64ee49e7b5783f9f881e7dad', '64ee49e98357616d5c711dd3', '64ee49f42e269998fcb8c561', '64ee49f5880764ea65c2f8ba', '64ee49f673dfe6018727a38c', '64ee49fa03a0abd7ac3bb6ee', '64ee4a02b5783f9f881e7e13', '64ee4a084d1100e76e9644e4', '64ee4a0922fae285992a2ac0', '64ee4a0b20bf28427f88778d', '64ee4a0d02aefce453bac38a', '64ee4a1356cb49f3dcc302d7', '64ee4a1452a185b518f2341e', '64ee4a152e269998fcb8c5b1', '64ee4a17782d38b13a349838', '64ee4a1813b56e336e6c0ea8', '64ee4a1856cb49f3dcc302e5', '64ee4a1c56cb49f3dcc302f5', '64ee4a1e4d1100e76e964538', '64ee4a217674ea2dd5bff1df', '64ee4a2422fae285992a2b2a', '64ee4a2473dfe6018727a427', '64ee4a2d0934c7b980b9f4de', '64ee4a2e571dc0b89a024ab9', '64ee4a30a7f46460e3297fce', '64ee4a34237ddf55196629eb', '64ee4a367674ea2dd5bff24a', '64ee4a37880764ea65c2f969', '64ee4a384a2b052be41599a5', '64ee4a3aa66d6200afec531f', '64ee4a3b237ddf5519662a10', '64ee4a3dbe0f8750a63ccdc1', '64ee4a4052a185b518f234a8', '64ee4a41880764ea65c2f97b', '64ee4a49e2b5d7468e276956', '64ee4a4d782d38b13a3498c6', '64ee4a4eaafc73dba5293592', '64ee4a4f5e01413330f15bc0', '64ee4a4f8d6500125b7c9b32', '64ee4a50e2b5d7468e276976', '64ee4a538357616d5c711ec3', '64ee4a538d6500125b7c9b47', '64ee4a5422fae285992a2c11', '64ee4a59b57139606692a560', '64ee4a5c13b56e336e6c0f52', '64ee4a5c56cb49f3dcc3037c', '64ee4a5e325fbc2bb41d44c1', '64ee4a6b13b56e336e6c0f67', '64ee4a6c4cf61897dd3f211a', '64ee4a6f13b56e336e6c0f81', '64ee4a72a7f46460e329808e', '64ee4a77cd6d8bf4b217daa1', '64ee4a7913b56e336e6c0fba', '64ee4a7a7674ea2dd5bff32a', '64ee4a7ef36876c0c50e46e9', '64ee4a8120bf28427f8878e0', '64ee4a824cf61897dd3f2145', '64ee4a8445f3f18521408c86', '64ee4a8452a185b518f2355a', '64ee4a86293701f39b39235a', '64ee4a8b73dfe6018727a4ee', '64ee4a8df7f4625589494140', '64ee4a94f7f4625589494152', '64ee4a95237ddf5519662b1c', '64ee4a9bda4d23f627f97de8', '64ee4a9e45f3f18521408ce3', '64ee4aa1293701f39b3923b1', '64ee4aa2571dc0b89a024ba6', '64ee4aa41886b7c243cf7ecb', '64ee4aa652a185b518f235ae', '64ee4aa73cb203905f82a3d1', '64ee4aaa52a185b518f235b4', '64ee4aab325fbc2bb41d461c', '64ee4aab8db25bf27d07610d', '64ee4aad237ddf5519662b61', '64ee4ab0da4d23f627f97e61', '64ee4ab2b5783f9f881e7ffd', '64ee4ab803a0abd7ac3bb9ce', '64ee4ab9880764ea65c2faaf', '64ee4abc880764ea65c2fabf', '64ee4ac352a185b518f235df', '64ee4ac6be0f8750a63cceed', '64ee4ac7880764ea65c2fae9', '64ee4ac92e269998fcb8c791', '64ee4ac9e2b5d7468e276b52', '64ee4ad022fae285992a2d1e', '64ee4ad28d6500125b7c9c96', '64ee4ad3f24655a2eddb635c', '64ee4ad40934c7b980b9f6b6', '64ee4ad820bf28427f8879ab', '64ee4adaa7f46460e329817b', '64ee4adb22fae285992a2d2d', '64ee4add79f37b4e387dbdb7', '64ee4ade0934c7b980b9f6e2', '64ee4adee2b5d7468e276ba4', '64ee4ae0f24655a2eddb6386', '64ee4ae1e2b5d7468e276bbb', '64ee4ae203a0abd7ac3bba54', '64ee4ae5b5783f9f881e80c2', '64ee4ae673dfe6018727a5f5', '64ee4ae803a0abd7ac3bba6f', '64ee4ae87674ea2dd5bff4dc', '64ee4ae945f3f18521408d35', '64ee4aea4d1100e76e96470a', '64ee4aef02aefce453bac660', '64ee4aefcd6d8bf4b217dbe4', '64ee4af2237ddf5519662c1b', '64ee4af4a7f46460e3298196', '64ee4af5293701f39b392473', '64ee4af5f7f4625589494262', '64ee4af82e269998fcb8c7cd', '64ee4b0120bf28427f887a21', '64ee4b0213b56e336e6c1140', '64ee4b048d6500125b7c9d34', '64ee4b05a7f46460e32981d0', '64ee4b06b5783f9f881e817e', '64ee4b0e1d67cec5ab34d7c0', '64ee4b11a7f46460e3298217', '64ee4b1e56cb49f3dcc304cc', '64ee4b203cb203905f82a4a4', '64ee4b212e655e79fbf5ea99', '64ee4b22cd6d8bf4b217dc5f', '64ee4b251d67cec5ab34d814', '64ee4b287674ea2dd5bff610', '64ee4b28b5783f9f881e81c6', '64ee4b2c325fbc2bb41d4861', '64ee4b2cda61da95cd8d72b3', '64ee4b31325fbc2bb41d4878', '64ee4b357674ea2dd5bff65e', '64ee4b36f24655a2eddb6446', '64ee4b3ebe0f8750a63ccfec', '64ee4b4498e72a07d6d8fd1e', '64ee4b4598e72a07d6d8fd24', '64ee4b4b45f3f18521408dd3', '64ee4b4ebe0f8750a63cd007', '64ee4b5613b56e336e6c121e', '64ee4b59b57139606692a8e3', '64ee4b622fea9c788d7167c2', '64ee4b68f8de386be8034d30', '64ee4b6952a185b518f23748', '64ee4b6a4d1100e76e9648d9', '64ee4b6c7674ea2dd5bff70c', '64ee4b6ce2b5d7468e276d0c', '64ee4b6ff24655a2eddb64d5', '64ee4b71da61da95cd8d732d', '64ee4b7452a185b518f23777', '64ee4b75da61da95cd8d733b', '64ee4b7c1d67cec5ab34d905', '64ee4b7d52a185b518f23790', '64ee4b7f237ddf5519662dc3', '64ee4b80325fbc2bb41d4990', '64ee4b82da4d23f627f9811b', '64ee4b85a7f46460e3298314', '64ee4b85f36876c0c50e48ae', '64ee4b8b13b56e336e6c12d7', '64ee4b8df36876c0c50e48bd', '64ee4b8e2e269998fcb8c8c9', '64ee4b964cf61897dd3f2400', '64ee4b985e01413330f15ebe', '64ee4b9e13b56e336e6c130d', '64ee4ba0325fbc2bb41d4a0d', '64ee4ba51d67cec5ab34d959', '64ee4bab2e0f075949bd33e3', '64ee4bafe6193d9528b53859', '64ee4bb0571dc0b89a024e69', '64ee4bb78357616d5c71217a', '64ee4bb8325fbc2bb41d4a45', '64ee4bb92e655e79fbf5ec6e', '64ee4bb9782d38b13a349c2a', '64ee4bc503a0abd7ac3bbd52', '64ee4bd1293701f39b392643', '64ee4bd1cd6d8bf4b217de89', '64ee4bd7f7f4625589494426', '64ee4bd84cf61897dd3f2493', '64ee4bde02aefce453bac93f', '64ee4be7f8de386be8034df8', '64ee4be8b5783f9f881e83aa', '64ee4be9f24655a2eddb65f8', '64ee4beb5e01413330f15f7a', '64ee4bed20bf28427f887c22', '64ee4bf2571dc0b89a024edd', '64ee4bf74d1100e76e964a7a', '64ee4bf9f24655a2eddb661c', '64ee4bfca7f46460e329841b', '64ee4c01a66d6200afec5727', '64ee4c03237ddf5519662f9b', '64ee4c03293701f39b39269e', '64ee4c058357616d5c7121fe', '64ee4c05f36876c0c50e499a', '64ee4c0a571dc0b89a024f23', '64ee4c0cf36876c0c50e49a3', '64ee4c0d45f3f18521408f9f', '64ee4c147483023e9c66a2e4', '64ee4c147cdec4878e16a8bb', '64ee4c1f73dfe6018727a98c', '64ee4c20880764ea65c2feba', '64ee4c2220bf28427f887c79', '64ee4c2a7674ea2dd5bff94e', '64ee4c2b4a2b052be4159ea4', '64ee4c2b52a185b518f2390f', '64ee4c333cb203905f82a6eb', '64ee4c343cb203905f82a6ee', '64ee4c3f880764ea65c2ff28', '64ee4c478357616d5c712260', '64ee4c4f6ae21a9054d160d7', '64ee4c4fa66d6200afec57f7', '64ee4c5713b56e336e6c14d3', '64ee4c572fea9c788d7169f9', '64ee4c58325fbc2bb41d4c0c', '64ee4c58c4d7f1adccc7d53b', '64ee4c638d6500125b7ca035', '64ee4c69f7f462558949459b', '64ee4c6b782d38b13a349de8', '64ee4c6c73dfe6018727aa49', '64ee4c6fda4d23f627f9842d', '64ee4c7152a185b518f2399e', '64ee4c754cf61897dd3f25cc', '64ee4c7a20bf28427f887cf8', '64ee4c7c880764ea65c30012', '64ee4c7c880764ea65c3001a', '64ee4c8603a0abd7ac3bbf5e', '64ee4c8e2e0f075949bd358a', '64ee4c90325fbc2bb41d4cac', '64ee4c96237ddf55196631d8', '64ee4c9b56cb49f3dcc307fe', '64ee4c9c1886b7c243cf8489', '64ee4c9d2fea9c788d716a69', '64ee4c9dcd6d8bf4b217e195', '64ee4ca9237ddf5519663236', '64ee4cb02e655e79fbf5ef1b', '64ee4cb0e6193d9528b53a87', '64ee4cbc6ae21a9054d161e6', '64ee4cc62e0f075949bd35f4', '64ee4cc87cdec4878e16aa07', '64ee4cc9da4d23f627f9851d', '64ee4ccaf36876c0c50e4b69', '64ee4ccbc4d7f1adccc7d648', '64ee4cd12e269998fcb8cb46', '64ee4cd38d7a53292431f62e', '64ee4cdeda61da95cd8d7622', '64ee4ce01886b7c243cf8521', '64ee4ce673dfe6018727ab75', '64ee4ce8880764ea65c30139', '64ee4cebe4d0d66f63dc37e8', '64ee4ceeb57139606692acb4', '64ee4cf01d67cec5ab34dba4', '64ee4cf022fae285992a3262', '64ee4cf1e2b5d7468e277178', '64ee4cf1f8de386be8035015', '64ee4cf78d6500125b7ca0ef', '64ee4cf913b56e336e6c165b', '64ee4cffcd6d8bf4b217e282', '64ee4d0a1886b7c243cf8596', '64ee4d12293701f39b392869', '64ee4d1d293701f39b392884', '64ee4d201d67cec5ab34dbdd', '64ee4d21f7f46255894946e8', '64ee4d223cb203905f82a8c4', '64ee4d268d6500125b7ca14e', '64ee4d3813b56e336e6c16f0', '64ee4d3ea66d6200afec596e', '64ee4d45b57139606692ad5c', '64ee4d54a7f46460e3298755', '64ee4d5b1d67cec5ab34dc15', '64ee4d5d22fae285992a3318', '64ee4d6103a0abd7ac3bc178', '64ee4d65880764ea65c30213', '64ee4d6d4a2b052be415a199', '64ee4d6d880764ea65c30244', '64ee4d7be4d0d66f63dc3940', '64ee4d82be0f8750a63cd4e1', '64ee4d84c4d7f1adccc7d79d', '64ee4d8fcd6d8bf4b217e439', '64ee4d908db25bf27d0766fb', '64ee4d96782d38b13a34a028', '64ee4d9cc4d7f1adccc7d7d1', '64ee4d9d4a2b052be415a230', '64ee4daa4d1100e76e964f97', '64ee4daef36876c0c50e4cfb', '64ee4dbf20bf28427f887f1e', '64ee4dc102aefce453bacd98', '64ee4dc58d6500125b7ca284', '64ee4dc5f36876c0c50e4d38', '64ee4dc60934c7b980b9ff99', '64ee4dcb52a185b518f23c28', '64ee4dce45f3f1852140936d', '64ee4dd78d7a53292431f900', '64ee4dde8d7a53292431f926', '64ee4de13cb203905f82aa02', '64ee4de403a0abd7ac3bc327', '64ee4dea7cdec4878e16ab6a', '64ee4df30934c7b980ba0019', '64ee4df402aefce453bacdf1', '64ee4dfc03a0abd7ac3bc382', '64ee4dff79f37b4e387dc367', '64ee4e0056cb49f3dcc309f7', '64ee4e0be2b5d7468e277462', '64ee4e12b5783f9f881e897d', '64ee4e141d67cec5ab34dd8f', '64ee4e18be0f8750a63cd6a0', '64ee4e19a7f46460e3298987', '64ee4e1eda61da95cd8d787c', '64ee4e230934c7b980ba00a9', '64ee4e2e02aefce453bace84', '64ee4e3122fae285992a34e7', '64ee4e360934c7b980ba00dc', '64ee4e3a20bf28427f887fe6', '64ee4e3e7cdec4878e16ac5f', '64ee4e3ec4d7f1adccc7d90c', '64ee4e5abe0f8750a63cd6cc', '64ee4e5cf36876c0c50e4f0d', '64ee4e602fea9c788d716d8c', '64ee4e606ae21a9054d1653e', '64ee4e6713b56e336e6c1a75', '64ee4e6b13b56e336e6c1a83', '64ee4e6c73dfe6018727af51', '64ee4e7403a0abd7ac3bc531', '64ee4e783cb203905f82ab34', '64ee4e8213b56e336e6c1ad7', '64ee4e84c4d7f1adccc7d994', '64ee4ea02e269998fcb8ce6a', '64ee4ea9b5783f9f881e8af9', '64ee4eae571dc0b89a0254f3', '64ee4eb622fae285992a3600', '64ee4eba45f3f18521409530', '64ee4ebc52a185b518f23d2d', '64ee4ebf2e655e79fbf5f505', '64ee4ec07cdec4878e16ad95', '64ee4ed113b56e336e6c1bd7', '64ee4ed120bf28427f8880eb', '64ee4ed84d1100e76e9652be', '64ee4eda5e01413330f16542', '64ee4ef7f24655a2eddb6bb7', '64ee4f01f36876c0c50e4feb', '64ee4f05293701f39b392cc1', '64ee4f09cd6d8bf4b217e764', '64ee4f09e2b5d7468e277738', '64ee4f10e2b5d7468e277744', '64ee4f13571dc0b89a0255ff', '64ee4f137483023e9c66a807', '64ee4f151886b7c243cf8b97', '64ee4f2156cb49f3dcc30b80', '64ee4f26571dc0b89a025636', '64ee4f2c237ddf5519663846', '64ee4f2e1886b7c243cf8bc7', '64ee4f3a56cb49f3dcc30bb2', '64ee4f3d20bf28427f888184', '64ee4f438d7a53292431fc10', '64ee4f48880764ea65c3076f', '64ee4f4c56cb49f3dcc30bcd', '64ee4f515e01413330f165d4', '64ee4f527674ea2dd5c001a5', '64ee4f6122fae285992a374f', '64ee4f6356cb49f3dcc30c19', '64ee4f6b293701f39b392df7', '64ee4f6bb5783f9f881e8d1e', '64ee4f6d56cb49f3dcc30c3b', '64ee4f6eb5783f9f881e8d2a', '64ee4f76293701f39b392e23', '64ee4f766ae21a9054d16743', '64ee4f7b237ddf55196638a8', '64ee4f808d6500125b7ca651', '64ee4f80b5783f9f881e8d55', '64ee4f91e2b5d7468e277881', '64ee4f943cb203905f82ad42', '64ee4f9a03a0abd7ac3bc708', '64ee4f9d1d67cec5ab34e03b', '64ee4fab4cf61897dd3f2be6', '64ee4fb71d67cec5ab34e089', '64ee4fbb571dc0b89a0257cc', '64ee4fc22e655e79fbf5f7b6', '64ee4fc6880764ea65c308e0', '64ee4fd5880764ea65c3091d', '64ee4fd5cd6d8bf4b217e956', '64ee4fd7cd6d8bf4b217e962', '64ee4fda782d38b13a34a412', '64ee4fe92fea9c788d717033', '64ee4fee22fae285992a386a', '64ee4ff01d67cec5ab34e0dc', '64ee4fff2e655e79fbf5f853', '64ee500213b56e336e6c1e44', '64ee500b880764ea65c30a11', '64ee500e7674ea2dd5c003bb', '64ee5013aafc73dba529415e', '64ee501d3cb203905f82ae2f', '64ee502122fae285992a390d', '64ee50234d1100e76e9655c1', '64ee502c4d1100e76e9655e1', '64ee50344a2b052be415a7a3', '64ee503779f37b4e387dc800', '64ee50490934c7b980ba05cd', '64ee505320bf28427f888367', '64ee50698d6500125b7ca805', '64ee506df7f4625589494bf4', '64ee506fe2b5d7468e277ade', '64ee5076f7f4625589494c1e', '64ee508002aefce453bad3f4', '64ee50a02e0f075949bd3c09', '64ee50a08db25bf27d076b93', '64ee50a203a0abd7ac3bc91e', '64ee50a9da61da95cd8d7cae', '64ee50b57674ea2dd5c005ec', '64ee50d61886b7c243cf90e1', '64ee50eb52a185b518f240ef', '64ee512f98e72a07d6d90859', '64ee51374cf61897dd3f2f47', '64ee5166a7f46460e329907a', '64ee516cf36876c0c50e5490', '64ee517a8db25bf27d076d3a', '64ee517aa66d6200afec5ffc', '64ee518320bf28427f8885b3', '64ee5183b5783f9f881e92af', '64ee5192237ddf5519663e18', '64ee51b0880764ea65c30e75', '64ee51c7b57139606692b654', '64ee51cf98e72a07d6d9098a', '64ee51d47674ea2dd5c00940', '64ee51e2f36876c0c50e554a', '64ee51ecf36876c0c50e5559', '64ee520ef7f4625589494ed0', '64ee523ff8de386be803589e', '64ee5252880764ea65c30fbd', '64ee526922fae285992a3d81', '64ee526b73dfe6018727b9b6', '64ee528af7f4625589494f6c', '64ee52930934c7b980ba0b46', '64ee529ee2b5d7468e27805e', '64ee52a213b56e336e6c2466', '64ee52afa7f46460e329933c', '64ee52c92e0f075949bd3eea', '64ee52ceb5783f9f881e95e0', '64ee52d198e72a07d6d90b78', '64ee52d51d67cec5ab34e54d', '64ee52f602aefce453bad9ea', '64ee53134cf61897dd3f32d3', '64ee5324880764ea65c311bd', '64ee53571886b7c243cf983e', '64ee536a0934c7b980ba0d97', '64ee537445f3f18521409c1a', '64ee53828d6500125b7cae1d', '64ee53fc2e655e79fbf60463', '64ee54377674ea2dd5c00ffa', '64ee5445f7f46255894951fd', '64ee5448a7f46460e32996f4', '64ee545b782d38b13a34ab74', '64ee54618db25bf27d0772f4', '64ee5485f7f4625589495227', '64ee54934cf61897dd3f369c', '64ee54f92e655e79fbf606f9', '64ee55013cb203905f82b614', '64ee5523f8de386be8035ca4', '64ee55388d6500125b7cb0fe', '64ee555c45f3f18521409f9a', '64ee556c2e655e79fbf6088a', '64ee5570880764ea65c31898', '64ee557d7674ea2dd5c013b0', '64ee55e698e72a07d6d910b4', '64ee56012fea9c788d717989', '64ee560622fae285992a4451', '64ee565d782d38b13a34ae48', '64eef2dfd6f18824fe3dad8a', '64eef30cd6f18824fe3dad9c', '64eef36e325fbc2bb41eed75', '64eef392b5783f9f882033f9', '64eef3b63dc9eea419914000', '64eef3b9880764ea65c4a3a6', '64eef3c9f36876c0c50f8723', '64eef3dcf7f46255894a6581', '64eef3f4b5783f9f882034d6', '64eef4101db8b923c3c1cf13', '64eef42241b66b0ed196d08e', '64eef4265e01413330f29d80', '64eef42cf36876c0c50f87a1', '64eef440325fbc2bb41eef45', '64eef44d5e01413330f29ddb', '64eef4681db8b923c3c1cf3b', '64eef46a1db8b923c3c1cf3e', '64eef46f45f3f1852141af93', '64eef48441b66b0ed196d12d', '64eef4a21db8b923c3c1cfbe', '64eef4a422fae285992b66d1', '64eef4ac5e01413330f29e44', '64eef4b222fae285992b66e6', '64eef4c78db25bf27d0885d3', '64eef4c8880764ea65c4a4f3', '64eef4cd8db25bf27d0885db', '64eef4d6f7f46255894a66a8', '64eef4e3325fbc2bb41ef034', '64eef4ea8db25bf27d088611', '64eef4f122fae285992b6719', '64eef4f85e01413330f29e9c', '64eef4fb325fbc2bb41ef065', '64eef508880764ea65c4a568', '64eef50d22fae285992b6739', '64eef526880764ea65c4a5a6', '64eef54145f3f1852141b05b', '64eef56f45f3f1852141b07c', '64eef570f7f46255894a674f', '64eef588325fbc2bb41ef120', '64eef58a325fbc2bb41ef129', '64eef58bf7f46255894a676d', '64eef593325fbc2bb41ef13b', '64eef598f36876c0c50f88ef', '64eef5bc5e01413330f29f54', '64eef5c5325fbc2bb41ef196', '64eef5d3325fbc2bb41ef1cc', '64eef5de8db25bf27d08873d', '64eef5e0f36876c0c50f8996', '64eef5e95e01413330f29f92', '64eef5eef36876c0c50f89c7', '64eef5f05e01413330f29fac', '64eef5f0f36876c0c50f89d0', '64eef5f6f36876c0c50f89e9', '64eef5f8325fbc2bb41ef221', '64eef600325fbc2bb41ef23f', '64eef602325fbc2bb41ef24d', '64eef61bf36876c0c50f8a3a', '64eef63ef36876c0c50f8a81', '64eef6425e01413330f2a094', '64eef6525e01413330f2a0d6', '64eef656880764ea65c4a865', '64eef66d325fbc2bb41ef380', '64eef66f325fbc2bb41ef38f', '64eef674880764ea65c4a8e6', '64eef67e5e01413330f2a10a', '64eef689880764ea65c4a929', '64eef68a5e01413330f2a11d', '64eef6be5e01413330f2a179', '64eef6c85e01413330f2a18e', '64eef6d2f36876c0c50f8b91', '64eef6ddf7f46255894a69d1', '64eef6e2325fbc2bb41ef50d', '64eef6f6325fbc2bb41ef574', '64eef704325fbc2bb41ef59f', '64eef70c5e01413330f2a1ce', '64eef71af36876c0c50f8c0a', '64eef71c5e01413330f2a1ed', '64eef71e325fbc2bb41ef5f7', '64eef72d5e01413330f2a20f', '64eef72e5e01413330f2a211', '64eef730880764ea65c4ab04', '64eef73c880764ea65c4ab33', '64eef740325fbc2bb41ef660', '64eef742325fbc2bb41ef663', '64eef75b8db25bf27d088904', '64eef75e880764ea65c4abac', '64eef7658db25bf27d088934', '64eef7665e01413330f2a273', '64eef773f36876c0c50f8cdf', '64eef77f325fbc2bb41ef6ae', '64eef7805e01413330f2a2cd', '64eef7895e01413330f2a2eb', '64eef7998db25bf27d0889a6', '64eef79e880764ea65c4ac1f', '64eef7a2325fbc2bb41ef711', '64eef7e2f36876c0c50f8db0', '64eef7eaf36876c0c50f8dcd', '64eef7eb8db25bf27d088a78', '64eef7ed8db25bf27d088a7e', '64eef7eef7f46255894a6b22', '64eef7fb5e01413330f2a42c', '64eef80b325fbc2bb41ef890', '64eef80ef7f46255894a6b80', '64eef8228db25bf27d088b11', '64eef8305e01413330f2a482', '64eef83a325fbc2bb41ef91b', '64eef8455e01413330f2a4fe', '64eef8475e01413330f2a501', '64eef84d8db25bf27d088b45', '64eef859325fbc2bb41ef9aa', '64eef8778db25bf27d088baf', '64eef87a5e01413330f2a5b8', '64eef88ef7f46255894a6cad', '64eef88f16e18a216239064f', '64eef89b5e01413330f2a62a', '64eef8a379b48dde1ea6c0c9', '64eef8ad880764ea65c4af29', '64eef8c2325fbc2bb41efb3f', '64eef8c4d7e4df7d1d4ff67b', '64eef8c5f36876c0c50f8f9f', '64eef8c9f36876c0c50f8fbf', '64eef8ccd7e4df7d1d4ff68f', '64eef8d18db25bf27d088c61', '64eef8e08db25bf27d088c7d', '64eef8e1d7e4df7d1d4ff6e9', '64eef8e216e18a2162390721', '64eef8e8d7e4df7d1d4ff70e', '64eef8f6f36876c0c50f9034', '64eef8f8d7e4df7d1d4ff74b', '64eef8fdf7f46255894a6dd5', '64eef904d7e4df7d1d4ff78d', '64eef90f325fbc2bb41efccd', '64eef91cd7e4df7d1d4ff7c2', '64eef923f36876c0c50f9098', '64eef92d79b48dde1ea6c2b5', '64eef92e325fbc2bb41efd56', '64eef939d7e4df7d1d4ff835', '64eef93d880764ea65c4b154', '64eef949325fbc2bb41efdb4', '64eef951325fbc2bb41efdd6', '64eef95a79b48dde1ea6c354', '64eef96fd7e4df7d1d4ff8c6', '64eef9885e01413330f2a890', '64eef98d5e01413330f2a8a5', '64eef98df7f46255894a6fa8', '64eef995d7e4df7d1d4ff942', '64eef99df36876c0c50f9212', '64eef9a0f36876c0c50f921c', '64eef9bc5e01413330f2a90b', '64eef9bf5e01413330f2a914', '64eef9c5e158f2275b63e73d', '64eef9cbab6c13686eff50e3', '64eef9cff36876c0c50f92d2', '64eef9d4880764ea65c4b2db', '64eef9d7325fbc2bb41eff30', '64eef9db16e18a2162390902', '64eef9e0e158f2275b63e7ab', '64eef9e134f5fb5232b95688', '64eef9e95e01413330f2a96b', '64eef9f234f5fb5232b956b6', '64eefa03325fbc2bb41effe2', '64eefa1079b48dde1ea6c4cc', '64eefa1eab6c13686eff51ae', '64eefa22880764ea65c4b401', '64eefa30f36876c0c50f9398', '64eefa3e325fbc2bb41f00e3', '64eefa46325fbc2bb41f0110', '64eefa4716e18a21623909d1', '64eefa4cf36876c0c50f93ca', '64eefa50f36876c0c50f93da', '64eefa51ab6c13686eff5221', '64eefa7579b48dde1ea6c5cc', '64eefa80325fbc2bb41f01f6', '64eefa8116e18a2162390a32', '64eefa8834f5fb5232b9587b', '64eefa8aab6c13686eff52fe', '64eefa9ef7f46255894a7189', '64eefaa5ab6c13686eff5330', '64eefaacd7e4df7d1d4ffce7', '64eefaae79b48dde1ea6c65e', '64eefaced7e4df7d1d4ffd88', '64eefadcd7e4df7d1d4ffda9', '64eefaea325fbc2bb41f033f', '64eefb0416e18a2162390b21', '64eefb1079b48dde1ea6c764', '64eefb1379b48dde1ea6c770', '64eefb21325fbc2bb41f03b6', '64eefb2279b48dde1ea6c7a6', '64eefb2679b48dde1ea6c7b8', '64eefb2af7f46255894a7238', '64eefb2f79b48dde1ea6c7e4', '64eefb3d8db25bf27d08902d', '64eefb40325fbc2bb41f041a', '64eefb59880764ea65c4b7f7', '64eefb5d880764ea65c4b7fd', '64eefb5f5e01413330f2acb2', '64eefb738db25bf27d089084', '64eefb80ab6c13686eff5563', '64eefb81f7f46255894a72da', '64eefb85f7f46255894a72dd', '64eefb88325fbc2bb41f04fa', '64eefb8ff7f46255894a72e9', '64eefb925e01413330f2ad34', '64eefb99d7e4df7d1d4fff3d', '64eefbba880764ea65c4b8f0', '64eefbc034f5fb5232b95b65', '64eefbc1880764ea65c4b90d', '64eefc0016e18a2162390ce5', '64eefc1fe158f2275b63ecfd', '64eefc248db25bf27d089199', '64eefc2d325fbc2bb41f06b1', '64eefc3716e18a2162390d72', '64eefc43325fbc2bb41f06e6', '64eefc4a16e18a2162390daf', '64eefc7e325fbc2bb41f07bd', '64eefc93f7f46255894a74b9', '64eefcaad7e4df7d1d500197', '64eefcacf7f46255894a74eb', '64eefcbfd7e4df7d1d5001e5', '64eefce7325fbc2bb41f08d0', '64eefcff79b48dde1ea6cc48', '64eefd1734f5fb5232b95e25', '64eefd28880764ea65c4bd5c', '64eefd2ce158f2275b63f025', '64eefd5ef7f46255894a7716', '64eefd61325fbc2bb41f0a17', '64eefd90d7e4df7d1d500431', '64eefdbe79b48dde1ea6cdab', '64eefdced7e4df7d1d5004e9', '64eefdcf325fbc2bb41f0b49', '64eefddbe158f2275b63f211', '64eefde8f7f46255894a782a', '64eefdefab6c13686eff58ca', '64eefdf1325fbc2bb41f0bb9', '64eefdf4325fbc2bb41f0bbc', '64eefe0cab6c13686eff5903', '64eefe27880764ea65c4bf2c', '64eefe2b8db25bf27d08951c', '64eefe30f7f46255894a789c', '64eefe31325fbc2bb41f0c42', '64eefe3fe158f2275b63f307', '64eefe40e158f2275b63f30d', '64eefe49325fbc2bb41f0c74', '64eefe50325fbc2bb41f0c89', '64eefe5b5e01413330f2b2a5', '64eefe7d34f5fb5232b960b4', '64eefeb1d7e4df7d1d500745', '64eefec3f7f46255894a79ac', '64eefed1325fbc2bb41f0dbe', '64eefef034f5fb5232b96181', '64eefef2f7f46255894a79d0', '64eeff03ab6c13686eff5a25', '64eeff1df7f46255894a79dc', '64eeff49d7e4df7d1d50083f', '64eeff4c79b48dde1ea6cfba', '64eeff78d7e4df7d1d50088c', '64eeff79d7e4df7d1d50088f', '64eeff7de158f2275b63f577', '64eeff8279b48dde1ea6cfdc', '64eeffae5e01413330f2b4c8', '64eeffc7880764ea65c4c1c2', '64eeffe1e158f2275b63f626', '64eeffe98db25bf27d0896ed', '64eefff8325fbc2bb41f0f68', '64eefffb5e01413330f2b504', '64eefffff36876c0c50f9dc2', '64ef0002ab6c13686eff5ad4', '64ef0006880764ea65c4c229', '64ef002f880764ea65c4c262', '64ef007b880764ea65c4c2df', '64ef008ef7f46255894a7b19', '64ef0093f36876c0c50f9e26', '64ef00fb5e01413330f2b58f', '64ef01268db25bf27d0897f7', '64ef01288db25bf27d089800', '64ef0167880764ea65c4c47c', '64ef017a880764ea65c4c4a8', '64ef018c5e01413330f2b628', '64ef019cf36876c0c50f9f27', '64ef01cff36876c0c50f9f76', '64ef01e7880764ea65c4c527', '64ef0207f7f46255894a7c5e', '64ef020a325fbc2bb41f11c7', '64ef0228880764ea65c4c555', '64ef022d325fbc2bb41f121e', '64ef0278f36876c0c50f9ffd', '64ef028e880764ea65c4c5f9', '64ef0296f36876c0c50fa037', '64ef02988db25bf27d089984', '64ef029f880764ea65c4c609', '64ef02c25e01413330f2b73d', '64ef0324f36876c0c50fa0ff', '64ef03728db25bf27d089a29', '64ef03b7325fbc2bb41f136a', '64ef03d05e01413330f2b806', '64ef03d68db25bf27d089a83', '64ef0408325fbc2bb41f13bd', '64ef043e5e01413330f2b81d', '64f0d27c2bf15ac1c1e3d155', '64f0d29e0a1171d571a68367', '64f0d2b10a1171d571a683a2', '64f0d2ba09cc4b4e2918ccad', '64f0d2c02bf15ac1c1e3d1a7', '64f0d2d838f9481299e10e61', '64f0d36758e6ae53ec7adb4d', '64f0d37438f9481299e10f4f', '64f0d38458e6ae53ec7adb76', '64f0d3c9654a5b1a4941a777', '64f0d3d009cc4b4e2918cf2e', '64f0d40458e6ae53ec7adc14', '64f0d47a38f9481299e11068', '64f0d480654a5b1a4941a8bd', '64f0d48f2bf15ac1c1e3d3e2', '64f0d5fa09cc4b4e2918d1dc', '64f0d5ff09cc4b4e2918d1ea', '64f0d61909cc4b4e2918d22f', '64f0d654654a5b1a4941aaca', '64f0d6730a1171d571a68b14', '64f0d67d09cc4b4e2918d2a9', '64f0d69f2bf15ac1c1e3d60a', '64f0d6a709cc4b4e2918d331', '64f0d6af38f9481299e112af', '64f0d6c909cc4b4e2918d351', '64f0d6d058e6ae53ec7adfe8', '64f0d6d9654a5b1a4941abca', '64f0d6de654a5b1a4941abda', '64f0d6e10a1171d571a68c8d', '64f0d6f638f9481299e11321', '64f0d6f858e6ae53ec7ae050', '64f0d7022bf15ac1c1e3d6c0', '64f0d70958e6ae53ec7ae081', '64f0d70c0a1171d571a68d56', '64f0d70e38f9481299e1133f', '64f0d70f09cc4b4e2918d412', '64f0d70f58e6ae53ec7ae08f', '64f0d71538f9481299e1134d', '64f0d719654a5b1a4941ac74', '64f0d71a2bf15ac1c1e3d6fd', '64f0d72f09cc4b4e2918d474', '64f0d733654a5b1a4941ace9', '64f0d73f654a5b1a4941ad2a', '64f0d74709cc4b4e2918d4af', '64f0d7502bf15ac1c1e3d792', '64f0d7520a1171d571a68e35', '64f0d752654a5b1a4941ad62', '64f0d75358e6ae53ec7ae128', '64f0d7612bf15ac1c1e3d7cd', '64f0d7770a1171d571a68eea', '64f0d7780a1171d571a68ef6', '64f0d77a0a1171d571a68eff', '64f0d78a2bf15ac1c1e3d830', '64f0d78e0a1171d571a68f5e', '64f0d79258e6ae53ec7ae215', '64f0d79909cc4b4e2918d59a', '64f0d79b38f9481299e114ac', '64f0d79d0a1171d571a68f93', '64f0d7c709cc4b4e2918d600', '64f0d7cd72a27489c19c3470', '64f0d7cdd8f3d6a74eac2638', '64f0d7d238f9481299e11503', '64f0d7d9d8f3d6a74eac265c', '64f0d7e509cc4b4e2918d655', '64f0d7f238f9481299e1154a', '64f0d7f572a27489c19c34ad', '64f0d7f8d8f3d6a74eac26bf', '64f0d80738f9481299e11596', '64f0d80d09cc4b4e2918d6bc', '64f0d8110a1171d571a690ed', '64f0d8110a1171d571a690f2', '64f0d82338f9481299e115c9', '64f0d82f38f9481299e115e4', '64f0d8360a1171d571a69162', '64f0d841d8f3d6a74eac278a', '64f0d861654a5b1a4941b03d', '64f0d8661d031733a0d4d08e', '64f0d879d8f3d6a74eac281d', '64f0d87b09cc4b4e2918d782', '64f0d87c38f9481299e11643', '64f0d8801d031733a0d4d0b2', '64f0d88158e6ae53ec7ae468', '64f0d8852bf15ac1c1e3da83', '64f0d8872bf15ac1c1e3da8b', '64f0d8881d031733a0d4d0c1', '64f0d88d2bf15ac1c1e3da9a', '64f0d89a09cc4b4e2918d7e2', '64f0d89c09cc4b4e2918d7e8', '64f0d89e0a1171d571a69251', '64f0d8a2654a5b1a4941b07e', '64f0d8af58e6ae53ec7ae4ef', '64f0d8b138f9481299e116cb', '64f0d8b638f9481299e116d1', '64f0d8b8654a5b1a4941b0a3', '64f0d8ba0a1171d571a692ac', '64f0d8c2654a5b1a4941b0b5', '64f0d8c71d031733a0d4d191', '64f0d8cd0a1171d571a692e3', '64f0d8cd2bf15ac1c1e3db2f', '64f0d8d01d031733a0d4d1b6', '64f0d8d02bf15ac1c1e3db3d', '64f0d8d6654a5b1a4941b0d0', '64f0d8dc72a27489c19c3677', '64f0d8e109cc4b4e2918d8ab', '64f0d8e61d031733a0d4d21c', '64f0d8ea2bf15ac1c1e3db7c', '64f0d8f709cc4b4e2918d938', '64f0d8fcd8f3d6a74eac28c3', '64f0d9041d031733a0d4d2c2', '64f0d90958e6ae53ec7ae60a', '64f0d90a1d031733a0d4d2d7', '64f0d90e654a5b1a4941b112', '64f0d91309cc4b4e2918d987', '64f0d91409cc4b4e2918d98d', '64f0d91d38f9481299e117c4', '64f0d91e09cc4b4e2918d9a5', '64f0d91f0a1171d571a693e4', '64f0d9272bf15ac1c1e3dc04', '64f0d93509cc4b4e2918da16', '64f0d93858e6ae53ec7ae687', '64f0d939d8f3d6a74eac2962', '64f0d93c2bf15ac1c1e3dc45', '64f0d93c72a27489c19c3738', '64f0d93e58e6ae53ec7ae6ae', '64f0d94158e6ae53ec7ae6c1', '64f0d941654a5b1a4941b16e', '64f0d9432bf15ac1c1e3dc5c', '64f0d94372a27489c19c374b', '64f0d95bd8f3d6a74eac29c3', '64f0d95c58e6ae53ec7ae70a', '64f0d9602bf15ac1c1e3dcaa', '64f0d96258e6ae53ec7ae731', '64f0d9690a1171d571a694ac', '64f0d96a09cc4b4e2918daa7', '64f0d96a1d031733a0d4d425', '64f0d96d72a27489c19c37e3', '64f0d9720a1171d571a694ca', '64f0d9750a1171d571a694db', '64f0d97fd8f3d6a74eac2a3c', '64f0d9850a1171d571a69524', '64f0d9882bf15ac1c1e3dd54', '64f0d9901d031733a0d4d4bb', '64f0d99038f9481299e1195e', '64f0d99109cc4b4e2918db17', '64f0d999d8f3d6a74eac2ab2', '64f0d99a654a5b1a4941b2c8', '64f0d99ad8f3d6a74eac2ab6', '64f0d9a358e6ae53ec7ae814', '64f0d9a3d8f3d6a74eac2ae8', '64f0d9a81d031733a0d4d55f', '64f0d9ab09cc4b4e2918dbd7', '64f0d9ac654a5b1a4941b2dc', '64f0d9b009cc4b4e2918dbf9', '64f0d9b72bf15ac1c1e3ddc4', '64f0d9b95a6fa8e3098137ba', '64f0d9c22bf15ac1c1e3dde5', '64f0d9c470a889b0fd88fa44', '64f0d9c51d031733a0d4d5e6', '64f0d9c55a6fa8e3098137c9', '64f0d9c72bf15ac1c1e3ddf3', '64f0d9c7d8f3d6a74eac2b5f', '64f0d9c80a1171d571a696b1', '64f0d9c82bf15ac1c1e3ddf9', '64f0d9c8bba4805c3e01f149', '64f0d9ce38f9481299e11a04', '64f0d9cfbba4805c3e01f166', '64f0d9d00a1171d571a696e4', '64f0d9d1bba4805c3e01f170', '64f0d9d31d031733a0d4d61c', '64f0d9d809cc4b4e2918dcbc', '64f0d9d90a1171d571a69726', '64f0d9ddbba4805c3e01f1a8', '64f0d9e009cc4b4e2918dce7', '64f0d9e3bba4805c3e01f1c4', '64f0d9ee654a5b1a4941b3be', '64f0d9f038f9481299e11a5c', '64f0d9f870a889b0fd88fb14', '64f0da0458e6ae53ec7ae904', '64f0da060a1171d571a697fa', '64f0da0872a27489c19c393a', '64f0da08bba4805c3e01f26f', '64f0da090a1171d571a6980b', '64f0da0a72a27489c19c3942', '64f0da0f654a5b1a4941b444', '64f0da10bba4805c3e01f297', '64f0da1338f9481299e11ab5', '64f0da17d8f3d6a74eac2cc6', '64f0da190a1171d571a69857', '64f0da1d2bf15ac1c1e3decc', '64f0da1f5a6fa8e3098138d9', '64f0da22bba4805c3e01f2d0', '64f0da2438f9481299e11b03', '64f0da2438f9481299e11b05', '64f0da255a6fa8e3098138ef', '64f0da295a6fa8e3098138fe', '64f0da2cbba4805c3e01f30c', '64f0da2e38f9481299e11b2f', '64f0da3c58e6ae53ec7ae9a8', '64f0da3d09cc4b4e2918de86', '64f0da3f2bf15ac1c1e3df2c', '64f0da41530a846ccdfb73d3', '64f0da41d8f3d6a74eac2d71', '64f0da442bf15ac1c1e3df3f', '64f0da4570a889b0fd88fbe4', '64f0da4870a889b0fd88fbf5', '64f0da49530a846ccdfb73fa', '64f0da4958e6ae53ec7ae9ab', '64f0da4c530a846ccdfb740a', '64f0da4d58e6ae53ec7ae9b3', '64f0da4fbba4805c3e01f343', '64f0da5038f9481299e11b8c', '64f0da5072a27489c19c39f7', '64f0da5358e6ae53ec7ae9d8', '64f0da5658e6ae53ec7ae9e1', '64f0da56654a5b1a4941b4dd', '64f0da5f72a27489c19c3a37', '64f0da6009cc4b4e2918df0d', '64f0da600a1171d571a6994f', '64f0da661d031733a0d4d844', '64f0da6b0a1171d571a6996e', '64f0da7014ffa26aa299bdb1', '64f0da7172a27489c19c3a5d', '64f0da732bf15ac1c1e3dfa4', '64f0da7b1d031733a0d4d885', '64f0da7e1d031733a0d4d894', '64f0da7ed8f3d6a74eac2e00', '64f0da7f70a889b0fd88fc5e', '64f0da8109cc4b4e2918df98', '64f0da8270a889b0fd88fc6c', '64f0da831d031733a0d4d8b0', '64f0da89d8f3d6a74eac2e1d', '64f0da9414ffa26aa299be1c', '64f0da95654a5b1a4941b57a', '64f0da97530a846ccdfb74e4', '64f0da975a6fa8e309813ab8', '64f0da982bf15ac1c1e3e049', '64f0da98654a5b1a4941b57d', '64f0daa109cc4b4e2918dfed', '64f0daa25a6fa8e309813ad2', '64f0daa81d031733a0d4d972', '64f0daaf09cc4b4e2918e001', '64f0dab21d031733a0d4d9bc', '64f0dab5bba4805c3e01f455', '64f0dab5bba4805c3e01f457', '64f0dab870a889b0fd88fcd8', '64f0dabbbba4805c3e01f477', '64f0dac15a6fa8e309813b1e', '64f0dac238f9481299e11cc0', '64f0dac61d031733a0d4da09', '64f0dacb14ffa26aa299beab', '64f0dacb70a889b0fd88fd0d', '64f0daccd8f3d6a74eac2e8b', '64f0dad15a6fa8e309813b4d', '64f0dad258e6ae53ec7aeb79', '64f0dad714ffa26aa299bed6', '64f0dae338f9481299e11d35', '64f0dae65a6fa8e309813bad', '64f0dae90a1171d571a69ac1', '64f0dae970a889b0fd88fd3d', '64f0daec09cc4b4e2918e0c8', '64f0daf9c92c82056eb0690f', '64f0dafb1d031733a0d4da96', '64f0dafb5a6fa8e309813bf2', '64f0dafc0a1171d571a69b0f', '64f0dafe58e6ae53ec7aec11', '64f0db0858e6ae53ec7aec2d', '64f0db0ebba4805c3e01f53e', '64f0db1b530a846ccdfb764f', '64f0db1e72a27489c19c3ba3', '64f0db210a1171d571a69ba5', '64f0db2814ffa26aa299bfdf', '64f0db281d031733a0d4db6d', '64f0db281d031733a0d4db70', '64f0db2f1d031733a0d4db97', '64f0db300a1171d571a69bf8', '64f0db3214ffa26aa299bffe', '64f0db3614ffa26aa299c007', '64f0db38d8f3d6a74eac2fb4', '64f0db395a6fa8e309813d33', '64f0db3fbba4805c3e01f57b', '64f0db4014ffa26aa299c024', '64f0db405a6fa8e309813d50', '64f0db40bba4805c3e01f580', '64f0db48bba4805c3e01f58d', '64f0db492bf15ac1c1e3e1cd', '64f0db50bba4805c3e01f5b7', '64f0db552bf15ac1c1e3e1f6', '64f0db5958e6ae53ec7aed0a', '64f0db5c14ffa26aa299c06a', '64f0db605a6fa8e309813dcc', '64f0db6070a889b0fd88fe22', '64f0db612bf15ac1c1e3e223', '64f0db6c09cc4b4e2918e227', '64f0db6ed8f3d6a74eac3065', '64f0db712bf15ac1c1e3e235', '64f0db71d8f3d6a74eac3074', '64f0db725f7c86f1718dee49', '64f0db7270a889b0fd88fe3f', '64f0db72f5270085af2c44ea', '64f0db7314ffa26aa299c0af', '64f0db74d8f3d6a74eac3082', '64f0db7509cc4b4e2918e248', '64f0db76654a5b1a4941b79a', '64f0db7670a889b0fd88fe4d', '64f0db7938f9481299e11e5e', '64f0db7c2bf15ac1c1e3e25f', '64f0db8158e6ae53ec7aed44', '64f0db822bf15ac1c1e3e275', '64f0db825f7c86f1718dee7d', '64f0db8358e6ae53ec7aed48', '64f0db83bba4805c3e01f5ee', '64f0db8409cc4b4e2918e27b', '64f0db8658e6ae53ec7aed51', '64f0db8670a889b0fd88fe7d', '64f0db88c92c82056eb06a10', '64f0db890a1171d571a69d16', '64f0db8a5a6fa8e309813e72', '64f0db8d1d031733a0d4dc92', '64f0db8e09cc4b4e2918e2a6', '64f0db901d031733a0d4dca4', '64f0db9af5270085af2c454a', '64f0db9c09cc4b4e2918e2e2', '64f0db9f58e6ae53ec7aed78', '64f0dba209cc4b4e2918e2f6', '64f0dba2c92c82056eb06a40', '64f0dba31d031733a0d4dcf7', '64f0dba52bf15ac1c1e3e2ce', '64f0dba62bf15ac1c1e3e2d1', '64f0dba80a1171d571a69d6d', '64f0dbaa0a1171d571a69d72', '64f0dbabb6b39f82666fdc6a', '64f0dbb3b6b39f82666fdc75', '64f0dbb5f5270085af2c4599', '64f0dbb9d8f3d6a74eac3146', '64f0dbbcd8f3d6a74eac3151', '64f0dbbd70a889b0fd88fef2', '64f0dbbd72a27489c19c3c91', '64f0dbbdbba4805c3e01f624', '64f0dbbe654a5b1a4941b832', '64f0dbc20a1171d571a69db5', '64f0dbc772a27489c19c3ca0', '64f0dbcd38f9481299e11f26', '64f0dbcd72a27489c19c3cac', '64f0dbcebba4805c3e01f642', '64f0dbd2f5270085af2c45e9', '64f0dbd3c92c82056eb06a8b', '64f0dbd6c92c82056eb06a9e', '64f0dbdbc92c82056eb06ab2', '64f0dbdc70a889b0fd88ff4c', '64f0dbdd2bf15ac1c1e3e317', '64f0dbdd5f7c86f1718def46', '64f0dbe370a889b0fd88ff62', '64f0dbe50a1171d571a69e4d', '64f0dbe658e6ae53ec7aee10', '64f0dbe738f9481299e11f38', '64f0dbe8530a846ccdfb7919', '64f0dbe85f7c86f1718def65', '64f0dbea530a846ccdfb7920', '64f0dbeb5f7c86f1718def6e', '64f0dbebf5270085af2c4639', '64f0dbee09cc4b4e2918e3a1', '64f0dbf00a1171d571a69e75', '64f0dbf0d8f3d6a74eac31cb', '64f0dbf2530a846ccdfb7952', '64f0dbf372a27489c19c3cf2', '64f0dbf4d8f3d6a74eac31d9', '64f0dbf670a889b0fd88ff98', '64f0dbf709cc4b4e2918e3c1', '64f0dbfa5f7c86f1718defa1', '64f0dbfa654a5b1a4941b8b5', '64f0dbfb72a27489c19c3d00', '64f0dbfd14ffa26aa299c18a', '64f0dbff14ffa26aa299c196', '64f0dc0172a27489c19c3d0b', '64f0dc0258e6ae53ec7aee57', '64f0dc0714ffa26aa299c1bb', '64f0dc0738f9481299e11f86', '64f0dc0a09cc4b4e2918e422', '64f0dc0ac92c82056eb06b09', '64f0dc0b14ffa26aa299c1c1', '64f0dc0d58e6ae53ec7aee62', '64f0dc0e530a846ccdfb79ba', '64f0dc0fbba4805c3e01f6ff', '64f0dc1514ffa26aa299c1ca', '64f0dc16530a846ccdfb79db', '64f0dc2ab6b39f82666fdd2d', '64f0dc2b5a6fa8e309814038', '64f0dc2d5a6fa8e30981403e', '64f0dc2dc92c82056eb06b6b', '64f0dc2e654a5b1a4941b902', '64f0dc2fbba4805c3e01f761', '64f0dc30c92c82056eb06b75', '64f0dc33654a5b1a4941b90b', '64f0dc3858e6ae53ec7aeec2', '64f0dc39654a5b1a4941b916', '64f0dc3c0a1171d571a69f58', '64f0dc3c58e6ae53ec7aeecb', '64f0dc3c5a6fa8e309814099', '64f0dc410a1171d571a69f63', '64f0dc44d8f3d6a74eac327c', '64f0dc465f7c86f1718df06f', '64f0dc492bf15ac1c1e3e419', '64f0dc4958e6ae53ec7aeef3', '64f0dc4a70a889b0fd89002c', '64f0dc4d5a6fa8e3098140dd', '64f0dc510a1171d571a69f9a', '64f0dc51f5270085af2c4765', '64f0dc520a1171d571a69fa3', '64f0dc545f7c86f1718df098', '64f0dc5714ffa26aa299c274', '64f0dc58d8f3d6a74eac32bb', '64f0dc5cb6b39f82666fdd85', '64f0dc5d72a27489c19c3de5', '64f0dc67c92c82056eb06c1a', '64f0dc6938f9481299e1202c', '64f0dc73530a846ccdfb7a99', '64f0dc7614ffa26aa299c2c3', '64f0dc7972a27489c19c3dff', '64f0dc79c92c82056eb06c2e', '64f0dc8070a889b0fd890091', '64f0dc81c92c82056eb06c4a', '64f0dc8414ffa26aa299c2e6', '64f0dc8538f9481299e1207e', '64f0dc87654a5b1a4941b9f0', '64f0dc8838f9481299e12081', '64f0dc8bbba4805c3e01f80a', '64f0dc8c654a5b1a4941ba02', '64f0dc97530a846ccdfb7aef', '64f0dc9c09cc4b4e2918e5c5', '64f0dc9fbba4805c3e01f85d', '64f0dc9fc92c82056eb06c88', '64f0dca4654a5b1a4941ba44', '64f0dca572a27489c19c3e51', '64f0dca71d031733a0d4dfff', '64f0dca8530a846ccdfb7b2d', '64f0dcb11d031733a0d4e029', '64f0dcb4530a846ccdfb7b53', '64f0dcb470a889b0fd89012c', '64f0dcb50a1171d571a6a09b', '64f0dcba0a1171d571a6a0af', '64f0dcbb0a1171d571a6a0b4', '64f0dcbb5f7c86f1718df1b9', '64f0dcc8654a5b1a4941ba95', '64f0dcc9c92c82056eb06cff', '64f0dcce58e6ae53ec7af020', '64f0dcd5d8f3d6a74eac33e0', '64f0dcd60a1171d571a6a129', '64f0dcd958e6ae53ec7af03e', '64f0dce572a27489c19c3eec', '64f0dceb0a1171d571a6a18e', '64f0dceed8f3d6a74eac3430', '64f0dcf25f7c86f1718df255', '64f0dcf272a27489c19c3f05', '64f0dcf7b6b39f82666fdf12', '64f0dcf90a1171d571a6a1c0', '64f0dcf92bf15ac1c1e3e586', '64f0dd02b6b39f82666fdf35', '64f0dd035a6fa8e30981427b', '64f0dd0970a889b0fd8901d4', '64f0dd0c1d031733a0d4e0eb', '64f0dd0c72a27489c19c3f4b', '64f0dd0f2bf15ac1c1e3e5af', '64f0dd1bf5270085af2c491f', '64f0dd1dc92c82056eb06da1', '64f0dd1e72a27489c19c3f75', '64f0dd2609cc4b4e2918e745', '64f0dd2a0a1171d571a6a287', '64f0dd2bc92c82056eb06dcf', '64f0dd2c70a889b0fd890247', '64f0dd410a1171d571a6a2cc', '64f0dd42654a5b1a4941bb65', '64f0dd485f7c86f1718df363', '64f0dd4f530a846ccdfb7cfe', '64f0dd53b6b39f82666fdfca', '64f0dd5709cc4b4e2918e7ef', '64f0dd58530a846ccdfb7d20', '64f0dd585f7c86f1718df393', '64f0dd5cd8f3d6a74eac3566', '64f0dd600a1171d571a6a353', '64f0dd60d8f3d6a74eac357b', '64f0dd62b6b39f82666fdffc', '64f0dd67bba4805c3e01fa74', '64f0dd6a5f7c86f1718df3cd', '64f0dd7058e6ae53ec7af198', '64f0dd74654a5b1a4941bbff', '64f0dd7738f9481299e1225c', '64f0dd7d09cc4b4e2918e87f', '64f0dd7ef5270085af2c4a0e', '64f0dd811d031733a0d4e271', '64f0dd81d8f3d6a74eac35ae', '64f0dd855a6fa8e3098143ff', '64f0dd880a1171d571a6a3dd', '64f0dd8cd8f3d6a74eac35ce', '64f0dd8d38f9481299e12296', '64f0dd8fb6b39f82666fe06d', '64f0dd935a6fa8e309814433', '64f0dd95f5270085af2c4a40', '64f0dd97530a846ccdfb7dc8', '64f0dd99c92c82056eb06f37', '64f0dd9b654a5b1a4941bc84', '64f0dd9cf5270085af2c4a59', '64f0dd9db6b39f82666fe07f', '64f0dd9e38f9481299e122c8', '64f0dd9e654a5b1a4941bc94', '64f0dda114ffa26aa299c559', '64f0dda3f5270085af2c4a76', '64f0dda42bf15ac1c1e3e6fe', '64f0dda5f5270085af2c4a81', '64f0dda65a6fa8e309814487', '64f0dda714ffa26aa299c55f', '64f0dda8c92c82056eb06f99', '64f0ddab72a27489c19c406c', '64f0ddac654a5b1a4941bccb', '64f0ddb01d031733a0d4e33a', '64f0ddb5530a846ccdfb7e0c', '64f0ddb6c92c82056eb06fe2', '64f0ddb7530a846ccdfb7e13', '64f0ddb9d8f3d6a74eac366f', '64f0ddba5a6fa8e30981450c', '64f0ddba72a27489c19c4090', '64f0ddbd0a1171d571a6a491', '64f0ddc5c92c82056eb07017', '64f0ddc8bba4805c3e01fb58', '64f0ddc9b6b39f82666fe109', '64f0ddcc09cc4b4e2918e972', '64f0ddd070a889b0fd8903c7', '64f0ddd25f7c86f1718df528', '64f0ddd3654a5b1a4941bd61', '64f0ddd3c92c82056eb0702f', '64f0ddd7654a5b1a4941bd6d', '64f0dde1530a846ccdfb7e99', '64f0dde414ffa26aa299c622', '64f0ddef5a6fa8e3098145e9', '64f0ddf2c92c82056eb0707e', '64f0ddf3d8f3d6a74eac36c9', '64f0ddf514ffa26aa299c645', '64f0ddf538f9481299e123c2', '64f0ddf714ffa26aa299c64e', '64f0ddfa72a27489c19c41a3', '64f0ddfc0a1171d571a6a570', '64f0ddfcd8f3d6a74eac3700', '64f0ddfd72a27489c19c41a8', '64f0de00530a846ccdfb7f28', '64f0de051d031733a0d4e435', '64f0de0b5f7c86f1718df5ee', '64f0de0d70a889b0fd8904b7', '64f0de0e1d031733a0d4e453', '64f0de0f09cc4b4e2918ead6', '64f0de10029d3c845aadfee7', '64f0de162bf15ac1c1e3e837', '64f0de1a530a846ccdfb7fa6', '64f0de1a72a27489c19c4208', '64f0de1d72a27489c19c4214', '64f0de1db6b39f82666fe1d0', '64f0de2370a889b0fd8904e1', '64f0de240a1171d571a6a66a', '64f0de25530a846ccdfb7fec', '64f0de2838f9481299e12404', '64f0de28530a846ccdfb8001', '64f0de2e1d031733a0d4e499', '64f0de2f530a846ccdfb801b', '64f0de310a1171d571a6a6b8', '64f0de32d8f3d6a74eac37b8', '64f0de351d031733a0d4e4b0', '64f0de37b9ba6072af8c269a', '64f0de38c92c82056eb070f4', '64f0de3958e6ae53ec7af344', '64f0de4072a27489c19c4272', '64f0de40bba4805c3e01fc75', '64f0de4109cc4b4e2918eb95', '64f0de41654a5b1a4941be64', '64f0de4672a27489c19c4287', '64f0de48bba4805c3e01fc9d', '64f0de49029d3c845aadff82', '64f0de4abba4805c3e01fca7', '64f0de515f7c86f1718df6c2', '64f0de5570a889b0fd890595', '64f0de580a1171d571a6a748', '64f0de582bf15ac1c1e3e897', '64f0de59029d3c845aadffbc', '64f0de5cd8f3d6a74eac383c', '64f0de5e38f9481299e124ab', '64f0de5ec92c82056eb07142', '64f0de6270a889b0fd8905b5', '64f0de66b6b39f82666fe29a', '64f0de6709cc4b4e2918ec66', '64f0de6e70a889b0fd8905e2', '64f0de762bf15ac1c1e3e8b2', '64f0de77c92c82056eb0717e', '64f0de78aac54fe88463a174', '64f0de7dd8f3d6a74eac38d5', '64f0de7f2bf15ac1c1e3e8d6', '64f0de8138f9481299e1251c', '64f0de822bf15ac1c1e3e8e5', '64f0de8914ffa26aa299c7f8', '64f0de8f654a5b1a4941bef3', '64f0de8f654a5b1a4941bef5', '64f0de91c92c82056eb071ae', '64f0de92c92c82056eb071b1', '64f0de9324a61eea5d5baa62', '64f0de9b5f7c86f1718df813', '64f0de9ed8f3d6a74eac3969', '64f0de9fb6b39f82666fe2f2', '64f0dea5f5270085af2c4d42', '64f0dea85a6fa8e3098147c8', '64f0dea8b6b39f82666fe319', '64f0deaa0a1171d571a6a879', '64f0deb10a1171d571a6a894', '64f0deb31d031733a0d4e57b', '64f0deb3aac54fe88463a1f0', '64f0deb49fde555d8686670f', '64f0deb69fde555d86866714', '64f0deb7bba4805c3e01fdd5', '64f0deba38f9481299e1259f', '64f0deba70a889b0fd89068e', '64f0debb2bf15ac1c1e3e952', '64f0dec072a27489c19c43a7', '64f0dec2e1af46eb221cb847', '64f0dec42bf15ac1c1e3e981', '64f0dec472a27489c19c43b9', '64f0dec4d8f3d6a74eac39f9', '64f0dec5530a846ccdfb81a0', '64f0decbf5270085af2c4da7', '64f0ded09fde555d8686676c', '64f0ded214ffa26aa299c8f4', '64f0ded21d031733a0d4e5c2', '64f0ded4c92c82056eb07261', '64f0ded5654a5b1a4941bf5f', '64f0ded8b9ba6072af8c27fe', '64f0dedbaac54fe88463a272', '64f0dee30a1171d571a6a923', '64f0dee5029d3c845aae0194', '64f0dee7d8f3d6a74eac3a71', '64f0dee9530a846ccdfb8216', '64f0deea9fde555d868667b0', '64f0def0f5270085af2c4dcd', '64f0def1e1af46eb221cb8d3', '64f0def3c92c82056eb072ba', '64f0def75f7c86f1718df969', '64f0defaaac54fe88463a2e2', '64f0df0172a27489c19c4473', '64f0df05654a5b1a4941bff1', '64f0df06b9ba6072af8c2877', '64f0df0e9fde555d8686680e', '64f0df0fb6b39f82666fe430', '64f0df125a6fa8e30981490b', '64f0df14530a846ccdfb82b7', '64f0df1658e6ae53ec7af53e', '64f0df19654a5b1a4941c03a', '64f0df1a654a5b1a4941c040', '64f0df1ab6b39f82666fe461', '64f0df1d530a846ccdfb82da', '64f0df2238f9481299e12608', '64f0df2609cc4b4e2918eeda', '64f0df2a654a5b1a4941c085', '64f0df2b1d031733a0d4e6b5', '64f0df2bbba4805c3e01ff03', '64f0df2c029d3c845aae0248', '64f0df2caac54fe88463a346', '64f0df2e530a846ccdfb82fb', '64f0df31029d3c845aae0261', '64f0df31aac54fe88463a352', '64f0df31f5270085af2c4e67', '64f0df32b6b39f82666fe49c', '64f0df341d031733a0d4e6e3', '64f0df3714ffa26aa299c9ef', '64f0df3a530a846ccdfb833a', '64f0df3b9fde555d86866862', '64f0df3be1af46eb221cb9be', '64f0df3d029d3c845aae0287', '64f0df3ebba4805c3e01ff3f', '64f0df3fe1af46eb221cb9cd', '64f0df431d031733a0d4e732', '64f0df44530a846ccdfb836d', '64f0df469fde555d8686689d', '64f0df4809cc4b4e2918ef4b', '64f0df5170a889b0fd890823', '64f0df51c92c82056eb0739a', '64f0df5b14ffa26aa299ca24', '64f0df5c14ffa26aa299ca2a', '64f0df5cf5270085af2c4ede', '64f0df5e654a5b1a4941c100', '64f0df680a1171d571a6aaeb', '64f0df682bf15ac1c1e3eb72', '64f0df6914ffa26aa299ca66', '64f0df6b5f7c86f1718dfb06', '64f0df6cbba4805c3e01ffb6', '64f0df6d72a27489c19c4573', '64f0df6e0a1171d571a6ab07', '64f0df6ec92c82056eb073e5', '64f0df7270a889b0fd89087b', '64f0df72bba4805c3e01ffc6', '64f0df73f5270085af2c4f32', '64f0df7c530a846ccdfb8411', '64f0df83d8f3d6a74eac3bb1', '64f0df8558e6ae53ec7af64d', '64f0df858c06f07628cd87dc', '64f0df86b9ba6072af8c29d5', '64f0df877781e93cb6532897', '64f0df89b6b39f82666fe555', '64f0df8aaac54fe88463a402', '64f0df8ab9ba6072af8c29e2', '64f0df8c38f9481299e12757', '64f0df8d9fde555d868669a3', '64f0df8dc92c82056eb07414', '64f0df96506159bcb6f59238', '64f0df9be1af46eb221cbae8', '64f0df9d8c06f07628cd8838', '64f0dfa27b128b3ae59568af', '64f0dfa55a6fa8e309814acf', '64f0dfa77781e93cb65328bd', '64f0dfa77b128b3ae59568c4', '64f0dfab5a6fa8e309814aee', '64f0dfad2ab503402a2defbf', '64f0dfadf5270085af2c4fd5', '64f0dfaf8c06f07628cd887c', '64f0dfb81d031733a0d4e8f0', '64f0dfb972a27489c19c4608', '64f0dfba5a6fa8e309814b26', '64f0dfbac92c82056eb074b6', '64f0dfc07781e93cb65328f0', '64f0dfc8654a5b1a4941c1f0', '64f0dfcc38f9481299e127ad', '64f0dfd338f9481299e127c1', '64f0dfd4b6b39f82666fe5e6', '64f0dfdc1d031733a0d4e983', '64f0dfdc2ab503402a2df030', '64f0dfdc506159bcb6f592c4', '64f0dfdcf5270085af2c503e', '64f0dfe15a6fa8e309814b9b', '64f0dfe7aac54fe88463a4e3', '64f0dfe81d031733a0d4e9ab', '64f0dfe9654a5b1a4941c243', '64f0dfe98c06f07628cd890c', '64f0dfea2bf15ac1c1e3ec8f', '64f0dff58c06f07628cd892d', '64f0dff8506159bcb6f59315', '64f0dffb506159bcb6f59321', '64f0dffc029d3c845aae040e', '64f0dffc5f7c86f1718dfc49', '64f0e0007781e93cb6532964', '64f0e0028c06f07628cd8951', '64f0e00514ffa26aa299cb9e', '64f0e005c92c82056eb0754b', '64f0e00ed8f3d6a74eac3cb3', '64f0e0100a1171d571a6ad12', '64f0e01370a889b0fd8909ff', '64f0e0152bf15ac1c1e3ecdc', '64f0e0165a6fa8e309814c48', '64f0e01e38f9481299e12870', '64f0e020bba4805c3e02011d', '64f0e020e1af46eb221cbcb8', '64f0e02409cc4b4e2918f1d5', '64f0e026654a5b1a4941c308', '64f0e0288c06f07628cd89ad', '64f0e0292ab503402a2df098', '64f0e02b654a5b1a4941c31e', '64f0e02c24a61eea5d5baed3', '64f0e02c654a5b1a4941c321', '64f0e02eb9ba6072af8c2b31', '64f0e0312bf15ac1c1e3ed31', '64f0e032029d3c845aae0488', '64f0e032aac54fe88463a589', '64f0e035aac54fe88463a58f', '64f0e03638f9481299e12898', '64f0e03abba4805c3e020171', '64f0e041530a846ccdfb8625', '64f0e041d8f3d6a74eac3d36', '64f0e043530a846ccdfb862b', '64f0e04409cc4b4e2918f23a', '64f0e044f5270085af2c5183', '64f0e04576aa9b2a10591474', '64f0e0469fde555d86866bb4', '64f0e04d24a61eea5d5baf39', '64f0e04d38f9481299e128da', '64f0e04d5a6fa8e309814cd8', '64f0e05276aa9b2a105914a0', '64f0e05376aa9b2a105914a9', '64f0e055029d3c845aae04f5', '64f0e05738f9481299e128fb', '64f0e057654a5b1a4941c38e', '64f0e058029d3c845aae0501', '64f0e05ab6b39f82666fe748', '64f0e05cc92c82056eb07682', '64f0e05d2bf15ac1c1e3eda2', '64f0e061b9ba6072af8c2b8f', '64f0e06538f9481299e12922', '64f0e0660a1171d571a6ae19', '64f0e06d38f9481299e12941', '64f0e0711d031733a0d4eb5b', '64f0e07309cc4b4e2918f2d8', '64f0e074aac54fe88463a618', '64f0e075530a846ccdfb86d6', '64f0e076aac54fe88463a620', '64f0e076b6b39f82666fe7a1', '64f0e078e1af46eb221cbdb1', '64f0e0792bf15ac1c1e3edc9', '64f0e079aac54fe88463a629', '64f0e07a14ffa26aa299cc92', '64f0e07db9ba6072af8c2be8', '64f0e07dd8f3d6a74eac3de1', '64f0e07f58e6ae53ec7af8a0', '64f0e08009cc4b4e2918f2e6', '64f0e08109cc4b4e2918f2e9', '64f0e08109cc4b4e2918f2eb', '64f0e08338f9481299e1298d', '64f0e089e1af46eb221cbdde', '64f0e08aaac54fe88463a66c', '64f0e08c0a1171d571a6aea3', '64f0e08e5a6fa8e309814de1', '64f0e09170a889b0fd890b03', '64f0e0927b128b3ae5956bc2', '64f0e092aac54fe88463a69a', '64f0e092c92c82056eb07717', '64f0e09309cc4b4e2918f32e', '64f0e095029d3c845aae0590', '64f0e0955a6fa8e309814df6', '64f0e0957b128b3ae5956bce', '64f0e09638f9481299e129bd', '64f0e0980a1171d571a6aec9', '64f0e0995f7c86f1718dfe42', '64f0e0998c06f07628cd8ade', '64f0e09af5270085af2c5204', '64f0e09b5a6fa8e309814e15', '64f0e09b9fde555d86866cd4', '64f0e09ce1af46eb221cbe26', '64f0e09e8c06f07628cd8afc', '64f0e0a09fde555d86866ce0', '64f0e0a52bf15ac1c1e3ee34', '64f0e0a538f9481299e129e3', '64f0e0a558e6ae53ec7af8dd', '64f0e0a70a1171d571a6aefc', '64f0e0a909cc4b4e2918f3ad', '64f0e0aa0a1171d571a6af08', '64f0e0aa530a846ccdfb8799', '64f0e0aa7b128b3ae5956c13', '64f0e0ab2bf15ac1c1e3ee44', '64f0e0b08c06f07628cd8b3b', '64f0e0b372a27489c19c485f', '64f0e0b65a6fa8e309814e84', '64f0e0b67781e93cb6532b13', '64f0e0b85a6fa8e309814e8a', '64f0e0ba530a846ccdfb87ef', '64f0e0bd76aa9b2a105915e2', '64f0e0c014ffa26aa299cd24', '64f0e0c1530a846ccdfb8816', '64f0e0c314ffa26aa299cd2a', '64f0e0c3506159bcb6f59548', '64f0e0c72ac7fa012b1a9dd5', '64f0e0c76323fe69134a912a', '64f0e0c914ffa26aa299cd36', '64f0e0c91d031733a0d4ecc5', '64f0e0cc09cc4b4e2918f42c', '64f0e0cc5a6fa8e309814ec1', '64f0e0cc6323fe69134a9145', '64f0e0cc7b128b3ae5956c6e', '64f0e0d75a6fa8e309814ed8', '64f0e0dbf5270085af2c52b2', '64f0e0dc029d3c845aae063f', '64f0e0dd9fde555d86866d95', '64f0e0e06323fe69134a918e', '64f0e0e31d031733a0d4ed15', '64f0e0e7b9ba6072af8c2cef', '64f0e0e82ab503402a2df250', '64f0e0ea14ffa26aa299cd7f', '64f0e0ef7b128b3ae5956cd9', '64f0e0f1b6b39f82666fe8b6', '64f0e0f22ac7fa012b1a9e1a', '64f0e0f609cc4b4e2918f4cf', '64f0e0fb2ab503402a2df274', '64f0e0fdd8f3d6a74eac3ea3', '64f0e101bba4805c3e02031d', '64f0e1032ac7fa012b1a9e64', '64f0e10d14ffa26aa299cdc5', '64f0e110654a5b1a4941c52b', '64f0e11072a27489c19c4936', '64f0e115b6b39f82666fe91b', '64f0e116654a5b1a4941c537', '64f0e1181d031733a0d4edbc', '64f0e119402afd0cdee042e5', '64f0e11976aa9b2a10591703', '64f0e11b5a6fa8e309814f8a', '64f0e11d1d031733a0d4edd9', '64f0e1217781e93cb6532bd9', '64f0e122c92c82056eb07823', '64f0e1235a6fa8e309814fac', '64f0e126530a846ccdfb8964', '64f0e12b7b128b3ae5956d97', '64f0e1305a6fa8e309814fd8', '64f0e134530a846ccdfb8992', '64f0e137654a5b1a4941c58f', '64f0e13a8c06f07628cd8c60', '64f0e13c14ffa26aa299ce25', '64f0e13d029d3c845aae070b', '64f0e1407781e93cb6532c16', '64f0e14438f9481299e12ae1', '64f0e1455f7c86f1718e0039', '64f0e146029d3c845aae072c', '64f0e14724a61eea5d5bb0f6', '64f0e14b24a61eea5d5bb101', '64f0e14c14ffa26aa299ce60', '64f0e14daac54fe88463a85f', '64f0e1502ac7fa012b1a9f66', '64f0e1526323fe69134a9228', '64f0e1552ab503402a2df35d', '64f0e155e1af46eb221cc050', '64f0e15624a61eea5d5bb119', '64f0e15758e6ae53ec7afa1e', '64f0e1585a6fa8e30981505a', '64f0e15a24a61eea5d5bb11f', '64f0e15b76aa9b2a105917ee', '64f0e15bb6b39f82666fe98e', '64f0e15d7b128b3ae5956e0a', '64f0e1629fde555d86866f40', '64f0e164b6b39f82666fe99c', '64f0e16772a27489c19c49d4', '64f0e1688c06f07628cd8cc8', '64f0e1698c06f07628cd8cca', '64f0e16b029d3c845aae079c', '64f0e16bb6b39f82666fe9a8', '64f0e16be1af46eb221cc07d', '64f0e16c2ab503402a2df39b', '64f0e16c654a5b1a4941c634', '64f0e16cb6b39f82666fe9ac', '64f0e16d72a27489c19c49db', '64f0e16f402afd0cdee043d7', '64f0e174d8f3d6a74eac3fb9', '64f0e174f5270085af2c541c', '64f0e1756323fe69134a9282', '64f0e175d8f3d6a74eac3fbc', '64f0e17a5f7c86f1718e00b6', '64f0e17ab6b39f82666fe9c2', '64f0e17b7b128b3ae5956e2c', '64f0e17d029d3c845aae07ab', '64f0e17d70a889b0fd890d25', '64f0e17e70a889b0fd890d28', '64f0e1842bf15ac1c1e3eff5', '64f0e1845f7c86f1718e00df', '64f0e1851d031733a0d4eeff', '64f0e18676aa9b2a10591832', '64f0e18814ffa26aa299cef1', '64f0e1881d031733a0d4ef0f', '64f0e18a70a889b0fd890d40', '64f0e18c76aa9b2a1059184a', '64f0e18d5f7c86f1718e00fa', '64f0e18e2ac7fa012b1a9fff', '64f0e193f5270085af2c546a', '64f0e1945f7c86f1718e0106', '64f0e1989fde555d86866fc9', '64f0e19c70a889b0fd890d5e', '64f0e1a45f7c86f1718e0133', '64f0e1a5bba4805c3e02045b', '64f0e1ab09cc4b4e2918f688', '64f0e1ac0a1171d571a6b266', '64f0e1ac38f9481299e12bde', '64f0e1adb9ba6072af8c2e90', '64f0e1b05f7c86f1718e015b', '64f0e1b114ffa26aa299cf4c', '64f0e1b17b128b3ae5956ec9', '64f0e1b32bf15ac1c1e3f05e', '64f0e1b35a6fa8e309815187', '64f0e1b35a6fa8e309815189', '64f0e1b776aa9b2a105918fe', '64f0e1be09cc4b4e2918f6af', '64f0e1c224a61eea5d5bb1fa', '64f0e1c26323fe69134a9330', '64f0e1c458e6ae53ec7afb2a', '64f0e1c5506159bcb6f59760', '64f0e1c71d031733a0d4efc3', '64f0e1cf9fde555d8686704b', '64f0e1d3029d3c845aae0887', '64f0e1d40a1171d571a6b2f4', '64f0e1d47b128b3ae5956f3c', '64f0e1d58c06f07628cd8de7', '64f0e1d6b9ba6072af8c2edb', '64f0e1db0a1171d571a6b315', '64f0e1dc5f7c86f1718e01fd', '64f0e1de24a61eea5d5bb234', '64f0e1df5f7c86f1718e0212', '64f0e1e4506159bcb6f59796', '64f0e1e50a1171d571a6b335', '64f0e1ecbba4805c3e0204c9', '64f0e1ed5f7c86f1718e024f', '64f0e1ede1af46eb221cc1cb', '64f0e1eeb6b39f82666feac7', '64f0e1f076aa9b2a1059197f', '64f0e1f1b9ba6072af8c2f27', '64f0e1f39fde555d868670bc', '64f0e1f46323fe69134a93ae', '64f0e1f609cc4b4e2918f74f', '64f0e1f80a1171d571a6b378', '64f0e1fcbba4805c3e0204e4', '64f0e1fd5a6fa8e30981526b', '64f0e1ffaac54fe88463aa29', '64f0e1ffbba4805c3e0204ea', '64f0e2035a6fa8e309815282', '64f0e204506159bcb6f597e3', '64f0e204aac54fe88463aa38', '64f0e2050a1171d571a6b39a', '64f0e2061d031733a0d4f06e', '64f0e20d029d3c845aae091e', '64f0e20db9ba6072af8c2f6a', '64f0e20f0a1171d571a6b3af', '64f0e2126323fe69134a93f0', '64f0e2176323fe69134a93f6', '64f0e21872a27489c19c4ae2', '64f0e218aac54fe88463aa6a', '64f0e219654a5b1a4941c75f', '64f0e21a2bf15ac1c1e3f143', '64f0e21b9fde555d8686712b', '64f0e21c58e6ae53ec7afc3e', '64f0e21e7b128b3ae595702b', '64f0e2201d031733a0d4f0b0', '64f0e220506159bcb6f59831', '64f0e2242bf15ac1c1e3f167', '64f0e226654a5b1a4941c785', '64f0e22b76aa9b2a10591a5e', '64f0e22df5270085af2c553e', '64f0e230402afd0cdee0459b', '64f0e231029d3c845aae0975', '64f0e232029d3c845aae0978', '64f0e233aac54fe88463aac1', '64f0e23476aa9b2a10591a7e', '64f0e23858e6ae53ec7afc74', '64f0e23ef5270085af2c5569', '64f0e23fb9ba6072af8c2fcd', '64f0e2436323fe69134a9450', '64f0e244d8f3d6a74eac41b4', '64f0e246f5270085af2c5583', '64f0e2470a1171d571a6b459', '64f0e2471d031733a0d4f14d', '64f0e2477b128b3ae5957079', '64f0e24ab6b39f82666febb7', '64f0e24b1d031733a0d4f164', '64f0e24b58e6ae53ec7afcbb', '64f0e24e5a6fa8e30981536c', '64f0e251f5270085af2c55a3', '64f0e2525a6fa8e30981537d', '64f0e2557b128b3ae595709e', '64f0e257b9ba6072af8c3017', '64f0e2598c06f07628cd8f25', '64f0e259e1af46eb221cc2da', '64f0e25a9fde555d868671e9', '64f0e25e029d3c845aae09d1', '64f0e25fbba4805c3e020574', '64f0e2627b128b3ae59570de', '64f0e266530a846ccdfb8d2a', '64f0e2699fde555d8686721a', '64f0e26ff5270085af2c5633', '64f0e271506159bcb6f598c0', '64f0e2730a1171d571a6b4c2', '64f0e279029d3c845aae0a09', '64f0e27a2ab503402a2df5fb', '64f0e27b38f9481299e12d83', '64f0e280d8f3d6a74eac4214', '64f0e282029d3c845aae0a20', '64f0e28a402afd0cdee04656', '64f0e28f14ffa26aa299d144', '64f0e2902ac7fa012b1aa293', '64f0e293aac54fe88463ab49', '64f0e2967b128b3ae5957183', '64f0e2986323fe69134a952e', '64f0e298b9ba6072af8c30b1', '64f0e298d8f3d6a74eac4244', '64f0e298f5270085af2c568b', '64f0e29b5f7c86f1718e03fe', '64f0e29b7b128b3ae595719c', '64f0e29c506159bcb6f59900', '64f0e29e7b128b3ae59571a2', '64f0e29ebba4805c3e0205ea', '64f0e29f9fde555d868672f8', '64f0e2a26323fe69134a955e', '64f0e2a36323fe69134a9565', '64f0e2a3b9ba6072af8c30c6', '64f0e2a7f5270085af2c56a7', '64f0e2a8d8f3d6a74eac4274', '64f0e2aa029d3c845aae0a86', '64f0e2acd8f3d6a74eac4283', '64f0e2b08c06f07628cd9000', '64f0e2b2c92c82056eb07af6', '64f0e2b8029d3c845aae0a9d', '64f0e2b8402afd0cdee046e8', '64f0e2b8530a846ccdfb8e25', '64f0e2bc09cc4b4e2918f984', '64f0e2c22ac7fa012b1aa2ff', '64f0e2c8530a846ccdfb8e60', '64f0e2cabba4805c3e020634', '64f0e2cb5f7c86f1718e04a0', '64f0e2cc530a846ccdfb8e6d', '64f0e2ce5a6fa8e309815520', '64f0e2cf5a6fa8e309815525', '64f0e2d01d031733a0d4f300', '64f0e2d3b9ba6072af8c311d', '64f0e2d4bba4805c3e020647', '64f0e2d55a6fa8e309815538', '64f0e2d6402afd0cdee04720', '64f0e2d6e1af46eb221cc444', '64f0e2d8e1af46eb221cc450', '64f0e2d9bba4805c3e020652', '64f0e2da5a6fa8e30981554d', '64f0e2db2ac7fa012b1aa34c', '64f0e2dc58e6ae53ec7afddc', '64f0e2dd76aa9b2a10591c52', '64f0e2deaac54fe88463abe8', '64f0e2df0a1171d571a6b65b', '64f0e2e15f7c86f1718e04c7', '64f0e2e4654a5b1a4941c912', '64f0e2e5b6b39f82666fed01', '64f0e2ea530a846ccdfb8eaa', '64f0e2eb76aa9b2a10591c8a', '64f0e2ee2ac7fa012b1aa378', '64f0e2ef58e6ae53ec7afe09', '64f0e2f1402afd0cdee0475f', '64f0e2f37781e93cb6532f45', '64f0e2f6aac54fe88463ac27', '64f0e2fd506159bcb6f599e4', '64f0e3000a1171d571a6b6d7', '64f0e302d8f3d6a74eac4337', '64f0e3052ac7fa012b1aa3a7', '64f0e30a402afd0cdee047a5', '64f0e312e1af46eb221cc535', '64f0e31376aa9b2a10591d0f', '64f0e314b9ba6072af8c3185', '64f0e31724a61eea5d5bb489', '64f0e317b6b39f82666fed62', '64f0e31a7781e93cb6532f9b', '64f0e31bb6b39f82666fed6b', '64f0e31c2ac7fa012b1aa3cc', '64f0e31f5a6fa8e30981562f', '64f0e3235a6fa8e30981563b', '64f0e324aac54fe88463acc6', '64f0e324bba4805c3e0206d3', '64f0e32624a61eea5d5bb498', '64f0e327c92c82056eb07bfc', '64f0e32909cc4b4e2918fa93', '64f0e32b402afd0cdee047f4', '64f0e32c14ffa26aa299d2ac', '64f0e32c5a6fa8e30981565a', '64f0e32f2ac7fa012b1aa3e2', '64f0e33070a889b0fd891114', '64f0e33272a27489c19c4cb6', '64f0e3388c06f07628cd912e', '64f0e338f5270085af2c57d4', '64f0e339530a846ccdfb8fa1', '64f0e33e7b128b3ae595734b', '64f0e33eb6b39f82666fedb3', '64f0e33eb9ba6072af8c31e5', '64f0e34309cc4b4e2918fac6', '64f0e34370a889b0fd891156', '64f0e3437b128b3ae5957353', '64f0e3467b128b3ae595735c', '64f0e3482bf15ac1c1e3f3db', '64f0e349402afd0cdee04870', '64f0e34b14ffa26aa299d304', '64f0e34caac54fe88463ad55', '64f0e34f72a27489c19c4ce8', '64f0e3506323fe69134a96e4', '64f0e3561d031733a0d4f4ef', '64f0e35624a61eea5d5bb4ee', '64f0e35a38f9481299e12ed6', '64f0e35c1d031733a0d4f506', '64f0e35f8c06f07628cd91ab', '64f0e363b6b39f82666fedf4', '64f0e364654a5b1a4941ca50', '64f0e3665f7c86f1718e064a', '64f0e3695a6fa8e3098156e2', '64f0e369d8f3d6a74eac4447', '64f0e36a38f9481299e12f0f', '64f0e36a402afd0cdee048a2', '64f0e36bd8f3d6a74eac444d', '64f0e36e0a1171d571a6b81e', '64f0e36e38f9481299e12f1a', '64f0e36f2ab503402a2df817', '64f0e36f654a5b1a4941ca77', '64f0e376029d3c845aae0c85', '64f0e37b2bf15ac1c1e3f432', '64f0e37fc92c82056eb07ca0', '64f0e3802ac7fa012b1aa4e0', '64f0e380bba4805c3e02078c', '64f0e381aac54fe88463add4', '64f0e38358e6ae53ec7aff9c', '64f0e38624a61eea5d5bb56b', '64f0e3865a6fa8e30981572c', '64f0e3891d031733a0d4f589', '64f0e38c1d031733a0d4f594', '64f0e396aac54fe88463ae22', '64f0e3995a6fa8e309815799', '64f0e39976aa9b2a10591ea4', '64f0e39b5a6fa8e30981579e', '64f0e39c654a5b1a4941cabd', '64f0e39e72a27489c19c4d5f', '64f0e3a070a889b0fd891205', '64f0e3a5b6b39f82666feeb6', '64f0e3a824a61eea5d5bb5a6', '64f0e3aa70a889b0fd89120e', '64f0e3acb9ba6072af8c32b5', '64f0e3adf5270085af2c58e0', '64f0e3af530a846ccdfb911a', '64f0e3b314ffa26aa299d3f6', '64f0e3b35a6fa8e3098157f6', '64f0e3b6530a846ccdfb9129', '64f0e3b709cc4b4e2918fbe9', '64f0e3ba0a1171d571a6b8da', '64f0e3ba38f9481299e12fd7', '64f0e3babba4805c3e020801', '64f0e3bc72a27489c19c4d98', '64f0e3bce1af46eb221cc6ad', '64f0e3bd654a5b1a4941cb17', '64f0e3be506159bcb6f59b6e', '64f0e3be76aa9b2a10591f21', '64f0e3c658e6ae53ec7b0018', '64f0e3c838f9481299e13002', '64f0e3cae1af46eb221cc6f3', '64f0e3ce9fde555d868675fe', '64f0e3d176aa9b2a10591f7e', '64f0e3d224a61eea5d5bb5f3', '64f0e3d458e6ae53ec7b0048', '64f0e3d8e1af46eb221cc73e', '64f0e3e00a1171d571a6b958', '64f0e3e3b9ba6072af8c3306', '64f0e3e42ac7fa012b1aa602', '64f0e3ea402afd0cdee049bd', '64f0e3ea9fde555d8686762d', '64f0e3ecbba4805c3e020854', '64f0e3f56323fe69134a9819', '64f0e3f972a27489c19c4e46', '64f0e3f97781e93cb65330d1', '64f0e3fb2ac7fa012b1aa634', '64f0e3fb506159bcb6f59c06', '64f0e3fcaac54fe88463af1e', '64f0e402e1af46eb221cc798', '64f0e4071d031733a0d4f6a1', '64f0e4092ab503402a2df92e', '64f0e40a530a846ccdfb9298', '64f0e40a8c06f07628cd936b', '64f0e40bbba4805c3e0208a1', '64f0e40d76aa9b2a10591feb', '64f0e40e09cc4b4e2918fcdd', '64f0e40f5a6fa8e30981591c', '64f0e4177b128b3ae595761a', '64f0e41824a61eea5d5bb697', '64f0e4185a6fa8e309815932', '64f0e418b9ba6072af8c3388', '64f0e41e58e6ae53ec7b00d8', '64f0e420506159bcb6f59c64', '64f0e421530a846ccdfb9303', '64f0e4280a1171d571a6ba27', '64f0e42bb9ba6072af8c33ba', '64f0e42e2bf15ac1c1e3f5ac', '64f0e42e530a846ccdfb931d', '64f0e42ebba4805c3e020906', '64f0e43c402afd0cdee04a9b', '64f0e43c654a5b1a4941cc06', '64f0e43f654a5b1a4941cc0d', '64f0e4427b128b3ae59576bb', '64f0e44670a889b0fd89130e', '64f0e4467781e93cb6533161', '64f0e449b9ba6072af8c33f8', '64f0e44a58e6ae53ec7b012a', '64f0e44ce1af46eb221cc84c', '64f0e44e1d031733a0d4f75c', '64f0e451530a846ccdfb9384', '64f0e453f5270085af2c59f8', '64f0e45624a61eea5d5bb73f', '64f0e456e1af46eb221cc867', '64f0e45df5270085af2c5a0d', '64f0e45e402afd0cdee04b04', '64f0e46338f9481299e13136', '64f0e46770a889b0fd89134d', '64f0e46e14ffa26aa299d535', '64f0e46e6323fe69134a98d5', '64f0e46f2ac7fa012b1aa78b', '64f0e470c92c82056eb07e26', '64f0e47158e6ae53ec7b0170', '64f0e47676aa9b2a1059210d', '64f0e47f2ac7fa012b1aa7b8', '64f0e4822ac7fa012b1aa7c0', '64f0e484aac54fe88463b05f', '64f0e488c92c82056eb07e4d', '64f0e48b2ac7fa012b1aa7e1', '64f0e48b9fde555d868677c8', '64f0e48c7781e93cb65331ff', '64f0e48daac54fe88463b073', '64f0e493029d3c845aae0f0e', '64f0e493e1af46eb221cc900', '64f0e4950a1171d571a6bb42', '64f0e4951d031733a0d4f807', '64f0e499e1af46eb221cc925', '64f0e49a09cc4b4e2918fe7f', '64f0e4a409cc4b4e2918fe9a', '64f0e4a738f9481299e131a4', '64f0e4a89fde555d8686781c', '64f0e4af8c06f07628cd94de', '64f0e4b224a61eea5d5bb7ae', '64f0e4b414ffa26aa299d5ce', '64f0e4ba8c06f07628cd9509', '64f0e4bdb9ba6072af8c34e9', '64f0e4c15f7c86f1718e0a1d', '64f0e4c32ab503402a2dfa36', '64f0e4c709cc4b4e2918ff1a', '64f0e4c876aa9b2a105921e4', '64f0e4d25a6fa8e309815aff', '64f0e4d62ab503402a2dfa62', '64f0e4d6530a846ccdfb94c3', '64f0e4d658e6ae53ec7b022a', '64f0e4dbaac54fe88463b136', '64f0e4dd09cc4b4e2918ff57', '64f0e4df2ac7fa012b1aa875', '64f0e4e0029d3c845aae0fb1', '64f0e4ec530a846ccdfb9517', '64f0e4ee9fde555d868678dd', '64f0e4ef70a889b0fd89147f', '64f0e4f370a889b0fd891490', '64f0e4fdd8f3d6a74eac47b4', '64f0e5012bf15ac1c1e3f763', '64f0e5018c06f07628cd9583', '64f0e50714ffa26aa299d699', '64f0e508b6b39f82666ff1c2', '64f0e50a402afd0cdee04cbc', '64f0e50e5a6fa8e309815bbc', '64f0e50faac54fe88463b1a8', '64f0e510e1af46eb221cca20', '64f0e51509cc4b4e2918fff7', '64f0e519aac54fe88463b1b4', '64f0e520029d3c845aae102c', '64f0e525b6b39f82666ff204', '64f0e529402afd0cdee04ce6', '64f0e52f5f7c86f1718e0b43', '64f0e5356323fe69134a9a34', '64f0e53a0a1171d571a6bd07', '64f0e53d09cc4b4e29190088', '64f0e5410a1171d571a6bd22', '64f0e543402afd0cdee04d14', '64f0e546bba4805c3e020aec', '64f0e54758e6ae53ec7b02b1', '64f0e54872a27489c19c514d', '64f0e54909cc4b4e291900af', '64f0e54c09cc4b4e291900bd', '64f0e54d8c06f07628cd960f', '64f0e54ebba4805c3e020b06', '64f0e5511d031733a0d4f9aa', '64f0e551c92c82056eb07fe9', '64f0e55476aa9b2a105923b2', '64f0e55d530a846ccdfb95cb', '64f0e55dbba4805c3e020b30', '64f0e561029d3c845aae10a0', '64f0e561654a5b1a4941ce13', '64f0e5690a1171d571a6bdaa', '64f0e56d14ffa26aa299d747', '64f0e56d402afd0cdee04d83', '64f0e56f2ab503402a2dfb9c', '64f0e573aac54fe88463b251', '64f0e57638f9481299e132cd', '64f0e57a8c06f07628cd965a', '64f0e57d24a61eea5d5bb8cf', '64f0e57d530a846ccdfb9611', '64f0e5855a6fa8e309815cee', '64f0e58a38f9481299e13303', '64f0e58e7781e93cb653332d', '64f0e59b7b128b3ae59579ce', '64f0e59f530a846ccdfb9652', '64f0e5a476aa9b2a10592450', '64f0e5ac6323fe69134a9ab1', '64f0e5b42bf15ac1c1e3f86a', '64f0e5bc5a6fa8e309815d77', '64f0e5c138f9481299e1336a', '64f0e5c7d8f3d6a74eac495c', '64f0e5cb14ffa26aa299d7cd', '64f0e5cc029d3c845aae1161', '64f0e5ce76aa9b2a105924aa', '64f0e5d114ffa26aa299d7e6', '64f0e5d9bba4805c3e020bca', '64f0e5dc58e6ae53ec7b0383', '64f0e5dd76aa9b2a105924e2', '64f0e5e22bf15ac1c1e3f8b3', '64f0e5e5402afd0cdee04e5c', '64f0e5e914ffa26aa299d80c', '64f0e5e924a61eea5d5bb9a5', '64f0e5eb2ab503402a2dfcab', '64f0e5f5402afd0cdee04e6e', '64f0e5f58c06f07628cd972c', '64f0e5f72ac7fa012b1aaac0', '64f0e5f758e6ae53ec7b0397', '64f0e5f95f7c86f1718e0d19', '64f0e60238f9481299e133d4', '64f0e606aac54fe88463b346', '64f0e60809cc4b4e29190297', '64f0e609c92c82056eb08125', '64f0e60f9fde555d86867b4e', '64f0e610029d3c845aae11e3', '64f0e61a70a889b0fd8916c1', '64f0e61b530a846ccdfb974f', '64f0e6209fde555d86867b74', '64f0e62a6323fe69134a9b9e', '64f0e63170a889b0fd8916d0', '64f0e63438f9481299e13407', '64f0e6455f7c86f1718e0d90', '64f0e64838f9481299e13431', '64f0e64a402afd0cdee04eee', '64f0e64ac92c82056eb08183', '64f0e64b24a61eea5d5bba10', '64f0e65624a61eea5d5bba1e', '64f0e65a506159bcb6f5a042', '64f0e66e5f7c86f1718e0e0b', '64f0e6722ac7fa012b1aab8f', '64f0e6822ac7fa012b1aaba3', '64f0e68272a27489c19c5318', '64f0e6855a6fa8e309815f3d', '64f0e68a72a27489c19c5327', '64f0e68c2bf15ac1c1e3f998', '64f0e69814ffa26aa299d8bb', '64f0e69b5a6fa8e309815f6c', '64f0e69f58e6ae53ec7b043b', '64f0e6a1402afd0cdee04f80', '64f0e6a170a889b0fd891753', '64f0e6a6f5270085af2c5d60', '64f0e6a82bf15ac1c1e3f9e0', '64f0e6af9fde555d86867c73', '64f0e6b05f7c86f1718e0e7d', '64f0e6b05f7c86f1718e0e7f', '64f0e6b06323fe69134a9c52', '64f0e6b12bf15ac1c1e3f9fd', '64f0e6ba58e6ae53ec7b0459', '64f0e6bd5f7c86f1718e0e9d', '64f0e6bf38f9481299e134b5', '64f0e6c570a889b0fd8917a0', '64f0e6c8aac54fe88463b49a', '64f0e6c914ffa26aa299d901', '64f0e6d22bf15ac1c1e3fa11', '64f0e6d2f5270085af2c5dab', '64f0e6dd654a5b1a4941d0e5', '64f0e6e92ac7fa012b1aacb1', '64f0e6ee38f9481299e134fa', '64f0e6f28c06f07628cd98a7', '64f0e6fa0a1171d571a6c140', '64f0e6fc402afd0cdee05024', '64f0e6fd1d031733a0d4fd53', '64f0e72158e6ae53ec7b04cc', '64f0e722654a5b1a4941d16e', '64f0e726402afd0cdee05075', '64f0e7280a1171d571a6c200', '64f0e7292bf15ac1c1e3fa64', '64f0e72a1d031733a0d4fdae', '64f0e72b2bf15ac1c1e3fa67', '64f0e7345f7c86f1718e0fbc', '64f0e734bba4805c3e020d9d', '64f0e7389fde555d86867db6', '64f0e73b530a846ccdfb99f9', '64f0e73d09cc4b4e29190511', '64f0e73d2ac7fa012b1aad87', '64f0e75ec92c82056eb08361', '64f0e75fb6b39f82666ff56b', '64f0e7602bf15ac1c1e3fb11', '64f0e764bba4805c3e020dd4', '64f0e7675f7c86f1718e1033', '64f0e76a530a846ccdfb9a74', '64f0e77058e6ae53ec7b0551', '64f0e77a1d031733a0d4fe96', '64f0e78038f9481299e135c5', '64f0e7861d031733a0d4fea9', '64f0e78d1d031733a0d4fec2', '64f0e79009cc4b4e2919060a', '64f0e7902bf15ac1c1e3fb39', '64f0e7905f7c86f1718e109b', '64f0e7950a1171d571a6c2f7', '64f0e79772a27489c19c54b0', '64f0e7a1530a846ccdfb9b1e', '64f0e7a838f9481299e13611', '64f0e7a9d8f3d6a74eac4c1c', '64f0e7b514ffa26aa299da5a', '64f0e7b658e6ae53ec7b05cc', '64f0e7bc58e6ae53ec7b05eb', '64f0e7bc5f7c86f1718e1126', '64f0e7c224a61eea5d5bbccd', '64f0e7c71d031733a0d4ff75', '64f0e7c7aac54fe88463b62f', '64f0e7cb09cc4b4e291906a6', '64f0e7cc5a6fa8e309816254', '64f0e7cf72a27489c19c553e', '64f0e7da1d031733a0d4ffc0', '64f0e7e6aac54fe88463b682', '64f0e7e7bba4805c3e020ee9', '64f0e7f2aac54fe88463b69d', '64f0e7f358e6ae53ec7b065e', '64f0e7f50a1171d571a6c414', '64f0e7f91d031733a0d50000', '64f0e7fa0a1171d571a6c426', '64f0e7fa72a27489c19c559f', '64f0e7fe5a6fa8e3098162e1', '64f0e80124a61eea5d5bbd54', '64f0e8015f7c86f1718e11e8', '64f0e80dd8f3d6a74eac4ce7', '64f0e8155a6fa8e309816342', '64f0e8161d031733a0d50052', '64f0e81758e6ae53ec7b06b8', '64f0e8229fde555d86868010', '64f0e82a38f9481299e1370e', '64f0e82b5f7c86f1718e126a', '64f0e831f5270085af2c601f', '64f0e837b6b39f82666ff729', '64f0e838530a846ccdfb9cd8', '64f0e83970a889b0fd891a46', '64f0e83af5270085af2c604d', '64f0e83d9fde555d8686804f', '64f0e8410a1171d571a6c50e', '64f0e8425f7c86f1718e1292', '64f0e84324a61eea5d5bbddb', '64f0e84b654a5b1a4941d384', '64f0e8520a1171d571a6c53d', '64f0e85a14ffa26aa299db3a', '64f0e86372a27489c19c563f', '64f0e8669fde555d868680b7', '64f0e86e654a5b1a4941d3f4', '64f0e87209cc4b4e29190847', '64f0e875bba4805c3e021001', '64f0e8772bf15ac1c1e3fd19', '64f0e87a0a1171d571a6c5b3', '64f0e87d38f9481299e13777', '64f0e88272a27489c19c5698', '64f0e88424a61eea5d5bbe64', '64f0e884b6b39f82666ff7ee', '64f0e888c92c82056eb085cb', '64f0e891530a846ccdfb9df7', '64f0e8941d031733a0d5016c', '64f0e8990a1171d571a6c641', '64f0e8a2b6b39f82666ff825', '64f0e8a6aac54fe88463b804', '64f0e8b372a27489c19c56f7', '64f0e8c99fde555d8686818c', '64f0e8ca72a27489c19c5720', '64f0e8ccaac54fe88463b879', '64f0e8ce654a5b1a4941d4d0', '64f0e8d09fde555d86868198', '64f0e8d31d031733a0d501fd', '64f0e8d9530a846ccdfb9ebe', '64f0e8d95a6fa8e30981659b', '64f0e8d95f7c86f1718e140e', '64f0e8dc2bf15ac1c1e3fdaf', '64f0e8e12bf15ac1c1e3fdb9', '64f0e8eb5a6fa8e3098165f1', '64f0e8eb654a5b1a4941d512', '64f0e8ee14ffa26aa299dc88', '64f0e8fb654a5b1a4941d53b', '64f0e8fb72a27489c19c5790', '64f0e904bba4805c3e0210cf', '64f0e90d09cc4b4e291909f6', '64f0e918b6b39f82666ff936', '64f0e927530a846ccdfb9f5c', '64f0e93dd8f3d6a74eac4f7d', '64f0e94114ffa26aa299dd1e', '64f0e9531d031733a0d502c3', '64f0e95f58e6ae53ec7b08b0', '64f0e963530a846ccdfb9ff1', '64f0e9682bf15ac1c1e3fe59', '64f0e969aac54fe88463b9c6', '64f0e9735f7c86f1718e152d', '64f0e9745f7c86f1718e1530', '64f0e98d654a5b1a4941d608', '64f0e99a2bf15ac1c1e3fea1', '64f0e99aaac54fe88463ba2a', '64f0e9a109cc4b4e29190af2', '64f0e9a3d8f3d6a74eac503b', '64f0e9b22bf15ac1c1e3fed1', '64f0e9b70a1171d571a6c88e', '64f0e9c20a1171d571a6c8b1', '64f0e9c71d031733a0d503b7', '64f0e9ca14ffa26aa299ddd8', '64f0e9d0aac54fe88463ba8a', '64f0e9d270a889b0fd891ca4', '64f0e9d514ffa26aa299ddde', '64f0e9d6530a846ccdfba11c', '64f0e9d91d031733a0d503da', '64f0e9e65f7c86f1718e1626', '64f0e9e772a27489c19c5896', '64f0ea0814ffa26aa299de12', '64f0ea1214ffa26aa299de21', '64f0ea1c5a6fa8e30981686e', '64f0ea3c0a1171d571a6c9c0', '64f0ea5209cc4b4e29190c43', '64f0ea89654a5b1a4941d717', '64f0ea940a1171d571a6ca98', '64f0ea9a0a1171d571a6caac', '64f0ea9e1d031733a0d5052a', '64f0eaa3d8f3d6a74eac519e', '64f0eab158e6ae53ec7b0a69', '64f0eab1654a5b1a4941d751', '64f0eab8bba4805c3e021306', '64f0eab938f9481299e13a6e', '64f0eadc1d031733a0d505f1', '64f0eae238f9481299e13aae', '64f0eaea72a27489c19c59c2', '64f0eaf1d8f3d6a74eac5205', '64f0eaf738f9481299e13ad6', '64f0eb0ec92c82056eb088ba', '64f0eb3270a889b0fd891eb0', '64f0eb3a654a5b1a4941d843', '64f0eb48530a846ccdfba3bd', '64f0eb635a6fa8e309816add', '64f0eb67d8f3d6a74eac52e3', '64f0eb6a58e6ae53ec7b0b7d', '64f0eb71d8f3d6a74eac5302', '64f0eb82d8f3d6a74eac5330', '64f0eb8738f9481299e13bbe', '64f0eb985a6fa8e309816b2e', '64f0eb9909cc4b4e29190ef1', '64f0eb991d031733a0d5075f', '64f0eba070a889b0fd891f42', '64f0eba209cc4b4e29190f0d', '64f0ebc31d031733a0d507b7', '64f0ebca58e6ae53ec7b0be3', '64f0ebccbba4805c3e0214ec', '64f0ebe11d031733a0d50807', '64f0ebea2bf15ac1c1e4019d', '64f0ec0c70a889b0fd891fcd', '64f0ec3572a27489c19c5b9d', '64f0ec4b654a5b1a4941da27', '64f0ec5072a27489c19c5bcf', '64f0ecb709cc4b4e2919113a', '64f0ecdd38f9481299e13d11', '64f0ecde654a5b1a4941daff', '64f0ece709cc4b4e29191197', '64f0ecebbba4805c3e021678', '64f0ecf12bf15ac1c1e40317', '64f0ecfcbba4805c3e02168f', '64f0ed330a1171d571a6d124', '64f0ed3938f9481299e13d65', '64f0ed5a0a1171d571a6d18f', '64f0ed5bbba4805c3e02175d', '64f0ed6f58e6ae53ec7b0df8', '64f0ed900a1171d571a6d23a', '64f0ee74654a5b1a4941dcdc', '64f0eecd654a5b1a4941dd36', '64f0eed070a889b0fd892450', '64f0f4cf09cc4b4e29192154', '64f0f51b38f9481299e14714', '64f0f54f09cc4b4e29192237', '64f0f58b58e6ae53ec7b1945', '64f0f5d238f9481299e147dd', '64f8aed86c0a832db24a5b38', '64f8aef7eff9b1febca1a9c6', '64f8af3daddf402aef20e6e2', '64f8b03fd7632ee1c98ba204', '64f8b08e38f9481299e66d2e', '64f8b104ef8ca407a028cb3a', '64f8b1952cb5a785af70401d', '64f8b19d2df53530177d9dac', '64f8b1b97d88a5af79c2394f', '64f8b20454197e8d283886b0', '64f8b23f8637cc5ae54c27ea', '64f8b252eff9b1febca1b3d4', '64f8b2702cb5a785af7042c5', '64f8b2acd827475362cc61ba', '64f8b2c3e13fe93adb6e65c3', '64f8b2d32df53530177da0ff', '64f8b2f1a0ebbd5690b92b0a', '64f8b2fb9cb0cd35aeec8845', '64f8b2fe74384086eedd62d8', '64f8b32311a003874a834006', '64f8b328c92b224c81209d2e', '64f8b332654a5b1a49471305', '64f8b38654197e8d28388a75', '64f8b3d62df53530177da38d', '64f8b43049349f52bba9f862', '64f8b4512c41ac05801e0c46', '64f8b4589cb0cd35aeec8b71', '64f8b459ed4600f86c3b7119', '64f8b49909cc4b4e291fdc1b', '64f8b4dda61b08f7ed6a0f72', '64f8b4df654a5b1a494715eb', '64f8b4fbdb61ee654227c75a', '64f8b5258637cc5ae54c2d11', '64f8b53149349f52bba9faa9', '64f8b5434be324f561ceb537', '64f8b5482c41ac05801e0dfc', '64f8b56d4ac284ee2187d7e0', '64f8b5bfd7632ee1c98bb116', '64f8b5c98637cc5ae54c2e33', '64f8b5e27d88a5af79c2442d', '64f8b5f27d88a5af79c2445a', '64f8b624032b59e657d805ae', '64f8b63611a003874a8347e7', '64f8b6432cb5a785af704ce5', '64f8b6780a1171d571ad896a', '64f8b696ba6070d501f9b514', '64f8b7046b706b06f7144aa6', '64f8b76adb61ee654227cc01', '64f8b7eb7d88a5af79c2498b', '64f8b833654a5b1a49471bfa', '64f8b83b7d88a5af79c24aac', '64f8b879d07ef104045d8e67', '64f8b87beff9b1febca1c690', '64f8b87fd827475362cc6e0d', '64f8b8bc654a5b1a49471ce1', '64f8b8eedfa5d4fc6da45de9', '64f8b94e6c0a832db24a76c1', '64f8b95ad07ef104045d90e4', '64f8b963ef8ca407a028dd04', '64f8b96da0ebbd5690b93691', '64f8b9be11a003874a835047', '64f8b9eb55c515556077525e', '64f8ba48db61ee654227d101', '64f8ba6738f9481299e67fe9', '64f8ba95ba6070d501f9bc6e', '64f8baad09cc4b4e291fec1d', '64f8babb11a003874a835297', '64f8bae7654a5b1a49472091', '64f8baeceef265357001817a', '64f8bb0438f9481299e680d5', '64f8bb4b38f9481299e68173', '64f8bb52654a5b1a49472172', '64f8bbc0dfa5d4fc6da461da', '64f8bc0274384086eedd7381', '64f8bc04654a5b1a494722b2', '64f8bccfaddf402aef2103e4', '64f8bda10a1171d571ad9c74', '64f8bf3d38f9481299e6866e', '64f8c024654a5b1a494727ff', '64f8c07558e6ae53ec80a592', '64f8c2be654a5b1a49472ba1', '64f8c3c42bf15ac1c1e9b762')\n"
     ]
    },
    {
     "name": "stdout",
     "output_type": "stream",
     "text": [
      "INFO: Pandarallel will run on 32 workers.\n",
      "INFO: Pandarallel will use Memory file system to transfer data between the main process and workers.\n",
      "Total annotations retrieved from athena 716\n",
      "Removed annotataions in state SKIP, 716 left\n",
      "Removed duplicate annotations for the same image (choosing latest), 711 left\n",
      "Warning 2503 images do not have a corresponding annotation.\n",
      "Preparing stereo dataframe...\n",
      "Size of left dataframe: 711\n",
      "INFO: Pandarallel will run on 32 workers.\n",
      "INFO: Pandarallel will use Memory file system to transfer data between the main process and workers.\n",
      "INFO: Pandarallel will run on 32 workers.\n",
      "INFO: Pandarallel will use Memory file system to transfer data between the main process and workers.\n",
      "\n",
      "        SELECT image_jupiter.id AS id, image_jupiter.camera_location AS camera_location, image_jupiter.group_id AS group_id\n",
      "        FROM image_jupiter\n",
      "        WHERE\n",
      "            image_jupiter.camera_location =\n",
      "                'front-center-right' AND\n",
      "         image_jupiter.group_id IN ('459105fc713d4a56badf8ed536c63bcf', 'ef992c1308394b3c97611e45998cb69a', 'cef51f95f251464697dce0286b7e23dd', 'fbf3b9a557c746f29f8c165b5d06e791', 'b61a9d1dd6114262881fc555c38abc5b', 'd903c225eee249a1b83717e51a1ac458', '880f239b34dc47feb2d07d53c92b04e0', '71634badfd754755a168bc47c32fef81', 'c407afda93c240d18d94a4166add3a60', '9a8ee85d6da447e9b995fed209e07dc5', '81b61c4208294ebf8e398309ff31616c', '60a39660f9d74031b347cebf239aa40b', '81035689e5374994b286d50df2bd37e7', '9e174fae67e54f6ca7aa0ba1f504069c', '71f3eced1369446ea080d3b10076e22d', '5878bb449d4d4da9928e994c4d65161d', 'bbd21e8b8dd44a14b500baab8d14b714', 'aa1cb0ce1a204abfa6fb3c965d4ecb41', '5b4e43adf703427faadba1feb90e7049', '535e37307bdf4be8aa3bd78799301c81', '4c74ec0876314b499d9f49d4ed862805', 'fad08a2781ef49e096b288ea53039eda', 'ce5bca88c6264d6ba0a7f315388bab99', '6d234e52d7774571bbb85bfe08f0f441', '5e0aa22be1684a4988131bb0fab913c7', '1e61a6c0e69742ab857e880ccaa64a01', '36ca6675a0bf47dd97446ed428c9d8f0', 'ad981cdd4897419592e4d5ae497b9540', 'ed8dc2ed02ee4ac1a7deb72032a0ac75', '96c75708d32d40cc9e50c5156eedddd0', 'c1e3574c82694627bd59522cdf05ae39', '573bbf4a30784c66b720fb79e6e8f6f8', 'c2d9a60a82194298b7234d1f4bef6188', 'e2ca0eb2ebf44573a92b485b77a56563', '41193f088e9644558425dd872d8daef8', '03dcc27091064be0a667733a36c1d1de', '5c4ddf805f214698801651dc6437e9aa', '26b0dd26c55147469add8ef5d26bf185', 'e3d8e471e8c64b1485e52f4af22b5fad', '1e3a2be3b9ea47b5b3a3a7d353f99494', '68ad11debbb24e3a9d4ee22c319b3956', '1ccd3caa407740b58702bfc2a7457d89', '98bbd0cba17a42708b85ae84f26d440b', '951766ae85614e29a260ce6b58958541', '986caca0d56d41fc8dcabcabc7ffcc2d', '8160e3fac2f3465a8b5c1a76de562c9c', '2705b1f0bb24433c8b30c9d9b1ce7a6a', '28452a45484546dcaff90f615d287a29', 'a5c47946bd974c8f834c8aab84a3b2b1', '36adce655f554c36b81c5fb1a9f46c16', 'c6a937fa3a4b4cb08e5177c534129968', '7fb9ea5d93394003aee6835b7ebfffa7', '35eab6b66b8f48548f526d9a65f5f2bf', '8282908a70a44c05b22848a17c65ebed', '7eeb747cc99c48168348cadbb154af26', 'c7b147c9661b495ea710ecdc33c2678b', '9c02aae2feba44adba1c3e8f9ac58709', 'c9fa694cf18c48daa9f84d6b6954807c', 'd5976442ed694e2b98c28a9e5c8d2980', '965ae091404941daab9c76f89cace1a0', '9789df70b7f84b4686f99c50c8b37dd4', 'b7e3efcf6f974c3aa166dfa34c00b4ab', '64925ce7e8874942b701967f8d2d3f87', '8ce475d0d43f487387c3cca3ec03a4c1', '566159674218461f862339e3d8f0395e', 'be4d24671ce64f6398a227b89defa804', '50ebbb92d0714a0690f8ab022aed82a5', 'be84374228074866ac2b270f5a23ecad', 'ed582baa1a064831b75a8d45afb685df', '59284bd3f5734a77a689860e55142649', 'd36c6c085aee4474b1bab76e41b08f51', 'e610c336d68d4d1e91a52914a2601626', 'd980c007050e4819ad2677715a190f5b', '70ac2a300d4d47f89816c51baa7375ee', '861bf11c84dd4a84bdb3957824da1a7a', '796b4ba8b9474aafb498b9aa43ff227c', '04e0d74e6fe14446814a1acd05c100dd', '2292d6ab6ffe44f7bfa977a4ba53af3f', 'a800628f3b5c4369a998b7c52395f6b5', 'd9b92f3e89c34e86a41fc79e87410f8c', '93d56b9a19964e16b6ec14b941edc5f0', 'f716feb259c648e78700a7237774baa2', '3b45bffe088747b8a60b1b57b6b664dc', '67576f28c915442a8dc364413dcc2493', '9af020cd08da44629b5ca0edee8eba7a', 'f41dc64054474ca89bc16f18c5a5bfca', '22988dc33de2442da94c650e35711c4f', '469c960dd02f474d890f076b8fda377b', '31c691b07cbd4dc893f4f957c68cc1b4', 'c7fcc04361844634a363980515ebcf0e', 'c2f00a140aa148c386e45c2dd4bbe6d2', 'a607f211a15845828aa13c67c10cfc8e', '3860898b47c04ce883f0bc718a79ba33', '3b21583b95d54142a41f520b0dc45e96', '4761be4d35ac481dab209d28f8c9e461', 'f0b5f242b8214a82839768c917cacb6b', '9c2856ff036f4c6f9af5ce1d55f2f0e6', 'c9f5a69365fe45e7962ef0b2795bafda', 'ea07dc42b1f14cd4aa30ad230fa16836', '788581f94d0d407bbdc187eec0537216', '90fa6fadc22a47eaa300845d10023b2f', '3786a840df4a4f54aa5f8baebd940a00', 'f96afe77cdad418280847d6543c621d1', '5fb31985f1844f1cb2e6d228fb1c0364', '8ff8bb055177484a95bed26851e66e87', '667348ba19884ee29567f788ca6b41f2', '19f0d6bcb8c942e798e851f2dd2b6c2c', '2b4e14d96e3c4ed189eb1fed195c5af4', 'b678fa934f3d49d483e9b7ae2bef6cc5', 'f64585cfb6ae45bba7e90742862fe8d5', 'f181dd5eabab46b8ad22f258db497c51', 'f76dca39108b4d10b9393b4230c29ade', 'b626390076f84915bba9bc6d3e7a05ce', '810426a5c1354a609cc0c5e087db1e73', '1b1c3fc02af147d8bfba4928cbcb2c2d', '946b3ceaa41f4dda855ccb75421c47fe', '55c46c5809354b76b226ec53a605c437', '60c306c8b8af491b85eb5a7c9ff8499d', '2dcb3e83ce54472a84477185bac4a546', 'f675e0c9cd5d4cb287e84b5b8015c80f', 'edd0eff4012b4f58ba6a1fb5c8d2f681', '456c2511e4b54fd19572320c3189be7e', '0fbbc225f34747ee99f49713eba12105', '6fb7a75967714c998843d48ac3c62085', '4c49be4117f6473eb92f7495afbf41eb', 'dc4dd74fc8a54addb01b5f3657c87507', '3eddc2a84b264fda9ab22755b1c092a6', 'dd748265fd134fd78f0f863abb2591b1', 'a0c80a9ab5b4408b9e42fd4a4686148c', '8ca0ea84c46246ec97cf4be6bfc46ede', '52a377e83210437882f20cdfd87e08f8', '14bc462533b445b68920fddd65758d43', 'eee0ef590160434684639495b8c60934', '5d2d67652cdb4249b7e6cc91e623b0f4', '136e7e29b1954aa1a6393d083f6aeacc', '29d21ac8dbac4eff8318cd2e0e318fd3', '7c884a48b9044dcfb4836b906e18aeb7', 'f604687963474e77ad4579b3f3245cf7', '2a87bc990e3542e2b689a6b5514bb7cb', 'e71e588002b34a25af6ed48aac4fbb0d', '05c8e5b5349141e584cb83c83a00882f', 'c22f9f6f73e04ab1a1d2a93b9f2f8e39', '2b019e7f48df479eb0b647f3464a0c2a', '45f4ec45c19247b5906b96bf836a2190', 'b8c18d52be2c42239d7b5beb54685122', '78f4105349a5483fa6c194935acea330', '2395156357c14532ac1b36bee2741e48', '215d79bd241142259ac537cbed5c5d46', '73fe0e1ca2bd427f9ca7541911b5e433', '394723d84b9540f68e5f3dcd70350f90', 'ed4c11677903465492c831cac74fa069', '9cbc05203a204d1ca3b8c36a8ab479d6', 'ff3d4f5f793142dc8edaf12583f39043', '1b99ef59e2f44e33815736bd3faa25fc', '4181691a71e74660945a5deff7294aa2', '1b04def136b74b6caa1ba5765d715d52', '153bcffd4c3243e081d4e3c9836c35ba', '2c8b193110b645c596ce0657a9460880', 'b21589d86cc74a8e95bc972cdf07d55a', 'fe1b3b7fc07b472ba09ee9fe45b45782', '04f74713365d4339bc3e44522bbdfde9', '146b2dd8942b47c4af0d70acb2dc20c1', '58b78bbde76d4dfca50961d82c94929d', 'bec7d452ef79468bb6b960e725534ca9', 'a5f3b9143fa442f69749efc4a9aba2a2', '825cb24f863348faa62c6aaa358e2f5b', 'fea3c4df5ed0479b971d8ef512e0f77b', '7bdfdae8e0f54d239cc392e23db713d3', '52091f77f1a94cd2b5a096fcf6a554d5', '492517bc7b6142ed835c86b7741d2257', '019bacc639bd45409acfcd147361d1f4', '431b0b18cf85427ba6982ded4052f93b', '8384248d720f4c09a2c6fc5fb424cb87', '9c10a810d93c45199995e542c760324e', '6265532387d74de8a975f29981b10e82', '76036cb040b845d3b052a4c1d3b184e6', '706336b5ca2f4a74846963eda54f1332', '5caec5a53a104f6098b05ebb295afb58', '3ef0e54452ee4fd0804ceedb080a4abd', '94a7cafdb2e34f6bb76225bd48e7f602', 'a1dbff174dc647f69bae1bed54c63244', '5d8be6aae4e245fe8b6677aa761e7dc8', '22c21b9cfed84013959ff156fc7f0c19', '2036e8c3163a482685d58a4ad4bd2684', '25c52d6977ba46969cb758ce85960cfd', '4400d9e2839e436c870847d31f6708d8', '0e98a2a3eb3a4bd7b21242b680735d66', '76772820f73e41889ef6a9fdf26342ec', '031b5c4c780c4afea8a618f31f73f8c9', 'd404836f364a4bfab08599735c81237d', '1c78fa2e95e34125a9691df3b26499ec', '642e9b739d5349dbb1f71ac5904d144b', 'ac2b5073936c4ffa94a550baf31da093', '98f7457b3785429aa3c97a715a157623', '2fa6e830fe294858a7d2c32aacc9527d', '792d3b3e3e1e418eb1431b427b64aa51', '2d1fa886338545208f5b8ab1d2116a81', 'ca5d09423bbb492fba040b84340beeb1', 'd190a1d0fce4418b92c55ac8e7bd0f49', 'f9fd317e67d84af281493827c4d819b6', '33596ee6e617432583c66a18540e93ef', '81f6529fe7644810bc53aeecfd6523bc', 'acab956436334f36b3f23f6960d0d906', 'fbeebad19bc34fe4a2656fa9aca13299', '8ba9ef3cdde5446a88810618697b3536', '6e2c5775de0b43f4988c57259547c7d6', 'fbb1ebc17890476c84855b3a410f6075', '5b4c79210702484b81684b6ac0c56375', '8107bfdda8b94ca189a2938e1d9ecd23', '9dae3385f6a54f1798d8f2bdc4bc5060', '37724be480994f2fa7e7f092da4d6a5a', 'f2ccb15b57f249f4a6593805adb96433', 'f7893f6f4ac94ac7ad4ddb8f25140a12', '182592648ed242cda5c0e1ba35c3e4de', 'f8f6f4181c174730a986d690018236cd', '735f437a5d7a453f900713285b47755d', '81723ab283de4cef8863f7a7fab91b88', 'f7860933babb4d4e8ed4a80b4776dc1c', 'b98b08c8f57c427f9232fac23e30bdbc', '24f0f92a6d854934b5939dc467f67eb2', '43a11f9a1e8e4295b0a2d0d58ddc25de', '0b4deee4ee7b4111b63a361e81669e79', 'ee78cd0d7efc48e4aa0c9cb74cbd1db4', '1d28410f93ab4583bca3ac262bcd7101', 'f8c9a7005d2f4368b51d3b5b8ebae41c', 'f3523929930544af9f6d31bfa7d7516f', '2fcce04e95954e1caa118932727f7a8d', 'db769ae489304a1b9617680da0f1d253', '53421d7af09b46b7bac6f9adf5154974', 'c62e4aa8e9134961ada3910e6f1fd9ea', 'b5eea6b7e15b4ea8b1c205af3544dacd', '63dafd1b184d41d3955c7f46b2255136', '036f4c1aa05e496ea8c0ff15cccb0bf1', '9b7f365139b54983a0ba389b0ceac3be', 'bbddf68094e840d2bab0a28e76421009', 'f5ed2384165948bca49ca55441c737d2', 'fd3c06c0ffe7481590a23d220cf2f247', '2954cdfe37dc40688d701e57c1fa51f2', 'e7c1e8dff6084f789fbb234cea4171c8', 'e8654df4c6384d9db4ae5b3dc5ff2879', 'd6db340a1c4b400fb1a3a75515475c54', '3ecf4e1c6a5e47229d9b2684009cf19c', '10569880032c4482a019157d46225568', '546c0b6da1de4f8f8c3d2aa33808c1fb', '1a0de5f81b284a12833f87fb6a40bd3a', '958d4ef1ee17463397c1338d028a24af', '227d124fd70b413693cf8f069a4b1c74', '1810af036263498a845f7ec9715fb05d', '94190810f45446bd9703de212e02b3c6', 'c70bcf4bfd13442682aa9e95e73c3829', '1cf527a01d5e4f5a8df73287bc4edd51', '73d537d831f7446ebd149c2773081de8', '23aa2869e37c41c5ac54375d7b8383ca', 'f90fbbe8a1484184b8c2cf966dadf3b1', 'e27d326125504c0eabffb862ac252576')\n"
     ]
    },
    {
     "ename": "KeyboardInterrupt",
     "evalue": "",
     "output_type": "error",
     "traceback": [
      "\u001b[0;31m---------------------------------------------------------------------------\u001b[0m",
      "\u001b[0;31mKeyboardInterrupt\u001b[0m                         Traceback (most recent call last)",
      "Cell \u001b[0;32mIn[7], line 1\u001b[0m\n\u001b[0;32m----> 1\u001b[0m imageids_to_dataset(\u001b[39mlist\u001b[39;49m(new_df[\u001b[39m'\u001b[39;49m\u001b[39mid\u001b[39;49m\u001b[39m'\u001b[39;49m]), \u001b[39m\"\u001b[39;49m\u001b[39mmannequin_in_dust_v1\u001b[39;49m\u001b[39m\"\u001b[39;49m, \u001b[39m\"\u001b[39;49m\u001b[39mmannequins standing in dusty conditions (2k images)\u001b[39;49m\u001b[39m\"\u001b[39;49m, Dataset\u001b[39m.\u001b[39;49mKIND_ANNOTATION, production_dataset\u001b[39m=\u001b[39;49m\u001b[39mFalse\u001b[39;49;00m)\n",
      "File \u001b[0;32m~/git/JupiterCVML/europa/base/src/europa/aletheia_dataset_creator/dataset_tools/aletheia_dataset_helpers.py:321\u001b[0m, in \u001b[0;36mimageids_to_dataset\u001b[0;34m(image_ids, dataset_name, dataset_description, dataset_kind, mode, annotation_state, camera_location, production_dataset, camera_pairs_list)\u001b[0m\n\u001b[1;32m    312\u001b[0m annotations \u001b[39m=\u001b[39m imageids_to_annotation_df(\n\u001b[1;32m    313\u001b[0m     image_ids,\n\u001b[1;32m    314\u001b[0m     annotation_state,\n\u001b[0;32m   (...)\u001b[0m\n\u001b[1;32m    318\u001b[0m     production_dataset,\n\u001b[1;32m    319\u001b[0m )\n\u001b[1;32m    320\u001b[0m \u001b[39mif\u001b[39;00m mode \u001b[39m==\u001b[39m \u001b[39m\"\u001b[39m\u001b[39mstereo\u001b[39m\u001b[39m\"\u001b[39m:\n\u001b[0;32m--> 321\u001b[0m     image_stereo_df \u001b[39m=\u001b[39m get_all_stereo_images_df(\n\u001b[1;32m    322\u001b[0m         annotations, camera_pairs_list\u001b[39m=\u001b[39;49mcamera_pairs_list\n\u001b[1;32m    323\u001b[0m     )\n\u001b[1;32m    324\u001b[0m     annotation_ids \u001b[39m=\u001b[39m get_annotation_image_dict(image_stereo_df)\n\u001b[1;32m    325\u001b[0m \u001b[39melse\u001b[39;00m:\n",
      "File \u001b[0;32m~/git/JupiterCVML/europa/base/src/europa/aletheia_dataset_creator/dataset_tools/aletheia_dataset_helpers.py:168\u001b[0m, in \u001b[0;36mget_all_stereo_images_df\u001b[0;34m(df, camera_pair_df, camera_pairs_list)\u001b[0m\n\u001b[1;32m    166\u001b[0m     \u001b[39mif\u001b[39;00m \u001b[39mlen\u001b[39m(left_df) \u001b[39m==\u001b[39m \u001b[39m0\u001b[39m:\n\u001b[1;32m    167\u001b[0m         \u001b[39mcontinue\u001b[39;00m\n\u001b[0;32m--> 168\u001b[0m     df_all\u001b[39m.\u001b[39mappend(get_stereo_images_df(left_df, camera_pair_df, camera_pairs_dict))\n\u001b[1;32m    169\u001b[0m df \u001b[39m=\u001b[39m pd\u001b[39m.\u001b[39mconcat(df_all)\n\u001b[1;32m    170\u001b[0m \u001b[39mreturn\u001b[39;00m df\n",
      "File \u001b[0;32m~/git/JupiterCVML/europa/base/src/europa/aletheia_dataset_creator/dataset_tools/aletheia_dataset_helpers.py:502\u001b[0m, in \u001b[0;36mget_stereo_images_df\u001b[0;34m(left_df, camera_pair_df, camera_pairs)\u001b[0m\n\u001b[1;32m    499\u001b[0m left_df\u001b[39m.\u001b[39mrename(columns\u001b[39m=\u001b[39m{dataset_config\u001b[39m.\u001b[39mAletheiaMetadata\u001b[39m.\u001b[39mID: \u001b[39m\"\u001b[39m\u001b[39mid_img_left\u001b[39m\u001b[39m\"\u001b[39m}, inplace\u001b[39m=\u001b[39m\u001b[39mTrue\u001b[39;00m)\n\u001b[1;32m    501\u001b[0m \u001b[39mif\u001b[39;00m camera_pair_df \u001b[39mis\u001b[39;00m \u001b[39mNone\u001b[39;00m:\n\u001b[0;32m--> 502\u001b[0m     camera_pair_df \u001b[39m=\u001b[39m get_camera_pair_dataframe(left_df, camera_pairs\u001b[39m=\u001b[39;49mcamera_pairs)\n\u001b[1;32m    503\u001b[0m \u001b[39melse\u001b[39;00m:\n\u001b[1;32m    504\u001b[0m     left_df\u001b[39m.\u001b[39mloc[:, \u001b[39m\"\u001b[39m\u001b[39mcamera_pair\u001b[39m\u001b[39m\"\u001b[39m] \u001b[39m=\u001b[39m left_df\u001b[39m.\u001b[39mcamera_location\u001b[39m.\u001b[39mparallel_map(camera_pairs)\n",
      "File \u001b[0;32m~/git/JupiterCVML/europa/base/src/europa/aletheia_dataset_creator/dataset_tools/aletheia_dataset_helpers.py:469\u001b[0m, in \u001b[0;36mget_camera_pair_dataframe\u001b[0;34m(left_df, fields, camera_pairs)\u001b[0m\n\u001b[1;32m    458\u001b[0m \u001b[39mfor\u001b[39;00m camera_location, group_ids \u001b[39min\u001b[39;00m group_camera_dict\u001b[39m.\u001b[39mitems():\n\u001b[1;32m    460\u001b[0m     stmt \u001b[39m=\u001b[39m \u001b[39mf\u001b[39m\u001b[39m\"\"\"\u001b[39m\n\u001b[1;32m    461\u001b[0m \u001b[39m    SELECT \u001b[39m\u001b[39m{\u001b[39;00mget_field_select(fields)\u001b[39m}\u001b[39;00m\n\u001b[1;32m    462\u001b[0m \u001b[39m    FROM \u001b[39m\u001b[39m{\u001b[39;00mdataset_config\u001b[39m.\u001b[39mATHENA_IMAGES\u001b[39m}\u001b[39;00m\n\u001b[0;32m   (...)\u001b[0m\n\u001b[1;32m    465\u001b[0m \u001b[39m            \u001b[39m\u001b[39m'\u001b[39m\u001b[39m{\u001b[39;00mcamera_location\u001b[39m}\u001b[39;00m\u001b[39m'\u001b[39m\u001b[39m AND\u001b[39m\n\u001b[1;32m    466\u001b[0m \u001b[39m    \u001b[39m\u001b[39m\"\"\"\u001b[39m\n\u001b[1;32m    468\u001b[0m     results\u001b[39m.\u001b[39mappend(\n\u001b[0;32m--> 469\u001b[0m         query_athena(\n\u001b[1;32m    470\u001b[0m             base_stmt\u001b[39m=\u001b[39;49mstmt,\n\u001b[1;32m    471\u001b[0m             column\u001b[39m=\u001b[39;49m\u001b[39mf\u001b[39;49m\u001b[39m\"\u001b[39;49m\u001b[39m{\u001b[39;49;00mdataset_config\u001b[39m.\u001b[39;49mATHENA_IMAGES\u001b[39m}\u001b[39;49;00m\u001b[39m.\u001b[39;49m\u001b[39m{\u001b[39;49;00mAletheiaMetadata\u001b[39m.\u001b[39;49mGROUP_ID\u001b[39m}\u001b[39;49;00m\u001b[39m\"\u001b[39;49m,\n\u001b[1;32m    472\u001b[0m             values\u001b[39m=\u001b[39;49mgroup_ids,\n\u001b[1;32m    473\u001b[0m         )\n\u001b[1;32m    474\u001b[0m     )\n\u001b[1;32m    476\u001b[0m \u001b[39mreturn\u001b[39;00m pd\u001b[39m.\u001b[39mconcat(results)\n",
      "File \u001b[0;32m~/git/JupiterCVML/europa/base/src/europa/aletheia_dataset_creator/dataset_tools/aletheia_dataset_helpers.py:110\u001b[0m, in \u001b[0;36mquery_athena\u001b[0;34m(base_stmt, column, values, batch_size)\u001b[0m\n\u001b[1;32m    108\u001b[0m     stmt \u001b[39m=\u001b[39m \u001b[39mf\u001b[39m\u001b[39m\"\u001b[39m\u001b[39m{\u001b[39;00mbase_stmt\u001b[39m}\u001b[39;00m\u001b[39m \u001b[39m\u001b[39m{\u001b[39;00mget_list_filter(column,\u001b[39m \u001b[39mvalues[start:end])\u001b[39m}\u001b[39;00m\u001b[39m\"\u001b[39m\n\u001b[1;32m    109\u001b[0m     \u001b[39mprint\u001b[39m(stmt)\n\u001b[0;32m--> 110\u001b[0m     results\u001b[39m.\u001b[39mappend(athena\u001b[39m.\u001b[39;49mget_df(stmt))\n\u001b[1;32m    112\u001b[0m \u001b[39mreturn\u001b[39;00m pd\u001b[39m.\u001b[39mconcat(results)\n",
      "File \u001b[0;32m~/miniconda3/envs/cvml/lib/python3.8/site-packages/brtdevkit/core/db/athena/athena.py:108\u001b[0m, in \u001b[0;36mAthenaClient.get_df\u001b[0;34m(self, query_string, chunksize, use_cache, max_cache_seconds, max_cache_query_inspections, database, ctas_approach, deserialize_json_cols)\u001b[0m\n\u001b[1;32m    104\u001b[0m     args[\u001b[39m'\u001b[39m\u001b[39mmax_cache_seconds\u001b[39m\u001b[39m'\u001b[39m] \u001b[39m=\u001b[39m max_cache_seconds \u001b[39mor\u001b[39;00m \u001b[39mself\u001b[39m\u001b[39m.\u001b[39mDEFAULT_MAX_CACHE_SECONDS\n\u001b[1;32m    105\u001b[0m     args[\u001b[39m'\u001b[39m\u001b[39mmax_cache_query_inspections\u001b[39m\u001b[39m'\u001b[39m] \u001b[39m=\u001b[39m (\n\u001b[1;32m    106\u001b[0m         max_cache_query_inspections \u001b[39mor\u001b[39;00m \u001b[39mself\u001b[39m\u001b[39m.\u001b[39mDEFAULT_MAX_CACHE_QUERY_INSPECTIONS)\n\u001b[0;32m--> 108\u001b[0m result \u001b[39m=\u001b[39m \u001b[39mself\u001b[39;49m\u001b[39m.\u001b[39;49mwr\u001b[39m.\u001b[39;49mathena\u001b[39m.\u001b[39;49mread_sql_query(\u001b[39m*\u001b[39;49m\u001b[39m*\u001b[39;49margs)\n\u001b[1;32m    109\u001b[0m \u001b[39mif\u001b[39;00m deserialize_json_cols:\n\u001b[1;32m    110\u001b[0m     \u001b[39mif\u001b[39;00m chunksize:\n",
      "File \u001b[0;32m~/miniconda3/envs/cvml/lib/python3.8/site-packages/awswrangler/_config.py:542\u001b[0m, in \u001b[0;36mapply_configs.<locals>.wrapper\u001b[0;34m(*args_raw, **kwargs)\u001b[0m\n\u001b[1;32m    540\u001b[0m         \u001b[39mdel\u001b[39;00m args[name]\n\u001b[1;32m    541\u001b[0m         args \u001b[39m=\u001b[39m {\u001b[39m*\u001b[39m\u001b[39m*\u001b[39margs, \u001b[39m*\u001b[39m\u001b[39m*\u001b[39mkeywords}\n\u001b[0;32m--> 542\u001b[0m \u001b[39mreturn\u001b[39;00m function(\u001b[39m*\u001b[39;49m\u001b[39m*\u001b[39;49margs)\n",
      "File \u001b[0;32m~/miniconda3/envs/cvml/lib/python3.8/site-packages/awswrangler/athena/_read.py:984\u001b[0m, in \u001b[0;36mread_sql_query\u001b[0;34m(sql, database, ctas_approach, unload_approach, unload_parameters, categories, chunksize, s3_output, workgroup, encryption, kms_key, keep_files, ctas_database_name, ctas_temp_table_name, ctas_bucketing_info, ctas_write_compression, use_threads, boto3_session, max_cache_seconds, max_cache_query_inspections, max_remote_cache_entries, max_local_cache_entries, data_source, athena_query_wait_polling_delay, params, s3_additional_kwargs, pyarrow_additional_kwargs)\u001b[0m\n\u001b[1;32m    982\u001b[0m         _logger\u001b[39m.\u001b[39merror(e)  \u001b[39m# if there is anything wrong with the cache, just fallback to the usual path\u001b[39;00m\n\u001b[1;32m    983\u001b[0m         _logger\u001b[39m.\u001b[39mdebug(\u001b[39m\"\u001b[39m\u001b[39mCorrupted cache. Continuing to execute query...\u001b[39m\u001b[39m\"\u001b[39m)\n\u001b[0;32m--> 984\u001b[0m \u001b[39mreturn\u001b[39;00m _resolve_query_without_cache(\n\u001b[1;32m    985\u001b[0m     sql\u001b[39m=\u001b[39;49msql,\n\u001b[1;32m    986\u001b[0m     database\u001b[39m=\u001b[39;49mdatabase,\n\u001b[1;32m    987\u001b[0m     data_source\u001b[39m=\u001b[39;49mdata_source,\n\u001b[1;32m    988\u001b[0m     ctas_approach\u001b[39m=\u001b[39;49mctas_approach,\n\u001b[1;32m    989\u001b[0m     unload_approach\u001b[39m=\u001b[39;49munload_approach,\n\u001b[1;32m    990\u001b[0m     unload_parameters\u001b[39m=\u001b[39;49munload_parameters,\n\u001b[1;32m    991\u001b[0m     categories\u001b[39m=\u001b[39;49mcategories,\n\u001b[1;32m    992\u001b[0m     chunksize\u001b[39m=\u001b[39;49mchunksize,\n\u001b[1;32m    993\u001b[0m     s3_output\u001b[39m=\u001b[39;49ms3_output,\n\u001b[1;32m    994\u001b[0m     workgroup\u001b[39m=\u001b[39;49mworkgroup,\n\u001b[1;32m    995\u001b[0m     encryption\u001b[39m=\u001b[39;49mencryption,\n\u001b[1;32m    996\u001b[0m     kms_key\u001b[39m=\u001b[39;49mkms_key,\n\u001b[1;32m    997\u001b[0m     keep_files\u001b[39m=\u001b[39;49mkeep_files,\n\u001b[1;32m    998\u001b[0m     ctas_database_name\u001b[39m=\u001b[39;49mctas_database_name,\n\u001b[1;32m    999\u001b[0m     ctas_temp_table_name\u001b[39m=\u001b[39;49mctas_temp_table_name,\n\u001b[1;32m   1000\u001b[0m     ctas_bucketing_info\u001b[39m=\u001b[39;49mctas_bucketing_info,\n\u001b[1;32m   1001\u001b[0m     ctas_write_compression\u001b[39m=\u001b[39;49mctas_write_compression,\n\u001b[1;32m   1002\u001b[0m     athena_query_wait_polling_delay\u001b[39m=\u001b[39;49mathena_query_wait_polling_delay,\n\u001b[1;32m   1003\u001b[0m     use_threads\u001b[39m=\u001b[39;49muse_threads,\n\u001b[1;32m   1004\u001b[0m     s3_additional_kwargs\u001b[39m=\u001b[39;49ms3_additional_kwargs,\n\u001b[1;32m   1005\u001b[0m     boto3_session\u001b[39m=\u001b[39;49mboto3_session,\n\u001b[1;32m   1006\u001b[0m     pyarrow_additional_kwargs\u001b[39m=\u001b[39;49mpyarrow_additional_kwargs,\n\u001b[1;32m   1007\u001b[0m )\n",
      "File \u001b[0;32m~/miniconda3/envs/cvml/lib/python3.8/site-packages/awswrangler/athena/_read.py:444\u001b[0m, in \u001b[0;36m_resolve_query_without_cache\u001b[0;34m(sql, database, data_source, ctas_approach, unload_approach, unload_parameters, categories, chunksize, s3_output, workgroup, encryption, kms_key, keep_files, ctas_database_name, ctas_temp_table_name, ctas_bucketing_info, ctas_write_compression, athena_query_wait_polling_delay, use_threads, s3_additional_kwargs, boto3_session, pyarrow_additional_kwargs)\u001b[0m\n\u001b[1;32m    442\u001b[0m     name \u001b[39m=\u001b[39m \u001b[39mf\u001b[39m\u001b[39m\"\u001b[39m\u001b[39mtemp_table_\u001b[39m\u001b[39m{\u001b[39;00muuid\u001b[39m.\u001b[39muuid4()\u001b[39m.\u001b[39mhex\u001b[39m}\u001b[39;00m\u001b[39m\"\u001b[39m\n\u001b[1;32m    443\u001b[0m \u001b[39mtry\u001b[39;00m:\n\u001b[0;32m--> 444\u001b[0m     \u001b[39mreturn\u001b[39;00m _resolve_query_without_cache_ctas(\n\u001b[1;32m    445\u001b[0m         sql\u001b[39m=\u001b[39;49msql,\n\u001b[1;32m    446\u001b[0m         database\u001b[39m=\u001b[39;49mdatabase,\n\u001b[1;32m    447\u001b[0m         data_source\u001b[39m=\u001b[39;49mdata_source,\n\u001b[1;32m    448\u001b[0m         s3_output\u001b[39m=\u001b[39;49ms3_output,\n\u001b[1;32m    449\u001b[0m         keep_files\u001b[39m=\u001b[39;49mkeep_files,\n\u001b[1;32m    450\u001b[0m         chunksize\u001b[39m=\u001b[39;49mchunksize,\n\u001b[1;32m    451\u001b[0m         categories\u001b[39m=\u001b[39;49mcategories,\n\u001b[1;32m    452\u001b[0m         encryption\u001b[39m=\u001b[39;49mencryption,\n\u001b[1;32m    453\u001b[0m         workgroup\u001b[39m=\u001b[39;49mworkgroup,\n\u001b[1;32m    454\u001b[0m         kms_key\u001b[39m=\u001b[39;49mkms_key,\n\u001b[1;32m    455\u001b[0m         alt_database\u001b[39m=\u001b[39;49mctas_database_name,\n\u001b[1;32m    456\u001b[0m         name\u001b[39m=\u001b[39;49mname,\n\u001b[1;32m    457\u001b[0m         ctas_bucketing_info\u001b[39m=\u001b[39;49mctas_bucketing_info,\n\u001b[1;32m    458\u001b[0m         ctas_write_compression\u001b[39m=\u001b[39;49mctas_write_compression,\n\u001b[1;32m    459\u001b[0m         athena_query_wait_polling_delay\u001b[39m=\u001b[39;49mathena_query_wait_polling_delay,\n\u001b[1;32m    460\u001b[0m         use_threads\u001b[39m=\u001b[39;49muse_threads,\n\u001b[1;32m    461\u001b[0m         s3_additional_kwargs\u001b[39m=\u001b[39;49ms3_additional_kwargs,\n\u001b[1;32m    462\u001b[0m         boto3_session\u001b[39m=\u001b[39;49mboto3_session,\n\u001b[1;32m    463\u001b[0m         pyarrow_additional_kwargs\u001b[39m=\u001b[39;49mpyarrow_additional_kwargs,\n\u001b[1;32m    464\u001b[0m     )\n\u001b[1;32m    465\u001b[0m \u001b[39mfinally\u001b[39;00m:\n\u001b[1;32m    466\u001b[0m     catalog\u001b[39m.\u001b[39mdelete_table_if_exists(\n\u001b[1;32m    467\u001b[0m         database\u001b[39m=\u001b[39mctas_database_name \u001b[39mor\u001b[39;00m database, table\u001b[39m=\u001b[39mname, boto3_session\u001b[39m=\u001b[39mboto3_session\n\u001b[1;32m    468\u001b[0m     )\n",
      "File \u001b[0;32m~/miniconda3/envs/cvml/lib/python3.8/site-packages/awswrangler/athena/_read.py:277\u001b[0m, in \u001b[0;36m_resolve_query_without_cache_ctas\u001b[0;34m(sql, database, data_source, s3_output, keep_files, chunksize, categories, encryption, workgroup, kms_key, alt_database, name, ctas_bucketing_info, ctas_write_compression, athena_query_wait_polling_delay, use_threads, s3_additional_kwargs, boto3_session, pyarrow_additional_kwargs)\u001b[0m\n\u001b[1;32m    256\u001b[0m \u001b[39mdef\u001b[39;00m \u001b[39m_resolve_query_without_cache_ctas\u001b[39m(\n\u001b[1;32m    257\u001b[0m     sql: \u001b[39mstr\u001b[39m,\n\u001b[1;32m    258\u001b[0m     database: Optional[\u001b[39mstr\u001b[39m],\n\u001b[0;32m   (...)\u001b[0m\n\u001b[1;32m    275\u001b[0m     pyarrow_additional_kwargs: Optional[Dict[\u001b[39mstr\u001b[39m, Any]] \u001b[39m=\u001b[39m \u001b[39mNone\u001b[39;00m,\n\u001b[1;32m    276\u001b[0m ) \u001b[39m-\u001b[39m\u001b[39m>\u001b[39m Union[pd\u001b[39m.\u001b[39mDataFrame, Iterator[pd\u001b[39m.\u001b[39mDataFrame]]:\n\u001b[0;32m--> 277\u001b[0m     ctas_query_info: Dict[\u001b[39mstr\u001b[39m, Union[\u001b[39mstr\u001b[39m, _QueryMetadata]] \u001b[39m=\u001b[39m create_ctas_table(\n\u001b[1;32m    278\u001b[0m         sql\u001b[39m=\u001b[39;49msql,\n\u001b[1;32m    279\u001b[0m         database\u001b[39m=\u001b[39;49mdatabase,\n\u001b[1;32m    280\u001b[0m         ctas_table\u001b[39m=\u001b[39;49mname,\n\u001b[1;32m    281\u001b[0m         ctas_database\u001b[39m=\u001b[39;49malt_database,\n\u001b[1;32m    282\u001b[0m         bucketing_info\u001b[39m=\u001b[39;49mctas_bucketing_info,\n\u001b[1;32m    283\u001b[0m         data_source\u001b[39m=\u001b[39;49mdata_source,\n\u001b[1;32m    284\u001b[0m         s3_output\u001b[39m=\u001b[39;49ms3_output,\n\u001b[1;32m    285\u001b[0m         workgroup\u001b[39m=\u001b[39;49mworkgroup,\n\u001b[1;32m    286\u001b[0m         encryption\u001b[39m=\u001b[39;49mencryption,\n\u001b[1;32m    287\u001b[0m         write_compression\u001b[39m=\u001b[39;49mctas_write_compression,\n\u001b[1;32m    288\u001b[0m         kms_key\u001b[39m=\u001b[39;49mkms_key,\n\u001b[1;32m    289\u001b[0m         wait\u001b[39m=\u001b[39;49m\u001b[39mTrue\u001b[39;49;00m,\n\u001b[1;32m    290\u001b[0m         athena_query_wait_polling_delay\u001b[39m=\u001b[39;49mathena_query_wait_polling_delay,\n\u001b[1;32m    291\u001b[0m         boto3_session\u001b[39m=\u001b[39;49mboto3_session,\n\u001b[1;32m    292\u001b[0m     )\n\u001b[1;32m    293\u001b[0m     fully_qualified_name: \u001b[39mstr\u001b[39m \u001b[39m=\u001b[39m \u001b[39mf\u001b[39m\u001b[39m'\u001b[39m\u001b[39m\"\u001b[39m\u001b[39m{\u001b[39;00mctas_query_info[\u001b[39m\"\u001b[39m\u001b[39mctas_database\u001b[39m\u001b[39m\"\u001b[39m]\u001b[39m}\u001b[39;00m\u001b[39m\"\u001b[39m\u001b[39m.\u001b[39m\u001b[39m\"\u001b[39m\u001b[39m{\u001b[39;00mctas_query_info[\u001b[39m\"\u001b[39m\u001b[39mctas_table\u001b[39m\u001b[39m\"\u001b[39m]\u001b[39m}\u001b[39;00m\u001b[39m\"\u001b[39m\u001b[39m'\u001b[39m\n\u001b[1;32m    294\u001b[0m     ctas_query_metadata: _QueryMetadata \u001b[39m=\u001b[39m ctas_query_info[\u001b[39m\"\u001b[39m\u001b[39mctas_query_metadata\u001b[39m\u001b[39m\"\u001b[39m]  \u001b[39m# type: ignore\u001b[39;00m\n",
      "File \u001b[0;32m~/miniconda3/envs/cvml/lib/python3.8/site-packages/awswrangler/_config.py:542\u001b[0m, in \u001b[0;36mapply_configs.<locals>.wrapper\u001b[0;34m(*args_raw, **kwargs)\u001b[0m\n\u001b[1;32m    540\u001b[0m         \u001b[39mdel\u001b[39;00m args[name]\n\u001b[1;32m    541\u001b[0m         args \u001b[39m=\u001b[39m {\u001b[39m*\u001b[39m\u001b[39m*\u001b[39margs, \u001b[39m*\u001b[39m\u001b[39m*\u001b[39mkeywords}\n\u001b[0;32m--> 542\u001b[0m \u001b[39mreturn\u001b[39;00m function(\u001b[39m*\u001b[39;49m\u001b[39m*\u001b[39;49margs)\n",
      "File \u001b[0;32m~/miniconda3/envs/cvml/lib/python3.8/site-packages/awswrangler/athena/_utils.py:857\u001b[0m, in \u001b[0;36mcreate_ctas_table\u001b[0;34m(sql, database, ctas_table, ctas_database, s3_output, storage_format, write_compression, partitioning_info, bucketing_info, field_delimiter, schema_only, workgroup, data_source, encryption, kms_key, categories, wait, athena_query_wait_polling_delay, boto3_session)\u001b[0m\n\u001b[1;32m    855\u001b[0m \u001b[39mif\u001b[39;00m wait:\n\u001b[1;32m    856\u001b[0m     \u001b[39mtry\u001b[39;00m:\n\u001b[0;32m--> 857\u001b[0m         response[\u001b[39m\"\u001b[39m\u001b[39mctas_query_metadata\u001b[39m\u001b[39m\"\u001b[39m] \u001b[39m=\u001b[39m _get_query_metadata(\n\u001b[1;32m    858\u001b[0m             query_execution_id\u001b[39m=\u001b[39;49mquery_execution_id,\n\u001b[1;32m    859\u001b[0m             boto3_session\u001b[39m=\u001b[39;49mboto3_session,\n\u001b[1;32m    860\u001b[0m             categories\u001b[39m=\u001b[39;49mcategories,\n\u001b[1;32m    861\u001b[0m             metadata_cache_manager\u001b[39m=\u001b[39;49m_cache_manager,\n\u001b[1;32m    862\u001b[0m             athena_query_wait_polling_delay\u001b[39m=\u001b[39;49mathena_query_wait_polling_delay,\n\u001b[1;32m    863\u001b[0m         )\n\u001b[1;32m    864\u001b[0m     \u001b[39mexcept\u001b[39;00m exceptions\u001b[39m.\u001b[39mQueryFailed \u001b[39mas\u001b[39;00m ex:\n\u001b[1;32m    865\u001b[0m         msg: \u001b[39mstr\u001b[39m \u001b[39m=\u001b[39m \u001b[39mstr\u001b[39m(ex)\n",
      "File \u001b[0;32m~/miniconda3/envs/cvml/lib/python3.8/site-packages/awswrangler/athena/_utils.py:200\u001b[0m, in \u001b[0;36m_get_query_metadata\u001b[0;34m(query_execution_id, boto3_session, categories, query_execution_payload, metadata_cache_manager, athena_query_wait_polling_delay)\u001b[0m\n\u001b[1;32m    198\u001b[0m     _query_execution_payload: Dict[\u001b[39mstr\u001b[39m, Any] \u001b[39m=\u001b[39m query_execution_payload\n\u001b[1;32m    199\u001b[0m \u001b[39melse\u001b[39;00m:\n\u001b[0;32m--> 200\u001b[0m     _query_execution_payload \u001b[39m=\u001b[39m wait_query(\n\u001b[1;32m    201\u001b[0m         query_execution_id\u001b[39m=\u001b[39;49mquery_execution_id,\n\u001b[1;32m    202\u001b[0m         boto3_session\u001b[39m=\u001b[39;49mboto3_session,\n\u001b[1;32m    203\u001b[0m         athena_query_wait_polling_delay\u001b[39m=\u001b[39;49mathena_query_wait_polling_delay,\n\u001b[1;32m    204\u001b[0m     )\n\u001b[1;32m    205\u001b[0m cols_types: Dict[\u001b[39mstr\u001b[39m, \u001b[39mstr\u001b[39m] \u001b[39m=\u001b[39m get_query_columns_types(\n\u001b[1;32m    206\u001b[0m     query_execution_id\u001b[39m=\u001b[39mquery_execution_id, boto3_session\u001b[39m=\u001b[39mboto3_session\n\u001b[1;32m    207\u001b[0m )\n\u001b[1;32m    208\u001b[0m _logger\u001b[39m.\u001b[39mdebug(\u001b[39m\"\u001b[39m\u001b[39mcols_types: \u001b[39m\u001b[39m%s\u001b[39;00m\u001b[39m\"\u001b[39m, cols_types)\n",
      "File \u001b[0;32m~/miniconda3/envs/cvml/lib/python3.8/site-packages/awswrangler/_config.py:542\u001b[0m, in \u001b[0;36mapply_configs.<locals>.wrapper\u001b[0;34m(*args_raw, **kwargs)\u001b[0m\n\u001b[1;32m    540\u001b[0m         \u001b[39mdel\u001b[39;00m args[name]\n\u001b[1;32m    541\u001b[0m         args \u001b[39m=\u001b[39m {\u001b[39m*\u001b[39m\u001b[39m*\u001b[39margs, \u001b[39m*\u001b[39m\u001b[39m*\u001b[39mkeywords}\n\u001b[0;32m--> 542\u001b[0m \u001b[39mreturn\u001b[39;00m function(\u001b[39m*\u001b[39;49m\u001b[39m*\u001b[39;49margs)\n",
      "File \u001b[0;32m~/miniconda3/envs/cvml/lib/python3.8/site-packages/awswrangler/athena/_utils.py:1157\u001b[0m, in \u001b[0;36mwait_query\u001b[0;34m(query_execution_id, boto3_session, athena_query_wait_polling_delay)\u001b[0m\n\u001b[1;32m   1155\u001b[0m \u001b[39mwhile\u001b[39;00m state \u001b[39mnot\u001b[39;00m \u001b[39min\u001b[39;00m _QUERY_FINAL_STATES:\n\u001b[1;32m   1156\u001b[0m     time\u001b[39m.\u001b[39msleep(athena_query_wait_polling_delay)\n\u001b[0;32m-> 1157\u001b[0m     response \u001b[39m=\u001b[39m get_query_execution(query_execution_id\u001b[39m=\u001b[39;49mquery_execution_id, boto3_session\u001b[39m=\u001b[39;49mboto3_session)\n\u001b[1;32m   1158\u001b[0m     state \u001b[39m=\u001b[39m response[\u001b[39m\"\u001b[39m\u001b[39mStatus\u001b[39m\u001b[39m\"\u001b[39m][\u001b[39m\"\u001b[39m\u001b[39mState\u001b[39m\u001b[39m\"\u001b[39m]\n\u001b[1;32m   1159\u001b[0m _logger\u001b[39m.\u001b[39mdebug(\u001b[39m\"\u001b[39m\u001b[39mstate: \u001b[39m\u001b[39m%s\u001b[39;00m\u001b[39m\"\u001b[39m, state)\n",
      "File \u001b[0;32m~/miniconda3/envs/cvml/lib/python3.8/site-packages/awswrangler/athena/_utils.py:1192\u001b[0m, in \u001b[0;36mget_query_execution\u001b[0;34m(query_execution_id, boto3_session)\u001b[0m\n\u001b[1;32m   1169\u001b[0m \u001b[39m\u001b[39m\u001b[39m\"\"\"Fetch query execution details.\u001b[39;00m\n\u001b[1;32m   1170\u001b[0m \n\u001b[1;32m   1171\u001b[0m \u001b[39mhttps://boto3.amazonaws.com/v1/documentation/api/latest/reference/services/athena.html#Athena.Client.get_query_execution\u001b[39;00m\n\u001b[0;32m   (...)\u001b[0m\n\u001b[1;32m   1189\u001b[0m \n\u001b[1;32m   1190\u001b[0m \u001b[39m\"\"\"\u001b[39;00m\n\u001b[1;32m   1191\u001b[0m client_athena: boto3\u001b[39m.\u001b[39mclient \u001b[39m=\u001b[39m _utils\u001b[39m.\u001b[39mclient(service_name\u001b[39m=\u001b[39m\u001b[39m\"\u001b[39m\u001b[39mathena\u001b[39m\u001b[39m\"\u001b[39m, session\u001b[39m=\u001b[39mboto3_session)\n\u001b[0;32m-> 1192\u001b[0m response: Dict[\u001b[39mstr\u001b[39m, Any] \u001b[39m=\u001b[39m _utils\u001b[39m.\u001b[39;49mtry_it(\n\u001b[1;32m   1193\u001b[0m     f\u001b[39m=\u001b[39;49mclient_athena\u001b[39m.\u001b[39;49mget_query_execution,\n\u001b[1;32m   1194\u001b[0m     ex\u001b[39m=\u001b[39;49mbotocore\u001b[39m.\u001b[39;49mexceptions\u001b[39m.\u001b[39;49mClientError,\n\u001b[1;32m   1195\u001b[0m     ex_code\u001b[39m=\u001b[39;49m\u001b[39m\"\u001b[39;49m\u001b[39mThrottlingException\u001b[39;49m\u001b[39m\"\u001b[39;49m,\n\u001b[1;32m   1196\u001b[0m     max_num_tries\u001b[39m=\u001b[39;49m\u001b[39m5\u001b[39;49m,\n\u001b[1;32m   1197\u001b[0m     QueryExecutionId\u001b[39m=\u001b[39;49mquery_execution_id,\n\u001b[1;32m   1198\u001b[0m )\n\u001b[1;32m   1199\u001b[0m \u001b[39mreturn\u001b[39;00m cast(Dict[\u001b[39mstr\u001b[39m, Any], response[\u001b[39m\"\u001b[39m\u001b[39mQueryExecution\u001b[39m\u001b[39m\"\u001b[39m])\n",
      "File \u001b[0;32m~/miniconda3/envs/cvml/lib/python3.8/site-packages/awswrangler/_utils.py:334\u001b[0m, in \u001b[0;36mtry_it\u001b[0;34m(f, ex, ex_code, base, max_num_tries, **kwargs)\u001b[0m\n\u001b[1;32m    332\u001b[0m \u001b[39mfor\u001b[39;00m i \u001b[39min\u001b[39;00m \u001b[39mrange\u001b[39m(max_num_tries):\n\u001b[1;32m    333\u001b[0m     \u001b[39mtry\u001b[39;00m:\n\u001b[0;32m--> 334\u001b[0m         \u001b[39mreturn\u001b[39;00m f(\u001b[39m*\u001b[39;49m\u001b[39m*\u001b[39;49mkwargs)\n\u001b[1;32m    335\u001b[0m     \u001b[39mexcept\u001b[39;00m ex \u001b[39mas\u001b[39;00m exception:\n\u001b[1;32m    336\u001b[0m         \u001b[39mif\u001b[39;00m ex_code \u001b[39mis\u001b[39;00m \u001b[39mnot\u001b[39;00m \u001b[39mNone\u001b[39;00m \u001b[39mand\u001b[39;00m \u001b[39mhasattr\u001b[39m(exception, \u001b[39m\"\u001b[39m\u001b[39mresponse\u001b[39m\u001b[39m\"\u001b[39m):\n",
      "File \u001b[0;32m~/miniconda3/envs/cvml/lib/python3.8/site-packages/botocore/client.py:535\u001b[0m, in \u001b[0;36mClientCreator._create_api_method.<locals>._api_call\u001b[0;34m(self, *args, **kwargs)\u001b[0m\n\u001b[1;32m    531\u001b[0m     \u001b[39mraise\u001b[39;00m \u001b[39mTypeError\u001b[39;00m(\n\u001b[1;32m    532\u001b[0m         \u001b[39mf\u001b[39m\u001b[39m\"\u001b[39m\u001b[39m{\u001b[39;00mpy_operation_name\u001b[39m}\u001b[39;00m\u001b[39m() only accepts keyword arguments.\u001b[39m\u001b[39m\"\u001b[39m\n\u001b[1;32m    533\u001b[0m     )\n\u001b[1;32m    534\u001b[0m \u001b[39m# The \"self\" in this scope is referring to the BaseClient.\u001b[39;00m\n\u001b[0;32m--> 535\u001b[0m \u001b[39mreturn\u001b[39;00m \u001b[39mself\u001b[39;49m\u001b[39m.\u001b[39;49m_make_api_call(operation_name, kwargs)\n",
      "File \u001b[0;32m~/miniconda3/envs/cvml/lib/python3.8/site-packages/botocore/client.py:963\u001b[0m, in \u001b[0;36mBaseClient._make_api_call\u001b[0;34m(self, operation_name, api_params)\u001b[0m\n\u001b[1;32m    959\u001b[0m     maybe_compress_request(\n\u001b[1;32m    960\u001b[0m         \u001b[39mself\u001b[39m\u001b[39m.\u001b[39mmeta\u001b[39m.\u001b[39mconfig, request_dict, operation_model\n\u001b[1;32m    961\u001b[0m     )\n\u001b[1;32m    962\u001b[0m     apply_request_checksum(request_dict)\n\u001b[0;32m--> 963\u001b[0m     http, parsed_response \u001b[39m=\u001b[39m \u001b[39mself\u001b[39;49m\u001b[39m.\u001b[39;49m_make_request(\n\u001b[1;32m    964\u001b[0m         operation_model, request_dict, request_context\n\u001b[1;32m    965\u001b[0m     )\n\u001b[1;32m    967\u001b[0m \u001b[39mself\u001b[39m\u001b[39m.\u001b[39mmeta\u001b[39m.\u001b[39mevents\u001b[39m.\u001b[39memit(\n\u001b[1;32m    968\u001b[0m     \u001b[39m'\u001b[39m\u001b[39mafter-call.\u001b[39m\u001b[39m{service_id}\u001b[39;00m\u001b[39m.\u001b[39m\u001b[39m{operation_name}\u001b[39;00m\u001b[39m'\u001b[39m\u001b[39m.\u001b[39mformat(\n\u001b[1;32m    969\u001b[0m         service_id\u001b[39m=\u001b[39mservice_id, operation_name\u001b[39m=\u001b[39moperation_name\n\u001b[0;32m   (...)\u001b[0m\n\u001b[1;32m    974\u001b[0m     context\u001b[39m=\u001b[39mrequest_context,\n\u001b[1;32m    975\u001b[0m )\n\u001b[1;32m    977\u001b[0m \u001b[39mif\u001b[39;00m http\u001b[39m.\u001b[39mstatus_code \u001b[39m>\u001b[39m\u001b[39m=\u001b[39m \u001b[39m300\u001b[39m:\n",
      "File \u001b[0;32m~/miniconda3/envs/cvml/lib/python3.8/site-packages/botocore/client.py:986\u001b[0m, in \u001b[0;36mBaseClient._make_request\u001b[0;34m(self, operation_model, request_dict, request_context)\u001b[0m\n\u001b[1;32m    984\u001b[0m \u001b[39mdef\u001b[39;00m \u001b[39m_make_request\u001b[39m(\u001b[39mself\u001b[39m, operation_model, request_dict, request_context):\n\u001b[1;32m    985\u001b[0m     \u001b[39mtry\u001b[39;00m:\n\u001b[0;32m--> 986\u001b[0m         \u001b[39mreturn\u001b[39;00m \u001b[39mself\u001b[39;49m\u001b[39m.\u001b[39;49m_endpoint\u001b[39m.\u001b[39;49mmake_request(operation_model, request_dict)\n\u001b[1;32m    987\u001b[0m     \u001b[39mexcept\u001b[39;00m \u001b[39mException\u001b[39;00m \u001b[39mas\u001b[39;00m e:\n\u001b[1;32m    988\u001b[0m         \u001b[39mself\u001b[39m\u001b[39m.\u001b[39mmeta\u001b[39m.\u001b[39mevents\u001b[39m.\u001b[39memit(\n\u001b[1;32m    989\u001b[0m             \u001b[39m'\u001b[39m\u001b[39mafter-call-error.\u001b[39m\u001b[39m{service_id}\u001b[39;00m\u001b[39m.\u001b[39m\u001b[39m{operation_name}\u001b[39;00m\u001b[39m'\u001b[39m\u001b[39m.\u001b[39mformat(\n\u001b[1;32m    990\u001b[0m                 service_id\u001b[39m=\u001b[39m\u001b[39mself\u001b[39m\u001b[39m.\u001b[39m_service_model\u001b[39m.\u001b[39mservice_id\u001b[39m.\u001b[39mhyphenize(),\n\u001b[0;32m   (...)\u001b[0m\n\u001b[1;32m    994\u001b[0m             context\u001b[39m=\u001b[39mrequest_context,\n\u001b[1;32m    995\u001b[0m         )\n",
      "File \u001b[0;32m~/miniconda3/envs/cvml/lib/python3.8/site-packages/botocore/endpoint.py:119\u001b[0m, in \u001b[0;36mEndpoint.make_request\u001b[0;34m(self, operation_model, request_dict)\u001b[0m\n\u001b[1;32m    113\u001b[0m \u001b[39mdef\u001b[39;00m \u001b[39mmake_request\u001b[39m(\u001b[39mself\u001b[39m, operation_model, request_dict):\n\u001b[1;32m    114\u001b[0m     logger\u001b[39m.\u001b[39mdebug(\n\u001b[1;32m    115\u001b[0m         \u001b[39m\"\u001b[39m\u001b[39mMaking request for \u001b[39m\u001b[39m%s\u001b[39;00m\u001b[39m with params: \u001b[39m\u001b[39m%s\u001b[39;00m\u001b[39m\"\u001b[39m,\n\u001b[1;32m    116\u001b[0m         operation_model,\n\u001b[1;32m    117\u001b[0m         request_dict,\n\u001b[1;32m    118\u001b[0m     )\n\u001b[0;32m--> 119\u001b[0m     \u001b[39mreturn\u001b[39;00m \u001b[39mself\u001b[39;49m\u001b[39m.\u001b[39;49m_send_request(request_dict, operation_model)\n",
      "File \u001b[0;32m~/miniconda3/envs/cvml/lib/python3.8/site-packages/botocore/endpoint.py:199\u001b[0m, in \u001b[0;36mEndpoint._send_request\u001b[0;34m(self, request_dict, operation_model)\u001b[0m\n\u001b[1;32m    197\u001b[0m \u001b[39mself\u001b[39m\u001b[39m.\u001b[39m_update_retries_context(context, attempts)\n\u001b[1;32m    198\u001b[0m request \u001b[39m=\u001b[39m \u001b[39mself\u001b[39m\u001b[39m.\u001b[39mcreate_request(request_dict, operation_model)\n\u001b[0;32m--> 199\u001b[0m success_response, exception \u001b[39m=\u001b[39m \u001b[39mself\u001b[39;49m\u001b[39m.\u001b[39;49m_get_response(\n\u001b[1;32m    200\u001b[0m     request, operation_model, context\n\u001b[1;32m    201\u001b[0m )\n\u001b[1;32m    202\u001b[0m \u001b[39mwhile\u001b[39;00m \u001b[39mself\u001b[39m\u001b[39m.\u001b[39m_needs_retry(\n\u001b[1;32m    203\u001b[0m     attempts,\n\u001b[1;32m    204\u001b[0m     operation_model,\n\u001b[0;32m   (...)\u001b[0m\n\u001b[1;32m    207\u001b[0m     exception,\n\u001b[1;32m    208\u001b[0m ):\n\u001b[1;32m    209\u001b[0m     attempts \u001b[39m+\u001b[39m\u001b[39m=\u001b[39m \u001b[39m1\u001b[39m\n",
      "File \u001b[0;32m~/miniconda3/envs/cvml/lib/python3.8/site-packages/botocore/endpoint.py:241\u001b[0m, in \u001b[0;36mEndpoint._get_response\u001b[0;34m(self, request, operation_model, context)\u001b[0m\n\u001b[1;32m    235\u001b[0m \u001b[39mdef\u001b[39;00m \u001b[39m_get_response\u001b[39m(\u001b[39mself\u001b[39m, request, operation_model, context):\n\u001b[1;32m    236\u001b[0m     \u001b[39m# This will return a tuple of (success_response, exception)\u001b[39;00m\n\u001b[1;32m    237\u001b[0m     \u001b[39m# and success_response is itself a tuple of\u001b[39;00m\n\u001b[1;32m    238\u001b[0m     \u001b[39m# (http_response, parsed_dict).\u001b[39;00m\n\u001b[1;32m    239\u001b[0m     \u001b[39m# If an exception occurs then the success_response is None.\u001b[39;00m\n\u001b[1;32m    240\u001b[0m     \u001b[39m# If no exception occurs then exception is None.\u001b[39;00m\n\u001b[0;32m--> 241\u001b[0m     success_response, exception \u001b[39m=\u001b[39m \u001b[39mself\u001b[39;49m\u001b[39m.\u001b[39;49m_do_get_response(\n\u001b[1;32m    242\u001b[0m         request, operation_model, context\n\u001b[1;32m    243\u001b[0m     )\n\u001b[1;32m    244\u001b[0m     kwargs_to_emit \u001b[39m=\u001b[39m {\n\u001b[1;32m    245\u001b[0m         \u001b[39m'\u001b[39m\u001b[39mresponse_dict\u001b[39m\u001b[39m'\u001b[39m: \u001b[39mNone\u001b[39;00m,\n\u001b[1;32m    246\u001b[0m         \u001b[39m'\u001b[39m\u001b[39mparsed_response\u001b[39m\u001b[39m'\u001b[39m: \u001b[39mNone\u001b[39;00m,\n\u001b[1;32m    247\u001b[0m         \u001b[39m'\u001b[39m\u001b[39mcontext\u001b[39m\u001b[39m'\u001b[39m: context,\n\u001b[1;32m    248\u001b[0m         \u001b[39m'\u001b[39m\u001b[39mexception\u001b[39m\u001b[39m'\u001b[39m: exception,\n\u001b[1;32m    249\u001b[0m     }\n\u001b[1;32m    250\u001b[0m     \u001b[39mif\u001b[39;00m success_response \u001b[39mis\u001b[39;00m \u001b[39mnot\u001b[39;00m \u001b[39mNone\u001b[39;00m:\n",
      "File \u001b[0;32m~/miniconda3/envs/cvml/lib/python3.8/site-packages/botocore/endpoint.py:281\u001b[0m, in \u001b[0;36mEndpoint._do_get_response\u001b[0;34m(self, request, operation_model, context)\u001b[0m\n\u001b[1;32m    279\u001b[0m     http_response \u001b[39m=\u001b[39m first_non_none_response(responses)\n\u001b[1;32m    280\u001b[0m     \u001b[39mif\u001b[39;00m http_response \u001b[39mis\u001b[39;00m \u001b[39mNone\u001b[39;00m:\n\u001b[0;32m--> 281\u001b[0m         http_response \u001b[39m=\u001b[39m \u001b[39mself\u001b[39;49m\u001b[39m.\u001b[39;49m_send(request)\n\u001b[1;32m    282\u001b[0m \u001b[39mexcept\u001b[39;00m HTTPClientError \u001b[39mas\u001b[39;00m e:\n\u001b[1;32m    283\u001b[0m     \u001b[39mreturn\u001b[39;00m (\u001b[39mNone\u001b[39;00m, e)\n",
      "File \u001b[0;32m~/miniconda3/envs/cvml/lib/python3.8/site-packages/botocore/endpoint.py:377\u001b[0m, in \u001b[0;36mEndpoint._send\u001b[0;34m(self, request)\u001b[0m\n\u001b[1;32m    376\u001b[0m \u001b[39mdef\u001b[39;00m \u001b[39m_send\u001b[39m(\u001b[39mself\u001b[39m, request):\n\u001b[0;32m--> 377\u001b[0m     \u001b[39mreturn\u001b[39;00m \u001b[39mself\u001b[39;49m\u001b[39m.\u001b[39;49mhttp_session\u001b[39m.\u001b[39;49msend(request)\n",
      "File \u001b[0;32m~/miniconda3/envs/cvml/lib/python3.8/site-packages/botocore/httpsession.py:465\u001b[0m, in \u001b[0;36mURLLib3Session.send\u001b[0;34m(self, request)\u001b[0m\n\u001b[1;32m    462\u001b[0m     conn\u001b[39m.\u001b[39mproxy_headers[\u001b[39m'\u001b[39m\u001b[39mhost\u001b[39m\u001b[39m'\u001b[39m] \u001b[39m=\u001b[39m host\n\u001b[1;32m    464\u001b[0m request_target \u001b[39m=\u001b[39m \u001b[39mself\u001b[39m\u001b[39m.\u001b[39m_get_request_target(request\u001b[39m.\u001b[39murl, proxy_url)\n\u001b[0;32m--> 465\u001b[0m urllib_response \u001b[39m=\u001b[39m conn\u001b[39m.\u001b[39;49murlopen(\n\u001b[1;32m    466\u001b[0m     method\u001b[39m=\u001b[39;49mrequest\u001b[39m.\u001b[39;49mmethod,\n\u001b[1;32m    467\u001b[0m     url\u001b[39m=\u001b[39;49mrequest_target,\n\u001b[1;32m    468\u001b[0m     body\u001b[39m=\u001b[39;49mrequest\u001b[39m.\u001b[39;49mbody,\n\u001b[1;32m    469\u001b[0m     headers\u001b[39m=\u001b[39;49mrequest\u001b[39m.\u001b[39;49mheaders,\n\u001b[1;32m    470\u001b[0m     retries\u001b[39m=\u001b[39;49mRetry(\u001b[39mFalse\u001b[39;49;00m),\n\u001b[1;32m    471\u001b[0m     assert_same_host\u001b[39m=\u001b[39;49m\u001b[39mFalse\u001b[39;49;00m,\n\u001b[1;32m    472\u001b[0m     preload_content\u001b[39m=\u001b[39;49m\u001b[39mFalse\u001b[39;49;00m,\n\u001b[1;32m    473\u001b[0m     decode_content\u001b[39m=\u001b[39;49m\u001b[39mFalse\u001b[39;49;00m,\n\u001b[1;32m    474\u001b[0m     chunked\u001b[39m=\u001b[39;49m\u001b[39mself\u001b[39;49m\u001b[39m.\u001b[39;49m_chunked(request\u001b[39m.\u001b[39;49mheaders),\n\u001b[1;32m    475\u001b[0m )\n\u001b[1;32m    477\u001b[0m http_response \u001b[39m=\u001b[39m botocore\u001b[39m.\u001b[39mawsrequest\u001b[39m.\u001b[39mAWSResponse(\n\u001b[1;32m    478\u001b[0m     request\u001b[39m.\u001b[39murl,\n\u001b[1;32m    479\u001b[0m     urllib_response\u001b[39m.\u001b[39mstatus,\n\u001b[1;32m    480\u001b[0m     urllib_response\u001b[39m.\u001b[39mheaders,\n\u001b[1;32m    481\u001b[0m     urllib_response,\n\u001b[1;32m    482\u001b[0m )\n\u001b[1;32m    484\u001b[0m \u001b[39mif\u001b[39;00m \u001b[39mnot\u001b[39;00m request\u001b[39m.\u001b[39mstream_output:\n\u001b[1;32m    485\u001b[0m     \u001b[39m# Cause the raw stream to be exhausted immediately. We do it\u001b[39;00m\n\u001b[1;32m    486\u001b[0m     \u001b[39m# this way instead of using preload_content because\u001b[39;00m\n\u001b[1;32m    487\u001b[0m     \u001b[39m# preload_content will never buffer chunked responses\u001b[39;00m\n",
      "File \u001b[0;32m~/miniconda3/envs/cvml/lib/python3.8/site-packages/urllib3/connectionpool.py:714\u001b[0m, in \u001b[0;36mHTTPConnectionPool.urlopen\u001b[0;34m(self, method, url, body, headers, retries, redirect, assert_same_host, timeout, pool_timeout, release_conn, chunked, body_pos, **response_kw)\u001b[0m\n\u001b[1;32m    711\u001b[0m     \u001b[39mself\u001b[39m\u001b[39m.\u001b[39m_prepare_proxy(conn)\n\u001b[1;32m    713\u001b[0m \u001b[39m# Make the request on the httplib connection object.\u001b[39;00m\n\u001b[0;32m--> 714\u001b[0m httplib_response \u001b[39m=\u001b[39m \u001b[39mself\u001b[39;49m\u001b[39m.\u001b[39;49m_make_request(\n\u001b[1;32m    715\u001b[0m     conn,\n\u001b[1;32m    716\u001b[0m     method,\n\u001b[1;32m    717\u001b[0m     url,\n\u001b[1;32m    718\u001b[0m     timeout\u001b[39m=\u001b[39;49mtimeout_obj,\n\u001b[1;32m    719\u001b[0m     body\u001b[39m=\u001b[39;49mbody,\n\u001b[1;32m    720\u001b[0m     headers\u001b[39m=\u001b[39;49mheaders,\n\u001b[1;32m    721\u001b[0m     chunked\u001b[39m=\u001b[39;49mchunked,\n\u001b[1;32m    722\u001b[0m )\n\u001b[1;32m    724\u001b[0m \u001b[39m# If we're going to release the connection in ``finally:``, then\u001b[39;00m\n\u001b[1;32m    725\u001b[0m \u001b[39m# the response doesn't need to know about the connection. Otherwise\u001b[39;00m\n\u001b[1;32m    726\u001b[0m \u001b[39m# it will also try to release it and we'll have a double-release\u001b[39;00m\n\u001b[1;32m    727\u001b[0m \u001b[39m# mess.\u001b[39;00m\n\u001b[1;32m    728\u001b[0m response_conn \u001b[39m=\u001b[39m conn \u001b[39mif\u001b[39;00m \u001b[39mnot\u001b[39;00m release_conn \u001b[39melse\u001b[39;00m \u001b[39mNone\u001b[39;00m\n",
      "File \u001b[0;32m~/miniconda3/envs/cvml/lib/python3.8/site-packages/urllib3/connectionpool.py:403\u001b[0m, in \u001b[0;36mHTTPConnectionPool._make_request\u001b[0;34m(self, conn, method, url, timeout, chunked, **httplib_request_kw)\u001b[0m\n\u001b[1;32m    401\u001b[0m \u001b[39m# Trigger any extra validation we need to do.\u001b[39;00m\n\u001b[1;32m    402\u001b[0m \u001b[39mtry\u001b[39;00m:\n\u001b[0;32m--> 403\u001b[0m     \u001b[39mself\u001b[39;49m\u001b[39m.\u001b[39;49m_validate_conn(conn)\n\u001b[1;32m    404\u001b[0m \u001b[39mexcept\u001b[39;00m (SocketTimeout, BaseSSLError) \u001b[39mas\u001b[39;00m e:\n\u001b[1;32m    405\u001b[0m     \u001b[39m# Py2 raises this as a BaseSSLError, Py3 raises it as socket timeout.\u001b[39;00m\n\u001b[1;32m    406\u001b[0m     \u001b[39mself\u001b[39m\u001b[39m.\u001b[39m_raise_timeout(err\u001b[39m=\u001b[39me, url\u001b[39m=\u001b[39murl, timeout_value\u001b[39m=\u001b[39mconn\u001b[39m.\u001b[39mtimeout)\n",
      "File \u001b[0;32m~/miniconda3/envs/cvml/lib/python3.8/site-packages/urllib3/connectionpool.py:1053\u001b[0m, in \u001b[0;36mHTTPSConnectionPool._validate_conn\u001b[0;34m(self, conn)\u001b[0m\n\u001b[1;32m   1051\u001b[0m \u001b[39m# Force connect early to allow us to validate the connection.\u001b[39;00m\n\u001b[1;32m   1052\u001b[0m \u001b[39mif\u001b[39;00m \u001b[39mnot\u001b[39;00m \u001b[39mgetattr\u001b[39m(conn, \u001b[39m\"\u001b[39m\u001b[39msock\u001b[39m\u001b[39m\"\u001b[39m, \u001b[39mNone\u001b[39;00m):  \u001b[39m# AppEngine might not have  `.sock`\u001b[39;00m\n\u001b[0;32m-> 1053\u001b[0m     conn\u001b[39m.\u001b[39;49mconnect()\n\u001b[1;32m   1055\u001b[0m \u001b[39mif\u001b[39;00m \u001b[39mnot\u001b[39;00m conn\u001b[39m.\u001b[39mis_verified:\n\u001b[1;32m   1056\u001b[0m     warnings\u001b[39m.\u001b[39mwarn(\n\u001b[1;32m   1057\u001b[0m         (\n\u001b[1;32m   1058\u001b[0m             \u001b[39m\"\u001b[39m\u001b[39mUnverified HTTPS request is being made to host \u001b[39m\u001b[39m'\u001b[39m\u001b[39m%s\u001b[39;00m\u001b[39m'\u001b[39m\u001b[39m. \u001b[39m\u001b[39m\"\u001b[39m\n\u001b[0;32m   (...)\u001b[0m\n\u001b[1;32m   1063\u001b[0m         InsecureRequestWarning,\n\u001b[1;32m   1064\u001b[0m     )\n",
      "File \u001b[0;32m~/miniconda3/envs/cvml/lib/python3.8/site-packages/urllib3/connection.py:419\u001b[0m, in \u001b[0;36mHTTPSConnection.connect\u001b[0;34m(self)\u001b[0m\n\u001b[1;32m    410\u001b[0m \u001b[39mif\u001b[39;00m (\n\u001b[1;32m    411\u001b[0m     \u001b[39mnot\u001b[39;00m \u001b[39mself\u001b[39m\u001b[39m.\u001b[39mca_certs\n\u001b[1;32m    412\u001b[0m     \u001b[39mand\u001b[39;00m \u001b[39mnot\u001b[39;00m \u001b[39mself\u001b[39m\u001b[39m.\u001b[39mca_cert_dir\n\u001b[0;32m   (...)\u001b[0m\n\u001b[1;32m    415\u001b[0m     \u001b[39mand\u001b[39;00m \u001b[39mhasattr\u001b[39m(context, \u001b[39m\"\u001b[39m\u001b[39mload_default_certs\u001b[39m\u001b[39m\"\u001b[39m)\n\u001b[1;32m    416\u001b[0m ):\n\u001b[1;32m    417\u001b[0m     context\u001b[39m.\u001b[39mload_default_certs()\n\u001b[0;32m--> 419\u001b[0m \u001b[39mself\u001b[39m\u001b[39m.\u001b[39msock \u001b[39m=\u001b[39m ssl_wrap_socket(\n\u001b[1;32m    420\u001b[0m     sock\u001b[39m=\u001b[39;49mconn,\n\u001b[1;32m    421\u001b[0m     keyfile\u001b[39m=\u001b[39;49m\u001b[39mself\u001b[39;49m\u001b[39m.\u001b[39;49mkey_file,\n\u001b[1;32m    422\u001b[0m     certfile\u001b[39m=\u001b[39;49m\u001b[39mself\u001b[39;49m\u001b[39m.\u001b[39;49mcert_file,\n\u001b[1;32m    423\u001b[0m     key_password\u001b[39m=\u001b[39;49m\u001b[39mself\u001b[39;49m\u001b[39m.\u001b[39;49mkey_password,\n\u001b[1;32m    424\u001b[0m     ca_certs\u001b[39m=\u001b[39;49m\u001b[39mself\u001b[39;49m\u001b[39m.\u001b[39;49mca_certs,\n\u001b[1;32m    425\u001b[0m     ca_cert_dir\u001b[39m=\u001b[39;49m\u001b[39mself\u001b[39;49m\u001b[39m.\u001b[39;49mca_cert_dir,\n\u001b[1;32m    426\u001b[0m     ca_cert_data\u001b[39m=\u001b[39;49m\u001b[39mself\u001b[39;49m\u001b[39m.\u001b[39;49mca_cert_data,\n\u001b[1;32m    427\u001b[0m     server_hostname\u001b[39m=\u001b[39;49mserver_hostname,\n\u001b[1;32m    428\u001b[0m     ssl_context\u001b[39m=\u001b[39;49mcontext,\n\u001b[1;32m    429\u001b[0m     tls_in_tls\u001b[39m=\u001b[39;49mtls_in_tls,\n\u001b[1;32m    430\u001b[0m )\n\u001b[1;32m    432\u001b[0m \u001b[39m# If we're using all defaults and the connection\u001b[39;00m\n\u001b[1;32m    433\u001b[0m \u001b[39m# is TLSv1 or TLSv1.1 we throw a DeprecationWarning\u001b[39;00m\n\u001b[1;32m    434\u001b[0m \u001b[39m# for the host.\u001b[39;00m\n\u001b[1;32m    435\u001b[0m \u001b[39mif\u001b[39;00m (\n\u001b[1;32m    436\u001b[0m     default_ssl_context\n\u001b[1;32m    437\u001b[0m     \u001b[39mand\u001b[39;00m \u001b[39mself\u001b[39m\u001b[39m.\u001b[39mssl_version \u001b[39mis\u001b[39;00m \u001b[39mNone\u001b[39;00m\n\u001b[1;32m    438\u001b[0m     \u001b[39mand\u001b[39;00m \u001b[39mhasattr\u001b[39m(\u001b[39mself\u001b[39m\u001b[39m.\u001b[39msock, \u001b[39m\"\u001b[39m\u001b[39mversion\u001b[39m\u001b[39m\"\u001b[39m)\n\u001b[1;32m    439\u001b[0m     \u001b[39mand\u001b[39;00m \u001b[39mself\u001b[39m\u001b[39m.\u001b[39msock\u001b[39m.\u001b[39mversion() \u001b[39min\u001b[39;00m {\u001b[39m\"\u001b[39m\u001b[39mTLSv1\u001b[39m\u001b[39m\"\u001b[39m, \u001b[39m\"\u001b[39m\u001b[39mTLSv1.1\u001b[39m\u001b[39m\"\u001b[39m}\n\u001b[1;32m    440\u001b[0m ):\n",
      "File \u001b[0;32m~/miniconda3/envs/cvml/lib/python3.8/site-packages/urllib3/util/ssl_.py:402\u001b[0m, in \u001b[0;36mssl_wrap_socket\u001b[0;34m(sock, keyfile, certfile, cert_reqs, ca_certs, server_hostname, ssl_version, ciphers, ssl_context, ca_cert_dir, key_password, ca_cert_data, tls_in_tls)\u001b[0m\n\u001b[1;32m    400\u001b[0m \u001b[39mif\u001b[39;00m ca_certs \u001b[39mor\u001b[39;00m ca_cert_dir \u001b[39mor\u001b[39;00m ca_cert_data:\n\u001b[1;32m    401\u001b[0m     \u001b[39mtry\u001b[39;00m:\n\u001b[0;32m--> 402\u001b[0m         context\u001b[39m.\u001b[39;49mload_verify_locations(ca_certs, ca_cert_dir, ca_cert_data)\n\u001b[1;32m    403\u001b[0m     \u001b[39mexcept\u001b[39;00m (\u001b[39mIOError\u001b[39;00m, \u001b[39mOSError\u001b[39;00m) \u001b[39mas\u001b[39;00m e:\n\u001b[1;32m    404\u001b[0m         \u001b[39mraise\u001b[39;00m SSLError(e)\n",
      "\u001b[0;31mKeyboardInterrupt\u001b[0m: "
     ]
    }
   ],
   "source": [
    "new_data = Dataset.retrieve(name=\"dynamic_manny_in_dust_raw_diverse_4000\")\n",
    "old_data= Dataset.retrieve(name=\"mannequin_in_dust_v0_diverse_1550\")\n",
    "new_df = new_data.to_dataframe()\n",
    "old_df = old_data.to_dataframe()\n",
    "new_df = new_df[new_df['camera_location'].str.endswith('left')]\n",
    "nonhuman_ids = []\n",
    "\n",
    "imageids_to_dataset(list(new_df['id']), \"mannequin_in_dust_v1\", \"mannequins standing in dusty conditions (2k images)\", Dataset.KIND_ANNOTATION, production_dataset=False)"
   ]
  },
  {
   "cell_type": "code",
   "execution_count": 5,
   "metadata": {},
   "outputs": [],
   "source": [
    "df = new_data.to_dataframe()"
   ]
  },
  {
   "cell_type": "code",
   "execution_count": 10,
   "metadata": {},
   "outputs": [
    {
     "name": "stdout",
     "output_type": "stream",
     "text": [
      "3100\n"
     ]
    }
   ],
   "source": [
    "old_id = old_data.to_dataframe()['id']\n",
    "print(len(old_id))"
   ]
  },
  {
   "cell_type": "code",
   "execution_count": 12,
   "metadata": {},
   "outputs": [],
   "source": [
    "all_id = list(pd.concat([new_id, old_id]))"
   ]
  },
  {
   "cell_type": "code",
   "execution_count": 13,
   "metadata": {},
   "outputs": [
    {
     "name": "stdout",
     "output_type": "stream",
     "text": [
      "INFO: Pandarallel will run on 32 workers.\n",
      "INFO: Pandarallel will use Memory file system to transfer data between the main process and workers.\n",
      "Total annotations retrieved from athena 2302\n",
      "Removed annotataions in state SKIP, 2302 left\n",
      "Removed duplicate annotations for the same image (choosing latest), 2261 left\n",
      "Warning 7267 images do not have a corresponding annotation.\n",
      "Preparing stereo dataframe...\n",
      "Size of left dataframe: 2261\n",
      "INFO: Pandarallel will run on 32 workers.\n",
      "INFO: Pandarallel will use Memory file system to transfer data between the main process and workers.\n",
      "INFO: Pandarallel will run on 32 workers.\n",
      "INFO: Pandarallel will use Memory file system to transfer data between the main process and workers.\n",
      "Size of stereo dataframe: 2261\n",
      "Sending 2261 annotated_ids for creating dataset\n",
      "Time taken to prepare data for dataset creation job: 2.01 mins\n"
     ]
    }
   ],
   "source": [
    "imageids_to_dataset(list(all_id), \"mannequin_in_dust_v1\", \"mannequins standing in dusty conditions (2k images)\", Dataset.KIND_ANNOTATION, production_dataset=False)"
   ]
  }
 ],
 "metadata": {
  "kernelspec": {
   "display_name": "cvml",
   "language": "python",
   "name": "python3"
  },
  "language_info": {
   "codemirror_mode": {
    "name": "ipython",
    "version": 3
   },
   "file_extension": ".py",
   "mimetype": "text/x-python",
   "name": "python",
   "nbconvert_exporter": "python",
   "pygments_lexer": "ipython3",
   "version": "3.8.0"
  },
  "orig_nbformat": 4
 },
 "nbformat": 4,
 "nbformat_minor": 2
}
