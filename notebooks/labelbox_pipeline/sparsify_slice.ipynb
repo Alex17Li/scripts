{
 "cells": [
  {
   "cell_type": "code",
   "execution_count": null,
   "metadata": {},
   "outputs": [],
   "source": [
    "from brtdevkit.data import Dataset\n",
    "dset = Dataset.retrieve(name='labelbox_import_tire_tracks_labelbox_slice')"
   ]
  },
  {
   "cell_type": "code",
   "execution_count": null,
   "metadata": {},
   "outputs": [],
   "source": [
    "df = dset.to_dataframe()"
   ]
  },
  {
   "cell_type": "code",
   "execution_count": null,
   "metadata": {},
   "outputs": [],
   "source": [
    "GEOHASH_SHORT = 7\n",
    "df[\"geohash_short\"] = df[\"geohash\"].apply(lambda x: x[:GEOHASH_SHORT])\n",
    "df['gps_can_data'] = df[\"gps_can_data__json\"].apply(lambda x: json.loads(x))\n",
    "df['speed'] = df['gps_can_data'].apply(lambda x: x.get('speed', np.nan))\n",
    "df = df[df[\"speed\"] > 0.1]\n",
    "df = df[df[\"speed\"] < 30]"
   ]
  },
  {
   "cell_type": "code",
   "execution_count": null,
   "metadata": {},
   "outputs": [],
   "source": [
    "df"
   ]
  }
 ],
 "metadata": {
  "kernelspec": {
   "display_name": "cvml",
   "language": "python",
   "name": "python3"
  },
  "language_info": {
   "codemirror_mode": {
    "name": "ipython",
    "version": 3
   },
   "file_extension": ".py",
   "mimetype": "text/x-python",
   "name": "python",
   "nbconvert_exporter": "python",
   "pygments_lexer": "ipython3",
   "version": "3.10.0"
  }
 },
 "nbformat": 4,
 "nbformat_minor": 2
}
