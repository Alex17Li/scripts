{
 "cells": [
  {
   "cell_type": "code",
   "execution_count": 1,
   "metadata": {},
   "outputs": [],
   "source": [
    "import pandas as pd\n",
    "%matplotlib widget\n",
    "import matplotlib.pyplot as plt\n",
    "\n",
    "dset_path ='/data/jupiter/datasets/Jupiter_train_v5_11_20230508'"
   ]
  },
  {
   "cell_type": "code",
   "execution_count": 2,
   "metadata": {},
   "outputs": [
    {
     "name": "stderr",
     "output_type": "stream",
     "text": [
      "/home/alex.li/miniconda3/envs/cvml/lib/python3.8/site-packages/IPython/core/interactiveshell.py:3508: DtypeWarning: Columns (6,7,12,39,112,113,115,133,139,140,144,191,217,218,247,248,278) have mixed types.Specify dtype option on import or set low_memory=False.\n",
      "  exec(code_obj, self.user_global_ns, self.user_ns)\n",
      "/home/alex.li/miniconda3/envs/cvml/lib/python3.8/site-packages/IPython/core/interactiveshell.py:3508: DtypeWarning: Columns (6,7,12,39,112,113,115,133,139,144,148,191,217,218,247,248,278) have mixed types.Specify dtype option on import or set low_memory=False.\n",
      "  exec(code_obj, self.user_global_ns, self.user_ns)\n"
     ]
    }
   ],
   "source": [
    "csv_orig = pd.read_csv('/data/jupiter/datasets/Jupiter_train_v5_11_20230508/master_annotations.csv')\n",
    "csv_dropped = pd.read_csv('/data/jupiter/li.yu/data/Jupiter_train_v5_11/epoch0_5_30_focal05_master_annotations_ppcolumns.csv')"
   ]
  },
  {
   "cell_type": "code",
   "execution_count": 3,
   "metadata": {},
   "outputs": [
    {
     "name": "stdout",
     "output_type": "stream",
     "text": [
      "319902\n",
      "316649\n"
     ]
    }
   ],
   "source": [
    "print(len(csv_orig))\n",
    "print(len(csv_dropped))"
   ]
  },
  {
   "cell_type": "code",
   "execution_count": 4,
   "metadata": {},
   "outputs": [],
   "source": [
    "diff_ids = set(csv_orig['id']) - set(csv_dropped['id'])\n",
    "csv_diff = csv_orig[csv_orig['id'].isin(diff_ids)]\n",
    "del csv_dropped\n",
    "del csv_orig"
   ]
  },
  {
   "cell_type": "code",
   "execution_count": 5,
   "metadata": {},
   "outputs": [],
   "source": [
    "from dl.dataset.datamodes.npz.rgbd import RGBDNPZ\n",
    "data_eater = RGBDNPZ(data_dir=dset_path)"
   ]
  },
  {
   "cell_type": "code",
   "execution_count": 6,
   "metadata": {},
   "outputs": [
    {
     "name": "stdout",
     "output_type": "stream",
     "text": [
      "['actor', 'aletheia_datapoint_id', 'annotation_pixelwise_0__cls', 'annotation_pixelwise_0__id', 'annotation_pixelwise_0_aletheia_id', 'annotation_pixelwise_0_annotation_job', 'annotation_pixelwise_0_audit_at', 'annotation_pixelwise_0_audit_by', 'annotation_pixelwise_0_audit_mistake_found', 'annotation_pixelwise_0_audit_mistakes', 'annotation_pixelwise_0_audit_requested', 'annotation_pixelwise_0_created_at', 'annotation_pixelwise_0_created_by', 'annotation_pixelwise_0_id', 'annotation_pixelwise_0_image', 'annotation_pixelwise_0_is_active_version', 'annotation_pixelwise_0_is_deleted', 'annotation_pixelwise_0_is_image_deleted', 'annotation_pixelwise_0_kind', 'annotation_pixelwise_0_label_map', 'annotation_pixelwise_0_label_policy', 'annotation_pixelwise_0_labeled_objects', 'annotation_pixelwise_0_mask_height', 'annotation_pixelwise_0_mask_width', 'annotation_pixelwise_0_ml_model_metrics', 'annotation_pixelwise_0_next_version', 'annotation_pixelwise_0_nothing_to_annotate', 'annotation_pixelwise_0_prev_version', 'annotation_pixelwise_0_project_name', 'annotation_pixelwise_0_promote_to_review', 'annotation_pixelwise_0_properties', 'annotation_pixelwise_0_review_reasons', 'annotation_pixelwise_0_review_request', 'annotation_pixelwise_0_s3_bucket', 'annotation_pixelwise_0_s3_key', 'annotation_pixelwise_0_save_path', 'annotation_pixelwise_0_state', 'annotation_pixelwise_0_style', 'annotation_pixelwise_0_updated_at', 'annotation_pixelwise_0_updated_by', 'annotation_pixelwise_0_vendor_metadata', 'artifact_debayeredrgb_0__id', 'artifact_debayeredrgb_0_content_hash', 'artifact_debayeredrgb_0_created_at', 'artifact_debayeredrgb_0_height', 'artifact_debayeredrgb_0_id', 'artifact_debayeredrgb_0_image', 'artifact_debayeredrgb_0_kind', 'artifact_debayeredrgb_0_project_name', 'artifact_debayeredrgb_0_s3_bucket', 'artifact_debayeredrgb_0_s3_key', 'artifact_debayeredrgb_0_save_path', 'artifact_debayeredrgb_0_updated_at', 'artifact_debayeredrgb_0_web_s3_bucket', 'artifact_debayeredrgb_0_web_s3_key', 'artifact_debayeredrgb_0_width', 'artifact_raw_0__id', 'artifact_raw_0_content_hash', 'artifact_raw_0_created_at', 'artifact_raw_0_height', 'artifact_raw_0_id', 'artifact_raw_0_image', 'artifact_raw_0_kind', 'artifact_raw_0_project_name', 'artifact_raw_0_s3_bucket', 'artifact_raw_0_s3_key', 'artifact_raw_0_save_path', 'artifact_raw_0_updated_at', 'artifact_raw_0_web_s3_bucket', 'artifact_raw_0_web_s3_key', 'artifact_raw_0_width', 'artifact_rgb_0__id', 'artifact_rgb_0_content_hash', 'artifact_rgb_0_created_at', 'artifact_rgb_0_height', 'artifact_rgb_0_id', 'artifact_rgb_0_image', 'artifact_rgb_0_kind', 'artifact_rgb_0_project_name', 'artifact_rgb_0_s3_bucket', 'artifact_rgb_0_s3_key', 'artifact_rgb_0_save_path', 'artifact_rgb_0_updated_at', 'artifact_rgb_0_web_s3_bucket', 'artifact_rgb_0_web_s3_key', 'artifact_rgb_0_width', 'artifacts_content_hash', 'auto_exposure_stabilized', 'bag_name', 'brt_cuda_library', 'bundle', 'calibration_data', 'camera_exposure_milliseconds', 'camera_gain', 'camera_location', 'camera_name', 'camera_sensor_type', 'camera_serial_number', 'category', 'closest_object_info', 'collected_on_datetime', 'collected_on_day', 'collected_on', 'collection_event_id', 'collection_location', 'controller_version', 'county', 'created_at', 'created_by', 'date', 'description', 'dummy_gps', 'dust_human_tagged', 'event_type', 'experiment_id', 'exposure_human_tagged', 'extractor_jupiterembedded_sha', 'farm', 'field_conditions', 'foliage_crop_residue_human_tagged', 'foliage_standing_crop_residue_human_tagged', 'future_crop', 'geohash', 'gnss', 'gps_can_data', 'ground_precipitation', 'grower', 'hard_drive_name', 'harrow_tine', 'has_categorical_labels', 'has_human_annotation', 'has_nearby_stop_event', 'hdr_algo', 'hdr_kernel_size', 'hdr_kernel_type', 'hdr_library', 'hdr_mode', 'headlands', 'horizon_type', 'humans_human_tagged', 'ice_human_tagged', 'id', 'implement_angle_data', 'implement_gps', 'implement', 'implement_starfire_data', 'implement_status_human_tagged', 'implement_type_human_tagged', 'interesting_human_tagged', 'is_autogenerated', 'is_deleted', 'jdb_s3_path', 'jupiter_ansible_branch', 'jupiter_ansible_hash', 'jupiter_embedded_branch', 'jupiter_embedded_hash', 'jupiter_header_id', 'jupiter_header_node', 'jupiter_header_sequence', 'jupiter_header_timestamp_epoch', 'jupiter_interface_branch', 'jupiter_interface_foxy_37_branch', 'jupiter_interface_foxy_37_hash', 'jupiter_interface_foxy_branch', 'jupiter_interface_foxy_hash', 'jupiter_interface_hash', 'jupiter_libs_branch', 'jupiter_libs_hash', 'jupiter_libs_intel__aws_stream', 'jupiter_libs_intel__detector', 'jupiter_libs_intel__frame_transforms', 'jupiter_libs_intel__image_classifier', 'jupiter_libs_intel__implement_angle', 'jupiter_libs_intel__implement_classifier', 'jupiter_libs_intel__jupiter_cuda_utils', 'jupiter_libs_intel__jupiter_utils', 'jupiter_libs_intel__jupiter_vision', 'jupiter_libs_intel__occupancy_grid', 'jupiter_libs_intel__point_locate', 'jupiter_libs_intel__stream_codec', 'jupiter_libs_intel__tracker', 'jupiter_libs_intel__trt_inferer', 'jupiter_libs_intel_branch', 'jupiter_libs_intel_hash', 'jupiter_metadata_schema', 'jupiter_simpeui_hash', 'jupiter_simpleui_branch', 'jupiter_simpleui_hash', 'key', 'kind', 'latitude', 'lens_flare_human_tagged', 'libsgm', 'light_field', 'light_front_roof', 'light_high_beams', 'light_low_beams', 'light_mid', 'light_rear_roof', 'light_side_roof', 'lighting', 'local_timestamp', 'location_human_tagged', 'longitude', 'metadata', 'metadata_version', 'mime_type', 'objects_airborne_debris_human_tagged', 'objects_birds_human_tagged', 'obstacle', 'openfield_moving', 'openfield_static', 'operating_field_name', 'operation_time', 'operator', 'part', 'pass_type', 'planter_type_human_tagged', 'plug_human_tagged', 'plug_location', 'plug_repurposed', 'precipitation', 'previous_crop', 'project_name', 'project_type', 'py_interface', 'recorder_jupiterembedded_sha', 'reference_camera_location', 'region', 'robot_name', 'ros_s3_path', 'script_id', 'script_id_verbose', 'sequence_number', 'software_version_info', 'soil_color', 'special_notes', 'start_file', 'state', 'sun_position', 'swapped', 'sweep_point_type', 'system_arch_id', 'system_name', 'terrain_type', 'tow_hitch', 'updated_at', 'updated_by', 'vehicles_human_tagged', 'vpu_position', 'was_compressed', 'water_management', 'weather', 'weather_summary', 'wet_spots', 'alpha', 'bottom_edge_pixel', 'input_image_height', 'input_image_width', 'invalid_value_x', 'invalid_value_y', 'invalid_value_z', 'left_edge_pixel', 'right_edge_pixel', 'top_edge_pixel', 'triangle_height_pixel', 'triangle_width_pixel', 'disparity_range', 'disparity_uniqueness', 'disparity_threshold', 'subpixel', 'collection_type', 'dataset_parent_dir', 'image_id', 'image_quality_label', 'label_compare_check', 'label_map', 'label_save_path', 'median_depth_check', 'rectified_label_save_path', 'stereo_left_image', 'stereo_pipeline_npz_save_path', 'stereo_right_image']\n"
     ]
    }
   ],
   "source": [
    "print(list(csv_diff.columns))\n",
    "for _, row in csv_diff.iterrows():\n",
    "    npz = data_eater.get_artifacts(row)\n",
    "    break"
   ]
  },
  {
   "cell_type": "code",
   "execution_count": 11,
   "metadata": {},
   "outputs": [
    {
     "name": "stdout",
     "output_type": "stream",
     "text": [
      "[[[0.54521865 0.5444172  0.54138154 ... 0.81781197 0.8224691  0.83236355]\n",
      "  [0.5497195  0.55034864 0.5430108  ... 0.83299553 0.83724755 0.83755785]\n",
      "  [0.55193084 0.55180764 0.5501601  ... 0.8392833  0.83918864 0.83703965]\n",
      "  ...\n",
      "  [0.19604623 0.2027288  0.20183945 ... 0.32416672 0.32979742 0.3243637 ]\n",
      "  [0.20928803 0.20841347 0.20867139 ... 0.33129323 0.3345328  0.33309883]\n",
      "  [0.20598961 0.20471089 0.20276292 ... 0.32963657 0.3335508  0.33118328]]\n",
      "\n",
      " [[0.74528176 0.7450444  0.7445927  ... 1.         1.         1.        ]\n",
      "  [0.74473906 0.74554396 0.744758   ... 1.         1.         1.        ]\n",
      "  [0.74536824 0.74527556 0.7454557  ... 1.         1.         1.        ]\n",
      "  ...\n",
      "  [0.2210454  0.22698589 0.22699344 ... 0.34985277 0.35334077 0.34987962]\n",
      "  [0.23226017 0.2322003  0.23344947 ... 0.35250044 0.35597458 0.35520127]\n",
      "  [0.22916365 0.22790389 0.22578894 ... 0.3492801  0.3530346  0.35159084]]\n",
      "\n",
      " [[1.         1.         1.         ... 1.         1.         1.        ]\n",
      "  [1.         1.         1.         ... 1.         1.         1.        ]\n",
      "  [1.         1.         1.         ... 1.         1.         1.        ]\n",
      "  ...\n",
      "  [0.29023173 0.29429227 0.29169297 ... 0.42918137 0.43475524 0.43135   ]\n",
      "  [0.30131593 0.2989149  0.29421073 ... 0.435082   0.43783343 0.43656054]\n",
      "  [0.30487892 0.30082503 0.2974531  ... 0.43468425 0.43680668 0.4334256 ]]]\n",
      "(3, 512, 1024)\n"
     ]
    },
    {
     "name": "stdout",
     "output_type": "stream",
     "text": [
      "START /usr/bin/eog \"/tmp/tmptiktu3hl.PNG\"\n"
     ]
    },
    {
     "name": "stderr",
     "output_type": "stream",
     "text": [
      "\n",
      "(eog:181173): Gtk-WARNING **: 12:33:00.800: cannot open display: \n"
     ]
    }
   ],
   "source": [
    "from PIL import Image\n",
    "nim = npz['image'].transpose([2,0,1])\n",
    "print(nim)\n",
    "print(nim.shape)\n",
    "\n",
    "im = Image.fromarray(npz['image'], mode='RGB')\n",
    "im.show()"
   ]
  },
  {
   "cell_type": "code",
   "execution_count": 8,
   "metadata": {},
   "outputs": [
    {
     "data": {
      "text/plain": [
       "<matplotlib.image.AxesImage at 0x7f7ac3cb2520>"
      ]
     },
     "execution_count": 8,
     "metadata": {},
     "output_type": "execute_result"
    }
   ],
   "source": [
    "plt.imshow(npz['label'])"
   ]
  },
  {
   "cell_type": "code",
   "execution_count": 9,
   "metadata": {},
   "outputs": [
    {
     "data": {
      "text/plain": [
       "<matplotlib.image.AxesImage at 0x7f6108da8d90>"
      ]
     },
     "execution_count": 9,
     "metadata": {},
     "output_type": "execute_result"
    }
   ],
   "source": [
    "plt.imshow(npz['image'])"
   ]
  }
 ],
 "metadata": {
  "kernelspec": {
   "display_name": "cvml",
   "language": "python",
   "name": "python3"
  },
  "language_info": {
   "codemirror_mode": {
    "name": "ipython",
    "version": 3
   },
   "file_extension": ".py",
   "mimetype": "text/x-python",
   "name": "python",
   "nbconvert_exporter": "python",
   "pygments_lexer": "ipython3",
   "version": "3.8.0"
  }
 },
 "nbformat": 4,
 "nbformat_minor": 2
}
