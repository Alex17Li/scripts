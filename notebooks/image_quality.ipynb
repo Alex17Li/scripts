{
 "cells": [
  {
   "cell_type": "markdown",
   "id": "9eb2b7b9",
   "metadata": {},
   "source": [
    "# Imports"
   ]
  },
  {
   "cell_type": "code",
   "execution_count": 1,
   "id": "5fcd5113-66b6-467f-9ab6-f8c10736beca",
   "metadata": {},
   "outputs": [],
   "source": [
    "# Please update the default location as you deem fit\n",
    "cvml_path = '/home/alex.li/git/JupiterCVML/europa/base/src/europa'"
   ]
  },
  {
   "cell_type": "code",
   "execution_count": 2,
   "id": "3055e6f2",
   "metadata": {},
   "outputs": [],
   "source": [
    "import json\n",
    "import os\n",
    "import multiprocessing as mp\n",
    "\n",
    "import numpy as np\n",
    "import pandas as pd\n",
    "\n",
    "from cv.core.image_quality_server_side import ImageQuality\n",
    "from dl.utils.config import DEFAULT_TONEMAP_PARAMS"
   ]
  },
  {
   "cell_type": "markdown",
   "id": "440a569c-36b2-4ce4-975a-1ae3c89901db",
   "metadata": {},
   "source": [
    "## Datasets"
   ]
  },
  {
   "cell_type": "code",
   "execution_count": 3,
   "id": "e0f7257e-cdff-410d-93c0-c723c49162f4",
   "metadata": {},
   "outputs": [],
   "source": [
    "directory = ['/data2/jupiter/datasets/20231017_halo_rgb_labeled_excluded_bad_iq', '/data/jupiter/datasets/iq_2023_v5_anno'][1]\n",
    "save_path='/mnt/alex.li/sandbox1/iq_results'\n",
    "\n",
    "side_left_tire_mask = f'{cvml_path}/cv/core/tire_masks/side_left_iq_mask.png'\n",
    "side_right_tire_mask = f'{cvml_path}/cv/core/tire_masks/side_right_iq_mask.png'"
   ]
  },
  {
   "cell_type": "markdown",
   "id": "d3dc40db",
   "metadata": {},
   "source": [
    "# Prediction from JupiterCVML repo"
   ]
  },
  {
   "cell_type": "code",
   "execution_count": 5,
   "id": "7e6fc15e",
   "metadata": {},
   "outputs": [
    {
     "name": "stdout",
     "output_type": "stream",
     "text": [
      "/data/jupiter/datasets/iq_2023_v5_anno\n"
     ]
    }
   ],
   "source": [
    "iq = ImageQuality(num_workers=mp.cpu_count(),\n",
    "                  use_progress=True,\n",
    "                  side_left_tire_mask_path = side_left_tire_mask,\n",
    "                  side_right_tire_mask_path = side_right_tire_mask,\n",
    "                  normalization_params=DEFAULT_TONEMAP_PARAMS,\n",
    "                  dataset=directory,\n",
    "                  save_path=save_path)\n",
    "print(directory)\n",
    "# stereo_df = pd.read_csv(os.path.join(directory, 'master_annotation_with_histogram.csv'), low_memory=False)\n",
    "stereo_df = pd.read_csv(os.path.join(directory, 'annotations.csv'), low_memory=False)"
   ]
  },
  {
   "cell_type": "code",
   "execution_count": 9,
   "id": "582cc0ff",
   "metadata": {},
   "outputs": [],
   "source": [
    "# stereo_df['stereo_pipeline_npz_save_path']"
   ]
  },
  {
   "cell_type": "code",
   "execution_count": 6,
   "id": "40a281c4-5f12-4bfa-be14-6a952c1df8db",
   "metadata": {},
   "outputs": [
    {
     "data": {
      "application/vnd.jupyter.widget-view+json": {
       "model_id": "15aa28540cfb4328aaefafaa81a5b2d8",
       "version_major": 2,
       "version_minor": 0
      },
      "text/plain": [
       "VBox(children=(HBox(children=(IntProgress(value=0, description='0.00%', max=34), Label(value='0 / 34'))), HBox…"
      ]
     },
     "metadata": {},
     "output_type": "display_data"
    },
    {
     "ename": "KeyError",
     "evalue": "'stereo_pipeline_npz_save_path'",
     "output_type": "error",
     "traceback": [
      "\u001b[0;31m---------------------------------------------------------------------------\u001b[0m",
      "\u001b[0;31mRemoteTraceback\u001b[0m                           Traceback (most recent call last)",
      "\u001b[0;31mRemoteTraceback\u001b[0m: \n\"\"\"\nTraceback (most recent call last):\n  File \"/home/alex.li/miniconda3/envs/cvml/lib/python3.8/site-packages/pandas/core/indexes/base.py\", line 3361, in get_loc\n    return self._engine.get_loc(casted_key)\n  File \"pandas/_libs/index.pyx\", line 76, in pandas._libs.index.IndexEngine.get_loc\n  File \"pandas/_libs/index.pyx\", line 108, in pandas._libs.index.IndexEngine.get_loc\n  File \"pandas/_libs/hashtable_class_helper.pxi\", line 5198, in pandas._libs.hashtable.PyObjectHashTable.get_item\n  File \"pandas/_libs/hashtable_class_helper.pxi\", line 5206, in pandas._libs.hashtable.PyObjectHashTable.get_item\nKeyError: 'stereo_pipeline_npz_save_path'\n\nThe above exception was the direct cause of the following exception:\n\nTraceback (most recent call last):\n  File \"/home/alex.li/miniconda3/envs/cvml/lib/python3.8/multiprocessing/pool.py\", line 125, in worker\n    result = (True, func(*args, **kwds))\n  File \"/home/alex.li/miniconda3/envs/cvml/lib/python3.8/multiprocessing/pool.py\", line 51, in starmapstar\n    return list(itertools.starmap(args[0], args[1]))\n  File \"/home/alex.li/miniconda3/envs/cvml/lib/python3.8/site-packages/pandarallel/core.py\", line 95, in __call__\n    result = self.work_function(\n  File \"/home/alex.li/miniconda3/envs/cvml/lib/python3.8/site-packages/pandarallel/data_types/dataframe.py\", line 32, in work\n    return data.apply(\n  File \"/home/alex.li/miniconda3/envs/cvml/lib/python3.8/site-packages/pandas/core/frame.py\", line 8740, in apply\n    return op.apply()\n  File \"/home/alex.li/miniconda3/envs/cvml/lib/python3.8/site-packages/pandas/core/apply.py\", line 688, in apply\n    return self.apply_standard()\n  File \"/home/alex.li/miniconda3/envs/cvml/lib/python3.8/site-packages/pandas/core/apply.py\", line 812, in apply_standard\n    results, res_index = self.apply_series_generator()\n  File \"/home/alex.li/miniconda3/envs/cvml/lib/python3.8/site-packages/pandas/core/apply.py\", line 828, in apply_series_generator\n    results[i] = self.f(v)\n  File \"/home/alex.li/miniconda3/envs/cvml/lib/python3.8/site-packages/pandarallel/progress_bars.py\", line 214, in closure\n    return user_defined_function(\n  File \"/home/alex.li/git/JupiterCVML/europa/base/src/europa/cv/core/image_quality_server_side.py\", line 179, in <lambda>\n    os.path.join(img_path_prefix, x[STEREO_PIPELINE_NPZ_SAVE_PATH]),\n  File \"/home/alex.li/miniconda3/envs/cvml/lib/python3.8/site-packages/pandas/core/series.py\", line 942, in __getitem__\n    return self._get_value(key)\n  File \"/home/alex.li/miniconda3/envs/cvml/lib/python3.8/site-packages/pandas/core/series.py\", line 1051, in _get_value\n    loc = self.index.get_loc(label)\n  File \"/home/alex.li/miniconda3/envs/cvml/lib/python3.8/site-packages/pandas/core/indexes/base.py\", line 3363, in get_loc\n    raise KeyError(key) from err\nKeyError: 'stereo_pipeline_npz_save_path'\n\"\"\"",
      "\nThe above exception was the direct cause of the following exception:\n",
      "\u001b[0;31mKeyError\u001b[0m                                  Traceback (most recent call last)",
      "\u001b[1;32m/home/alex.li/git/scripts/notebooks/image_quality.ipynb Cell 8\u001b[0m line \u001b[0;36m1\n\u001b[0;32m----> <a href='vscode-notebook-cell://ssh-remote%2Bharvest/home/alex.li/git/scripts/notebooks/image_quality.ipynb#X10sdnNjb2RlLXJlbW90ZQ%3D%3D?line=0'>1</a>\u001b[0m labeled \u001b[39m=\u001b[39m iq\u001b[39m.\u001b[39;49mfrom_df(stereo_df, directory, use_progress\u001b[39m=\u001b[39;49m\u001b[39mTrue\u001b[39;49;00m)\n",
      "File \u001b[0;32m~/git/JupiterCVML/europa/base/src/europa/cv/core/image_quality_server_side.py:177\u001b[0m, in \u001b[0;36mImageQuality.from_df\u001b[0;34m(self, df, img_path_prefix, **kwargs)\u001b[0m\n\u001b[1;32m    174\u001b[0m     df\u001b[39m.\u001b[39mhdr_mode\u001b[39m.\u001b[39mfillna(\u001b[39mFalse\u001b[39;00m, inplace\u001b[39m=\u001b[39m\u001b[39mTrue\u001b[39;00m)\n\u001b[1;32m    176\u001b[0m apply_func \u001b[39m=\u001b[39m df\u001b[39m.\u001b[39mapply \u001b[39mif\u001b[39;00m \u001b[39mself\u001b[39m\u001b[39m.\u001b[39mnum_workers \u001b[39m==\u001b[39m \u001b[39m1\u001b[39m \u001b[39melse\u001b[39;00m df\u001b[39m.\u001b[39mparallel_apply\n\u001b[0;32m--> 177\u001b[0m df\u001b[39m.\u001b[39mloc[:, \u001b[39mself\u001b[39m\u001b[39m.\u001b[39mALGORITHM_NAME] \u001b[39m=\u001b[39m apply_func(\n\u001b[1;32m    178\u001b[0m     \u001b[39mlambda\u001b[39;49;00m x: \u001b[39mself\u001b[39;49m\u001b[39m.\u001b[39;49mfrom_img_path(\n\u001b[1;32m    179\u001b[0m         os\u001b[39m.\u001b[39;49mpath\u001b[39m.\u001b[39;49mjoin(img_path_prefix, x[STEREO_PIPELINE_NPZ_SAVE_PATH]),\n\u001b[1;32m    180\u001b[0m         \u001b[39m*\u001b[39;49m\u001b[39m*\u001b[39;49m\u001b[39mdict\u001b[39;49m(kwargs, series\u001b[39m=\u001b[39;49mx),\n\u001b[1;32m    181\u001b[0m     ),\n\u001b[1;32m    182\u001b[0m     axis\u001b[39m=\u001b[39;49m\u001b[39m1\u001b[39;49m,\n\u001b[1;32m    183\u001b[0m )\n\u001b[1;32m    184\u001b[0m \u001b[39mif\u001b[39;00m \u001b[39m\"\u001b[39m\u001b[39mimage_quality_label\u001b[39m\u001b[39m\"\u001b[39m \u001b[39min\u001b[39;00m df\u001b[39m.\u001b[39mcolumns \u001b[39mand\u001b[39;00m df\u001b[39m.\u001b[39mimage_quality_label\u001b[39m.\u001b[39misna()\u001b[39m.\u001b[39msum() \u001b[39m!=\u001b[39m \u001b[39mlen\u001b[39m(df):\n\u001b[1;32m    185\u001b[0m     \u001b[39mprint\u001b[39m(\u001b[39m\"\u001b[39m\u001b[39mreducing image quality labels\u001b[39m\u001b[39m\"\u001b[39m)\n",
      "File \u001b[0;32m~/miniconda3/envs/cvml/lib/python3.8/site-packages/pandarallel/core.py:333\u001b[0m, in \u001b[0;36mparallelize_with_memory_file_system.<locals>.closure\u001b[0;34m(data, user_defined_function, *user_defined_function_args, **user_defined_function_kwargs)\u001b[0m\n\u001b[1;32m    325\u001b[0m     \u001b[39mreturn\u001b[39;00m wrapped_reduce_function(\n\u001b[1;32m    326\u001b[0m         (Path(output_file\u001b[39m.\u001b[39mname) \u001b[39mfor\u001b[39;00m output_file \u001b[39min\u001b[39;00m output_files),\n\u001b[1;32m    327\u001b[0m         reduce_extra,\n\u001b[1;32m    328\u001b[0m     )\n\u001b[1;32m    329\u001b[0m \u001b[39mexcept\u001b[39;00m \u001b[39mEOFError\u001b[39;00m:\n\u001b[1;32m    330\u001b[0m     \u001b[39m# Loading the files failed, this most likely means that there\u001b[39;00m\n\u001b[1;32m    331\u001b[0m     \u001b[39m# was some error during processing and the files were never\u001b[39;00m\n\u001b[1;32m    332\u001b[0m     \u001b[39m# saved at all.\u001b[39;00m\n\u001b[0;32m--> 333\u001b[0m     results_promise\u001b[39m.\u001b[39;49mget()\n\u001b[1;32m    335\u001b[0m     \u001b[39m# If the above statement does not raise an exception, that\u001b[39;00m\n\u001b[1;32m    336\u001b[0m     \u001b[39m# means the multiprocessing went well and we want to re-raise\u001b[39;00m\n\u001b[1;32m    337\u001b[0m     \u001b[39m# the original EOFError.\u001b[39;00m\n\u001b[1;32m    338\u001b[0m     \u001b[39mraise\u001b[39;00m\n",
      "File \u001b[0;32m~/miniconda3/envs/cvml/lib/python3.8/multiprocessing/pool.py:768\u001b[0m, in \u001b[0;36mApplyResult.get\u001b[0;34m(self, timeout)\u001b[0m\n\u001b[1;32m    766\u001b[0m     \u001b[39mreturn\u001b[39;00m \u001b[39mself\u001b[39m\u001b[39m.\u001b[39m_value\n\u001b[1;32m    767\u001b[0m \u001b[39melse\u001b[39;00m:\n\u001b[0;32m--> 768\u001b[0m     \u001b[39mraise\u001b[39;00m \u001b[39mself\u001b[39m\u001b[39m.\u001b[39m_value\n",
      "\u001b[0;31mKeyError\u001b[0m: 'stereo_pipeline_npz_save_path'"
     ]
    }
   ],
   "source": [
    "labeled = iq.from_df(stereo_df, directory, use_progress=True)"
   ]
  },
  {
   "cell_type": "code",
   "execution_count": 7,
   "id": "e943e75a",
   "metadata": {},
   "outputs": [
    {
     "data": {
      "text/plain": [
       "smudge       1456\n",
       "bright        611\n",
       "dark          431\n",
       "good          360\n",
       "bad_depth       4\n",
       "Name: iq, dtype: int64"
      ]
     },
     "execution_count": 7,
     "metadata": {},
     "output_type": "execute_result"
    }
   ],
   "source": [
    "labeled['iq'] = labeled.image_quality.apply(lambda x: x.algorithm_output)\n",
    "labeled['iq_features'] = labeled.image_quality.apply(lambda x: x.algorithm_features)\n",
    "labeled['iq_features_total'] = labeled.iq_features.apply(lambda x: x['image_features']['total'])\n",
    "labeled['iq_features_low'] = labeled.iq_features.apply(lambda x: x['image_features']['low'])\n",
    "labeled['iq_features_mid'] = labeled.iq_features.apply(lambda x: x['image_features']['mid'])\n",
    "labeled['iq_features_high'] = labeled.iq_features.apply(lambda x: x['image_features']['high'])\n",
    "labeled['iq_features_depth_ratio'] = labeled.iq_features.apply(lambda x: x['image_features']['depth_ratio'])\n",
    "labeled['iq_features_smudge'] = labeled.iq_features.apply(lambda x: x['image_features']['smudge'])\n",
    "labeled['iq_features_smudge_reason'] = labeled.iq_features.apply(lambda x: x['image_features']['smudge_reason'])\n",
    "labeled['iq_process_time'] = labeled.image_quality.apply(lambda x: x.algorithm_process_time)\n",
    "\n",
    "if 'iq_ground_truth' in labeled:\n",
    "    labeled['binary_iq'] = labeled.iq.apply(lambda x: 'iq' if x != 'good' else 'non_iq')\n",
    "    labeled['binary_iq_ground_truth'] = labeled.iq_ground_truth.apply(lambda x: 'iq' if x != 'good' else 'non_iq')\n",
    "\n",
    "output_path = f'{save_path}/{dataset}'\n",
    "os.makedirs(output_path, exist_ok=True)\n",
    "labeled.to_csv(f'{output_path}/iq.csv')\n",
    "\n",
    "labeled.iq.value_counts()"
   ]
  },
  {
   "cell_type": "markdown",
   "id": "a03b45f8-e679-4577-989b-2941a1b77947",
   "metadata": {},
   "source": [
    "## Accuracy Metrics\n",
    "#### Valid only if ground-truth image_quality_labels exist"
   ]
  },
  {
   "cell_type": "code",
   "execution_count": 8,
   "id": "cb17ccee-b3b9-4b44-b50e-f68685018a59",
   "metadata": {},
   "outputs": [
    {
     "name": "stdout",
     "output_type": "stream",
     "text": [
      "smudge\tproperly-predicted:1452 \ttotal-images:1968\tacc:73.780%\n",
      "dark\tproperly-predicted: 298 \ttotal-images: 318\tacc:93.711%\n",
      "bright\tproperly-predicted: 555 \ttotal-images: 567\tacc:97.884%\n",
      "good\tproperly-predicted:   0 \ttotal-images:   9\tacc:0.000%\n",
      "overall\tproperly-predicted:2305 \ttotal-images:2862\tacc:80.538%\n",
      "IqNonIq\tproperly-predicted:2493 \ttotal-images:2862\tacc:87.107%\n"
     ]
    }
   ],
   "source": [
    "def accuracy(df, iq_type='overall'):\n",
    "    if iq_type!='overall':\n",
    "        sub_df = df[df.iq_ground_truth==iq_type]\n",
    "    else:\n",
    "        sub_df = df\n",
    "    valid = np.sum(sub_df.iq == sub_df.iq_ground_truth)\n",
    "    total = len(sub_df)\n",
    "    acc = valid/total if total != 0 else 0\n",
    "    print(f'{iq_type}\\tproperly-predicted:{valid:4d} \\ttotal-images:{total:4d}\\tacc:{100*acc:.3f}%')\n",
    "\n",
    "if 'iq_ground_truth' in labeled:\n",
    "    accuracy(labeled, 'smudge')  \n",
    "    accuracy(labeled, 'dark')  \n",
    "    accuracy(labeled, 'bright')  \n",
    "    accuracy(labeled, 'good') \n",
    "    accuracy(labeled, 'overall')\n",
    "    valid = np.sum(labeled.binary_iq == labeled.binary_iq_ground_truth)\n",
    "    total = len(labeled)\n",
    "    acc = valid/total\n",
    "    print(f'IqNonIq\\tproperly-predicted:{valid:4d} \\ttotal-images:{total:4d}\\tacc:{100*acc:.3f}%')"
   ]
  },
  {
   "cell_type": "markdown",
   "id": "ab007b5f-3d74-4747-8d56-09100c652d0c",
   "metadata": {},
   "source": [
    "## Combined scores -> Model FPs + Smudge/Bright/Dark + Dust(if available)"
   ]
  },
  {
   "cell_type": "code",
   "execution_count": null,
   "id": "2e6f0d90-80be-4e68-ac93-ada53735fe87",
   "metadata": {},
   "outputs": [],
   "source": [
    "# use the `output.csv after running model on the iq/relevant dataset\n",
    "model_inference_output = f'{default_loc}/Desktop/tmp/image_quality/iq_2022_v8_anno/v083_484_local_tonemap_nonocclu_debris_birds_s45_output.csv'\n",
    "df = pd.read_csv(model_inference_output)\n",
    "fps = df[df.state == 'false_positive']\n",
    "tns = df[df.state == 'true_negative']\n",
    "assert len(fps) + len(tns) == len(df), 'Model outputs can only be FPs or TNs for IQ dataset'\n",
    "print(f'Total fps {len(fps)}')"
   ]
  },
  {
   "cell_type": "code",
   "execution_count": null,
   "id": "0a5d0f61-5701-4076-b0d9-a661f1a94910",
   "metadata": {},
   "outputs": [],
   "source": [
    "# invalid labels. Add these to overall stops\n",
    "invalid_gt = tn_iq_stats[tn_iq_stats.image_quality_label.isna()].id"
   ]
  },
  {
   "cell_type": "code",
   "execution_count": null,
   "id": "10d0e755-9c8e-4b4a-8706-33950af14ed7",
   "metadata": {},
   "outputs": [],
   "source": [
    "tn_iq_stats = labeled[labeled.id.isin(tns.id)]\n",
    "bad_iq = np.sum(tn_iq_stats.binary_iq == tn_iq_stats.binary_iq_ground_truth) + len(invalid_gt)\n",
    "print(f'Bad-IQ(smudge/bright/dark) in remaining TNs {bad_iq}')\n",
    "accuracy(tn_iq_stats, 'overall')"
   ]
  },
  {
   "cell_type": "code",
   "execution_count": null,
   "id": "e98811d5-4b3c-46c4-ab6a-360a0c4139de",
   "metadata": {},
   "outputs": [],
   "source": [
    "total = len(fps)+bad_iq\n",
    "print(f'Model-FPs: {len(fps)}\\n'\n",
    "      f'Bad-IQ(smudge/bright/dark) in remaining TNs: {bad_iq}\\n'\n",
    "      f'Total {total} of {len(labeled)}\\n'\n",
    "      f'Percentage {total/len(labeled)*100:.4f}%')"
   ]
  }
 ],
 "metadata": {
  "kernelspec": {
   "display_name": "Python 3",
   "language": "python",
   "name": "python3"
  },
  "language_info": {
   "codemirror_mode": {
    "name": "ipython",
    "version": 3
   },
   "file_extension": ".py",
   "mimetype": "text/x-python",
   "name": "python",
   "nbconvert_exporter": "python",
   "pygments_lexer": "ipython3",
   "version": "3.8.0"
  }
 },
 "nbformat": 4,
 "nbformat_minor": 5
}
