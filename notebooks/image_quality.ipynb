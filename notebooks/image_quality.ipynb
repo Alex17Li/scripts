{
 "cells": [
  {
   "cell_type": "markdown",
   "id": "9eb2b7b9",
   "metadata": {},
   "source": [
    "# Imports"
   ]
  },
  {
   "cell_type": "code",
   "execution_count": 12,
   "id": "5fcd5113-66b6-467f-9ab6-f8c10736beca",
   "metadata": {},
   "outputs": [],
   "source": [
    "# Please update the default location as you deem fit\n",
    "cvml_path = '/home/alex.li/git/JupiterCVML/europa/base/src/europa'"
   ]
  },
  {
   "cell_type": "code",
   "execution_count": 13,
   "id": "3055e6f2",
   "metadata": {},
   "outputs": [],
   "source": [
    "import json\n",
    "import os\n",
    "import multiprocessing as mp\n",
    "\n",
    "import numpy as np\n",
    "import pandas as pd\n",
    "\n",
    "from cv.core.image_quality_server_side import ImageQuality\n",
    "from dl.utils.config import DEFAULT_TONEMAP_PARAMS"
   ]
  },
  {
   "cell_type": "markdown",
   "id": "440a569c-36b2-4ce4-975a-1ae3c89901db",
   "metadata": {},
   "source": [
    "## Datasets"
   ]
  },
  {
   "cell_type": "code",
   "execution_count": 16,
   "id": "e0f7257e-cdff-410d-93c0-c723c49162f4",
   "metadata": {},
   "outputs": [],
   "source": [
    "directory = ['/data2/jupiter/datasets/20231017_halo_rgb_labeled_excluded_bad_iq', '/data/jupiter/datasets/iq_2023_v5_anno'][1]\n",
    "save_path='/mnt/alex.li/sandbox1/iq_results'\n",
    "\n",
    "side_left_tire_mask = f'{cvml_path}/cv/core/tire_masks/side_left_iq_mask.png'\n",
    "side_right_tire_mask = f'{cvml_path}/cv/core/tire_masks/side_right_iq_mask.png'"
   ]
  },
  {
   "cell_type": "markdown",
   "id": "d3dc40db",
   "metadata": {},
   "source": [
    "# Prediction from JupiterCVML repo"
   ]
  },
  {
   "cell_type": "code",
   "execution_count": 18,
   "id": "7e6fc15e",
   "metadata": {},
   "outputs": [
    {
     "name": "stdout",
     "output_type": "stream",
     "text": [
      "/data2/jupiter/datasets/20231017_halo_rgb_labeled_excluded_bad_iq\n"
     ]
    },
    {
     "ename": "FileNotFoundError",
     "evalue": "[Errno 2] No such file or directory: '/data2/jupiter/datasets/20231017_halo_rgb_labeled_excluded_bad_iq/annotations.csv'",
     "output_type": "error",
     "traceback": [
      "\u001b[0;31m---------------------------------------------------------------------------\u001b[0m",
      "\u001b[0;31mFileNotFoundError\u001b[0m                         Traceback (most recent call last)",
      "\u001b[1;32m/home/alex.li/git/scripts/notebooks/image_quality.ipynb Cell 7\u001b[0m line \u001b[0;36m1\n\u001b[1;32m      <a href='vscode-notebook-cell://ssh-remote%2Bharvest/home/alex.li/git/scripts/notebooks/image_quality.ipynb#W6sdnNjb2RlLXJlbW90ZQ%3D%3D?line=7'>8</a>\u001b[0m \u001b[39mprint\u001b[39m(directory)\n\u001b[1;32m      <a href='vscode-notebook-cell://ssh-remote%2Bharvest/home/alex.li/git/scripts/notebooks/image_quality.ipynb#W6sdnNjb2RlLXJlbW90ZQ%3D%3D?line=8'>9</a>\u001b[0m \u001b[39m# stereo_df = pd.read_csv(os.path.join(directory, 'master_annotation_with_histogram.csv'), low_memory=False)\u001b[39;00m\n\u001b[0;32m---> <a href='vscode-notebook-cell://ssh-remote%2Bharvest/home/alex.li/git/scripts/notebooks/image_quality.ipynb#W6sdnNjb2RlLXJlbW90ZQ%3D%3D?line=9'>10</a>\u001b[0m stereo_df \u001b[39m=\u001b[39m pd\u001b[39m.\u001b[39;49mread_csv(os\u001b[39m.\u001b[39;49mpath\u001b[39m.\u001b[39;49mjoin(directory, \u001b[39m'\u001b[39;49m\u001b[39mannotations.csv\u001b[39;49m\u001b[39m'\u001b[39;49m), low_memory\u001b[39m=\u001b[39;49m\u001b[39mFalse\u001b[39;49;00m)\n",
      "File \u001b[0;32m~/miniconda3/envs/cvml/lib/python3.8/site-packages/pandas/util/_decorators.py:311\u001b[0m, in \u001b[0;36mdeprecate_nonkeyword_arguments.<locals>.decorate.<locals>.wrapper\u001b[0;34m(*args, **kwargs)\u001b[0m\n\u001b[1;32m    305\u001b[0m \u001b[39mif\u001b[39;00m \u001b[39mlen\u001b[39m(args) \u001b[39m>\u001b[39m num_allow_args:\n\u001b[1;32m    306\u001b[0m     warnings\u001b[39m.\u001b[39mwarn(\n\u001b[1;32m    307\u001b[0m         msg\u001b[39m.\u001b[39mformat(arguments\u001b[39m=\u001b[39marguments),\n\u001b[1;32m    308\u001b[0m         \u001b[39mFutureWarning\u001b[39;00m,\n\u001b[1;32m    309\u001b[0m         stacklevel\u001b[39m=\u001b[39mstacklevel,\n\u001b[1;32m    310\u001b[0m     )\n\u001b[0;32m--> 311\u001b[0m \u001b[39mreturn\u001b[39;00m func(\u001b[39m*\u001b[39;49margs, \u001b[39m*\u001b[39;49m\u001b[39m*\u001b[39;49mkwargs)\n",
      "File \u001b[0;32m~/miniconda3/envs/cvml/lib/python3.8/site-packages/pandas/io/parsers/readers.py:586\u001b[0m, in \u001b[0;36mread_csv\u001b[0;34m(filepath_or_buffer, sep, delimiter, header, names, index_col, usecols, squeeze, prefix, mangle_dupe_cols, dtype, engine, converters, true_values, false_values, skipinitialspace, skiprows, skipfooter, nrows, na_values, keep_default_na, na_filter, verbose, skip_blank_lines, parse_dates, infer_datetime_format, keep_date_col, date_parser, dayfirst, cache_dates, iterator, chunksize, compression, thousands, decimal, lineterminator, quotechar, quoting, doublequote, escapechar, comment, encoding, encoding_errors, dialect, error_bad_lines, warn_bad_lines, on_bad_lines, delim_whitespace, low_memory, memory_map, float_precision, storage_options)\u001b[0m\n\u001b[1;32m    571\u001b[0m kwds_defaults \u001b[39m=\u001b[39m _refine_defaults_read(\n\u001b[1;32m    572\u001b[0m     dialect,\n\u001b[1;32m    573\u001b[0m     delimiter,\n\u001b[0;32m   (...)\u001b[0m\n\u001b[1;32m    582\u001b[0m     defaults\u001b[39m=\u001b[39m{\u001b[39m\"\u001b[39m\u001b[39mdelimiter\u001b[39m\u001b[39m\"\u001b[39m: \u001b[39m\"\u001b[39m\u001b[39m,\u001b[39m\u001b[39m\"\u001b[39m},\n\u001b[1;32m    583\u001b[0m )\n\u001b[1;32m    584\u001b[0m kwds\u001b[39m.\u001b[39mupdate(kwds_defaults)\n\u001b[0;32m--> 586\u001b[0m \u001b[39mreturn\u001b[39;00m _read(filepath_or_buffer, kwds)\n",
      "File \u001b[0;32m~/miniconda3/envs/cvml/lib/python3.8/site-packages/pandas/io/parsers/readers.py:482\u001b[0m, in \u001b[0;36m_read\u001b[0;34m(filepath_or_buffer, kwds)\u001b[0m\n\u001b[1;32m    479\u001b[0m _validate_names(kwds\u001b[39m.\u001b[39mget(\u001b[39m\"\u001b[39m\u001b[39mnames\u001b[39m\u001b[39m\"\u001b[39m, \u001b[39mNone\u001b[39;00m))\n\u001b[1;32m    481\u001b[0m \u001b[39m# Create the parser.\u001b[39;00m\n\u001b[0;32m--> 482\u001b[0m parser \u001b[39m=\u001b[39m TextFileReader(filepath_or_buffer, \u001b[39m*\u001b[39;49m\u001b[39m*\u001b[39;49mkwds)\n\u001b[1;32m    484\u001b[0m \u001b[39mif\u001b[39;00m chunksize \u001b[39mor\u001b[39;00m iterator:\n\u001b[1;32m    485\u001b[0m     \u001b[39mreturn\u001b[39;00m parser\n",
      "File \u001b[0;32m~/miniconda3/envs/cvml/lib/python3.8/site-packages/pandas/io/parsers/readers.py:811\u001b[0m, in \u001b[0;36mTextFileReader.__init__\u001b[0;34m(self, f, engine, **kwds)\u001b[0m\n\u001b[1;32m    808\u001b[0m \u001b[39mif\u001b[39;00m \u001b[39m\"\u001b[39m\u001b[39mhas_index_names\u001b[39m\u001b[39m\"\u001b[39m \u001b[39min\u001b[39;00m kwds:\n\u001b[1;32m    809\u001b[0m     \u001b[39mself\u001b[39m\u001b[39m.\u001b[39moptions[\u001b[39m\"\u001b[39m\u001b[39mhas_index_names\u001b[39m\u001b[39m\"\u001b[39m] \u001b[39m=\u001b[39m kwds[\u001b[39m\"\u001b[39m\u001b[39mhas_index_names\u001b[39m\u001b[39m\"\u001b[39m]\n\u001b[0;32m--> 811\u001b[0m \u001b[39mself\u001b[39m\u001b[39m.\u001b[39m_engine \u001b[39m=\u001b[39m \u001b[39mself\u001b[39;49m\u001b[39m.\u001b[39;49m_make_engine(\u001b[39mself\u001b[39;49m\u001b[39m.\u001b[39;49mengine)\n",
      "File \u001b[0;32m~/miniconda3/envs/cvml/lib/python3.8/site-packages/pandas/io/parsers/readers.py:1040\u001b[0m, in \u001b[0;36mTextFileReader._make_engine\u001b[0;34m(self, engine)\u001b[0m\n\u001b[1;32m   1036\u001b[0m     \u001b[39mraise\u001b[39;00m \u001b[39mValueError\u001b[39;00m(\n\u001b[1;32m   1037\u001b[0m         \u001b[39mf\u001b[39m\u001b[39m\"\u001b[39m\u001b[39mUnknown engine: \u001b[39m\u001b[39m{\u001b[39;00mengine\u001b[39m}\u001b[39;00m\u001b[39m (valid options are \u001b[39m\u001b[39m{\u001b[39;00mmapping\u001b[39m.\u001b[39mkeys()\u001b[39m}\u001b[39;00m\u001b[39m)\u001b[39m\u001b[39m\"\u001b[39m\n\u001b[1;32m   1038\u001b[0m     )\n\u001b[1;32m   1039\u001b[0m \u001b[39m# error: Too many arguments for \"ParserBase\"\u001b[39;00m\n\u001b[0;32m-> 1040\u001b[0m \u001b[39mreturn\u001b[39;00m mapping[engine](\u001b[39mself\u001b[39;49m\u001b[39m.\u001b[39;49mf, \u001b[39m*\u001b[39;49m\u001b[39m*\u001b[39;49m\u001b[39mself\u001b[39;49m\u001b[39m.\u001b[39;49moptions)\n",
      "File \u001b[0;32m~/miniconda3/envs/cvml/lib/python3.8/site-packages/pandas/io/parsers/c_parser_wrapper.py:51\u001b[0m, in \u001b[0;36mCParserWrapper.__init__\u001b[0;34m(self, src, **kwds)\u001b[0m\n\u001b[1;32m     48\u001b[0m kwds[\u001b[39m\"\u001b[39m\u001b[39musecols\u001b[39m\u001b[39m\"\u001b[39m] \u001b[39m=\u001b[39m \u001b[39mself\u001b[39m\u001b[39m.\u001b[39musecols\n\u001b[1;32m     50\u001b[0m \u001b[39m# open handles\u001b[39;00m\n\u001b[0;32m---> 51\u001b[0m \u001b[39mself\u001b[39;49m\u001b[39m.\u001b[39;49m_open_handles(src, kwds)\n\u001b[1;32m     52\u001b[0m \u001b[39massert\u001b[39;00m \u001b[39mself\u001b[39m\u001b[39m.\u001b[39mhandles \u001b[39mis\u001b[39;00m \u001b[39mnot\u001b[39;00m \u001b[39mNone\u001b[39;00m\n\u001b[1;32m     54\u001b[0m \u001b[39m# Have to pass int, would break tests using TextReader directly otherwise :(\u001b[39;00m\n",
      "File \u001b[0;32m~/miniconda3/envs/cvml/lib/python3.8/site-packages/pandas/io/parsers/base_parser.py:222\u001b[0m, in \u001b[0;36mParserBase._open_handles\u001b[0;34m(self, src, kwds)\u001b[0m\n\u001b[1;32m    218\u001b[0m \u001b[39mdef\u001b[39;00m \u001b[39m_open_handles\u001b[39m(\u001b[39mself\u001b[39m, src: FilePathOrBuffer, kwds: \u001b[39mdict\u001b[39m[\u001b[39mstr\u001b[39m, Any]) \u001b[39m-\u001b[39m\u001b[39m>\u001b[39m \u001b[39mNone\u001b[39;00m:\n\u001b[1;32m    219\u001b[0m \u001b[39m    \u001b[39m\u001b[39m\"\"\"\u001b[39;00m\n\u001b[1;32m    220\u001b[0m \u001b[39m    Let the readers open IOHandles after they are done with their potential raises.\u001b[39;00m\n\u001b[1;32m    221\u001b[0m \u001b[39m    \"\"\"\u001b[39;00m\n\u001b[0;32m--> 222\u001b[0m     \u001b[39mself\u001b[39m\u001b[39m.\u001b[39mhandles \u001b[39m=\u001b[39m get_handle(\n\u001b[1;32m    223\u001b[0m         src,\n\u001b[1;32m    224\u001b[0m         \u001b[39m\"\u001b[39;49m\u001b[39mr\u001b[39;49m\u001b[39m\"\u001b[39;49m,\n\u001b[1;32m    225\u001b[0m         encoding\u001b[39m=\u001b[39;49mkwds\u001b[39m.\u001b[39;49mget(\u001b[39m\"\u001b[39;49m\u001b[39mencoding\u001b[39;49m\u001b[39m\"\u001b[39;49m, \u001b[39mNone\u001b[39;49;00m),\n\u001b[1;32m    226\u001b[0m         compression\u001b[39m=\u001b[39;49mkwds\u001b[39m.\u001b[39;49mget(\u001b[39m\"\u001b[39;49m\u001b[39mcompression\u001b[39;49m\u001b[39m\"\u001b[39;49m, \u001b[39mNone\u001b[39;49;00m),\n\u001b[1;32m    227\u001b[0m         memory_map\u001b[39m=\u001b[39;49mkwds\u001b[39m.\u001b[39;49mget(\u001b[39m\"\u001b[39;49m\u001b[39mmemory_map\u001b[39;49m\u001b[39m\"\u001b[39;49m, \u001b[39mFalse\u001b[39;49;00m),\n\u001b[1;32m    228\u001b[0m         storage_options\u001b[39m=\u001b[39;49mkwds\u001b[39m.\u001b[39;49mget(\u001b[39m\"\u001b[39;49m\u001b[39mstorage_options\u001b[39;49m\u001b[39m\"\u001b[39;49m, \u001b[39mNone\u001b[39;49;00m),\n\u001b[1;32m    229\u001b[0m         errors\u001b[39m=\u001b[39;49mkwds\u001b[39m.\u001b[39;49mget(\u001b[39m\"\u001b[39;49m\u001b[39mencoding_errors\u001b[39;49m\u001b[39m\"\u001b[39;49m, \u001b[39m\"\u001b[39;49m\u001b[39mstrict\u001b[39;49m\u001b[39m\"\u001b[39;49m),\n\u001b[1;32m    230\u001b[0m     )\n",
      "File \u001b[0;32m~/miniconda3/envs/cvml/lib/python3.8/site-packages/pandas/io/common.py:702\u001b[0m, in \u001b[0;36mget_handle\u001b[0;34m(path_or_buf, mode, encoding, compression, memory_map, is_text, errors, storage_options)\u001b[0m\n\u001b[1;32m    697\u001b[0m \u001b[39melif\u001b[39;00m \u001b[39misinstance\u001b[39m(handle, \u001b[39mstr\u001b[39m):\n\u001b[1;32m    698\u001b[0m     \u001b[39m# Check whether the filename is to be opened in binary mode.\u001b[39;00m\n\u001b[1;32m    699\u001b[0m     \u001b[39m# Binary mode does not support 'encoding' and 'newline'.\u001b[39;00m\n\u001b[1;32m    700\u001b[0m     \u001b[39mif\u001b[39;00m ioargs\u001b[39m.\u001b[39mencoding \u001b[39mand\u001b[39;00m \u001b[39m\"\u001b[39m\u001b[39mb\u001b[39m\u001b[39m\"\u001b[39m \u001b[39mnot\u001b[39;00m \u001b[39min\u001b[39;00m ioargs\u001b[39m.\u001b[39mmode:\n\u001b[1;32m    701\u001b[0m         \u001b[39m# Encoding\u001b[39;00m\n\u001b[0;32m--> 702\u001b[0m         handle \u001b[39m=\u001b[39m \u001b[39mopen\u001b[39;49m(\n\u001b[1;32m    703\u001b[0m             handle,\n\u001b[1;32m    704\u001b[0m             ioargs\u001b[39m.\u001b[39;49mmode,\n\u001b[1;32m    705\u001b[0m             encoding\u001b[39m=\u001b[39;49mioargs\u001b[39m.\u001b[39;49mencoding,\n\u001b[1;32m    706\u001b[0m             errors\u001b[39m=\u001b[39;49merrors,\n\u001b[1;32m    707\u001b[0m             newline\u001b[39m=\u001b[39;49m\u001b[39m\"\u001b[39;49m\u001b[39m\"\u001b[39;49m,\n\u001b[1;32m    708\u001b[0m         )\n\u001b[1;32m    709\u001b[0m     \u001b[39melse\u001b[39;00m:\n\u001b[1;32m    710\u001b[0m         \u001b[39m# Binary mode\u001b[39;00m\n\u001b[1;32m    711\u001b[0m         handle \u001b[39m=\u001b[39m \u001b[39mopen\u001b[39m(handle, ioargs\u001b[39m.\u001b[39mmode)\n",
      "\u001b[0;31mFileNotFoundError\u001b[0m: [Errno 2] No such file or directory: '/data2/jupiter/datasets/20231017_halo_rgb_labeled_excluded_bad_iq/annotations.csv'"
     ]
    }
   ],
   "source": [
    "iq = ImageQuality(num_workers=mp.cpu_count(),\n",
    "                  use_progress=True,\n",
    "                  side_left_tire_mask_path = side_left_tire_mask,\n",
    "                  side_right_tire_mask_path = side_right_tire_mask,\n",
    "                  normalization_params=DEFAULT_TONEMAP_PARAMS,\n",
    "                  dataset=dataset,\n",
    "                  save_path=save_path)\n",
    "print(directory)\n",
    "# stereo_df = pd.read_csv(os.path.join(directory, 'master_annotation_with_histogram.csv'), low_memory=False)\n",
    "stereo_df = pd.read_csv(os.path.join(directory, 'annotations.csv'), low_memory=False)"
   ]
  },
  {
   "cell_type": "code",
   "execution_count": 6,
   "id": "40a281c4-5f12-4bfa-be14-6a952c1df8db",
   "metadata": {},
   "outputs": [
    {
     "data": {
      "application/vnd.jupyter.widget-view+json": {
       "model_id": "d7277caaeec5487d8a3d1641dca5c2d8",
       "version_major": 2,
       "version_minor": 0
      },
      "text/plain": [
       "VBox(children=(HBox(children=(IntProgress(value=0, description='0.00%', max=80), Label(value='0 / 80'))), HBox…"
      ]
     },
     "metadata": {},
     "output_type": "display_data"
    },
    {
     "name": "stdout",
     "output_type": "stream",
     "text": [
      "reducing image quality labels\n"
     ]
    },
    {
     "data": {
      "application/vnd.jupyter.widget-view+json": {
       "model_id": "c7903c23d87d48a5ad768ffcca9299e5",
       "version_major": 2,
       "version_minor": 0
      },
      "text/plain": [
       "VBox(children=(HBox(children=(IntProgress(value=0, description='0.00%', max=80), Label(value='0 / 80'))), HBox…"
      ]
     },
     "metadata": {},
     "output_type": "display_data"
    }
   ],
   "source": [
    "labeled = iq.from_df(stereo_df, directory, use_progress=True)"
   ]
  },
  {
   "cell_type": "code",
   "execution_count": 7,
   "id": "e943e75a",
   "metadata": {},
   "outputs": [
    {
     "data": {
      "text/plain": [
       "smudge       1456\n",
       "bright        611\n",
       "dark          431\n",
       "good          360\n",
       "bad_depth       4\n",
       "Name: iq, dtype: int64"
      ]
     },
     "execution_count": 7,
     "metadata": {},
     "output_type": "execute_result"
    }
   ],
   "source": [
    "labeled['iq'] = labeled.image_quality.apply(lambda x: x.algorithm_output)\n",
    "labeled['iq_features'] = labeled.image_quality.apply(lambda x: x.algorithm_features)\n",
    "labeled['iq_features_total'] = labeled.iq_features.apply(lambda x: x['image_features']['total'])\n",
    "labeled['iq_features_low'] = labeled.iq_features.apply(lambda x: x['image_features']['low'])\n",
    "labeled['iq_features_mid'] = labeled.iq_features.apply(lambda x: x['image_features']['mid'])\n",
    "labeled['iq_features_high'] = labeled.iq_features.apply(lambda x: x['image_features']['high'])\n",
    "labeled['iq_features_depth_ratio'] = labeled.iq_features.apply(lambda x: x['image_features']['depth_ratio'])\n",
    "labeled['iq_features_smudge'] = labeled.iq_features.apply(lambda x: x['image_features']['smudge'])\n",
    "labeled['iq_features_smudge_reason'] = labeled.iq_features.apply(lambda x: x['image_features']['smudge_reason'])\n",
    "labeled['iq_process_time'] = labeled.image_quality.apply(lambda x: x.algorithm_process_time)\n",
    "\n",
    "if 'iq_ground_truth' in labeled:\n",
    "    labeled['binary_iq'] = labeled.iq.apply(lambda x: 'iq' if x != 'good' else 'non_iq')\n",
    "    labeled['binary_iq_ground_truth'] = labeled.iq_ground_truth.apply(lambda x: 'iq' if x != 'good' else 'non_iq')\n",
    "\n",
    "output_path = f'{save_path}/{dataset}'\n",
    "os.makedirs(output_path, exist_ok=True)\n",
    "labeled.to_csv(f'{output_path}/iq.csv')\n",
    "\n",
    "labeled.iq.value_counts()"
   ]
  },
  {
   "cell_type": "markdown",
   "id": "a03b45f8-e679-4577-989b-2941a1b77947",
   "metadata": {},
   "source": [
    "## Accuracy Metrics\n",
    "#### Valid only if ground-truth image_quality_labels exist"
   ]
  },
  {
   "cell_type": "code",
   "execution_count": 8,
   "id": "cb17ccee-b3b9-4b44-b50e-f68685018a59",
   "metadata": {},
   "outputs": [
    {
     "name": "stdout",
     "output_type": "stream",
     "text": [
      "smudge\tproperly-predicted:1452 \ttotal-images:1968\tacc:73.780%\n",
      "dark\tproperly-predicted: 298 \ttotal-images: 318\tacc:93.711%\n",
      "bright\tproperly-predicted: 555 \ttotal-images: 567\tacc:97.884%\n",
      "good\tproperly-predicted:   0 \ttotal-images:   9\tacc:0.000%\n",
      "overall\tproperly-predicted:2305 \ttotal-images:2862\tacc:80.538%\n",
      "IqNonIq\tproperly-predicted:2493 \ttotal-images:2862\tacc:87.107%\n"
     ]
    }
   ],
   "source": [
    "def accuracy(df, iq_type='overall'):\n",
    "    if iq_type!='overall':\n",
    "        sub_df = df[df.iq_ground_truth==iq_type]\n",
    "    else:\n",
    "        sub_df = df\n",
    "    valid = np.sum(sub_df.iq == sub_df.iq_ground_truth)\n",
    "    total = len(sub_df)\n",
    "    acc = valid/total if total != 0 else 0\n",
    "    print(f'{iq_type}\\tproperly-predicted:{valid:4d} \\ttotal-images:{total:4d}\\tacc:{100*acc:.3f}%')\n",
    "\n",
    "if 'iq_ground_truth' in labeled:\n",
    "    accuracy(labeled, 'smudge')  \n",
    "    accuracy(labeled, 'dark')  \n",
    "    accuracy(labeled, 'bright')  \n",
    "    accuracy(labeled, 'good') \n",
    "    accuracy(labeled, 'overall')\n",
    "    valid = np.sum(labeled.binary_iq == labeled.binary_iq_ground_truth)\n",
    "    total = len(labeled)\n",
    "    acc = valid/total\n",
    "    print(f'IqNonIq\\tproperly-predicted:{valid:4d} \\ttotal-images:{total:4d}\\tacc:{100*acc:.3f}%')"
   ]
  },
  {
   "cell_type": "markdown",
   "id": "ab007b5f-3d74-4747-8d56-09100c652d0c",
   "metadata": {},
   "source": [
    "## Combined scores -> Model FPs + Smudge/Bright/Dark + Dust(if available)"
   ]
  },
  {
   "cell_type": "code",
   "execution_count": null,
   "id": "2e6f0d90-80be-4e68-ac93-ada53735fe87",
   "metadata": {},
   "outputs": [],
   "source": [
    "# use the `output.csv after running model on the iq/relevant dataset\n",
    "model_inference_output = f'{default_loc}/Desktop/tmp/image_quality/iq_2022_v8_anno/v083_484_local_tonemap_nonocclu_debris_birds_s45_output.csv'\n",
    "df = pd.read_csv(model_inference_output)\n",
    "fps = df[df.state == 'false_positive']\n",
    "tns = df[df.state == 'true_negative']\n",
    "assert len(fps) + len(tns) == len(df), 'Model outputs can only be FPs or TNs for IQ dataset'\n",
    "print(f'Total fps {len(fps)}')"
   ]
  },
  {
   "cell_type": "code",
   "execution_count": null,
   "id": "0a5d0f61-5701-4076-b0d9-a661f1a94910",
   "metadata": {},
   "outputs": [],
   "source": [
    "# invalid labels. Add these to overall stops\n",
    "invalid_gt = tn_iq_stats[tn_iq_stats.image_quality_label.isna()].id"
   ]
  },
  {
   "cell_type": "code",
   "execution_count": null,
   "id": "10d0e755-9c8e-4b4a-8706-33950af14ed7",
   "metadata": {},
   "outputs": [],
   "source": [
    "tn_iq_stats = labeled[labeled.id.isin(tns.id)]\n",
    "bad_iq = np.sum(tn_iq_stats.binary_iq == tn_iq_stats.binary_iq_ground_truth) + len(invalid_gt)\n",
    "print(f'Bad-IQ(smudge/bright/dark) in remaining TNs {bad_iq}')\n",
    "accuracy(tn_iq_stats, 'overall')"
   ]
  },
  {
   "cell_type": "code",
   "execution_count": null,
   "id": "e98811d5-4b3c-46c4-ab6a-360a0c4139de",
   "metadata": {},
   "outputs": [],
   "source": [
    "total = len(fps)+bad_iq\n",
    "print(f'Model-FPs: {len(fps)}\\n'\n",
    "      f'Bad-IQ(smudge/bright/dark) in remaining TNs: {bad_iq}\\n'\n",
    "      f'Total {total} of {len(labeled)}\\n'\n",
    "      f'Percentage {total/len(labeled)*100:.4f}%')"
   ]
  }
 ],
 "metadata": {
  "kernelspec": {
   "display_name": "Python 3",
   "language": "python",
   "name": "python3"
  },
  "language_info": {
   "codemirror_mode": {
    "name": "ipython",
    "version": 3
   },
   "file_extension": ".py",
   "mimetype": "text/x-python",
   "name": "python",
   "nbconvert_exporter": "python",
   "pygments_lexer": "ipython3",
   "version": "3.8.0"
  }
 },
 "nbformat": 4,
 "nbformat_minor": 5
}
