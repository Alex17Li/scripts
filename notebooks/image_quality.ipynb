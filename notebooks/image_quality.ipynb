{
 "cells": [
  {
   "cell_type": "markdown",
   "id": "9eb2b7b9",
   "metadata": {},
   "source": [
    "# Imports"
   ]
  },
  {
   "cell_type": "code",
   "execution_count": 1,
   "id": "5fcd5113-66b6-467f-9ab6-f8c10736beca",
   "metadata": {},
   "outputs": [],
   "source": [
    "# Please update the default location as you deem fit\n",
    "cvml_path = '/home/alex.li/git/JupiterCVML/europa/base/src/europa'"
   ]
  },
  {
   "cell_type": "code",
   "execution_count": 2,
   "id": "3055e6f2",
   "metadata": {},
   "outputs": [],
   "source": [
    "import json\n",
    "import os\n",
    "import multiprocessing as mp\n",
    "\n",
    "import numpy as np\n",
    "import pandas as pd\n",
    "\n",
    "from cv.core.image_quality_server_side import ImageQuality\n",
    "from dl.utils.config import DEFAULT_TONEMAP_PARAMS"
   ]
  },
  {
   "cell_type": "markdown",
   "id": "440a569c-36b2-4ce4-975a-1ae3c89901db",
   "metadata": {},
   "source": [
    "## Datasets"
   ]
  },
  {
   "cell_type": "code",
   "execution_count": 3,
   "id": "e0f7257e-cdff-410d-93c0-c723c49162f4",
   "metadata": {},
   "outputs": [],
   "source": [
    "dataset_idx = 0\n",
    "directory = ['/data2/jupiter/datasets/20231017_halo_rgb_labeled_excluded_bad_iq', '/data/jupiter/datasets/iq_2023_v5_anno'][dataset_idx]\n",
    "csv_name = ['653a7a0a3c2d8ab221f6d915_master_annotations.csv','64dfcc1de5a41169c7deb205_master_annotations.csv'][dataset_idx]\n",
    "\n",
    "dset_name = directory.split('/')[-1]\n",
    "save_path='/mnt/sandbox1/alex.li/iq_results'\n",
    "\n",
    "side_left_tire_mask = f'{cvml_path}/cv/core/tire_masks/side_left_iq_mask.png'\n",
    "side_right_tire_mask = f'{cvml_path}/cv/core/tire_masks/side_right_iq_mask.png'"
   ]
  },
  {
   "cell_type": "markdown",
   "id": "d3dc40db",
   "metadata": {},
   "source": [
    "# Prediction from JupiterCVML repo"
   ]
  },
  {
   "cell_type": "code",
   "execution_count": 4,
   "id": "7e6fc15e",
   "metadata": {},
   "outputs": [
    {
     "name": "stdout",
     "output_type": "stream",
     "text": [
      "/data2/jupiter/datasets/20231017_halo_rgb_labeled_excluded_bad_iq\n"
     ]
    }
   ],
   "source": [
    "iq = ImageQuality(num_workers=mp.cpu_count() // 2,\n",
    "                  use_progress=True,\n",
    "                  side_left_tire_mask_path = side_left_tire_mask,\n",
    "                  side_right_tire_mask_path = side_right_tire_mask,\n",
    "                  normalization_params=DEFAULT_TONEMAP_PARAMS,\n",
    "                  dataset=dset_name,\n",
    "                  save_path=save_path)\n",
    "print(directory)\n",
    "# stereo_df = pd.read_csv(os.path.join(directory, 'master_annotation_with_histogram.csv'), low_memory=False)\n",
    "stereo_df = pd.read_csv(os.path.join(directory, csv_name), low_memory=False)"
   ]
  },
  {
   "cell_type": "code",
   "execution_count": 5,
   "id": "f60d3eda",
   "metadata": {},
   "outputs": [],
   "source": [
    "stereo_df = stereo_df.drop_duplicates(['id'])"
   ]
  },
  {
   "cell_type": "code",
   "execution_count": 6,
   "id": "ec8f9108",
   "metadata": {},
   "outputs": [
    {
     "name": "stdout",
     "output_type": "stream",
     "text": [
      "I02,392\n",
      "I01,338\n",
      "T14,35\n",
      "T10,31\n",
      "T05,18\n",
      "T09,13\n",
      "T13,9\n",
      "T02,6\n",
      "T06,6\n"
     ]
    }
   ],
   "source": [
    "out = pd.value_counts(stereo_df['camera_location'])\n",
    "for i, v in zip(out.index, out.values):\n",
    "    print(f\"{i},{v}\")"
   ]
  },
  {
   "cell_type": "code",
   "execution_count": 7,
   "id": "40a281c4-5f12-4bfa-be14-6a952c1df8db",
   "metadata": {},
   "outputs": [
    {
     "data": {
      "application/vnd.jupyter.widget-view+json": {
       "model_id": "56da1c2ec22f4f628df0ac8eec4ba868",
       "version_major": 2,
       "version_minor": 0
      },
      "text/plain": [
       "VBox(children=(HBox(children=(IntProgress(value=0, description='0.00%', max=27), Label(value='0 / 27'))), HBox…"
      ]
     },
     "metadata": {},
     "output_type": "display_data"
    }
   ],
   "source": [
    "labeled = iq.from_df(stereo_df, directory, use_progress=True)"
   ]
  },
  {
   "cell_type": "code",
   "execution_count": 9,
   "id": "e943e75a",
   "metadata": {},
   "outputs": [
    {
     "data": {
      "text/plain": [
       "smudge       403\n",
       "bad_depth    354\n",
       "good          87\n",
       "dark           4\n",
       "Name: iq, dtype: int64"
      ]
     },
     "execution_count": 9,
     "metadata": {},
     "output_type": "execute_result"
    }
   ],
   "source": [
    "labeled['iq'] = labeled.image_quality.apply(lambda x: x.algorithm_output)\n",
    "labeled['iq_features'] = labeled.image_quality.apply(lambda x: x.algorithm_features)\n",
    "labeled['iq_features_total'] = labeled.iq_features.apply(lambda x: x['image_features']['total'])\n",
    "labeled['iq_features_low'] = labeled.iq_features.apply(lambda x: x['image_features']['low'])\n",
    "labeled['iq_features_mid'] = labeled.iq_features.apply(lambda x: x['image_features']['mid'])\n",
    "labeled['iq_features_high'] = labeled.iq_features.apply(lambda x: x['image_features']['high'])\n",
    "labeled['iq_features_depth_ratio'] = labeled.iq_features.apply(lambda x: x['image_features']['depth_ratio'])\n",
    "labeled['iq_features_smudge'] = labeled.iq_features.apply(lambda x: x['image_features']['smudge'])\n",
    "labeled['iq_features_smudge_reason'] = labeled.iq_features.apply(lambda x: x['image_features']['smudge_reason'])\n",
    "labeled['iq_process_time'] = labeled.image_quality.apply(lambda x: x.algorithm_process_time)\n",
    "\n",
    "if 'iq_ground_truth' in labeled:\n",
    "    labeled['binary_iq'] = labeled.iq.apply(lambda x: 'iq' if x != 'good' else 'non_iq')\n",
    "    labeled['binary_iq_ground_truth'] = labeled.iq_ground_truth.apply(lambda x: 'iq' if x != 'good' else 'non_iq')\n",
    "\n",
    "output_path = f'{save_path}/{dset_name}'\n",
    "os.makedirs(output_path, exist_ok=True)\n",
    "labeled.to_csv(f'{output_path}/iq.csv')\n",
    "\n",
    "labeled.iq.value_counts()"
   ]
  },
  {
   "cell_type": "code",
   "execution_count": 14,
   "id": "ac685823",
   "metadata": {},
   "outputs": [
    {
     "name": "stdout",
     "output_type": "stream",
     "text": [
      "/mnt/sandbox1/alex.li/iq_results/20231017_halo_rgb_labeled_excluded_bad_iq/iq.csv\n"
     ]
    }
   ],
   "source": [
    "print(f\"{output_path}/iq.csv\")\n",
    "df = pd.read_csv(f\"{output_path}/iq.csv\")"
   ]
  },
  {
   "cell_type": "code",
   "execution_count": 27,
   "id": "759548d0",
   "metadata": {},
   "outputs": [
    {
     "name": "stdout",
     "output_type": "stream",
     "text": [
      "64d2770bad589cfd4ee9041f,64d27ea4c5e3eebecd51bb7d,64d28010e4b5f60207a5611b,64d28029bcb05e3b0204ef6e,64d28036d22763890d9497dd,64d2804291294bf9055ca710,64d281a6bdfa4c027176ac15,64d281bdcdddad3864b81300,64d29b3edd91722b31bd270d,64d29f236ee204e85918d31b,64d2be6a46228d2623d7cc5b,64d2d56c84dac3a508bf58fa,64d2e2e79c4221cabc920839,64d300b4b45885cfe61c3158,64d3017643e80ba938649185,64d303f30e8be16822317063,64d3085b77a3f6f6309aefad,64d30d9b46228d2623d8750d,64d315c1073191b1e22464bd,64d3298a84dac3a508c00ec0,64d3347dcdddad3864b9c940,64d33496d22763890d965d17,64d334c0b45885cfe61c9ef5,64d335a054324d20f7e693e6,64d337dc77a3f6f6309b4820,64d33aff0416decb1dccb262,64d33b8e4210b6d080dd84e5,64d33bb84210b6d080dd8560,64d3452c0416decb1dccca71,64d356e84079e515f9344b38,64d357aa404d0689282f6c68,64d391758ebf422ddd91a88f,64d3a42a3379a4c77440ab65,64d3e90a31b7ca5821875b0e,64d3efc3404d068928302ff3,64d3f211c28c73a9401310e2,64d40923d22763890d982dc0,64d40a19aae42de8ded9d068,64d40e6e31b7ca582187b070,64d41ea8cdddad3864bbbe94,64d41f9ed22763890d9864b9,64d420f6aae42de8deda04eb,64d42b5f71e8b270e3e2d39d,64d42e73597d9cfe17f45eca,64d431cf31b7ca5821880365,64d433e7404d0689283092b5,64d43bd39ef885c3fb86def6,64d441f3597d9cfe17f47805,64d45ba66ee204e8591c565e,64d45c1b404d06892830caee,64d468f3028c932f10df9175,64d4727a865c7a2e9edece28,64d479b19ef885c3fb875c14,64d49bcc9ef885c3fb87c151,64d49ee331b7ca5821892b1f,64d4a7fb404d068928314b39,64d4a96577a3f6f6309e46c8,64d4a978d22763890d99c9c5,64d4a98e5e45a4395bda996f,64d4b92377a3f6f6309e670b,64d4b9266a301182db40eb8d,64d4bf226a301182db40f68f,64d4d22f9ef885c3fb88267e,64d6ac4e79cb52464edcf3cc,64d6bb7984dac3a508c87e78,64da50060e16b17e1cb95f5f,64daf13d78fea0078adc11db,64db5095c6b29d6d5bd12704,64db91f4e2d9607cf7ecf68f,64dba3bfb5434b025f7ed4e0,64dba5fd812f440bebb14bcf,64dbbc2e3d8c6ee3190b6052,64dbbd1a7d48c1e0abdd62c5,64dbd472dfc2d85249be6ef7,64dbf229879affc6278c2c2d,64dc11d66ee204e85924f6c8,64dc2681df7cf1b0a9bee67b,64dc3082b2e6344a41a103dc,64e68b6a5e01413330ec1404,64f15817976175bf5609017e,64f16e3c38f9481299e20aca,64f180d4c6fc2b5e27182658,64f180e8c6fc2b5e2718267e,64f28eeb4437a280b6bb316f,64f29b2838f9481299e432eb,64f2d8340a1171d571ab0b7e,64f2e44b99e1e3b53b9fb668\n"
     ]
    }
   ],
   "source": [
    "print(','.join(sorted(list(set(df[(df.iq == 'good')]['id'])))))"
   ]
  },
  {
   "cell_type": "code",
   "execution_count": 24,
   "id": "e742e6a8",
   "metadata": {},
   "outputs": [
    {
     "data": {
      "text/plain": [
       "I02    186\n",
       "I01    127\n",
       "T14     13\n",
       "T05     10\n",
       "T09      8\n",
       "T10      8\n",
       "T13      2\n",
       "Name: camera_location, dtype: int64"
      ]
     },
     "execution_count": 24,
     "metadata": {},
     "output_type": "execute_result"
    }
   ],
   "source": [
    "pd.value_counts(df[df.iq == 'bad_depth']['camera_location'])"
   ]
  },
  {
   "cell_type": "code",
   "execution_count": null,
   "id": "f9a2d9b4",
   "metadata": {},
   "outputs": [],
   "source": []
  },
  {
   "cell_type": "markdown",
   "id": "a03b45f8-e679-4577-989b-2941a1b77947",
   "metadata": {},
   "source": [
    "## Accuracy Metrics\n",
    "#### Valid only if ground-truth image_quality_labels exist"
   ]
  },
  {
   "cell_type": "code",
   "execution_count": 39,
   "id": "cb17ccee-b3b9-4b44-b50e-f68685018a59",
   "metadata": {},
   "outputs": [],
   "source": [
    "def accuracy(df, iq_type='overall'):\n",
    "    if iq_type!='overall':\n",
    "        sub_df = df[df.iq_ground_truth==iq_type]\n",
    "    else:\n",
    "        sub_df = df\n",
    "    valid = np.sum(sub_df.iq == sub_df.iq_ground_truth)\n",
    "    total = len(sub_df)\n",
    "    acc = valid/total if total != 0 else 0\n",
    "    print(f'{iq_type}\\tproperly-predicted:{valid:4d} \\ttotal-images:{total:4d}\\tacc:{100*acc:.3f}%')\n",
    "\n",
    "if 'iq_ground_truth' in labeled:\n",
    "    accuracy(labeled, 'smudge')  \n",
    "    accuracy(labeled, 'dark')  \n",
    "    accuracy(labeled, 'bright')  \n",
    "    accuracy(labeled, 'good') \n",
    "    accuracy(labeled, 'overall')\n",
    "    valid = np.sum(labeled.binary_iq == labeled.binary_iq_ground_truth)\n",
    "    total = len(labeled)\n",
    "    acc = valid/total\n",
    "    print(f'IqNonIq\\tproperly-predicted:{valid:4d} \\ttotal-images:{total:4d}\\tacc:{100*acc:.3f}%')"
   ]
  },
  {
   "cell_type": "code",
   "execution_count": 48,
   "id": "3be7999e",
   "metadata": {},
   "outputs": [
    {
     "data": {
      "text/plain": [
       "0      Colorado\n",
       "1      Colorado\n",
       "2      Colorado\n",
       "3      Colorado\n",
       "4      Colorado\n",
       "         ...   \n",
       "265     Georgia\n",
       "266     Georgia\n",
       "267     Georgia\n",
       "268     Georgia\n",
       "269     Georgia\n",
       "Name: state, Length: 270, dtype: object"
      ]
     },
     "execution_count": 48,
     "metadata": {},
     "output_type": "execute_result"
    }
   ],
   "source": []
  }
 ],
 "metadata": {
  "kernelspec": {
   "display_name": "Python 3",
   "language": "python",
   "name": "python3"
  },
  "language_info": {
   "codemirror_mode": {
    "name": "ipython",
    "version": 3
   },
   "file_extension": ".py",
   "mimetype": "text/x-python",
   "name": "python",
   "nbconvert_exporter": "python",
   "pygments_lexer": "ipython3",
   "version": "3.8.0"
  }
 },
 "nbformat": 4,
 "nbformat_minor": 5
}
