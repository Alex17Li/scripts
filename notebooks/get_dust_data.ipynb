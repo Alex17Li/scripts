{
 "cells": [
  {
   "cell_type": "code",
   "execution_count": 1,
   "id": "bfc6fd89-d6ab-4190-95ca-8f00178f1dc4",
   "metadata": {},
   "outputs": [
    {
     "name": "stderr",
     "output_type": "stream",
     "text": [
      "/home/alexli/miniconda3/envs/cvml/lib/python3.10/site-packages/tqdm/auto.py:21: TqdmWarning: IProgress not found. Please update jupyter and ipywidgets. See https://ipywidgets.readthedocs.io/en/stable/user_install.html\n",
      "  from .autonotebook import tqdm as notebook_tqdm\n"
     ]
    }
   ],
   "source": [
    "import time\n",
    "import json\n",
    "import ast\n",
    "import os\n",
    "import datetime\n",
    "import io\n",
    "from collections import defaultdict\n",
    "\n",
    "import imageio\n",
    "import boto3\n",
    "import pandas as pd\n",
    "import numpy as np\n",
    "import imageio\n",
    "import matplotlib.pyplot as plt\n",
    "import seaborn as sns\n",
    "\n",
    "from brtdevkit.core.db.athena import AthenaClient\n",
    "from brtdevkit.data import Dataset\n",
    "from timezonefinder import TimezoneFinderL\n",
    "import pytz\n",
    "\n",
    "from aletheia_dataset_creator.dataset_tools.aletheia_dataset_helpers import imageids_to_dataset\n",
    "from aletheia_dataset_creator.config.dataset_config import LEFT_CAMERAS, ALL_CAMERA_PAIRS_LIST\n",
    "%matplotlib inline\n"
   ]
  },
  {
   "cell_type": "code",
   "execution_count": 2,
   "id": "56268454-b2e4-455a-a8ab-e601f2f34b31",
   "metadata": {},
   "outputs": [],
   "source": [
    "pd.set_option('display.max_rows', 500)"
   ]
  },
  {
   "cell_type": "code",
   "execution_count": 3,
   "id": "802b51a2-f2ff-410f-8500-1588a154e03e",
   "metadata": {},
   "outputs": [],
   "source": [
    "athena = AthenaClient()\n",
    "s3 = boto3.resource('s3')\n",
    "tf = TimezoneFinderL()\n",
    "home = os.path.expanduser('~')\n",
    "data_path = home + '/data'"
   ]
  },
  {
   "cell_type": "code",
   "execution_count": 4,
   "id": "2626b0d4",
   "metadata": {},
   "outputs": [
    {
     "data": {
      "text/plain": [
       "'jupiter_prod'"
      ]
     },
     "execution_count": 4,
     "metadata": {},
     "output_type": "execute_result"
    }
   ],
   "source": [
    "import os\n",
    "os.getenv('AWS_PROFILE')"
   ]
  },
  {
   "cell_type": "code",
   "execution_count": 5,
   "id": "7aff9d65-b0df-47a4-a6b1-c69128415df1",
   "metadata": {},
   "outputs": [],
   "source": [
    "def get_calibration(x):\n",
    "    try:\n",
    "        return ast.literal_eval(x)\n",
    "    except:\n",
    "        return {}   \n",
    "def get_adjusted_timezone(timestamp, latitude, longitude):\n",
    "    if (latitude == 0) or (longitude == 0):\n",
    "        return np.nan\n",
    "    \n",
    "    if isinstance(timestamp, np.datetime64):\n",
    "        timestamp = pd.to_datetime(timestamp)\n",
    "    # Localize and adjust UTC timestamps to local timezone\n",
    "    utc = pytz.utc.localize(timestamp)\n",
    "    tz = tf.timezone_at(lat=latitude, lng=longitude)\n",
    "    adjusted_timestamp = utc.astimezone(tz).to_pydatetime()\n",
    "\n",
    "    return adjusted_timestamp\n",
    "def valid_speed(x):\n",
    "    try:\n",
    "        load = json.loads(x)\n",
    "    except TypeError:\n",
    "        return False\n",
    "    return 'speed' in load and 200 > load['speed'] > -200 #remove NaN or impossible values\n",
    "def get_day(collect_str):\n",
    "    t = pd.Timestamp(collect_str)\n",
    "    return t.strftime(\"%Y/%m/%d\")\n",
    "def get_minute(collect_str) -> str:\n",
    "    t = pd.Timestamp(collect_str)\n",
    "    return t.strftime(format=\"%Y/%m/%d %H:%M\")\n",
    "def get_hour(collect_str) -> str:\n",
    "    t = pd.Timestamp(collect_str)\n",
    "    return t.strftime(format=\"%Y/%m/%d %H\")\n",
    "def speed_discrete(speed):\n",
    "    if 0 <= speed <= 5:\n",
    "        return \"A\"\n",
    "    elif 5 < speed <= 7.2:\n",
    "        return \"B\"\n",
    "    elif 7.2 < speed <= 9.6:\n",
    "        return \"C\"\n",
    "    elif 9.6 < speed <= 25:\n",
    "        return \"D\"\n",
    "    elif 25 < speed:\n",
    "        return \"E\"\n",
    "    else:\n",
    "        assert False\n"
   ]
  },
  {
   "attachments": {},
   "cell_type": "markdown",
   "id": "731129f1-4e20-47eb-b70e-67c07c3f8ddb",
   "metadata": {},
   "source": [
    "# Selecting data"
   ]
  },
  {
   "cell_type": "code",
   "execution_count": 6,
   "id": "f5c493de",
   "metadata": {},
   "outputs": [],
   "source": [
    "# try:\n",
    "#     halo_df = pd.read_parquet(data_path + '/hh_df.parquet')\n",
    "# except FileNotFoundError:\n",
    "#     print(\"file not found\")\n",
    "#     query = f\"\"\"\n",
    "#     SELECT id, hard_drive_name, robot_name, collected_on,\n",
    "#         bag_name, operating_field_name, operation_time, latitude, longitude, geohash, camera_location, sensor_type, created_at, \n",
    "#         bundle, gps_can_data__json, weather_summary__json, group_id\n",
    "#     FROM image_jupiter \n",
    "#     # WHERE LENGTH(robot_name) = 14 AND robot_name LIKE 'hitchhiker_1%'\n",
    "#     \"\"\"\n",
    "# #--AND camera_location IN {left_tractor_cameras}\n",
    "#     start = time.time()\n",
    "#     halo_df = athena.get_df(query)\n",
    "#     end = time.time()\n",
    "#     print(end - start)\n",
    "#     halo_df.to_parquet(data_path + '/hh_df.parquet', index=False)\n",
    "# try:\n",
    "#     rev1_df = pd.read_parquet(home + '/data/all_hitchiker_images/rev1_df.parquet')\n",
    "# except FileNotFoundError:\n",
    "#     print(\"file not found\")\n",
    "#     query = f\"\"\"\n",
    "#     SELECT id, hard_drive_name, robot_name, collected_on,\n",
    "#         bag_name, operating_field_name, operation_time, latitude, longitude, geohash, camera_location, sensor_type, created_at, \n",
    "#         bundle, gps_can_data__json, weather_summary__json, group_id\n",
    "#     FROM image_jupiter \n",
    "#     WHERE LENGTH(robot_name) = 9 AND SUBSTR(robot_name, 7, 9) IN ('619', '646', '708', '710', '733', '735', '750', '756', '768', '799', '812', '817', '842', '869', '872', '909') AND \"collected_on\" BETWEEN TIMESTAMP'2023-03-15 0:00:00' AND TIMESTAMP'2023-05-15 0:00:00'\n",
    "#     \"\"\"\n",
    "# #--AND camera_location IN {left_tractor_cameras}\n",
    "#     start = time.time()\n",
    "#     rev1_df = athena.get_df(query)\n",
    "#     end = time.time()\n",
    "#     print(end - start)\n",
    "#     rev1_df.to_parquet(data_dir + 'all_hitchiker_images/rev1_df.parquet', index=False)"
   ]
  },
  {
   "cell_type": "code",
   "execution_count": 7,
   "id": "b1339330",
   "metadata": {},
   "outputs": [],
   "source": [
    "# query = \"\"\"SELECT id, hard_drive_name, robot_name, collected_on,\n",
    "#     bag_name, operating_field_name, operation_time, latitude, longitude, geohash, camera_location, sensor_type, created_at, \n",
    "#     bundle, gps_can_data__json, weather_summary__json, group_id\n",
    "# FROM image_jupiter \n",
    "# WHERE \"hard_drive_name\" IN ('JUPD-172_2023-6-28', 'JUPD-173_2023-6-28', 'JUPD-174_2023-6-28')\n",
    "# \"\"\"\n",
    "# start = time.time()\n",
    "# df = athena.get_df(query)\n",
    "# end = time.time()\n",
    "# print(end - start)\n",
    "ppath = data_path + \"/lotta_data.parquet\"\n",
    "if os.path.exists(ppath):\n",
    "    df = pd.read_parquet(ppath)\n",
    "else:\n",
    "    print('cache failed')\n",
    "    query1 = f\"\"\"\n",
    "    SELECT id, robot_name, collected_on, operation_time,\n",
    "        camera_location, gps_can_data__json, group_id\n",
    "    FROM image_jupiter\n",
    "    ORDER BY RAND()\n",
    "    LIMIT 10000000\n",
    "    \"\"\"\n",
    "    df = athena.get_df(query1)\n",
    "    df = df[df['gps_can_data__json'].apply(valid_speed)]\n",
    "    df['day'] = df['collected_on'].map(get_day)\n",
    "    df['minute'] = df['collected_on'].map(get_minute)\n",
    "    df['hour'] = df['collected_on'].map(get_hour)\n",
    "    df['speed_kph'] = df['gps_can_data__json'].map(lambda x:(json.loads(x)['speed']))\n",
    "    df['speed_d'] = df['speed_kph'].apply(speed_discrete)\n",
    "    df.to_parquet(ppath)"
   ]
  },
  {
   "cell_type": "code",
   "execution_count": 8,
   "id": "360164ed",
   "metadata": {},
   "outputs": [
    {
     "data": {
      "text/plain": [
       "{<NA>, 'dawn_dusk', 'daytime', 'error', 'nightime', 'unknown'}"
      ]
     },
     "execution_count": 8,
     "metadata": {},
     "output_type": "execute_result"
    }
   ],
   "source": [
    "set(df['operation_time'])"
   ]
  },
  {
   "cell_type": "code",
   "execution_count": 1,
   "id": "709265df",
   "metadata": {},
   "outputs": [
    {
     "ename": "NameError",
     "evalue": "name 'ALL_CAMERA_PAIRS_LIST' is not defined",
     "output_type": "error",
     "traceback": [
      "\u001b[0;31m---------------------------------------------------------------------------\u001b[0m",
      "\u001b[0;31mNameError\u001b[0m                                 Traceback (most recent call last)",
      "Cell \u001b[0;32mIn[1], line 2\u001b[0m\n\u001b[1;32m      1\u001b[0m bidirectional_dict \u001b[39m=\u001b[39m {}\n\u001b[0;32m----> 2\u001b[0m \u001b[39mfor\u001b[39;00m pair_dict \u001b[39min\u001b[39;00m ALL_CAMERA_PAIRS_LIST:\n\u001b[1;32m      3\u001b[0m     \u001b[39mfor\u001b[39;00m k, v \u001b[39min\u001b[39;00m pair_dict\u001b[39m.\u001b[39mitems():\n\u001b[1;32m      4\u001b[0m         bidirectional_dict[k] \u001b[39m=\u001b[39m v\n",
      "\u001b[0;31mNameError\u001b[0m: name 'ALL_CAMERA_PAIRS_LIST' is not defined"
     ]
    }
   ],
   "source": [
    "bidirectional_dict = {}\n",
    "for pair_dict in ALL_CAMERA_PAIRS_LIST:\n",
    "    for k, v in pair_dict.items():\n",
    "        bidirectional_dict[k] = v\n",
    "        bidirectional_dict[v] = k\n",
    "\n",
    "def make_dataset(from_df, name, description, pairs=[bidirectional_dict]) -> None:\n",
    "    imids = list(from_df['id'])\n",
    "    # print(len(imids))\n",
    "    from_df.to_parquet(data_path + f'/{name}.parquet', index=False)\n",
    "    desc = f\"{description} ({len(from_df['id'])} images)\"\n",
    "    # imageids_to_dataset_fast(from_df, name, desc,\n",
    "    #                         camera_pairs_list=pairs, camera_pair_df=df)\n",
    "    Dataset.create(\n",
    "        name=name,\n",
    "        description=desc,\n",
    "        kind=Dataset.KIND_IMAGE,\n",
    "        image_ids=imids,\n",
    "    )\n",
    "\n",
    "def make_dataset_slow(from_df, name, description) -> None:\n",
    "    imids = list(from_df['id'])\n",
    "    desc = f\"{description} ({len(from_df['id'])} images)\"\n",
    "    print(len(imids))\n",
    "    from_df.to_parquet(data_path + f'/{name}.parquet', index=False)\n",
    "    # imageids_to_dataset(imids, name, dataset_kind='image',\n",
    "    #                          dataset_description=desc)\n"
   ]
  },
  {
   "attachments": {},
   "cell_type": "markdown",
   "id": "85f2ab12",
   "metadata": {},
   "source": [
    "# Sample a bunch of random images"
   ]
  },
  {
   "cell_type": "code",
   "execution_count": 13,
   "id": "217f2a49",
   "metadata": {},
   "outputs": [],
   "source": [
    "df = df[df['speed_d'] != 'D:25+']"
   ]
  },
  {
   "cell_type": "code",
   "execution_count": 14,
   "id": "1055520b",
   "metadata": {},
   "outputs": [],
   "source": [
    "def is_ok(row):\n",
    "    cam_ok = row['camera_location'][0] != 'V' and row['camera_location'][0:2] != 'fi'\n",
    "    if not cam_ok:\n",
    "        return False\n",
    "    if row['camera_location'][0] =='I' or row['camera_location'][0] =='T':\n",
    "        return  'halo'\n",
    "    else:\n",
    "        return 'rev1'\n",
    "df['ok'] = df.apply(is_ok, axis=1)"
   ]
  },
  {
   "cell_type": "code",
   "execution_count": 15,
   "id": "0191a051",
   "metadata": {},
   "outputs": [
    {
     "data": {
      "text/plain": [
       "0          rev1\n",
       "2          rev1\n",
       "3          rev1\n",
       "4          rev1\n",
       "6          rev1\n",
       "           ... \n",
       "9999993    rev1\n",
       "9999994    rev1\n",
       "9999995    rev1\n",
       "9999996    rev1\n",
       "9999999    rev1\n",
       "Name: ok, Length: 9073936, dtype: object"
      ]
     },
     "execution_count": 15,
     "metadata": {},
     "output_type": "execute_result"
    }
   ],
   "source": [
    "df['ok']"
   ]
  },
  {
   "cell_type": "code",
   "execution_count": 16,
   "id": "d43f9688",
   "metadata": {},
   "outputs": [],
   "source": [
    "df = df[df.operation_time.isin(['nightime','daytime', 'dawn_dusk'])]\n",
    "df = df[~df.robot_name.isna()]"
   ]
  },
  {
   "cell_type": "code",
   "execution_count": 17,
   "id": "cc334869",
   "metadata": {},
   "outputs": [],
   "source": [
    "df_rev1 = df[df['ok'] == 'rev1']\n",
    "df_rev1=df_rev1.sample(frac=1)"
   ]
  },
  {
   "cell_type": "code",
   "execution_count": 18,
   "id": "4329a52b",
   "metadata": {},
   "outputs": [],
   "source": [
    "df_rev2 = df[df['ok']  == 'halo']\n",
    "df_rev2=df_rev2.sample(frac=1)"
   ]
  },
  {
   "cell_type": "code",
   "execution_count": 19,
   "id": "accbd047",
   "metadata": {},
   "outputs": [
    {
     "data": {
      "text/html": [
       "<pre style=\"white-space:pre;overflow-x:auto;line-height:normal;font-family:Menlo,'DejaVu Sans Mono',consolas,'Courier New',monospace\"><span style=\"color: #008080; text-decoration-color: #008080; font-weight: bold\">8837852</span>\n",
       "</pre>\n"
      ],
      "text/plain": [
       "\u001b[1;36m8837852\u001b[0m\n"
      ]
     },
     "metadata": {},
     "output_type": "display_data"
    },
    {
     "data": {
      "text/html": [
       "<pre style=\"white-space:pre;overflow-x:auto;line-height:normal;font-family:Menlo,'DejaVu Sans Mono',consolas,'Courier New',monospace\"><span style=\"color: #008080; text-decoration-color: #008080; font-weight: bold\">195577</span>\n",
       "</pre>\n"
      ],
      "text/plain": [
       "\u001b[1;36m195577\u001b[0m\n"
      ]
     },
     "metadata": {},
     "output_type": "display_data"
    },
    {
     "data": {
      "text/html": [
       "<pre style=\"white-space:pre;overflow-x:auto;line-height:normal;font-family:Menlo,'DejaVu Sans Mono',consolas,'Courier New',monospace\"><span style=\"font-weight: bold\">{</span>\n",
       "    <span style=\"color: #008000; text-decoration-color: #008000\">'hitchhiker_48'</span>,\n",
       "    <span style=\"color: #008000; text-decoration-color: #008000\">'hitchhiker_42'</span>,\n",
       "    <span style=\"color: #008000; text-decoration-color: #008000\">'loamy_869_0'</span>,\n",
       "    <span style=\"color: #008000; text-decoration-color: #008000\">'hitchhiker_20'</span>,\n",
       "    <span style=\"color: #008000; text-decoration-color: #008000\">'loamy_06'</span>,\n",
       "    <span style=\"color: #008000; text-decoration-color: #008000\">'peaty_03'</span>,\n",
       "    <span style=\"color: #008000; text-decoration-color: #008000\">'loamy_872'</span>,\n",
       "    <span style=\"color: #008000; text-decoration-color: #008000\">'peaty_6'</span>,\n",
       "    <span style=\"color: #008000; text-decoration-color: #008000\">'hitchhiker_869'</span>,\n",
       "    <span style=\"color: #008000; text-decoration-color: #008000\">'hitchhiker_44'</span>,\n",
       "    <span style=\"color: #008000; text-decoration-color: #008000\">'loamy_756'</span>,\n",
       "    <span style=\"color: #008000; text-decoration-color: #008000\">'loamy_1'</span>,\n",
       "    <span style=\"color: #008000; text-decoration-color: #008000\">'loamy_812_0'</span>,\n",
       "    <span style=\"color: #008000; text-decoration-color: #008000\">'hitchhiker_14'</span>,\n",
       "    <span style=\"color: #008000; text-decoration-color: #008000\">'hitchhiker_28'</span>,\n",
       "    <span style=\"color: #008000; text-decoration-color: #008000\">'loamy_83'</span>,\n",
       "    <span style=\"color: #008000; text-decoration-color: #008000\">'hitchhiker_43'</span>,\n",
       "    <span style=\"color: #008000; text-decoration-color: #008000\">'triton_01'</span>,\n",
       "    <span style=\"color: #008000; text-decoration-color: #008000\">'hh_17'</span>,\n",
       "    <span style=\"color: #008000; text-decoration-color: #008000\">'loamy_710'</span>,\n",
       "    <span style=\"color: #008000; text-decoration-color: #008000\">'clay_01'</span>,\n",
       "    <span style=\"color: #008000; text-decoration-color: #008000\">'hitchhiker_31'</span>,\n",
       "    <span style=\"color: #008000; text-decoration-color: #008000\">'peaty_04'</span>,\n",
       "    <span style=\"color: #008000; text-decoration-color: #008000\">'loamy_812'</span>,\n",
       "    <span style=\"color: #008000; text-decoration-color: #008000\">'loamy_768'</span>,\n",
       "    <span style=\"color: #008000; text-decoration-color: #008000\">'loamy_733'</span>,\n",
       "    <span style=\"color: #008000; text-decoration-color: #008000\">'hitchhiker_06'</span>,\n",
       "    <span style=\"color: #008000; text-decoration-color: #008000\">'loamy_04'</span>,\n",
       "    <span style=\"color: #008000; text-decoration-color: #008000\">'loamy_750'</span>,\n",
       "    <span style=\"color: #008000; text-decoration-color: #008000\">'peaty_07'</span>,\n",
       "    <span style=\"color: #008000; text-decoration-color: #008000\">'hitchhiker_17'</span>,\n",
       "    <span style=\"color: #008000; text-decoration-color: #008000\">'hitchhiker_03'</span>,\n",
       "    <span style=\"color: #008000; text-decoration-color: #008000\">'loamy_817'</span>,\n",
       "    <span style=\"color: #008000; text-decoration-color: #008000\">'hitchhiker_07'</span>,\n",
       "    <span style=\"color: #008000; text-decoration-color: #008000\">'hitchhiker_27'</span>,\n",
       "    <span style=\"color: #008000; text-decoration-color: #008000\">'hitchhiker_05'</span>,\n",
       "    <span style=\"color: #008000; text-decoration-color: #008000\">'hitchhiker_29'</span>,\n",
       "    <span style=\"color: #008000; text-decoration-color: #008000\">'hitchhiker_11'</span>,\n",
       "    <span style=\"color: #008000; text-decoration-color: #008000\">'loamy_05'</span>,\n",
       "    <span style=\"color: #008000; text-decoration-color: #008000\">'loamy_708'</span>,\n",
       "    <span style=\"color: #008000; text-decoration-color: #008000\">'hitchhiker_22'</span>,\n",
       "    <span style=\"color: #008000; text-decoration-color: #008000\">'loamy_253'</span>,\n",
       "    <span style=\"color: #008000; text-decoration-color: #008000\">'loamy_646'</span>,\n",
       "    <span style=\"color: #008000; text-decoration-color: #008000\">'loamy_851_0'</span>,\n",
       "    <span style=\"color: #008000; text-decoration-color: #008000\">'hitchhiker_34'</span>,\n",
       "    <span style=\"color: #008000; text-decoration-color: #008000\">'hitchhiker_30'</span>,\n",
       "    <span style=\"color: #008000; text-decoration-color: #008000\">'loamy_07'</span>,\n",
       "    <span style=\"color: #008000; text-decoration-color: #008000\">'loamy_731'</span>,\n",
       "    <span style=\"color: #008000; text-decoration-color: #008000\">'loamy_6'</span>,\n",
       "    <span style=\"color: #008000; text-decoration-color: #008000\">'hitchhiker_13'</span>,\n",
       "    <span style=\"color: #008000; text-decoration-color: #008000\">'loamy_909'</span>,\n",
       "    <span style=\"color: #008000; text-decoration-color: #008000\">'loamy_619'</span>,\n",
       "    <span style=\"color: #008000; text-decoration-color: #008000\">'hitchhiker_35'</span>,\n",
       "    <span style=\"color: #008000; text-decoration-color: #008000\">'peaty_05'</span>,\n",
       "    <span style=\"color: #008000; text-decoration-color: #008000\">'hitchhiker_41'</span>,\n",
       "    <span style=\"color: #008000; text-decoration-color: #008000\">'hitchhiker_47'</span>,\n",
       "    <span style=\"color: #008000; text-decoration-color: #008000\">'hitchhiker_38'</span>,\n",
       "    <span style=\"color: #008000; text-decoration-color: #008000\">'hitchhiker_21'</span>,\n",
       "    <span style=\"color: #008000; text-decoration-color: #008000\">'hitchhiker_25'</span>,\n",
       "    <span style=\"color: #008000; text-decoration-color: #008000\">'hitchhiker_33'</span>,\n",
       "    <span style=\"color: #008000; text-decoration-color: #008000\">'hitchhiker_15'</span>,\n",
       "    <span style=\"color: #008000; text-decoration-color: #008000\">'loamy_842'</span>,\n",
       "    <span style=\"color: #008000; text-decoration-color: #008000\">'hitchhiker_46'</span>,\n",
       "    <span style=\"color: #008000; text-decoration-color: #008000\">'hitchhiker_710'</span>,\n",
       "    <span style=\"color: #008000; text-decoration-color: #008000\">'hitchhiker_23'</span>,\n",
       "    <span style=\"color: #008000; text-decoration-color: #008000\">'hitchhiker_02_front'</span>,\n",
       "    <span style=\"color: #008000; text-decoration-color: #008000\">'hitchhiker_733'</span>,\n",
       "    <span style=\"color: #008000; text-decoration-color: #008000\">'hitchhiker_32'</span>,\n",
       "    <span style=\"color: #008000; text-decoration-color: #008000\">'loamy_752'</span>,\n",
       "    <span style=\"color: #008000; text-decoration-color: #008000\">'hitchhiker_12'</span>,\n",
       "    <span style=\"color: #008000; text-decoration-color: #008000\">'loamy_735'</span>,\n",
       "    <span style=\"color: #008000; text-decoration-color: #008000\">'hitchhiker_26'</span>,\n",
       "    <span style=\"color: #008000; text-decoration-color: #008000\">'loamy_869'</span>,\n",
       "    <span style=\"color: #008000; text-decoration-color: #008000\">'hitchhiker_0'</span>,\n",
       "    <span style=\"color: #008000; text-decoration-color: #008000\">'hitchhiker_19'</span>,\n",
       "    <span style=\"color: #008000; text-decoration-color: #008000\">'hitchhiker'</span>,\n",
       "    <span style=\"color: #008000; text-decoration-color: #008000\">'loamy_851'</span>,\n",
       "    <span style=\"color: #008000; text-decoration-color: #008000\">'peaty_02'</span>,\n",
       "    <span style=\"color: #008000; text-decoration-color: #008000\">'hitchhiker_04'</span>,\n",
       "    <span style=\"color: #008000; text-decoration-color: #008000\">'hitchhiker_18'</span>,\n",
       "    <span style=\"color: #008000; text-decoration-color: #008000\">'hitchhiker_10'</span>,\n",
       "    <span style=\"color: #008000; text-decoration-color: #008000\">'loamy_204'</span>,\n",
       "    <span style=\"color: #008000; text-decoration-color: #008000\">'loamy_799'</span>,\n",
       "    <span style=\"color: #008000; text-decoration-color: #008000\">'hitchhiker_909'</span>,\n",
       "    <span style=\"color: #008000; text-decoration-color: #008000\">'hitchhiker_6'</span>,\n",
       "    <span style=\"color: #008000; text-decoration-color: #008000\">'hitchhiker_45'</span>\n",
       "<span style=\"font-weight: bold\">}</span>\n",
       "</pre>\n"
      ],
      "text/plain": [
       "\u001b[1m{\u001b[0m\n",
       "    \u001b[32m'hitchhiker_48'\u001b[0m,\n",
       "    \u001b[32m'hitchhiker_42'\u001b[0m,\n",
       "    \u001b[32m'loamy_869_0'\u001b[0m,\n",
       "    \u001b[32m'hitchhiker_20'\u001b[0m,\n",
       "    \u001b[32m'loamy_06'\u001b[0m,\n",
       "    \u001b[32m'peaty_03'\u001b[0m,\n",
       "    \u001b[32m'loamy_872'\u001b[0m,\n",
       "    \u001b[32m'peaty_6'\u001b[0m,\n",
       "    \u001b[32m'hitchhiker_869'\u001b[0m,\n",
       "    \u001b[32m'hitchhiker_44'\u001b[0m,\n",
       "    \u001b[32m'loamy_756'\u001b[0m,\n",
       "    \u001b[32m'loamy_1'\u001b[0m,\n",
       "    \u001b[32m'loamy_812_0'\u001b[0m,\n",
       "    \u001b[32m'hitchhiker_14'\u001b[0m,\n",
       "    \u001b[32m'hitchhiker_28'\u001b[0m,\n",
       "    \u001b[32m'loamy_83'\u001b[0m,\n",
       "    \u001b[32m'hitchhiker_43'\u001b[0m,\n",
       "    \u001b[32m'triton_01'\u001b[0m,\n",
       "    \u001b[32m'hh_17'\u001b[0m,\n",
       "    \u001b[32m'loamy_710'\u001b[0m,\n",
       "    \u001b[32m'clay_01'\u001b[0m,\n",
       "    \u001b[32m'hitchhiker_31'\u001b[0m,\n",
       "    \u001b[32m'peaty_04'\u001b[0m,\n",
       "    \u001b[32m'loamy_812'\u001b[0m,\n",
       "    \u001b[32m'loamy_768'\u001b[0m,\n",
       "    \u001b[32m'loamy_733'\u001b[0m,\n",
       "    \u001b[32m'hitchhiker_06'\u001b[0m,\n",
       "    \u001b[32m'loamy_04'\u001b[0m,\n",
       "    \u001b[32m'loamy_750'\u001b[0m,\n",
       "    \u001b[32m'peaty_07'\u001b[0m,\n",
       "    \u001b[32m'hitchhiker_17'\u001b[0m,\n",
       "    \u001b[32m'hitchhiker_03'\u001b[0m,\n",
       "    \u001b[32m'loamy_817'\u001b[0m,\n",
       "    \u001b[32m'hitchhiker_07'\u001b[0m,\n",
       "    \u001b[32m'hitchhiker_27'\u001b[0m,\n",
       "    \u001b[32m'hitchhiker_05'\u001b[0m,\n",
       "    \u001b[32m'hitchhiker_29'\u001b[0m,\n",
       "    \u001b[32m'hitchhiker_11'\u001b[0m,\n",
       "    \u001b[32m'loamy_05'\u001b[0m,\n",
       "    \u001b[32m'loamy_708'\u001b[0m,\n",
       "    \u001b[32m'hitchhiker_22'\u001b[0m,\n",
       "    \u001b[32m'loamy_253'\u001b[0m,\n",
       "    \u001b[32m'loamy_646'\u001b[0m,\n",
       "    \u001b[32m'loamy_851_0'\u001b[0m,\n",
       "    \u001b[32m'hitchhiker_34'\u001b[0m,\n",
       "    \u001b[32m'hitchhiker_30'\u001b[0m,\n",
       "    \u001b[32m'loamy_07'\u001b[0m,\n",
       "    \u001b[32m'loamy_731'\u001b[0m,\n",
       "    \u001b[32m'loamy_6'\u001b[0m,\n",
       "    \u001b[32m'hitchhiker_13'\u001b[0m,\n",
       "    \u001b[32m'loamy_909'\u001b[0m,\n",
       "    \u001b[32m'loamy_619'\u001b[0m,\n",
       "    \u001b[32m'hitchhiker_35'\u001b[0m,\n",
       "    \u001b[32m'peaty_05'\u001b[0m,\n",
       "    \u001b[32m'hitchhiker_41'\u001b[0m,\n",
       "    \u001b[32m'hitchhiker_47'\u001b[0m,\n",
       "    \u001b[32m'hitchhiker_38'\u001b[0m,\n",
       "    \u001b[32m'hitchhiker_21'\u001b[0m,\n",
       "    \u001b[32m'hitchhiker_25'\u001b[0m,\n",
       "    \u001b[32m'hitchhiker_33'\u001b[0m,\n",
       "    \u001b[32m'hitchhiker_15'\u001b[0m,\n",
       "    \u001b[32m'loamy_842'\u001b[0m,\n",
       "    \u001b[32m'hitchhiker_46'\u001b[0m,\n",
       "    \u001b[32m'hitchhiker_710'\u001b[0m,\n",
       "    \u001b[32m'hitchhiker_23'\u001b[0m,\n",
       "    \u001b[32m'hitchhiker_02_front'\u001b[0m,\n",
       "    \u001b[32m'hitchhiker_733'\u001b[0m,\n",
       "    \u001b[32m'hitchhiker_32'\u001b[0m,\n",
       "    \u001b[32m'loamy_752'\u001b[0m,\n",
       "    \u001b[32m'hitchhiker_12'\u001b[0m,\n",
       "    \u001b[32m'loamy_735'\u001b[0m,\n",
       "    \u001b[32m'hitchhiker_26'\u001b[0m,\n",
       "    \u001b[32m'loamy_869'\u001b[0m,\n",
       "    \u001b[32m'hitchhiker_0'\u001b[0m,\n",
       "    \u001b[32m'hitchhiker_19'\u001b[0m,\n",
       "    \u001b[32m'hitchhiker'\u001b[0m,\n",
       "    \u001b[32m'loamy_851'\u001b[0m,\n",
       "    \u001b[32m'peaty_02'\u001b[0m,\n",
       "    \u001b[32m'hitchhiker_04'\u001b[0m,\n",
       "    \u001b[32m'hitchhiker_18'\u001b[0m,\n",
       "    \u001b[32m'hitchhiker_10'\u001b[0m,\n",
       "    \u001b[32m'loamy_204'\u001b[0m,\n",
       "    \u001b[32m'loamy_799'\u001b[0m,\n",
       "    \u001b[32m'hitchhiker_909'\u001b[0m,\n",
       "    \u001b[32m'hitchhiker_6'\u001b[0m,\n",
       "    \u001b[32m'hitchhiker_45'\u001b[0m\n",
       "\u001b[1m}\u001b[0m\n"
      ]
     },
     "metadata": {},
     "output_type": "display_data"
    },
    {
     "data": {
      "text/html": [
       "<pre style=\"white-space:pre;overflow-x:auto;line-height:normal;font-family:Menlo,'DejaVu Sans Mono',consolas,'Courier New',monospace\"><span style=\"font-weight: bold\">{</span>\n",
       "    <span style=\"color: #008000; text-decoration-color: #008000\">'hitchhiker_123'</span>,\n",
       "    <span style=\"color: #008000; text-decoration-color: #008000\">'halohitchhiker_102'</span>,\n",
       "    <span style=\"color: #008000; text-decoration-color: #008000\">'halohitchhiker_123'</span>,\n",
       "    <span style=\"color: #008000; text-decoration-color: #008000\">'halohitchhiker_122'</span>,\n",
       "    <span style=\"color: #008000; text-decoration-color: #008000\">'bedrock_391'</span>,\n",
       "    <span style=\"color: #008000; text-decoration-color: #008000\">'hitchhiker_111'</span>,\n",
       "    <span style=\"color: #008000; text-decoration-color: #008000\">'halohitchhiker_112'</span>,\n",
       "    <span style=\"color: #008000; text-decoration-color: #008000\">'hitchhiker_103'</span>,\n",
       "    <span style=\"color: #008000; text-decoration-color: #008000\">'hitchhiker_1'</span>,\n",
       "    <span style=\"color: #008000; text-decoration-color: #008000\">'halohitchhiker_111'</span>,\n",
       "    <span style=\"color: #008000; text-decoration-color: #008000\">'hitchhiker_121'</span>,\n",
       "    <span style=\"color: #008000; text-decoration-color: #008000\">'halohitchhiker_121'</span>,\n",
       "    <span style=\"color: #008000; text-decoration-color: #008000\">'hitchhiker_102'</span>,\n",
       "    <span style=\"color: #008000; text-decoration-color: #008000\">'hitchhiker_112'</span>,\n",
       "    <span style=\"color: #008000; text-decoration-color: #008000\">'hitchhiker_101'</span>,\n",
       "    <span style=\"color: #008000; text-decoration-color: #008000\">'hitchhiker_0'</span>,\n",
       "    <span style=\"color: #008000; text-decoration-color: #008000\">'halohitchhiker_101'</span>,\n",
       "    <span style=\"color: #008000; text-decoration-color: #008000\">'hitchhiker_113'</span>,\n",
       "    <span style=\"color: #008000; text-decoration-color: #008000\">'hitchhiker_122'</span>\n",
       "<span style=\"font-weight: bold\">}</span>\n",
       "</pre>\n"
      ],
      "text/plain": [
       "\u001b[1m{\u001b[0m\n",
       "    \u001b[32m'hitchhiker_123'\u001b[0m,\n",
       "    \u001b[32m'halohitchhiker_102'\u001b[0m,\n",
       "    \u001b[32m'halohitchhiker_123'\u001b[0m,\n",
       "    \u001b[32m'halohitchhiker_122'\u001b[0m,\n",
       "    \u001b[32m'bedrock_391'\u001b[0m,\n",
       "    \u001b[32m'hitchhiker_111'\u001b[0m,\n",
       "    \u001b[32m'halohitchhiker_112'\u001b[0m,\n",
       "    \u001b[32m'hitchhiker_103'\u001b[0m,\n",
       "    \u001b[32m'hitchhiker_1'\u001b[0m,\n",
       "    \u001b[32m'halohitchhiker_111'\u001b[0m,\n",
       "    \u001b[32m'hitchhiker_121'\u001b[0m,\n",
       "    \u001b[32m'halohitchhiker_121'\u001b[0m,\n",
       "    \u001b[32m'hitchhiker_102'\u001b[0m,\n",
       "    \u001b[32m'hitchhiker_112'\u001b[0m,\n",
       "    \u001b[32m'hitchhiker_101'\u001b[0m,\n",
       "    \u001b[32m'hitchhiker_0'\u001b[0m,\n",
       "    \u001b[32m'halohitchhiker_101'\u001b[0m,\n",
       "    \u001b[32m'hitchhiker_113'\u001b[0m,\n",
       "    \u001b[32m'hitchhiker_122'\u001b[0m\n",
       "\u001b[1m}\u001b[0m\n"
      ]
     },
     "metadata": {},
     "output_type": "display_data"
    },
    {
     "data": {
      "text/html": [
       "<pre style=\"white-space:pre;overflow-x:auto;line-height:normal;font-family:Menlo,'DejaVu Sans Mono',consolas,'Courier New',monospace\"><span style=\"font-weight: bold\">{</span>\n",
       "    <span style=\"color: #008000; text-decoration-color: #008000\">'front-center-right'</span>,\n",
       "    <span style=\"color: #008000; text-decoration-color: #008000\">'side-right-right'</span>,\n",
       "    <span style=\"color: #008000; text-decoration-color: #008000\">'front-center-left'</span>,\n",
       "    <span style=\"color: #008000; text-decoration-color: #008000\">'rear-right'</span>,\n",
       "    <span style=\"color: #008000; text-decoration-color: #008000\">'front-right-left'</span>,\n",
       "    <span style=\"color: #008000; text-decoration-color: #008000\">'side-left-right'</span>,\n",
       "    <span style=\"color: #008000; text-decoration-color: #008000\">'front-left-right'</span>,\n",
       "    <span style=\"color: #008000; text-decoration-color: #008000\">'front-right-right'</span>,\n",
       "    <span style=\"color: #008000; text-decoration-color: #008000\">'front-left-left'</span>,\n",
       "    <span style=\"color: #008000; text-decoration-color: #008000\">'side-right-left'</span>,\n",
       "    <span style=\"color: #008000; text-decoration-color: #008000\">'side-left-left'</span>,\n",
       "    <span style=\"color: #008000; text-decoration-color: #008000\">'rear-left'</span>\n",
       "<span style=\"font-weight: bold\">}</span>\n",
       "</pre>\n"
      ],
      "text/plain": [
       "\u001b[1m{\u001b[0m\n",
       "    \u001b[32m'front-center-right'\u001b[0m,\n",
       "    \u001b[32m'side-right-right'\u001b[0m,\n",
       "    \u001b[32m'front-center-left'\u001b[0m,\n",
       "    \u001b[32m'rear-right'\u001b[0m,\n",
       "    \u001b[32m'front-right-left'\u001b[0m,\n",
       "    \u001b[32m'side-left-right'\u001b[0m,\n",
       "    \u001b[32m'front-left-right'\u001b[0m,\n",
       "    \u001b[32m'front-right-right'\u001b[0m,\n",
       "    \u001b[32m'front-left-left'\u001b[0m,\n",
       "    \u001b[32m'side-right-left'\u001b[0m,\n",
       "    \u001b[32m'side-left-left'\u001b[0m,\n",
       "    \u001b[32m'rear-left'\u001b[0m\n",
       "\u001b[1m}\u001b[0m\n"
      ]
     },
     "metadata": {},
     "output_type": "display_data"
    },
    {
     "data": {
      "text/html": [
       "<pre style=\"white-space:pre;overflow-x:auto;line-height:normal;font-family:Menlo,'DejaVu Sans Mono',consolas,'Courier New',monospace\"><span style=\"font-weight: bold\">{</span>\n",
       "    <span style=\"color: #008000; text-decoration-color: #008000\">'T04'</span>,\n",
       "    <span style=\"color: #008000; text-decoration-color: #008000\">'T09'</span>,\n",
       "    <span style=\"color: #008000; text-decoration-color: #008000\">'I02'</span>,\n",
       "    <span style=\"color: #008000; text-decoration-color: #008000\">'T08'</span>,\n",
       "    <span style=\"color: #008000; text-decoration-color: #008000\">'T14'</span>,\n",
       "    <span style=\"color: #008000; text-decoration-color: #008000\">'I01'</span>,\n",
       "    <span style=\"color: #008000; text-decoration-color: #008000\">'T01'</span>,\n",
       "    <span style=\"color: #008000; text-decoration-color: #008000\">'I05'</span>,\n",
       "    <span style=\"color: #008000; text-decoration-color: #008000\">'I04'</span>,\n",
       "    <span style=\"color: #008000; text-decoration-color: #008000\">'T12'</span>,\n",
       "    <span style=\"color: #008000; text-decoration-color: #008000\">'I08'</span>,\n",
       "    <span style=\"color: #008000; text-decoration-color: #008000\">'I06'</span>,\n",
       "    <span style=\"color: #008000; text-decoration-color: #008000\">'I07'</span>,\n",
       "    <span style=\"color: #008000; text-decoration-color: #008000\">'T15'</span>,\n",
       "    <span style=\"color: #008000; text-decoration-color: #008000\">'T07'</span>,\n",
       "    <span style=\"color: #008000; text-decoration-color: #008000\">'T05'</span>,\n",
       "    <span style=\"color: #008000; text-decoration-color: #008000\">'T11'</span>,\n",
       "    <span style=\"color: #008000; text-decoration-color: #008000\">'T13'</span>,\n",
       "    <span style=\"color: #008000; text-decoration-color: #008000\">'T06'</span>,\n",
       "    <span style=\"color: #008000; text-decoration-color: #008000\">'T03'</span>,\n",
       "    <span style=\"color: #008000; text-decoration-color: #008000\">'T02'</span>,\n",
       "    <span style=\"color: #008000; text-decoration-color: #008000\">'T16'</span>,\n",
       "    <span style=\"color: #008000; text-decoration-color: #008000\">'T10'</span>,\n",
       "    <span style=\"color: #008000; text-decoration-color: #008000\">'I03'</span>\n",
       "<span style=\"font-weight: bold\">}</span>\n",
       "</pre>\n"
      ],
      "text/plain": [
       "\u001b[1m{\u001b[0m\n",
       "    \u001b[32m'T04'\u001b[0m,\n",
       "    \u001b[32m'T09'\u001b[0m,\n",
       "    \u001b[32m'I02'\u001b[0m,\n",
       "    \u001b[32m'T08'\u001b[0m,\n",
       "    \u001b[32m'T14'\u001b[0m,\n",
       "    \u001b[32m'I01'\u001b[0m,\n",
       "    \u001b[32m'T01'\u001b[0m,\n",
       "    \u001b[32m'I05'\u001b[0m,\n",
       "    \u001b[32m'I04'\u001b[0m,\n",
       "    \u001b[32m'T12'\u001b[0m,\n",
       "    \u001b[32m'I08'\u001b[0m,\n",
       "    \u001b[32m'I06'\u001b[0m,\n",
       "    \u001b[32m'I07'\u001b[0m,\n",
       "    \u001b[32m'T15'\u001b[0m,\n",
       "    \u001b[32m'T07'\u001b[0m,\n",
       "    \u001b[32m'T05'\u001b[0m,\n",
       "    \u001b[32m'T11'\u001b[0m,\n",
       "    \u001b[32m'T13'\u001b[0m,\n",
       "    \u001b[32m'T06'\u001b[0m,\n",
       "    \u001b[32m'T03'\u001b[0m,\n",
       "    \u001b[32m'T02'\u001b[0m,\n",
       "    \u001b[32m'T16'\u001b[0m,\n",
       "    \u001b[32m'T10'\u001b[0m,\n",
       "    \u001b[32m'I03'\u001b[0m\n",
       "\u001b[1m}\u001b[0m\n"
      ]
     },
     "metadata": {},
     "output_type": "display_data"
    },
    {
     "data": {
      "text/html": [
       "<pre style=\"white-space:pre;overflow-x:auto;line-height:normal;font-family:Menlo,'DejaVu Sans Mono',consolas,'Courier New',monospace\"><span style=\"font-weight: bold\">{</span><span style=\"color: #008000; text-decoration-color: #008000\">'D'</span>, <span style=\"color: #008000; text-decoration-color: #008000\">'C'</span>, <span style=\"color: #008000; text-decoration-color: #008000\">'E'</span>, <span style=\"color: #008000; text-decoration-color: #008000\">'A'</span>, <span style=\"color: #008000; text-decoration-color: #008000\">'B'</span><span style=\"font-weight: bold\">}</span>\n",
       "</pre>\n"
      ],
      "text/plain": [
       "\u001b[1m{\u001b[0m\u001b[32m'D'\u001b[0m, \u001b[32m'C'\u001b[0m, \u001b[32m'E'\u001b[0m, \u001b[32m'A'\u001b[0m, \u001b[32m'B'\u001b[0m\u001b[1m}\u001b[0m\n"
      ]
     },
     "metadata": {},
     "output_type": "display_data"
    },
    {
     "data": {
      "text/html": [
       "<pre style=\"white-space:pre;overflow-x:auto;line-height:normal;font-family:Menlo,'DejaVu Sans Mono',consolas,'Courier New',monospace\"><span style=\"font-weight: bold\">{</span><span style=\"color: #008000; text-decoration-color: #008000\">'daytime'</span>, <span style=\"color: #008000; text-decoration-color: #008000\">'nightime'</span>, <span style=\"color: #008000; text-decoration-color: #008000\">'dawn_dusk'</span><span style=\"font-weight: bold\">}</span>\n",
       "</pre>\n"
      ],
      "text/plain": [
       "\u001b[1m{\u001b[0m\u001b[32m'daytime'\u001b[0m, \u001b[32m'nightime'\u001b[0m, \u001b[32m'dawn_dusk'\u001b[0m\u001b[1m}\u001b[0m\n"
      ]
     },
     "metadata": {},
     "output_type": "display_data"
    }
   ],
   "source": [
    "from rich import print\n",
    "from rich import pretty\n",
    "pretty.install()\n",
    "print(len(df_rev1))\n",
    "print(len(df_rev2))\n",
    "print(set(df_rev1.robot_name))\n",
    "print(set(df_rev2.robot_name))\n",
    "print(set(df_rev1.camera_location))\n",
    "print(set(df_rev2.camera_location))\n",
    "# print(set(df.day))\n",
    "print(set(df_rev1.speed_d))\n",
    "print(set(df_rev1.operation_time))"
   ]
  },
  {
   "cell_type": "code",
   "execution_count": 20,
   "id": "f10ae2a7",
   "metadata": {},
   "outputs": [
    {
     "data": {
      "text/html": [
       "<pre style=\"white-space:pre;overflow-x:auto;line-height:normal;font-family:Menlo,'DejaVu Sans Mono',consolas,'Courier New',monospace\"><span style=\"color: #008080; text-decoration-color: #008080; font-weight: bold\">121.</span>365k\n",
       "</pre>\n"
      ],
      "text/plain": [
       "\u001b[1;36m121.\u001b[0m365k\n"
      ]
     },
     "metadata": {},
     "output_type": "display_data"
    }
   ],
   "source": [
    "stratified_df = df.groupby(['robot_name', 'camera_location', 'day', 'speed_d', 'operation_time']).head(1)\n",
    "print(f\"{len(stratified_df) / 1000}k\")"
   ]
  },
  {
   "cell_type": "code",
   "execution_count": null,
   "id": "e4cd3c8e",
   "metadata": {},
   "outputs": [],
   "source": []
  },
  {
   "cell_type": "code",
   "execution_count": 55,
   "id": "d2df0b20",
   "metadata": {},
   "outputs": [
    {
     "data": {
      "text/html": [
       "<pre style=\"white-space:pre;overflow-x:auto;line-height:normal;font-family:Menlo,'DejaVu Sans Mono',consolas,'Courier New',monospace\"><span style=\"color: #008080; text-decoration-color: #008080; font-weight: bold\">216.</span>129k\n",
       "</pre>\n"
      ],
      "text/plain": [
       "\u001b[1;36m216.\u001b[0m129k\n"
      ]
     },
     "metadata": {},
     "output_type": "display_data"
    },
    {
     "data": {
      "text/html": [
       "<pre style=\"white-space:pre;overflow-x:auto;line-height:normal;font-family:Menlo,'DejaVu Sans Mono',consolas,'Courier New',monospace\"><span style=\"color: #008080; text-decoration-color: #008080; font-weight: bold\">145.</span>563k\n",
       "</pre>\n"
      ],
      "text/plain": [
       "\u001b[1;36m145.\u001b[0m563k\n"
      ]
     },
     "metadata": {},
     "output_type": "display_data"
    }
   ],
   "source": [
    "stratified_df_rev1 = df_rev1.groupby(['robot_name', 'camera_location', 'day', 'speed_d', 'operation_time']).head(1)\n",
    "print(f\"{len(stratified_df_rev1) / 1000}k\")\n",
    "stratified_df_rev2 = df_rev2.groupby(['robot_name', 'camera_location', 'hour', 'speed_d', 'operation_time']).head(7)\n",
    "print(f\"{len(stratified_df_rev2) / 1000}k\")\n",
    "stratified_df_rev1=stratified_df_rev1.sample(50000)\n",
    "stratified_df_rev2=stratified_df_rev2.sample(50000)"
   ]
  },
  {
   "cell_type": "code",
   "execution_count": 57,
   "id": "ecaa4052",
   "metadata": {},
   "outputs": [
    {
     "data": {
      "text/html": [
       "<pre style=\"white-space:pre;overflow-x:auto;line-height:normal;font-family:Menlo,'DejaVu Sans Mono',consolas,'Courier New',monospace\"><span style=\"color: #008080; text-decoration-color: #008080; font-weight: bold\">216129</span>\n",
       "</pre>\n"
      ],
      "text/plain": [
       "\u001b[1;36m216129\u001b[0m\n"
      ]
     },
     "metadata": {},
     "output_type": "display_data"
    },
    {
     "data": {
      "text/html": [
       "<pre style=\"white-space:pre;overflow-x:auto;line-height:normal;font-family:Menlo,'DejaVu Sans Mono',consolas,'Courier New',monospace\"><span style=\"color: #008080; text-decoration-color: #008080; font-weight: bold\">145563</span>\n",
       "</pre>\n"
      ],
      "text/plain": [
       "\u001b[1;36m145563\u001b[0m\n"
      ]
     },
     "metadata": {},
     "output_type": "display_data"
    },
    {
     "data": {
      "text/html": [
       "<pre style=\"white-space:pre;overflow-x:auto;line-height:normal;font-family:Menlo,'DejaVu Sans Mono',consolas,'Courier New',monospace\">DONE MADE DATASET\n",
       "</pre>\n"
      ],
      "text/plain": [
       "DONE MADE DATASET\n"
      ]
     },
     "metadata": {},
     "output_type": "display_data"
    }
   ],
   "source": [
    "# stratified_df_tiny = stratified_df.groupby(['camera_location']).head(1)\n",
    "make_dataset_slow(stratified_df_rev1, \"rev1_data_stratified\", description=\"Randomly selected data from rev1\")\n",
    "make_dataset_slow(stratified_df_rev2, \"rev2_data_stratified\", description=\"Randomly selected data from rev2\")\n",
    "print(\"DONE MADE DATASET\")"
   ]
  },
  {
   "cell_type": "code",
   "execution_count": null,
   "id": "382bc67a",
   "metadata": {},
   "outputs": [],
   "source": [
    "# from aletheia_dataset_creator.dataset_tools.aletheia_dataset_helpers import imageids_to_dataframe\n",
    "# from aletheia_dataset_creator.config.dataset_config import ALL_CAMERA_PAIRS_LIST, IMAGE_DATASET_COLS, LEFT_CAMERAS\n",
    "\n",
    "# images = imageids_to_dataframe(\n",
    "#                 stratified_df_tiny, fields=IMAGE_DATASET_COLS, camera_location=LEFT_CAMERAS\n",
    "# )"
   ]
  },
  {
   "cell_type": "code",
   "execution_count": null,
   "id": "b185743a",
   "metadata": {},
   "outputs": [
    {
     "data": {
      "text/plain": [
       "['front-center-left',\n",
       " 'front-left-left',\n",
       " 'front-right-left',\n",
       " 'side-left-left',\n",
       " 'side-right-left',\n",
       " 'rear-left',\n",
       " 'T01',\n",
       " 'T02',\n",
       " 'T05',\n",
       " 'T06',\n",
       " 'T09',\n",
       " 'T10',\n",
       " 'T13',\n",
       " 'T14',\n",
       " 'I01',\n",
       " 'I03',\n",
       " 'I05',\n",
       " 'I07']"
      ]
     },
     "execution_count": 37,
     "metadata": {},
     "output_type": "execute_result"
    }
   ],
   "source": [
    "LEFT_CAMERAS"
   ]
  },
  {
   "cell_type": "code",
   "execution_count": null,
   "id": "889f9ac7",
   "metadata": {},
   "outputs": [
    {
     "data": {
      "text/plain": [
       "[{'front-center-left': 'front-center-right',\n",
       "  'front-left-left': 'front-left-right',\n",
       "  'front-right-left': 'front-right-right',\n",
       "  'side-left-left': 'side-left-right',\n",
       "  'side-right-left': 'side-right-right',\n",
       "  'rear-left': 'rear-right',\n",
       "  'front-center-right': 'front-center-left',\n",
       "  'front-left-right': 'front-left-left',\n",
       "  'front-right-right': 'front-right-left',\n",
       "  'side-left-right': 'side-left-left',\n",
       "  'side-right-right': 'side-right-left',\n",
       "  'rear-right': 'rear-left'},\n",
       " {'T01': 'T03',\n",
       "  'T02': 'T04',\n",
       "  'T05': 'T07',\n",
       "  'T06': 'T08',\n",
       "  'T09': 'T11',\n",
       "  'T10': 'T12',\n",
       "  'T13': 'T15',\n",
       "  'T14': 'T16'},\n",
       " {'T02': 'T03', 'T06': 'T07', 'T10': 'T11', 'T14': 'T15'},\n",
       " {'I01': 'I02', 'I03': 'I04', 'I05': 'I06', 'I07': 'I08'}]"
      ]
     },
     "execution_count": 23,
     "metadata": {},
     "output_type": "execute_result"
    }
   ],
   "source": [
    "ALL_CAMERA_PAIRS_LIST"
   ]
  },
  {
   "cell_type": "code",
   "execution_count": null,
   "id": "6b16f361",
   "metadata": {},
   "outputs": [],
   "source": []
  }
 ],
 "metadata": {
  "kernelspec": {
   "display_name": "Python 3 (ipykernel)",
   "language": "python",
   "name": "python3"
  },
  "language_info": {
   "codemirror_mode": {
    "name": "ipython",
    "version": 3
   },
   "file_extension": ".py",
   "mimetype": "text/x-python",
   "name": "python",
   "nbconvert_exporter": "python",
   "pygments_lexer": "ipython3",
   "version": "3.10.12"
  }
 },
 "nbformat": 4,
 "nbformat_minor": 5
}
