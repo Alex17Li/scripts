{
 "cells": [
  {
   "cell_type": "code",
   "execution_count": 1,
   "metadata": {},
   "outputs": [
    {
     "name": "stderr",
     "output_type": "stream",
     "text": [
      "/home/alexli/miniconda3/envs/cvml/lib/python3.10/site-packages/tqdm/auto.py:21: TqdmWarning: IProgress not found. Please update jupyter and ipywidgets. See https://ipywidgets.readthedocs.io/en/stable/user_install.html\n",
      "  from .autonotebook import tqdm as notebook_tqdm\n"
     ]
    }
   ],
   "source": [
    "import time\n",
    "import json\n",
    "import ast\n",
    "import os\n",
    "import datetime\n",
    "import io\n",
    "from collections import defaultdict\n",
    "from tqdm import tqdm\n",
    "\n",
    "import imageio\n",
    "import boto3\n",
    "import pandas as pd\n",
    "import numpy as np\n",
    "import imageio\n",
    "import matplotlib.pyplot as plt\n",
    "import seaborn as sns\n",
    "\n",
    "from brtdevkit.core.db.athena import AthenaClient\n",
    "from brtdevkit.data import Dataset\n",
    "from timezonefinder import TimezoneFinderL\n",
    "import pytz\n",
    "import cv2\n",
    "from brtdevkit.util.aws.s3 import S3\n",
    "client = S3()\n",
    "\n",
    "from aletheia_dataset_creator.dataset_tools.aletheia_dataset_helpers import imageids_to_dataset\n",
    "from aletheia_dataset_creator.config.dataset_config import LEFT_CAMERAS, ALL_CAMERA_PAIRS_LIST\n",
    "%matplotlib inline"
   ]
  },
  {
   "cell_type": "code",
   "execution_count": 2,
   "metadata": {},
   "outputs": [],
   "source": [
    "pd.set_option('display.max_rows', 500)\n",
    "athena = AthenaClient()\n",
    "s3 = boto3.resource('s3')\n",
    "tf = TimezoneFinderL()\n",
    "from pathlib import Path\n",
    "home = Path(os.path.expanduser('~'))\n",
    "data_path = home / 'data' "
   ]
  },
  {
   "cell_type": "code",
   "execution_count": 3,
   "metadata": {},
   "outputs": [],
   "source": [
    "if os.path.exists(data_path / 'df_sequences.parquet'):\n",
    "    df_sequences = pd.read_parquet(data_path / 'df_sequences.parquet')\n",
    "else:\n",
    "    print(\"Cache miss\")\n",
    "    query = \"\"\"SELECT ij.id, hard_drive_name, robot_name, collected_on,\n",
    "        bag_name, operating_field_name, operation_time, latitude, longitude, geohash, camera_location, \n",
    "        bundle, group_id, s3_bucket, s3_key, special_notes, image_artifact_jupiter.kind\n",
    "    FROM image_jupiter AS ij\n",
    "    JOIN \"image_artifact_jupiter\" ON ij.\"id\" = \"image_artifact_jupiter\".\"image\"\n",
    "    WHERE \"hard_drive_name\" IN ('JUPD-004_2023-7-19', 'JUPD-006_2023-7-19', 'JUPD-007_2023-7-11') AND image_artifact_jupiter.kind = 'debayeredrgb' AND camera_location IN ('rear-left', 'side-left-left', 'side-right-left')\n",
    "    \"\"\"\n",
    "    df_sequences: pd.DataFrame = athena.get_df(query) # type: ignore\n",
    "    df_sequences.to_parquet(data_path / 'df_sequences.parquet')\n",
    "df_sequences['image_id'] = df_sequences['id']\n",
    "df_sequences = df_sequences.set_index('id')"
   ]
  },
  {
   "cell_type": "code",
   "execution_count": 4,
   "metadata": {},
   "outputs": [],
   "source": [
    "if os.path.exists(data_path / 'df_dusty.parquet'):\n",
    "    df_dusty = pd.read_parquet(data_path / 'df_dusty.parquet')\n",
    "else:\n",
    "    print(\"Cache miss\")\n",
    "    query = \"\"\"SELECT ij.id, hard_drive_name, robot_name, collected_on,\n",
    "        bag_name, operating_field_name, operation_time, latitude, longitude, geohash, camera_location, \n",
    "        bundle, group_id, s3_bucket, s3_key, special_notes\n",
    "    FROM image_jupiter AS ij\n",
    "    JOIN \"image_artifact_jupiter\" ON ij.\"id\" = \"image_artifact_jupiter\".\"image\"\n",
    "    WHERE \"hard_drive_name\" IN ('JUPD-054_2023-6-13') AND image_artifact_jupiter.kind = 'debayeredrgb' AND camera_location LIKE '%left'\n",
    "    \"\"\"\n",
    "    df_dusty: pd.DataFrame = athena.get_df(query) # type: ignore\n",
    "    df_dusty.to_parquet(data_path / 'df_dusty.parquet')\n",
    "df_dusty['image_id'] = df_dusty['id']\n",
    "df_dusty = df_dusty.set_index('id')"
   ]
  },
  {
   "cell_type": "markdown",
   "metadata": {},
   "source": [
    "# Look through sequences"
   ]
  },
  {
   "cell_type": "code",
   "execution_count": 5,
   "metadata": {},
   "outputs": [],
   "source": [
    "from typing import Hashable\n",
    "df_groups_orig: dict[Hashable, list[Hashable]] = df_sequences.groupby('special_notes').groups\n",
    "df_index_orig = set(df_groups_orig.keys())\n",
    "merged_runs = []\n",
    "for e in [\n",
    "    'vehicle in dust time dawn/dusk',\n",
    "    'vehicle in dust day time ',\n",
    "    'vehicle in dust Day',\n",
    "    'vehicle dust dusk',\n",
    "]:\n",
    "    merged_runs.append(df_sequences[df_sequences['special_notes'] == e])\n",
    "merged_runs = pd.concat(merged_runs)\n",
    "for e in [\n",
    "    '6508 IQ-test-1',\n",
    "    '6524 IQ-Test-1',\n",
    "    '6524 IQ-Test-2',\n",
    "    'IQ-image to bright',\n",
    "    'dust right side',\n",
    "]:\n",
    "    df_index_orig.remove(e)\n",
    "df_sequences_valid = df_sequences[df_sequences['special_notes'].isin(df_index_orig)].copy()\n",
    "# rebuild the index and groups\n",
    "df_groups = df_sequences_valid.groupby('special_notes').groups\n",
    "df_index = set(df_groups.keys())"
   ]
  },
  {
   "cell_type": "code",
   "execution_count": 6,
   "metadata": {},
   "outputs": [
    {
     "name": "stdout",
     "output_type": "stream",
     "text": [
      "{28, 29, 30, 31, 32, 33, 34, 35, 37, 38, 39, 40, 41, 42, 43, 44, 45, 47, 48, 49, 50, 51, 52, 53, 54, 55, 56, 57, 58, 59, 60, 61, 62, 63, 64, 65, 66, 67, 68, 69, 70, 71, <NA>}\n"
     ]
    }
   ],
   "source": [
    "def get_run_id(df_row):\n",
    "    try:\n",
    "        return int(df_row['special_notes'].split(\" \")[-1])\n",
    "    except ValueError:\n",
    "        return pd.NA\n",
    "df_sequences_valid['run_id'] = df_sequences_valid.apply(get_run_id, axis=1)\n",
    "print(set(df_sequences_valid['run_id']))"
   ]
  },
  {
   "cell_type": "code",
   "execution_count": 8,
   "metadata": {},
   "outputs": [],
   "source": [
    "from datetime import datetime, timedelta\n",
    "interval = 5\n",
    "\n",
    "known_ids = set(df_sequences_valid['run_id'])\n",
    "total_sequences = 0\n",
    "merged_runs = merged_runs.sort_values('collected_on')\n",
    "# merged_runs['c'] = merged_runs.collected_on.apply(datetime.fromisoformat)\n",
    "delta = timedelta(seconds=interval)\n",
    "start_t = merged_runs.iloc[0].collected_on\n",
    "for i in range(1, len(merged_runs)):\n",
    "    end_t = merged_runs.iloc[i - 1].collected_on\n",
    "    next_t = merged_runs.iloc[i].collected_on\n",
    "    if next_t - end_t > delta or i == len(merged_runs) - 1:\n",
    "        if i == len(merged_runs) - 1:\n",
    "            next_t += timedelta(microseconds=1)\n",
    "        known_ids.add(total_sequences)\n",
    "        while total_sequences in known_ids:\n",
    "            total_sequences += 1\n",
    "        merged_runs.loc[(start_t <= merged_runs['collected_on']) & (merged_runs['collected_on'] < next_t), 'run_id'] = total_sequences\n",
    "        start_t = next_t"
   ]
  },
  {
   "cell_type": "code",
   "execution_count": 9,
   "metadata": {},
   "outputs": [],
   "source": [
    "out = []\n",
    "for id, row in df_sequences_valid.iterrows():\n",
    "    try:\n",
    "        out.append(merged_runs.loc[id]['run_id'])\n",
    "    except KeyError:\n",
    "        out.append(int(row['special_notes'].split(\" \")[-1]))\n",
    "        \n",
    "df_sequences_valid['run_id'] = out"
   ]
  },
  {
   "cell_type": "code",
   "execution_count": 10,
   "metadata": {},
   "outputs": [
    {
     "name": "stdout",
     "output_type": "stream",
     "text": [
      "87\n"
     ]
    }
   ],
   "source": [
    "# Should be 72?\n",
    "df_sequences_valid[df_sequences_valid['run_id'].isna()]\n",
    "print(total_sequences)"
   ]
  },
  {
   "cell_type": "code",
   "execution_count": 11,
   "metadata": {},
   "outputs": [],
   "source": [
    "def get_image(df_row, collected_on: str, folder_name: str):\n",
    "    if len(df_row) == 0:\n",
    "        whiteFrame = 255 * np.ones((604, 964, 3), np.uint8)\n",
    "        font = cv2.FONT_HERSHEY_PLAIN\n",
    "        whiteFrame = cv2.putText(whiteFrame, collected_on, (50, 400), font, 5, (0,0,0), 5)\n",
    "        return whiteFrame\n",
    "    elif isinstance(df_row, pd.DataFrame):\n",
    "        assert len(df_row) == 1\n",
    "        df_row = df_row.iloc[0]\n",
    "    file_name = Path(data_path) / folder_name / (str(df_row.image_id) + '.png')\n",
    "    if not os.path.exists(file_name):\n",
    "        client.download_file(df_row['s3_bucket'], df_row['s3_key'], file_name)\n",
    "    im = cv2.imread(str(file_name))\n",
    "    return im\n",
    "    "
   ]
  },
  {
   "cell_type": "code",
   "execution_count": 12,
   "metadata": {},
   "outputs": [],
   "source": [
    "def create_video_frames(file_prefix: str, base_df: pd.DataFrame, folder_name: str):\n",
    "    \"\"\"\n",
    "    Given dictionary with image paths creates concatenated image and video and saves to output_dir.\n",
    "    \"\"\"\n",
    "    video_dir = Path(data_path) / 'videos' / str(file_prefix) \n",
    "    os.makedirs(video_dir, exist_ok=True)\n",
    "    video_name = video_dir / \"video.mp4\"\n",
    "    if os.path.exists(video_name):\n",
    "        return\n",
    "    writer = imageio.get_writer(video_name, fps=1)\n",
    "    k_df = base_df.sort_values('collected_on')\n",
    "    k_groups = base_df.groupby('group_id').groups\n",
    "    seen = set()\n",
    "    print(len(k_df))\n",
    "    for row in tqdm(k_df.iterrows()):\n",
    "        gid = row[1]['group_id']\n",
    "        if gid in seen:\n",
    "            continue\n",
    "        seen.add(gid)\n",
    "        values = k_groups[gid]\n",
    "        group = k_df.loc[values]\n",
    "        collected_on_str = str(group.iloc[0].collected_on)[11:19]\n",
    "        # try:\n",
    "        # concatenate image Horizontally\n",
    "        front_pod = np.concatenate(\n",
    "            (\n",
    "                get_image(group[group['camera_location'] == 'front-left-left'], collected_on_str, folder_name),\n",
    "                get_image(group[group['camera_location'] == 'front-center-left'], collected_on_str, folder_name),\n",
    "                get_image(group[group['camera_location'] == 'front-right-left'], collected_on_str, folder_name),\n",
    "            ),\n",
    "            axis=1,\n",
    "        )\n",
    "        rear_pod = np.concatenate(\n",
    "            (\n",
    "                get_image(group[group['camera_location'] == 'side-left-left'], collected_on_str, folder_name),\n",
    "                get_image(group[group['camera_location'] == 'rear-left'], collected_on_str, folder_name),\n",
    "                get_image(group[group['camera_location'] == 'side-right-left'], collected_on_str, folder_name),\n",
    "            ),\n",
    "            axis=1,\n",
    "        )\n",
    "        # concatenate image vertically\n",
    "        all_cameras = np.concatenate((front_pod, rear_pod), axis=0)[::4, ::4, ::-1]\n",
    "        # save concatenated image file\n",
    "        full_img_name = f\"{collected_on_str}.png\"\n",
    "        file_path = os.path.join(video_dir, full_img_name)\n",
    "        plt.imsave(file_path, all_cameras)\n",
    "        plt.clf()\n",
    "        plt.close()\n",
    "        writer.append_data(imageio.imread(file_path))\n",
    "        # except Exception as e:\n",
    "        #     print(f\"Skipping frame. Exception occurred: {e}\")\n",
    "    writer.close()\n"
   ]
  },
  {
   "cell_type": "code",
   "execution_count": 13,
   "metadata": {},
   "outputs": [
    {
     "ename": "TokenRetrievalError",
     "evalue": "Error when retrieving token from sso: Token has expired and refresh failed",
     "output_type": "error",
     "traceback": [
      "\u001b[0;31m---------------------------------------------------------------------------\u001b[0m",
      "\u001b[0;31mTokenRetrievalError\u001b[0m                       Traceback (most recent call last)",
      "Cell \u001b[0;32mIn[13], line 10\u001b[0m\n\u001b[1;32m      8\u001b[0m         file_name \u001b[39m=\u001b[39m folder_name \u001b[39m/\u001b[39m \u001b[39mstr\u001b[39m(\u001b[39mid\u001b[39m \u001b[39m+\u001b[39m \u001b[39m'\u001b[39m\u001b[39m.png\u001b[39m\u001b[39m'\u001b[39m)\n\u001b[1;32m      9\u001b[0m         \u001b[39mif\u001b[39;00m \u001b[39mnot\u001b[39;00m os\u001b[39m.\u001b[39mpath\u001b[39m.\u001b[39mexists(file_name):\n\u001b[0;32m---> 10\u001b[0m             client\u001b[39m.\u001b[39;49mdownload_file(df_row[\u001b[39m'\u001b[39;49m\u001b[39ms3_bucket\u001b[39;49m\u001b[39m'\u001b[39;49m], df_row[\u001b[39m'\u001b[39;49m\u001b[39ms3_key\u001b[39;49m\u001b[39m'\u001b[39;49m], file_name)\n\u001b[1;32m     11\u001b[0m \u001b[39m# 2) Make all of the videos\u001b[39;00m\n\u001b[1;32m     12\u001b[0m \u001b[39m# for i in range(1, 1 + total_sequences):\u001b[39;00m\n\u001b[1;32m     13\u001b[0m     create_video_frames(\u001b[39mstr\u001b[39m(i), base_df, \u001b[39mstr\u001b[39m(\u001b[39mint\u001b[39m(df_row[\u001b[39m'\u001b[39m\u001b[39mrun_id\u001b[39m\u001b[39m'\u001b[39m])))\n",
      "File \u001b[0;32m~/miniconda3/envs/cvml/lib/python3.10/site-packages/brtdevkit/util/aws/s3.py:101\u001b[0m, in \u001b[0;36mS3.download_file\u001b[0;34m(self, bucket_name, key, target_path)\u001b[0m\n\u001b[1;32m     91\u001b[0m \u001b[39m\u001b[39m\u001b[39m\"\"\"Download a file object from an S3 bucket to a local target path.\u001b[39;00m\n\u001b[1;32m     92\u001b[0m \n\u001b[1;32m     93\u001b[0m \u001b[39mArgs:\u001b[39;00m\n\u001b[0;32m   (...)\u001b[0m\n\u001b[1;32m     98\u001b[0m \u001b[39m    bool - Whether the download was successful or not.\u001b[39;00m\n\u001b[1;32m     99\u001b[0m \u001b[39m\"\"\"\u001b[39;00m\n\u001b[1;32m    100\u001b[0m \u001b[39mtry\u001b[39;00m:\n\u001b[0;32m--> 101\u001b[0m     \u001b[39mself\u001b[39;49m\u001b[39m.\u001b[39;49mclient\u001b[39m.\u001b[39;49mdownload_file(Bucket\u001b[39m=\u001b[39;49mbucket_name, Key\u001b[39m=\u001b[39;49mkey, Filename\u001b[39m=\u001b[39;49mtarget_path)\n\u001b[1;32m    102\u001b[0m     \u001b[39mreturn\u001b[39;00m \u001b[39mTrue\u001b[39;00m\n\u001b[1;32m    103\u001b[0m \u001b[39mexcept\u001b[39;00m botocore\u001b[39m.\u001b[39mexceptions\u001b[39m.\u001b[39mClientError \u001b[39mas\u001b[39;00m e:\n",
      "File \u001b[0;32m~/miniconda3/envs/cvml/lib/python3.10/site-packages/boto3/s3/inject.py:190\u001b[0m, in \u001b[0;36mdownload_file\u001b[0;34m(self, Bucket, Key, Filename, ExtraArgs, Callback, Config)\u001b[0m\n\u001b[1;32m    155\u001b[0m \u001b[39m\u001b[39m\u001b[39m\"\"\"Download an S3 object to a file.\u001b[39;00m\n\u001b[1;32m    156\u001b[0m \n\u001b[1;32m    157\u001b[0m \u001b[39mUsage::\u001b[39;00m\n\u001b[0;32m   (...)\u001b[0m\n\u001b[1;32m    187\u001b[0m \u001b[39m    transfer.\u001b[39;00m\n\u001b[1;32m    188\u001b[0m \u001b[39m\"\"\"\u001b[39;00m\n\u001b[1;32m    189\u001b[0m \u001b[39mwith\u001b[39;00m S3Transfer(\u001b[39mself\u001b[39m, Config) \u001b[39mas\u001b[39;00m transfer:\n\u001b[0;32m--> 190\u001b[0m     \u001b[39mreturn\u001b[39;00m transfer\u001b[39m.\u001b[39;49mdownload_file(\n\u001b[1;32m    191\u001b[0m         bucket\u001b[39m=\u001b[39;49mBucket,\n\u001b[1;32m    192\u001b[0m         key\u001b[39m=\u001b[39;49mKey,\n\u001b[1;32m    193\u001b[0m         filename\u001b[39m=\u001b[39;49mFilename,\n\u001b[1;32m    194\u001b[0m         extra_args\u001b[39m=\u001b[39;49mExtraArgs,\n\u001b[1;32m    195\u001b[0m         callback\u001b[39m=\u001b[39;49mCallback,\n\u001b[1;32m    196\u001b[0m     )\n",
      "File \u001b[0;32m~/miniconda3/envs/cvml/lib/python3.10/site-packages/boto3/s3/transfer.py:326\u001b[0m, in \u001b[0;36mS3Transfer.download_file\u001b[0;34m(self, bucket, key, filename, extra_args, callback)\u001b[0m\n\u001b[1;32m    322\u001b[0m future \u001b[39m=\u001b[39m \u001b[39mself\u001b[39m\u001b[39m.\u001b[39m_manager\u001b[39m.\u001b[39mdownload(\n\u001b[1;32m    323\u001b[0m     bucket, key, filename, extra_args, subscribers\n\u001b[1;32m    324\u001b[0m )\n\u001b[1;32m    325\u001b[0m \u001b[39mtry\u001b[39;00m:\n\u001b[0;32m--> 326\u001b[0m     future\u001b[39m.\u001b[39;49mresult()\n\u001b[1;32m    327\u001b[0m \u001b[39m# This is for backwards compatibility where when retries are\u001b[39;00m\n\u001b[1;32m    328\u001b[0m \u001b[39m# exceeded we need to throw the same error from boto3 instead of\u001b[39;00m\n\u001b[1;32m    329\u001b[0m \u001b[39m# s3transfer's built in RetriesExceededError as current users are\u001b[39;00m\n\u001b[1;32m    330\u001b[0m \u001b[39m# catching the boto3 one instead of the s3transfer exception to do\u001b[39;00m\n\u001b[1;32m    331\u001b[0m \u001b[39m# their own retries.\u001b[39;00m\n\u001b[1;32m    332\u001b[0m \u001b[39mexcept\u001b[39;00m S3TransferRetriesExceededError \u001b[39mas\u001b[39;00m e:\n",
      "File \u001b[0;32m~/miniconda3/envs/cvml/lib/python3.10/site-packages/s3transfer/futures.py:103\u001b[0m, in \u001b[0;36mTransferFuture.result\u001b[0;34m(self)\u001b[0m\n\u001b[1;32m     98\u001b[0m \u001b[39mdef\u001b[39;00m \u001b[39mresult\u001b[39m(\u001b[39mself\u001b[39m):\n\u001b[1;32m     99\u001b[0m     \u001b[39mtry\u001b[39;00m:\n\u001b[1;32m    100\u001b[0m         \u001b[39m# Usually the result() method blocks until the transfer is done,\u001b[39;00m\n\u001b[1;32m    101\u001b[0m         \u001b[39m# however if a KeyboardInterrupt is raised we want want to exit\u001b[39;00m\n\u001b[1;32m    102\u001b[0m         \u001b[39m# out of this and propagate the exception.\u001b[39;00m\n\u001b[0;32m--> 103\u001b[0m         \u001b[39mreturn\u001b[39;00m \u001b[39mself\u001b[39;49m\u001b[39m.\u001b[39;49m_coordinator\u001b[39m.\u001b[39;49mresult()\n\u001b[1;32m    104\u001b[0m     \u001b[39mexcept\u001b[39;00m \u001b[39mKeyboardInterrupt\u001b[39;00m \u001b[39mas\u001b[39;00m e:\n\u001b[1;32m    105\u001b[0m         \u001b[39mself\u001b[39m\u001b[39m.\u001b[39mcancel()\n",
      "File \u001b[0;32m~/miniconda3/envs/cvml/lib/python3.10/site-packages/s3transfer/futures.py:266\u001b[0m, in \u001b[0;36mTransferCoordinator.result\u001b[0;34m(self)\u001b[0m\n\u001b[1;32m    263\u001b[0m \u001b[39m# Once done waiting, raise an exception if present or return the\u001b[39;00m\n\u001b[1;32m    264\u001b[0m \u001b[39m# final result.\u001b[39;00m\n\u001b[1;32m    265\u001b[0m \u001b[39mif\u001b[39;00m \u001b[39mself\u001b[39m\u001b[39m.\u001b[39m_exception:\n\u001b[0;32m--> 266\u001b[0m     \u001b[39mraise\u001b[39;00m \u001b[39mself\u001b[39m\u001b[39m.\u001b[39m_exception\n\u001b[1;32m    267\u001b[0m \u001b[39mreturn\u001b[39;00m \u001b[39mself\u001b[39m\u001b[39m.\u001b[39m_result\n",
      "File \u001b[0;32m~/miniconda3/envs/cvml/lib/python3.10/site-packages/s3transfer/tasks.py:269\u001b[0m, in \u001b[0;36mSubmissionTask._main\u001b[0;34m(self, transfer_future, **kwargs)\u001b[0m\n\u001b[1;32m    265\u001b[0m     \u001b[39mself\u001b[39m\u001b[39m.\u001b[39m_transfer_coordinator\u001b[39m.\u001b[39mset_status_to_running()\n\u001b[1;32m    267\u001b[0m     \u001b[39m# Call the submit method to start submitting tasks to execute the\u001b[39;00m\n\u001b[1;32m    268\u001b[0m     \u001b[39m# transfer.\u001b[39;00m\n\u001b[0;32m--> 269\u001b[0m     \u001b[39mself\u001b[39;49m\u001b[39m.\u001b[39;49m_submit(transfer_future\u001b[39m=\u001b[39;49mtransfer_future, \u001b[39m*\u001b[39;49m\u001b[39m*\u001b[39;49mkwargs)\n\u001b[1;32m    270\u001b[0m \u001b[39mexcept\u001b[39;00m \u001b[39mBaseException\u001b[39;00m \u001b[39mas\u001b[39;00m e:\n\u001b[1;32m    271\u001b[0m     \u001b[39m# If there was an exception raised during the submission of task\u001b[39;00m\n\u001b[1;32m    272\u001b[0m     \u001b[39m# there is a chance that the final task that signals if a transfer\u001b[39;00m\n\u001b[0;32m   (...)\u001b[0m\n\u001b[1;32m    281\u001b[0m \n\u001b[1;32m    282\u001b[0m     \u001b[39m# Set the exception, that caused the process to fail.\u001b[39;00m\n\u001b[1;32m    283\u001b[0m     \u001b[39mself\u001b[39m\u001b[39m.\u001b[39m_log_and_set_exception(e)\n",
      "File \u001b[0;32m~/miniconda3/envs/cvml/lib/python3.10/site-packages/s3transfer/download.py:354\u001b[0m, in \u001b[0;36mDownloadSubmissionTask._submit\u001b[0;34m(self, client, config, osutil, request_executor, io_executor, transfer_future, bandwidth_limiter)\u001b[0m\n\u001b[1;32m    325\u001b[0m \u001b[39m\u001b[39m\u001b[39m\"\"\"\u001b[39;00m\n\u001b[1;32m    326\u001b[0m \u001b[39m:param client: The client associated with the transfer manager\u001b[39;00m\n\u001b[1;32m    327\u001b[0m \n\u001b[0;32m   (...)\u001b[0m\n\u001b[1;32m    349\u001b[0m \u001b[39m    downloading streams\u001b[39;00m\n\u001b[1;32m    350\u001b[0m \u001b[39m\"\"\"\u001b[39;00m\n\u001b[1;32m    351\u001b[0m \u001b[39mif\u001b[39;00m transfer_future\u001b[39m.\u001b[39mmeta\u001b[39m.\u001b[39msize \u001b[39mis\u001b[39;00m \u001b[39mNone\u001b[39;00m:\n\u001b[1;32m    352\u001b[0m     \u001b[39m# If a size was not provided figure out the size for the\u001b[39;00m\n\u001b[1;32m    353\u001b[0m     \u001b[39m# user.\u001b[39;00m\n\u001b[0;32m--> 354\u001b[0m     response \u001b[39m=\u001b[39m client\u001b[39m.\u001b[39;49mhead_object(\n\u001b[1;32m    355\u001b[0m         Bucket\u001b[39m=\u001b[39;49mtransfer_future\u001b[39m.\u001b[39;49mmeta\u001b[39m.\u001b[39;49mcall_args\u001b[39m.\u001b[39;49mbucket,\n\u001b[1;32m    356\u001b[0m         Key\u001b[39m=\u001b[39;49mtransfer_future\u001b[39m.\u001b[39;49mmeta\u001b[39m.\u001b[39;49mcall_args\u001b[39m.\u001b[39;49mkey,\n\u001b[1;32m    357\u001b[0m         \u001b[39m*\u001b[39;49m\u001b[39m*\u001b[39;49mtransfer_future\u001b[39m.\u001b[39;49mmeta\u001b[39m.\u001b[39;49mcall_args\u001b[39m.\u001b[39;49mextra_args,\n\u001b[1;32m    358\u001b[0m     )\n\u001b[1;32m    359\u001b[0m     transfer_future\u001b[39m.\u001b[39mmeta\u001b[39m.\u001b[39mprovide_transfer_size(\n\u001b[1;32m    360\u001b[0m         response[\u001b[39m'\u001b[39m\u001b[39mContentLength\u001b[39m\u001b[39m'\u001b[39m]\n\u001b[1;32m    361\u001b[0m     )\n\u001b[1;32m    363\u001b[0m download_output_manager \u001b[39m=\u001b[39m \u001b[39mself\u001b[39m\u001b[39m.\u001b[39m_get_download_output_manager_cls(\n\u001b[1;32m    364\u001b[0m     transfer_future, osutil\n\u001b[1;32m    365\u001b[0m )(osutil, \u001b[39mself\u001b[39m\u001b[39m.\u001b[39m_transfer_coordinator, io_executor)\n",
      "File \u001b[0;32m~/miniconda3/envs/cvml/lib/python3.10/site-packages/botocore/client.py:530\u001b[0m, in \u001b[0;36mClientCreator._create_api_method.<locals>._api_call\u001b[0;34m(self, *args, **kwargs)\u001b[0m\n\u001b[1;32m    526\u001b[0m     \u001b[39mraise\u001b[39;00m \u001b[39mTypeError\u001b[39;00m(\n\u001b[1;32m    527\u001b[0m         \u001b[39mf\u001b[39m\u001b[39m\"\u001b[39m\u001b[39m{\u001b[39;00mpy_operation_name\u001b[39m}\u001b[39;00m\u001b[39m() only accepts keyword arguments.\u001b[39m\u001b[39m\"\u001b[39m\n\u001b[1;32m    528\u001b[0m     )\n\u001b[1;32m    529\u001b[0m \u001b[39m# The \"self\" in this scope is referring to the BaseClient.\u001b[39;00m\n\u001b[0;32m--> 530\u001b[0m \u001b[39mreturn\u001b[39;00m \u001b[39mself\u001b[39;49m\u001b[39m.\u001b[39;49m_make_api_call(operation_name, kwargs)\n",
      "File \u001b[0;32m~/miniconda3/envs/cvml/lib/python3.10/site-packages/botocore/client.py:947\u001b[0m, in \u001b[0;36mBaseClient._make_api_call\u001b[0;34m(self, operation_name, api_params)\u001b[0m\n\u001b[1;32m    945\u001b[0m \u001b[39melse\u001b[39;00m:\n\u001b[1;32m    946\u001b[0m     apply_request_checksum(request_dict)\n\u001b[0;32m--> 947\u001b[0m     http, parsed_response \u001b[39m=\u001b[39m \u001b[39mself\u001b[39;49m\u001b[39m.\u001b[39;49m_make_request(\n\u001b[1;32m    948\u001b[0m         operation_model, request_dict, request_context\n\u001b[1;32m    949\u001b[0m     )\n\u001b[1;32m    951\u001b[0m \u001b[39mself\u001b[39m\u001b[39m.\u001b[39mmeta\u001b[39m.\u001b[39mevents\u001b[39m.\u001b[39memit(\n\u001b[1;32m    952\u001b[0m     \u001b[39m'\u001b[39m\u001b[39mafter-call.\u001b[39m\u001b[39m{service_id}\u001b[39;00m\u001b[39m.\u001b[39m\u001b[39m{operation_name}\u001b[39;00m\u001b[39m'\u001b[39m\u001b[39m.\u001b[39mformat(\n\u001b[1;32m    953\u001b[0m         service_id\u001b[39m=\u001b[39mservice_id, operation_name\u001b[39m=\u001b[39moperation_name\n\u001b[0;32m   (...)\u001b[0m\n\u001b[1;32m    958\u001b[0m     context\u001b[39m=\u001b[39mrequest_context,\n\u001b[1;32m    959\u001b[0m )\n\u001b[1;32m    961\u001b[0m \u001b[39mif\u001b[39;00m http\u001b[39m.\u001b[39mstatus_code \u001b[39m>\u001b[39m\u001b[39m=\u001b[39m \u001b[39m300\u001b[39m:\n",
      "File \u001b[0;32m~/miniconda3/envs/cvml/lib/python3.10/site-packages/botocore/client.py:970\u001b[0m, in \u001b[0;36mBaseClient._make_request\u001b[0;34m(self, operation_model, request_dict, request_context)\u001b[0m\n\u001b[1;32m    968\u001b[0m \u001b[39mdef\u001b[39;00m \u001b[39m_make_request\u001b[39m(\u001b[39mself\u001b[39m, operation_model, request_dict, request_context):\n\u001b[1;32m    969\u001b[0m     \u001b[39mtry\u001b[39;00m:\n\u001b[0;32m--> 970\u001b[0m         \u001b[39mreturn\u001b[39;00m \u001b[39mself\u001b[39;49m\u001b[39m.\u001b[39;49m_endpoint\u001b[39m.\u001b[39;49mmake_request(operation_model, request_dict)\n\u001b[1;32m    971\u001b[0m     \u001b[39mexcept\u001b[39;00m \u001b[39mException\u001b[39;00m \u001b[39mas\u001b[39;00m e:\n\u001b[1;32m    972\u001b[0m         \u001b[39mself\u001b[39m\u001b[39m.\u001b[39mmeta\u001b[39m.\u001b[39mevents\u001b[39m.\u001b[39memit(\n\u001b[1;32m    973\u001b[0m             \u001b[39m'\u001b[39m\u001b[39mafter-call-error.\u001b[39m\u001b[39m{service_id}\u001b[39;00m\u001b[39m.\u001b[39m\u001b[39m{operation_name}\u001b[39;00m\u001b[39m'\u001b[39m\u001b[39m.\u001b[39mformat(\n\u001b[1;32m    974\u001b[0m                 service_id\u001b[39m=\u001b[39m\u001b[39mself\u001b[39m\u001b[39m.\u001b[39m_service_model\u001b[39m.\u001b[39mservice_id\u001b[39m.\u001b[39mhyphenize(),\n\u001b[0;32m   (...)\u001b[0m\n\u001b[1;32m    978\u001b[0m             context\u001b[39m=\u001b[39mrequest_context,\n\u001b[1;32m    979\u001b[0m         )\n",
      "File \u001b[0;32m~/miniconda3/envs/cvml/lib/python3.10/site-packages/botocore/endpoint.py:119\u001b[0m, in \u001b[0;36mEndpoint.make_request\u001b[0;34m(self, operation_model, request_dict)\u001b[0m\n\u001b[1;32m    113\u001b[0m \u001b[39mdef\u001b[39;00m \u001b[39mmake_request\u001b[39m(\u001b[39mself\u001b[39m, operation_model, request_dict):\n\u001b[1;32m    114\u001b[0m     logger\u001b[39m.\u001b[39mdebug(\n\u001b[1;32m    115\u001b[0m         \u001b[39m\"\u001b[39m\u001b[39mMaking request for \u001b[39m\u001b[39m%s\u001b[39;00m\u001b[39m with params: \u001b[39m\u001b[39m%s\u001b[39;00m\u001b[39m\"\u001b[39m,\n\u001b[1;32m    116\u001b[0m         operation_model,\n\u001b[1;32m    117\u001b[0m         request_dict,\n\u001b[1;32m    118\u001b[0m     )\n\u001b[0;32m--> 119\u001b[0m     \u001b[39mreturn\u001b[39;00m \u001b[39mself\u001b[39;49m\u001b[39m.\u001b[39;49m_send_request(request_dict, operation_model)\n",
      "File \u001b[0;32m~/miniconda3/envs/cvml/lib/python3.10/site-packages/botocore/endpoint.py:198\u001b[0m, in \u001b[0;36mEndpoint._send_request\u001b[0;34m(self, request_dict, operation_model)\u001b[0m\n\u001b[1;32m    196\u001b[0m context \u001b[39m=\u001b[39m request_dict[\u001b[39m'\u001b[39m\u001b[39mcontext\u001b[39m\u001b[39m'\u001b[39m]\n\u001b[1;32m    197\u001b[0m \u001b[39mself\u001b[39m\u001b[39m.\u001b[39m_update_retries_context(context, attempts)\n\u001b[0;32m--> 198\u001b[0m request \u001b[39m=\u001b[39m \u001b[39mself\u001b[39;49m\u001b[39m.\u001b[39;49mcreate_request(request_dict, operation_model)\n\u001b[1;32m    199\u001b[0m success_response, exception \u001b[39m=\u001b[39m \u001b[39mself\u001b[39m\u001b[39m.\u001b[39m_get_response(\n\u001b[1;32m    200\u001b[0m     request, operation_model, context\n\u001b[1;32m    201\u001b[0m )\n\u001b[1;32m    202\u001b[0m \u001b[39mwhile\u001b[39;00m \u001b[39mself\u001b[39m\u001b[39m.\u001b[39m_needs_retry(\n\u001b[1;32m    203\u001b[0m     attempts,\n\u001b[1;32m    204\u001b[0m     operation_model,\n\u001b[0;32m   (...)\u001b[0m\n\u001b[1;32m    207\u001b[0m     exception,\n\u001b[1;32m    208\u001b[0m ):\n",
      "File \u001b[0;32m~/miniconda3/envs/cvml/lib/python3.10/site-packages/botocore/endpoint.py:134\u001b[0m, in \u001b[0;36mEndpoint.create_request\u001b[0;34m(self, params, operation_model)\u001b[0m\n\u001b[1;32m    130\u001b[0m     service_id \u001b[39m=\u001b[39m operation_model\u001b[39m.\u001b[39mservice_model\u001b[39m.\u001b[39mservice_id\u001b[39m.\u001b[39mhyphenize()\n\u001b[1;32m    131\u001b[0m     event_name \u001b[39m=\u001b[39m \u001b[39m'\u001b[39m\u001b[39mrequest-created.\u001b[39m\u001b[39m{service_id}\u001b[39;00m\u001b[39m.\u001b[39m\u001b[39m{op_name}\u001b[39;00m\u001b[39m'\u001b[39m\u001b[39m.\u001b[39mformat(\n\u001b[1;32m    132\u001b[0m         service_id\u001b[39m=\u001b[39mservice_id, op_name\u001b[39m=\u001b[39moperation_model\u001b[39m.\u001b[39mname\n\u001b[1;32m    133\u001b[0m     )\n\u001b[0;32m--> 134\u001b[0m     \u001b[39mself\u001b[39;49m\u001b[39m.\u001b[39;49m_event_emitter\u001b[39m.\u001b[39;49memit(\n\u001b[1;32m    135\u001b[0m         event_name,\n\u001b[1;32m    136\u001b[0m         request\u001b[39m=\u001b[39;49mrequest,\n\u001b[1;32m    137\u001b[0m         operation_name\u001b[39m=\u001b[39;49moperation_model\u001b[39m.\u001b[39;49mname,\n\u001b[1;32m    138\u001b[0m     )\n\u001b[1;32m    139\u001b[0m prepared_request \u001b[39m=\u001b[39m \u001b[39mself\u001b[39m\u001b[39m.\u001b[39mprepare_request(request)\n\u001b[1;32m    140\u001b[0m \u001b[39mreturn\u001b[39;00m prepared_request\n",
      "File \u001b[0;32m~/miniconda3/envs/cvml/lib/python3.10/site-packages/botocore/hooks.py:412\u001b[0m, in \u001b[0;36mEventAliaser.emit\u001b[0;34m(self, event_name, **kwargs)\u001b[0m\n\u001b[1;32m    410\u001b[0m \u001b[39mdef\u001b[39;00m \u001b[39memit\u001b[39m(\u001b[39mself\u001b[39m, event_name, \u001b[39m*\u001b[39m\u001b[39m*\u001b[39mkwargs):\n\u001b[1;32m    411\u001b[0m     aliased_event_name \u001b[39m=\u001b[39m \u001b[39mself\u001b[39m\u001b[39m.\u001b[39m_alias_event_name(event_name)\n\u001b[0;32m--> 412\u001b[0m     \u001b[39mreturn\u001b[39;00m \u001b[39mself\u001b[39;49m\u001b[39m.\u001b[39;49m_emitter\u001b[39m.\u001b[39;49memit(aliased_event_name, \u001b[39m*\u001b[39;49m\u001b[39m*\u001b[39;49mkwargs)\n",
      "File \u001b[0;32m~/miniconda3/envs/cvml/lib/python3.10/site-packages/botocore/hooks.py:256\u001b[0m, in \u001b[0;36mHierarchicalEmitter.emit\u001b[0;34m(self, event_name, **kwargs)\u001b[0m\n\u001b[1;32m    245\u001b[0m \u001b[39mdef\u001b[39;00m \u001b[39memit\u001b[39m(\u001b[39mself\u001b[39m, event_name, \u001b[39m*\u001b[39m\u001b[39m*\u001b[39mkwargs):\n\u001b[1;32m    246\u001b[0m \u001b[39m    \u001b[39m\u001b[39m\"\"\"\u001b[39;00m\n\u001b[1;32m    247\u001b[0m \u001b[39m    Emit an event by name with arguments passed as keyword args.\u001b[39;00m\n\u001b[1;32m    248\u001b[0m \n\u001b[0;32m   (...)\u001b[0m\n\u001b[1;32m    254\u001b[0m \u001b[39m             handlers.\u001b[39;00m\n\u001b[1;32m    255\u001b[0m \u001b[39m    \"\"\"\u001b[39;00m\n\u001b[0;32m--> 256\u001b[0m     \u001b[39mreturn\u001b[39;00m \u001b[39mself\u001b[39;49m\u001b[39m.\u001b[39;49m_emit(event_name, kwargs)\n",
      "File \u001b[0;32m~/miniconda3/envs/cvml/lib/python3.10/site-packages/botocore/hooks.py:239\u001b[0m, in \u001b[0;36mHierarchicalEmitter._emit\u001b[0;34m(self, event_name, kwargs, stop_on_response)\u001b[0m\n\u001b[1;32m    237\u001b[0m \u001b[39mfor\u001b[39;00m handler \u001b[39min\u001b[39;00m handlers_to_call:\n\u001b[1;32m    238\u001b[0m     logger\u001b[39m.\u001b[39mdebug(\u001b[39m'\u001b[39m\u001b[39mEvent \u001b[39m\u001b[39m%s\u001b[39;00m\u001b[39m: calling handler \u001b[39m\u001b[39m%s\u001b[39;00m\u001b[39m'\u001b[39m, event_name, handler)\n\u001b[0;32m--> 239\u001b[0m     response \u001b[39m=\u001b[39m handler(\u001b[39m*\u001b[39;49m\u001b[39m*\u001b[39;49mkwargs)\n\u001b[1;32m    240\u001b[0m     responses\u001b[39m.\u001b[39mappend((handler, response))\n\u001b[1;32m    241\u001b[0m     \u001b[39mif\u001b[39;00m stop_on_response \u001b[39mand\u001b[39;00m response \u001b[39mis\u001b[39;00m \u001b[39mnot\u001b[39;00m \u001b[39mNone\u001b[39;00m:\n",
      "File \u001b[0;32m~/miniconda3/envs/cvml/lib/python3.10/site-packages/botocore/signers.py:105\u001b[0m, in \u001b[0;36mRequestSigner.handler\u001b[0;34m(self, operation_name, request, **kwargs)\u001b[0m\n\u001b[1;32m    100\u001b[0m \u001b[39mdef\u001b[39;00m \u001b[39mhandler\u001b[39m(\u001b[39mself\u001b[39m, operation_name\u001b[39m=\u001b[39m\u001b[39mNone\u001b[39;00m, request\u001b[39m=\u001b[39m\u001b[39mNone\u001b[39;00m, \u001b[39m*\u001b[39m\u001b[39m*\u001b[39mkwargs):\n\u001b[1;32m    101\u001b[0m     \u001b[39m# This is typically hooked up to the \"request-created\" event\u001b[39;00m\n\u001b[1;32m    102\u001b[0m     \u001b[39m# from a client's event emitter.  When a new request is created\u001b[39;00m\n\u001b[1;32m    103\u001b[0m     \u001b[39m# this method is invoked to sign the request.\u001b[39;00m\n\u001b[1;32m    104\u001b[0m     \u001b[39m# Don't call this method directly.\u001b[39;00m\n\u001b[0;32m--> 105\u001b[0m     \u001b[39mreturn\u001b[39;00m \u001b[39mself\u001b[39;49m\u001b[39m.\u001b[39;49msign(operation_name, request)\n",
      "File \u001b[0;32m~/miniconda3/envs/cvml/lib/python3.10/site-packages/botocore/signers.py:180\u001b[0m, in \u001b[0;36mRequestSigner.sign\u001b[0;34m(self, operation_name, request, region_name, signing_type, expires_in, signing_name)\u001b[0m\n\u001b[1;32m    178\u001b[0m     kwargs[\u001b[39m'\u001b[39m\u001b[39msigning_name\u001b[39m\u001b[39m'\u001b[39m] \u001b[39m=\u001b[39m signing_context[\u001b[39m'\u001b[39m\u001b[39msigning_name\u001b[39m\u001b[39m'\u001b[39m]\n\u001b[1;32m    179\u001b[0m \u001b[39mtry\u001b[39;00m:\n\u001b[0;32m--> 180\u001b[0m     auth \u001b[39m=\u001b[39m \u001b[39mself\u001b[39;49m\u001b[39m.\u001b[39;49mget_auth_instance(\u001b[39m*\u001b[39;49m\u001b[39m*\u001b[39;49mkwargs)\n\u001b[1;32m    181\u001b[0m \u001b[39mexcept\u001b[39;00m UnknownSignatureVersionError \u001b[39mas\u001b[39;00m e:\n\u001b[1;32m    182\u001b[0m     \u001b[39mif\u001b[39;00m signing_type \u001b[39m!=\u001b[39m \u001b[39m'\u001b[39m\u001b[39mstandard\u001b[39m\u001b[39m'\u001b[39m:\n",
      "File \u001b[0;32m~/miniconda3/envs/cvml/lib/python3.10/site-packages/botocore/signers.py:284\u001b[0m, in \u001b[0;36mRequestSigner.get_auth_instance\u001b[0;34m(self, signing_name, region_name, signature_version, **kwargs)\u001b[0m\n\u001b[1;32m    282\u001b[0m frozen_credentials \u001b[39m=\u001b[39m \u001b[39mNone\u001b[39;00m\n\u001b[1;32m    283\u001b[0m \u001b[39mif\u001b[39;00m \u001b[39mself\u001b[39m\u001b[39m.\u001b[39m_credentials \u001b[39mis\u001b[39;00m \u001b[39mnot\u001b[39;00m \u001b[39mNone\u001b[39;00m:\n\u001b[0;32m--> 284\u001b[0m     frozen_credentials \u001b[39m=\u001b[39m \u001b[39mself\u001b[39;49m\u001b[39m.\u001b[39;49m_credentials\u001b[39m.\u001b[39;49mget_frozen_credentials()\n\u001b[1;32m    285\u001b[0m kwargs[\u001b[39m'\u001b[39m\u001b[39mcredentials\u001b[39m\u001b[39m'\u001b[39m] \u001b[39m=\u001b[39m frozen_credentials\n\u001b[1;32m    286\u001b[0m \u001b[39mif\u001b[39;00m \u001b[39mcls\u001b[39m\u001b[39m.\u001b[39mREQUIRES_REGION:\n",
      "File \u001b[0;32m~/miniconda3/envs/cvml/lib/python3.10/site-packages/botocore/credentials.py:610\u001b[0m, in \u001b[0;36mRefreshableCredentials.get_frozen_credentials\u001b[0;34m(self)\u001b[0m\n\u001b[1;32m    576\u001b[0m \u001b[39mdef\u001b[39;00m \u001b[39mget_frozen_credentials\u001b[39m(\u001b[39mself\u001b[39m):\n\u001b[1;32m    577\u001b[0m \u001b[39m    \u001b[39m\u001b[39m\"\"\"Return immutable credentials.\u001b[39;00m\n\u001b[1;32m    578\u001b[0m \n\u001b[1;32m    579\u001b[0m \u001b[39m    The ``access_key``, ``secret_key``, and ``token`` properties\u001b[39;00m\n\u001b[0;32m   (...)\u001b[0m\n\u001b[1;32m    608\u001b[0m \n\u001b[1;32m    609\u001b[0m \u001b[39m    \"\"\"\u001b[39;00m\n\u001b[0;32m--> 610\u001b[0m     \u001b[39mself\u001b[39;49m\u001b[39m.\u001b[39;49m_refresh()\n\u001b[1;32m    611\u001b[0m     \u001b[39mreturn\u001b[39;00m \u001b[39mself\u001b[39m\u001b[39m.\u001b[39m_frozen_credentials\n",
      "File \u001b[0;32m~/miniconda3/envs/cvml/lib/python3.10/site-packages/botocore/credentials.py:498\u001b[0m, in \u001b[0;36mRefreshableCredentials._refresh\u001b[0;34m(self)\u001b[0m\n\u001b[1;32m    494\u001b[0m         \u001b[39mreturn\u001b[39;00m\n\u001b[1;32m    495\u001b[0m     is_mandatory_refresh \u001b[39m=\u001b[39m \u001b[39mself\u001b[39m\u001b[39m.\u001b[39mrefresh_needed(\n\u001b[1;32m    496\u001b[0m         \u001b[39mself\u001b[39m\u001b[39m.\u001b[39m_mandatory_refresh_timeout\n\u001b[1;32m    497\u001b[0m     )\n\u001b[0;32m--> 498\u001b[0m     \u001b[39mself\u001b[39;49m\u001b[39m.\u001b[39;49m_protected_refresh(is_mandatory\u001b[39m=\u001b[39;49mis_mandatory_refresh)\n\u001b[1;32m    499\u001b[0m     \u001b[39mreturn\u001b[39;00m\n\u001b[1;32m    500\u001b[0m \u001b[39mfinally\u001b[39;00m:\n",
      "File \u001b[0;32m~/miniconda3/envs/cvml/lib/python3.10/site-packages/botocore/credentials.py:514\u001b[0m, in \u001b[0;36mRefreshableCredentials._protected_refresh\u001b[0;34m(self, is_mandatory)\u001b[0m\n\u001b[1;32m    510\u001b[0m \u001b[39mdef\u001b[39;00m \u001b[39m_protected_refresh\u001b[39m(\u001b[39mself\u001b[39m, is_mandatory):\n\u001b[1;32m    511\u001b[0m     \u001b[39m# precondition: this method should only be called if you've acquired\u001b[39;00m\n\u001b[1;32m    512\u001b[0m     \u001b[39m# the self._refresh_lock.\u001b[39;00m\n\u001b[1;32m    513\u001b[0m     \u001b[39mtry\u001b[39;00m:\n\u001b[0;32m--> 514\u001b[0m         metadata \u001b[39m=\u001b[39m \u001b[39mself\u001b[39;49m\u001b[39m.\u001b[39;49m_refresh_using()\n\u001b[1;32m    515\u001b[0m     \u001b[39mexcept\u001b[39;00m \u001b[39mException\u001b[39;00m:\n\u001b[1;32m    516\u001b[0m         period_name \u001b[39m=\u001b[39m \u001b[39m'\u001b[39m\u001b[39mmandatory\u001b[39m\u001b[39m'\u001b[39m \u001b[39mif\u001b[39;00m is_mandatory \u001b[39melse\u001b[39;00m \u001b[39m'\u001b[39m\u001b[39madvisory\u001b[39m\u001b[39m'\u001b[39m\n",
      "File \u001b[0;32m~/miniconda3/envs/cvml/lib/python3.10/site-packages/botocore/credentials.py:661\u001b[0m, in \u001b[0;36mCachedCredentialFetcher.fetch_credentials\u001b[0;34m(self)\u001b[0m\n\u001b[1;32m    660\u001b[0m \u001b[39mdef\u001b[39;00m \u001b[39mfetch_credentials\u001b[39m(\u001b[39mself\u001b[39m):\n\u001b[0;32m--> 661\u001b[0m     \u001b[39mreturn\u001b[39;00m \u001b[39mself\u001b[39;49m\u001b[39m.\u001b[39;49m_get_cached_credentials()\n",
      "File \u001b[0;32m~/miniconda3/envs/cvml/lib/python3.10/site-packages/botocore/credentials.py:671\u001b[0m, in \u001b[0;36mCachedCredentialFetcher._get_cached_credentials\u001b[0;34m(self)\u001b[0m\n\u001b[1;32m    669\u001b[0m response \u001b[39m=\u001b[39m \u001b[39mself\u001b[39m\u001b[39m.\u001b[39m_load_from_cache()\n\u001b[1;32m    670\u001b[0m \u001b[39mif\u001b[39;00m response \u001b[39mis\u001b[39;00m \u001b[39mNone\u001b[39;00m:\n\u001b[0;32m--> 671\u001b[0m     response \u001b[39m=\u001b[39m \u001b[39mself\u001b[39;49m\u001b[39m.\u001b[39;49m_get_credentials()\n\u001b[1;32m    672\u001b[0m     \u001b[39mself\u001b[39m\u001b[39m.\u001b[39m_write_to_cache(response)\n\u001b[1;32m    673\u001b[0m \u001b[39melse\u001b[39;00m:\n",
      "File \u001b[0;32m~/miniconda3/envs/cvml/lib/python3.10/site-packages/botocore/credentials.py:2114\u001b[0m, in \u001b[0;36mSSOCredentialFetcher._get_credentials\u001b[0;34m(self)\u001b[0m\n\u001b[1;32m   2112\u001b[0m \u001b[39mif\u001b[39;00m \u001b[39mself\u001b[39m\u001b[39m.\u001b[39m_token_provider:\n\u001b[1;32m   2113\u001b[0m     initial_token_data \u001b[39m=\u001b[39m \u001b[39mself\u001b[39m\u001b[39m.\u001b[39m_token_provider\u001b[39m.\u001b[39mload_token()\n\u001b[0;32m-> 2114\u001b[0m     token \u001b[39m=\u001b[39m initial_token_data\u001b[39m.\u001b[39;49mget_frozen_token()\u001b[39m.\u001b[39mtoken\n\u001b[1;32m   2115\u001b[0m \u001b[39melse\u001b[39;00m:\n\u001b[1;32m   2116\u001b[0m     token \u001b[39m=\u001b[39m \u001b[39mself\u001b[39m\u001b[39m.\u001b[39m_token_loader(\u001b[39mself\u001b[39m\u001b[39m.\u001b[39m_start_url)[\u001b[39m'\u001b[39m\u001b[39maccessToken\u001b[39m\u001b[39m'\u001b[39m]\n",
      "File \u001b[0;32m~/miniconda3/envs/cvml/lib/python3.10/site-packages/botocore/tokens.py:82\u001b[0m, in \u001b[0;36mDeferredRefreshableToken.get_frozen_token\u001b[0;34m(self)\u001b[0m\n\u001b[1;32m     81\u001b[0m \u001b[39mdef\u001b[39;00m \u001b[39mget_frozen_token\u001b[39m(\u001b[39mself\u001b[39m):\n\u001b[0;32m---> 82\u001b[0m     \u001b[39mself\u001b[39;49m\u001b[39m.\u001b[39;49m_refresh()\n\u001b[1;32m     83\u001b[0m     \u001b[39mreturn\u001b[39;00m \u001b[39mself\u001b[39m\u001b[39m.\u001b[39m_frozen_token\n",
      "File \u001b[0;32m~/miniconda3/envs/cvml/lib/python3.10/site-packages/botocore/tokens.py:95\u001b[0m, in \u001b[0;36mDeferredRefreshableToken._refresh\u001b[0;34m(self)\u001b[0m\n\u001b[1;32m     93\u001b[0m \u001b[39mif\u001b[39;00m \u001b[39mself\u001b[39m\u001b[39m.\u001b[39m_refresh_lock\u001b[39m.\u001b[39macquire(block_for_refresh):\n\u001b[1;32m     94\u001b[0m     \u001b[39mtry\u001b[39;00m:\n\u001b[0;32m---> 95\u001b[0m         \u001b[39mself\u001b[39;49m\u001b[39m.\u001b[39;49m_protected_refresh()\n\u001b[1;32m     96\u001b[0m     \u001b[39mfinally\u001b[39;00m:\n\u001b[1;32m     97\u001b[0m         \u001b[39mself\u001b[39m\u001b[39m.\u001b[39m_refresh_lock\u001b[39m.\u001b[39mrelease()\n",
      "File \u001b[0;32m~/miniconda3/envs/cvml/lib/python3.10/site-packages/botocore/tokens.py:122\u001b[0m, in \u001b[0;36mDeferredRefreshableToken._protected_refresh\u001b[0;34m(self)\u001b[0m\n\u001b[1;32m    118\u001b[0m         \u001b[39mraise\u001b[39;00m\n\u001b[1;32m    120\u001b[0m \u001b[39mif\u001b[39;00m \u001b[39mself\u001b[39m\u001b[39m.\u001b[39m_is_expired():\n\u001b[1;32m    121\u001b[0m     \u001b[39m# Fresh credentials should never be expired\u001b[39;00m\n\u001b[0;32m--> 122\u001b[0m     \u001b[39mraise\u001b[39;00m TokenRetrievalError(\n\u001b[1;32m    123\u001b[0m         provider\u001b[39m=\u001b[39m\u001b[39mself\u001b[39m\u001b[39m.\u001b[39mmethod,\n\u001b[1;32m    124\u001b[0m         error_msg\u001b[39m=\u001b[39m\u001b[39m\"\u001b[39m\u001b[39mToken has expired and refresh failed\u001b[39m\u001b[39m\"\u001b[39m,\n\u001b[1;32m    125\u001b[0m     )\n",
      "\u001b[0;31mTokenRetrievalError\u001b[0m: Error when retrieving token from sso: Token has expired and refresh failed"
     ]
    }
   ],
   "source": [
    "# 1) Download all of the images\n",
    "from tqdm import tqdm\n",
    "for i in range(1, 1 + total_sequences):\n",
    "    folder_name = Path(data_path) / str(int(i))\n",
    "    os.makedirs(folder_name, exist_ok=True)\n",
    "    base_df = df_sequences_valid[df_sequences_valid['run_id'] == i]\n",
    "    for id, df_row in base_df.iterrows():\n",
    "        file_name = folder_name / str(id + '.png')\n",
    "        if not os.path.exists(file_name):\n",
    "            client.download_file(df_row['s3_bucket'], df_row['s3_key'], file_name)\n",
    "# 2) Make all of the videos\n",
    "# for i in range(1, 1 + total_sequences):\n",
    "    create_video_frames(str(i), base_df, str(int(df_row['run_id'])))\n",
    "    # print(i)"
   ]
  },
  {
   "cell_type": "code",
   "execution_count": 17,
   "metadata": {},
   "outputs": [
    {
     "name": "stdout",
     "output_type": "stream",
     "text": [
      "41545\n"
     ]
    }
   ],
   "source": [
    "print(len(df_sequences_valid))"
   ]
  },
  {
   "cell_type": "code",
   "execution_count": 18,
   "metadata": {},
   "outputs": [],
   "source": [
    "runs_orig = df_sequences_valid.groupby('run_id').groups"
   ]
  },
  {
   "cell_type": "code",
   "execution_count": 19,
   "metadata": {},
   "outputs": [],
   "source": [
    "# time cutoffs such that the video shows one pass of the vehicle moving forwards.\n",
    "# Remove any time that the vehicle is lingering/ not moving\n",
    "# All found by hand via observation of the downloaded videos\n",
    "from typing import Dict, List, Tuple\n",
    "cutoff_dict: Dict[int, List[Tuple[str, str]]] = {\n",
    "    6: [], # just lingers, then stops\n",
    "    18: [],\n",
    "    28: [],\n",
    "    51: [],\n",
    "    53: [],\n",
    "    56: [],\n",
    "    59: [], # car does not move forward the whole time, stays in dustcloud\n",
    "    72: [], # yo its a human!\n",
    "    85: [], # sequence is a bit cut off at the start\n",
    "\n",
    "    # White SUV\n",
    "    1: [('21:28:50', '21:29:03')],\n",
    "    2: [('21:29:49', '21:30:04')],\n",
    "    3: [('21:31:53', '21:32:16')],\n",
    "    4: [('21:59:20', '21:59:41')], # hard\n",
    "    5: [('22:00:10', '22:00:30')],\n",
    "    7: [('22:15:30', '22:15:55')], # hard, lingers at the start in huge dust\n",
    "    8: [('22:16:10', '22:16:25')],\n",
    "    9: [('22:16:47', '22:17:00'), ('22:17:08', '22:17:25')], # does 2 runs, one each side\n",
    "    10: [('22:21:13', '22:21:29')],\n",
    "    11: [('22:21:47', '22:22:06')],\n",
    "    12: [('22:22:44', '22:23:00')],\n",
    "    13: [('22:23:32', '22:23:41')],\n",
    "    14: [('22:29:12', '22:29:27')],\n",
    "    15: [('22:29:57', '22:30:10')],\n",
    "    16: [('22:30:35', '22:30:54')],\n",
    "    17: [('22:31:38', '22:31:48')],\n",
    "    19: [('11:28:30', '11:28:48')],\n",
    "    20: [('11:33:18', '11:33:33')],\n",
    "    21: [('21:53:00', '21:53:11')],\n",
    "    22: [('21:53:56', '21:54:09')],\n",
    "    23: [('21:55:00','21:55:15'), ('21:55:56', '21:56:07')],\n",
    "    24: [('21:56:56','21:57:08')],\n",
    "    25: [('22:05:29','22:05:40')],\n",
    "    26: [('22:17:52','22:18:00')],\n",
    "    27: [('22:19:07','22:19:19')],\n",
    "    36: [('22:20:22', '22:20:36')],\n",
    "    46: [('22:21:29', '22:21:42')],\n",
    "    47: [('22:27:58', '22:28:07'), ('22:29:00', '22:29:15')],\n",
    "    48: [('22:29:55', '22:30:20')],\n",
    "    49: [('22:35:10', '22:35:30')],\n",
    "    50: [('22:36:17', '22:36:24')],\n",
    "    52: [('22:42:00', '22:42:18'), ('22:43:08', '22:43:25')],\n",
    "    54: [('22:49:04', '22:49:13')],\n",
    "    55: [('22:50:40', '22:50:53')],\n",
    "\n",
    "    29: [('01:40:00', '01:41:13'), ('01:42:02', '01:42:12')],\n",
    "    30: [('01:49:28', '01:49:35')],\n",
    "    31: [('01:50:12', '01:50:22')],\n",
    "    32: [('01:56:52', '01:57:25')], # added some extra frames at the start since the tractor was turning which seems interesting\n",
    "    33: [('01:58:08', '01:58:19')],\n",
    "    34: [('01:58:55', '01:58:03')],\n",
    "    35: [('01:59:35', '01:59:49')],\n",
    "\n",
    "    # Begin black SUV\n",
    "    37: [('03:12:05', '03:12:22')],\n",
    "    38: [('03:13:22', '03:13:35')],\n",
    "    39: [('03:20:20', '03:20:50')],\n",
    "    40: [('03:21:35', '03:21:54')],\n",
    "    41: [('03:22:40', '03:22:54')],\n",
    "    42: [('03:27:35', '03:28:03')],\n",
    "    43: [('03:28:35', '03:28:53')],\n",
    "    44: [('03:29:28', '03:29:40')],\n",
    "    45: [('03:33:49', '03:34:44')],\n",
    "\n",
    "    # white again\n",
    "    57: [('01:01:57','01:02:14'), ('01:02:44','01:03:01')],\n",
    "    58: [('01:04:00','01:04:22'), ('01:04:48','01:05:05')],\n",
    "    60: [('01:06:28', '01:06:43'), ('01:07:16', '01:07:30')],\n",
    "    61: [('01:08:16', '1:08:31')],\n",
    "    62: [('01:19:52', '1:19:59')],\n",
    "    63: [],\n",
    "    64: [('01:22:10', '1:22:17'), ('1:23:34', '1:23:42')],\n",
    "    65: [('01:24:32', '1:24:45')],\n",
    "    66: [('01:25:17', '01:25:27')],\n",
    "    67: [('01:25:59', '01:26:13')],\n",
    "    68: [('01:27:00', '01:27:09')],\n",
    "    69: [('01:27:42', '01:27:56')],\n",
    "    70: [('01:42:32', '01:42:38')],\n",
    "    71: [('01:42:32', '01:42:38')],\n",
    "    # black suv again :)\n",
    "    73: [('01:00:55', '01:01:14')],\n",
    "    74: [('01:02:00', '01:02:14')],\n",
    "    75: [('01:03:00', '01:03:10')],\n",
    "    76: [('01:08:45', '01:08:55')],\n",
    "    77: [('01:09:30', '01:09:45')],\n",
    "    78: [('01:10:30', '01:10:45')],\n",
    "    79: [('01:16:30', '01:16:44')],\n",
    "    80: [('01:17:21', '01:17:34')],\n",
    "    81: [('01:18:08', '01:18:17')],\n",
    "    82: [('01:18:49', '01:18:59')],\n",
    "    83: [('01:24:32', '01:24:50')],\n",
    "    84: [('01:25:15', '01:25:25')],\n",
    "    86: [('01:26:45', '01:26:55')],\n",
    "    87: [('01:32:08', '01:32:26')],\n",
    "}"
   ]
  },
  {
   "cell_type": "code",
   "execution_count": 20,
   "metadata": {},
   "outputs": [],
   "source": [
    "from datetime import datetime\n",
    "def filter_movie(movie, start_t, end_t):\n",
    "    timestamp = movie.iloc[0]['collected_on']\n",
    "    s_hour, s_minute, s_second = map(int, start_t.split(':'))\n",
    "    e_hour, e_minute, e_second = map(int, end_t.split(':'))\n",
    "    y, m, d = timestamp.year, timestamp.month, timestamp.day\n",
    "    tzinfo = movie['collected_on'].iloc[0].tzinfo\n",
    "    start_dt = datetime(y, m, d, s_hour, s_minute, s_second, tzinfo=tzinfo)\n",
    "    end_dt = datetime(y, m, d, e_hour, e_minute, e_second, tzinfo=tzinfo)\n",
    "    return movie[(start_dt < movie['collected_on']) & (movie['collected_on'] < end_dt)]\n",
    "img_cache = {}"
   ]
  },
  {
   "cell_type": "code",
   "execution_count": 21,
   "metadata": {},
   "outputs": [],
   "source": [
    "cleaned_runs = []\n",
    "for run_id in range(1, 88):\n",
    "    sequence = df_sequences_valid.loc[runs_orig[run_id]]\n",
    "    times = cutoff_dict[run_id]\n",
    "    for start_t, end_t in cutoff_dict[run_id]:\n",
    "        filtered = filter_movie(sequence, start_t, end_t)\n",
    "        # if not len(filtered):\n",
    "        #     print(run_id, start_t, end_t ) # oops\n",
    "        cleaned_runs.append(filtered)"
   ]
  },
  {
   "cell_type": "code",
   "execution_count": 22,
   "metadata": {},
   "outputs": [],
   "source": [
    "cleaned_df = pd.concat(cleaned_runs, keys=list(range(len(cleaned_runs))))"
   ]
  },
  {
   "cell_type": "code",
   "execution_count": 29,
   "metadata": {},
   "outputs": [],
   "source": [
    "def guess_missing_operation_time_from_special_notes(row: pd.Series) -> str:\n",
    "    \"\"\"Some data (suv_driving_through_rear_dust_anno) didn't have operation time\n",
    "    in the rows (or latitude/longitude), so you can't easily infer the\n",
    "    time of day. However, it can be guessed from the special notes\n",
    "    for these particular bags, so its ok.\n",
    "\n",
    "    Args:\n",
    "        row: should have 'special_notes' and 'operation_time' columns\n",
    "\n",
    "    Returns:\n",
    "        str: the operation time\n",
    "    \"\"\"\n",
    "    if row['operation_time'] != 'unknown':\n",
    "        return row['operation_time']\n",
    "    notes = row['special_notes'].lower()\n",
    "    if 'night' in notes:\n",
    "        return 'nightime' # that's how it's spelled in the database\n",
    "    elif 'dusk' in notes:\n",
    "        return 'dawn_dusk'\n",
    "    elif 'day' in notes:\n",
    "        return 'daytime'\n",
    "    else:\n",
    "        return 'unknown'\n",
    "\n",
    "def fill_missing_operation_time(df: pd.DataFrame) -> pd.Series:\n",
    "    \"\"\"Some data  didn't have operation time in the rows (or latitude/longitude),\n",
    "    so you can't read the time of day. It is recorded in another file that we must read from.\"\"\"\n",
    "    df['operation_time'] = df.apply(guess_missing_operation_time_from_special_notes, axis=1)\n",
    "    return df['operation_time']\n",
    "\n",
    "\n",
    "cleaned_df['operation_time'] = fill_missing_operation_time(cleaned_df)"
   ]
  },
  {
   "cell_type": "code",
   "execution_count": 35,
   "metadata": {},
   "outputs": [
    {
     "name": "stdout",
     "output_type": "stream",
     "text": [
      "1246\n",
      "5370\n",
      "4464\n"
     ]
    }
   ],
   "source": [
    "print(sum(cleaned_df['operation_time'] == 'nightime'))\n",
    "print(sum(cleaned_df['operation_time'] == 'dawn_dusk'))\n",
    "print(sum(cleaned_df['operation_time'] == 'daytime'))"
   ]
  },
  {
   "cell_type": "code",
   "execution_count": 76,
   "metadata": {},
   "outputs": [],
   "source": [
    "image_ids = list(cleaned_df.image_id)"
   ]
  },
  {
   "cell_type": "code",
   "execution_count": 105,
   "metadata": {},
   "outputs": [],
   "source": [
    "def make_dataset_slow(from_df, name, description, kind='image') -> None:\n",
    "    imids = list(from_df['image_id'])\n",
    "    desc = f\"{description} ({len(from_df['image_id'])} images)\"\n",
    "    print(len(imids))\n",
    "    from_df.to_parquet(data_path / '{name}.parquet', index=False)\n",
    "    imageids_to_dataset(image_ids=imids, name, dataset_description=desc, dataset_kind=kind, production_dataset=False)\n",
    "# make_dataset_slow(cleaned_df, \"suv_driving_through_rear_dust\", \"87 sequences of rear+rear side data where a (white/black) suv drives through dust, starting from behind the tractor and ending up on the side of it. Collected 2023 July 12-14.\")"
   ]
  },
  {
   "cell_type": "code",
   "execution_count": 78,
   "metadata": {},
   "outputs": [],
   "source": [
    "# Dataset.create(\n",
    "#     name='suv_driving_through_rear_dust_left_cam',\n",
    "#     description=\"87 sequences of rear+rear side data where a (white/black) suv drives through dust, starting from behind the tractor and ending up on the side of it. Collected 2023 July 12-14. Left cameras only (11080 images)\",\n",
    "#     kind=Dataset.KIND_IMAGE,\n",
    "#     image_ids=list(cleaned_df['image_id']),\n",
    "# )"
   ]
  },
  {
   "cell_type": "markdown",
   "metadata": {},
   "source": [
    "# Look through dusty human data"
   ]
  },
  {
   "cell_type": "code",
   "execution_count": 79,
   "metadata": {},
   "outputs": [],
   "source": [
    "from rich import pretty\n",
    "pretty.install()\n",
    "df_dusty = df_dusty[df_dusty['special_notes'].notna()]\n",
    "valid_notes = [\n",
    "    'Dust-test-1-pos-1',\n",
    "    'Dust-test-1-pos-1-atmp-2',\n",
    "    'Dust-test-1-pos-2-atmp-1',\n",
    "    'Dust-test-1-pos-3-atmp-1',\n",
    "    'Dust-test-1-pos-3-atmp-2',\n",
    "    'Dust-test-1-pos-4-atmp-1',\n",
    "    'Dust-test-1-pos-5-atmp-1',\n",
    "    'Dust-test-1-pos-5-atmp-2',\n",
    "]\n",
    "df_dusty = df_dusty[df_dusty['special_notes'].isin(valid_notes)]"
   ]
  },
  {
   "cell_type": "code",
   "execution_count": 80,
   "metadata": {},
   "outputs": [],
   "source": [
    "df_dusty = df_dusty.sort_values('collected_on')"
   ]
  },
  {
   "cell_type": "code",
   "execution_count": 81,
   "metadata": {},
   "outputs": [
    {
     "data": {
      "text/plain": [
       "5625"
      ]
     },
     "execution_count": 81,
     "metadata": {},
     "output_type": "execute_result"
    }
   ],
   "source": [
    "len(df_dusty.sort_values('collected_on'))"
   ]
  },
  {
   "cell_type": "code",
   "execution_count": 82,
   "metadata": {},
   "outputs": [
    {
     "name": "stdout",
     "output_type": "stream",
     "text": [
      "Dust-test-1-pos-1\n"
     ]
    },
    {
     "name": "stderr",
     "output_type": "stream",
     "text": [
      "100%|██████████| 564/564 [00:00<00:00, 24359.12it/s]\n"
     ]
    },
    {
     "name": "stdout",
     "output_type": "stream",
     "text": [
      "Dust-test-1-pos-1-atmp-2\n"
     ]
    },
    {
     "name": "stderr",
     "output_type": "stream",
     "text": [
      "100%|██████████| 959/959 [00:00<00:00, 25773.15it/s]\n"
     ]
    },
    {
     "name": "stdout",
     "output_type": "stream",
     "text": [
      "Dust-test-1-pos-2-atmp-1\n"
     ]
    },
    {
     "name": "stderr",
     "output_type": "stream",
     "text": [
      "100%|██████████| 577/577 [00:00<00:00, 25090.08it/s]\n"
     ]
    },
    {
     "name": "stdout",
     "output_type": "stream",
     "text": [
      "Dust-test-1-pos-3-atmp-1\n"
     ]
    },
    {
     "name": "stderr",
     "output_type": "stream",
     "text": [
      "100%|██████████| 544/544 [00:00<00:00, 25852.92it/s]\n"
     ]
    },
    {
     "name": "stdout",
     "output_type": "stream",
     "text": [
      "Dust-test-1-pos-3-atmp-2\n"
     ]
    },
    {
     "name": "stderr",
     "output_type": "stream",
     "text": [
      "100%|██████████| 663/663 [00:00<00:00, 25846.25it/s]\n"
     ]
    },
    {
     "name": "stdout",
     "output_type": "stream",
     "text": [
      "Dust-test-1-pos-4-atmp-1\n"
     ]
    },
    {
     "name": "stderr",
     "output_type": "stream",
     "text": [
      "100%|██████████| 90/90 [00:00<00:00, 23766.75it/s]\n"
     ]
    },
    {
     "name": "stdout",
     "output_type": "stream",
     "text": [
      "Dust-test-1-pos-5-atmp-1\n"
     ]
    },
    {
     "name": "stderr",
     "output_type": "stream",
     "text": [
      "100%|██████████| 1000/1000 [00:00<00:00, 26216.37it/s]\n"
     ]
    },
    {
     "name": "stdout",
     "output_type": "stream",
     "text": [
      "Dust-test-1-pos-5-atmp-2\n"
     ]
    },
    {
     "name": "stderr",
     "output_type": "stream",
     "text": [
      "100%|██████████| 1228/1228 [00:00<00:00, 26030.38it/s]\n"
     ]
    }
   ],
   "source": [
    "for key in valid_notes:\n",
    "    print(key)\n",
    "    folder_name = Path(data_path) / 'humans_in_dust' / key\n",
    "    os.makedirs(folder_name, exist_ok=True)\n",
    "    base_df = df_dusty[df_dusty['special_notes'] == key]\n",
    "    for id, df_row in tqdm(base_df.iterrows(), total=len(base_df)):\n",
    "        file_name = folder_name / str(id + '.png')\n",
    "        if not os.path.exists(file_name):\n",
    "            client.download_file(df_row['s3_bucket'], df_row['s3_key'], file_name)\n",
    "    create_video_frames(key, base_df=base_df, folder_name=f'humans_in_dust/{key}')"
   ]
  },
  {
   "cell_type": "code",
   "execution_count": 83,
   "metadata": {},
   "outputs": [
    {
     "data": {
      "text/plain": [
       "{'front-center-left', 'front-left-left', 'front-right-left'}"
      ]
     },
     "execution_count": 83,
     "metadata": {},
     "output_type": "execute_result"
    }
   ],
   "source": [
    "set(df_dusty['camera_location'])"
   ]
  },
  {
   "cell_type": "code",
   "execution_count": 84,
   "metadata": {},
   "outputs": [],
   "source": [
    "only_human_images = {\n",
    "    'Dust-test-1-pos-1': { # very light dust\n",
    "        'front-left-left': [('01:12:27', '01:13:26')],\n",
    "        'front-center-left': [],\n",
    "        'front-right-left': []\n",
    "    },\n",
    "    'Dust-test-1-pos-1-atmp-2': { # medium dust\n",
    "        'front-left-left': [('01:18:42', '01:20:20')],\n",
    "        'front-center-left': [],\n",
    "        'front-right-left': []\n",
    "    },\n",
    "    'Dust-test-1-pos-2-atmp-1': { # medium dust\n",
    "        'front-left-left': [('01:20:28', '01:20:36')],\n",
    "        'front-center-left': [('01:22:46', '01:23:28')],\n",
    "        'front-right-left': []\n",
    "    },\n",
    "    'Dust-test-1-pos-3-atmp-1': { # light dust\n",
    "        'front-left-left': [],\n",
    "        'front-center-left': [('01:24:15', '01:25:20')],\n",
    "        'front-right-left': []\n",
    "    },\n",
    "    'Dust-test-1-pos-3-atmp-2': { # heavy dust\n",
    "        'front-left-left': [],\n",
    "        'front-center-left': [('01:34:19', '01:35:15')],\n",
    "        'front-right-left': []\n",
    "    },\n",
    "    'Dust-test-1-pos-4-atmp-1': { # medium dust\n",
    "        'front-left-left': [],\n",
    "        'front-center-left': [('01:43:03', '1:43:10')],\n",
    "        'front-right-left': []\n",
    "    },\n",
    "    'Dust-test-1-pos-5-atmp-1': { # heavy dust\n",
    "        'front-left-left': [],\n",
    "        'front-center-left': [('01:37:07', '01:39:05')],\n",
    "        'front-right-left': []\n",
    "    },\n",
    "    'Dust-test-1-pos-5-atmp-2': { # heavy dust\n",
    "        'front-left-left': [],\n",
    "        'front-center-left': [('01:39:07', '01:43:00')],\n",
    "        'front-right-left': []\n",
    "    },\n",
    "}"
   ]
  },
  {
   "cell_type": "code",
   "execution_count": 85,
   "metadata": {},
   "outputs": [],
   "source": [
    "cleaned_human_runs = []\n",
    "for notes in valid_notes:\n",
    "    for camera_location in ['front-left-left', 'front-center-left', 'front-right-left']:\n",
    "        times = only_human_images[notes][camera_location]\n",
    "        for start_t, end_t in times:\n",
    "            sequence = df_dusty.loc[(df_dusty['special_notes'] == notes) & (df_dusty['camera_location'] == camera_location)]\n",
    "            filtered = filter_movie(sequence, start_t, end_t)\n",
    "            if not len(filtered):\n",
    "                print(run_id, start_t, end_t) # oops\n",
    "            cleaned_human_runs.append(filtered)\n",
    "human_dusty_df = pd.concat(cleaned_human_runs)"
   ]
  },
  {
   "cell_type": "code",
   "execution_count": 86,
   "metadata": {},
   "outputs": [
    {
     "data": {
      "text/plain": [
       "1650"
      ]
     },
     "execution_count": 86,
     "metadata": {},
     "output_type": "execute_result"
    }
   ],
   "source": [
    "len(human_dusty_df)"
   ]
  },
  {
   "cell_type": "code",
   "execution_count": 87,
   "metadata": {},
   "outputs": [
    {
     "name": "stderr",
     "output_type": "stream",
     "text": [
      "100%|██████████| 1650/1650 [00:00<00:00, 25084.00it/s]\n"
     ]
    }
   ],
   "source": [
    "human_dusty_df = human_dusty_df.sort_values('collected_on')\n",
    "folder_name = Path(data_path) / 'humans_in_dust' / 'final'\n",
    "os.makedirs(folder_name, exist_ok=True)\n",
    "for id, df_row in tqdm(human_dusty_df.iterrows(), total=len(human_dusty_df)):\n",
    "    file_name = folder_name / str(id + '.png')\n",
    "    if not os.path.exists(file_name):\n",
    "        client.download_file(df_row['s3_bucket'], df_row['s3_key'], file_name)\n",
    "create_video_frames('final', base_df=human_dusty_df, folder_name=f'humans_in_dust/final')"
   ]
  },
  {
   "cell_type": "code",
   "execution_count": 104,
   "metadata": {},
   "outputs": [],
   "source": [
    "# Dataset.create(\n",
    "#     name='mannequin_in_dust',\n",
    "#     description=\"8 sequences of a mannequin in front of the tractor with dust blowing into it. All images contain a mannequin. Collected 2023 July 7. Left cameras only (1650 images)\",\n",
    "#     kind=Dataset.KIND_IMAGE,\n",
    "#     image_ids=list(human_dusty_df['image_id']),\n",
    "# )"
   ]
  },
  {
   "cell_type": "code",
   "execution_count": null,
   "metadata": {},
   "outputs": [],
   "source": []
  },
  {
   "cell_type": "markdown",
   "metadata": {},
   "source": [
    "# Create annotated datasets"
   ]
  },
  {
   "cell_type": "code",
   "execution_count": 89,
   "metadata": {},
   "outputs": [],
   "source": [
    "mannequin_dset = Dataset.retrieve(name='mannequin_in_dust')"
   ]
  },
  {
   "cell_type": "code",
   "execution_count": 90,
   "metadata": {},
   "outputs": [],
   "source": [
    "suv_dset = Dataset.retrieve(name='suv_driving_through_rear_dust_left_cam')"
   ]
  },
  {
   "cell_type": "code",
   "execution_count": 91,
   "metadata": {},
   "outputs": [
    {
     "data": {
      "text/plain": [
       "11080"
      ]
     },
     "execution_count": 91,
     "metadata": {},
     "output_type": "execute_result"
    }
   ],
   "source": [
    "len(list(cleaned_df['image_id']))"
   ]
  },
  {
   "cell_type": "code",
   "execution_count": 93,
   "metadata": {},
   "outputs": [
    {
     "name": "stdout",
     "output_type": "stream",
     "text": [
      "Cache miss\n"
     ]
    }
   ],
   "source": [
    "if os.path.exists(data_path / 'df_dusty_anno.parquet'):\n",
    "    df_dusty_anno = pd.read_parquet(data_path / 'df_dusty_anno.parquet')\n",
    "else:\n",
    "    print(\"Cache miss\")\n",
    "    query = \"\"\"SELECT ij.id, hard_drive_name, robot_name, collected_on,\n",
    "        bag_name, operating_field_name, operation_time, latitude, longitude, geohash, camera_location, \n",
    "        bundle, group_id, s3_bucket, s3_key, special_notes, label_map__json, vendor_metadata__json, annotation_jupiter.updated_at\n",
    "    FROM image_jupiter AS ij\n",
    "    JOIN \"annotation_jupiter\" ON ij.\"id\" = \"annotation_jupiter\".\"image\"\n",
    "    WHERE \"hard_drive_name\" IN ('JUPD-054_2023-6-13')\n",
    "    \"\"\"\n",
    "    df_dusty_anno: pd.DataFrame = athena.get_df(query) # type: ignore\n",
    "    df_dusty_anno.to_parquet(data_path / 'df_dusty_anno.parquet')\n",
    "df_dusty_anno['image_id'] = df_dusty_anno['id']\n",
    "df_dusty_anno = df_dusty_anno.set_index('id')\n",
    "if os.path.exists(data_path / 'df_sequences_anno.parquet'):\n",
    "    df_sequences_anno = pd.read_parquet(data_path / 'df_sequences_anno.parquet')\n",
    "else:\n",
    "    print(\"Cache miss\")\n",
    "    query = \"\"\"SELECT ij.id, hard_drive_name, robot_name, collected_on,\n",
    "        bag_name, operating_field_name, operation_time, latitude, longitude, geohash, camera_location, \n",
    "        bundle, group_id, s3_bucket, s3_key, special_notes, label_map__json, vendor_metadata__json\n",
    "    FROM image_jupiter AS ij\n",
    "    JOIN \"annotation_jupiter\" ON ij.\"id\" = \"annotation_jupiter\".\"image\"\n",
    "    WHERE \"hard_drive_name\" IN ('JUPD-004_2023-7-19', 'JUPD-006_2023-7-19', 'JUPD-007_2023-7-11')\n",
    "    \"\"\"\n",
    "    df_sequences_anno: pd.DataFrame = athena.get_df(query) # type: ignore\n",
    "    df_sequences_anno.to_parquet(data_path / 'df_sequences_anno.parquet')\n",
    "df_sequences_anno['image_id'] = df_sequences_anno['id']\n",
    "df_sequences_anno = df_sequences_anno.set_index('id')"
   ]
  },
  {
   "cell_type": "code",
   "execution_count": 94,
   "metadata": {},
   "outputs": [],
   "source": [
    "most_recently_annotated = df_dusty_anno.sort_values('updated_at').drop_duplicates('image_id', keep='last')"
   ]
  },
  {
   "cell_type": "code",
   "execution_count": 106,
   "metadata": {},
   "outputs": [
    {
     "name": "stdout",
     "output_type": "stream",
     "text": [
      "11080\n",
      "INFO: Pandarallel will run on 16 workers.\n",
      "INFO: Pandarallel will use Memory file system to transfer data between the main process and workers.\n",
      "Warning 422 images do not have a corresponding annotation.\n",
      "Preparing stereo dataframe...\n",
      "Size of left dataframe: 10658\n",
      "INFO: Pandarallel will run on 16 workers.\n",
      "INFO: Pandarallel will use Memory file system to transfer data between the main process and workers.\n",
      "INFO: Pandarallel will run on 16 workers.\n",
      "INFO: Pandarallel will use Memory file system to transfer data between the main process and workers.\n",
      "Size of stereo dataframe: 10658\n",
      "Sending 10658 annotated_ids for creating dataset\n",
      "Time taken to prepare data for dataset creation job: 1.78 mins\n"
     ]
    }
   ],
   "source": [
    "make_dataset_slow(df_sequences_anno, \n",
    "    name='suv_driving_through_rear_dust_anno',\n",
    "    description=\"87 sequences of rear+rear side data where a (white/black) suv drives through dust, starting from behind the tractor and ending up on the side of it. Collected 2023 July 12-14. Left cameras only (11080 images)\",\n",
    "    kind=Dataset.KIND_ANNOTATION,\n",
    ")"
   ]
  },
  {
   "cell_type": "code",
   "execution_count": 107,
   "metadata": {},
   "outputs": [
    {
     "name": "stdout",
     "output_type": "stream",
     "text": [
      "1650\n",
      "INFO: Pandarallel will run on 16 workers.\n",
      "INFO: Pandarallel will use Memory file system to transfer data between the main process and workers.\n",
      "Warning 209 images do not have a corresponding annotation.\n",
      "Preparing stereo dataframe...\n",
      "Size of left dataframe: 1441\n",
      "INFO: Pandarallel will run on 16 workers.\n",
      "INFO: Pandarallel will use Memory file system to transfer data between the main process and workers.\n",
      "INFO: Pandarallel will run on 16 workers.\n",
      "INFO: Pandarallel will use Memory file system to transfer data between the main process and workers.\n",
      "Size of stereo dataframe: 1441\n",
      "Sending 1441 annotated_ids for creating dataset\n",
      "Time taken to prepare data for dataset creation job: 0.77 mins\n"
     ]
    }
   ],
   "source": [
    "make_dataset_slow(df_dusty_anno, \n",
    "    name='mannequin_in_dust_anno',\n",
    "    description=\"8 sequences of a mannequin in front of the tractor with dust blowing into it. All images contain a mannequin. Collected 2023 July 7. Left cameras only (1650 images)\",\n",
    "    kind=Dataset.KIND_ANNOTATION,\n",
    ")"
   ]
  },
  {
   "cell_type": "code",
   "execution_count": 4,
   "metadata": {},
   "outputs": [
    {
     "data": {
      "text/plain": [
       "['Day', 'Dusk', 'Night', 'dtype']"
      ]
     },
     "execution_count": 4,
     "metadata": {},
     "output_type": "execute_result"
    }
   ],
   "source": [
    "seq_12 = np.load(\"/home/alexli/data/seq12.npz\", allow_pickle=True)\n",
    "[k for k in seq_12.keys()]"
   ]
  },
  {
   "cell_type": "code",
   "execution_count": 7,
   "metadata": {},
   "outputs": [
    {
     "data": {
      "text/plain": [
       "array([list(['6425d56432a7ef3fc7dd19e1', '6425d4bf88ab036228b7e08e', '6425d56e87f5eb64dd52fc43', '6425d4db88ab036228b7e124', '6425d45587f5eb64dd52f93e', '6425d4f5ecdb4875e4916b70', '6425d46288ab036228b7dde3', '6425d45887f5eb64dd52f953', '6425d4ed87f5eb64dd52fb1f', '6425d4b088ab036228b7e034', '6425d50aafb870a21b528f18', '6425d48f87f5eb64dd52f9e6', '6425d56732a7ef3fc7dd19f1', '6425d506afb870a21b528f0c', '6425d50587f5eb64dd52fba9', '6425d4d81c7b215efdb3559b', '6425d4d5ecdb4875e4916ada', '6425d4d0ecdb4875e4916ab3', '6425d4ce32a7ef3fc7dd16fa', '6425d4cc87f5eb64dd52fa81', '6425d4cbafb870a21b528e83', '6425d45287f5eb64dd52f92c', '6425d450ecdb4875e49168be', '6425d49becdb4875e49169cb', '6425d49decdb4875e49169d7', '6425d49932a7ef3fc7dd15f7', '6425d49888ab036228b7df76', '6425d47788ab036228b7de44', '6425d47588ab036228b7de3b', '6425d518ecdb4875e4916c0a', '6425d51688ab036228b7e2dd', '6425d4e632a7ef3fc7dd175e', '6425d4e488ab036228b7e160', '6425d4a832a7ef3fc7dd1634', '6425d4aa32a7ef3fc7dd1641', '6425d543ecdb4875e4916cc0', '6425d541afb870a21b528f77', '6425d57032a7ef3fc7dd1a0f', '6425d5721c7b215efdb35685', '6425d4d388ab036228b7e0f7', '6425d4d132a7ef3fc7dd1700', '6425d4ea88ab036228b7e187', '6425d4e8ecdb4875e4916b37', '6425d52c32a7ef3fc7dd1918', '6425d52e32a7ef3fc7dd1924', '6425d5521c7b215efdb3566a', '6425d55088ab036228b7e470', '6425d54e88ab036228b7e467', '6425d54cecdb4875e4916ce1', '6425d46a88ab036228b7ddf9', '6425d46888ab036228b7ddf3', '6425d55dafb870a21b528fa7', '6425d55b87f5eb64dd52fc28', '6425d514ecdb4875e4916bf2', '6425d51232a7ef3fc7dd18a2', '6425d51c32a7ef3fc7dd18d0', '6425d51a88ab036228b7e2ed', '6425d57d88ab036228b7e594', '6425d57b32a7ef3fc7dd1a37', '6425d49eecdb4875e49169e0', '6425d4c732a7ef3fc7dd16df', '6425d4c9ecdb4875e4916aa4', '6425d4c087f5eb64dd52fa5d', '6425d4fa87f5eb64dd52fb6a', '6425d49488ab036228b7df5b', '6425d53088ab036228b7e382', '6425d53788ab036228b7e3d1', '6425d44a87f5eb64dd52f91a', '6425d44988ab036228b7ddbc', '6425d53588ab036228b7e3c2', '6425d533afb870a21b528f6d', '6425d47d32a7ef3fc7dd156d', '6425d47b32a7ef3fc7dd156a', '6425d4e2ecdb4875e4916b10', '6425d4e1ecdb4875e4916b04', '6425d526afb870a21b528f4e', '6425d52488ab036228b7e32a', '6425d44e87f5eb64dd52f923', '6425d44c88ab036228b7ddc5', '6425d54a88ab036228b7e452', '6425d548ecdb4875e4916cd8', '6425d57488ab036228b7e55f', '6425d576ecdb4875e4916dd8', '6425d4c688ab036228b7e0b5', '6425d4c487f5eb64dd52fa63', '6425d4ff32a7ef3fc7dd1829', '6425d4fe32a7ef3fc7dd181d', '6425d48132a7ef3fc7dd157f', '6425d47f88ab036228b7de7d', '6425d56032a7ef3fc7dd19d1', '6425d55e88ab036228b7e4c9', '6425d54632a7ef3fc7dd1977', '6425d54588ab036228b7e42b', '6425d47a88ab036228b7de59', '6425d478ecdb4875e4916926', '6425d5771c7b215efdb35688', '6425d579afb870a21b528fdf', '6425d4a388ab036228b7dfc6', '6425d4a188ab036228b7dfac', '6425d4dd87f5eb64dd52fac6', '6425d4df88ab036228b7e139', '6425d45cafb870a21b528e1d', '6425d45a87f5eb64dd52f962', '6425d50f88ab036228b7e29f', '6425d48632a7ef3fc7dd15a9', '6425d4b6ecdb4875e4916a61', '6425d553ecdb4875e4916d0f', '6425d4f732a7ef3fc7dd17e7', '6425d52832a7ef3fc7dd190c', '6425d4b232a7ef3fc7dd1676', '6425d52032a7ef3fc7dd18e7', '6425d48a88ab036228b7deef', '6425d4ab32a7ef3fc7dd1644', '6425d46b88ab036228b7de02', '6425d4a5ecdb4875e4916a12', '6425d472ecdb4875e4916911', '6425d56988ab036228b7e526', '6425d46f88ab036228b7de17', '6425d49188ab036228b7df3a', '6425d50cecdb4875e4916bd6', '6425d4ba88ab036228b7e073', '6425d45d87f5eb64dd52f974', '6425d50132a7ef3fc7dd1835', '6425d53e88ab036228b7e3fe', '6425d53a32a7ef3fc7dd1953', '6425d57eafb870a21b528ff1', '6425d4efecdb4875e4916b52']),\n",
       "       list(['6425e5f2292bab2d1e9c686c', '6425e5f3292bab2d1e9c6871', '6425e5e5292bab2d1e9c682c', '6425e4fcdb4c1bb36d1f6e8d', '6425e4fddb4c1bb36d1f6e91', '6425e533ee3a479039bfa5b1', '6425e534292bab2d1e9c665d', '6425e57ea73f82792e46402d', '6425e52b292bab2d1e9c6648', '6425e5c0292bab2d1e9c678a', '6425e5efa73f82792e4641af', '6425e504eee20b82ae50dd8e', '6425e5c57cdd34aae0dfff99', '6425e5fb292bab2d1e9c68af', '6425e525ee3a479039bfa58e', '6425e522ee3a479039bfa587', '6425e619292bab2d1e9c6948', '6425e61fee3a479039bfa89a', '6425e620292bab2d1e9c6980', '6425e5be292bab2d1e9c677e', '6425e5bd7cdd34aae0dfff73', '6425e577a73f82792e46401a', '6425e577292bab2d1e9c66b7', '6425e5587cdd34aae0dffe85', '6425e597ee3a479039bfa69c', '6425e4efee3a479039bfa53d', '6425e4eedb4c1bb36d1f6e5a', '6425e465a73f82792e463e74', '6425e465db4c1bb36d1f6b8b', '6425e585ee3a479039bfa66e', '6425e5867cdd34aae0dffee7', '6425e4c8db4c1bb36d1f6d64', '6425e5a8a73f82792e4640c8', '6425e5187cdd34aae0dffdcd', '6425e53aa73f82792e463f84', '6425e593a73f82792e464093', '6425e5afa73f82792e4640d5', '6425e58c292bab2d1e9c670b', '6425e4bd292bab2d1e9c651a', '6425e4bea73f82792e463ee6', '6425e5a4ee3a479039bfa6c3', '6425e5a57cdd34aae0dfff41', '6425e511292bab2d1e9c65fc', '6425e5127cdd34aae0dffdbd', '6425e550db4c1bb36d1f6eea', '6425e550a73f82792e463fbe', '6425e51ea73f82792e463f52', '6425e5487cdd34aae0dffe3e', '6425e50a292bab2d1e9c65ee', '6425e51b292bab2d1e9c661e', '6425e4ccee3a479039bfa4eb', '6425e60e292bab2d1e9c6915', '6425e60f7cdd34aae0e000d6', '6425e49dee3a479039bfa48e', '6425e49ddb4c1bb36d1f6c82', '6425e57a292bab2d1e9c66bf', '6425e57b292bab2d1e9c66c2', '6425e470db4c1bb36d1f6bbf', '6425e471db4c1bb36d1f6bc2', '6425e4cf292bab2d1e9c654e', '6425e4cf7cdd34aae0dffd4b', '6425e5e87cdd34aae0e00004', '6425e5e87cdd34aae0e00007', '6425e47c7cdd34aae0dffc58', '6425e54ddb4c1bb36d1f6ee4', '6425e500db4c1bb36d1f6e97', '6425e5baee3a479039bfa6f7', '6425e4e8eee20b82ae50dd70', '6425e48d7cdd34aae0dffc99', '6425e4d3292bab2d1e9c6559', '6425e562a73f82792e463fef', '6425e590ee3a479039bfa68d', '6425e5fea73f82792e4641f4', '6425e44eee3a479039bfa315', '6425e50edb4c1bb36d1f6eb3', '6425e56deee20b82ae50ddf1', '6425e46dee3a479039bfa3bc', '6425e457db4c1bb36d1f6b2e', '6425e5c8292bab2d1e9c67af']),\n",
       "       list(['6425e70a292bab2d1e9c6dde', '6425e737292bab2d1e9c6e6e', '6425e656ee3a479039bfa9d4', '6425e71c292bab2d1e9c6e10', '6425e6d77cdd34aae0e005ec', '6425e747a73f82792e4647c7', '6425e6c17cdd34aae0e00564', '6425e75b292bab2d1e9c6edb', '6425e74aa73f82792e4647ce', '6425e6f87cdd34aae0e00690', '6425e6cd7cdd34aae0e005b1', '6425e669a73f82792e46440d', '6425e741a73f82792e4647b9', '6425e70ddb4c1bb36d1f7200', '6425e744292bab2d1e9c6e8a', '6425e67bee3a479039bfaaa2', '6425e754a73f82792e4647f6', '6425e730db4c1bb36d1f7255', '6425e6b3ee3a479039bfabcb', '6425e6efee3a479039bfaca5', '6425e6c0a73f82792e4645d4', '6425e77feee20b82ae50dff7', '6425e6cca73f82792e464605', '6425e6f4ee3a479039bfacb5', '6425e726db4c1bb36d1f7248', '6425e6a3db4c1bb36d1f70c4', '6425e6e87cdd34aae0e0064a', '6425e73da73f82792e4647af', '6425e668eee20b82ae50de81', '6425e7097cdd34aae0e006df', '6425e722a73f82792e464777', '6425e6867cdd34aae0e003b6', '6425e6e5ee3a479039bfac82']),\n",
       "       list(['6425ee67292bab2d1e9c8976', '6425ee02292bab2d1e9c8798', '6425ee4b4bad276da1889a24', '6425ed9feee20b82ae50f5c0', '6425edff292bab2d1e9c8785', '6425ed1b7cdd34aae0e01666', '6425ed84a73f82792e4662a5', '6425eda4a73f82792e4663a1', '6425ed35292bab2d1e9c82c8', '6425ee21eee20b82ae50f76f', '6425ed267cdd34aae0e016ad', '6425ede6a73f82792e466617', '6425ed23292bab2d1e9c825c', '6425ed0aeee20b82ae50f36b', '6425ed3ea73f82792e465f3d', '6425ed0ea73f82792e465d24', '6425ed607cdd34aae0e01885', '6425ee2d4bad276da18899db', '6425ee06eee20b82ae50f74a', '6425ed6fa73f82792e4661a6', '6425edacee3a479039bfc5b6', '6425ed127cdd34aae0e0162a', '6425edceeee20b82ae50f67b', '6425ee40d7aeccaff79eede4', '6425edd5292bab2d1e9c8687', '6425ed1cee3a479039bfc2ca']),\n",
       "       list(['6425f089d7aeccaff79ef5e5', '6425f087d7aeccaff79ef5d6', '6425efbf1620247e22858b23', '6425efbceee20b82ae50fc00', '6425f0484bad276da1889e72', '6425f046d7aeccaff79ef436', '6425f0c6292bab2d1e9c8f16', '6425f0c47afaf463f9c3f825', '6425f0237cdd34aae0e0224d', '6425f021292bab2d1e9c8d27', '6425f094f6e7c94016fd6091', '6425f0927afaf463f9c3f727', '6425efc4eee20b82ae50fc2b', '6425efc1eee20b82ae50fc17', '6425efdfeee20b82ae50fcd6', '6425efddd7aeccaff79ef1ff', '6425f0bed7aeccaff79ef736', '6425f0bcf6e7c94016fd614b', '6425efd84bad276da1889cb7', '6425efd6eee20b82ae50fc93', '6425ef8a4bad276da1889bc0', '6425ef881620247e228589fd', '6425ef7f4bad276da1889ba8', '6425ef81eee20b82ae50fa5d', '6425efb51620247e22858ae5', '6425efb4eee20b82ae50fbd5', '6425efe74bad276da1889cea', '6425efe5eee20b82ae50fd04', '6425f00c1620247e22858cc0', '6425f00aeee20b82ae50fe09', '6425f09ad7aeccaff79ef665', '6425f09c292bab2d1e9c8eb3', '6425efa0eee20b82ae50fb48', '6425efa2eee20b82ae50fb59', '6425f071d7aeccaff79ef540', '6425f06feee20b82ae5100e7', '6425f0c21620247e22858fe8', '6425f0c01620247e22858fdb', '6425f098eee20b82ae510217', '6425f0960f28f2003e932f76', '6425f02ceee20b82ae50fee8', '6425f02aeee20b82ae50fedb', '6425efaed7aeccaff79ef139', '6425efac292bab2d1e9c8be8', '6425f04b7cdd34aae0e02314', '6425f04ed7aeccaff79ef45a', '6425efba292bab2d1e9c8c07', '6425efb71620247e22858aed', '6425f0611620247e22858e56', '6425f0637cdd34aae0e02392', '6425f085d7aeccaff79ef5c9', '6425f0827cdd34aae0e02409', '6425f0a8d7aeccaff79ef6ac', '6425f0a61620247e22858f7f', '6425f0d47afaf463f9c3f883', '6425f0a40f28f2003e932fc4', '6425f0a27afaf463f9c3f775', '6425ef9a1620247e22858a58', '6425ef984bad276da1889bdc', '6425f043eee20b82ae50ffa4', '6425f0401620247e22858da5', '6425f0ca7cdd34aae0e02570', '6425f0c8d7aeccaff79ef791', '6425f0b6f6e7c94016fd612e', '6425f0b54bad276da188a006', '6425effcd7aeccaff79ef297', '6425eff97cdd34aae0e0217a', '6425ef77d7aeccaff79ef016', '6425ef7a1620247e228589ab', '6425f07cd7aeccaff79ef58a', '6425f07a292bab2d1e9c8e64', '6425f0750f28f2003e932e8e', '6425f0737afaf463f9c3f68a', '6425f05f1620247e22858e45', '6425f05bd7aeccaff79ef4ab', '6425f0541620247e22858e0a', '6425f051eee20b82ae510022', '6425f015d7aeccaff79ef314', '6425f013d7aeccaff79ef30a', '6425efee4bad276da1889d09', '6425efed7cdd34aae0e02139', '6425f0591620247e22858e2a', '6425f056d7aeccaff79ef483', '6425f0cd4bad276da188a054', '6425f0cceee20b82ae510352', '6425f0af7afaf463f9c3f7bb', '6425f0adf6e7c94016fd6109', '6425ef941620247e22858a36', '6425ef961620247e22858a42', '6425efcb292bab2d1e9c8c4a', '6425efca1620247e22858b72', '6425ef8e7cdd34aae0e01f8a', '6425ef8c4bad276da1889bc5', '6425ef7c4bad276da1889b99', '6425efa4d7aeccaff79ef107', '6425efa6eee20b82ae50fb80', '6425eff71620247e22858c53', '6425eff44bad276da1889d22', '6425f02e7cdd34aae0e02283', '6425f0304bad276da1889e0b', '6425f01eeee20b82ae50fe8d', '6425f01ceee20b82ae50fe77', '6425f0a97afaf463f9c3f796', '6425f0abf6e7c94016fd6100', '6425f035d7aeccaff79ef3bc', '6425f0337cdd34aae0e022a3', '6425ef9eeee20b82ae50fb36', '6425ef9c4bad276da1889be9', '6425efdb1620247e22858bc6', '6425efda4bad276da1889cbd', '6425ef72eee20b82ae50f9f8', '6425ef6feee20b82ae50f9ee', '6425efaa1620247e22858ac7', '6425efa84bad276da1889c0f', '6425ef927cdd34aae0e01f9f', '6425ef90eee20b82ae50fad0', '6425f0a0d7aeccaff79ef684', '6425f09e7afaf463f9c3f75c', '6425f091d7aeccaff79ef620', '6425f08fd7aeccaff79ef60f', '6425f06d4bad276da1889ee4', '6425f06b1620247e22858e8e', '6425f0397cdd34aae0e022b9', '6425f0767cdd34aae0e023d0', '6425f078d7aeccaff79ef56c', '6425eff3292bab2d1e9c8cbf', '6425eff01620247e22858c2b', '6425efc6d7aeccaff79ef1a6', '6425efc87cdd34aae0e02089', '6425efe94bad276da1889cf5', '6425efeb292bab2d1e9c8ca4', '6425efd0eee20b82ae50fc64', '6425efce1620247e22858b89', '6425f028eee20b82ae50fecc', '6425f025eee20b82ae50febb', '6425f0007cdd34aae0e02194', '6425effed7aeccaff79ef2a3', '6425ef867cdd34aae0e01f62', '6425ef837cdd34aae0e01f59', '6425f07eeee20b82ae510157', '6425f0817cdd34aae0e023f8', '6425f0b37afaf463f9c3f7c4', '6425f0b1f6e7c94016fd6117', '6425f002d7aeccaff79ef2b8', '6425f0044bad276da1889d69', '6425f0cf7cdd34aae0e02585', '6425f0d10f28f2003e93306f', '6425f03eeee20b82ae50ff72', '6425f03ceee20b82ae50ff5d', '6425f08c7afaf463f9c3f701', '6425f08ad7aeccaff79ef5ef', '6425ef754bad276da1889b86', '6425ef73eee20b82ae50f9fc', '6425f0bad7aeccaff79ef71c', '6425f0b87afaf463f9c3f7e3', '6425f0681620247e22858e7e', '6425f065292bab2d1e9c8e09', '6425efb0292bab2d1e9c8bf6', '6425efb27cdd34aae0e02017', '6425efe3d7aeccaff79ef219', '6425efe1eee20b82ae50fce3', '6425f0177cdd34aae0e02205', '6425f01a4bad276da1889dc7', '6425f006d7aeccaff79ef2c5', '6425f00ed7aeccaff79ef2f1']),\n",
       "       list(['6425f64ef6e7c94016fd69c3', '6425f622eee20b82ae510b31', '6425f711f6e7c94016fd6d43', '6425f5c3eee20b82ae510a86', '6425f61beee20b82ae510b10', '6425f5d10f28f2003e933a53', '6425f6e1eee20b82ae510d49', '6425f583292bab2d1e9c9999', '6425f6d6292bab2d1e9c9c23', '6425f5f2f6e7c94016fd68ce', '6425f600eee20b82ae510ad7', '6425f6f64bad276da188ae12', '6425f6bef6e7c94016fd6be0', '6425f5a14bad276da188ab6d', '6425f630292bab2d1e9c9a8c', '6425f6b1f6e7c94016fd6b97', '6425f5caf6e7c94016fd6883', '6425f59a0f28f2003e9339a5', '6425f6c2f6e7c94016fd6bf3', '6425f6a7f6e7c94016fd6b60', '6425f6d04bad276da188adb3', '6425f6330f28f2003e933b7b', '6425f632292bab2d1e9c9a90', '6425f6831620247e2285992a', '6425f6844bad276da188acfa', '6425f5750f28f2003e933900', '6425f575292bab2d1e9c998b', '6425f6511620247e228598bd', '6425f651f6e7c94016fd69d3']),\n",
       "       list(['6425f65c7afaf463f9c401d1', '6425f65b0f28f2003e933be0', '6425f6bbeee20b82ae510cca', '6425f6bb0f28f2003e933c6f', '6425f736292bab2d1e9c9d12', '6425f7351620247e22859cb1', '6425f54f4bad276da188aa87', '6425f550f6e7c94016fd67a6', '6425f6eb4bad276da188adee', '6425f6eb4bad276da188ade8', '6425f5a54bad276da188ab71', '6425f5a41620247e22859677', '6425f603eee20b82ae510add', '6425f6037afaf463f9c40180', '6425f5ef1620247e2285973d', '6425f5ee1620247e2285973a', '6425f67deee20b82ae510bf7', '6425f67ceee20b82ae510bf4', '6425f6ff1620247e22859bbe', '6425f6650f28f2003e933bf4', '6425f69bf6e7c94016fd6b14', '6425f69aeee20b82ae510c45', '6425f71e1620247e22859c57', '6425f6461620247e2285988c', '6425f740f6e7c94016fd6dec', '6425f73f7afaf463f9c402b6', '6425f7281620247e22859c7a', '6425f728f6e7c94016fd6d86', '6425f58c7cdd34aae0e02d2f', '6425f58b4bad276da188ab4d', '6425f57f7cdd34aae0e02d01', '6425f57f0f28f2003e933932', '6425f6e7eee20b82ae510d5a', '6425f6b7eee20b82ae510cb9', '6425f6f27cdd34aae0e03059', '6425f6f27cdd34aae0e03050', '6425f5df1620247e22859702', '6425f5df1620247e228596ff', '6425f68a4bad276da188ad0e', '6425f68af6e7c94016fd6ab8', '6425f6101620247e228597c3']),\n",
       "       list(['6425f5670f28f2003e9338b7', '6425f5e10f28f2003e933a70', '6425f56feee20b82ae510a1a', '6425f5a77cdd34aae0e02d9d', '6425f5887cdd34aae0e02d1c', '6425f6244bad276da188ac5f', '6425f7381620247e22859cbc'])],\n",
       "      dtype=object)"
      ]
     },
     "execution_count": 7,
     "metadata": {},
     "output_type": "execute_result"
    }
   ],
   "source": [
    "seq_12['Dusk']"
   ]
  },
  {
   "cell_type": "code",
   "execution_count": 8,
   "metadata": {},
   "outputs": [
    {
     "data": {
      "text/plain": [
       "array([list(['6425a758422702cc9df4111b', '6425a759422702cc9df41121', '6425a829422702cc9df41279', '6425a828422702cc9df41276', '6425a78388ab036228b75109', '6425a78488ab036228b7510c', '6425a801afb870a21b52158f', '6425a802873be0f80a6f4b07', '6425a72d873be0f80a6f49a7', '6425a72b873be0f80a6f49a4', '6425a7ac87f5eb64dd52a892', '6425a7ab05b0d2deaf43b891', '6425a7cf88ab036228b75191', '6425a7d0422702cc9df411bc', '6425a728afb870a21b521444', '6425a72988ab036228b75046', '6425a750873be0f80a6f49f5', '6425a751afb870a21b5214ef', '6425a774873be0f80a6f4a3a', '6425a776873be0f80a6f4a3d', '6425a76e422702cc9df4115a', '6425a76f88ab036228b750d8', '6425a7bb05b0d2deaf43b8d4', '6425a7bc88ab036228b7517b', '6425a818afb870a21b5215d9', '6425a81905b0d2deaf43b9fe', '6425a82288ab036228b75284', '6425a82387f5eb64dd52a993', '6425a792422702cc9df4119a', '6425a79188ab036228b7512a', '6425a75487f5eb64dd52a83b', '6425a735873be0f80a6f49b6', '6425a736afb870a21b521480', '6425a73f873be0f80a6f49d8', '6425a740422702cc9df410f0', '6425a7c9afb870a21b52155c', '6425a7ca05b0d2deaf43b8fb', '6425a7fd05b0d2deaf43b9a8', '6425a7fe87f5eb64dd52a906', '6425a81587f5eb64dd52a968', '6425a816422702cc9df41225', '6425a732afb870a21b521463', '6425a73288ab036228b75054', '6425a78a873be0f80a6f4a5e', '6425a78b88ab036228b7511b', '6425a73c873be0f80a6f49c8', '6425a73d873be0f80a6f49cb', '6425a7ec05b0d2deaf43b97e', '6425a7ed88ab036228b75218', '6425a7d588ab036228b751ac', '6425a7d688ab036228b751b2', '6425a72505b0d2deaf43b7da', '6425a72605b0d2deaf43b7dd', '6425a7ea88ab036228b75212', '6425a7e988ab036228b7520b', '6425a771873be0f80a6f4a2f', '6425a772422702cc9df4115d', '6425a767422702cc9df41148', '6425a76805b0d2deaf43b85a', '6425a81b422702cc9df4123d', '6425a81c05b0d2deaf43ba0c', '6425a80f87f5eb64dd52a94b', '6425a80eafb870a21b5215a0', '6425a7b2873be0f80a6f4a93', '6425a7b388ab036228b7515b', '6425a7cd873be0f80a6f4aa0', '6425a7ccafb870a21b52155f', '6425a7a505b0d2deaf43b87a', '6425a7a605b0d2deaf43b87d', '6425a7b588ab036228b75164', '6425a7b6873be0f80a6f4a9a', '6425a7c5873be0f80a6f4a9d', '6425a7c705b0d2deaf43b8f2', '6425a81eafb870a21b5215f2', '6425a81f05b0d2deaf43ba15', '6425a7a987f5eb64dd52a88f', '6425a7a805b0d2deaf43b884', '6425a7d888ab036228b751be', '6425a7da88ab036228b751c1', '6425a73887f5eb64dd52a81b', '6425a73aafb870a21b52148f', '6425a74a05b0d2deaf43b83c', '6425a74b422702cc9df41103', '6425a72105b0d2deaf43b7d1', '6425a722422702cc9df410c8', '6425a7f5afb870a21b521574', '6425a7f4873be0f80a6f4aec', '6425a7c288ab036228b75181', '6425a7c387f5eb64dd52a8a3', '6425a7f088ab036228b7522a', '6425a7f1873be0f80a6f4ae3', '6425a7a2873be0f80a6f4a80', '6425a7a388ab036228b7513a', '6425a82c87f5eb64dd52a9ab', '6425a82d88ab036228b752a8', '6425a80488ab036228b75248', '6425a805873be0f80a6f4b13', '6425a7dc05b0d2deaf43b921', '6425a7dd88ab036228b751cf', '6425a82688ab036228b75293', '6425a82588ab036228b7528a', '6425a77a87f5eb64dd52a877', '6425a778422702cc9df41171', '6425a72e873be0f80a6f49b1', '6425a72fafb870a21b52145d', '6425a80b87f5eb64dd52a939', '6425a80c422702cc9df411fc', '6425a797422702cc9df411a1', '6425a79888ab036228b75137', '6425a80788ab036228b7524b', '6425a80888ab036228b7524e', '6425a7ae05b0d2deaf43b8a5', '6425a7b088ab036228b75154', '6425a77c88ab036228b750f1', '6425a77d873be0f80a6f4a47', '6425a76a422702cc9df4114e', '6425a76bafb870a21b5214fe', '6425a7e205b0d2deaf43b942', '6425a7e388ab036228b751f9', '6425a7bf05b0d2deaf43b8dd', '6425a7c005b0d2deaf43b8e3', '6425a794873be0f80a6f4a67', '6425a795873be0f80a6f4a6a', '6425a79e873be0f80a6f4a7a', '6425a79fafb870a21b521519', '6425a7fa05b0d2deaf43b9a5', '6425a7fbafb870a21b521583', '6425a74eafb870a21b5214e3', '6425a781422702cc9df41185', '6425a74705b0d2deaf43b831', '6425a7e087f5eb64dd52a8cb', '6425a75d05b0d2deaf43b857', '6425a78e88ab036228b75124', '6425a7f805b0d2deaf43b999', '6425a71f88ab036228b7503a', '6425a765422702cc9df4113f', '6425a812afb870a21b5215bd', '6425a744873be0f80a6f49e4', '6425a76187f5eb64dd52a850']),\n",
       "       list(['6425b34488ab036228b77b2e', '6425b41588ab036228b77e1c', '6425b301cd93dce1db95e9e5', '6425b30ecd93dce1db95e9f4', '6425b3b888ab036228b77cff', '6425b312cd93dce1db95e9fa', '6425b34bfb0cfb5575a9e8b7', '6425b39387f5eb64dd52c0ca', '6425b31588ab036228b77a32', '6425b39b88ab036228b77cc0', '6425b2f187f5eb64dd52bd5d', '6425b36afb0cfb5575a9ea0b', '6425b3d0cd93dce1db95ea4a', '6425b2e9fb0cfb5575a9e4e1', '6425b3d7afb870a21b5237fc', '6425b359afb870a21b523735', '6425b37498afdc9829568a4e', '6425b37588ab036228b77c1a', '6425b3ea88ab036228b77d93', '6425b3ebfb0cfb5575a9ec62', '6425b3e088ab036228b77d84', '6425b3e287f5eb64dd52c12d', '6425b31ffb0cfb5575a9e6bd', '6425b32087f5eb64dd52be46', '6425b38a87f5eb64dd52c097', '6425b38b87f5eb64dd52c09c', '6425b37afb0cfb5575a9eaaa', '6425b37bafb870a21b5237bf', '6425b3c698afdc9829568ae8', '6425b3c798afdc9829568aeb', '6425b3c988ab036228b77d2b', '6425b3ca88ab036228b77d39', '6425b37e88ab036228b77c48', '6425b37dfb0cfb5575a9eac5', '6425b39098afdc9829568a93', '6425b391fb0cfb5575a9eb68', '6425b33efb0cfb5575a9e81b', '6425b33f88ab036228b77b13', '6425b30bfb0cfb5575a9e5d8', '6425b30c87f5eb64dd52bdf5', '6425b2f887f5eb64dd52bd85', '6425b2f787f5eb64dd52bd7d', '6425b3cdfb0cfb5575a9ec28', '6425b3ce88ab036228b77d4c', '6425b33787f5eb64dd52becf', '6425b33888ab036228b77af4', '6425b3f888ab036228b77db4', '6425b3f988ab036228b77db7', '6425b35287f5eb64dd52bf5b', '6425b353fb0cfb5575a9e917', '6425b3b188ab036228b77ce7', '6425b3b3fb0cfb5575a9ebe3', '6425b3bf88ab036228b77d17', '6425b3c088ab036228b77d1a', '6425b323afb870a21b52366b', '6425b32287f5eb64dd52be49', '6425b34187f5eb64dd52bef6', '6425b34287f5eb64dd52bef9', '6425b36088ab036228b77bbb', '6425b36188ab036228b77bc5', '6425b32998afdc9829568946', '6425b32a87f5eb64dd52be85', '6425b41088ab036228b77e13', '6425b40fafb870a21b523852', '6425b3ab87f5eb64dd52c102', '6425b3acafb870a21b5237eb', '6425b37788ab036228b77c26', '6425b37888ab036228b77c32', '6425b3e788ab036228b77d8d', '6425b3e888ab036228b77d90', '6425b39efb0cfb5575a9ebc0', '6425b39f87f5eb64dd52c0f6', '6425b3fb88ab036228b77dba', '6425b3fcfb0cfb5575a9ec96', '6425b335fb0cfb5575a9e7b7', '6425b334afb870a21b5236bc', '6425b30787f5eb64dd52bdd1', '6425b30898afdc98295688f9', '6425b348fb0cfb5575a9e88d', '6425b34988ab036228b77b43', '6425b31b88ab036228b77a5b', '6425b330fb0cfb5575a9e786', '6425b366fb0cfb5575a9e9e9', '6425b2fecd93dce1db95e9e2', '6425b380fb0cfb5575a9eae5', '6425b381fb0cfb5575a9eaed', '6425b35dfb0cfb5575a9e985', '6425b35e98afdc9829568a0b', '6425b40288ab036228b77ddc', '6425b403afb870a21b52383c', '6425b3dd87f5eb64dd52c127', '6425b3de88ab036228b77d81', '6425b397fb0cfb5575a9eb9e', '6425b39887f5eb64dd52c0e2', '6425b2edfb0cfb5575a9e502', '6425b41298afdc9829568b26', '6425b405afb870a21b523842', '6425b38787f5eb64dd52c07b', '6425b38d87f5eb64dd52c0a2', '6425b371fb0cfb5575a9ea59', '6425b2e3fb0cfb5575a9e4ca', '6425b3d388ab036228b77d66', '6425b318fb0cfb5575a9e66f', '6425b33bfb0cfb5575a9e7f1', '6425b3bcfb0cfb5575a9ec03', '6425b3bdfb0cfb5575a9ec0a', '6425b3f5afb870a21b523825', '6425b3f688ab036228b77dae', '6425b3c3fb0cfb5575a9ec18', '6425b3c4fb0cfb5575a9ec1b', '6425b3aefb0cfb5575a9ebdb', '6425b3af98afdc9829568ac3', '6425b3a187f5eb64dd52c0f9', '6425b3a2afb870a21b5237e8', '6425b32dafb870a21b52369a', '6425b32e98afdc9829568957', '6425b2e787f5eb64dd52bd51', '6425b2f5afb870a21b5235d8', '6425b3a588ab036228b77cd2', '6425b3f298afdc9829568b1b', '6425b385fb0cfb5575a9eb10', '6425b364fb0cfb5575a9e9d3', '6425b3effb0cfb5575a9ec74', '6425b350fb0cfb5575a9e8f7', '6425b2fc88ab036228b779d5', '6425b3dbcd93dce1db95ea64']),\n",
       "       list(['6425bf67cd93dce1db960dd2', '6425bf6587f5eb64dd52d6e4', '6425becccd93dce1db960af3', '6425beca87f5eb64dd52d660', '6425bedc88ab036228b7a869', '6425bedafb0cfb5575aa0d20', '6425bf63cd93dce1db960dc0', '6425bf6298afdc982956a8dc', '6425bf23cd93dce1db960c5a', '6425bf22cd93dce1db960c4a', '6425bf2afb0cfb5575aa0da9', '6425bf28cd93dce1db960c7c', '6425be72cd93dce1db960a3d', '6425be7088ab036228b7a6b4', '6425bf7798afdc982956a923', '6425bf75afb870a21b5257be', '6425beb1fb0cfb5575aa0cc3', '6425beaffb0cfb5575aa0cc0', '6425bf3b88ab036228b7aa25', '6425bf3988ab036228b7aa11', '6425bf1afb0cfb5575aa0d77', '6425bf1898afdc982956a807', '6425bebb87f5eb64dd52d64d', '6425beb9cd93dce1db960a99', '6425be8898afdc982956a70a', '6425be87afb870a21b5254e1', '6425bf5ccd93dce1db960d98', '6425bf5bcd93dce1db960d85', '6425bf0198afdc982956a7ca', '6425beff88ab036228b7a907', '6425be5ecd93dce1db960a12', '6425be5ccd93dce1db960a0d', '6425bee6cd93dce1db960b4c', '6425bee4cd93dce1db960b3f', '6425bf0488ab036228b7a923', '6425bf0288ab036228b7a91c', '6425bef8afb870a21b5255b0', '6425befacd93dce1db960bb8', '6425be6d88ab036228b7a69f', '6425be6e88ab036228b7a6a8', '6425bf38cd93dce1db960cc5', '6425bf4cafb870a21b5256c7', '6425bf4acd93dce1db960d34', '6425be7dfb0cfb5575aa0c6e', '6425be7fafb870a21b5254d5', '6425bec588ab036228b7a7f2', '6425bec488ab036228b7a7eb', '6425beb488ab036228b7a7b1', '6425beb388ab036228b7a7a4', '6425be82afb870a21b5254de', '6425be80fb0cfb5575aa0c78', '6425bf31afb870a21b525641', '6425bf2f88ab036228b7a9e0', '6425be7bafb870a21b5254c7', '6425be7acd93dce1db960a46', '6425bec9cd93dce1db960ae2', '6425bec7cd93dce1db960ada', '6425be8488ab036228b7a716', '6425be8598afdc982956a6fe', '6425bf0788ab036228b7a935', '6425bf0688ab036228b7a930', '6425be6898afdc982956a6b0', '6425be66afb870a21b5254ab', '6425be7888ab036228b7a6ee', '6425be7688ab036228b7a6e6', '6425be8dfb0cfb5575aa0c91', '6425be8f88ab036228b7a72e', '6425bed488ab036228b7a852', '6425bed5cd93dce1db960b1b', '6425befdcd93dce1db960bcb', '6425befb88ab036228b7a8f7', '6425bf6eafb870a21b525778', '6425bf70afb870a21b52578c', '6425bf52afb870a21b5256e8', '6425bf5198afdc982956a885', '6425be5f98afdc982956a682', '6425be6188ab036228b7a659', '6425bf1588ab036228b7a97c', '6425bf1688ab036228b7a981', '6425bf6098afdc982956a8d3', '6425bf5eafb870a21b52571d', '6425be8cafb870a21b5254f9', '6425be8aafb870a21b5254f0', '6425bed7fb0cfb5575aa0d15', '6425bed8afb870a21b52558a', '6425bef1afb870a21b5255a2', '6425bef3cd93dce1db960b9a', '6425bed287f5eb64dd52d671', '6425bed0fb0cfb5575aa0cfd', '6425beab88ab036228b7a770', '6425bea988ab036228b7a763', '6425bf7287f5eb64dd52d6f0', '6425bf73afb870a21b5257ac', '6425beb688ab036228b7a7ba', '6425beb888ab036228b7a7c9', '6425bf6a88ab036228b7aab2', '6425bea0afb870a21b525537', '6425be9f98afdc982956a746', '6425bf56afb870a21b5256f6', '6425bf54afb870a21b5256ee', '6425be6498afdc982956a69f', '6425be63cd93dce1db960a1c', '6425bea398afdc982956a761', '6425bea2afb870a21b52553d', '6425be96afb870a21b52551b', '6425be9488ab036228b7a741', '6425be9bcd93dce1db960a67', '6425be9dafb870a21b52552b', '6425be93cd93dce1db960a5c', '6425be9188ab036228b7a737', '6425bf2088ab036228b7a99c', '6425bf1e88ab036228b7a990', '6425bee8fb0cfb5575aa0d4c', '6425bee987f5eb64dd52d694', '6425bf10fb0cfb5575aa0d68', '6425bf0e88ab036228b7a954', '6425bf3ecd93dce1db960cf7', '6425bf3dafb870a21b52566d', '6425bf34cd93dce1db960cb5', '6425bf33cd93dce1db960caa', '6425bf1388ab036228b7a975', '6425bf1188ab036228b7a967', '6425be6b88ab036228b7a696', '6425be6998afdc982956a6b9', '6425bf42cd93dce1db960d06', '6425bf40afb870a21b525683', '6425bef088ab036228b7a8bc', '6425beeecd93dce1db960b7e', '6425bf48cd93dce1db960d28', '6425bf46afb870a21b5256b2', '6425bedf88ab036228b7a87a', '6425beeccd93dce1db960b75', '6425beeb87f5eb64dd52d69c', '6425bf5988ab036228b7aa90', '6425bf58cd93dce1db960d70', '6425bf1b88ab036228b7a98a', '6425bebdcd93dce1db960aa8', '6425bf43cd93dce1db960d13', '6425bf6bcd93dce1db960dea', '6425bef588ab036228b7a8da', '6425bea588ab036228b7a757', '6425bf25afb870a21b525614', '6425be7398afdc982956a6cd', '6425be5987f5eb64dd52d618', '6425bf0b98afdc982956a7e2', '6425be9887f5eb64dd52d63e', '6425bee188ab036228b7a886', '6425bf2c88ab036228b7a9cd', '6425becdcd93dce1db960afb', '6425bead88ab036228b7a77f']),\n",
       "       list(['6425c246fb0cfb5575aa17ad', '6425c20bcd93dce1db961303', '6425c262fb0cfb5575aa1816', '6425c19887f5eb64dd52da6d', '6425c23fafb870a21b5260c9', '6425c1cdcd93dce1db96123f', '6425c18788ab036228b7b1af', '6425c23cafb870a21b5260ba', '6425c23d88ab036228b7b46e', '6425c269afb870a21b5261a1', '6425c26bafb870a21b5261ba', '6425c1c9afb870a21b525ef3', '6425c1cbafb870a21b525f07', '6425c21ffb0cfb5575aa16d9', '6425c221cd93dce1db96135e', '6425c1f687f5eb64dd52daec', '6425c1f8cd93dce1db9612c0', '6425c238cd93dce1db9613de', '6425c23a88ab036228b7b45d', '6425c1ba98afdc982956aeb7', '6425c1bc98afdc982956aebd', '6425c25b88ab036228b7b526', '6425c25d98afdc982956afc1', '6425c20a87f5eb64dd52db1b', '6425c208afb870a21b525ff1', '6425c1a2fb0cfb5575aa14b3', '6425c1a4fb0cfb5575aa14b6', '6425c17acd93dce1db9611b9', '6425c17bafb870a21b525d72', '6425c1b3afb870a21b525e29', '6425c1b587f5eb64dd52da8a', '6425c254cd93dce1db96146a', '6425c255cd93dce1db96146d', '6425c1dcfb0cfb5575aa1598', '6425c1ddafb870a21b525f6f', '6425c1b798afdc982956aea2', '6425c1b9afb870a21b525e54', '6425c183fb0cfb5575aa144f', '6425c185fb0cfb5575aa1454', '6425c21088ab036228b7b373', '6425c20f87f5eb64dd52db24', '6425c265fb0cfb5575aa1838', '6425c26788ab036228b7b56a', '6425c1ee88ab036228b7b2b8', '6425c260afb870a21b526163', '6425c1c8afb870a21b525ed9', '6425c1c5afb870a21b525ec2', '6425c25e88ab036228b7b540', '6425c156fb0cfb5575aa13d0', '6425c15388ab036228b7b0f8', '6425c22afb0cfb5575aa16ff', '6425c22c87f5eb64dd52db57', '6425c26dafb870a21b5261c8', '6425c26ffb0cfb5575aa18a5', '6425c18a98afdc982956ae15', '6425c18cafb870a21b525dae', '6425c1a5fb0cfb5575aa14bc', '6425c1a7fb0cfb5575aa14c2', '6425c18098afdc982956adf4', '6425c182cd93dce1db9611c2', '6425c1d8afb870a21b525f5d', '6425c1dafb0cfb5575aa158f', '6425c201afb870a21b525feb', '6425c20387f5eb64dd52db0c', '6425c1fafb0cfb5575aa162b', '6425c1fccd93dce1db9612cc', '6425c1f5fb0cfb5575aa1604', '6425c1f3afb870a21b525fb1', '6425c14dfb0cfb5575aa13a9', '6425c14ecd93dce1db961155', '6425c24ecd93dce1db96143f', '6425c24fafb870a21b526128', '6425c1d2afb870a21b525f46', '6425c1d1afb870a21b525f3d', '6425c21688ab036228b7b382', '6425c217cd93dce1db96132d', '6425c22efb0cfb5575aa1711', '6425c16c98afdc982956adca', '6425c16dcd93dce1db9611a4', '6425c24aafb870a21b526109', '6425c24b98afdc982956af9c', '6425c1b298afdc982956ae8a', '6425c1b098afdc982956ae81', '6425c23388ab036228b7b431', '6425c23188ab036228b7b41c', '6425c16f98afdc982956adcd', '6425c171afb870a21b525d40', '6425c149cd93dce1db96114b', '6425c14b98afdc982956ada1', '6425c1fe87f5eb64dd52dafe', '6425c200fb0cfb5575aa165c', '6425c1dffb0cfb5575aa15a9', '6425c1e1fb0cfb5575aa15b8', '6425c1beafb870a21b525e7c', '6425c1c0cd93dce1db961210', '6425c18ecd93dce1db9611e6', '6425c19098afdc982956ae2a', '6425c257fb0cfb5575aa17e5', '6425c259cd93dce1db96147c', '6425c173fb0cfb5575aa1431', '6425c17687f5eb64dd52da4f', '6425c1d498afdc982956af51', '6425c1f187f5eb64dd52dae0', '6425c1ef88ab036228b7b2c1', '6425c212fb0cfb5575aa16ae', '6425c21488ab036228b7b37c', '6425c15b98afdc982956adae', '6425c15dfb0cfb5575aa13f1', '6425c1e3afb870a21b525f81', '6425c1e5afb870a21b525f8a', '6425c1acfb0cfb5575aa14da', '6425c1aefb0cfb5575aa14e3', '6425c1e698afdc982956af5d', '6425c1e8cd93dce1db961280', '6425c1a9fb0cfb5575aa14c8', '6425c1abafb870a21b525e0e', '6425c243fb0cfb5575aa179b', '6425c244afb870a21b5260f3', '6425c25288ab036228b7b504', '6425c16afb0cfb5575aa141e', '6425c17eafb870a21b525d7e', '6425c22888ab036228b7b3ef', '6425c21a87f5eb64dd52db30', '6425c19698afdc982956ae45', '6425c206fb0cfb5575aa167e', '6425c167afb870a21b525d13', '6425c19398afdc982956ae3d', '6425c15988ab036228b7b124', '6425c16398afdc982956adc7', '6425c1ed87f5eb64dd52dad7']),\n",
       "       list(['6442d65b0c717c2db1497272', '6442d65a42696b85f21a159d', '6442d6d894903883d9ef54bd', '6442d6dadd7885071d7a4ae5', '6442d6530e615ce1bb9705ae', '6442d6520c717c2db1497264', '6442d6c944372c22ae7d277f', '6442d6cb42696b85f21a162d', '6442d7340e615ce1bb97066a', '6442d733cd141369ec1509a2', '6442d6ef42696b85f21a1654', '6442d6f10e615ce1bb97063a', '6442d7596437503947793c0a', '6442d69d44372c22ae7d2758', '6442d7856437503947793c2b', '6442d77edb3c6d6a5eaec9d3', '6442d6bb44372c22ae7d2767', '6442d7688f3b2fa5045e8bd3', '6442d6a41587ba108da35822', '6442d78d47e162c9efe0d858', '6442d7b742696b85f21a16d8', '6442d7c60e615ce1bb9706b0', '6442d64b1587ba108da3579b', '6442d73a0c717c2db1497360', '6442d7a3a381503eba350f4d', '6442d7150c717c2db1497342', '6442d63c94903883d9ef5432', '6442d6e8895db77d52e3a6e7', '6442d68ff607a15d721febfe', '6442d724895db77d52e3a70d', '6442d79474426ff89e7a8db4', '6442d7770121c13af7ebef2a', '6442d76f895db77d52e3a74e', '6442d71df607a15d721fec3d']),\n",
       "       list(['64429d8d104258ab992ecc0d', '64429c0fcd141369ec14567b', '64429b6bcd141369ec14549b', '64429af20d0904e092073f19', '64429da9cd141369ec145af5', '64429d1d43c3c25142854de3', '64429dd7f629a7728a4aeb48', '64429cb647e162c9efe05f37', '64429cbe1587ba108da2bc93', '64429ba48f3b2fa5045e0241', '64429bdb44372c22ae7c81d5', '64429db494903883d9eec75c', '64429c260d0904e092074280', '64429d3842696b85f219870e', '64429c866437503947789a3a', '64429de783e4be66f2ff1b14', '64429c9f530b42f4700a2a35', '64429a9b6437503947789507', '64429d5b104258ab992ecb7b', '64429c4644372c22ae7c83b3', '64429dc90b6121f98b09061f', '64429d51f607a15d721f7503', '64429abddd7885071d79d974', '64429d81f607a15d721f7586', '64429ad694903883d9eebf8b', '64429c920b6121f98b090351', '64429b72f607a15d721f70ce', '64429b7474426ff89e7a1363']),\n",
       "       list(['64429aa80b6121f98b08fe4b', '64429e0edb3c6d6a5eae5216', '64429b400c717c2db148e627', '64429ce80121c13af7eb66e4', '64429b242b83503407748642', '64429b7b0b6121f98b090102', '64429b60242be814b7af53a7', '64429d9d44372c22ae7c88c9', '64429b352b8350340774868a', '64429bcfdd7885071d79dc40', '64429df3a5e4d3250f2dbbba', '64429d2c2b83503407748de6', '64429dfe44372c22ae7c8a69', '64429bc9242be814b7af556b', '64429c4f895db77d52e313cb', '64429b87a381503eba348c76', '64429cf8a381503eba348f11', '64429d6fa5e4d3250f2dbac7', '64429ab10121c13af7eb604e', '64429bc10e615ce1bb96621a', '64429cd1242be814b7af58f4', '64429af9f607a15d721f6f9b']),\n",
       "       list(['644286ad0c717c2db148b70b', '643f0ca9db3c0c43a907ba65', '643f0e64f93c9330df3a9e4a', '644285c0530b42f47009fc5e', '643f0c174a95d1b58fa95ef9', '644286c40d0904e09207092f', '643f0dc45c013a45cead065b', '644286a343c3c25142850c54', '643f0e81aafe167b7e313af9', '643f0e8374c5a5ca7f632b57', '644286a40b6121f98b08d0bd', '643f0b59815be6eec97c90e1', '643f0b5affa756b09c6935a5', '644285055d8404be646b00de', '643f0c96a7f4fc829bb983de', '6442869c53d575317037aa9b', '644284fc0121c13af7eb393f', '643f10a1a51d6ce884a0fbcd', '643f0ef2e7d00759a4c17722', '64428673530b42f47009fdbf', '643f0db3caf71cfd5d78b964', '644284f48f3b2fa5045dcc7a', '6442852b5d8404be646b015d', '643f0c5176068b12cb9fefde', '643f0f7acaf71cfd5d78bd2d', '644285b25d8404be646b03aa', '6442867642696b85f2194f2d', '643f0ebadc83708da902b39b', '644285a994903883d9ee8c80', '643f0fe6815be6eec97c9cfb', '64428523dd7885071d79ae94', '643f103313f0ca533266a300', '6442851c44372c22ae7c3ea5', '643f0edc76068b12cb9ff5f1', '644286b78f3b2fa5045dcfc4', '643f0c6f13f0ca5332669a41', '6442856753d575317037a841', '643f0e0013f0ca5332669d3b', '64428596104258ab992e9193', '6442853342696b85f2194c49', '643f0b82ffa756b09c6935ff', '644285ff0121c13af7eb3b22', '643f0bcd74c5a5ca7f631f39', '643f0d9976068b12cb9ff298', '6442867d43c3c25142850be7', '644286841587ba108da2849b', '643f0e1f7efbdb43e60ece1a', '643f0ba274c5a5ca7f631e88', '64428584db3c6d6a5eae1277', '643f0fea5c013a45cead0ab6', '644286be43c3c25142850cb0', '643f0f0c4e7c75ae400c3027', '6442863853d575317037a9ff', '643f0dd9db3c0c43a907bd6f', '644286301587ba108da283c0']),\n",
       "       list(['6442a2ff0d0904e092075301', '6442a11fdb3c6d6a5eae5947', '643f10c811f52cc8387a6c60', '6442a1ad74426ff89e7a221f', '643f0d23a7f4fc829bb985f1', '6442a1b8242be814b7af69eb', '643f0d784a95d1b58fa96227', '6442a33b47e162c9efe07084', '6442a4678f3b2fa5045e184b', '6442a485dd7885071d79f2b2', '643f0f9ff93c9330df3aa282', '643f0a644a95d1b58fa95b05', '6442a136f607a15d721f7d92', '6442a2b743c3c25142855dcd', '643f0b1f5c013a45cead025b', '6442a493dd7885071d79f2d0', '643f0bf3db3c0c43a907b87c', '6442a1cf104258ab992ed7b0', '643f0db6db3c0c43a907bd07', '643f0c844e7c75ae400c2cfb', '6442a2f2104258ab992edb0f', '643f0c00aafe167b7e313341', '6442a4ea74426ff89e7a2be5', '643f0e7e74c5a5ca7f632b42', '6442a291cd141369ec146d9a', '643f0cf911f52cc8387a6244', '6442a4cb643750394778b2b3', '643f0cbd74c5a5ca7f632289', '6442a4a694903883d9eed9f4', '643f0f4274c5a5ca7f632fd2', '6442a4b8895db77d52e32b4d', '643f0c43033ecc09014f72ff', '6442a147643750394778a6df', '643f1149f93c9330df3aa5c9', '6442a1aaa381503eba349c3c', '643f0ac0f93c9330df3a94a9', '6442a2320121c13af7eb736f', '643f0c6a11f52cc8387a609d', '6442a2ce0b6121f98b0912d1', '6442a330530b42f4700a38ef', '643f0a054a95d1b58fa95984', '6442a2fd43c3c25142855ea4', '643f0a20f93c9330df3a9329', '643f116ba7f4fc829bb998ed', '6442a2e00d0904e09207529f', '643f0ea4db3c0c43a907bf9e', '6442a4e1f607a15d721f85b4', '6442a26374426ff89e7a2479', '643f0d69f93c9330df3a9afa', '6442a15d42696b85f2198fe2', '643f09da7efbdb43e60ec234', '643f0ce0815be6eec97c95ac', '6442a4c20e615ce1bb967c99']),\n",
       "       list(['643f174011f52cc8387a7d89', '6442b8c374426ff89e7a55cd', '643f190ab49470ad0d2bd1d1', '6442b7de43c3c2514285a12b', '643f175effa756b09c69576e', '6442bb5ef607a15d721fbb24', '6442b3b9895db77d52e35732', '643f1702033ecc09014f8e45', '6442b2e943c3c25142858c8d', '643f14394e7c75ae400c37df', '643f18f9b49470ad0d2bd1aa', '643f0a1774c5a5ca7f6317ee', '6442b53a1587ba108da30ac4', '643f138bf7f2e9b7855d9aee', '6442b556643750394778e0e2', '643f0eb5dc83708da902b381', '6442ba1cdd7885071d7a1823', '6442b2cadb3c6d6a5eae8544', '643f0ef7d868cb143f281004', '6442b712242be814b7afab1b', '643f1465a51d6ce884a1067e', '6442b2a144372c22ae7cc488', '643f0c3f11f52cc8387a6003', '6442b5068f3b2fa5045e4607', '643f16634e7c75ae400c3f30', '6442b899104258ab992f19e9', '643f1442a7f4fc829bb9a418', '643f13137efbdb43e60edc31', '6442b48744372c22ae7ccac9', '6442b256104258ab992f0589', '643f194e94c1f7cf85e3b8e2', '643f196adc83708da902cf21', '6442b94747e162c9efe09eba', '643f169b7efbdb43e60ee603', '6442ba3adb3c6d6a5eae9707', '643f11f1a7f4fc829bb99b73', '6442b8388581ab4397e277b4', '6442bac60121c13af7ebb48a', '643f12fe1d24c94d01bdeb46', '6442b80243c3c2514285a1de', '643f1074db3c0c43a907c3fc', '6442b58fa381503eba34cb52', '643f1790b49470ad0d2bceab', '6442b593530b42f4700a5b7f', '643f0ae7dc83708da902a869', '6442b95644372c22ae7cdc00', '643f0aedaafe167b7e313013', '6442b9592b8350340774e974', '6442b77943c3c25142859f52', '643f18154f01d8205b9a88d0', '6442b77c8f3b2fa5045e4a37', '643f1822b49470ad0d2bd010', '6442b9c7cd141369ec14bf16', '643f0a2513f0ca533266943f', '6442b9cb8581ab4397e27d5c', '643f0a40f7f2e9b7855d84c9', '6442b7fb0b6121f98b0945b1', '643f0ed51d24c94d01bde1df', '6442bae80e615ce1bb96c048', '643f14ca0a2cad497bdb2bfa', '643f0d2f4e7c75ae400c2e1a', '6442babf0e615ce1bb96bff1', '643f0d34f93c9330df3a9a54', '643f14cf74c5a5ca7f6342c6', '6442baeb242be814b7afb58c', '6442b72aa381503eba34cf64', '643f145e4e7c75ae400c3835', '6442b3db643750394778db79', '643f17bdf93c9330df3ab709', '643f0fb111f52cc8387a6975', '6442b7978581ab4397e27553', '6442b65f94903883d9ef0752', '643f0d0ddb3c0c43a907bb78', '643f18b7033ecc09014f92c9', '6442bb2ca5e4d3250f2e0414', '6442b3f443c3c25142859081', '643f15770a2cad497bdb2e60', '643f19fcf7f2e9b7855db1dc', '6442b45a0121c13af7eba670', '6442b8b742696b85f219cedd', '643f0c74033ecc09014f7372', '6442b5d30e615ce1bb96b139', '643f1686e7d00759a4c1813a', '6442ba890e615ce1bb96bf6b', '643f1159e7d00759a4c179aa', '6442b42e83e4be66f2ff48f7', '643f0d18b49470ad0d2bb3f2', '6442b40a0e615ce1bb96abcf', '643f18a6db3c0c43a907da67', '6442b3080b6121f98b093c12', '643f1251caf71cfd5d78c349', '643f0e1f033ecc09014f7796', '6442b4c30e615ce1bb96adfb', '6442b323895db77d52e3557e', '643f1933dc83708da902ce93', '6442b2aff607a15d721fa55e', '643f11b3f93c9330df3aa751', '6442b2810121c13af7eba091', '643f0f24a51d6ce884a0f6aa', '6442b98a43c3c2514285a8a7', '643f17ec033ecc09014f90d0', '643f13b9aafe167b7e314503', '6442b54f42696b85f219c260', '6442b3cda5e4d3250f2df061', '643f147774c5a5ca7f63416a', '6442b7342b8350340774e1c7', '643f0da7b49470ad0d2bb584', '643f1011a7f4fc829bb99278', '6442b5eb2b8350340774dca7', '643f15bca7f4fc829bb9a836', '6442b7b42b8350340774e3c6', '643f0a851d24c94d01bdd601', '6442bb750c717c2db1492ab2', '6442bb58242be814b7afb718', '643f13b0ffa756b09c694d67', '643f19d0f7f2e9b7855db16c', '6442b46c0e615ce1bb96acfb', '6442b2c1643750394778d8b1', '643f1547a7f4fc829bb9a6e3', '6442b74e0d0904e092078d18', '643f15c8033ecc09014f8aa4', '643f12b04a95d1b58fa9760b', '6442b9ec5d8404be646b9b5d', '643f14bb74c5a5ca7f634280', '6442b339db3c6d6a5eae867b', '6442b8850c717c2db14925bd', '643f0ec374c5a5ca7f632d17', '643f1551db3c0c43a907d065', '6442ba15f607a15d721fb7a8', '6442ba1047e162c9efe0a0c0', '643f154ba51d6ce884a10855', '643f160df93c9330df3ab230', '6442ba90cd141369ec14c239', '643f16187efbdb43e60ee47d', '6442ba93f607a15d721fb92f', '643f14dcb49470ad0d2bc718', '6442b4dbcd141369ec14a804', '6442b4d88f3b2fa5045e45a9', '643f14d55c013a45cead17d7', '6442b350530b42f4700a57b1', '643f153f4a95d1b58fa97e14', '643f1539db3c0c43a907d00b', '6442b34b0c717c2db1491eff', '6442ba47895db77d52e366df', '643f14c576068b12cba00430', '643f14c176068b12cba00428', '6442ba4494903883d9ef111b', '6442b96af629a7728a4b32db', '643f117daafe167b7e31402a', '643f0f3e4a95d1b58fa96b1c', '6442b6412b8350340774de11', '6442b67ff629a7728a4b2af4', '643f1256d868cb143f281b7a', '6442b3e6f607a15d721fa8e7', '643f16d61d24c94d01bdf505', '643f19b65c013a45cead293b', '6442b612104258ab992f110e', '6442bb1e8581ab4397e2822b', '643f193711f52cc8387a84b7', '6442b4cc0d0904e0920783c8', '643f155613f0ca533266af44', '643f1186caf71cfd5d78c0aa', '6442ba5774426ff89e7a5882', '643f151c7efbdb43e60ee1b4', '6442b35f8581ab4397e26675', '6442b4fc530b42f4700a5a7c', '643f0a65db3c0c43a907b437', '643f11e87efbdb43e60ed8ce', '6442b7c743c3c2514285a0b6', '643f0c8876068b12cb9ff066', '643f1690dc83708da902c8dd', '6442bb438f3b2fa5045e5090', '6442b4ef0d0904e09207842a', '643f19c37efbdb43e60eef1a', '643f1a357efbdb43e60ef00e', '6442b5c1104258ab992f0fae', '643f13bf033ecc09014f8501', '6442b91642696b85f219d05a', '6442b8fc83e4be66f2ff5564', '643f1048aafe167b7e313ed7', '643f0db6dc83708da902b05d', '6442b6bc44372c22ae7cd3b0', '643f1a0cdc83708da902d086', '6442b9930b6121f98b094993', '6442b87343c3c2514285a416', '643f0fcedc83708da902b6f8', '6442ba4dcd141369ec14c160', '643f0d5b033ecc09014f7583', '6442b79da5e4d3250f2dfa64', '643f0c0b13f0ca533266994d', '643f18ddaafe167b7e31511d', '6442b88c74426ff89e7a5567', '643f0ca94e7c75ae400c2d29', '6442b7badb3c6d6a5eae9110', '643f18d1dc83708da902cdbe', '6442b8da0b6121f98b094765', '6442b8582b8350340774e642', '643f15697efbdb43e60ee29e', '643f12a14a95d1b58fa975f5', '6442b78242696b85f219c979', '6442b8a683e4be66f2ff545d', '643f1307e7d00759a4c17d61', '6442b756cd141369ec14b3e9', '643f0bd8ffa756b09c6936f6', '643f0de0db3c0c43a907bd84', '6442b8ee0c717c2db1492672', '6442bb3e42696b85f219d759', '643f1563db3c0c43a907d0a1', '643f155f74c5a5ca7f634500', '6442bb3b94903883d9ef143d', '6442b39983e4be66f2ff479f', '643f14f2caf71cfd5d78c939', '6442b674cd141369ec14af90', '643f0ad213f0ca5332669600', '6442b6778f3b2fa5045e48f0', '643f0ad6caf71cfd5d78b2e3', '6442b9de5d8404be646b9b30', '643f0b31db3c0c43a907b643', '6442b9e2643750394778edd2', '643f0b51aafe167b7e3130f1', '643f0a54815be6eec97c8dec', '6442b9fd8581ab4397e27e1a', '6442b9ff47e162c9efe0a098', '643f0a5edb3c0c43a907b426', '643f1997c3a8b9bcc4c05367', '6442b9380e615ce1bb96bc0b', '643f1991815be6eec97cb8fa', '643f0bce033ecc09014f71b2', '6442b42347e162c9efe095fb', '643f0bc9f93c9330df3a96bc', '6442b71b242be814b7afab3b', '643f1052caf71cfd5d78be66', '6442b71e42696b85f219c7d1', '643f105813f0ca533266a34a', '643f0b6cdb3c0c43a907b6f6', '6442b2792b8350340774cee0', '643f1371aafe167b7e314463', '643f12d811f52cc8387a7159', '6442b4b6cd141369ec14a755', '6442b445530b42f4700a597a', '643f0f9cf93c9330df3aa27f', '6442b5a41587ba108da30bfd', '643f0bac13f0ca5332669843', '6442b58953d5753170380bab', '643f178c11f52cc8387a7e9f', '643f149bffa756b09c695022', '6442b92c0d0904e0920793f0', '6442baa61587ba108da31c36', '643f0dc5caf71cfd5d78b9a6', '643f16fb4e7c75ae400c40b7', '6442ba290b6121f98b094b16', '643f0e494a95d1b58fa96598', '6442b43d1587ba108da30704', '643f0cd2a7f4fc829bb984cd', '6442ba9d0d0904e0920798dc', '643f0a9a11f52cc8387a5b2b', '6442b82e0121c13af7ebb015', '6442b49c104258ab992f0bfe', '643f13e876068b12cba001bd', '643f1597f7f2e9b7855da1ab', '6442b6ec5d8404be646b8d05', '643f0d27f7f2e9b7855d8de8', '6442bafef607a15d721fba3b', '6442b6ff43c3c25142859d0c', '643f14ae7efbdb43e60ee083']),\n",
       "       list(['644282e95d8404be646afdaa', '644284132b835034077443db', '644284648f3b2fa5045dcae3', '644282cc895db77d52e2d785', '644283c18f3b2fa5045dc963', '64428367242be814b7af10bc', '64428449a381503eba345e75', '64428480242be814b7af12b4', '6442844174426ff89e79eb8c', '644284035d8404be646afef4', '6442840b0b6121f98b08cac4', '644284ad53d575317037a6d0', '644284725d8404be646affa2', '64428333dd7885071d79ac00', '644282f00b6121f98b08c9b9', '6442832444372c22ae7c3acb', '6442839c3af90acde305c8ff', '64428358242be814b7af109e', '644283595d8404be646afe17', '6442845442696b85f2194a5b', '644283403af90acde305c89f', '6442845574426ff89e79eba5', '6442842a2b83503407744408', '6442842844372c22ae7c3c12', '644283dbc34bf6600ec87a1f', '644283dc0121c13af7eb37dd', '644284772b83503407744488', '644284790b6121f98b08cb9d', '644283166a8eb2a45f8be3fd', '6442831443c3c25142850531', '64428431895db77d52e2d958', '644284300b6121f98b08cb07', '6442835f53d575317037a599', '64428360242be814b7af10b3']),\n",
       "       list(['644283e25d8404be646afea7', '644284c68f3b2fa5045dcbf9', '6442832b0b6121f98b08ca04', '6442832a7eb89489acf30228', '6442831ba381503eba345d89', '6442831d3af90acde305c880', '64428305530b42f47009f8d7', '6442830642696b85f21948da', '644282fe0b6121f98b08c9d6', '644283527eb89489acf30249', '644283518581ab4397e1e795', '644283ab1d43f9d29a48c3e0', '644282ff0c450b21d5ebdcac', '64428380a5e4d3250f2d7a3c', '6442848fa5e4d3250f2d7bfd', '644283fc8f3b2fa5045dc9b9', '644282e2c34bf6600ec879a0', '644283957eb89489acf30277', '6442841b8581ab4397e1e880', '644284a51587ba108da27e4b']),\n",
       "       list(['64428826530b42f4700a01f4', '644287d964375039477862e3', '644287bd1587ba108da2872f', '644287b70c717c2db148b938', '6442889844372c22ae7c47fa', '64428891db3c6d6a5eae1aa3', '644289038f3b2fa5045dd393', '6442882f5d8404be646b0ddc', '644288280d0904e092070e9f', '644288158581ab4397e1f229', '6442880e5d8404be646b0d0d', '6442873543c3c25142850e30', '6442872f8581ab4397e1ef95', '644288d4895db77d52e2e47f', '644288cb1587ba108da289c6', '644287fc1587ba108da28794', '644287f40c717c2db148b9b5', '6442879b0c717c2db148b912', '64428773104258ab992e95f7', '6442876383e4be66f2feee01', '6442877ca5e4d3250f2d82ea', '644287390b6121f98b08d25c', '644287c842696b85f2195345', '6442873643c3c25142850e35', '64428839530b42f4700a021e', '6442886b0b6121f98b08d49c', '644287eb242be814b7af1c48', '644288e747e162c9efe035e1', '6442885944372c22ae7c46c1', '644287a4db3c6d6a5eae1789', '644287e45d8404be646b0c17', '644287256437503947786129', '64428845104258ab992e9859', '644287dd42696b85f2195381', '64428831db3c6d6a5eae1943']),\n",
       "       list(['644287b053d575317037acd1', '644284d142696b85f2194b8d', '644285ab74426ff89e79ed5d', '644287322b83503407744dc9', '6442873644372c22ae7c4361', '64428551a381503eba34604d', '64428555db3c6d6a5eae122f', '644286d90c717c2db148b74e', '644286de43c3c25142850d08', '644284ec2b835034077445c7', '644284f0dd7885071d79adcf', '644286e92b83503407744d48', '644286ed0b6121f98b08d170', '6442861983e4be66f2feeb8b', '64428565242be814b7af15a0', '644284dc2b83503407744598', '644286b51587ba108da284ed', '6442869adb3c6d6a5eae14a8', '644286c694903883d9ee8fbb', '644285c31587ba108da28246', '6442857a5d8404be646b0292', '6442871bf629a7728a4aa900', '644285ba5d8404be646b03c5', '644286926437503947785f94', '644286be53d575317037ab02', '6442873a0c717c2db148b814', '644285042b835034077445f4', '6442853a8f3b2fa5045dccf4', '6442855c5d8404be646b0220', '64428497a5e4d3250f2d7c0b', '644287bc2b83503407744f15', '64428629104258ab992e9304', '644286f10e615ce1bb962fad', '644285491587ba108da28068', '64428609cd141369ec141754', '6442856f0b6121f98b08ccdf', '6442864ca5e4d3250f2d7f2e', '6442874ba5e4d3250f2d81e8', '64428788f629a7728a4aaa71', '6442859d104258ab992e91a4']),\n",
       "       list(['64429e3d53d575317037d9c8', '6442a38a44372c22ae7c99fe', '6442a4f594903883d9eedaa6', '6442a40ecd141369ec147253', '64429c75a381503eba348df1', '6442a07544372c22ae7c9110', '64429f1c53d575317037dbd4', '6442a1de8f3b2fa5045e138d', '6442a13747e162c9efe06c25', '6442a374f607a15d721f8187', '64429dadf607a15d721f75fc', '6442a18c43c3c25142855b09', '6442a28443c3c25142855d1f', '6442a2e074426ff89e7a267d', '6442a4d62b8350340774a884', '64429cdc0d0904e0920743f3', '64429cde83e4be66f2ff17f0', '6442a3ac43c3c25142856089', '6442a3a22b8350340774a338', '6442a30da381503eba349fc7', '6442a3108581ab4397e23bfe', '64429d10895db77d52e315a5', '64429d0c1587ba108da2bdc8', '64429e1d44372c22ae7c8aec', '6442a4721587ba108da2d658', '64429b96895db77d52e3116e', '64429e4df629a7728a4aeccb', '64429bcd2b8350340774891b', '64429b5af629a7728a4ae2c9', '64429f781587ba108da2c48e', '6442a3500e615ce1bb967893', '6442a3fb895db77d52e328ee', '6442a0d9895db77d52e31e68', '6442a26e0e615ce1bb9675db', '64429bd8db3c6d6a5eae4c2d', '64429a6d0e615ce1bb965ef7', '6442a12cdd7885071d79ea99', '6442a317db3c6d6a5eae5f1f', '64429dcdf607a15d721f7643', '64429ed4643750394778a097']),\n",
       "       list(['6442a467a381503eba34a473', '64429c828581ab4397e22a8c', '64429b670b6121f98b0900c7', '6442a2b02b8350340774a064', '6442a498104258ab992ee032', '64429ff494903883d9eecdcc', '6442a23383e4be66f2ff245a', '64429e0844372c22ae7c8a99', '6442a1f7dd7885071d79ec8d', '6442a20fcd141369ec146be2', '64429a831587ba108da2b6ae', '64429d6e1587ba108da2bf22', '64429a3794903883d9eebdc2', '64429d9d1587ba108da2bfac', '64429fc2f607a15d721f7ac4', '6442a0cd47e162c9efe06b47', '6442a4540b6121f98b091657', '6442a1b3530b42f4700a364c']),\n",
       "       list(['64429e5c2b83503407749352', '6442a28adb3c6d6a5eae5d8e', '64429eef643750394778a0e5', '6442a3f1643750394778af3b', '6442a33ff607a15d721f811c', '6442a2f52b8350340774a104', '6442a0a2f607a15d721f7c31', '6442a3641587ba108da2d1e1', '6442a15594903883d9eed1dd', '6442a42e83e4be66f2ff297d', '6442a05e0e615ce1bb966d97', '64429bf65d8404be646b4892', '6442a4ca104258ab992ee0d4', '6442a4370b6121f98b091610', '64429a9894903883d9eebef9', '6442a3b0643750394778ae4c', '6442a31f74426ff89e7a2772', '64429efe94903883d9eecad0', '64429eac242be814b7af5f2c', '6442a484242be814b7af72ad', '64429df8cd141369ec145c3a', '6442a1700121c13af7eb7222', '6442a14a74426ff89e7a20ed', '6442a1ca0121c13af7eb72ba', '6442a1c8895db77d52e32195', '6442a3c6cd141369ec1471ae', '64429eb40b6121f98b090778', '64429eb744372c22ae7c8cda', '6442a0f9db3c6d6a5eae58da']),\n",
       "       list(['6442a2190c717c2db148f79f', '6442a0010e615ce1bb966c78', '6442a5092b8350340774a923', '64429e170121c13af7eb69f9', '6442a1210e615ce1bb967040', '64429b088581ab4397e22560', '6442a39bdb3c6d6a5eae60b5', '64429fea8f3b2fa5045e0e36', '64429e9ddb3c6d6a5eae5378', '6442a2c9a381503eba349f37', '6442a2bca381503eba349f14', '64429df25d8404be646b4e83', '6442a27b530b42f4700a37ae', '64429a7983e4be66f2ff1283', '6442a41483e4be66f2ff292e', '6442a41744372c22ae7c9ba3', '6442a17c242be814b7af6918', '6442a181104258ab992ed6c8', '64429dc18581ab4397e22cff', '64429dc70d0904e0920745f3', '64429fa2242be814b7af626e', '64429fb074426ff89e7a1d3a', '64429cf0dd7885071d79de7a', '64429cf3895db77d52e31552', '64429ae443c3c25142854763', '64429ae7f629a7728a4ae13e', '64429c32f607a15d721f724e', '64429c35a5e4d3250f2db843', '6442a3de83e4be66f2ff285e', '64429f31cd141369ec146031', '6442a3be8f3b2fa5045e16bf']),\n",
       "       list(['644285ba44372c22ae7c4059', '643f095b4e7c75ae400c2501', '644286406437503947785e8e', '643f07e8815be6eec97c864a', '6442857a5d8404be646b0294', '644286bd47e162c9efe032dc', '643f0b19caf71cfd5d78b39f', '643f0b7213f0ca53326697b6', '644286d543c3c25142850cef', '64428536dd7885071d79aed1', '643f0b9ef93c9330df3a9667', '644285332b83503407744651', '643f0a831d24c94d01bdd5f5', '644285c3104258ab992e9229', '644285c05d8404be646b03e2', '643f0a88033ecc09014f6e20', '64428648530b42f47009fd7a', '643f0b68815be6eec97c9111', '64428645530b42f47009fd6f', '643f0965b49470ad0d2bac71', '644286b40c717c2db148b715', '643f09f07efbdb43e60ec270', '643f09c95c013a45cead0153', '6442869f530b42f47009fe1b', '644286a3104258ab992e93be', '643f09c6f93c9330df3a9266', '644286b2dd7885071d79b176', '643f09fedb3c0c43a907b31d', '64428628db3c6d6a5eae13a6', '643f08137efbdb43e60ebccf', '64428626a5e4d3250f2d7eef', '643f081874c5a5ca7f6310f4', '644286dd895db77d52e2dfd8', '643f0970e7d00759a4c16c93', '643f097676068b12cb9fe833', '644286da0121c13af7eb3c9a', '64428516a5e4d3250f2d7d51', '643f0c70e7d00759a4c174fb', '643f0c7474c5a5ca7f63216f', '64428514a5e4d3250f2d7d4b', '643f0a7c13f0ca533266951e', '6442865d0c717c2db148b65b', '643f0a56db3c0c43a907b410', '644286600e615ce1bb962e26', '643f0cec5c013a45cead0450', '644285c98581ab4397e1ec0a', '6442866544372c22ae7c41e4', '643f0b0674c5a5ca7f631bbc', '6442853c242be814b7af14d2', '643f07df13f0ca5332668d85', '643f0806db3c0c43a907ae5b', '6442852ba5e4d3250f2d7d94', '64428558104258ab992e9091', '643f08d41d24c94d01bdd1ca', '644286c30121c13af7eb3c71', '643f096a815be6eec97c8afc', '643f088fb49470ad0d2baa7f', '644285622b835034077446c5', '643f07c45c013a45ceacfe4a', '64428548242be814b7af1511', '6442864d2b83503407744b7a', '643f0909033ecc09014f6a4f', '643f07bb74c5a5ca7f630f7f', '6442862d43c3c25142850b04', '6442858adb3c6d6a5eae127e', '643f0c31aafe167b7e3133f1', '6442869674426ff89e79ee1d', '643f0a4ae7d00759a4c16e17', '64428523dd7885071d79ae96', '643f0b8c4a95d1b58fa95e1a', '643f0c9811f52cc8387a612e', '64428670cd141369ec141872']),\n",
       "       list(['644282ec6a8eb2a45f8be3c5', '644283a56a8eb2a45f8be498', '644284388f3b2fa5045dca3a', '644282c68f3b2fa5045dc893', '64428334530b42f47009f8ff', '64428390a5e4d3250f2d7a45', '644282fb7c8dc543df053bd6', '6442841043c3c25142850650', '6442831100668be3617ff62c', '644282f32b8350340774425e', '6442833b2b835034077442c2', '644283d64bab59da2c0c2b10', '6442836a4bab59da2c0c2ad3', '6442836bc34bf6600ec879e3', '644282df1d43f9d29a48c346', '644282b7242be814b7af0fde', '644283798f3b2fa5045dc917', '6442830353d575317037a56c', '6442842144372c22ae7c3bff']),\n",
       "       list(['6442841c53d575317037a612', '644285452b8350340774467b', '644283a07c8dc543df053c61', '644283f67c8dc543df053cb9', '6442852d5d8404be646b0164', '64428373a381503eba345db8', '644283ca2b83503407744362', '64428390f0de6a9d32b1a3dc', '644285775d8404be646b0289', '644283c36a8eb2a45f8be4ba', '644284335d8404be646aff3a', '644285a65d8404be646b035d', '644282d38581ab4397e1e723', '64428381a381503eba345dc7', '644284c3dd7885071d79ad9b', '644283b4dd7885071d79ac43', '644282a18f3b2fa5045dc85b', '644285a38581ab4397e1ebc5', '6442853add7885071d79aee4', '644284f744372c22ae7c3e29', '644284190b6121f98b08cadd', '6442831d53d575317037a585', '6442839e1d43f9d29a48c3d4', '64428475242be814b7af1296', '644284858f3b2fa5045dcb3b', '64428598a381503eba3460ca', '64428563242be814b7af1598', '6442853d2b83503407744663', '644282b274426ff89e79ea7c', '644285705d8404be646b0265']),\n",
       "       list(['644283ecdd7885071d79ac51', '6442840200668be3617ff707', '644282da1587ba108da27bcd', '6442836a8581ab4397e1e7a9', '6442823e1587ba108da27a93', '644283950c450b21d5ebdd44', '644282ac58cae34e940b8a24', '64428278242be814b7af0f95', '6442825b8f3b2fa5045dc7f7', '644283ab43c3c251428505ad', '644282960121c13af7eb371a', '644283b9242be814b7af10f9', '64428357530b42f47009f915'])],\n",
       "      dtype=object)"
      ]
     },
     "execution_count": 8,
     "metadata": {},
     "output_type": "execute_result"
    }
   ],
   "source": [
    "seq_12['Day']"
   ]
  },
  {
   "cell_type": "code",
   "execution_count": 14,
   "metadata": {},
   "outputs": [],
   "source": [
    "query = \"\"\"SELECT ij.id, hard_drive_name, robot_name, collected_on,\n",
    "    bag_name, operating_field_name, operation_time, latitude, longitude, geohash, camera_location, \n",
    "    bundle, group_id, special_notes\n",
    "FROM image_jupiter AS ij\n",
    "WHERE ij.id = '6425a78488ab036228b7510c'\n",
    "\"\"\"\n",
    "img: pd.DataFrame = athena.get_df(query) # type: ignore"
   ]
  },
  {
   "cell_type": "code",
   "execution_count": 15,
   "metadata": {},
   "outputs": [
    {
     "data": {
      "text/html": [
       "<div>\n",
       "<style scoped>\n",
       "    .dataframe tbody tr th:only-of-type {\n",
       "        vertical-align: middle;\n",
       "    }\n",
       "\n",
       "    .dataframe tbody tr th {\n",
       "        vertical-align: top;\n",
       "    }\n",
       "\n",
       "    .dataframe thead th {\n",
       "        text-align: right;\n",
       "    }\n",
       "</style>\n",
       "<table border=\"1\" class=\"dataframe\">\n",
       "  <thead>\n",
       "    <tr style=\"text-align: right;\">\n",
       "      <th></th>\n",
       "      <th>id</th>\n",
       "      <th>hard_drive_name</th>\n",
       "      <th>robot_name</th>\n",
       "      <th>collected_on</th>\n",
       "      <th>bag_name</th>\n",
       "      <th>operating_field_name</th>\n",
       "      <th>operation_time</th>\n",
       "      <th>latitude</th>\n",
       "      <th>longitude</th>\n",
       "      <th>geohash</th>\n",
       "      <th>camera_location</th>\n",
       "      <th>bundle</th>\n",
       "      <th>group_id</th>\n",
       "      <th>special_notes</th>\n",
       "    </tr>\n",
       "  </thead>\n",
       "  <tbody>\n",
       "    <tr>\n",
       "      <th>0</th>\n",
       "      <td>6425a78488ab036228b7510c</td>\n",
       "      <td>loamy_812_1</td>\n",
       "      <td>loamy_812</td>\n",
       "      <td>2023-03-29 22:24:05.665</td>\n",
       "      <td>03_29_2023-22_24_04</td>\n",
       "      <td>&lt;NA&gt;</td>\n",
       "      <td>unknown</td>\n",
       "      <td>0.0</td>\n",
       "      <td>0.0</td>\n",
       "      <td>7zzzzzzzzzzz</td>\n",
       "      <td>side-left-left</td>\n",
       "      <td>5769</td>\n",
       "      <td>bb9531ca1bd94532a3402ea0bfc45d13</td>\n",
       "      <td>&lt;NA&gt;</td>\n",
       "    </tr>\n",
       "  </tbody>\n",
       "</table>\n",
       "</div>"
      ],
      "text/plain": [
       "                         id hard_drive_name robot_name  \\\n",
       "0  6425a78488ab036228b7510c     loamy_812_1  loamy_812   \n",
       "\n",
       "             collected_on             bag_name operating_field_name  \\\n",
       "0 2023-03-29 22:24:05.665  03_29_2023-22_24_04                 <NA>   \n",
       "\n",
       "  operation_time  latitude  longitude       geohash camera_location bundle  \\\n",
       "0        unknown       0.0        0.0  7zzzzzzzzzzz  side-left-left   5769   \n",
       "\n",
       "                           group_id special_notes  \n",
       "0  bb9531ca1bd94532a3402ea0bfc45d13          <NA>  "
      ]
     },
     "execution_count": 15,
     "metadata": {},
     "output_type": "execute_result"
    }
   ],
   "source": [
    "img"
   ]
  }
 ],
 "metadata": {
  "kernelspec": {
   "display_name": "cvml",
   "language": "python",
   "name": "python3"
  },
  "language_info": {
   "codemirror_mode": {
    "name": "ipython",
    "version": 3
   },
   "file_extension": ".py",
   "mimetype": "text/x-python",
   "name": "python",
   "nbconvert_exporter": "python",
   "pygments_lexer": "ipython3",
   "version": "3.10.0"
  },
  "orig_nbformat": 4
 },
 "nbformat": 4,
 "nbformat_minor": 2
}
