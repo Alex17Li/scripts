{
 "cells": [
  {
   "cell_type": "code",
   "execution_count": null,
   "metadata": {},
   "outputs": [],
   "source": [
    "import time\n",
    "import json\n",
    "import ast\n",
    "import os\n",
    "import datetime\n",
    "from rich.progress import track\n",
    "\n",
    "import io\n",
    "from collections import defaultdict\n",
    "\n",
    "import imageio\n",
    "import boto3\n",
    "import pandas as pd\n",
    "import numpy as np\n",
    "import imageio\n",
    "import matplotlib.pyplot as plt\n",
    "# import seaborn as sns\n",
    "\n",
    "from brtdevkit.core.db.athena import AthenaClient\n",
    "from brtdevkit.data import Dataset\n",
    "from timezonefinder import TimezoneFinderL\n",
    "import pytz\n",
    "from rich.progress import track\n",
    "from aletheia_dataset_creator.dataset_tools.aletheia_dataset_helpers import imageids_to_dataset\n",
    "from aletheia_dataset_creator.config.dataset_config import LEFT_CAMERAS, ALL_CAMERA_PAIRS_LIST\n",
    "%matplotlib inline\n",
    "pd.set_option('display.max_rows', 500)\n",
    "import json\n",
    "import cv2\n",
    "import os\n",
    "import multiprocessing as mp    \n",
    "\n",
    "import numpy as np\n",
    "import pandas as pd\n",
    "import matplotlib.pyplot as plt\n",
    "from dl.utils.io_utils import normalize_image\n",
    "import imageio\n",
    "from pathlib import Path\n",
    "from dl.utils.mask_utils import fill_nan_geometries\n",
    "\n",
    "%matplotlib inline\n",
    "from cv.core.image_quality_server_side import ImageQuality\n",
    "\n",
    "# from cv.core.image_quality_server_side_halo import ImageQuality\n",
    "from dl.utils.config import DEFAULT_TONEMAP_PARAMS"
   ]
  },
  {
   "cell_type": "code",
   "execution_count": null,
   "metadata": {},
   "outputs": [],
   "source": [
    "directory = '/data2/jupiter/datasets/halo_rgb_stereo_train_v6_1/'\n",
    "csv_name = 'master_annotations.csv' \n",
    "from dl.dataset.datamodes.npz.rgbd import RGBDNPZ\n",
    "dataloader = RGBDNPZ(directory)"
   ]
  },
  {
   "cell_type": "code",
   "execution_count": null,
   "metadata": {},
   "outputs": [],
   "source": [
    "df = pd.read_csv(directory + csv_name)\n",
    "df = df.drop_duplicates('unique_id')\n",
    "df = df.sample(frac=1, ignore_index=True)\n",
    "fill_nan_geometries(df)"
   ]
  },
  {
   "cell_type": "code",
   "execution_count": null,
   "metadata": {},
   "outputs": [],
   "source": [
    "df_1 = df[(df['camera_geometry_label'] == 'puk30') & (df['camera_location'] == 'T06') &  (df['camera_location_right'] == 'T08')].head(10)\n",
    "df_small = df.groupby(['camera_geometry_label', 'camera_location','camera_location_right']).head(10)"
   ]
  },
  {
   "cell_type": "code",
   "execution_count": null,
   "metadata": {},
   "outputs": [],
   "source": [
    "total_count = defaultdict(lambda:0)\n",
    "ego_count = {}\n",
    "for i, row in track(df_1.iterrows(), total=len(df_1)):\n",
    "    if row[\"camera_location\"][0] == \"I\":\n",
    "        continue  # No implement camera masks for now\n",
    "    \n",
    "    ego_ids = []\n",
    "    for k, v in json.loads(row[\"label_map\"]).items():\n",
    "        if v[:3] == \"Ego\":\n",
    "            ego_ids.append(int(k))\n",
    "    l_cam = row['camera_location']\n",
    "    r_cam = row['camera_location_right']\n",
    "    label = dataloader.get_artifacts(row)['label']\n",
    "    ego_key = (row[\"camera_geometry_label\"], l_cam, r_cam)\n",
    "    total_count[ego_key] += 1\n",
    "    for id in ego_ids:\n",
    "        label_is_ego = (label == id).astype(np.int32)\n",
    "        if ego_key not in ego_count:\n",
    "            ego_count[ego_key] = label_is_ego\n",
    "        else:\n",
    "            ego_count[ego_key] += label_is_ego\n",
    "for ego_key in ego_count.keys():\n",
    "    ego_count[ego_key] = ego_count[ego_key].astype(np.float32) / total_count[ego_key]\n"
   ]
  },
  {
   "cell_type": "code",
   "execution_count": null,
   "metadata": {},
   "outputs": [],
   "source": [
    "res = dataloader.get_artifacts(df_1.iloc[5])\n",
    "plt.imshow(normalize_image(res['image'], hdr_mode=True))\n",
    "plt.imshow(res['label'])"
   ]
  },
  {
   "cell_type": "code",
   "execution_count": null,
   "metadata": {},
   "outputs": [],
   "source": [
    "from scipy.spatial import ConvexHull\n",
    "from skimage.draw import polygon\n",
    "from skimage.morphology import binary_dilation\n",
    "\n",
    "def expand_mask(image: np.ndarray) -> np.ndarray:\n",
    "    image_binary = (image > 0.1).astype(np.uint8)\n",
    "    x, y = np.where(image_binary > 0)\n",
    "    points = np.stack([x, y], axis=1)\n",
    "    if len(points) == 0:\n",
    "        return np.zeros_like(image, dtype=np.uint8)\n",
    "    else:\n",
    "        hull = points[ConvexHull(points).vertices]\n",
    "        rr, cc = polygon(hull[:, 0], hull[:, 1], image_binary.shape)\n",
    "        image_binary[rr, cc] = 1\n",
    "        image_binary_dilate = binary_dilation(image_binary, footprint=np.ones((51, 51)))\n",
    "        image_out = (image_binary_dilate > 0).astype(np.uint8) * 255\n",
    "        return image_out\n",
    "out = expand_mask(ego_count[('puk30', 'T06', 'T08')])\n",
    "plt.imshow(out)"
   ]
  },
  {
   "cell_type": "code",
   "execution_count": null,
   "metadata": {},
   "outputs": [],
   "source": [
    "def plot_several_images(img_list, titles):\n",
    "    cols = 4\n",
    "    rows = (len(img_list) + 3) // cols\n",
    "    fig, ax = plt.subplots(rows, cols, squeeze=False, figsize = (16, rows * 4))\n",
    "    for i, img in enumerate(img_list):\n",
    "        ax[i // cols][i % cols].imshow(img)\n",
    "        ax[i // cols][i % cols].set_title(titles[i])\n",
    "plot_several_images(ego_count.values(), list(ego_count.keys()))"
   ]
  },
  {
   "cell_type": "code",
   "execution_count": null,
   "metadata": {},
   "outputs": [],
   "source": []
  },
  {
   "cell_type": "code",
   "execution_count": null,
   "metadata": {},
   "outputs": [],
   "source": [
    "image = list(ego_count.values())[0]"
   ]
  },
  {
   "cell_type": "code",
   "execution_count": null,
   "metadata": {},
   "outputs": [],
   "source": [
    "image > .5"
   ]
  },
  {
   "cell_type": "code",
   "execution_count": null,
   "metadata": {},
   "outputs": [],
   "source": []
  },
  {
   "cell_type": "code",
   "execution_count": null,
   "metadata": {},
   "outputs": [],
   "source": [
    "len(contours)"
   ]
  },
  {
   "cell_type": "code",
   "execution_count": null,
   "metadata": {},
   "outputs": [],
   "source": [
    "cv2.convexHull(contours[0])"
   ]
  },
  {
   "cell_type": "code",
   "execution_count": null,
   "metadata": {},
   "outputs": [],
   "source": [
    "image_binary = np.uint8(image > .5) * 255\n",
    "plt.imshow(image_binary)"
   ]
  },
  {
   "cell_type": "code",
   "execution_count": null,
   "metadata": {},
   "outputs": [],
   "source": [
    "from scipy.spatial import ConvexHull, convex_hull_plot_2d"
   ]
  },
  {
   "cell_type": "code",
   "execution_count": null,
   "metadata": {},
   "outputs": [],
   "source": [
    "x, y, _ = np.where(image_binary > 0)"
   ]
  },
  {
   "cell_type": "code",
   "execution_count": null,
   "metadata": {},
   "outputs": [],
   "source": [
    "points = np.stack([x, y], axis=1)"
   ]
  },
  {
   "cell_type": "code",
   "execution_count": null,
   "metadata": {},
   "outputs": [],
   "source": [
    "hull = ConvexHull(points)"
   ]
  },
  {
   "cell_type": "code",
   "execution_count": null,
   "metadata": {},
   "outputs": [],
   "source": [
    "hull # TODO"
   ]
  },
  {
   "cell_type": "code",
   "execution_count": null,
   "metadata": {},
   "outputs": [],
   "source": [
    "plot_several_images([image], ['a'])"
   ]
  }
 ],
 "metadata": {
  "kernelspec": {
   "display_name": "cvml",
   "language": "python",
   "name": "python3"
  },
  "language_info": {
   "codemirror_mode": {
    "name": "ipython",
    "version": 3
   },
   "file_extension": ".py",
   "mimetype": "text/x-python",
   "name": "python",
   "nbconvert_exporter": "python",
   "pygments_lexer": "ipython3",
   "version": "3.8.0"
  }
 },
 "nbformat": 4,
 "nbformat_minor": 2
}
