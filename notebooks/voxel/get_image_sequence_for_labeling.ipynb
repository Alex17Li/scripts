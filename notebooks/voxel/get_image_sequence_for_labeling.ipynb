{
 "cells": [
  {
   "cell_type": "code",
   "execution_count": null,
   "metadata": {},
   "outputs": [],
   "source": [
    "import time\n",
    "import json\n",
    "import ast\n",
    "import os\n",
    "import datetime\n",
    "import io\n",
    "from collections import defaultdict\n",
    "\n",
    "import imageio\n",
    "import boto3\n",
    "import pandas as pd\n",
    "import numpy as np\n",
    "import imageio\n",
    "import matplotlib.pyplot as plt\n",
    "\n",
    "from brtdevkit.core.db.athena import AthenaClient\n",
    "from brtdevkit.data import Dataset\n",
    "from timezonefinder import TimezoneFinderL\n",
    "import pytz\n",
    "from brtdevkit.data import Dataset\n",
    "from aletheia_dataset_creator.dataset_tools.aletheia_dataset_helpers import imageids_to_dataset, imageids_to_dataset_fast\n",
    "\n",
    "from aletheia_dataset_creator.config.dataset_config import LEFT_CAMERAS, ALL_CAMERA_PAIRS_LIST\n",
    "athena = AthenaClient()\n",
    "s3 = boto3.resource('s3')\n"
   ]
  },
  {
   "cell_type": "code",
   "execution_count": null,
   "metadata": {},
   "outputs": [],
   "source": [
    "interesting_ids = '64ee6282325fbc2bb41d83e4','64d55c4aa12f47d52a8ab5eb'"
   ]
  },
  {
   "cell_type": "code",
   "execution_count": null,
   "metadata": {},
   "outputs": [],
   "source": [
    "query = f\"\"\"\n",
    "SELECT\n",
    "    id, camera_location, collected_on, group_id, robot_name\n",
    "FROM image_jupiter\n",
    "WHERE\n",
    "    image_jupiter.id IN {interesting_ids}\n",
    "LIMIT 1000\n",
    "\"\"\"\n",
    "print(query)\n",
    "athena_df = athena.get_df(query)"
   ]
  },
  {
   "cell_type": "code",
   "execution_count": null,
   "metadata": {},
   "outputs": [],
   "source": [
    "row = athena_df.iloc[0]\n",
    "athena_df"
   ]
  },
  {
   "cell_type": "code",
   "execution_count": null,
   "metadata": {},
   "outputs": [],
   "source": [
    "query = f\"\"\"\n",
    "SELECT\n",
    "    id, camera_location, collected_on, group_id, robot_name\n",
    "FROM image_jupiter\n",
    "WHERE\n",
    "    camera_location = 'T08' AND\n",
    "    robot_name = 'halohitchhiker_102'\n",
    "LIMIT 10\n",
    "\"\"\"\n",
    "athena.get_df(query)"
   ]
  },
  {
   "cell_type": "code",
   "execution_count": null,
   "metadata": {},
   "outputs": [],
   "source": [
    "def same_robot_names(robot_name):\n",
    "    subname = robot_name[:-1]\n",
    "    return subname + '1', subname + '2', subname + '3'"
   ]
  },
  {
   "cell_type": "code",
   "execution_count": null,
   "metadata": {},
   "outputs": [],
   "source": [
    "dfs = []\n",
    "for _, row in athena_df.iterrows():\n",
    "    start_t = str(row[\"collected_on\"] - datetime.timedelta(seconds=1.5)).split('.')[0]\n",
    "    end_t = str(row[\"collected_on\"] + datetime.timedelta(seconds=1.5)).split('.')[0]\n",
    "    query = f\"\"\"\n",
    "    SELECT\n",
    "        id, camera_location, collected_on, group_id, robot_name\n",
    "    FROM image_jupiter\n",
    "    WHERE\n",
    "        collected_on > TIMESTAMP'{start_t}' AND\n",
    "        collected_on < TIMESTAMP'{end_t}' AND\n",
    "        robot_name IN {same_robot_names(row[\"robot_name\"])}\n",
    "    LIMIT 1000\n",
    "    \"\"\"\n",
    "    print(query)\n",
    "    dfs.append(athena.get_df(query))\n"
   ]
  },
  {
   "cell_type": "code",
   "execution_count": null,
   "metadata": {},
   "outputs": [],
   "source": [
    "print(len(dfs[0]))\n",
    "dfs[0].groupby('group_id').count()"
   ]
  },
  {
   "cell_type": "code",
   "execution_count": null,
   "metadata": {},
   "outputs": [],
   "source": [
    "both_seq = pd.concat([dfs[0].sort_values('collected_on'), dfs[1].sort_values('collected_on')], axis=0)"
   ]
  },
  {
   "cell_type": "code",
   "execution_count": null,
   "metadata": {},
   "outputs": [],
   "source": [
    "ids = list(dfs[0]['id']) + list(dfs[1]['id'])"
   ]
  },
  {
   "cell_type": "code",
   "execution_count": null,
   "metadata": {},
   "outputs": [],
   "source": [
    "print(len(dfs[0]['id']))\n",
    "print(len(dfs[1]['id']))\n",
    "print(len(ids))\n",
    "print(','.join(ids))"
   ]
  },
  {
   "cell_type": "code",
   "execution_count": null,
   "metadata": {},
   "outputs": [],
   "source": [
    "from aletheia_dataset_creator.config import dataset_config\n",
    "import itertools\n",
    "halo_all_cams = []\n",
    "for k, v in itertools.chain(dataset_config.HALO_CENTER_CAMERA_PAIRS.items(), dataset_config.HALO_NON_CENTER_CAMERA_PAIRS.items()):\n",
    "    halo_all_cams.append(k)\n",
    "    halo_all_cams.append(v)\n",
    "halo_all_cams\n",
    "new_dset_name = 'halo_all_cam_images_3_seconds_2_sequences'"
   ]
  },
  {
   "cell_type": "code",
   "execution_count": null,
   "metadata": {},
   "outputs": [],
   "source": [
    "imageids_to_dataset_fast(both_seq, both_seq, dataset_name=new_dset_name, dataset_description=\"2 different 3 second image sequences with ALL camera data (left+right, front+rear+implement pod).\")"
   ]
  },
  {
   "cell_type": "code",
   "execution_count": null,
   "metadata": {},
   "outputs": [],
   "source": [
    "dset = Dataset.retrieve(name=new_dset_name)\n",
    "dset.download(f\"{os.environ['DATASET_PATH']}/{new_dset_name}\")"
   ]
  },
  {
   "cell_type": "code",
   "execution_count": null,
   "metadata": {},
   "outputs": [],
   "source": []
  }
 ],
 "metadata": {
  "kernelspec": {
   "display_name": "cvml",
   "language": "python",
   "name": "python3"
  },
  "language_info": {
   "codemirror_mode": {
    "name": "ipython",
    "version": 3
   },
   "file_extension": ".py",
   "mimetype": "text/x-python",
   "name": "python",
   "nbconvert_exporter": "python",
   "pygments_lexer": "ipython3",
   "version": "3.8.18"
  }
 },
 "nbformat": 4,
 "nbformat_minor": 2
}
