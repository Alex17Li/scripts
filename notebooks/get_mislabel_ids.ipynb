{
 "cells": [
  {
   "cell_type": "code",
   "execution_count": 1,
   "metadata": {},
   "outputs": [],
   "source": [
    "import pandas as pd"
   ]
  },
  {
   "cell_type": "code",
   "execution_count": 2,
   "metadata": {},
   "outputs": [],
   "source": [
    "basepath = '/mnt/sandbox1/alex.li/train_seg_halo/find_mislabeled_data_halo_81'\n",
    "edata = pd.read_csv(basepath + '/evenhash/viz/mislabel_result.csv')\n",
    "odata = pd.read_csv(basepath + '/oddhash/viz/mislabel_result.csv')\n",
    "data = pd.concat([edata, odata])"
   ]
  },
  {
   "cell_type": "code",
   "execution_count": 3,
   "metadata": {},
   "outputs": [],
   "source": [
    "highloss_df = data[data['loss'] > .47]"
   ]
  },
  {
   "cell_type": "code",
   "execution_count": 4,
   "metadata": {},
   "outputs": [
    {
     "name": "stdout",
     "output_type": "stream",
     "text": [
      "1672\n"
     ]
    }
   ],
   "source": [
    "image_ids = [uid.split('_')[0] for uid in highloss_df['id']]\n",
    "print(len(image_ids))"
   ]
  },
  {
   "cell_type": "code",
   "execution_count": 5,
   "metadata": {},
   "outputs": [
    {
     "data": {
      "text/plain": [
       "{}"
      ]
     },
     "execution_count": 5,
     "metadata": {},
     "output_type": "execute_result"
    }
   ],
   "source": [
    "from brtdevkit.data import Dataset\n",
    "Dataset.create(\n",
    "        name='triage_for_mislabel_8.1',\n",
    "        description=f'{len(image_ids)} images with high loss to be triaged',\n",
    "        kind=Dataset.KIND_IMAGE,\n",
    "        image_ids=image_ids,\n",
    ")"
   ]
  },
  {
   "cell_type": "code",
   "execution_count": null,
   "metadata": {},
   "outputs": [],
   "source": []
  }
 ],
 "metadata": {
  "kernelspec": {
   "display_name": "Python 3 (ipykernel)",
   "language": "python",
   "name": "python3"
  },
  "language_info": {
   "codemirror_mode": {
    "name": "ipython",
    "version": 3
   },
   "file_extension": ".py",
   "mimetype": "text/x-python",
   "name": "python",
   "nbconvert_exporter": "python",
   "pygments_lexer": "ipython3",
   "version": "3.8.0"
  }
 },
 "nbformat": 4,
 "nbformat_minor": 2
}
