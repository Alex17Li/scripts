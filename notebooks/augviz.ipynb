{
 "cells": [
  {
   "cell_type": "code",
   "execution_count": 6,
   "metadata": {},
   "outputs": [],
   "source": [
    "import time\n",
    "import json\n",
    "import ast\n",
    "import os\n",
    "import datetime\n",
    "from rich.progress import track\n",
    "\n",
    "import io\n",
    "from collections import defaultdict\n",
    "\n",
    "import imageio\n",
    "import pandas as pd\n",
    "import numpy as np\n",
    "import imageio\n",
    "import matplotlib.pyplot as plt\n",
    "from rich.progress import track\n",
    "from aletheia_dataset_creator.dataset_tools.aletheia_dataset_helpers import imageids_to_dataset\n",
    "from aletheia_dataset_creator.config.dataset_config import LEFT_CAMERAS, ALL_CAMERA_PAIRS_LIST\n",
    "%matplotlib inline\n",
    "pd.set_option('display.max_rows', 500)\n",
    "import json\n",
    "import cv2\n",
    "import os\n",
    "import multiprocessing as mp    \n",
    "\n",
    "import numpy as np\n",
    "import pandas as pd\n",
    "import matplotlib.pyplot as plt\n",
    "from dl.utils.io_utils import normalize_image\n",
    "import imageio\n",
    "from pathlib import Path\n",
    "\n",
    "%matplotlib inline\n",
    "from cv.core.image_quality_server_side import ImageQuality\n",
    "\n",
    "# from cv.core.image_quality_server_side_halo import ImageQuality\n",
    "from skimage.color import label2rgb\n",
    "\n",
    "import albumentations as A\n",
    "import random\n",
    "from dl.utils.config import DEFAULT_TONEMAP_PARAMS"
   ]
  },
  {
   "cell_type": "code",
   "execution_count": 7,
   "metadata": {},
   "outputs": [],
   "source": [
    "directory = '/data2/jupiter/datasets/halo_rgb_stereo_train_v6_1/'\n",
    "csv_name = 'master_annotations.csv' \n",
    "from dl.dataset.datamodes.npz.rgbd import RGBDNPZ\n",
    "dataloader = RGBDNPZ(directory)\n",
    "albumentation_transform_path = \"/home/alex.li/git/JupiterCVML/kore/configs/data/albumentations/seg_trivialaugment.yml\""
   ]
  },
  {
   "cell_type": "code",
   "execution_count": 8,
   "metadata": {},
   "outputs": [
    {
     "name": "stderr",
     "output_type": "stream",
     "text": [
      "/home/alex.li/miniconda3/envs/cvml/lib/python3.8/site-packages/IPython/core/interactiveshell.py:3508: DtypeWarning: Columns (2,3,24,82,93,94,95,96,97,99,100,102,103,104,105,106,107,108,109,110,120,153,157,158,163,174,177,180,181,187,189,199,200,202,203,204,205,225,230,231,232,235,237,239,240,251,252,254,257,258,259,260,261,262,263,264,265,266,267,268,269,270,271,272,273,275,279,280,281,284,285,286,288) have mixed types.Specify dtype option on import or set low_memory=False.\n",
      "  exec(code_obj, self.user_global_ns, self.user_ns)\n"
     ]
    }
   ],
   "source": [
    "df = pd.read_csv(directory + csv_name)\n",
    "df = df.drop_duplicates('unique_id')\n",
    "df = df.sample(frac=1, ignore_index=True)"
   ]
  },
  {
   "cell_type": "code",
   "execution_count": 9,
   "metadata": {},
   "outputs": [],
   "source": [
    "def plot_several_images(img_list, titles=None):\n",
    "    cols = 4\n",
    "    rows = (len(img_list) + 3) // cols\n",
    "    fig, ax = plt.subplots(rows, cols, squeeze=False, figsize = (32, rows * 8))\n",
    "    for i, img in enumerate(img_list):\n",
    "        ax[i // cols][i % cols].imshow(img)\n",
    "        if titles is not None:\n",
    "            ax[i // cols][i % cols].set_title(titles[i])"
   ]
  },
  {
   "cell_type": "code",
   "execution_count": 22,
   "metadata": {},
   "outputs": [],
   "source": [
    "sample_images = []\n",
    "sample_labels = []\n",
    "\n",
    "for i in range(100):\n",
    "    artifacts= dataloader.get_artifacts(df.iloc[i])\n",
    "    im = normalize_image(artifacts['image'], hdr_mode=df.iloc[i]['hdr_mode'])\n",
    "    sample_images.append(im)\n",
    "    sample_labels.append(artifacts['label'])"
   ]
  },
  {
   "cell_type": "code",
   "execution_count": 69,
   "metadata": {},
   "outputs": [],
   "source": [
    "import ruamel.yaml\n",
    "yaml = ruamel.yaml.YAML(typ=\"safe\")\n",
    "\n",
    "with open(albumentation_transform_path) as f:\n",
    "    aug = yaml.load(f)\n",
    "\n",
    "if isinstance(aug, dict):\n",
    "    aug = A.from_dict(aug)"
   ]
  },
  {
   "cell_type": "code",
   "execution_count": 70,
   "metadata": {},
   "outputs": [
    {
     "data": {
      "text/plain": [
       "0"
      ]
     },
     "execution_count": 70,
     "metadata": {},
     "output_type": "execute_result"
    }
   ],
   "source": [
    "cv2.INTER_NEAREST"
   ]
  },
  {
   "cell_type": "code",
   "execution_count": 71,
   "metadata": {},
   "outputs": [
    {
     "data": {
      "text/plain": [
       "0"
      ]
     },
     "execution_count": 71,
     "metadata": {},
     "output_type": "execute_result"
    }
   ],
   "source": [
    "cv2.BORDER_CONSTANT"
   ]
  },
  {
   "cell_type": "code",
   "execution_count": 72,
   "metadata": {},
   "outputs": [],
   "source": [
    "# aug = A.ReplayCompose([\n",
    "#     A.FromFloat(dtype='uint8'),\n",
    "#     A.FancyPCA(\n",
    "#     alpha=4,\n",
    "#     p=1.0,\n",
    "# ),\n",
    "#     A.ToFloat(),\n",
    "# ])\n",
    "# aug = A.Solarize(\n",
    "#     p=1.0,\n",
    "#     threshold=.3\n",
    "# )\n",
    "\n",
    "aug_images = []\n",
    "aug_titles = []\n",
    "for i in range(50):\n",
    "    out = aug(image=sample_images[i], mask=sample_labels[i])\n",
    "    aug_images.append(sample_images[i])\n",
    "    aug_titles.append('orig')\n",
    "    aug_images.append(out['image'])\n",
    "    if 'replay' in out:\n",
    "        try:\n",
    "            int_transforms = [x for x in out['replay']['transforms'][0]['transforms'][0]['transforms'][1]['transforms'] if x['applied']]\n",
    "            float_transforms = [x  for x in out['replay']['transforms'][0]['transforms'][1]['transforms'] if x['applied']]\n",
    "            applied = (int_transforms + float_transforms)[0]\n",
    "        except KeyError:\n",
    "            applied = out['replay']['transforms'][1]\n",
    "        print(applied['__class_fullname__'] + str(applied['params']))\n",
    "        aug_titles.append(applied['__class_fullname__'])\n",
    "    else:\n",
    "        aug_titles.append(\"aug\")\n",
    "\n",
    "    if not np.all(out['mask'] == sample_labels[i]):\n",
    "        aug_titles.append('orig mask')\n",
    "        aug_images.append(sample_labels[i])\n",
    "        aug_titles.append('aug mask')\n",
    "        aug_images.append(out['mask'])  \n",
    "\n",
    "plot_several_images(aug_images, aug_titles)"
   ]
  },
  {
   "cell_type": "code",
   "execution_count": null,
   "metadata": {},
   "outputs": [],
   "source": []
  }
 ],
 "metadata": {
  "kernelspec": {
   "display_name": "cvml",
   "language": "python",
   "name": "python3"
  },
  "language_info": {
   "codemirror_mode": {
    "name": "ipython",
    "version": 3
   },
   "file_extension": ".py",
   "mimetype": "text/x-python",
   "name": "python",
   "nbconvert_exporter": "python",
   "pygments_lexer": "ipython3",
   "version": "3.8.0"
  }
 },
 "nbformat": 4,
 "nbformat_minor": 2
}
