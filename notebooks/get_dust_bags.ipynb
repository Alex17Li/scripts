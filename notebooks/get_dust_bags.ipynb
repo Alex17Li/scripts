{
 "cells": [
  {
   "cell_type": "code",
   "execution_count": 1,
   "metadata": {},
   "outputs": [
    {
     "name": "stderr",
     "output_type": "stream",
     "text": [
      "/home/alex.li/.conda/envs/cvml/lib/python3.10/site-packages/tqdm/auto.py:21: TqdmWarning: IProgress not found. Please update jupyter and ipywidgets. See https://ipywidgets.readthedocs.io/en/stable/user_install.html\n",
      "  from .autonotebook import tqdm as notebook_tqdm\n"
     ]
    }
   ],
   "source": [
    "import time\n",
    "import json\n",
    "import ast\n",
    "import os\n",
    "import datetime\n",
    "import io\n",
    "from collections import defaultdict\n",
    "\n",
    "import imageio\n",
    "import boto3\n",
    "import pandas as pd\n",
    "import numpy as np\n",
    "import imageio\n",
    "import matplotlib.pyplot as plt\n",
    "import seaborn as sns\n",
    "\n",
    "from brtdevkit.core.db.athena import AthenaClient\n",
    "from brtdevkit.data import Dataset\n",
    "from timezonefinder import TimezoneFinderL\n",
    "import pytz\n",
    "\n",
    "from aletheia_dataset_creator.dataset_tools.aletheia_dataset_helpers import imageids_to_dataset\n",
    "from aletheia_dataset_creator.config.dataset_config import LEFT_CAMERAS, ALL_CAMERA_PAIRS_LIST\n",
    "%matplotlib inline"
   ]
  },
  {
   "cell_type": "code",
   "execution_count": 2,
   "metadata": {},
   "outputs": [],
   "source": [
    "pd.set_option('display.max_rows', 500)\n",
    "athena = AthenaClient()\n",
    "s3 = boto3.resource('s3')\n",
    "tf = TimezoneFinderL()\n",
    "from pathlib import Path\n",
    "home = Path(os.path.expanduser('~'))\n",
    "data_path = home / 'data' / 'dust_dataset'"
   ]
  },
  {
   "cell_type": "code",
   "execution_count": 7,
   "metadata": {},
   "outputs": [],
   "source": [
    "if os.path.exists(data_path / 'df_sequences.parquet'):\n",
    "    df_sequences = pd.read_parquet(data_path / 'df_sequences.parquet')\n",
    "else:\n",
    "    query = \"\"\"SELECT ij.id, hard_drive_name, robot_name, collected_on,\n",
    "        bag_name, operating_field_name, operation_time, latitude, longitude, geohash, camera_location, \n",
    "        bundle, group_id, s3_bucket, s3_key, special_notes\n",
    "    FROM image_jupiter AS ij\n",
    "    JOIN \"image_artifact_jupiter\" ON ij.\"id\" = \"image_artifact_jupiter\".\"image\"\n",
    "    WHERE \"hard_drive_name\" IN ('JUPD-004_2023-7-19', 'JUPD-006_2023-7-19', 'JUPD-007_2023-7-11')\n",
    "    \"\"\"\n",
    "    df_sequences: pd.DataFrame = athena.get_df(query) # type: ignore\n",
    "    df_sequences.to_parquet(data_path / 'df_sequences.parquet')\n"
   ]
  },
  {
   "cell_type": "code",
   "execution_count": 8,
   "metadata": {},
   "outputs": [
    {
     "data": {
      "text/plain": [
       "id                                               64bee4dd4010e725e44ceed7\n",
       "hard_drive_name                                        JUPD-006_2023-7-19\n",
       "robot_name                                                      loamy_731\n",
       "collected_on                                   2023-07-14 01:08:43.273000\n",
       "bag_name                                              07_14_2023-01_08_03\n",
       "operating_field_name                                              Tract 1\n",
       "operation_time                                                    daytime\n",
       "latitude                                                        27.817392\n",
       "longitude                                                       -97.56502\n",
       "geohash                                                      9ufw7b5243b0\n",
       "camera_location                                        front-center-right\n",
       "bundle                                                               6524\n",
       "group_id                                 87c504e01ed0471b8e8cb844a1db2888\n",
       "s3_bucket                                     brt-mesa-jupiter-images-eng\n",
       "s3_key                  2023/07/24/9b6955d893a9443497b7d548fd13d1cb-da...\n",
       "special_notes                                           vehicle dust dusk\n",
       "Name: 0, dtype: object"
      ]
     },
     "execution_count": 8,
     "metadata": {},
     "output_type": "execute_result"
    }
   ],
   "source": [
    "df_sequences.iloc[0]"
   ]
  },
  {
   "cell_type": "code",
   "execution_count": 5,
   "metadata": {},
   "outputs": [],
   "source": [
    "if os.path.exists(data_path / 'df_dusty.parquet'):\n",
    "    df_sequences = pd.read_parquet(data_path / 'df_dusty.parquet')\n",
    "else:\n",
    "    query = \"\"\"SELECT ij.id, hard_drive_name, robot_name, collected_on,\n",
    "        bag_name, operating_field_name, operation_time, latitude, longitude, geohash, camera_location, \n",
    "        bundle, group_id, s3_bucket, s3_key\n",
    "    FROM image_jupiter AS ij\n",
    "    JOIN \"image_artifact_jupiter\" ON ij.\"id\" = \"image_artifact_jupiter\".\"image\"\n",
    "    WHERE \"hard_drive_name\" IN ('JUPD-153_2023-6-29')\n",
    "    \"\"\"\n",
    "    df_dusty: pd.DataFrame = athena.get_df(query) # type: ignore\n",
    "    df_dusty.to_parquet(data_path / 'df_dusty.parquet')"
   ]
  },
  {
   "cell_type": "code",
   "execution_count": 6,
   "metadata": {},
   "outputs": [
    {
     "data": {
      "text/plain": [
       "'brt-mesa-jupiter-images-eng'"
      ]
     },
     "execution_count": 6,
     "metadata": {},
     "output_type": "execute_result"
    }
   ],
   "source": [
    "df_sequences.iloc[0]['s3_bucket']"
   ]
  },
  {
   "cell_type": "code",
   "execution_count": 8,
   "metadata": {},
   "outputs": [
    {
     "data": {
      "text/plain": [
       "id                                                64b6ec4fc84fb119ea6debf9\n",
       "hard_drive_name                                         JUPD-007_2023-7-11\n",
       "robot_name                                                       loamy_731\n",
       "collected_on                                    2023-07-15 01:23:42.814000\n",
       "bag_name                                               07_15_2023-01_22_50\n",
       "operating_field_name                                               Tract 1\n",
       "operation_time                                                     unknown\n",
       "latitude                                                               0.0\n",
       "longitude                                                              0.0\n",
       "geohash                                                       7zzzzzzzzzzz\n",
       "camera_location                                            side-right-left\n",
       "sensor_type                                                           <NA>\n",
       "created_at                                      2023-07-18 19:47:27.131000\n",
       "bundle                                                                6524\n",
       "gps_can_data__json       {\"latitude\": 0.0, \"longitude\": 0.0, \"collected...\n",
       "weather_summary__json    {\"feelslike\": 75.5, \"precipprob\": 100.0, \"sola...\n",
       "group_id                                  cc4ac9cf1026441e81de2ce859c99aa0\n",
       "Name: 0, dtype: object"
      ]
     },
     "execution_count": 8,
     "metadata": {},
     "output_type": "execute_result"
    }
   ],
   "source": [
    "df_sequences.iloc[0]"
   ]
  },
  {
   "cell_type": "code",
   "execution_count": 9,
   "metadata": {},
   "outputs": [],
   "source": [
    "from brtdevkit.util.aws.s3 import S3\n",
    "client = S3()"
   ]
  },
  {
   "cell_type": "code",
   "execution_count": 13,
   "metadata": {},
   "outputs": [
    {
     "data": {
      "text/plain": [
       "True"
      ]
     },
     "execution_count": 13,
     "metadata": {},
     "output_type": "execute_result"
    }
   ],
   "source": [
    "client.download_file('brt-mesa-jupiter-images-eng', '2023/07/18/e4777c3ef4b147c79b224a88a67ed0e0-datapoint_side-right-left_debayeredrgb.png', 'out.png')"
   ]
  },
  {
   "cell_type": "code",
   "execution_count": null,
   "metadata": {},
   "outputs": [],
   "source": [
    "# OK. First, let's look through these sequences."
   ]
  },
  {
   "cell_type": "code",
   "execution_count": 16,
   "metadata": {},
   "outputs": [
    {
     "data": {
      "text/plain": [
       "56"
      ]
     },
     "execution_count": 16,
     "metadata": {},
     "output_type": "execute_result"
    }
   ],
   "source": [
    "df_groups = df_sequences.groupby('special_notes')"
   ]
  },
  {
   "cell_type": "code",
   "execution_count": null,
   "metadata": {},
   "outputs": [],
   "source": [
    "\n"
   ]
  }
 ],
 "metadata": {
  "kernelspec": {
   "display_name": "cvml",
   "language": "python",
   "name": "python3"
  },
  "language_info": {
   "codemirror_mode": {
    "name": "ipython",
    "version": 3
   },
   "file_extension": ".py",
   "mimetype": "text/x-python",
   "name": "python",
   "nbconvert_exporter": "python",
   "pygments_lexer": "ipython3",
   "version": "3.10.12"
  },
  "orig_nbformat": 4
 },
 "nbformat": 4,
 "nbformat_minor": 2
}
