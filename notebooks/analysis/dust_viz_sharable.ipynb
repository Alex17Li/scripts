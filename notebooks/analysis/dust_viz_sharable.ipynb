{
 "cells": [
  {
   "cell_type": "code",
   "execution_count": null,
   "metadata": {},
   "outputs": [],
   "source": [
    "import pandas as pd\n",
    "parquet_path = '/data/jupiter/datasets/all_jupiter_data_stratified/df_cache.parquet'\n",
    "df_orig = pd.read_parquet(parquet_path)"
   ]
  },
  {
   "cell_type": "code",
   "execution_count": null,
   "metadata": {},
   "outputs": [],
   "source": [
    "useful_columns = ['pred_dust_percent', 'speed_discrete',  'dust>50', 'dust>35', 'dust>25', 'dust>15', 'dust>5',\n",
    "                        'collected_on_localtime', 'camera_location', 'camera_location_grouped',\n",
    "                        'latitude', 'longitude', 'robot_name', 'operation_time', 'state',\n",
    "                        'id', 'collected_on_localtime', 'speed_kph']\n",
    "df = df_orig[useful_columns]"
   ]
  },
  {
   "cell_type": "code",
   "execution_count": null,
   "metadata": {},
   "outputs": [],
   "source": [
    "import numpy as np\n",
    "def percentage(c):\n",
    "    return np.mean(c) * 100\n",
    "agg_dict = {\n",
    "    'dust>5': percentage,\n",
    "    'dust>15': percentage,\n",
    "    'dust>25': percentage,\n",
    "    'dust>35': percentage,\n",
    "    'dust>50': percentage,\n",
    "    'id': 'size',\n",
    "}\n",
    "pd.set_option('display.max_rows', None)"
   ]
  },
  {
   "cell_type": "code",
   "execution_count": null,
   "metadata": {},
   "outputs": [],
   "source": [
    "# Already in the cached df, just for reference you can look at it\n",
    "def get_region(state):\n",
    "    match state:\n",
    "        case 'Illinois' | 'Indiana' | 'Iowa' | 'Kansas' | 'Michigan' | 'Minnesota' | 'Missouri' | 'Nebraska' | 'North Dakota' | 'Ohio' | 'South Dakota' | 'Wisconsin':\n",
    "            return 'midwest'\n",
    "        case 'Alabama' | 'Arkansas' | 'Florida' | 'Georgia' | 'Kentucky' | 'Louisiana' | 'Oklahoma' | 'Texas':\n",
    "            return 'southeast'\n",
    "        case 'California' | 'Colorado' | 'Nevada' | 'New Mexico' | 'Oregon' | 'Utah' | 'Wyoming':\n",
    "            return 'west'\n",
    "        case 'unknown' | None:\n",
    "            return 'unknown'\n",
    "    print(state)\n",
    "    assert False # "
   ]
  },
  {
   "cell_type": "code",
   "execution_count": null,
   "metadata": {},
   "outputs": [],
   "source": [
    "df.groupby(['region']).agg(agg_dict).rename({'id': 'count'}, axis=1)"
   ]
  },
  {
   "cell_type": "code",
   "execution_count": null,
   "metadata": {},
   "outputs": [],
   "source": [
    "df.groupby(['operation_time', 'camera_location_grouped', 'speed_discrete']).agg(agg_dict).rename({'id': 'count'}, axis=1)"
   ]
  },
  {
   "cell_type": "code",
   "execution_count": null,
   "metadata": {},
   "outputs": [],
   "source": [
    "df[df['speed_discrete'] == 'C:10-25'].groupby(['region', 'operation_time']).agg(agg_dict).rename({'id': 'count'}, axis=1)"
   ]
  }
 ],
 "metadata": {
  "kernelspec": {
   "display_name": "cvml",
   "language": "python",
   "name": "python3"
  },
  "language_info": {
   "codemirror_mode": {
    "name": "ipython",
    "version": 3
   },
   "file_extension": ".py",
   "mimetype": "text/x-python",
   "name": "python",
   "nbconvert_exporter": "python",
   "pygments_lexer": "ipython3",
   "version": "3.10.12"
  }
 },
 "nbformat": 4,
 "nbformat_minor": 2
}
