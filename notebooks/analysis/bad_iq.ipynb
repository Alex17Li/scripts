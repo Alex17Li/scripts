{
 "cells": [
  {
   "cell_type": "code",
   "execution_count": null,
   "metadata": {},
   "outputs": [],
   "source": [
    "import time\n",
    "import json\n",
    "import ast\n",
    "import os\n",
    "import datetime\n",
    "import io\n",
    "from collections import defaultdict\n",
    "\n",
    "import imageio\n",
    "import boto3\n",
    "import pandas as pd\n",
    "import numpy as np\n",
    "import imageio\n",
    "import matplotlib.pyplot as plt\n",
    "import seaborn as sns\n",
    "\n",
    "from brtdevkit.core.db.athena import AthenaClient\n",
    "from brtdevkit.data import Dataset\n",
    "from timezonefinder import TimezoneFinderL\n",
    "import pytz\n",
    "\n",
    "from aletheia_dataset_creator.dataset_tools.aletheia_dataset_helpers import imageids_to_dataset\n",
    "from aletheia_dataset_creator.config.dataset_config import LEFT_CAMERAS, ALL_CAMERA_PAIRS_LIST\n",
    "%matplotlib inline\n",
    "pd.set_option('display.max_rows', 500)"
   ]
  },
  {
   "cell_type": "code",
   "execution_count": null,
   "metadata": {},
   "outputs": [],
   "source": [
    "athena = AthenaClient()\n",
    "s3 = boto3.resource('s3')\n",
    "tf = TimezoneFinderL()\n",
    "home = os.path.expanduser('~')\n",
    "outpath = os.environ['OUTPUT_PATH']\n",
    "data_path = home + '/data'"
   ]
  },
  {
   "cell_type": "code",
   "execution_count": null,
   "metadata": {},
   "outputs": [],
   "source": [
    "df_cache = outpath + \"/shortlong_exposure.csv\"\n",
    "try:\n",
    "    skip_df = pd.read_csv(df_cache)\n",
    "except FileNotFoundError:\n",
    "    print(\"file not found\")\n",
    "    query = f\"\"\"\n",
    "    SELECT\n",
    "        image_jupiter.id, image_jupiter.camera_location AS camera_location, json_extract(image_jupiter.calibration_data__json, '$.exposure_ms') exposure_ms\n",
    "    FROM image_jupiter\n",
    "    WHERE\n",
    "        image_jupiter.camera_location IN ('T01', 'T02', 'T03', 'T04', 'T05', 'T06', 'T07', 'T08', 'T09', 'T10', 'T11', 'T12', 'T13', 'T14', 'T15', 'T16', 'I01', 'I03', 'I05', 'I07', 'I02', 'I04', 'I06', 'I08')\n",
    "        AND (cast(json_extract_scalar(image_jupiter.calibration_data__json, '$.exposure_ms.1') AS double)  > 0.2\n",
    "        OR cast(json_extract_scalar(image_jupiter.calibration_data__json, '$.exposure_ms.1') AS double)  < 0.02)\n",
    "    LIMIT 1000\n",
    "    \"\"\"\n",
    "    start = time.time()\n",
    "    skip_df = athena.get_df(query)\n",
    "    end = time.time()\n",
    "    print(end - start)\n",
    "    skip_df.to_csv(df_cache, index=False)"
   ]
  },
  {
   "cell_type": "code",
   "execution_count": null,
   "metadata": {},
   "outputs": [],
   "source": [
    "fname = os.path.expanduser(\"~/data/labelbox_slice_ids.json\")\n",
    "if os.path.exists(path=fname):\n",
    "    with open(fname, 'r') as f:\n",
    "        labelbox_image_ids = json.load(f)\n",
    "image_ids = list(skip_df['id']) + labelbox_image_ids"
   ]
  },
  {
   "cell_type": "code",
   "execution_count": null,
   "metadata": {},
   "outputs": [],
   "source": [
    "print(len(image_ids))"
   ]
  },
  {
   "cell_type": "code",
   "execution_count": null,
   "metadata": {},
   "outputs": [],
   "source": [
    "from brtdevkit.data import Dataset\n",
    "dataset_name = \"bad_iq_halo_labelbox_plus_exposure\"\n",
    "dataset_description = \"Images with a very high or very low exposure time\"\n",
    "dataset_kind = Dataset.KIND_IMAGE\n",
    "imageids_to_dataset(image_ids, dataset_name, dataset_description, dataset_kind=Dataset.KIND_IMAGE, mode='stereo')"
   ]
  },
  {
   "cell_type": "code",
   "execution_count": null,
   "metadata": {},
   "outputs": [],
   "source": [
    "image_ids"
   ]
  },
  {
   "cell_type": "code",
   "execution_count": null,
   "metadata": {},
   "outputs": [],
   "source": [
    "Dataset.create(\n",
    "    name=dataset_name,\n",
    "    description=dataset_description,\n",
    "    kind=Dataset.KIND_IMAGE,\n",
    "    image_ids=image_ids,\n",
    ")"
   ]
  }
 ],
 "metadata": {
  "kernelspec": {
   "display_name": "cvml",
   "language": "python",
   "name": "python3"
  },
  "language_info": {
   "codemirror_mode": {
    "name": "ipython",
    "version": 3
   },
   "file_extension": ".py",
   "mimetype": "text/x-python",
   "name": "python",
   "nbconvert_exporter": "python",
   "pygments_lexer": "ipython3",
   "version": "3.10.0"
  }
 },
 "nbformat": 4,
 "nbformat_minor": 2
}
