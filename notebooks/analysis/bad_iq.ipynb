{
 "cells": [
  {
   "cell_type": "code",
   "execution_count": null,
   "metadata": {},
   "outputs": [],
   "source": [
    "import time\n",
    "import json\n",
    "import ast\n",
    "import os\n",
    "import datetime\n",
    "import io\n",
    "from collections import defaultdict\n",
    "\n",
    "import imageio\n",
    "import boto3\n",
    "import pandas as pd\n",
    "import numpy as np\n",
    "import imageio\n",
    "import matplotlib.pyplot as plt\n",
    "import seaborn as sns\n",
    "\n",
    "from brtdevkit.core.db.athena import AthenaClient\n",
    "from brtdevkit.data import Dataset\n",
    "from timezonefinder import TimezoneFinderL\n",
    "import pytz\n",
    "\n",
    "from aletheia_dataset_creator.dataset_tools.aletheia_dataset_helpers import imageids_to_dataset\n",
    "from aletheia_dataset_creator.config.dataset_config import LEFT_CAMERAS, ALL_CAMERA_PAIRS_LIST\n",
    "%matplotlib inline\n",
    "pd.set_option('display.max_rows', 500)"
   ]
  },
  {
   "cell_type": "code",
   "execution_count": null,
   "metadata": {},
   "outputs": [],
   "source": [
    "athena = AthenaClient()\n",
    "s3 = boto3.resource('s3')\n",
    "tf = TimezoneFinderL()\n",
    "home = os.path.expanduser('~')\n",
    "outpath = os.environ['OUTPUT_PATH']\n",
    "data_path = home + '/data'"
   ]
  },
  {
   "cell_type": "code",
   "execution_count": null,
   "metadata": {},
   "outputs": [],
   "source": [
    "df_cache = outpath + \"/skipped_images.parquet\"\n",
    "try:\n",
    "    skip_df = pd.read_parquet(df_cache)\n",
    "except FileNotFoundError:\n",
    "    print(\"file not found\")\n",
    "    query = f\"\"\"\n",
    "    SELECT id, hard_drive_name, robot_name, collected_on,\n",
    "        bag_name, operating_field_name, operation_time, latitude, longitude, geohash, camera_location, sensor_type, created_at, \n",
    "        bundle, gps_can_data__json, weather_summary__json, group_id\n",
    "    FROM image_jupiter \n",
    "    WHERE SUBSTR(camera_location, 0, 1) IN ('T', 'I')\n",
    "    \"\"\"\n",
    "#--AND camera_location IN {left_tractor_cameras}\n",
    "    start = time.time()\n",
    "    skip_df = athena.get_df(query)\n",
    "    end = time.time()\n",
    "    print(end - start)\n",
    "    skip_df.to_parquet(df_cache, index=False)"
   ]
  }
 ],
 "metadata": {
  "language_info": {
   "name": "python"
  }
 },
 "nbformat": 4,
 "nbformat_minor": 2
}
