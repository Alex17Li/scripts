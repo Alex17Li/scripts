{
 "cells": [
  {
   "cell_type": "code",
   "execution_count": 62,
   "metadata": {},
   "outputs": [],
   "source": [
    "import os\n",
    "from pathlib import Path"
   ]
  },
  {
   "cell_type": "code",
   "execution_count": 63,
   "metadata": {},
   "outputs": [],
   "source": [
    "folder = Path('/mnt/sandbox1/alex.li/archive/introspection/pmehta_2023_val_bestmodel/halo_vehicles_on_path_test_v6_1/false_negative')"
   ]
  },
  {
   "cell_type": "code",
   "execution_count": 64,
   "metadata": {},
   "outputs": [
    {
     "data": {
      "text/plain": [
       "['unharvested_field',\n",
       " 'unknown',\n",
       " 'bad_label',\n",
       " 'mislabeled as implement',\n",
       " 'trees',\n",
       " 'pole',\n",
       " 'misc_LO',\n",
       " 'vehicles',\n",
       " 'humans',\n",
       " 'occluded by image edge']"
      ]
     },
     "execution_count": 64,
     "metadata": {},
     "output_type": "execute_result"
    }
   ],
   "source": [
    "os.listdir(folder)"
   ]
  },
  {
   "cell_type": "code",
   "execution_count": 65,
   "metadata": {},
   "outputs": [],
   "source": [
    "files = {}\n",
    "def add_category(parent_folder, category):\n",
    "    file_names = os.listdir(parent_folder / category)\n",
    "    new_names = []\n",
    "    for file_name in file_names:\n",
    "        if os.path.isdir(parent_folder / category / file_name):\n",
    "            for category_2 in os.listdir(parent_folder / category):\n",
    "                add_category(parent_folder, category + \"/\" + category_2)\n",
    "        else:\n",
    "            new_names.append(file_name.split('.')[0])\n",
    "            files[category] = ','.join(new_names)    \n",
    "\n",
    "for category in os.listdir(folder):\n",
    "    add_category(folder, category)\n"
   ]
  },
  {
   "cell_type": "code",
   "execution_count": 66,
   "metadata": {},
   "outputs": [
    {
     "data": {
      "text/plain": [
       "{'unharvested_field': '653c016056d6c042a9687978_T01_T03,651f481633fa4521e1d8816c_T14_T16,6516952da0cb60fdc8818285_T05_T07,653bfb8e96ba06d6ac40eac1_T14_T16,6530e34ffc4d1332c193f0d2_T06_T08,653110108a3fbe72b1e15b1a_T05_T07,653bfb505dfa0df61120d1c3_T01_T03,653bfb4972a4bb14e6a44b0f_T06_T07,653bfa9f06c3385be6a33b0b_T01_T03,653bff878e4ecd777783e2c4_T05_T07,653c0da7516f65346b03249a_T10_T12,653125e75d7de481a2576777_T06_T07',\n",
       " 'unknown': '64dec2a83412ff768359e49d_T09_T11,654adde67d9a5d4e720f0847_T14_T15,65379634b47d1c6ac81efd71_T01_T03,64dd798c449c9c76a095f94c_T09_T11,64e3e274d4e70c39b2fab4d7_T05_T07,651e401d2178507e3d089c8b_T06_T07,64e3dba13412ff76835c8adb_T01_T03,64dbe4297d48c1e0abddb61d_T02_T03,64dbe4297d48c1e0abddb61d_T02_T04',\n",
       " 'bad_label': '654b524e5ef11786c38a9ad8_T14_T15',\n",
       " 'mislabeled as implement': '64d33c734079e515f9341410_T10_T12,64dea16516ce64c367ba7346_T01_T03,64dee89590ceccba3aef47a4_T01_T03,64d32309d22763890d963a8e_T10_T12,64de6a54ee0ad5d1ee35914b_T01_T03,64d33c99364cf74cb48867ea_T10_T12,64d35a3fa12f47d52a87d257_T10_T12,64d35ab14210b6d080ddc4ee_T10_T12,64d32c8ce697382aebb41223_T10_T12,64d33c499c4221cabc92d197_T10_T12,64d324930416decb1dcc83af_T10_T12,64d32fd90416decb1dcc9a1a_T10_T12,64d322d46ee204e85919f5e1_T10_T12,64de6a726db56ccddd3290f0_T01_T03,64de8ff434d7e2147f25400e_T01_T03,64d32f83b45885cfe61c93d7_T10_T12',\n",
       " 'trees': '64ee8fa522fae285992ab0ca_T02_T03,65382e8322907dbef5d21cc9_T06_T07,64dd7dc421522d2df57a16c6_T14_T15,6530831f9f5feb4a614937f2_T06_T08,64ee9300cacf26b6c43c150c_I02_I04,651f4cd44c033f8a07ff2878_T06_T07,6538195f3cc79d0f91aa1f1d_T06_T07',\n",
       " 'pole': '651f574be69493c5c88bd590_T09_T11,651e15d58e91d42d4b8f6fb2_T09_T11,651f075dfcacc6a379f16da7_T02_T03,6516a9a3dbfad9a2ae7b160c_T01_T03,64c0f37558c5e7440ba4827b_T09_T11,651f4421f8754bae8ae441a7_T14_T16,651f43ec710a159383b2f096_T09_T11,652dc4699c273539da74c9fe_T10_T12,64f3483b09cc4b4e291e8274_T06_T08,651ea66eb699e494049fc8a2_T06_T07,65169f19ae6790bb22f814e9_T02_T04,651ed41bf7bb0d4532d20413_T06_T07,651f07c0488599d48dc8f455_T01_T03,651f5044d2dd50c6782fbc77_T01_T03,651f51c64e58bc950b73f273_T01_T03,64f35dd937776f094b9eafbd_T06_T08,64f3483b09cc4b4e291e8274_T06_T07,651ea66eb699e494049fc8a2_T06_T08,64f35d27b56e211343c03735_T06_T07,651f560e38080f0a6c816f29_T10_T12,651f4fede69493c5c88bc26f_T01_T03,64da945ab5434b025f7ce485_T09_T11,653c0896c39212f2bfd33983_T01_T03,651f4b25d04f830f534110fb_T02_T04,64e61e365e01413330eb43bd_I02_I04,653c060ca6da32463dc81de4_T01_T03,64c11a83ba52ff9300cc66fe_T09_T11,65169c7c309353ae73c6de26_T14_T15,651e747d042e5652ac176a07_T06_T08,6537aac0ae73fe3e0cd0cfc7_T01_T03,651f4421f8754bae8ae441a7_T14_T15,651f4dfdba89d03100624a1c_T01_T03,650520ddbc72861b54cec754_T09_T11,651f4771a7ffe5e0e19d439e_T05_T07',\n",
       " 'misc_LO': '651f4d39397e2827e807f3c4_T14_T15,653c1e853356fae747459a5c_T02_T03,651e59d949713e488f07b06c_T01_T03,651e64be5d399d0991c2cbf0_T01_T03,6549e938e52988670d621fc8_T13_T15,64db4c6885d92d7756cc4b60_T13_T15,651f53d35b3664dac8ab21b7_T02_T04,64dbb795449c9c76a091f907_T05_T07,6516a9023e4336f84a6ced11_T01_T03,64e4fe69eca3c4f8bbcef220_T02_T04,651f4196ee1ec5b92f34f7ea_T01_T03,64e5d9ab7a3dbd4568dcaded_T06_T07,6516b3514aecbe1c83d28df3_T02_T04,651f5c416f01f5c6245db1a0_T13_T15,654a89fab93605b6b76c3c4e_T01_T03,651e9e41c1b36384dfc4b0ad_T06_T07,64f34c0f654a5b1a4946241d_T06_T07,651f49ea015ff5bcd91777b5_T02_T04,651f47f2b3e93770116f8375_T02_T03,651e9e41c1b36384dfc4b0ad_T06_T08,65055aa62760cd80b1f5e5d8_T10_T11,6504d56023860ba3d9a26f98_T09_T11,64cfe08d90f4c37bb48d5f6c_T01_T03,6504217b66ac45e6bbf0e190_T06_T08,65169517165f6568642bdd92_T01_T03',\n",
       " 'vehicles': '64e61b48eef031aa464ff513_T14_T15,64f35d42654a5b1a4946462d_T06_T07,6503cc356baaf06cd86ac9b0_T05_T07,651f58cfab65fa0a5246dabb_T14_T15,6503d0adb376c41676c2982a_T05_T07,64dc3b686ee204e859254cfe_T06_T07,65335cd3eae7767de89882c1_T14_T16,654672f117a99d8e7f361669_T06_T07,6503d09ffe034db1ce024c1e_T05_T07,6503d10c5044ad5635b2967e_T06_T07,654683b6459330a776ad9d6b_T06_T07',\n",
       " 'humans': '651695e006112ea52d60d78c_T10_T12,653a53fb3cc79d0f91aea3f1_T14_T15,653bd7b99c273539da8c1ff9_T14_T16,653a51ef2a8434a816f2c19a_T14_T15,651695c49b3876d6ef5514a6_T10_T12,653a75796399c83001aa74fc_T09_T11,653a80c6a798ff33074e024d_T14_T16,653bf60f3cc79d0f91b1ebfd_T01_T03,653a8f2569753d520e887d4d_T02_T04,653a807ffd4f8a9fac69291a_T13_T15,653a4f09ca832efc3dda263d_T09_T11,653bfd3f7f270eb166fecf5b_T14_T15,653a51b7f75126bcf4379946_T14_T16,652db5f889da0fb320fa95e8_T14_T15,653a7d650d72c0d94fb8ac7f_T02_T04,6516a9fa7c50d4d3f2c9b092_T10_T12,653a8775630d30d7cd9679d1_T01_T03,6537b50e70710eb9f5d74f63_T10_T12,653a7e7ab2eb6196ef489652_T13_T15,651f58d3bf9e3572a82b226e_T13_T15,651f55599cd4c037af5fa304_T10_T11,653a51a93cc79d0f91ae9f08_T14_T16,653c160b919773c3a0876266_T14_T15,653a8354b5b61b0d59c13c0d_T09_T11,6537b50e70710eb9f5d74f63_T10_T11,653c19e498514f3c1e8daeb7_T14_T16,653bfbb4ae75c2fba1033413_T13_T15,651f4f7c5b9b7bb6b435410b_T01_T03,653a7c05b2eb6196ef489183_T02_T04,653a51ef2a8434a816f2c19a_T14_T16,653a520ae9039204dd470314_T14_T16,653a5125ca832efc3dda2a22_T13_T15,653a86326f767f76ce508a7a_T01_T03,653bd7b99c273539da8c1ff9_T14_T15,653a80c128657bfca869480b_T09_T11,653a53687a56f36c1844c38d_T14_T16',\n",
       " 'occluded by image edge': '651f4045b1c40cd5a3cf63a4_T10_T12,653a76d7fd4f8a9fac691333_T13_T15,64dee611ae8b0f37b46e8fa3_T14_T16,6516a6cf292edbff9b46f99d_T01_T03,651f3e6d4ce1973b8d0d6349_T01_T03,64e51df3eef031aa464da7f5_T14_T16,64de904f34d7e2147f254139_T01_T03,651f43e9ad4981a81be2328b_T02_T04,64dec28a2a04f12c0457b623_T14_T15,6516a9b89be8e1a9e825b0a9_T10_T12,64d31fdc6e87b7c683646b22_T10_T12,653a8288ae75c2fba1fff5bf_T14_T15,64eeab93aefa3b175fc0c14d_T10_T12,651f55fea442aba780cee659_T10_T12,65335aa156bd4cb55dac6482_T09_T11,64dec2d0ae8b0f37b46e412b_T14_T15,64e5bb8ad9c688533765c8df_T06_T08,64e50eaf56cf85a6fb0310f7_T14_T16,651f4c1be69493c5c88bba1e_T02_T03,653a8809aaa4efa799a60368_T06_T07,653a86648a9b0f67c5d064c7_T02_T03,651e8cb4c99f9a09d9f72b9e_T06_T08,64de915e69041ceaeff2a80b_T13_T15,654aa55b198c6ba9daed159e_T14_T16,64dec2ec85f608d926d643ad_T14_T15,6533729b0aa3ae4224ead449_T06_T08,653c107faa13dbe4071584dd_T14_T16,653a511184ed89abeadc2def_T14_T15'}"
      ]
     },
     "execution_count": 66,
     "metadata": {},
     "output_type": "execute_result"
    }
   ],
   "source": [
    "files"
   ]
  }
 ],
 "metadata": {
  "kernelspec": {
   "display_name": "cvml",
   "language": "python",
   "name": "python3"
  },
  "language_info": {
   "codemirror_mode": {
    "name": "ipython",
    "version": 3
   },
   "file_extension": ".py",
   "mimetype": "text/x-python",
   "name": "python",
   "nbconvert_exporter": "python",
   "pygments_lexer": "ipython3",
   "version": "3.8.0"
  }
 },
 "nbformat": 4,
 "nbformat_minor": 2
}
