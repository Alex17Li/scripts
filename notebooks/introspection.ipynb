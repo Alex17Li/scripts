{
 "cells": [
  {
   "cell_type": "code",
   "execution_count": null,
   "metadata": {},
   "outputs": [],
   "source": [
    "import os\n",
    "from pathlib import Path"
   ]
  },
  {
   "cell_type": "code",
   "execution_count": null,
   "metadata": {},
   "outputs": [],
   "source": [
    "folder = Path('/mnt/sandbox1/alex.li/archive/introspection/pmehta_2023_val_bestmodel/halo_vehicles_on_path_test_v6_1/false_negative')"
   ]
  },
  {
   "cell_type": "code",
   "execution_count": null,
   "metadata": {},
   "outputs": [],
   "source": [
    "os.listdir(folder)"
   ]
  },
  {
   "cell_type": "code",
   "execution_count": null,
   "metadata": {},
   "outputs": [],
   "source": [
    "files = {}\n",
    "def add_category(parent_folder, category):\n",
    "    file_names = os.listdir(parent_folder / category)\n",
    "    new_names = []\n",
    "    for file_name in file_names:\n",
    "        if os.path.isdir(parent_folder / category / file_name):\n",
    "            for category_2 in os.listdir(parent_folder / category):\n",
    "                add_category(parent_folder, category + \"/\" + category_2)\n",
    "        else:\n",
    "            new_names.append(file_name.split('.')[0])\n",
    "            files[category] = ','.join(new_names)    \n",
    "\n",
    "for category in os.listdir(folder):\n",
    "    add_category(folder, category)\n"
   ]
  },
  {
   "cell_type": "code",
   "execution_count": null,
   "metadata": {},
   "outputs": [],
   "source": [
    "files"
   ]
  }
 ],
 "metadata": {
  "kernelspec": {
   "display_name": "cvml",
   "language": "python",
   "name": "python3"
  },
  "language_info": {
   "codemirror_mode": {
    "name": "ipython",
    "version": 3
   },
   "file_extension": ".py",
   "mimetype": "text/x-python",
   "name": "python",
   "nbconvert_exporter": "python",
   "pygments_lexer": "ipython3",
   "version": "3.8.0"
  }
 },
 "nbformat": 4,
 "nbformat_minor": 2
}
