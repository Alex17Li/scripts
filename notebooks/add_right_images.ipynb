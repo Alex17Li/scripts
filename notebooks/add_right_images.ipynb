{
 "cells": [
  {
   "cell_type": "code",
   "execution_count": 1,
   "metadata": {},
   "outputs": [
    {
     "name": "stderr",
     "output_type": "stream",
     "text": [
      "/home/alexli/miniconda3/envs/cvml/lib/python3.10/site-packages/torch/cuda/__init__.py:83: UserWarning: CUDA initialization: Unexpected error from cudaGetDeviceCount(). Did you run some cuda functions before calling NumCudaDevices() that might have already set an error? Error 804: forward compatibility was attempted on non supported HW (Triggered internally at  ../c10/cuda/CUDAFunctions.cpp:109.)\n",
      "  return torch._C._cuda_getDeviceCount() > 0\n"
     ]
    }
   ],
   "source": [
    "from brtdevkit.data import Dataset\n",
    "id1 = ['64de71c045147d9d6a85635a', '64de71bbc1ffeada36c3a2ef', '64de71c21cdb4debd0823ac8', '64de71bdb891b1ff255d3cdf', '650367ce704f6855b3458baa', '65036493fd66ff08ea529549', '65036c423c80e3a5b9a025c3', '65036c442760cd80b1f25182', '650367d453990956c79e10c9', '65036c45c850c6edd51299bc', '65036c404c90d1a3a870587a', '65036498390b7420f96054b5', '65036495007090b824f709cd', '6503649a3ee8079f727491b2', '650367d0fd66ff08ea529987', '650367d5c1baf464573c0d5a', '650b5d66d4eda7b41261e02d', '650b5d682efda3e58e80b140', '650b5d6dc1baf46457444f19', '650b5d716a2b4e9e154f5081', '650beaf7957092248cf4979d', '650beaf0982298be1d033845', '650beaf9b376c41676cac57f', '650beafc4e7b2e97c8931204', '651f5456097a4ee43561357c', '651f5452bc96a0dd37f8ac4e', '651f5451bc96a0dd37f8ac46', '651f5458e11d202451c0cc4f']"
   ]
  },
  {
   "cell_type": "code",
   "execution_count": 3,
   "metadata": {},
   "outputs": [
    {
     "name": "stderr",
     "output_type": "stream",
     "text": [
      "\u001b[31;1m2023-11-14 14:17:22,529 - APIRequestor - ERROR - API error received | error_code : 403, error_message : {'extra': {'role_name': 'token_exchange'}, 'message': 'Role token_exchange is required to make this API call'}\n",
      "\u001b[0mERROR:APIRequestor:API error received | error_code : 403, error_message : {'extra': {'role_name': 'token_exchange'}, 'message': 'Role token_exchange is required to make this API call'}\n",
      "WARNING:root:Failed to refresh AWS Credential\n",
      "WARNING:root:Some functionalities (S3, Athena, etc) not useable {'extra': {'role_name': 'token_exchange'}, 'message': 'Role token_exchange is required to make this API call'}\n",
      "INFO:botocore.tokens:Loading cached SSO token for brt\n"
     ]
    },
    {
     "name": "stdout",
     "output_type": "stream",
     "text": [
      "Total annotations retrieved from athena 43\n",
      "Removed annotations in state SKIP, 43 left\n",
      "Filtered 0 annotations with non-production label map.\n",
      "Removed annotations if the label map is not the stanadard production one, 43 left\n",
      "Removed duplicate annotations for the same image (choosing latest), 28 left\n",
      "Preparing stereo dataframe for {'T01': 'T03', 'T02': 'T04', 'T05': 'T07', 'T06': 'T08', 'T09': 'T11', 'T10': 'T12', 'T13': 'T15', 'T14': 'T16', 'I01': 'I03', 'I02': 'I04'}...\n",
      "Size of left dataframe: 28\n"
     ]
    },
    {
     "name": "stderr",
     "output_type": "stream",
     "text": [
      "\u001b[31;1m2023-11-14 14:17:35,480 - APIRequestor - ERROR - API error received | error_code : 403, error_message : {'extra': {'role_name': 'token_exchange'}, 'message': 'Role token_exchange is required to make this API call'}\n",
      "\u001b[0mERROR:APIRequestor:API error received | error_code : 403, error_message : {'extra': {'role_name': 'token_exchange'}, 'message': 'Role token_exchange is required to make this API call'}\n",
      "WARNING:root:Failed to refresh AWS Credential\n",
      "WARNING:root:Some functionalities (S3, Athena, etc) not useable {'extra': {'role_name': 'token_exchange'}, 'message': 'Role token_exchange is required to make this API call'}\n",
      "INFO:botocore.tokens:Loading cached SSO token for brt\n",
      "\u001b[31;1m2023-11-14 14:17:46,556 - APIRequestor - ERROR - API error received | error_code : 403, error_message : {'extra': {'role_name': 'token_exchange'}, 'message': 'Role token_exchange is required to make this API call'}\n",
      "\u001b[0mERROR:APIRequestor:API error received | error_code : 403, error_message : {'extra': {'role_name': 'token_exchange'}, 'message': 'Role token_exchange is required to make this API call'}\n",
      "WARNING:root:Failed to refresh AWS Credential\n",
      "WARNING:root:Some functionalities (S3, Athena, etc) not useable {'extra': {'role_name': 'token_exchange'}, 'message': 'Role token_exchange is required to make this API call'}\n",
      "INFO:botocore.tokens:Loading cached SSO token for brt\n",
      "\u001b[31;1m2023-11-14 14:17:57,629 - APIRequestor - ERROR - API error received | error_code : 403, error_message : {'extra': {'role_name': 'token_exchange'}, 'message': 'Role token_exchange is required to make this API call'}\n",
      "\u001b[0mERROR:APIRequestor:API error received | error_code : 403, error_message : {'extra': {'role_name': 'token_exchange'}, 'message': 'Role token_exchange is required to make this API call'}\n",
      "WARNING:root:Failed to refresh AWS Credential\n",
      "WARNING:root:Some functionalities (S3, Athena, etc) not useable {'extra': {'role_name': 'token_exchange'}, 'message': 'Role token_exchange is required to make this API call'}\n",
      "INFO:botocore.tokens:Loading cached SSO token for brt\n",
      "\u001b[31;1m2023-11-14 14:18:07,287 - APIRequestor - ERROR - API error received | error_code : 403, error_message : {'extra': {'role_name': 'token_exchange'}, 'message': 'Role token_exchange is required to make this API call'}\n",
      "\u001b[0mERROR:APIRequestor:API error received | error_code : 403, error_message : {'extra': {'role_name': 'token_exchange'}, 'message': 'Role token_exchange is required to make this API call'}\n",
      "WARNING:root:Failed to refresh AWS Credential\n",
      "WARNING:root:Some functionalities (S3, Athena, etc) not useable {'extra': {'role_name': 'token_exchange'}, 'message': 'Role token_exchange is required to make this API call'}\n",
      "INFO:botocore.tokens:Loading cached SSO token for brt\n",
      "\u001b[31;1m2023-11-14 14:18:16,606 - APIRequestor - ERROR - API error received | error_code : 403, error_message : {'extra': {'role_name': 'token_exchange'}, 'message': 'Role token_exchange is required to make this API call'}\n",
      "\u001b[0mERROR:APIRequestor:API error received | error_code : 403, error_message : {'extra': {'role_name': 'token_exchange'}, 'message': 'Role token_exchange is required to make this API call'}\n",
      "WARNING:root:Failed to refresh AWS Credential\n",
      "WARNING:root:Some functionalities (S3, Athena, etc) not useable {'extra': {'role_name': 'token_exchange'}, 'message': 'Role token_exchange is required to make this API call'}\n",
      "INFO:botocore.tokens:Loading cached SSO token for brt\n",
      "\u001b[31;1m2023-11-14 14:18:26,435 - APIRequestor - ERROR - API error received | error_code : 403, error_message : {'extra': {'role_name': 'token_exchange'}, 'message': 'Role token_exchange is required to make this API call'}\n",
      "\u001b[0mERROR:APIRequestor:API error received | error_code : 403, error_message : {'extra': {'role_name': 'token_exchange'}, 'message': 'Role token_exchange is required to make this API call'}\n",
      "WARNING:root:Failed to refresh AWS Credential\n",
      "WARNING:root:Some functionalities (S3, Athena, etc) not useable {'extra': {'role_name': 'token_exchange'}, 'message': 'Role token_exchange is required to make this API call'}\n",
      "INFO:botocore.tokens:Loading cached SSO token for brt\n",
      "\u001b[31;1m2023-11-14 14:18:35,848 - APIRequestor - ERROR - API error received | error_code : 403, error_message : {'extra': {'role_name': 'token_exchange'}, 'message': 'Role token_exchange is required to make this API call'}\n",
      "\u001b[0mERROR:APIRequestor:API error received | error_code : 403, error_message : {'extra': {'role_name': 'token_exchange'}, 'message': 'Role token_exchange is required to make this API call'}\n",
      "WARNING:root:Failed to refresh AWS Credential\n",
      "WARNING:root:Some functionalities (S3, Athena, etc) not useable {'extra': {'role_name': 'token_exchange'}, 'message': 'Role token_exchange is required to make this API call'}\n",
      "INFO:botocore.tokens:Loading cached SSO token for brt\n",
      "\u001b[31;1m2023-11-14 14:18:45,864 - APIRequestor - ERROR - API error received | error_code : 403, error_message : {'extra': {'role_name': 'token_exchange'}, 'message': 'Role token_exchange is required to make this API call'}\n",
      "\u001b[0mERROR:APIRequestor:API error received | error_code : 403, error_message : {'extra': {'role_name': 'token_exchange'}, 'message': 'Role token_exchange is required to make this API call'}\n",
      "WARNING:root:Failed to refresh AWS Credential\n",
      "WARNING:root:Some functionalities (S3, Athena, etc) not useable {'extra': {'role_name': 'token_exchange'}, 'message': 'Role token_exchange is required to make this API call'}\n",
      "INFO:botocore.tokens:Loading cached SSO token for brt\n"
     ]
    },
    {
     "name": "stdout",
     "output_type": "stream",
     "text": [
      "Size of stereo dataframe: 28\n",
      "Preparing stereo dataframe for {'T02': 'T03', 'T06': 'T07', 'T10': 'T11', 'T14': 'T15', 'I02': 'I03'}...\n",
      "Size of left dataframe: 14\n"
     ]
    },
    {
     "name": "stderr",
     "output_type": "stream",
     "text": [
      "\u001b[31;1m2023-11-14 14:18:55,631 - APIRequestor - ERROR - API error received | error_code : 403, error_message : {'extra': {'role_name': 'token_exchange'}, 'message': 'Role token_exchange is required to make this API call'}\n",
      "\u001b[0mERROR:APIRequestor:API error received | error_code : 403, error_message : {'extra': {'role_name': 'token_exchange'}, 'message': 'Role token_exchange is required to make this API call'}\n",
      "WARNING:root:Failed to refresh AWS Credential\n",
      "WARNING:root:Some functionalities (S3, Athena, etc) not useable {'extra': {'role_name': 'token_exchange'}, 'message': 'Role token_exchange is required to make this API call'}\n",
      "INFO:botocore.tokens:Loading cached SSO token for brt\n",
      "\u001b[31;1m2023-11-14 14:19:05,494 - APIRequestor - ERROR - API error received | error_code : 403, error_message : {'extra': {'role_name': 'token_exchange'}, 'message': 'Role token_exchange is required to make this API call'}\n",
      "\u001b[0mERROR:APIRequestor:API error received | error_code : 403, error_message : {'extra': {'role_name': 'token_exchange'}, 'message': 'Role token_exchange is required to make this API call'}\n",
      "WARNING:root:Failed to refresh AWS Credential\n",
      "WARNING:root:Some functionalities (S3, Athena, etc) not useable {'extra': {'role_name': 'token_exchange'}, 'message': 'Role token_exchange is required to make this API call'}\n",
      "INFO:botocore.tokens:Loading cached SSO token for brt\n",
      "\u001b[31;1m2023-11-14 14:19:15,145 - APIRequestor - ERROR - API error received | error_code : 403, error_message : {'extra': {'role_name': 'token_exchange'}, 'message': 'Role token_exchange is required to make this API call'}\n",
      "\u001b[0mERROR:APIRequestor:API error received | error_code : 403, error_message : {'extra': {'role_name': 'token_exchange'}, 'message': 'Role token_exchange is required to make this API call'}\n",
      "WARNING:root:Failed to refresh AWS Credential\n",
      "WARNING:root:Some functionalities (S3, Athena, etc) not useable {'extra': {'role_name': 'token_exchange'}, 'message': 'Role token_exchange is required to make this API call'}\n",
      "INFO:botocore.tokens:Loading cached SSO token for brt\n",
      "\u001b[31;1m2023-11-14 14:19:25,329 - APIRequestor - ERROR - API error received | error_code : 403, error_message : {'extra': {'role_name': 'token_exchange'}, 'message': 'Role token_exchange is required to make this API call'}\n",
      "\u001b[0mERROR:APIRequestor:API error received | error_code : 403, error_message : {'extra': {'role_name': 'token_exchange'}, 'message': 'Role token_exchange is required to make this API call'}\n",
      "WARNING:root:Failed to refresh AWS Credential\n",
      "WARNING:root:Some functionalities (S3, Athena, etc) not useable {'extra': {'role_name': 'token_exchange'}, 'message': 'Role token_exchange is required to make this API call'}\n",
      "INFO:botocore.tokens:Loading cached SSO token for brt\n"
     ]
    },
    {
     "name": "stdout",
     "output_type": "stream",
     "text": [
      "Size of stereo dataframe: 14\n",
      "Sending 28 annotated_ids for creating dataset\n",
      "Time taken to prepare data for dataset creation job: 2.20 mins\n"
     ]
    }
   ],
   "source": [
    "from aletheia_dataset_creator.dataset_tools.aletheia_dataset_helpers import imageids_to_dataset\n",
    "new_dset_name = 'halo_all_cam_labeled_dataset'\n",
    "imageids_to_dataset(id1, new_dset_name, dataset_description=\"Images with all cameras labeled\", dataset_kind=Dataset.KIND_ANNOTATION)"
   ]
  },
  {
   "cell_type": "code",
   "execution_count": null,
   "metadata": {},
   "outputs": [],
   "source": [
    "prod_dataset = Dataset.retrieve(name=new_dset_name)\n",
    "prod_df = prod_dataset.to_dataframe()\n",
    "id1 = list(prod_df['id'])\n",
    "print(len(id1))"
   ]
  }
 ],
 "metadata": {
  "kernelspec": {
   "display_name": "cvml",
   "language": "python",
   "name": "python3"
  },
  "language_info": {
   "codemirror_mode": {
    "name": "ipython",
    "version": 3
   },
   "file_extension": ".py",
   "mimetype": "text/x-python",
   "name": "python",
   "nbconvert_exporter": "python",
   "pygments_lexer": "ipython3",
   "version": "3.10.0"
  }
 },
 "nbformat": 4,
 "nbformat_minor": 2
}
