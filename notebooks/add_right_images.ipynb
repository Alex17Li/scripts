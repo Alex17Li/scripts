{
 "cells": [
  {
   "cell_type": "code",
   "execution_count": null,
   "metadata": {},
   "outputs": [],
   "source": [
    "from brtdevkit.data import Dataset\n",
    "id1 = ['64de71c045147d9d6a85635a', '64de71bbc1ffeada36c3a2ef', '64de71c21cdb4debd0823ac8', '64de71bdb891b1ff255d3cdf', '650367ce704f6855b3458baa', '65036493fd66ff08ea529549', '65036c423c80e3a5b9a025c3', '65036c442760cd80b1f25182', '650367d453990956c79e10c9', '65036c45c850c6edd51299bc', '65036c404c90d1a3a870587a', '65036498390b7420f96054b5', '65036495007090b824f709cd', '6503649a3ee8079f727491b2', '650367d0fd66ff08ea529987', '650367d5c1baf464573c0d5a', '650b5d66d4eda7b41261e02d', '650b5d682efda3e58e80b140', '650b5d6dc1baf46457444f19', '650b5d716a2b4e9e154f5081', '650beaf7957092248cf4979d', '650beaf0982298be1d033845', '650beaf9b376c41676cac57f', '650beafc4e7b2e97c8931204', '651f5456097a4ee43561357c', '651f5452bc96a0dd37f8ac4e', '651f5451bc96a0dd37f8ac46', '651f5458e11d202451c0cc4f']"
   ]
  },
  {
   "cell_type": "code",
   "execution_count": null,
   "metadata": {},
   "outputs": [],
   "source": [
    "from aletheia_dataset_creator.dataset_tools.aletheia_dataset_helpers import imageids_to_dataset\n",
    "new_dset_name = 'halo_all_cam_labeled_dataset'\n",
    "imageids_to_dataset(id1, new_dset_name, dataset_description=\"Images with all cameras labeled\", dataset_kind=Dataset.KIND_ANNOTATION)"
   ]
  },
  {
   "cell_type": "code",
   "execution_count": null,
   "metadata": {},
   "outputs": [],
   "source": [
    "prod_dataset = Dataset.retrieve(name=new_dset_name)\n",
    "prod_df = prod_dataset.to_dataframe()\n",
    "id1 = list(prod_df['id'])\n",
    "print(len(id1))"
   ]
  }
 ],
 "metadata": {
  "kernelspec": {
   "display_name": "cvml",
   "language": "python",
   "name": "python3"
  },
  "language_info": {
   "codemirror_mode": {
    "name": "ipython",
    "version": 3
   },
   "file_extension": ".py",
   "mimetype": "text/x-python",
   "name": "python",
   "nbconvert_exporter": "python",
   "pygments_lexer": "ipython3",
   "version": "3.10.0"
  }
 },
 "nbformat": 4,
 "nbformat_minor": 2
}
