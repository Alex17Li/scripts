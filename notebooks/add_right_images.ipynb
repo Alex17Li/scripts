{
 "cells": [
  {
   "cell_type": "code",
   "execution_count": 6,
   "metadata": {},
   "outputs": [
    {
     "name": "stdout",
     "output_type": "stream",
     "text": [
      "1832\n"
     ]
    }
   ],
   "source": [
    "from brtdevkit.data import Dataset\n",
    "dset_name = '20231017_halo_rgb_labeled_excluded_bad_iq'\n",
    "prod_dataset = Dataset.retrieve(name=dset_name)\n",
    "prod_df = prod_dataset.to_dataframe()\n",
    "id1 = list(prod_df['id'])\n",
    "print(len(id1))"
   ]
  },
  {
   "cell_type": "code",
   "execution_count": 7,
   "metadata": {},
   "outputs": [
    {
     "name": "stdout",
     "output_type": "stream",
     "text": [
      "1832\n",
      "Preparing stereo dataframe for {'T01': 'T03', 'T02': 'T04', 'T05': 'T07', 'T06': 'T08', 'T09': 'T11', 'T10': 'T12', 'T13': 'T15', 'T14': 'T16', 'I01': 'I03', 'I02': 'I04'}...\n",
      "Size of left dataframe: 1832\n",
      "Size of stereo dataframe: 1608\n",
      "Preparing stereo dataframe for {'T02': 'T03', 'T06': 'T07', 'T10': 'T11', 'T14': 'T15', 'I02': 'I03'}...\n",
      "Size of left dataframe: 919\n",
      "Size of stereo dataframe: 897\n",
      "Sending 4277 image ids for creating dataset\n",
      "Time taken to prepare data for dataset creation job: 2.54 mins\n"
     ]
    }
   ],
   "source": [
    "print(len(id1))\n",
    "from aletheia_dataset_creator.dataset_tools.aletheia_dataset_helpers import imageids_to_dataset\n",
    "new_dset_name = dset_name + '_lr_image'\n",
    "imageids_to_dataset(id1, new_dset_name, dataset_description=prod_dataset.description, dataset_kind=Dataset.KIND_IMAGE)"
   ]
  },
  {
   "cell_type": "code",
   "execution_count": null,
   "metadata": {},
   "outputs": [],
   "source": [
    "prod_dataset = Dataset.retrieve(name=new_dset_name)\n",
    "prod_df = prod_dataset.to_dataframe()\n",
    "id1 = list(prod_df['id'])\n",
    "print(len(id1))"
   ]
  }
 ],
 "metadata": {
  "kernelspec": {
   "display_name": "cvml",
   "language": "python",
   "name": "python3"
  },
  "language_info": {
   "codemirror_mode": {
    "name": "ipython",
    "version": 3
   },
   "file_extension": ".py",
   "mimetype": "text/x-python",
   "name": "python",
   "nbconvert_exporter": "python",
   "pygments_lexer": "ipython3",
   "version": "3.10.0"
  }
 },
 "nbformat": 4,
 "nbformat_minor": 2
}
