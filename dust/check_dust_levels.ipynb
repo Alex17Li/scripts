{
 "cells": [
  {
   "cell_type": "code",
   "execution_count": null,
   "metadata": {},
   "outputs": [],
   "source": [
    "import pandas as pd\n",
    "import numpy as np\n",
    "import matplotlib.pyplot as plt"
   ]
  },
  {
   "cell_type": "code",
   "execution_count": null,
   "metadata": {},
   "outputs": [],
   "source": [
    "data_path = \"/data/jupiter/datasets/mannequin_in_dust/\"\n",
    "df = pd.read_csv(\"/mnt/sandbox1/alex.li/summary.csv\")\n",
    "output_path = \"/data/jupiter/li.yu/exps/driveable_terrain_model/dust_51_v188_58d_rak_local_fine_tversky11_sum_image_normT_prod5_airdyn_r3a8_s30/mannequin_in_dust_dustpred/\"\n",
    "df_dust = pd.read_csv(output_path + \"/output.csv\")\n",
    "df = pd.merge(df, df_dust, on='id')\n",
    "output_path = \"/mnt/sandbox1/alex.li/results/mannequin_in_dust/7class_prod/results\""
   ]
  },
  {
   "cell_type": "markdown",
   "metadata": {},
   "source": []
  },
  {
   "cell_type": "code",
   "execution_count": null,
   "metadata": {},
   "outputs": [],
   "source": [
    "print(df['pred_dust_ratio'].describe())\n",
    "print((df['pred_dust_ratio'] > .10).mean())\n",
    "# print((df_dust[''] > .15).mean())\n",
    "# print((df_dust['total_thresholded_dust_ratio'] > .05).mean())"
   ]
  },
  {
   "cell_type": "code",
   "execution_count": null,
   "metadata": {},
   "outputs": [],
   "source": [
    "df.columns"
   ]
  },
  {
   "cell_type": "code",
   "execution_count": null,
   "metadata": {},
   "outputs": [],
   "source": [
    "sum(df['predicted_stop'])"
   ]
  },
  {
   "cell_type": "code",
   "execution_count": null,
   "metadata": {},
   "outputs": [],
   "source": []
  },
  {
   "cell_type": "code",
   "execution_count": null,
   "metadata": {},
   "outputs": [],
   "source": [
    "from dl.utils.io_utils import normalize_image\n",
    "%matplotlib inline \n",
    "df_neg = df[df['predicted_stop'] == False]\n",
    "def plot(ind):\n",
    "    data = np.load(data_path + 'processed/images/' + df_neg.iloc[ind]['id'] + '/stereo_output.npz')\n",
    "    left = normalize_image(data['left'], True)\n",
    "    plt.imshow(left)\n",
    "    plt.show()\n",
    "    print(f\"DUSTINESS: {df_neg.iloc[ind]['pred_dust_ratio']}\")\n",
    "plot(4)"
   ]
  },
  {
   "cell_type": "code",
   "execution_count": null,
   "metadata": {},
   "outputs": [],
   "source": [
    "plot(29)"
   ]
  },
  {
   "cell_type": "code",
   "execution_count": null,
   "metadata": {},
   "outputs": [],
   "source": [
    "plot(37)"
   ]
  },
  {
   "cell_type": "code",
   "execution_count": null,
   "metadata": {},
   "outputs": [],
   "source": [
    "%matplotlib inline\n",
    "plt.scatter(df['pred_dust_ratio'], df['predicted_stop'], s=.5)"
   ]
  },
  {
   "cell_type": "code",
   "execution_count": null,
   "metadata": {},
   "outputs": [],
   "source": [
    "df['pred_dust_ratio']"
   ]
  },
  {
   "cell_type": "code",
   "execution_count": null,
   "metadata": {},
   "outputs": [],
   "source": [
    "bins = np.arange(0, np.max(df['pred_dust_ratio'])+.01, 2.5)\n",
    "plt.hist(df[(df['predicted_stop'] == True) & (df['label_stop'] == True)]['pred_dust_ratio'], bins=bins, alpha=.7, label='tp', color='blue')\n",
    "plt.hist(df[(df['predicted_stop'] == False) & (df['label_stop'] == True)]['pred_dust_ratio'], bins=bins, alpha=.6, label='fn', color='orange')"
   ]
  },
  {
   "cell_type": "code",
   "execution_count": null,
   "metadata": {},
   "outputs": [],
   "source": [
    "df['collected_on_dt'] = pd.to_datetime(df['collected_on'])"
   ]
  },
  {
   "cell_type": "code",
   "execution_count": null,
   "metadata": {},
   "outputs": [],
   "source": [
    "plt.scatter(df['collected_on_dt'], df['pred_dust_ratio'], s=.5)\n",
    "plt.xlabel(\"time\")\n",
    "plt.ylabel(\"dust level\")"
   ]
  },
  {
   "cell_type": "code",
   "execution_count": null,
   "metadata": {},
   "outputs": [],
   "source": [
    "df.sort_values('collected_on')['pred_dust_ratio']\n",
    "diff = df.sort_values('collected_on')['pred_dust_ratio'].diff()[1:]"
   ]
  },
  {
   "cell_type": "code",
   "execution_count": null,
   "metadata": {},
   "outputs": [],
   "source": [
    "print(diff[1:].std())"
   ]
  },
  {
   "cell_type": "code",
   "execution_count": null,
   "metadata": {},
   "outputs": [],
   "source": [
    "plt.hist(df['pred_dust_ratio'])"
   ]
  },
  {
   "cell_type": "markdown",
   "metadata": {},
   "source": [
    "# Dust threshold such that, for all images with dust below the threshold\n",
    "TP / (TP + FN) >= .9"
   ]
  },
  {
   "cell_type": "code",
   "execution_count": null,
   "metadata": {},
   "outputs": [],
   "source": [
    "# Li method\n",
    "# TP + FN = len(df)\n",
    "FN = TP = 0\n",
    "df = df.sort_values('pred_dust_ratio')\n",
    "for i in range(len(df)):\n",
    "    row = df.iloc[i]\n",
    "    if row['predicted_stop'] == False:\n",
    "        FN += 1\n",
    "    else:\n",
    "        TP += 1\n",
    "    x = TP / (TP + FN)\n",
    "    if abs(x - .9) < .002:\n",
    "        print(row['pred_dust_ratio']) # ~20"
   ]
  },
  {
   "cell_type": "code",
   "execution_count": null,
   "metadata": {},
   "outputs": [],
   "source": [
    "import scipy"
   ]
  },
  {
   "cell_type": "code",
   "execution_count": null,
   "metadata": {},
   "outputs": [],
   "source": [
    "df.columns"
   ]
  },
  {
   "cell_type": "code",
   "execution_count": null,
   "metadata": {},
   "outputs": [],
   "source": [
    "# plt.show(df['collected_on'], df['pred_dust_ratio'])"
   ]
  },
  {
   "cell_type": "code",
   "execution_count": null,
   "metadata": {},
   "outputs": [],
   "source": [
    "# Alex method\n",
    "# TP + FN = len(df)\n",
    "df = df.sort_values('pred_dust_ratio')\n",
    "interval_size = 200\n",
    "interval_step = 20\n",
    "max_valid_ratio = 0\n",
    "dust_ratio = []\n",
    "tp_rate = []\n",
    "human_tp_rate = []\n",
    "for i in range(0, len(df) - interval_size, interval_step):\n",
    "    interval = df.iloc[i:i+interval_size]\n",
    "    TP = interval['predicted_stop'].sum()\n",
    "    LABEL_P = interval['label_stop'].sum()\n",
    "    FN = LABEL_P - TP\n",
    "    r = interval.iloc[interval_size  // 2]['pred_dust_ratio']\n",
    "    dust_ratio.append(r)\n",
    "    tp_rate.append(TP / interval_size)\n",
    "    human_tp_rate.append(interval['label_stop'].sum() / interval_size)\n",
    "    # how confident are we that it will work on 90% of humans or more at this dust level?\n",
    "    confidence = scipy.stats.binomtest(TP, LABEL_P, .9, 'less').pvalue\n",
    "    # if confidence > .9:\n",
    "    #     max_valid_ratio = r\n",
    "    # Just check directly\n",
    "    if TP / LABEL_P > .9:\n",
    "        max_valid_ratio = r\n",
    "%matplotlib inline \n",
    "plt.scatter(dust_ratio, tp_rate, label='model tp rate')\n",
    "plt.scatter(dust_ratio, human_tp_rate, label='human labeler tp rate')\n",
    "plt.axhline(.9,  linestyle='--')\n",
    "plt.axvline(max_valid_ratio, linestyle='--')\n",
    "plt.xlabel(\"Dust ratio (%)\")\n",
    "plt.ylabel(\"Human recall at this dust ratio\")\n",
    "plt.legend()\n",
    "print(f\"Recommended dust ratio: {max_valid_ratio:.1f}\")"
   ]
  },
  {
   "cell_type": "code",
   "execution_count": null,
   "metadata": {},
   "outputs": [],
   "source": [
    "# Carmine method\n",
    "for fn_level in [.05, .1, .2, .3]:\n",
    "    row = df_neg.sort_values('pred_dust_ratio').iloc[int(fn_level * len(df_neg))]\n",
    "    print(row['Unnamed: 0'])\n",
    "    print(f\"{100 * fn_level}%: {row.pred_dust_ratio}\")"
   ]
  },
  {
   "cell_type": "code",
   "execution_count": null,
   "metadata": {},
   "outputs": [],
   "source": [
    "df_neg['pred_dust_ratio']"
   ]
  },
  {
   "cell_type": "code",
   "execution_count": null,
   "metadata": {},
   "outputs": [],
   "source": [
    "sum(df['human_state'] == 'true_positive')"
   ]
  },
  {
   "cell_type": "code",
   "execution_count": null,
   "metadata": {},
   "outputs": [],
   "source": []
  }
 ],
 "metadata": {
  "kernelspec": {
   "display_name": "cvml",
   "language": "python",
   "name": "python3"
  },
  "language_info": {
   "codemirror_mode": {
    "name": "ipython",
    "version": 3
   },
   "file_extension": ".py",
   "mimetype": "text/x-python",
   "name": "python",
   "nbconvert_exporter": "python",
   "pygments_lexer": "ipython3",
   "version": "3.8.0"
  }
 },
 "nbformat": 4,
 "nbformat_minor": 2
}
