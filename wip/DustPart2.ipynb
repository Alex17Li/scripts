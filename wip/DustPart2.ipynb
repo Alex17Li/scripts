{
 "cells": [
  {
   "cell_type": "code",
   "execution_count": 10,
   "metadata": {},
   "outputs": [],
   "source": [
    "import os\n",
    "import brtdevkit\n",
    "os.environ[\"BRT_ENV\"] = 'prod'\n",
    "os.environ['AWS_DEFAULT_REGION'] = 'us-west-2'\n",
    "brtdevkit.log = 'info'\n",
    "\n",
    "from aletheia_dataset_creator.dataset_tools.aletheia_dataset_helpers import *\n",
    "from aletheia_dataset_creator.config.dataset_config import *\n",
    "from brtdevkit.core.db.athena import AthenaClient\n",
    "from brtdevkit.data import Dataset\n",
    "from pathlib import Path\n",
    "\n",
    "import pandas as pd\n",
    "import numpy as np\n",
    "\n",
    "# Set it to None to display all columns in the dataframe\n",
    "pd.set_option('display.max_columns', None)\n",
    "pd.set_option('display.max_rows', None)"
   ]
  },
  {
   "cell_type": "code",
   "execution_count": 24,
   "metadata": {},
   "outputs": [
    {
     "name": "stdout",
     "output_type": "stream",
     "text": [
      "{\n",
      "  \"created_at\": \"2023-06-30T15:30:34.787000\",\n",
      "  \"created_by\": \"62856584a5aafa5bdcf6321e\",\n",
      "  \"created_by_email\": \"alex.li@bluerivertech.com\",\n",
      "  \"definition\": null,\n",
      "  \"description\": \"1000 random images from May 6\",\n",
      "  \"id\": \"649ef51a15639b3bbe271a8f\",\n",
      "  \"is_deleted\": false,\n",
      "  \"kind\": \"image\",\n",
      "  \"machine_log_group_id\": null,\n",
      "  \"metadata_s3_bucket\": \"brt-mesa-jupiter-datasets-eng\",\n",
      "  \"metadata_s3_key\": \"image/2023/06/30/649ef51a15639b3bbe271a8f.jsonl\",\n",
      "  \"name\": \"dust_analysis_random_1000\",\n",
      "  \"project_name\": \"jupiter\",\n",
      "  \"provenance_url\": null,\n",
      "  \"request_s3_location\": {\n",
      "    \"s3_bucket\": \"brt-mesa-tartarus-queue-payloads-prod-green\",\n",
      "    \"s3_key\": \"dataset-requests/image/2023/06/30/62856584a5aafa5bdcf6321e_1fbbed8d1cc24790a4549e76d7429f0f.json\"\n",
      "  },\n",
      "  \"state\": \"ready\",\n",
      "  \"updated_at\": \"2023-06-30T15:30:34.787000\",\n",
      "  \"updated_by\": null,\n",
      "  \"webdatasets\": []\n",
      "}\n"
     ]
    }
   ],
   "source": [
    "from brtdevkit.core.api.error import InvalidRequestError\n",
    "\n",
    "dataset_name = \"dust_analysis_random_1000\"\n",
    "dataset_path = Path(f\"/home/alexli/data/{dataset_name}\")\n",
    "try:\n",
    "    dataset = Dataset.retrieve(name=dataset_name)\n",
    "    print(dataset)\n",
    "except InvalidRequestError as e:\n",
    "    dataset = None\n",
    "    print(e)"
   ]
  },
  {
   "cell_type": "code",
   "execution_count": 12,
   "metadata": {},
   "outputs": [],
   "source": [
    "from datetime import datetime\n",
    "start_datetime  = datetime(2022, 5, 6, hour=23, minute=0)   #, tzinfo=timezone.utc)\n",
    "end_datetime    = datetime(2022, 5, 6, hour=23, minute=59)  # this is EXclusive\n",
    "\n",
    "database = \"mesa-data-catalog-prod\"\n",
    "table = \"image_jupiter\"\n",
    "\n",
    "stmt = f\"\"\"\n",
    "SELECT *\n",
    "FROM {table} T\n",
    "WHERE \n",
    "    T.collected_on >= cast('{start_datetime}' as timestamp)\n",
    "    AND T.collected_on < cast('{end_datetime}' as timestamp)\n",
    "ORDER BY RAND()\n",
    "LIMIT 1000\n",
    "\"\"\"\n",
    "if dataset == None:\n",
    "    athena = AthenaClient()\n",
    "    database = \"mesa-data-catalog-prod\"\n",
    "    df_hh = athena.get_df(stmt, database=database)"
   ]
  },
  {
   "cell_type": "code",
   "execution_count": 13,
   "metadata": {},
   "outputs": [
    {
     "data": {
      "text/plain": [
       "{'created_at': '2023-06-30T15:30:34.787000',\n",
       " 'created_by': '62856584a5aafa5bdcf6321e',\n",
       " 'created_by_email': 'alex.li@bluerivertech.com',\n",
       " 'definition': None,\n",
       " 'description': '1000 random images from May 6',\n",
       " 'id': '649ef51a15639b3bbe271a8f',\n",
       " 'is_deleted': False,\n",
       " 'kind': 'image',\n",
       " 'machine_log_group_id': None,\n",
       " 'metadata_s3_bucket': 'brt-mesa-jupiter-datasets-eng',\n",
       " 'metadata_s3_key': 'image/2023/06/30/649ef51a15639b3bbe271a8f.jsonl',\n",
       " 'name': 'dust_analysis_random_1000',\n",
       " 'project_name': 'jupiter',\n",
       " 'provenance_url': None,\n",
       " 'request_s3_location': {'s3_bucket': 'brt-mesa-tartarus-queue-payloads-prod-green',\n",
       "  's3_key': 'dataset-requests/image/2023/06/30/62856584a5aafa5bdcf6321e_1fbbed8d1cc24790a4549e76d7429f0f.json'},\n",
       " 'state': 'ready',\n",
       " 'updated_at': '2023-06-30T15:30:34.787000',\n",
       " 'updated_by': None,\n",
       " 'webdatasets': []}"
      ]
     },
     "execution_count": 13,
     "metadata": {},
     "output_type": "execute_result"
    }
   ],
   "source": [
    "if dataset == None:\n",
    "    image_ids = df_hh['id'].tolist()\n",
    "    imageids_to_dataset(\n",
    "        image_ids, dataset_name, \n",
    "        '1000 random images from May 6', 'image')\n",
    "    dataset = Dataset.retrieve(name=dataset_name)\n",
    "dataset"
   ]
  },
  {
   "cell_type": "code",
   "execution_count": 14,
   "metadata": {},
   "outputs": [],
   "source": [
    "# Run pack perception in kf, don't forget --image-only"
   ]
  },
  {
   "cell_type": "code",
   "execution_count": 28,
   "metadata": {},
   "outputs": [],
   "source": [
    "from dl.dataset.fetch_pp_artifacts import prefetch_from_s3\n",
    "\n",
    "if not os.path.exists(dataset_path / 'images'):\n",
    "    dataset.download(dataset_path)\n",
    "if not os.path.exists(dataset_path / 'processed'):\n",
    "    master_csv_s3_uri = \"s3://blueriver-jupiter-data/pack_perception/ml/48fe80193177bc671b32ffe6443142c9_e5de20d6782cffae96fcffd7f974f1ce/649ef51a15639b3bbe271a8f_master_annotations.csv\"\n",
    "    prefetch_from_s3(master_csv_s3_uri, dataset_path)"
   ]
  },
  {
   "cell_type": "code",
   "execution_count": 31,
   "metadata": {},
   "outputs": [],
   "source": [
    "from cv.core.image_quality_server_side import ImageQuality\n",
    "\n",
    "master_annotation_file = '649ef51a15639b3bbe271a8f_master_annotations.csv'\n",
    "stereo_df = pd.read_csv(dataset_path / master_annotation_file)\n",
    "iq = ImageQuality()\n",
    "labeled = iq.from_df(stereo_df, dataset_path, use_progress=True)"
   ]
  },
  {
   "cell_type": "code",
   "execution_count": 34,
   "metadata": {},
   "outputs": [
    {
     "data": {
      "text/plain": [
       "Index(['artifact_debayeredrgb_0__id', 'artifact_debayeredrgb_0_content_hash',\n",
       "       'artifact_debayeredrgb_0_created_at',\n",
       "       'artifact_debayeredrgb_0_data_category', 'artifact_debayeredrgb_0_id',\n",
       "       'artifact_debayeredrgb_0_image', 'artifact_debayeredrgb_0_is_archived',\n",
       "       'artifact_debayeredrgb_0_kind', 'artifact_debayeredrgb_0_project_name',\n",
       "       'artifact_debayeredrgb_0_s3_bucket',\n",
       "       ...\n",
       "       'dataset_parent_dir', 'image_id', 'image_quality_label',\n",
       "       'median_depth_check', 'script_id', 'stereo_left_image',\n",
       "       'stereo_pipeline_npz_save_path', 'stereo_right_image', 'terrain_type',\n",
       "       'image_quality'],\n",
       "      dtype='object', length=114)"
      ]
     },
     "execution_count": 34,
     "metadata": {},
     "output_type": "execute_result"
    }
   ],
   "source": [
    "labeled.columns"
   ]
  },
  {
   "cell_type": "code",
   "execution_count": 41,
   "metadata": {},
   "outputs": [],
   "source": [
    "iqs = []\n",
    "for i in range(484):\n",
    "    iqs.append(labeled.iloc[i].image_quality.algorithm_output)"
   ]
  },
  {
   "cell_type": "code",
   "execution_count": 43,
   "metadata": {},
   "outputs": [
    {
     "data": {
      "text/plain": [
       "{'bad_depth', 'bright', 'good'}"
      ]
     },
     "execution_count": 43,
     "metadata": {},
     "output_type": "execute_result"
    }
   ],
   "source": [
    "set(iqs)"
   ]
  },
  {
   "cell_type": "code",
   "execution_count": null,
   "metadata": {},
   "outputs": [],
   "source": []
  }
 ],
 "metadata": {
  "kernelspec": {
   "display_name": "py310",
   "language": "python",
   "name": "python3"
  },
  "language_info": {
   "codemirror_mode": {
    "name": "ipython",
    "version": 3
   },
   "file_extension": ".py",
   "mimetype": "text/x-python",
   "name": "python",
   "nbconvert_exporter": "python",
   "pygments_lexer": "ipython3",
   "version": "3.10.0"
  },
  "orig_nbformat": 4
 },
 "nbformat": 4,
 "nbformat_minor": 2
}
