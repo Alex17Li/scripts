{
 "cells": [
  {
   "cell_type": "code",
   "execution_count": 2,
   "id": "bfc6fd89-d6ab-4190-95ca-8f00178f1dc4",
   "metadata": {},
   "outputs": [],
   "source": [
    "import time\n",
    "import json\n",
    "import ast\n",
    "import datetime\n",
    "import io\n",
    "from collections import defaultdict\n",
    "\n",
    "import imageio\n",
    "import boto3\n",
    "import pandas as pd\n",
    "import numpy as np\n",
    "import imageio\n",
    "import matplotlib.pyplot as plt\n",
    "import seaborn as sns\n",
    "\n",
    "from brtdevkit.core.db.athena import AthenaClient\n",
    "from brtdevkit.data import Dataset\n",
    "from timezonefinder import TimezoneFinderL\n",
    "import pytz\n",
    "\n",
    "from aletheia_dataset_creator.dataset_tools.aletheia_dataset_helpers import imageids_to_dataset\n",
    "from aletheia_dataset_creator.config.dataset_config import LEFT_CAMERAS, ALL_CAMERA_PAIRS_LIST\n",
    "%matplotlib inline\n"
   ]
  },
  {
   "cell_type": "code",
   "execution_count": 3,
   "id": "56268454-b2e4-455a-a8ab-e601f2f34b31",
   "metadata": {},
   "outputs": [],
   "source": [
    "pd.set_option('display.max_rows', 500)"
   ]
  },
  {
   "cell_type": "code",
   "execution_count": 4,
   "id": "802b51a2-f2ff-410f-8500-1588a154e03e",
   "metadata": {},
   "outputs": [],
   "source": [
    "athena = AthenaClient()\n",
    "s3 = boto3.resource('s3')\n",
    "tf = TimezoneFinderL()"
   ]
  },
  {
   "cell_type": "code",
   "execution_count": 5,
   "id": "7aff9d65-b0df-47a4-a6b1-c69128415df1",
   "metadata": {},
   "outputs": [],
   "source": [
    "def get_calibration(x):\n",
    "    try:\n",
    "        return ast.literal_eval(x)\n",
    "    except:\n",
    "        return {}   \n",
    "def get_adjusted_timezone(timestamp, latitude, longitude):\n",
    "    if (latitude == 0) or (longitude == 0):\n",
    "        return np.nan\n",
    "    \n",
    "    if isinstance(timestamp, np.datetime64):\n",
    "        timestamp = pd.to_datetime(timestamp)\n",
    "    # Localize and adjust UTC timestamps to local timezone\n",
    "    utc = pytz.utc.localize(timestamp)\n",
    "    tz = tf.timezone_at(lat=latitude, lng=longitude)\n",
    "    adjusted_timestamp = utc.astimezone(tz).to_pydatetime()\n",
    "\n",
    "    return adjusted_timestamp\n",
    "    "
   ]
  },
  {
   "attachments": {},
   "cell_type": "markdown",
   "id": "731129f1-4e20-47eb-b70e-67c07c3f8ddb",
   "metadata": {},
   "source": [
    "# Selecting data"
   ]
  },
  {
   "cell_type": "code",
   "execution_count": 6,
   "id": "f5c493de",
   "metadata": {},
   "outputs": [],
   "source": [
    "try:\n",
    "    halo_df = pd.read_parquet('/home/alexli/data/all_hitchiker_images/hh_df.parquet')\n",
    "except FileNotFoundError:\n",
    "    print(\"file not found\")\n",
    "    query = f\"\"\"\n",
    "    SELECT id, hard_drive_name, robot_name, collected_on,\n",
    "        bag_name, operating_field_name, operation_time, latitude, longitude, geohash, camera_location, sensor_type, created_at, \n",
    "        bundle, gps_can_data__json, weather_summary__json, group_id\n",
    "    FROM image_jupiter \n",
    "    WHERE LENGTH(robot_name) = 14 AND robot_name LIKE 'hitchhiker_1%'\n",
    "    \"\"\"\n",
    "#--AND camera_location IN {left_tractor_cameras}\n",
    "    start = time.time()\n",
    "    halo_df = athena.get_df(query)\n",
    "    end = time.time()\n",
    "    print(end - start)\n",
    "    halo_df.to_parquet('/home/alexli/data/all_hitchiker_images/hh_df.parquet', index=False)"
   ]
  },
  {
   "cell_type": "code",
   "execution_count": 9,
   "id": "b1339330",
   "metadata": {},
   "outputs": [
    {
     "name": "stdout",
     "output_type": "stream",
     "text": [
      "22.81375741958618\n"
     ]
    }
   ],
   "source": [
    "query = \"\"\"SELECT id, hard_drive_name, robot_name, collected_on,\n",
    "    bag_name, operating_field_name, operation_time, latitude, longitude, geohash, camera_location, sensor_type, created_at, \n",
    "    bundle, gps_can_data__json, weather_summary__json, group_id\n",
    "FROM image_jupiter \n",
    "WHERE \"hard_drive_name\" IN ('JUPD-172_2023-6-28', 'JUPD-173_2023-6-28', 'JUPD-174_2023-6-28')\n",
    "\"\"\"\n",
    "start = time.time()\n",
    "df = athena.get_df(query)\n",
    "end = time.time()\n",
    "print(end - start)"
   ]
  },
  {
   "cell_type": "code",
   "execution_count": null,
   "id": "86d5d672",
   "metadata": {},
   "outputs": [],
   "source": [
    "try:\n",
    "    rev1_df = pd.read_parquet('/home/alexli/data/all_hitchiker_images/rev1_df.parquet')\n",
    "except FileNotFoundError:\n",
    "    print(\"file not found\")\n",
    "    query = f\"\"\"\n",
    "    SELECT id, hard_drive_name, robot_name, collected_on,\n",
    "        bag_name, operating_field_name, operation_time, latitude, longitude, geohash, camera_location, sensor_type, created_at, \n",
    "        bundle, gps_can_data__json, weather_summary__json, group_id\n",
    "    FROM image_jupiter \n",
    "    WHERE LENGTH(robot_name) = 9 AND SUBSTR(robot_name, 7, 9) IN ('619', '646', '708', '710', '733', '735', '750', '756', '768', '799', '812', '817', '842', '869', '872', '909') AND \"collected_on\" BETWEEN TIMESTAMP'2023-03-15 0:00:00' AND TIMESTAMP'2023-05-15 0:00:00'\n",
    "    \"\"\"\n",
    "#--AND camera_location IN {left_tractor_cameras}\n",
    "    start = time.time()\n",
    "    rev1_df = athena.get_df(query)\n",
    "    end = time.time()\n",
    "    print(end - start)\n",
    "    rev1_df.to_parquet('/home/alexli/data/all_hitchiker_images/rev1_df.parquet', index=False)"
   ]
  },
  {
   "cell_type": "code",
   "execution_count": 10,
   "id": "cb456f61",
   "metadata": {},
   "outputs": [
    {
     "name": "stdout",
     "output_type": "stream",
     "text": [
      "(602995, 17)\n"
     ]
    },
    {
     "name": "stdout",
     "output_type": "stream",
     "text": [
      "(602007, 17)\n"
     ]
    }
   ],
   "source": [
    "# df = pd.concat([rev1_df, halo_df], ignore_index=True)\n",
    "# print(set(df.camera_location))\n",
    "# # drop invalid GPS\n",
    "# df = df[(df.geohash != '7zzzzzzzzzzz')].copy()\n",
    "# print(set(df.camera_location))\n",
    "print(df.shape)\n",
    "# drop no speed data\n",
    "def valid_speed(x):\n",
    "    load = json.loads(x)\n",
    "    return 'speed' in load and 200 > load['speed'] > -200 #remove NaN or impossible values\n",
    "df = df[df['gps_can_data__json'].apply(valid_speed)]\n",
    "print(df.shape)"
   ]
  },
  {
   "cell_type": "code",
   "execution_count": 11,
   "id": "b204e70e",
   "metadata": {},
   "outputs": [],
   "source": [
    "def get_day(collect_str):\n",
    "    t = pd.Timestamp(collect_str)\n",
    "    return t.strftime(\"%m/%d\")\n",
    "def get_minute(collect_str):\n",
    "    t = pd.Timestamp(collect_str)\n",
    "    return t.strftime(\"%m/%d %H:%M\")\n",
    "\n",
    "df['day'] = df['collected_on'].map(get_day)\n",
    "df['minute'] = df['collected_on'].map(get_minute)\n",
    "df['speed_kph'] = df['gps_can_data__json'].map(lambda x:(json.loads(x)['speed']))\n",
    "# df.to_parquet('/home/alexli/data/all_hitchiker_images/full_df.parquet', index=False)"
   ]
  },
  {
   "cell_type": "code",
   "execution_count": 12,
   "id": "709265df",
   "metadata": {},
   "outputs": [],
   "source": [
    "bidirectional_dict = {}\n",
    "for pair_dict in ALL_CAMERA_PAIRS_LIST:\n",
    "    for k, v in pair_dict.items():\n",
    "        bidirectional_dict[k] = v\n",
    "        bidirectional_dict[v] = k\n",
    "\n",
    "def make_dataset(from_df, name, description, pairs=[bidirectional_dict]) -> None:\n",
    "    imids = list(from_df['id'])\n",
    "    # print(len(imids))\n",
    "    from_df.to_parquet(f'/home/alexli/data/all_hitchiker_images/{name}.parquet', index=False)\n",
    "    desc = f\"{description} ({len(from_df['id'])} images)\"\n",
    "    # imageids_to_dataset_fast(from_df, name, desc,\n",
    "    #                          camera_pairs_list=pairs, camera_pair_df=df)\n",
    "    Dataset.create(\n",
    "        name=name,\n",
    "        description=desc,\n",
    "        kind=Dataset.KIND_IMAGE,\n",
    "        image_ids=imids,\n",
    "    )\n",
    "\n",
    "def make_dataset_slow(from_df, name, description) -> None:\n",
    "    imids = list(from_df['id'])\n",
    "    desc = f\"{description} ({len(from_df['id'])} images)\"\n",
    "    print(len(imids))\n",
    "    from_df.to_parquet(f'/home/alexli/data/all_hitchiker_images/{name}.parquet', index=False)\n",
    "    imageids_to_dataset(imids, name, dataset_kind='image',\n",
    "                             dataset_description=desc)\n"
   ]
  },
  {
   "attachments": {},
   "cell_type": "markdown",
   "id": "85f2ab12",
   "metadata": {},
   "source": [
    "# Sample a bunch of random images"
   ]
  },
  {
   "cell_type": "code",
   "execution_count": 16,
   "id": "217f2a49",
   "metadata": {},
   "outputs": [],
   "source": [
    "df=df.sample(frac=1)"
   ]
  },
  {
   "cell_type": "code",
   "execution_count": 18,
   "id": "f10ae2a7",
   "metadata": {},
   "outputs": [
    {
     "name": "stdout",
     "output_type": "stream",
     "text": [
      "70486\n"
     ]
    }
   ],
   "source": [
    "stratified_df = df.groupby(['robot_name', 'camera_location', 'minute']).head(4)\n",
    "print(len(stratified_df))"
   ]
  },
  {
   "cell_type": "code",
   "execution_count": 28,
   "id": "3c6184b9",
   "metadata": {},
   "outputs": [
    {
     "data": {
      "text/plain": [
       "{'I01',\n",
       " 'I02',\n",
       " 'I03',\n",
       " 'I04',\n",
       " 'I05',\n",
       " 'I06',\n",
       " 'I07',\n",
       " 'I08',\n",
       " 'T01',\n",
       " 'T02',\n",
       " 'T03',\n",
       " 'T04',\n",
       " 'T05',\n",
       " 'T06',\n",
       " 'T07',\n",
       " 'T08',\n",
       " 'T09',\n",
       " 'T10',\n",
       " 'T11',\n",
       " 'T12',\n",
       " 'T13',\n",
       " 'T14',\n",
       " 'T15',\n",
       " 'T16',\n",
       " 'front-center-left',\n",
       " 'front-center-right',\n",
       " 'front-left-left',\n",
       " 'front-left-right',\n",
       " 'front-right-left',\n",
       " 'front-right-right'}"
      ]
     },
     "execution_count": 28,
     "metadata": {},
     "output_type": "execute_result"
    }
   ],
   "source": [
    "set(stratified_df.camera_location)"
   ]
  },
  {
   "cell_type": "code",
   "execution_count": 20,
   "id": "fbeb0bc3",
   "metadata": {},
   "outputs": [],
   "source": [
    "# stratified_df_tiny = stratified_df.groupby(['camera_location']).head(1)\n",
    "make_dataset(stratified_df, \"hhh_field_data_stratified\", description=\"first 3 hard drives from the field\")"
   ]
  },
  {
   "cell_type": "code",
   "execution_count": null,
   "id": "ecaa4052",
   "metadata": {},
   "outputs": [],
   "source": [
    "# stratified_df_tiny = stratified_df.groupby(['camera_location']).head(1)\n",
    "# make_dataset(stratified_df, \"Spring hitchhiker random\", description=\"Random hitchhiker images from the spring\", pairs=ALL_CAMERA_PAIRS_LIST)\n",
    "# make_dataset_slow(stratified_df, \"Stratefied \", description=\"test only the left cameras imageids\")\n",
    "print(\"DONE MADE DATASET\")"
   ]
  },
  {
   "cell_type": "code",
   "execution_count": null,
   "id": "382bc67a",
   "metadata": {},
   "outputs": [],
   "source": [
    "# from aletheia_dataset_creator.dataset_tools.aletheia_dataset_helpers import imageids_to_dataframe\n",
    "# from aletheia_dataset_creator.config.dataset_config import ALL_CAMERA_PAIRS_LIST, IMAGE_DATASET_COLS, LEFT_CAMERAS\n",
    "\n",
    "# images = imageids_to_dataframe(\n",
    "#                 stratified_df_tiny, fields=IMAGE_DATASET_COLS, camera_location=LEFT_CAMERAS\n",
    "# )"
   ]
  },
  {
   "cell_type": "code",
   "execution_count": 37,
   "id": "b185743a",
   "metadata": {},
   "outputs": [
    {
     "data": {
      "text/plain": [
       "['front-center-left',\n",
       " 'front-left-left',\n",
       " 'front-right-left',\n",
       " 'side-left-left',\n",
       " 'side-right-left',\n",
       " 'rear-left',\n",
       " 'T01',\n",
       " 'T02',\n",
       " 'T05',\n",
       " 'T06',\n",
       " 'T09',\n",
       " 'T10',\n",
       " 'T13',\n",
       " 'T14',\n",
       " 'I01',\n",
       " 'I03',\n",
       " 'I05',\n",
       " 'I07']"
      ]
     },
     "execution_count": 37,
     "metadata": {},
     "output_type": "execute_result"
    }
   ],
   "source": [
    "LEFT_CAMERAS"
   ]
  },
  {
   "cell_type": "code",
   "execution_count": 23,
   "id": "889f9ac7",
   "metadata": {},
   "outputs": [
    {
     "data": {
      "text/plain": [
       "[{'front-center-left': 'front-center-right',\n",
       "  'front-left-left': 'front-left-right',\n",
       "  'front-right-left': 'front-right-right',\n",
       "  'side-left-left': 'side-left-right',\n",
       "  'side-right-left': 'side-right-right',\n",
       "  'rear-left': 'rear-right',\n",
       "  'front-center-right': 'front-center-left',\n",
       "  'front-left-right': 'front-left-left',\n",
       "  'front-right-right': 'front-right-left',\n",
       "  'side-left-right': 'side-left-left',\n",
       "  'side-right-right': 'side-right-left',\n",
       "  'rear-right': 'rear-left'},\n",
       " {'T01': 'T03',\n",
       "  'T02': 'T04',\n",
       "  'T05': 'T07',\n",
       "  'T06': 'T08',\n",
       "  'T09': 'T11',\n",
       "  'T10': 'T12',\n",
       "  'T13': 'T15',\n",
       "  'T14': 'T16'},\n",
       " {'T02': 'T03', 'T06': 'T07', 'T10': 'T11', 'T14': 'T15'},\n",
       " {'I01': 'I02', 'I03': 'I04', 'I05': 'I06', 'I07': 'I08'}]"
      ]
     },
     "execution_count": 23,
     "metadata": {},
     "output_type": "execute_result"
    }
   ],
   "source": [
    "ALL_CAMERA_PAIRS_LIST"
   ]
  },
  {
   "cell_type": "code",
   "execution_count": null,
   "id": "6b16f361",
   "metadata": {},
   "outputs": [],
   "source": []
  }
 ],
 "metadata": {
  "kernelspec": {
   "display_name": "Python 3 (ipykernel)",
   "language": "python",
   "name": "python3"
  },
  "language_info": {
   "codemirror_mode": {
    "name": "ipython",
    "version": 3
   },
   "file_extension": ".py",
   "mimetype": "text/x-python",
   "name": "python",
   "nbconvert_exporter": "python",
   "pygments_lexer": "ipython3",
   "version": "3.10.0"
  }
 },
 "nbformat": 4,
 "nbformat_minor": 5
}
